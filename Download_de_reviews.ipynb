{
  "nbformat": 4,
  "nbformat_minor": 0,
  "metadata": {
    "colab": {
      "name": "Download_de_reviews.ipynb",
      "provenance": [],
      "collapsed_sections": [],
      "authorship_tag": "ABX9TyOsOa91o2XcAkj8/13USfwz",
      "include_colab_link": true
    },
    "kernelspec": {
      "name": "python3",
      "display_name": "Python 3"
    }
  },
  "cells": [
    {
      "cell_type": "markdown",
      "metadata": {
        "id": "view-in-github",
        "colab_type": "text"
      },
      "source": [
        "<a href=\"https://colab.research.google.com/github/marcelounb/BB/blob/master/Download_de_reviews.ipynb\" target=\"_parent\"><img src=\"https://colab.research.google.com/assets/colab-badge.svg\" alt=\"Open In Colab\"/></a>"
      ]
    },
    {
      "cell_type": "markdown",
      "metadata": {
        "id": "1XecTiTf_Mo2"
      },
      "source": [
        "# Baixando da APPStore"
      ]
    },
    {
      "cell_type": "markdown",
      "metadata": {
        "id": "2EqFqaO-9Ece"
      },
      "source": [
        "default.py\n",
        "\n"
      ]
    },
    {
      "cell_type": "code",
      "metadata": {
        "id": "ORWOXmRl80Q4"
      },
      "source": [
        "from enum import IntEnum\n",
        "import re\n",
        "\n",
        "class Sort(IntEnum):\n",
        "    NEWEST = 2\n",
        "    RATING = 3\n",
        "    MOST_RELEVANT = 1\n",
        "\n",
        "class Start:\n",
        "    ID = \"br.com.bb.android\"\n",
        "    LANG = \"pt\"\n",
        "    COUNTRY = \"br\"\n",
        "    COUNT = 199\n",
        "    URL = \"https://play.google.com\"\n",
        "    LAST_UPDATE = None\n",
        "\n",
        "class Regex:\n",
        "    NOT_NUMBER = re.compile(\"[^\\d]\")\n",
        "    SCRIPT = re.compile(\"AF_initDataCallback[\\s\\S]*?<\\/script\")\n",
        "    KEY = re.compile(\"(ds:.*?)'\")\n",
        "    VALUE = re.compile(\"return ([\\s\\S]*?)}}\\);<\\/\")\n",
        "    REVIEWS = re.compile(\"\\)]}'\\n\\n([\\s\\S]+)\")"
      ],
      "execution_count": 24,
      "outputs": []
    },
    {
      "cell_type": "markdown",
      "metadata": {
        "id": "E7NtsNN29age"
      },
      "source": [
        "element.py"
      ]
    },
    {
      "cell_type": "code",
      "metadata": {
        "id": "LQud86SS9cFl"
      },
      "source": [
        "from datetime import datetime\n",
        "# from default import Regex\n",
        "\n",
        "def nested_lookup(source, indexes):\n",
        "    if len(indexes) == 1:\n",
        "        return source[indexes[0]]\n",
        "    return nested_lookup(source[indexes[0]], indexes[1::])\n",
        "\n",
        "class ElementSpec:\n",
        "    def __init__(self, extraction_map, post_processor=None, post_processor_except_fallback=None):\n",
        "        self.extraction_map = extraction_map\n",
        "        self.post_processor = post_processor\n",
        "        self.post_processor_except_fallback = post_processor_except_fallback\n",
        "\n",
        "    def extract_content(self, source):\n",
        "        try:\n",
        "            result = nested_lookup(source, self.extraction_map)\n",
        "        except (KeyError, IndexError, TypeError):\n",
        "            result = None\n",
        "\n",
        "        if result is not None and self.post_processor is not None:\n",
        "            try:\n",
        "                result = self.post_processor(result)\n",
        "            except:\n",
        "                result = self.post_processor_except_fallback\n",
        "\n",
        "        return result\n",
        "\n",
        "\n",
        "class ElementSpecs:\n",
        "\n",
        "    Review = {\n",
        "        \"id\": ElementSpec([0]),\n",
        "        \"userName\": ElementSpec([1, 0]),\n",
        "        \"userImage\": ElementSpec([1, 1, 3, 2]),\n",
        "        \"review\": ElementSpec([4]),\n",
        "        \"score\": ElementSpec([2]),\n",
        "        \"thumbsUpCount\": ElementSpec([6]),\n",
        "        \"appVersion\": ElementSpec([10]),\n",
        "        \"date\": ElementSpec([5, 0], lambda v: datetime.fromtimestamp(v)),\n",
        "        \"reply\": ElementSpec([7, 1]),\n",
        "        \"replyDate\": ElementSpec([7, 2, 0], lambda v: datetime.fromtimestamp(v)),\n",
        "    }"
      ],
      "execution_count": 25,
      "outputs": []
    },
    {
      "cell_type": "markdown",
      "metadata": {
        "id": "0DiCmQxi-DgS"
      },
      "source": [
        "payload.py"
      ]
    },
    {
      "cell_type": "code",
      "metadata": {
        "id": "QWHcOgpQ-DId"
      },
      "source": [
        "from abc import abstractmethod\n",
        "from urllib.parse import quote\n",
        "# from default import Start, Sort\n",
        "\n",
        "class URLFormat:\n",
        "    @abstractmethod\n",
        "    def build(self, *args):\n",
        "        raise NotImplementedError\n",
        "\n",
        "\n",
        "class Formats:\n",
        "    class _Reviews(URLFormat):\n",
        "        URL_FORMAT = \"{}/_/PlayStoreUi/data/batchexecute?hl={{lang}}&gl={{country}}\".format(\n",
        "            Start.URL\n",
        "        )\n",
        "\n",
        "        def build(self, lang, country):\n",
        "            return self.URL_FORMAT.format(lang=lang, country=country)\n",
        "\n",
        "    class _ReviewPayload(URLFormat):\n",
        "        PAYLOAD_FORMAT_FOR_FIRST_PAGE = 'f.req=[[[\"UsvDTd\",\"[null,null,[2,{sort},[{count},null,null],null,[null,{score}]],[\\\\\"{app_id}\\\\\",7]]\",null,\"generic\"]]]'\n",
        "        PAYLOAD_FORMAT_FOR_PAGINATED_PAGE = 'f.req=[[[\"UsvDTd\",\"[null,null,[2,{sort},[{count},null,\\\\\"{pagination_token}\\\\\"],null,[null,{score}]],[\\\\\"{app_id}\\\\\",7]]\",null,\"generic\"]]]'\n",
        "\n",
        "        def build(self, app_id, sort, count, filter_score_with, pagination_token):\n",
        "            if pagination_token is not None:\n",
        "                result = self.PAYLOAD_FORMAT_FOR_PAGINATED_PAGE.format(\n",
        "                    app_id=app_id,\n",
        "                    sort=sort,\n",
        "                    count=count,\n",
        "                    score=filter_score_with,\n",
        "                    pagination_token=pagination_token,\n",
        "                )\n",
        "            else:\n",
        "                result = self.PAYLOAD_FORMAT_FOR_FIRST_PAGE.format(\n",
        "                    app_id=app_id, sort=sort, score=filter_score_with, count=count\n",
        "                )\n",
        "            return quote(result, safe='=').encode()\n",
        "\n",
        "    Reviews = _Reviews()\n",
        "    ReviewPayload = _ReviewPayload()"
      ],
      "execution_count": 26,
      "outputs": []
    },
    {
      "cell_type": "markdown",
      "metadata": {
        "id": "MPuMDPR4-cAS"
      },
      "source": [
        "exceptions.py"
      ]
    },
    {
      "cell_type": "code",
      "metadata": {
        "id": "dBteJVlH-duK"
      },
      "source": [
        "class GooglePlayScraperException(Exception):\n",
        "    pass\n",
        "\n",
        "\n",
        "class ContentNotFoundException(GooglePlayScraperException):\n",
        "    pass\n",
        "\n",
        "\n",
        "class InvalidURLError(GooglePlayScraperException):\n",
        "    pass\n",
        "\n",
        "\n",
        "class NotFoundError(GooglePlayScraperException):\n",
        "    pass\n",
        "\n",
        "\n",
        "class ExtraHTTPError(GooglePlayScraperException):\n",
        "    pass"
      ],
      "execution_count": 27,
      "outputs": []
    },
    {
      "cell_type": "markdown",
      "metadata": {
        "id": "RjkA7cfK-QGj"
      },
      "source": [
        "request.py\n"
      ]
    },
    {
      "cell_type": "code",
      "metadata": {
        "id": "-5JXgEMi-R7X"
      },
      "source": [
        "# from exceptions import NotFoundError, ExtraHTTPError\n",
        "\n",
        "try:\n",
        "    from urllib.error import HTTPError\n",
        "except ImportError:\n",
        "    from urllib2 import HTTPError\n",
        "\n",
        "try:\n",
        "    from urllib.request import urlopen, Request\n",
        "except ImportError:\n",
        "    from urllib2 import urlopen, Request\n",
        "\n",
        "\n",
        "def _urlopen(obj):\n",
        "    try:\n",
        "        resp = urlopen(obj)\n",
        "    except HTTPError as e:\n",
        "        if e.code == 404:\n",
        "            raise NotFoundError(\"App not found(404).\")\n",
        "        else:\n",
        "            raise ExtraHTTPError(\n",
        "                \"App not found. Status code {} returned.\".format(e.code)\n",
        "            )\n",
        "\n",
        "    return resp.read().decode(\"UTF-8\")\n",
        "\n",
        "\n",
        "def post(url, data, headers):\n",
        "    return _urlopen(Request(url, data=data, headers=headers))\n",
        "\n",
        "\n",
        "def get(url):\n",
        "    return _urlopen(url)"
      ],
      "execution_count": 28,
      "outputs": []
    },
    {
      "cell_type": "markdown",
      "metadata": {
        "id": "jLxBzu6t9LE8"
      },
      "source": [
        "reviews.py"
      ]
    },
    {
      "cell_type": "code",
      "metadata": {
        "id": "ZgAeMdRs88nY"
      },
      "source": [
        "'''\n",
        "Codigo adaptado de https://github.com/JoMingyu/google-play-scraper\n",
        "'''\n",
        "\n",
        "import json\n",
        "# from default import Start, Sort, Regex\n",
        "# from element import ElementSpecs\n",
        "# from payload import Formats\n",
        "# from request import post\n",
        "\n",
        "\n",
        "def fetch_review_items(url, app_id, sort, count, filter_score_with, pagination_token):\n",
        "    dom = post(\n",
        "        url,\n",
        "        Formats.ReviewPayload.build(\n",
        "            app_id,\n",
        "            sort,\n",
        "            count,\n",
        "            \"null\" if filter_score_with is None else filter_score_with,\n",
        "            pagination_token,\n",
        "        ),\n",
        "        {\"content-type\": \"application/x-www-form-urlencoded\"},\n",
        "    )\n",
        "\n",
        "    match = json.loads(Regex.REVIEWS.findall(dom)[0])\n",
        "\n",
        "    return json.loads(match[0][2])[0], json.loads(match[0][2])[-1][-1]\n",
        "\n",
        "\n",
        "def reviews(app_id, lang=Start.LANG, country=Start.COUNTRY, sort=Sort.NEWEST, count=Start.COUNT, filter_score_with=None, continuation_token=None, last_update=None, last_id_review=None):\n",
        "    \n",
        "    if continuation_token is not None:\n",
        "        token = continuation_token        \n",
        "    else:\n",
        "        token = None\n",
        "\n",
        "    if count < 200:\n",
        "        _count = count\n",
        "    else:\n",
        "        _count = 199\n",
        "\n",
        "    url = Formats.Reviews.build(lang=lang, country=country)\n",
        "\n",
        "    result = []\n",
        "    cont = _count\n",
        "    early_stop = False\n",
        "\n",
        "    while True:\n",
        "        review_items, token = fetch_review_items(\n",
        "            url, app_id, sort, _count, filter_score_with, token\n",
        "        )\n",
        "\n",
        "        for review in review_items:\n",
        "            review_dict = {}\n",
        "\n",
        "            for k, spec in ElementSpecs.Review.items():\n",
        "                review_dict[k] = spec.extract_content(review)\n",
        "                if k == 3:\n",
        "                    pass\n",
        "\n",
        "            if last_update != None and review_dict['date'] < last_update:\n",
        "                early_stop = True\n",
        "                break\n",
        "\n",
        "            result.append(review_dict)\n",
        "\n",
        "        if early_stop:\n",
        "            break\n",
        "\n",
        "        remaining_count_of_reviews_to_fetch = count - len(result)\n",
        "\n",
        "        if remaining_count_of_reviews_to_fetch == 0:\n",
        "            break\n",
        "\n",
        "        if isinstance(token, list):\n",
        "            break\n",
        "\n",
        "        if remaining_count_of_reviews_to_fetch < 200:\n",
        "            _count = remaining_count_of_reviews_to_fetch\n",
        "        \n",
        "\n",
        "        print('Download de', cont, 'reviews ate agora!', app_id)\n",
        "        cont+=_count\n",
        "\n",
        "    return (\n",
        "        result,\n",
        "        token\n",
        "    )"
      ],
      "execution_count": 29,
      "outputs": []
    },
    {
      "cell_type": "markdown",
      "metadata": {
        "id": "joZO4cpm9Hcb"
      },
      "source": [
        "main.py"
      ]
    },
    {
      "cell_type": "code",
      "metadata": {
        "id": "wtLvSmFe8kgC",
        "outputId": "0c971c84-2f11-497e-ba9d-12d35b0d678b",
        "colab": {
          "base_uri": "https://localhost:8080/"
        }
      },
      "source": [
        "#!/usr/bin/env python\n",
        "# -*- coding: utf-8 -*- \n",
        "import pandas as pd\n",
        "# from reviews import reviews\n",
        "from datetime import datetime\n",
        "\n",
        "\n",
        "app_id = Start.ID\n",
        "count = 5000000\n",
        "##Altere a data\n",
        "date = '10-11-2020 08:00:00'\n",
        "###Fim\n",
        "formatter =  '%d-%m-%Y %H:%M:%S'\n",
        "last_update = datetime.strptime(date, formatter)\n",
        "\n",
        "result, token = reviews(\n",
        "    app_id=app_id,\n",
        "    count=count, \n",
        "    last_update=last_update\n",
        ")\n",
        "\n",
        "df = pd.DataFrame(result)\n",
        "df.to_csv('data.csv',index=False)\n",
        "\n",
        "writer = pd.ExcelWriter(\"baixado_da_APPStore.xlsx\")\n",
        "df.to_excel(writer, index=False)\n",
        "writer.save()\n"
      ],
      "execution_count": 30,
      "outputs": [
        {
          "output_type": "stream",
          "text": [
            "Download de 199 reviews ate agora! br.com.bb.android\n",
            "Download de 398 reviews ate agora! br.com.bb.android\n",
            "Download de 597 reviews ate agora! br.com.bb.android\n"
          ],
          "name": "stdout"
        }
      ]
    },
    {
      "cell_type": "code",
      "metadata": {
        "id": "LEw58PfFDLYQ",
        "outputId": "8af27c5f-8921-44ae-97f1-790ba89968ce",
        "colab": {
          "base_uri": "https://localhost:8080/",
          "height": 475
        }
      },
      "source": [
        "df2 = pd.DataFrame(columns=['Responsável', 'Natureza', 'Classificação', 'Produtos/Serviços', 'Detalhamento', 'Descrição do Problema', 'Produtos/Serviços 2', 'Detalhamento 2', 'Descrição do Problema 2', 'Produtos/Serviços 3', 'Detalhamento 3', 'Descrição do Problema 3'])\n",
        "df2 = df2.append(df)\n",
        "df2.Responsável = 'Modelo_IA'\n",
        "df2.head(3)"
      ],
      "execution_count": 31,
      "outputs": [
        {
          "output_type": "execute_result",
          "data": {
            "text/html": [
              "<div>\n",
              "<style scoped>\n",
              "    .dataframe tbody tr th:only-of-type {\n",
              "        vertical-align: middle;\n",
              "    }\n",
              "\n",
              "    .dataframe tbody tr th {\n",
              "        vertical-align: top;\n",
              "    }\n",
              "\n",
              "    .dataframe thead th {\n",
              "        text-align: right;\n",
              "    }\n",
              "</style>\n",
              "<table border=\"1\" class=\"dataframe\">\n",
              "  <thead>\n",
              "    <tr style=\"text-align: right;\">\n",
              "      <th></th>\n",
              "      <th>Responsável</th>\n",
              "      <th>Natureza</th>\n",
              "      <th>Classificação</th>\n",
              "      <th>Produtos/Serviços</th>\n",
              "      <th>Detalhamento</th>\n",
              "      <th>Descrição do Problema</th>\n",
              "      <th>Produtos/Serviços 2</th>\n",
              "      <th>Detalhamento 2</th>\n",
              "      <th>Descrição do Problema 2</th>\n",
              "      <th>Produtos/Serviços 3</th>\n",
              "      <th>Detalhamento 3</th>\n",
              "      <th>Descrição do Problema 3</th>\n",
              "      <th>id</th>\n",
              "      <th>userName</th>\n",
              "      <th>userImage</th>\n",
              "      <th>review</th>\n",
              "      <th>score</th>\n",
              "      <th>thumbsUpCount</th>\n",
              "      <th>appVersion</th>\n",
              "      <th>date</th>\n",
              "      <th>reply</th>\n",
              "      <th>replyDate</th>\n",
              "    </tr>\n",
              "  </thead>\n",
              "  <tbody>\n",
              "    <tr>\n",
              "      <th>0</th>\n",
              "      <td>Modelo_IA</td>\n",
              "      <td>NaN</td>\n",
              "      <td>NaN</td>\n",
              "      <td>NaN</td>\n",
              "      <td>NaN</td>\n",
              "      <td>NaN</td>\n",
              "      <td>NaN</td>\n",
              "      <td>NaN</td>\n",
              "      <td>NaN</td>\n",
              "      <td>NaN</td>\n",
              "      <td>NaN</td>\n",
              "      <td>NaN</td>\n",
              "      <td>gp:AOqpTOGgPDnePRz3YJWFDy_O7W7qqwkFUjIKH0wAKr4...</td>\n",
              "      <td>Renara Lima</td>\n",
              "      <td>https://play-lh.googleusercontent.com/a-/AOh14...</td>\n",
              "      <td>amo o Banco BB prático rápido . nunca travou</td>\n",
              "      <td>5.0</td>\n",
              "      <td>0.0</td>\n",
              "      <td>7.30.5.1</td>\n",
              "      <td>2020-11-11 11:35:19</td>\n",
              "      <td>None</td>\n",
              "      <td>NaT</td>\n",
              "    </tr>\n",
              "    <tr>\n",
              "      <th>1</th>\n",
              "      <td>Modelo_IA</td>\n",
              "      <td>NaN</td>\n",
              "      <td>NaN</td>\n",
              "      <td>NaN</td>\n",
              "      <td>NaN</td>\n",
              "      <td>NaN</td>\n",
              "      <td>NaN</td>\n",
              "      <td>NaN</td>\n",
              "      <td>NaN</td>\n",
              "      <td>NaN</td>\n",
              "      <td>NaN</td>\n",
              "      <td>NaN</td>\n",
              "      <td>gp:AOqpTOE-7G3Q0SnWw4betPFoPWqPe6RC-gDaBi64g6x...</td>\n",
              "      <td>Erica andrade</td>\n",
              "      <td>https://play-lh.googleusercontent.com/a-/AOh14...</td>\n",
              "      <td>até no momento não tenho nada a reclamar ,apli...</td>\n",
              "      <td>5.0</td>\n",
              "      <td>0.0</td>\n",
              "      <td>7.30.5.1</td>\n",
              "      <td>2020-11-11 11:33:31</td>\n",
              "      <td>None</td>\n",
              "      <td>NaT</td>\n",
              "    </tr>\n",
              "    <tr>\n",
              "      <th>2</th>\n",
              "      <td>Modelo_IA</td>\n",
              "      <td>NaN</td>\n",
              "      <td>NaN</td>\n",
              "      <td>NaN</td>\n",
              "      <td>NaN</td>\n",
              "      <td>NaN</td>\n",
              "      <td>NaN</td>\n",
              "      <td>NaN</td>\n",
              "      <td>NaN</td>\n",
              "      <td>NaN</td>\n",
              "      <td>NaN</td>\n",
              "      <td>NaN</td>\n",
              "      <td>gp:AOqpTOFFBqUR7nogg4hatbhJX7Vh0Aw2bw3_xp-EXSw...</td>\n",
              "      <td>Angerliane Jordão</td>\n",
              "      <td>https://play-lh.googleusercontent.com/a-/AOh14...</td>\n",
              "      <td>O App apresenta algumas falhas... não consigo ...</td>\n",
              "      <td>2.0</td>\n",
              "      <td>0.0</td>\n",
              "      <td>7.30.5.1</td>\n",
              "      <td>2020-11-11 11:33:19</td>\n",
              "      <td>None</td>\n",
              "      <td>NaT</td>\n",
              "    </tr>\n",
              "  </tbody>\n",
              "</table>\n",
              "</div>"
            ],
            "text/plain": [
              "  Responsável Natureza Classificação  ...                date reply replyDate\n",
              "0   Modelo_IA      NaN           NaN  ... 2020-11-11 11:35:19  None       NaT\n",
              "1   Modelo_IA      NaN           NaN  ... 2020-11-11 11:33:31  None       NaT\n",
              "2   Modelo_IA      NaN           NaN  ... 2020-11-11 11:33:19  None       NaT\n",
              "\n",
              "[3 rows x 22 columns]"
            ]
          },
          "metadata": {
            "tags": []
          },
          "execution_count": 31
        }
      ]
    }
  ]
}