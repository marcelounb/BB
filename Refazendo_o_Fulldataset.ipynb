{
  "nbformat": 4,
  "nbformat_minor": 0,
  "metadata": {
    "colab": {
      "name": "Refazendo o Fulldataset.ipynb",
      "provenance": [],
      "collapsed_sections": [],
      "authorship_tag": "ABX9TyNy0Vm3CvOSVEeIOFPRG9rR",
      "include_colab_link": true
    },
    "kernelspec": {
      "name": "python3",
      "display_name": "Python 3"
    }
  },
  "cells": [
    {
      "cell_type": "markdown",
      "metadata": {
        "id": "view-in-github",
        "colab_type": "text"
      },
      "source": [
        "<a href=\"https://colab.research.google.com/github/marcelounb/BB/blob/master/Refazendo_o_Fulldataset.ipynb\" target=\"_parent\"><img src=\"https://colab.research.google.com/assets/colab-badge.svg\" alt=\"Open In Colab\"/></a>"
      ]
    },
    {
      "cell_type": "markdown",
      "metadata": {
        "id": "UNhqfYaprYoi"
      },
      "source": [
        "# Bibliotecas e métodos"
      ]
    },
    {
      "cell_type": "code",
      "metadata": {
        "colab": {
          "base_uri": "https://localhost:8080/"
        },
        "id": "kkcgiz6aPwDB",
        "outputId": "77a4441e-7f4d-42cc-ea86-4c7aa5db71e7"
      },
      "source": [
        "!pip install unidecode"
      ],
      "execution_count": null,
      "outputs": [
        {
          "output_type": "stream",
          "text": [
            "Requirement already satisfied: unidecode in /usr/local/lib/python3.6/dist-packages (1.1.2)\n"
          ],
          "name": "stdout"
        }
      ]
    },
    {
      "cell_type": "code",
      "metadata": {
        "id": "9By45bQDKSsa"
      },
      "source": [
        "import pandas as pd\r\n",
        "import numpy as np\r\n",
        "import re\r\n",
        "from unidecode import unidecode"
      ],
      "execution_count": null,
      "outputs": []
    },
    {
      "cell_type": "code",
      "metadata": {
        "id": "DTtpeG2kPLqi"
      },
      "source": [
        "def reduzir_texto(frases):\r\n",
        "  frase = ''\r\n",
        "  for item in str(frases).split():\r\n",
        "    if str(item).lower() not in ['a', 'o', 'as', 'os', 'da', 'do', 'das', 'dos', 'e', 'no', 'na', 'em', 'i']:  # retira os artigos e conjuncao 'e'\r\n",
        "      if item[-1] in ['.', ',', '!', ';' ]:\r\n",
        "        frase += str(unidecode(item[0:-1])) +' '  # retira pontuacao/acentuacao\r\n",
        "      else:\r\n",
        "        frase += str(unidecode(item)) +' '\r\n",
        "  return frase[:-1].lower()\r\n",
        "\r\n",
        "\r\n",
        "\r\n",
        "def reduzir_review(review):\r\n",
        "  review_reduzida = []\r\n",
        "  for item in review:\r\n",
        "    review_reduzida.append(reduzir_texto(item))\r\n",
        "  return review_reduzida\r\n",
        "\r\n",
        "\r\n",
        "\r\n",
        "def encontrar(review, array_termos):\r\n",
        "  for item in array_termos:\r\n",
        "    if item.lower() in review.lower():\r\n",
        "      return 1\r\n",
        "  return 0\r\n",
        "\r\n",
        "\r\n",
        "\r\n",
        "def encontrar2(review, array_termos):\r\n",
        "  for palavra in review.split():\r\n",
        "    for item in array_termos:\r\n",
        "      if item.lower() in palavra.lower():\r\n",
        "        return 1\r\n",
        "  return 0\r\n",
        "\r\n",
        "\r\n",
        "\r\n",
        "def identifica_atributo(dataset, reviews, array_termos, atributo): \r\n",
        "  for i in range(len(dataset)):\r\n",
        "    dataset[atributo][i] = encontrar(review=reviews[i],array_termos=array_termos)\r\n",
        "  print(atributo + ' foi analizado e atualizado')"
      ],
      "execution_count": null,
      "outputs": []
    },
    {
      "cell_type": "markdown",
      "metadata": {
        "id": "8mYQuTOvrPul"
      },
      "source": [
        "# listas de palavras:"
      ]
    },
    {
      "cell_type": "code",
      "metadata": {
        "id": "GPpaOiOsPd1N"
      },
      "source": [
        "lista_alivio_de_numerario = r'alivio [a-z]* *numerario'\r\n",
        "lista_aplicativo = r'app|aplicati'\r\n",
        "lista_app_ourocard = r'ap[p licativo]* ourocard'\r\n",
        "lista_assinatura_digital = r'ass[inat]* digita'\r\n",
        "lista_atendimento = r'liga|e[-]*mai[ul]|bot|chat|robo|fila|telemark|liguei|0800|telefon|central'\r\n",
        "lista_auxilio_emergencial = r'aux[xilio]* emergencial'\r\n",
        "lista_bb_codeqr_code = r'bbcode|bb code|qrcode|qr code'\r\n",
        "lista_bb_crediario = r'crediario'\r\n",
        "lista_bb_internacional = r'toquio|tokio|nova iorque|iorke|new york|miami|americas|austria|espanha|portugal|paris|lisboa|italia|paraguai|londres'\r\n",
        "lista_bb_video = []\r\n",
        "lista_bilhete_unico_recarga = r'bilhete unico'\r\n",
        "lista_biometria = r'biometri|reconh[ecimento]* fac|reconhec.* fac[iale]'\r\n",
        "lista_boletos = r'bolet'\r\n",
        "lista_cadastro = []\r\n",
        "lista_câmbio = r'dolar|dollar|euro|libra|cambio'\r\n",
        "lista_capitalizacao = []\r\n",
        "lista_cartao = r'cart[aooes]|ourocard|livelo|anuidade|visa|master|saraiva|milhas|milhagem|smiles|multiplus|nanquim|itaucard'\r\n",
        "lista_central_de_senhas = []\r\n",
        "lista_cheques = r'cheque'\r\n",
        "lista_cobranca = []\r\n",
        "lista_comprovantes = r'comprovante'\r\n",
        "lista_consorcio = r'd.. [um ]*lance|consorcio|carta de credito'\r\n",
        "lista_conta_corrente_pf = []\r\n",
        "lista_conta_corrente_pj = []\r\n",
        "lista_conta_facil = r'conta *faci'\r\n",
        "lista_conta_salario = r'conta salario'\r\n",
        "lista_conta_universitaria = r'conta universita'\r\n",
        "lista_constestacoes = []\r\n",
        "lista_contracheque = r'contracheque|olerite'\r\n",
        "lista_debito_automatico = []\r\n",
        "lista_desbloqueio_de_conta = []\r\n",
        "lista_depositos = []\r\n",
        "lista_deposito_de_cheque = []\r\n",
        "lista_deposito_judicial = []\r\n",
        "lista_empresa = []\r\n",
        "lista_emprestimos = []\r\n",
        "lista_extratos = r'e[sx]trato'\r\n",
        "lista_fale_com_seu_gerente = []\r\n",
        "lista_dotz = r'dot[sz]'\r\n",
        "lista_fgts = r'fgts'\r\n",
        "lista_fies = r'fies'\r\n",
        "lista_financiamento_de_veiculo = []\r\n",
        "lista_financiamento_imobiliario = []\r\n",
        "lista_google_pay = r'google pay|android pay|google store'\r\n",
        "lista_inss = r'inss'\r\n",
        "lista_investimentos = []\r\n",
        "lista_irpf = []\r\n",
        "lista_lancamento_futuro = []\r\n",
        "lista_leasing = []\r\n",
        "lista_leitor_de_cartao = []\r\n",
        "lista_leitor_de_codigo_de_barra = []\r\n",
        "lista_liberacoes_seguranca = []\r\n",
        "lista_limites_seguranca = []\r\n",
        "lista_limites_de_credito = []\r\n",
        "lista_marketing_digital = []\r\n",
        "lista_minhas_financas = []\r\n",
        "lista_notificacoes = []\r\n",
        "lista_pagamento_de_salario = []\r\n",
        "lista_pagamentos = []\r\n",
        "lista_pagar_ou_receber = []\r\n",
        "lista_pedido_de_cartao = []\r\n",
        "lista_pendências = []\r\n",
        "lista_pis_pasep = r' pis|pasep'\r\n",
        "lista_pix = r'pix'\r\n",
        "lista_portabilidade = []\r\n",
        "lista_poupanca = []\r\n",
        "lista_precatorio = []\r\n",
        "lista_previdência = []\r\n",
        "lista_prova_de_vida = []\r\n",
        "lista_recargas = []\r\n",
        "lista_renegociacao_de_divida = []\r\n",
        "lista_saldos = []\r\n",
        "lista_saques = []\r\n",
        "lista_seguros = []\r\n",
        "lista_selfie = []\r\n",
        "lista_senhas = []\r\n",
        "lista_senha_de_atendimento = []\r\n",
        "lista_spcserasa = []\r\n",
        "lista_taa = []\r\n",
        "lista_tarifas = []\r\n",
        "lista_taxa_de_juro = []\r\n",
        "lista_transferências = []\r\n",
        "lista_transferência_de_limite = []\r\n",
        "lista_upgrade_conta_facil = []\r\n",
        "lista_walletcarteira_bb = []\r\n",
        "lista_web_aapfaapj = []"
      ],
      "execution_count": null,
      "outputs": []
    },
    {
      "cell_type": "markdown",
      "metadata": {
        "id": "VZhcK6O7rU2G"
      },
      "source": [
        "# Programa"
      ]
    },
    {
      "cell_type": "code",
      "metadata": {
        "id": "k8nmYXZfKCPJ"
      },
      "source": [
        "path = \"/content/fulldataset_IA20_Marcelo.xlsx\"\r\n",
        "dataset = pd.read_excel(path, sheet_name=0, header=0)\r\n",
        "dataset = dataset.fillna(0)"
      ],
      "execution_count": null,
      "outputs": []
    },
    {
      "cell_type": "code",
      "metadata": {
        "id": "GBRiroMMdjM9"
      },
      "source": [
        "reviews = reduzir_review(dataset['review'])"
      ],
      "execution_count": null,
      "outputs": []
    },
    {
      "cell_type": "code",
      "metadata": {
        "colab": {
          "base_uri": "https://localhost:8080/"
        },
        "id": "HkVBPzuiCfC4",
        "outputId": "81079064-cacd-4d04-fabf-7df606d5ed86"
      },
      "source": [
        "identifica_atributo(dataset, reviews, lista_alivio_de_numerario, 'Alívio de Numerário')\r\n",
        "identifica_atributo(dataset, reviews, lista_aplicativo, 'Aplicativo')\r\n",
        "identifica_atributo(dataset, reviews, lista_app_ourocard, 'App ourocard')\r\n",
        "identifica_atributo(dataset, reviews, lista_assinatura_digital, 'Assinatura Digital')\r\n",
        "identifica_atributo(dataset, reviews, lista_atendimento, 'Atendimento')\r\n",
        "identifica_atributo(dataset, reviews, lista_auxilio_emergencial, 'Auxílio emergencial')\r\n",
        "identifica_atributo(dataset, reviews, lista_bb_codeqr_code, 'BB Code/QR Code')\r\n",
        "identifica_atributo(dataset, reviews, lista_bb_crediario, 'BB Crediário')\r\n",
        "identifica_atributo(dataset, reviews, lista_bb_internacional, 'BB Internacional')\r\n",
        "identifica_atributo(dataset, reviews, lista_bb_video, 'BB Vídeo')\r\n",
        "identifica_atributo(dataset, reviews, lista_bilhete_unico_recarga, 'Bilhete único - recarga')\r\n",
        "identifica_atributo(dataset, reviews, lista_biometria, 'Biometria')\r\n",
        "identifica_atributo(dataset, reviews, lista_boletos, 'Boletos')\r\n",
        "identifica_atributo(dataset, reviews, lista_cadastro, 'Cadastro')\r\n",
        "identifica_atributo(dataset, reviews, lista_câmbio, 'Câmbio')\r\n",
        "identifica_atributo(dataset, reviews, lista_capitalizacao, 'Capitalização')\r\n",
        "identifica_atributo(dataset, reviews, lista_cartao, 'Cartão')\r\n",
        "identifica_atributo(dataset, reviews, lista_central_de_senhas, 'Central de senhas')\r\n",
        "identifica_atributo(dataset, reviews, lista_cheques, 'Cheques')\r\n",
        "identifica_atributo(dataset, reviews, lista_cobranca, 'Cobrança')\r\n",
        "identifica_atributo(dataset, reviews, lista_comprovantes, 'Comprovantes')\r\n",
        "identifica_atributo(dataset, reviews, lista_consorcio, 'Consórcio')\r\n",
        "identifica_atributo(dataset, reviews, lista_conta_corrente_pf, 'Conta corrente pf')\r\n",
        "identifica_atributo(dataset, reviews, lista_conta_corrente_pj, 'Conta corrente pj')\r\n",
        "identifica_atributo(dataset, reviews, lista_conta_facil_pf, 'Conta fácil PF')\r\n",
        "identifica_atributo(dataset, reviews, lista_conta_facil_pj_mei, 'Conta Fácil PJ MEI')\r\n",
        "identifica_atributo(dataset, reviews, lista_conta_salario, 'Conta salário')\r\n",
        "identifica_atributo(dataset, reviews, lista_conta_universitaria, 'Conta universitária')\r\n",
        "identifica_atributo(dataset, reviews, lista_constestacoes, 'Constestações')\r\n",
        "identifica_atributo(dataset, reviews, lista_contracheque, 'Contracheque')\r\n",
        "identifica_atributo(dataset, reviews, lista_debito_automatico, 'Débito Automático')\r\n",
        "identifica_atributo(dataset, reviews, lista_desbloqueio_de_conta, 'Desbloqueio de conta')\r\n",
        "identifica_atributo(dataset, reviews, lista_depositos, 'Depósitos')\r\n",
        "identifica_atributo(dataset, reviews, lista_deposito_de_cheque, 'Depósito de cheque')\r\n",
        "identifica_atributo(dataset, reviews, lista_deposito_judicial, 'Depósito judicial')\r\n",
        "identifica_atributo(dataset, reviews, lista_empresa, 'Empresa')\r\n",
        "identifica_atributo(dataset, reviews, lista_emprestimos, 'Empréstimos')\r\n",
        "identifica_atributo(dataset, reviews, lista_extratos, 'Extratos')\r\n",
        "identifica_atributo(dataset, reviews, lista_fale_com_seu_gerente, 'Fale com seu Gerente')\r\n",
        "identifica_atributo(dataset, reviews, lista_fgts, 'FGTS')\r\n",
        "identifica_atributo(dataset, reviews, lista_fies, 'FIES')\r\n",
        "identifica_atributo(dataset, reviews, lista_financiamento_de_veiculo, 'Financiamento de Veículo')\r\n",
        "identifica_atributo(dataset, reviews, lista_financiamento_imobiliario, 'Financiamento Imobiliário')\r\n",
        "identifica_atributo(dataset, reviews, lista_google_pay, 'Google pay')\r\n",
        "identifica_atributo(dataset, reviews, lista_inss, 'INSS')\r\n",
        "identifica_atributo(dataset, reviews, lista_investimentos, 'Investimentos')\r\n",
        "identifica_atributo(dataset, reviews, lista_irpf, 'IRPF')\r\n",
        "identifica_atributo(dataset, reviews, lista_lancamento_futuro, 'Lançamento Futuro')\r\n",
        "identifica_atributo(dataset, reviews, lista_leasing, 'Leasing')\r\n",
        "identifica_atributo(dataset, reviews, lista_leitor_de_cartao, 'Leitor de cartão')\r\n",
        "identifica_atributo(dataset, reviews, lista_leitor_de_codigo_de_barra, 'Leitor de Código de Barra')\r\n",
        "identifica_atributo(dataset, reviews, lista_liberacoes_seguranca, 'Liberações (Segurança)')\r\n",
        "identifica_atributo(dataset, reviews, lista_limites_seguranca, 'Limites (Segurança)')\r\n",
        "identifica_atributo(dataset, reviews, lista_limites_de_credito, 'Limites de Crédito')\r\n",
        "identifica_atributo(dataset, reviews, lista_marketing_digital, 'Marketing digital')\r\n",
        "identifica_atributo(dataset, reviews, lista_minhas_financas, 'Minhas finanças')\r\n",
        "identifica_atributo(dataset, reviews, lista_notificacoes, 'Notificações')\r\n",
        "identifica_atributo(dataset, reviews, lista_pagamento_de_salario, 'Pagamento de Salário')\r\n",
        "identifica_atributo(dataset, reviews, lista_pagamentos, 'Pagamentos')\r\n",
        "identifica_atributo(dataset, reviews, lista_pagar_ou_receber, 'Pagar ou Receber')\r\n",
        "identifica_atributo(dataset, reviews, lista_pedido_de_cartao, 'Pedido de cartão')\r\n",
        "identifica_atributo(dataset, reviews, lista_pendências, 'Pendências')\r\n",
        "identifica_atributo(dataset, reviews, lista_pis_pasep, 'PIS / PASEP')\r\n",
        "identifica_atributo(dataset, reviews, lista_pix, 'PIX')\r\n",
        "identifica_atributo(dataset, reviews, lista_portabilidade, 'Portabilidade')\r\n",
        "identifica_atributo(dataset, reviews, lista_poupanca, 'Poupança')\r\n",
        "identifica_atributo(dataset, reviews, lista_precatorio, 'Precatório')\r\n",
        "identifica_atributo(dataset, reviews, lista_previdência, 'Previdência')\r\n",
        "identifica_atributo(dataset, reviews, lista_prova_de_vida, 'Prova de vida')\r\n",
        "identifica_atributo(dataset, reviews, lista_recargas, 'Recargas')\r\n",
        "identifica_atributo(dataset, reviews, lista_renegociacao_de_divida, 'Renegociação de Dívida')\r\n",
        "identifica_atributo(dataset, reviews, lista_saldos, 'Saldos')\r\n",
        "identifica_atributo(dataset, reviews, lista_saques, 'Saques')\r\n",
        "identifica_atributo(dataset, reviews, lista_seguros, 'Seguros')\r\n",
        "identifica_atributo(dataset, reviews, lista_selfie, 'Selfie')\r\n",
        "identifica_atributo(dataset, reviews, lista_senhas, 'Senhas')\r\n",
        "identifica_atributo(dataset, reviews, lista_senha_de_atendimento, 'Senha de atendimento')\r\n",
        "identifica_atributo(dataset, reviews, lista_spcserasa, 'SPC/Serasa')\r\n",
        "identifica_atributo(dataset, reviews, lista_taa, 'TAA')\r\n",
        "identifica_atributo(dataset, reviews, lista_tarifas, 'Tarifas')\r\n",
        "identifica_atributo(dataset, reviews, lista_taxa_de_juro, 'Taxa de Juro')\r\n",
        "identifica_atributo(dataset, reviews, lista_transferências, 'Transferências')\r\n",
        "identifica_atributo(dataset, reviews, lista_transferência_de_limite, 'Transferência de limite')\r\n",
        "identifica_atributo(dataset, reviews, lista_upgrade_conta_facil, 'Upgrade Conta Fácil')\r\n",
        "identifica_atributo(dataset, reviews, lista_walletcarteira_bb, 'Wallet/carteira BB')\r\n",
        "identifica_atributo(dataset, reviews, lista_web_aapfaapj, 'WEB aapf/aapj')"
      ],
      "execution_count": null,
      "outputs": [
        {
          "output_type": "stream",
          "text": [
            "/usr/local/lib/python3.6/dist-packages/ipykernel_launcher.py:40: SettingWithCopyWarning: \n",
            "A value is trying to be set on a copy of a slice from a DataFrame\n",
            "\n",
            "See the caveats in the documentation: https://pandas.pydata.org/pandas-docs/stable/user_guide/indexing.html#returning-a-view-versus-a-copy\n"
          ],
          "name": "stderr"
        },
        {
          "output_type": "stream",
          "text": [
            "Alívio de Numerário foi analizado e atualizado\n",
            "Aplicativo foi analizado e atualizado\n",
            "App ourocard foi analizado e atualizado\n",
            "Assinatura Digital foi analizado e atualizado\n",
            "Atendimento foi analizado e atualizado\n",
            "Atualização App foi analizado e atualizado\n",
            "Auxílio emergencial foi analizado e atualizado\n",
            "Avaliação do Atendimento foi analizado e atualizado\n",
            "BB Code/QR Code foi analizado e atualizado\n",
            "BB Crediário foi analizado e atualizado\n",
            "BB Internacional foi analizado e atualizado\n",
            "BB Vídeo foi analizado e atualizado\n",
            "Benefícios e Vantagens foi analizado e atualizado\n",
            "Bilhete único - recarga foi analizado e atualizado\n",
            "Biometria foi analizado e atualizado\n",
            "Boletos foi analizado e atualizado\n",
            "Cadastro foi analizado e atualizado\n",
            "Câmbio foi analizado e atualizado\n",
            "Capitalização foi analizado e atualizado\n",
            "Cartão foi analizado e atualizado\n",
            "Central de senhas foi analizado e atualizado\n",
            "Cheques foi analizado e atualizado\n",
            "Cobrança foi analizado e atualizado\n",
            "Comprovantes foi analizado e atualizado\n",
            "Consórcio foi analizado e atualizado\n",
            "Conta corrente pf foi analizado e atualizado\n",
            "Conta corrente pj foi analizado e atualizado\n",
            "Conta fácil PF foi analizado e atualizado\n",
            "Conta Fácil PJ MEI foi analizado e atualizado\n",
            "Conta salário foi analizado e atualizado\n",
            "Conta universitária foi analizado e atualizado\n",
            "Constestações foi analizado e atualizado\n",
            "Contracheque foi analizado e atualizado\n",
            "Débito Automático foi analizado e atualizado\n",
            "Desbloqueio de conta foi analizado e atualizado\n",
            "Depósitos foi analizado e atualizado\n",
            "Depósito de cheque foi analizado e atualizado\n",
            "Depósito judicial foi analizado e atualizado\n",
            "Empresa foi analizado e atualizado\n",
            "Empréstimos foi analizado e atualizado\n",
            "Extratos foi analizado e atualizado\n",
            "Fale com seu Gerente foi analizado e atualizado\n",
            "FGTS foi analizado e atualizado\n",
            "FIES foi analizado e atualizado\n",
            "Financiamento de Veículo foi analizado e atualizado\n",
            "Financiamento Imobiliário foi analizado e atualizado\n",
            "Google pay foi analizado e atualizado\n",
            "INSS foi analizado e atualizado\n",
            "Investimentos foi analizado e atualizado\n",
            "IRPF foi analizado e atualizado\n",
            "Lançamento Futuro foi analizado e atualizado\n",
            "Leasing foi analizado e atualizado\n",
            "Leitor de cartão foi analizado e atualizado\n",
            "Leitor de Código de Barra foi analizado e atualizado\n",
            "Liberações (Segurança) foi analizado e atualizado\n",
            "Limites (Segurança) foi analizado e atualizado\n",
            "Limites de Crédito foi analizado e atualizado\n",
            "Marketing digital foi analizado e atualizado\n",
            "Minhas finanças foi analizado e atualizado\n",
            "Notificações foi analizado e atualizado\n",
            "Pagamento de Salário foi analizado e atualizado\n",
            "Pagamentos foi analizado e atualizado\n",
            "Pagar ou Receber foi analizado e atualizado\n",
            "Pedido de cartão foi analizado e atualizado\n",
            "Pendências foi analizado e atualizado\n",
            "PIS / PASEP foi analizado e atualizado\n",
            "PIX foi analizado e atualizado\n",
            "Portabilidade foi analizado e atualizado\n",
            "Poupança foi analizado e atualizado\n",
            "Precatório foi analizado e atualizado\n",
            "Previdência foi analizado e atualizado\n",
            "Prova de vida foi analizado e atualizado\n",
            "Recargas foi analizado e atualizado\n",
            "Renegociação de Dívida foi analizado e atualizado\n",
            "Saldos foi analizado e atualizado\n",
            "Saques foi analizado e atualizado\n",
            "Seguros foi analizado e atualizado\n",
            "Selfie foi analizado e atualizado\n",
            "Senhas foi analizado e atualizado\n",
            "Senha de atendimento foi analizado e atualizado\n",
            "SPC/Serasa foi analizado e atualizado\n",
            "TAA foi analizado e atualizado\n",
            "Tarifas foi analizado e atualizado\n",
            "Taxa de Juro foi analizado e atualizado\n",
            "Transferências foi analizado e atualizado\n",
            "Transferência de limite foi analizado e atualizado\n",
            "Upgrade Conta Fácil foi analizado e atualizado\n",
            "Wallet/carteira BB foi analizado e atualizado\n",
            "WEB aapf/aapj foi analizado e atualizado\n"
          ],
          "name": "stdout"
        }
      ]
    },
    {
      "cell_type": "code",
      "metadata": {
        "colab": {
          "base_uri": "https://localhost:8080/"
        },
        "id": "ig-_w6p-90nz",
        "outputId": "85837e51-3d63-42c0-9923-f1352b185880"
      },
      "source": [
        "!pip install xlsxwriter\r\n",
        "import xlsxwriter"
      ],
      "execution_count": null,
      "outputs": [
        {
          "output_type": "stream",
          "text": [
            "Requirement already satisfied: xlsxwriter in /usr/local/lib/python3.6/dist-packages (1.3.7)\n"
          ],
          "name": "stdout"
        }
      ]
    },
    {
      "cell_type": "code",
      "metadata": {
        "id": "6fabXSeweFzl"
      },
      "source": [
        "writer = pd.ExcelWriter(\"fulldataset_IA20_Marcelo_atualizado.xlsx\")\r\n",
        "dataset.to_excel(writer, index=False, engine=xlsxwriter)\r\n",
        "writer.save()"
      ],
      "execution_count": null,
      "outputs": []
    }
  ]
}