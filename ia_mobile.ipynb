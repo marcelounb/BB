{
  "nbformat": 4,
  "nbformat_minor": 0,
  "metadata": {
    "colab": {
      "name": "ia-mobile.ipynb",
      "provenance": [],
      "collapsed_sections": [],
      "authorship_tag": "ABX9TyOyw7D5hmUWpvU/4DAEe/Te",
      "include_colab_link": true
    },
    "kernelspec": {
      "name": "python3",
      "display_name": "Python 3"
    }
  },
  "cells": [
    {
      "cell_type": "markdown",
      "metadata": {
        "id": "view-in-github",
        "colab_type": "text"
      },
      "source": [
        "<a href=\"https://colab.research.google.com/github/marcelounb/BB/blob/master/ia_mobile.ipynb\" target=\"_parent\"><img src=\"https://colab.research.google.com/assets/colab-badge.svg\" alt=\"Open In Colab\"/></a>"
      ]
    },
    {
      "cell_type": "code",
      "metadata": {
        "id": "yCeFl8ScwE2i"
      },
      "source": [
        "import os\n",
        "from google.colab import files\n",
        "import pandas as pd\n",
        "import numpy as np"
      ],
      "execution_count": 17,
      "outputs": []
    },
    {
      "cell_type": "code",
      "metadata": {
        "id": "E2obRppxwTBN",
        "outputId": "a84f6b8f-68a4-4431-b78d-067d56b91271",
        "colab": {
          "base_uri": "https://localhost:8080/",
          "height": 106
        }
      },
      "source": [
        "!ls"
      ],
      "execution_count": 3,
      "outputs": [
        {
          "output_type": "stream",
          "text": [
            "'Classificação  - 01 a 02 Outubro - Android.xlsx'\n",
            "'Classificação  - 01 a 02 Setembro - Android.xlsx'\n",
            "'Classificação  - 02 a 03 Setembro - Android.xlsx'\n",
            "'Classificação  - 02 a 05 Outubro - Android.xlsx'\n",
            " sample_data\n"
          ],
          "name": "stdout"
        }
      ]
    },
    {
      "cell_type": "code",
      "metadata": {
        "id": "ltlvZSpi14c8",
        "outputId": "5df642c7-7f2b-489c-cb74-1da905d95ce6",
        "colab": {
          "base_uri": "https://localhost:8080/",
          "height": 106
        }
      },
      "source": [
        "for file in os.listdir(\"/content\"):\n",
        "    if file.endswith(\".xlsx\"):\n",
        "        print(os.path.join(\"/mydir\", file))"
      ],
      "execution_count": 26,
      "outputs": [
        {
          "output_type": "stream",
          "text": [
            "/mydir/Classificação  - 02 a 03 Setembro - Android.xlsx\n",
            "/mydir/fulldataset.xlsx\n",
            "/mydir/Classificação  - 01 a 02 Setembro - Android.xlsx\n",
            "/mydir/Classificação  - 01 a 02 Outubro - Android.xlsx\n",
            "/mydir/Classificação  - 02 a 05 Outubro - Android.xlsx\n"
          ],
          "name": "stdout"
        }
      ]
    },
    {
      "cell_type": "code",
      "metadata": {
        "id": "fSV8xOdG5Rja",
        "outputId": "dfbd2c0e-b362-4c38-ddbd-2b58509dbcff",
        "colab": {
          "base_uri": "https://localhost:8080/",
          "height": 168
        }
      },
      "source": [
        "sys.path.index()"
      ],
      "execution_count": 24,
      "outputs": [
        {
          "output_type": "error",
          "ename": "TypeError",
          "evalue": "ignored",
          "traceback": [
            "\u001b[0;31m---------------------------------------------------------------------------\u001b[0m",
            "\u001b[0;31mTypeError\u001b[0m                                 Traceback (most recent call last)",
            "\u001b[0;32m<ipython-input-24-47d7355e6e13>\u001b[0m in \u001b[0;36m<module>\u001b[0;34m()\u001b[0m\n\u001b[0;32m----> 1\u001b[0;31m \u001b[0msys\u001b[0m\u001b[0;34m.\u001b[0m\u001b[0mpath\u001b[0m\u001b[0;34m.\u001b[0m\u001b[0mindex\u001b[0m\u001b[0;34m(\u001b[0m\u001b[0;34m)\u001b[0m\u001b[0;34m\u001b[0m\u001b[0;34m\u001b[0m\u001b[0m\n\u001b[0m",
            "\u001b[0;31mTypeError\u001b[0m: index() takes at least 1 argument (0 given)"
          ]
        }
      ]
    },
    {
      "cell_type": "code",
      "metadata": {
        "id": "TJiFmBPxwpD1"
      },
      "source": [
        "path = \"/content/Classificação  - 01 a 02 Outubro - Android.xlsx\"\n",
        "\n",
        "dataset = pd.read_excel(path, sheet_name=0, header=0 )\n",
        "\n",
        "# Just extract out sentences and labels first - we will create subwords here\n",
        "automatico = dataset['Responsável'].tolist()\n",
        "negocial = dataset['Natureza'].tolist()\n",
        "classificacao = dataset['Classificação'].tolist()\n",
        "produtos_servicos = dataset['Produtos/Serviços'].tolist()\n",
        "detalhamento = dataset['Detalhamento'].tolist()\n",
        "review = dataset['review'].tolist()\n",
        "score = dataset['score'].tolist()"
      ],
      "execution_count": 12,
      "outputs": []
    },
    {
      "cell_type": "code",
      "metadata": {
        "id": "YRNfnT5hyfAb",
        "outputId": "256f9c76-c7f1-4c41-8a23-f87ab8bb14d0",
        "colab": {
          "base_uri": "https://localhost:8080/",
          "height": 261
        }
      },
      "source": [
        "dataset.head(2)"
      ],
      "execution_count": 13,
      "outputs": [
        {
          "output_type": "execute_result",
          "data": {
            "text/html": [
              "<div>\n",
              "<style scoped>\n",
              "    .dataframe tbody tr th:only-of-type {\n",
              "        vertical-align: middle;\n",
              "    }\n",
              "\n",
              "    .dataframe tbody tr th {\n",
              "        vertical-align: top;\n",
              "    }\n",
              "\n",
              "    .dataframe thead th {\n",
              "        text-align: right;\n",
              "    }\n",
              "</style>\n",
              "<table border=\"1\" class=\"dataframe\">\n",
              "  <thead>\n",
              "    <tr style=\"text-align: right;\">\n",
              "      <th></th>\n",
              "      <th>Responsável</th>\n",
              "      <th>Natureza</th>\n",
              "      <th>Classificação</th>\n",
              "      <th>Produtos/Serviços</th>\n",
              "      <th>Detalhamento</th>\n",
              "      <th>Descrição do Problema</th>\n",
              "      <th>Produtos/Serviços 2</th>\n",
              "      <th>Detalhamento 2</th>\n",
              "      <th>Descrição do Problema 2</th>\n",
              "      <th>Produtos/Serviços 3</th>\n",
              "      <th>Detalhamento 3</th>\n",
              "      <th>Descrição do Problema 3</th>\n",
              "      <th>id</th>\n",
              "      <th>userName</th>\n",
              "      <th>userImage</th>\n",
              "      <th>review</th>\n",
              "      <th>score</th>\n",
              "      <th>thumbsUpCount</th>\n",
              "      <th>appVersion</th>\n",
              "      <th>date</th>\n",
              "      <th>reply</th>\n",
              "      <th>replyDate</th>\n",
              "    </tr>\n",
              "  </thead>\n",
              "  <tbody>\n",
              "    <tr>\n",
              "      <th>0</th>\n",
              "      <td>Automático</td>\n",
              "      <td>Negocial</td>\n",
              "      <td>Elogio</td>\n",
              "      <td>Aplicativo</td>\n",
              "      <td>Usabilidade</td>\n",
              "      <td>NaN</td>\n",
              "      <td>NaN</td>\n",
              "      <td>NaN</td>\n",
              "      <td>NaN</td>\n",
              "      <td>NaN</td>\n",
              "      <td>NaN</td>\n",
              "      <td>NaN</td>\n",
              "      <td>gp:AOqpTOED5kgxjHgWLI789vVwIXrpJ-zpYFbrz22aEkT...</td>\n",
              "      <td>Marcelo Wtor</td>\n",
              "      <td>https://lh3.googleusercontent.com/a-/AOh14GhBd...</td>\n",
              "      <td>Muito prático</td>\n",
              "      <td>5</td>\n",
              "      <td>0</td>\n",
              "      <td>7.29.0.4</td>\n",
              "      <td>2020-10-02 08:31:37</td>\n",
              "      <td>NaN</td>\n",
              "      <td>NaT</td>\n",
              "    </tr>\n",
              "    <tr>\n",
              "      <th>1</th>\n",
              "      <td>Weuber</td>\n",
              "      <td>Negocial</td>\n",
              "      <td>Solicitação</td>\n",
              "      <td>Abertura Conta Fácil</td>\n",
              "      <td>Regra de Negócio</td>\n",
              "      <td>NaN</td>\n",
              "      <td>NaN</td>\n",
              "      <td>NaN</td>\n",
              "      <td>NaN</td>\n",
              "      <td>NaN</td>\n",
              "      <td>NaN</td>\n",
              "      <td>NaN</td>\n",
              "      <td>gp:AOqpTOFnMmKEKbhPwU7niQ3ibT-tXPD3OJpGOvb6FAT...</td>\n",
              "      <td>Franklin Roosevelt</td>\n",
              "      <td>https://play-lh.googleusercontent.com/-y0hBmYj...</td>\n",
              "      <td>Quero abri uma conta</td>\n",
              "      <td>5</td>\n",
              "      <td>0</td>\n",
              "      <td>7.29.0.4</td>\n",
              "      <td>2020-10-02 08:30:39</td>\n",
              "      <td>NaN</td>\n",
              "      <td>NaT</td>\n",
              "    </tr>\n",
              "  </tbody>\n",
              "</table>\n",
              "</div>"
            ],
            "text/plain": [
              "  Responsável  Natureza Classificação  ...                date reply replyDate\n",
              "0  Automático  Negocial        Elogio  ... 2020-10-02 08:31:37   NaN       NaT\n",
              "1      Weuber  Negocial   Solicitação  ... 2020-10-02 08:30:39   NaN       NaT\n",
              "\n",
              "[2 rows x 22 columns]"
            ]
          },
          "metadata": {
            "tags": []
          },
          "execution_count": 13
        }
      ]
    },
    {
      "cell_type": "code",
      "metadata": {
        "id": "SDtKz7U8ygf1"
      },
      "source": [
        "writer = pd.ExcelWriter(\"fulldataset.xlsx\")\n",
        "dataset.to_excel(writer, index=False)\n",
        "writer.save()"
      ],
      "execution_count": 16,
      "outputs": []
    }
  ]
}