{
  "nbformat": 4,
  "nbformat_minor": 0,
  "metadata": {
    "colab": {
      "name": "ia-mobile.ipynb",
      "provenance": [],
      "collapsed_sections": [],
      "authorship_tag": "ABX9TyNQToeKumB37HZzMMSZDuVv",
      "include_colab_link": true
    },
    "kernelspec": {
      "name": "python3",
      "display_name": "Python 3"
    }
  },
  "cells": [
    {
      "cell_type": "markdown",
      "metadata": {
        "id": "view-in-github",
        "colab_type": "text"
      },
      "source": [
        "<a href=\"https://colab.research.google.com/github/marcelounb/BB/blob/master/ia_mobile.ipynb\" target=\"_parent\"><img src=\"https://colab.research.google.com/assets/colab-badge.svg\" alt=\"Open In Colab\"/></a>"
      ]
    },
    {
      "cell_type": "code",
      "metadata": {
        "id": "yCeFl8ScwE2i"
      },
      "source": [
        "import os\n",
        "from google.colab import files\n",
        "import pandas as pd\n",
        "import numpy as np"
      ],
      "execution_count": 1,
      "outputs": []
    },
    {
      "cell_type": "code",
      "metadata": {
        "id": "E2obRppxwTBN",
        "outputId": "45057c20-76a0-4085-b7fb-78beb49dd096",
        "colab": {
          "base_uri": "https://localhost:8080/",
          "height": 88
        }
      },
      "source": [
        "!ls"
      ],
      "execution_count": 2,
      "outputs": [
        {
          "output_type": "stream",
          "text": [
            "'Classificação  - 01 a 02 Outubro - Android.xlsx'\n",
            "'Classificação  - 01 a 02 Setembro - Android.xlsx'\n",
            "'Classificação  - 02 a 03 Setembro - Android.xlsx'\n",
            " sample_data\n"
          ],
          "name": "stdout"
        }
      ]
    },
    {
      "cell_type": "code",
      "metadata": {
        "id": "eOofH4af6sKf"
      },
      "source": [
        "def joining_datasets(path):\n",
        "  new_dataset = pd.read_excel(path, sheet_name=0, header=0 )\n",
        "  print(path)\n",
        "  return new_dataset"
      ],
      "execution_count": 10,
      "outputs": []
    },
    {
      "cell_type": "code",
      "metadata": {
        "id": "ltlvZSpi14c8",
        "outputId": "4d3c97ff-8d60-4bbb-f83c-12a301f227ab",
        "colab": {
          "base_uri": "https://localhost:8080/",
          "height": 461
        }
      },
      "source": [
        "i=0\n",
        "dataset = pd.DataFrame()\n",
        "for file in os.listdir(\"/content\"):\n",
        "    if file.endswith(\".xlsx\"):\n",
        "        # print(os.path.join(\"/mydir\", file))\n",
        "        dataset = dataset.append(joining_datasets(\"/content/\" + file))\n",
        "        i+=1\n",
        "print(\"Quantidade de arquivos lidos e agregados: \" + str(i))"
      ],
      "execution_count": 6,
      "outputs": [
        {
          "output_type": "stream",
          "text": [
            "  Responsável Natureza Classificação  ...                date reply replyDate\n",
            "0  Automático  Opinião        Elogio  ... 2020-09-03 08:13:05   NaN       NaT\n",
            "1  Automático  Opinião        Elogio  ... 2020-09-03 08:12:45   NaN       NaT\n",
            "2  Automático  Opinião        Elogio  ... 2020-09-03 08:11:19   NaN       NaT\n",
            "3  Automático  Opinião        Elogio  ... 2020-09-03 08:10:58   NaN       NaT\n",
            "4  Automático  Opinião        Elogio  ... 2020-09-03 08:10:35   NaN       NaT\n",
            "\n",
            "[5 rows x 22 columns]\n",
            "  Responsável  Natureza Classificação  ...                date reply replyDate\n",
            "0  Automático   Opinião        Elogio  ... 2020-09-02 09:02:07   NaN       NaT\n",
            "1  Automático  Negocial        Elogio  ... 2020-09-02 09:01:28   NaN       NaT\n",
            "2  Automático   Opinião        Elogio  ... 2020-09-02 09:01:12   NaN       NaT\n",
            "3  Automático  Negocial        Elogio  ... 2020-09-02 09:01:08   NaN       NaT\n",
            "4  Automático  Negocial        Elogio  ... 2020-09-02 09:01:01   NaN       NaT\n",
            "\n",
            "[5 rows x 22 columns]\n",
            "  Responsável  Natureza Classificação  ...                date reply replyDate\n",
            "0  Automático  Negocial        Elogio  ... 2020-10-02 08:31:37   NaN       NaT\n",
            "1      Weuber  Negocial   Solicitação  ... 2020-10-02 08:30:39   NaN       NaT\n",
            "2  Automático  Negocial        Elogio  ... 2020-10-02 08:29:57   NaN       NaT\n",
            "3  Automático   Opinião        Elogio  ... 2020-10-02 08:27:36   NaN       NaT\n",
            "4  Automático   Opinião        Elogio  ... 2020-10-02 08:27:03   NaN       NaT\n",
            "\n",
            "[5 rows x 22 columns]\n",
            "Quantidade de arquivos lidos e agregados: 3\n"
          ],
          "name": "stdout"
        }
      ]
    },
    {
      "cell_type": "code",
      "metadata": {
        "id": "TJiFmBPxwpD1",
        "outputId": "94bd7115-bd80-4a65-f806-ccf8fe7c35fb",
        "colab": {
          "base_uri": "https://localhost:8080/",
          "height": 89
        }
      },
      "source": [
        "\"\"\"path = \"/content/Classificação  - 01 a 02 Outubro - Android.xlsx\"\n",
        "\n",
        "dataset = pd.read_excel(path, sheet_name=0, header=0 )\n",
        "\n",
        "# Just extract out sentences and labels first - we will create subwords here\n",
        "automatico = dataset['Responsável'].tolist()\n",
        "negocial = dataset['Natureza'].tolist()\n",
        "classificacao = dataset['Classificação'].tolist()\n",
        "produtos_servicos = dataset['Produtos/Serviços'].tolist()\n",
        "detalhamento = dataset['Detalhamento'].tolist()\n",
        "review = dataset['review'].tolist()\n",
        "score = dataset['score'].tolist()\"\"\""
      ],
      "execution_count": 7,
      "outputs": [
        {
          "output_type": "execute_result",
          "data": {
            "application/vnd.google.colaboratory.intrinsic+json": {
              "type": "string"
            },
            "text/plain": [
              "'path = \"/content/Classificação  - 01 a 02 Outubro - Android.xlsx\"\\n\\ndataset = pd.read_excel(path, sheet_name=0, header=0 )\\n\\n# Just extract out sentences and labels first - we will create subwords here\\nautomatico = dataset[\\'Responsável\\'].tolist()\\nnegocial = dataset[\\'Natureza\\'].tolist()\\nclassificacao = dataset[\\'Classificação\\'].tolist()\\nprodutos_servicos = dataset[\\'Produtos/Serviços\\'].tolist()\\ndetalhamento = dataset[\\'Detalhamento\\'].tolist()\\nreview = dataset[\\'review\\'].tolist()\\nscore = dataset[\\'score\\'].tolist()'"
            ]
          },
          "metadata": {
            "tags": []
          },
          "execution_count": 7
        }
      ]
    },
    {
      "cell_type": "code",
      "metadata": {
        "id": "YRNfnT5hyfAb",
        "outputId": "89d8cd2a-32d8-4f44-ac95-23ee6c5fb7df",
        "colab": {
          "base_uri": "https://localhost:8080/",
          "height": 35
        }
      },
      "source": [
        "dataset.size"
      ],
      "execution_count": 8,
      "outputs": [
        {
          "output_type": "execute_result",
          "data": {
            "text/plain": [
              "114180"
            ]
          },
          "metadata": {
            "tags": []
          },
          "execution_count": 8
        }
      ]
    },
    {
      "cell_type": "code",
      "metadata": {
        "id": "SDtKz7U8ygf1"
      },
      "source": [
        "writer = pd.ExcelWriter(\"fulldataset.xlsx\")\n",
        "dataset.to_excel(writer, index=False)\n",
        "writer.save()"
      ],
      "execution_count": 9,
      "outputs": []
    }
  ]
}