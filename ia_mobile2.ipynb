{
  "nbformat": 4,
  "nbformat_minor": 0,
  "metadata": {
    "colab": {
      "name": "ia-mobile2.ipynb",
      "provenance": [],
      "collapsed_sections": [],
      "authorship_tag": "ABX9TyN+ufIfmFMW/GHn01/ge6A2",
      "include_colab_link": true
    },
    "kernelspec": {
      "name": "python3",
      "display_name": "Python 3"
    },
    "accelerator": "GPU"
  },
  "cells": [
    {
      "cell_type": "markdown",
      "metadata": {
        "id": "view-in-github",
        "colab_type": "text"
      },
      "source": [
        "<a href=\"https://colab.research.google.com/github/marcelounb/BB/blob/master/ia_mobile2.ipynb\" target=\"_parent\"><img src=\"https://colab.research.google.com/assets/colab-badge.svg\" alt=\"Open In Colab\"/></a>"
      ]
    },
    {
      "cell_type": "code",
      "metadata": {
        "id": "rHxltmnRU9ln"
      },
      "source": [
        "import os\n",
        "from google.colab import files\n",
        "import pandas as pd\n",
        "import numpy as np\n",
        "import seaborn as sns\n",
        "import matplotlib.pyplot as plt"
      ],
      "execution_count": 2,
      "outputs": []
    },
    {
      "cell_type": "code",
      "metadata": {
        "id": "Gm9AZVQPZCOA"
      },
      "source": [
        "import tensorflow as tf"
      ],
      "execution_count": 3,
      "outputs": []
    },
    {
      "cell_type": "code",
      "metadata": {
        "id": "PPusEovcWEkH"
      },
      "source": [
        "path = \"/content/fulldataset.xlsx\""
      ],
      "execution_count": 4,
      "outputs": []
    },
    {
      "cell_type": "markdown",
      "metadata": {
        "id": "umB5DwB4bvE4"
      },
      "source": [
        "# Importing using pandas"
      ]
    },
    {
      "cell_type": "code",
      "metadata": {
        "id": "y8DxdpTwbzJR"
      },
      "source": [
        "dataset = pd.read_excel(path, sheet_name=0, header=0 )\n",
        "\n",
        "# Just extract out sentences and labels first - we will create subwords here\n",
        "automatico = dataset['Responsável'].tolist()\n",
        "negocial = dataset['Natureza'].tolist()\n",
        "classificacao = dataset['Classificação'].tolist()\n",
        "produtos_servicos = dataset['Produtos/Serviços'].tolist()\n",
        "detalhamento = dataset['Detalhamento'].tolist()\n",
        "review = dataset['review'].tolist()\n",
        "score = dataset['score'].tolist()"
      ],
      "execution_count": 5,
      "outputs": []
    },
    {
      "cell_type": "code",
      "metadata": {
        "id": "zNl5hOHbYdDf",
        "outputId": "dd42b184-052e-417e-cf9a-b49edd191fc0",
        "colab": {
          "base_uri": "https://localhost:8080/",
          "height": 141
        }
      },
      "source": [
        "dataset.keys()"
      ],
      "execution_count": 6,
      "outputs": [
        {
          "output_type": "execute_result",
          "data": {
            "text/plain": [
              "Index(['Responsável', 'Natureza', 'Classificação', 'Produtos/Serviços',\n",
              "       'Detalhamento', 'Descrição do Problema', 'Produtos/Serviços 2',\n",
              "       'Detalhamento 2', 'Descrição do Problema 2', 'Produtos/Serviços 3',\n",
              "       'Detalhamento 3', 'Descrição do Problema 3', 'id', 'userName',\n",
              "       'userImage', 'review', 'score', 'thumbsUpCount', 'appVersion', 'date',\n",
              "       'reply', 'replyDate'],\n",
              "      dtype='object')"
            ]
          },
          "metadata": {
            "tags": []
          },
          "execution_count": 6
        }
      ]
    },
    {
      "cell_type": "code",
      "metadata": {
        "id": "vS3cbT1k0IDh",
        "outputId": "64f81b40-00a3-4ed4-b215-84beef3e8b68",
        "colab": {
          "base_uri": "https://localhost:8080/",
          "height": 375
        }
      },
      "source": [
        "dataset.head(3)"
      ],
      "execution_count": 25,
      "outputs": [
        {
          "output_type": "execute_result",
          "data": {
            "text/html": [
              "<div>\n",
              "<style scoped>\n",
              "    .dataframe tbody tr th:only-of-type {\n",
              "        vertical-align: middle;\n",
              "    }\n",
              "\n",
              "    .dataframe tbody tr th {\n",
              "        vertical-align: top;\n",
              "    }\n",
              "\n",
              "    .dataframe thead th {\n",
              "        text-align: right;\n",
              "    }\n",
              "</style>\n",
              "<table border=\"1\" class=\"dataframe\">\n",
              "  <thead>\n",
              "    <tr style=\"text-align: right;\">\n",
              "      <th></th>\n",
              "      <th>Responsável</th>\n",
              "      <th>Natureza</th>\n",
              "      <th>Classificação</th>\n",
              "      <th>Produtos/Serviços</th>\n",
              "      <th>Detalhamento</th>\n",
              "      <th>Descrição do Problema</th>\n",
              "      <th>Produtos/Serviços 2</th>\n",
              "      <th>Detalhamento 2</th>\n",
              "      <th>Descrição do Problema 2</th>\n",
              "      <th>Produtos/Serviços 3</th>\n",
              "      <th>Detalhamento 3</th>\n",
              "      <th>Descrição do Problema 3</th>\n",
              "      <th>id</th>\n",
              "      <th>userName</th>\n",
              "      <th>userImage</th>\n",
              "      <th>review</th>\n",
              "      <th>score</th>\n",
              "      <th>thumbsUpCount</th>\n",
              "      <th>appVersion</th>\n",
              "      <th>date</th>\n",
              "      <th>reply</th>\n",
              "      <th>replyDate</th>\n",
              "    </tr>\n",
              "  </thead>\n",
              "  <tbody>\n",
              "    <tr>\n",
              "      <th>0</th>\n",
              "      <td>Automático</td>\n",
              "      <td>Opinião</td>\n",
              "      <td>Elogio</td>\n",
              "      <td>Aplicativo</td>\n",
              "      <td>NaN</td>\n",
              "      <td>NaN</td>\n",
              "      <td>NaN</td>\n",
              "      <td>NaN</td>\n",
              "      <td>NaN</td>\n",
              "      <td>NaN</td>\n",
              "      <td>NaN</td>\n",
              "      <td>NaN</td>\n",
              "      <td>gp:AOqpTOHW8MJYDva4_p6rm2zYGAr7hZNKClnjnUTt1Cs...</td>\n",
              "      <td>SILVIO LORENÇO LORETO</td>\n",
              "      <td>https://lh3.googleusercontent.com/a-/AOh14GgK9...</td>\n",
              "      <td>O aplicativo possibilita fazer todas as movime...</td>\n",
              "      <td>5</td>\n",
              "      <td>0</td>\n",
              "      <td>7.26.8.1</td>\n",
              "      <td>2020-09-03 08:13:05</td>\n",
              "      <td>NaN</td>\n",
              "      <td>NaT</td>\n",
              "    </tr>\n",
              "    <tr>\n",
              "      <th>1</th>\n",
              "      <td>Automático</td>\n",
              "      <td>Opinião</td>\n",
              "      <td>Elogio</td>\n",
              "      <td>Aplicativo</td>\n",
              "      <td>NaN</td>\n",
              "      <td>NaN</td>\n",
              "      <td>NaN</td>\n",
              "      <td>NaN</td>\n",
              "      <td>NaN</td>\n",
              "      <td>NaN</td>\n",
              "      <td>NaN</td>\n",
              "      <td>NaN</td>\n",
              "      <td>gp:AOqpTOHu1Wfs6GT2fvSuPhBE8TH0pP4KcSnL0HQ3V2C...</td>\n",
              "      <td>Leda Martins</td>\n",
              "      <td>https://play-lh.googleusercontent.com/-TjnnwBM...</td>\n",
              "      <td>Bom</td>\n",
              "      <td>1</td>\n",
              "      <td>0</td>\n",
              "      <td>7.26.8.1</td>\n",
              "      <td>2020-09-03 08:12:45</td>\n",
              "      <td>NaN</td>\n",
              "      <td>NaT</td>\n",
              "    </tr>\n",
              "    <tr>\n",
              "      <th>2</th>\n",
              "      <td>Automático</td>\n",
              "      <td>Opinião</td>\n",
              "      <td>Elogio</td>\n",
              "      <td>Aplicativo</td>\n",
              "      <td>NaN</td>\n",
              "      <td>NaN</td>\n",
              "      <td>NaN</td>\n",
              "      <td>NaN</td>\n",
              "      <td>NaN</td>\n",
              "      <td>NaN</td>\n",
              "      <td>NaN</td>\n",
              "      <td>NaN</td>\n",
              "      <td>gp:AOqpTOH5bmqxGkXO6ZMaDvNST9WoIdj8HTsOEUdWsmL...</td>\n",
              "      <td>Renato Felipe</td>\n",
              "      <td>https://lh3.googleusercontent.com/a-/AOh14GjJY...</td>\n",
              "      <td>Muito bom, gosto muito</td>\n",
              "      <td>5</td>\n",
              "      <td>0</td>\n",
              "      <td>7.26.8.1</td>\n",
              "      <td>2020-09-03 08:11:19</td>\n",
              "      <td>NaN</td>\n",
              "      <td>NaT</td>\n",
              "    </tr>\n",
              "  </tbody>\n",
              "</table>\n",
              "</div>"
            ],
            "text/plain": [
              "  Responsável Natureza Classificação  ...                date reply replyDate\n",
              "0  Automático  Opinião        Elogio  ... 2020-09-03 08:13:05   NaN       NaT\n",
              "1  Automático  Opinião        Elogio  ... 2020-09-03 08:12:45   NaN       NaT\n",
              "2  Automático  Opinião        Elogio  ... 2020-09-03 08:11:19   NaN       NaT\n",
              "\n",
              "[3 rows x 22 columns]"
            ]
          },
          "metadata": {
            "tags": []
          },
          "execution_count": 25
        }
      ]
    },
    {
      "cell_type": "code",
      "metadata": {
        "id": "54E10w-EWXd5",
        "outputId": "c5ba5458-d9ba-4ec6-c7f9-86c9680c83bb",
        "colab": {
          "base_uri": "https://localhost:8080/",
          "height": 126
        }
      },
      "source": [
        "review[0:5]"
      ],
      "execution_count": 8,
      "outputs": [
        {
          "output_type": "execute_result",
          "data": {
            "text/plain": [
              "['O aplicativo possibilita fazer todas as movimentações e acompanhar seu andamento. È fàcil de utilizar, ràpido e possue todas as informações necessàrias ao cliente.',\n",
              " 'Bom',\n",
              " 'Muito bom, gosto muito',\n",
              " 'Muito bom',\n",
              " 'Muito bom tem me ajudado muito pois faço tudo sem precisar sair de casa👏👏👏👏👏']"
            ]
          },
          "metadata": {
            "tags": []
          },
          "execution_count": 8
        }
      ]
    },
    {
      "cell_type": "markdown",
      "metadata": {
        "id": "uGBQdvcz05RW"
      },
      "source": [
        "# Reduzindo o texto (retirando artigos, pontuacao e conjuncao 'e')"
      ]
    },
    {
      "cell_type": "code",
      "metadata": {
        "id": "jF8avHA9udSz"
      },
      "source": [
        "def reduzir_texto(frases):\n",
        "  frase = ''\n",
        "  for item in frases.lower().split():\n",
        "    if item not in ['a', 'o', 'as', 'os', 'da', 'do', 'das', 'dos', 'e']:  # retira os artigos e conjuncao 'e'\n",
        "      if item[-1] in ['.', ',', '!', ';' ]:\n",
        "        frase +=str(item[0:-1])+' '  # retira pontuacao\n",
        "      else:\n",
        "        frase +=str(item)+' '\n",
        "\n",
        "  return frase[:-1]"
      ],
      "execution_count": 9,
      "outputs": []
    },
    {
      "cell_type": "code",
      "metadata": {
        "id": "fFJvfpyp17m4"
      },
      "source": [
        "review_reduzida = []\n",
        "for item in review:\n",
        "  review_reduzida.append(reduzir_texto(item))"
      ],
      "execution_count": 10,
      "outputs": []
    },
    {
      "cell_type": "code",
      "metadata": {
        "id": "9A5mQeDE28AM",
        "outputId": "be22618f-aed9-4d4c-a1dd-b71723bc5e72",
        "colab": {
          "base_uri": "https://localhost:8080/",
          "height": 126
        }
      },
      "source": [
        "review[0:5]"
      ],
      "execution_count": 11,
      "outputs": [
        {
          "output_type": "execute_result",
          "data": {
            "text/plain": [
              "['O aplicativo possibilita fazer todas as movimentações e acompanhar seu andamento. È fàcil de utilizar, ràpido e possue todas as informações necessàrias ao cliente.',\n",
              " 'Bom',\n",
              " 'Muito bom, gosto muito',\n",
              " 'Muito bom',\n",
              " 'Muito bom tem me ajudado muito pois faço tudo sem precisar sair de casa👏👏👏👏👏']"
            ]
          },
          "metadata": {
            "tags": []
          },
          "execution_count": 11
        }
      ]
    },
    {
      "cell_type": "code",
      "metadata": {
        "id": "tl8q_Zfs3obt",
        "outputId": "e6df55be-8707-47cd-c9d8-2cd79190f6da",
        "colab": {
          "base_uri": "https://localhost:8080/",
          "height": 106
        }
      },
      "source": [
        "review_reduzida[0:5]"
      ],
      "execution_count": 12,
      "outputs": [
        {
          "output_type": "execute_result",
          "data": {
            "text/plain": [
              "['aplicativo possibilita fazer todas movimentações acompanhar seu andamento è fàcil de utilizar ràpido possue todas informações necessàrias ao cliente',\n",
              " 'bom',\n",
              " 'muito bom gosto muito',\n",
              " 'muito bom',\n",
              " 'muito bom tem me ajudado muito pois faço tudo sem precisar sair de casa👏👏👏👏👏']"
            ]
          },
          "metadata": {
            "tags": []
          },
          "execution_count": 12
        }
      ]
    },
    {
      "cell_type": "code",
      "metadata": {
        "id": "D9Jtz93JlsND"
      },
      "source": [
        "def calcula(totalreview):\n",
        "  total, max, i = 0, 0, 0\n",
        "  for item in totalreview:\n",
        "    total += len(item)\n",
        "    i+=1\n",
        "    if len(item)> max:\n",
        "      max = len(item)\n",
        "  media = total/i\n",
        "  print(\"Tamanho Médio dos reviews = \" + str(media))\n",
        "  print(\"Maior review = \" + str(max) + \" caracteres\")\n",
        "  print(\"Total de caracteres = \", str(total))\n",
        "  return int(max)"
      ],
      "execution_count": 13,
      "outputs": []
    },
    {
      "cell_type": "code",
      "metadata": {
        "id": "eICavTBHnikf",
        "outputId": "161369ae-67c9-485f-862d-1b49c0d5793e",
        "colab": {
          "base_uri": "https://localhost:8080/",
          "height": 195
        }
      },
      "source": [
        "print('Review completo:')\n",
        "max = calcula(review)\n",
        "print('-------------------')\n",
        "print('Review reduzido:')\n",
        "calcula(review_reduzida)"
      ],
      "execution_count": 14,
      "outputs": [
        {
          "output_type": "stream",
          "text": [
            "Review completo:\n",
            "Tamanho Médio dos reviews = 43.18304431599229\n",
            "Maior review = 1074 caracteres\n",
            "Total de caracteres =  224120\n",
            "-------------------\n",
            "Review reduzido:\n",
            "Tamanho Médio dos reviews = 40.51271676300578\n",
            "Maior review = 1027 caracteres\n",
            "Total de caracteres =  210261\n"
          ],
          "name": "stdout"
        },
        {
          "output_type": "execute_result",
          "data": {
            "text/plain": [
              "1027"
            ]
          },
          "metadata": {
            "tags": []
          },
          "execution_count": 14
        }
      ]
    },
    {
      "cell_type": "code",
      "metadata": {
        "id": "u5119V0faxZY",
        "outputId": "066e3168-1e4a-4ce0-d39f-402d16521db2",
        "colab": {
          "base_uri": "https://localhost:8080/",
          "height": 35
        }
      },
      "source": [
        "max"
      ],
      "execution_count": 15,
      "outputs": [
        {
          "output_type": "execute_result",
          "data": {
            "text/plain": [
              "1074"
            ]
          },
          "metadata": {
            "tags": []
          },
          "execution_count": 15
        }
      ]
    },
    {
      "cell_type": "code",
      "metadata": {
        "id": "h0lZitdDo4Ls",
        "outputId": "4c4465ce-da62-45a2-c621-11b01df8eb0b",
        "colab": {
          "base_uri": "https://localhost:8080/",
          "height": 35
        }
      },
      "source": [
        "tamanhoreviews_lista = []\n",
        "for item in range(max+1):\n",
        "  tamanhoreviews_lista.append(0)\n",
        "len(tamanhoreviews_lista)"
      ],
      "execution_count": 16,
      "outputs": [
        {
          "output_type": "execute_result",
          "data": {
            "text/plain": [
              "1075"
            ]
          },
          "metadata": {
            "tags": []
          },
          "execution_count": 16
        }
      ]
    },
    {
      "cell_type": "code",
      "metadata": {
        "id": "HBUIVDhQphZh"
      },
      "source": [
        "for item in review:\n",
        "  tamanhoreviews_lista[len(item)]+=1"
      ],
      "execution_count": 17,
      "outputs": []
    },
    {
      "cell_type": "code",
      "metadata": {
        "id": "tF7I87o_rkLk",
        "outputId": "9bed17d3-88db-44b1-d079-d9b3c5d5854d",
        "colab": {
          "base_uri": "https://localhost:8080/",
          "height": 35
        }
      },
      "source": [
        "tamanhoreviews_lista = pd.DataFrame(tamanhoreviews_lista, columns=['Tamanho das Reviews'])\n",
        "tamanhoreviews_lista.keys()"
      ],
      "execution_count": 18,
      "outputs": [
        {
          "output_type": "execute_result",
          "data": {
            "text/plain": [
              "Index(['Tamanho das Reviews'], dtype='object')"
            ]
          },
          "metadata": {
            "tags": []
          },
          "execution_count": 18
        }
      ]
    },
    {
      "cell_type": "code",
      "metadata": {
        "id": "sc9N8ALcqsdz",
        "outputId": "702c7362-feb1-4d34-b302-f4856f0a7fdd",
        "colab": {
          "base_uri": "https://localhost:8080/",
          "height": 298
        }
      },
      "source": [
        "sns.countplot(x='Tamanho das Reviews', data=tamanhoreviews_lista, )"
      ],
      "execution_count": 19,
      "outputs": [
        {
          "output_type": "execute_result",
          "data": {
            "text/plain": [
              "<matplotlib.axes._subplots.AxesSubplot at 0x7fa648d06940>"
            ]
          },
          "metadata": {
            "tags": []
          },
          "execution_count": 19
        },
        {
          "output_type": "display_data",
          "data": {
            "image/png": "[encoded data removed]",
            "text/plain": [
              "<Figure size 432x288 with 1 Axes>"
            ]
          },
          "metadata": {
            "tags": [],
            "needs_background": "light"
          }
        }
      ]
    },
    {
      "cell_type": "code",
      "metadata": {
        "id": "TUcPsq0cDWY-",
        "outputId": "05aad213-95c8-48cc-b328-7af914ee696c",
        "colab": {
          "base_uri": "https://localhost:8080/",
          "height": 334
        }
      },
      "source": [
        "fig, ax =plt.subplots(1,2, figsize=(15,5))\n",
        "sns.countplot(x=dataset['score'], ax=ax[0])\n",
        "sns.countplot(x=dataset['Natureza'], ax=ax[1])\n",
        "fig.show()"
      ],
      "execution_count": 20,
      "outputs": [
        {
          "output_type": "display_data",
          "data": {
            "image/png": "[encoded data removed]",
            "text/plain": [
              "<Figure size 1080x360 with 2 Axes>"
            ]
          },
          "metadata": {
            "tags": [],
            "needs_background": "light"
          }
        }
      ]
    },
    {
      "cell_type": "code",
      "metadata": {
        "id": "nOfLNgcsE7Z3",
        "outputId": "515f83fc-26a3-4eb1-9aa6-31f082464d16",
        "colab": {
          "base_uri": "https://localhost:8080/",
          "height": 230
        }
      },
      "source": [
        "print(dataset['score'].value_counts())\n",
        "print('------------------------------')\n",
        "print(dataset['Natureza'].value_counts())"
      ],
      "execution_count": 21,
      "outputs": [
        {
          "output_type": "stream",
          "text": [
            "5    4260\n",
            "4     515\n",
            "1     200\n",
            "3     149\n",
            "2      66\n",
            "Name: score, dtype: int64\n",
            "------------------------------\n",
            "Opinião       3562\n",
            "Negocial      1223\n",
            "Técnica        361\n",
            "Indefinida      44\n",
            "Name: Natureza, dtype: int64\n"
          ],
          "name": "stdout"
        }
      ]
    },
    {
      "cell_type": "code",
      "metadata": {
        "id": "TkmGupZWEST0",
        "outputId": "c3f0a2a8-7475-4b7c-8026-15c66daf1c7b",
        "colab": {
          "base_uri": "https://localhost:8080/",
          "height": 244
        }
      },
      "source": [
        "fig, ax =plt.subplots(1,2, figsize=(30,5))\n",
        "sns.countplot(x=dataset['Classificação'], ax=ax[0])\n",
        "sns.countplot(x=dataset['Produtos/Serviços'], ax=ax[1])\n",
        "fig.show()"
      ],
      "execution_count": 22,
      "outputs": [
        {
          "output_type": "display_data",
          "data": {
            "image/png": "[encoded data removed]",
            "text/plain": [
              "<Figure size 2160x360 with 2 Axes>"
            ]
          },
          "metadata": {
            "tags": [],
            "needs_background": "light"
          }
        }
      ]
    },
    {
      "cell_type": "code",
      "metadata": {
        "id": "VHd49cfMErbp",
        "outputId": "9aa9fb0d-b4ed-4833-9cf7-eaf83c3d047e",
        "colab": {
          "base_uri": "https://localhost:8080/",
          "height": 408
        }
      },
      "source": [
        "print(dataset['Classificação'].value_counts())\n",
        "print('------------------------------')\n",
        "print(dataset['Produtos/Serviços'].value_counts())"
      ],
      "execution_count": 23,
      "outputs": [
        {
          "output_type": "stream",
          "text": [
            "Elogio         4684\n",
            "Reclamação      362\n",
            "Crítica          62\n",
            "Neutra           42\n",
            "Dúvida           18\n",
            "Sugestão         10\n",
            "Solicitação       6\n",
            "Resposta          6\n",
            "Name: Classificação, dtype: int64\n",
            "------------------------------\n",
            "Aplicativo                   4731\n",
            "Empresa                        69\n",
            "Atendimento                    42\n",
            "Abertura Conta Fácil           40\n",
            "Leitor de Código de Barra      28\n",
            "                             ... \n",
            "Extrato de Poupança             1\n",
            "Financiamento de Imóvel         1\n",
            "INSS - Benefício                1\n",
            "Cadastro de Senha               1\n",
            "Pagamento do Boleto             1\n",
            "Name: Produtos/Serviços, Length: 77, dtype: int64\n"
          ],
          "name": "stdout"
        }
      ]
    },
    {
      "cell_type": "markdown",
      "metadata": {
        "id": "3Co3nFImrE8C"
      },
      "source": [
        "# Creating the Test and Validation Datasets"
      ]
    },
    {
      "cell_type": "code",
      "metadata": {
        "id": "BUgRf8ibugS-",
        "outputId": "ea36edda-fff4-4f82-cf85-e717744be146",
        "colab": {
          "base_uri": "https://localhost:8080/",
          "height": 194
        }
      },
      "source": [
        "dataset2 = pd.DataFrame(dataset, columns=['score', 'review', 'Natureza', 'Classificação', 'Produtos/Serviços','Detalhamento', 'Descrição do Problema'])\n",
        "dataset2[0:5]"
      ],
      "execution_count": 24,
      "outputs": [
        {
          "output_type": "execute_result",
          "data": {
            "text/html": [
              "<div>\n",
              "<style scoped>\n",
              "    .dataframe tbody tr th:only-of-type {\n",
              "        vertical-align: middle;\n",
              "    }\n",
              "\n",
              "    .dataframe tbody tr th {\n",
              "        vertical-align: top;\n",
              "    }\n",
              "\n",
              "    .dataframe thead th {\n",
              "        text-align: right;\n",
              "    }\n",
              "</style>\n",
              "<table border=\"1\" class=\"dataframe\">\n",
              "  <thead>\n",
              "    <tr style=\"text-align: right;\">\n",
              "      <th></th>\n",
              "      <th>score</th>\n",
              "      <th>review</th>\n",
              "      <th>Natureza</th>\n",
              "      <th>Classificação</th>\n",
              "      <th>Produtos/Serviços</th>\n",
              "      <th>Detalhamento</th>\n",
              "      <th>Descrição do Problema</th>\n",
              "    </tr>\n",
              "  </thead>\n",
              "  <tbody>\n",
              "    <tr>\n",
              "      <th>0</th>\n",
              "      <td>5</td>\n",
              "      <td>O aplicativo possibilita fazer todas as movime...</td>\n",
              "      <td>Opinião</td>\n",
              "      <td>Elogio</td>\n",
              "      <td>Aplicativo</td>\n",
              "      <td>NaN</td>\n",
              "      <td>NaN</td>\n",
              "    </tr>\n",
              "    <tr>\n",
              "      <th>1</th>\n",
              "      <td>1</td>\n",
              "      <td>Bom</td>\n",
              "      <td>Opinião</td>\n",
              "      <td>Elogio</td>\n",
              "      <td>Aplicativo</td>\n",
              "      <td>NaN</td>\n",
              "      <td>NaN</td>\n",
              "    </tr>\n",
              "    <tr>\n",
              "      <th>2</th>\n",
              "      <td>5</td>\n",
              "      <td>Muito bom, gosto muito</td>\n",
              "      <td>Opinião</td>\n",
              "      <td>Elogio</td>\n",
              "      <td>Aplicativo</td>\n",
              "      <td>NaN</td>\n",
              "      <td>NaN</td>\n",
              "    </tr>\n",
              "    <tr>\n",
              "      <th>3</th>\n",
              "      <td>4</td>\n",
              "      <td>Muito bom</td>\n",
              "      <td>Opinião</td>\n",
              "      <td>Elogio</td>\n",
              "      <td>Aplicativo</td>\n",
              "      <td>NaN</td>\n",
              "      <td>NaN</td>\n",
              "    </tr>\n",
              "    <tr>\n",
              "      <th>4</th>\n",
              "      <td>5</td>\n",
              "      <td>Muito bom tem me ajudado muito pois faço tudo ...</td>\n",
              "      <td>Opinião</td>\n",
              "      <td>Elogio</td>\n",
              "      <td>Aplicativo</td>\n",
              "      <td>NaN</td>\n",
              "      <td>NaN</td>\n",
              "    </tr>\n",
              "  </tbody>\n",
              "</table>\n",
              "</div>"
            ],
            "text/plain": [
              "   score  ... Descrição do Problema\n",
              "0      5  ...                   NaN\n",
              "1      1  ...                   NaN\n",
              "2      5  ...                   NaN\n",
              "3      4  ...                   NaN\n",
              "4      5  ...                   NaN\n",
              "\n",
              "[5 rows x 7 columns]"
            ]
          },
          "metadata": {
            "tags": []
          },
          "execution_count": 24
        }
      ]
    },
    {
      "cell_type": "code",
      "metadata": {
        "id": "pvd1OO83SD_X",
        "outputId": "8494832f-3635-4bed-a9e4-5e534c7c7cdd",
        "colab": {
          "base_uri": "https://localhost:8080/",
          "height": 194
        }
      },
      "source": [
        "dataset_natureza = pd.DataFrame(dataset, columns=['score', 'review', 'Natureza'])\n",
        "dataset_natureza[0:5]"
      ],
      "execution_count": 26,
      "outputs": [
        {
          "output_type": "execute_result",
          "data": {
            "text/html": [
              "<div>\n",
              "<style scoped>\n",
              "    .dataframe tbody tr th:only-of-type {\n",
              "        vertical-align: middle;\n",
              "    }\n",
              "\n",
              "    .dataframe tbody tr th {\n",
              "        vertical-align: top;\n",
              "    }\n",
              "\n",
              "    .dataframe thead th {\n",
              "        text-align: right;\n",
              "    }\n",
              "</style>\n",
              "<table border=\"1\" class=\"dataframe\">\n",
              "  <thead>\n",
              "    <tr style=\"text-align: right;\">\n",
              "      <th></th>\n",
              "      <th>score</th>\n",
              "      <th>review</th>\n",
              "      <th>Natureza</th>\n",
              "    </tr>\n",
              "  </thead>\n",
              "  <tbody>\n",
              "    <tr>\n",
              "      <th>0</th>\n",
              "      <td>5</td>\n",
              "      <td>O aplicativo possibilita fazer todas as movime...</td>\n",
              "      <td>Opinião</td>\n",
              "    </tr>\n",
              "    <tr>\n",
              "      <th>1</th>\n",
              "      <td>1</td>\n",
              "      <td>Bom</td>\n",
              "      <td>Opinião</td>\n",
              "    </tr>\n",
              "    <tr>\n",
              "      <th>2</th>\n",
              "      <td>5</td>\n",
              "      <td>Muito bom, gosto muito</td>\n",
              "      <td>Opinião</td>\n",
              "    </tr>\n",
              "    <tr>\n",
              "      <th>3</th>\n",
              "      <td>4</td>\n",
              "      <td>Muito bom</td>\n",
              "      <td>Opinião</td>\n",
              "    </tr>\n",
              "    <tr>\n",
              "      <th>4</th>\n",
              "      <td>5</td>\n",
              "      <td>Muito bom tem me ajudado muito pois faço tudo ...</td>\n",
              "      <td>Opinião</td>\n",
              "    </tr>\n",
              "  </tbody>\n",
              "</table>\n",
              "</div>"
            ],
            "text/plain": [
              "   score                                             review Natureza\n",
              "0      5  O aplicativo possibilita fazer todas as movime...  Opinião\n",
              "1      1                                                Bom  Opinião\n",
              "2      5                             Muito bom, gosto muito  Opinião\n",
              "3      4                                          Muito bom  Opinião\n",
              "4      5  Muito bom tem me ajudado muito pois faço tudo ...  Opinião"
            ]
          },
          "metadata": {
            "tags": []
          },
          "execution_count": 26
        }
      ]
    }
  ]
}