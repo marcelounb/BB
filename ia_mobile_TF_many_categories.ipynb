{
  "nbformat": 4,
  "nbformat_minor": 0,
  "metadata": {
    "colab": {
      "name": "ia-mobile-TF-many_categories.ipynb",
      "provenance": [],
      "collapsed_sections": [],
      "toc_visible": true,
      "authorship_tag": "ABX9TyNvG/gqR2rZXPc5k9Tp7x5u",
      "include_colab_link": true
    },
    "kernelspec": {
      "name": "python3",
      "display_name": "Python 3"
    }
  },
  "cells": [
    {
      "cell_type": "markdown",
      "metadata": {
        "id": "view-in-github",
        "colab_type": "text"
      },
      "source": [
        "<a href=\"https://colab.research.google.com/github/marcelounb/BB/blob/master/ia_mobile_TF_many_categories.ipynb\" target=\"_parent\"><img src=\"https://colab.research.google.com/assets/colab-badge.svg\" alt=\"Open In Colab\"/></a>"
      ]
    },
    {
      "cell_type": "code",
      "metadata": {
        "id": "rHxltmnRU9ln"
      },
      "source": [
        "import os\n",
        "from google.colab import files\n",
        "import pandas as pd\n",
        "import numpy as np\n",
        "import seaborn as sns\n",
        "import matplotlib.pyplot as plt"
      ],
      "execution_count": 1,
      "outputs": []
    },
    {
      "cell_type": "code",
      "metadata": {
        "id": "Gm9AZVQPZCOA"
      },
      "source": [
        "import tensorflow as tf\n",
        "from tensorflow.keras.preprocessing.text import Tokenizer\n",
        "from tensorflow.keras.preprocessing.sequence import pad_sequences"
      ],
      "execution_count": 2,
      "outputs": []
    },
    {
      "cell_type": "code",
      "metadata": {
        "id": "PPusEovcWEkH"
      },
      "source": [
        "path = \"/content/fulldataset.xlsx\""
      ],
      "execution_count": 3,
      "outputs": []
    },
    {
      "cell_type": "code",
      "metadata": {
        "id": "g92V1APjhYbE"
      },
      "source": [
        "dataset = pd.read_excel(path, sheet_name=0, header=0, dtype={'score': np.int32})\n",
        "\n",
        "# Just extract out sentences and labels first - we will create subwords here\n",
        "responsavel = dataset['Responsável'].tolist()\n",
        "natureza = dataset['Natureza'].tolist()\n",
        "classificacao = dataset['Classificação'].tolist()\n",
        "produtos_servicos = dataset['Produtos/Serviços'].tolist()\n",
        "detalhamento = dataset['Detalhamento'].tolist()\n",
        "review = dataset['review'].tolist()\n",
        "score = dataset['score'].tolist()"
      ],
      "execution_count": 4,
      "outputs": []
    },
    {
      "cell_type": "code",
      "metadata": {
        "id": "5NpGdb_uLA49"
      },
      "source": [
        "# Separate out the sentences and labels into training and test sets\n",
        "training_size = int(len(review) * 0.8)\n",
        "\n",
        "training_sentences = review[0:training_size]\n",
        "testing_sentences = review[training_size:]\n",
        "training_labels = classificacao[0:training_size]\n",
        "testing_labels = classificacao[training_size:]\n",
        "\n"
      ],
      "execution_count": 5,
      "outputs": []
    },
    {
      "cell_type": "code",
      "metadata": {
        "id": "NbNSl_79Lzy2",
        "outputId": "f2d4a0d8-47e1-4609-f7e7-e3d8fa3b2425",
        "colab": {
          "base_uri": "https://localhost:8080/",
          "height": 35
        }
      },
      "source": [
        "type(training_labels[2])"
      ],
      "execution_count": 6,
      "outputs": [
        {
          "output_type": "execute_result",
          "data": {
            "text/plain": [
              "str"
            ]
          },
          "metadata": {
            "tags": []
          },
          "execution_count": 6
        }
      ]
    },
    {
      "cell_type": "code",
      "metadata": {
        "id": "tTjjZBvBsCWr",
        "outputId": "6a3ea7f4-a7c9-406d-948a-4d9e0c2cf1ff",
        "colab": {
          "base_uri": "https://localhost:8080/",
          "height": 159
        }
      },
      "source": [
        "# Tokenizing classificacao\n",
        "tokenizer = Tokenizer()\n",
        "tokenizer.fit_on_texts(classificacao)\n",
        "word_index = tokenizer.word_index\n",
        "word_index"
      ],
      "execution_count": 7,
      "outputs": [
        {
          "output_type": "execute_result",
          "data": {
            "text/plain": [
              "{'crítica': 3,\n",
              " 'dúvida': 5,\n",
              " 'elogio': 1,\n",
              " 'neutra': 4,\n",
              " 'reclamação': 2,\n",
              " 'resposta': 8,\n",
              " 'solicitação': 7,\n",
              " 'sugestão': 6}"
            ]
          },
          "metadata": {
            "tags": []
          },
          "execution_count": 7
        }
      ]
    },
    {
      "cell_type": "code",
      "metadata": {
        "id": "UWebeXeOa8uC"
      },
      "source": [
        "len(word_index)\n",
        "tamanho_classes = len(word_index)+1"
      ],
      "execution_count": 8,
      "outputs": []
    },
    {
      "cell_type": "code",
      "metadata": {
        "id": "UduFqej4MhGx"
      },
      "source": [
        "def transforming_labels(lista):\n",
        "  temp = []\n",
        "  for item in lista:\n",
        "    temp.append(word_index.get(item.lower()))\n",
        "  return temp"
      ],
      "execution_count": 9,
      "outputs": []
    },
    {
      "cell_type": "code",
      "metadata": {
        "id": "YLoT5goWUSR-"
      },
      "source": [
        "training_labels = transforming_labels(training_labels)\n",
        "testing_labels = transforming_labels(testing_labels)"
      ],
      "execution_count": 10,
      "outputs": []
    },
    {
      "cell_type": "code",
      "metadata": {
        "id": "b-zHPSabUgpX",
        "outputId": "4883f581-72cf-4c41-a718-84d0d4278aa6",
        "colab": {
          "base_uri": "https://localhost:8080/",
          "height": 35
        }
      },
      "source": [
        "training_labels[0:20]"
      ],
      "execution_count": 11,
      "outputs": [
        {
          "output_type": "execute_result",
          "data": {
            "text/plain": [
              "[1, 1, 1, 1, 1, 1, 1, 1, 1, 1, 1, 1, 1, 1, 1, 1, 1, 2, 1, 1]"
            ]
          },
          "metadata": {
            "tags": []
          },
          "execution_count": 11
        }
      ]
    },
    {
      "cell_type": "code",
      "metadata": {
        "id": "KXxpaO8RLzEv"
      },
      "source": [
        "# Make labels into numpy arrays for use with the network later\n",
        "training_labels_final = np.array(training_labels)\n",
        "testing_labels_final = np.array(testing_labels)"
      ],
      "execution_count": 12,
      "outputs": []
    },
    {
      "cell_type": "code",
      "metadata": {
        "id": "XXnYlW6CLqgp",
        "outputId": "45ca58fd-03a6-42de-d529-caa38df3e8aa",
        "colab": {
          "base_uri": "https://localhost:8080/",
          "height": 35
        }
      },
      "source": [
        "training_labels_final"
      ],
      "execution_count": 13,
      "outputs": [
        {
          "output_type": "execute_result",
          "data": {
            "text/plain": [
              "array([1, 1, 1, ..., 1, 1, 1])"
            ]
          },
          "metadata": {
            "tags": []
          },
          "execution_count": 13
        }
      ]
    },
    {
      "cell_type": "code",
      "metadata": {
        "id": "_dPCpO9fJIpy",
        "outputId": "0beaf7b4-06b9-4cb8-e6ba-78379aadbc38",
        "colab": {
          "base_uri": "https://localhost:8080/",
          "height": 55
        }
      },
      "source": [
        "print(training_sentences[0:5])"
      ],
      "execution_count": 14,
      "outputs": [
        {
          "output_type": "stream",
          "text": [
            "['O aplicativo possibilita fazer todas as movimentações e acompanhar seu andamento. È fàcil de utilizar, ràpido e possue todas as informações necessàrias ao cliente.', 'Bom', 'Muito bom, gosto muito', 'Muito bom', 'Muito bom tem me ajudado muito pois faço tudo sem precisar sair de casa👏👏👏👏👏']\n"
          ],
          "name": "stdout"
        }
      ]
    },
    {
      "cell_type": "code",
      "metadata": {
        "id": "CblxCkbTr5Eg",
        "outputId": "bc6d1316-d4bd-481e-f09d-d211f63a47f7",
        "colab": {
          "base_uri": "https://localhost:8080/",
          "height": 35
        }
      },
      "source": [
        "print(training_labels[0:20], testing_labels[0:20])"
      ],
      "execution_count": 15,
      "outputs": [
        {
          "output_type": "stream",
          "text": [
            "[1, 1, 1, 1, 1, 1, 1, 1, 1, 1, 1, 1, 1, 1, 1, 1, 1, 2, 1, 1] [1, 1, 1, 1, 1, 1, 1, 1, 2, 1, 1, 1, 1, 1, 1, 1, 1, 1, 1, 1]\n"
          ],
          "name": "stdout"
        }
      ]
    },
    {
      "cell_type": "markdown",
      "metadata": {
        "id": "ZpuhhlBjqHuz"
      },
      "source": [
        "# Tokenize the dataset\n",
        "Tokenize the dataset, including padding and OOV"
      ]
    },
    {
      "cell_type": "code",
      "metadata": {
        "id": "XmV-F-fnkBTy"
      },
      "source": [
        "vocab_size = 1000\n",
        "embedding_dim = 16\n",
        "max_length = 100\n",
        "trunc_type='post'\n",
        "padding_type='post'\n",
        "oov_tok = \"<OOV>\"\n",
        "\n",
        "\n",
        "from tensorflow.keras.preprocessing.text import Tokenizer\n",
        "from tensorflow.keras.preprocessing.sequence import pad_sequences\n",
        "\n",
        "tokenizer = Tokenizer(num_words = vocab_size, oov_token=oov_tok)\n",
        "tokenizer.fit_on_texts(training_sentences)\n",
        "word_index = tokenizer.word_index\n",
        "sequences = tokenizer.texts_to_sequences(training_sentences)\n",
        "padded = pad_sequences(sequences,maxlen=max_length, padding=padding_type, \n",
        "                       truncating=trunc_type)\n",
        "\n",
        "testing_sequences = tokenizer.texts_to_sequences(testing_sentences)\n",
        "testing_padded = pad_sequences(testing_sequences,maxlen=max_length, \n",
        "                               padding=padding_type, truncating=trunc_type)"
      ],
      "execution_count": 16,
      "outputs": []
    },
    {
      "cell_type": "markdown",
      "metadata": {
        "id": "m3_BKIWAu8v-"
      },
      "source": [
        "# Review a Sequence\n",
        "Let's quickly take a look at one of the padded sequences to ensure everything above worked appropriately."
      ]
    },
    {
      "cell_type": "code",
      "metadata": {
        "id": "rF5Y58Mdu5-D",
        "outputId": "6f6af615-3ba7-4de0-c310-e709c72e16c5",
        "colab": {
          "base_uri": "https://localhost:8080/",
          "height": 72
        }
      },
      "source": [
        "reverse_word_index = dict([(value, key) for (key, value) in word_index.items()])\n",
        "\n",
        "def decode_review(text):\n",
        "    return ' '.join([reverse_word_index.get(i, 'x') for i in text])\n",
        "\n",
        "print(decode_review(padded[0]))\n",
        "print(training_sentences[0])"
      ],
      "execution_count": 17,
      "outputs": [
        {
          "output_type": "stream",
          "text": [
            "o aplicativo <OOV> fazer todas as movimentações e acompanhar seu <OOV> è <OOV> de utilizar <OOV> e <OOV> todas as informações <OOV> ao cliente x x x x x x x x x x x x x x x x x x x x x x x x x x x x x x x x x x x x x x x x x x x x x x x x x x x x x x x x x x x x x x x x x x x x x x x x x x x x\n",
            "O aplicativo possibilita fazer todas as movimentações e acompanhar seu andamento. È fàcil de utilizar, ràpido e possue todas as informações necessàrias ao cliente.\n"
          ],
          "name": "stdout"
        }
      ]
    },
    {
      "cell_type": "code",
      "metadata": {
        "id": "cBkJhBxPJz8u",
        "outputId": "fb64b865-a2c3-4ed0-c0a6-4962b416a191",
        "colab": {
          "base_uri": "https://localhost:8080/",
          "height": 35
        }
      },
      "source": [
        "training_labels_final[1]"
      ],
      "execution_count": 18,
      "outputs": [
        {
          "output_type": "execute_result",
          "data": {
            "text/plain": [
              "1"
            ]
          },
          "metadata": {
            "tags": []
          },
          "execution_count": 18
        }
      ]
    },
    {
      "cell_type": "markdown",
      "metadata": {
        "id": "pZiw1BUsvJJk"
      },
      "source": [
        "# Train a Basic Sentiment Model with Embeddings"
      ]
    },
    {
      "cell_type": "code",
      "metadata": {
        "id": "Aqio4n48vKCT",
        "outputId": "e5e1a7ab-f297-4c8e-f878-e23ae7db543d",
        "colab": {
          "base_uri": "https://localhost:8080/",
          "height": 408
        }
      },
      "source": [
        "# Build a basic sentiment network\n",
        "# Note the embedding layer is first, \n",
        "# and the output is only 1 node as it is either 0 or 1 (negative or positive)\n",
        "model = tf.keras.Sequential([\n",
        "    tf.keras.layers.Embedding(vocab_size, embedding_dim, input_length=max_length),\n",
        "    tf.keras.layers.Flatten(),\n",
        "    # tf.keras.layers.Dense(50, activation='relu', input_shape=(100,)),\n",
        "    tf.keras.layers.Dense(100, activation='relu'),\n",
        "    tf.keras.layers.Dropout(0.1),\n",
        "    tf.keras.layers.Dense(100, activation='relu'),\n",
        "    tf.keras.layers.Dense(50, activation='relu'),\n",
        "    tf.keras.layers.Dense(tamanho_classes, activation='softmax')\n",
        "])\n",
        "\n",
        "\n",
        "# model.compile(loss='categorical_crossentropy',optimizer='adam',metrics=['accuracy'])\n",
        "model.compile(loss='sparse_categorical_crossentropy',optimizer='adam',metrics=['accuracy'])\n",
        "model.summary()"
      ],
      "execution_count": 19,
      "outputs": [
        {
          "output_type": "stream",
          "text": [
            "Model: \"sequential\"\n",
            "_________________________________________________________________\n",
            "Layer (type)                 Output Shape              Param #   \n",
            "=================================================================\n",
            "embedding (Embedding)        (None, 100, 16)           16000     \n",
            "_________________________________________________________________\n",
            "flatten (Flatten)            (None, 1600)              0         \n",
            "_________________________________________________________________\n",
            "dense (Dense)                (None, 100)               160100    \n",
            "_________________________________________________________________\n",
            "dropout (Dropout)            (None, 100)               0         \n",
            "_________________________________________________________________\n",
            "dense_1 (Dense)              (None, 100)               10100     \n",
            "_________________________________________________________________\n",
            "dense_2 (Dense)              (None, 50)                5050      \n",
            "_________________________________________________________________\n",
            "dense_3 (Dense)              (None, 9)                 459       \n",
            "=================================================================\n",
            "Total params: 191,709\n",
            "Trainable params: 191,709\n",
            "Non-trainable params: 0\n",
            "_________________________________________________________________\n"
          ],
          "name": "stdout"
        }
      ]
    },
    {
      "cell_type": "code",
      "metadata": {
        "id": "w_X8h0DMvUaR",
        "outputId": "c1d4eeec-784d-4b32-8008-e6bf424cd0a3",
        "colab": {
          "base_uri": "https://localhost:8080/",
          "height": 195
        }
      },
      "source": [
        "num_epochs = 5\n",
        "hist = model.fit(padded, training_labels_final, epochs=num_epochs, validation_data=(testing_padded, testing_labels_final))"
      ],
      "execution_count": 20,
      "outputs": [
        {
          "output_type": "stream",
          "text": [
            "Epoch 1/5\n",
            "130/130 [==============================] - 1s 5ms/step - loss: 0.4394 - accuracy: 0.9135 - val_loss: 0.3241 - val_accuracy: 0.9114\n",
            "Epoch 2/5\n",
            "130/130 [==============================] - 0s 4ms/step - loss: 0.2121 - accuracy: 0.9451 - val_loss: 0.2491 - val_accuracy: 0.9326\n",
            "Epoch 3/5\n",
            "130/130 [==============================] - 0s 4ms/step - loss: 0.1637 - accuracy: 0.9583 - val_loss: 0.2483 - val_accuracy: 0.9345\n",
            "Epoch 4/5\n",
            "130/130 [==============================] - 0s 4ms/step - loss: 0.1284 - accuracy: 0.9651 - val_loss: 0.2575 - val_accuracy: 0.9374\n",
            "Epoch 5/5\n",
            "130/130 [==============================] - 0s 4ms/step - loss: 0.0998 - accuracy: 0.9709 - val_loss: 0.2947 - val_accuracy: 0.9383\n"
          ],
          "name": "stdout"
        }
      ]
    },
    {
      "cell_type": "code",
      "metadata": {
        "id": "_XE3ozHpafpu",
        "outputId": "c8d2c2a8-0923-4a22-f334-5df3b0ca19c6",
        "colab": {
          "base_uri": "https://localhost:8080/",
          "height": 35
        }
      },
      "source": [
        "scores = model.evaluate(testing_padded, testing_labels_final, verbose=0)\n",
        "print(\"Baseline Error: %.2f%%\" % (100-scores[1]*100))"
      ],
      "execution_count": 21,
      "outputs": [
        {
          "output_type": "stream",
          "text": [
            "Baseline Error: 6.17%\n"
          ],
          "name": "stdout"
        }
      ]
    },
    {
      "cell_type": "code",
      "metadata": {
        "id": "P1N1UnuRV1Ik",
        "outputId": "b6990dd4-da80-4d1e-dcca-75157b6813a3",
        "colab": {
          "base_uri": "https://localhost:8080/",
          "height": 35
        }
      },
      "source": [
        "hist.history.keys()"
      ],
      "execution_count": 22,
      "outputs": [
        {
          "output_type": "execute_result",
          "data": {
            "text/plain": [
              "dict_keys(['loss', 'accuracy', 'val_loss', 'val_accuracy'])"
            ]
          },
          "metadata": {
            "tags": []
          },
          "execution_count": 22
        }
      ]
    },
    {
      "cell_type": "code",
      "metadata": {
        "id": "PM6SppHpWDOC",
        "outputId": "33dee381-1709-46c5-d824-893c9f4b2428",
        "colab": {
          "base_uri": "https://localhost:8080/",
          "height": 573
        }
      },
      "source": [
        "plt.plot(hist.history[ 'accuracy' ])\n",
        "plt.plot(hist.history[ 'val_accuracy' ])\n",
        "plt.title( 'model accuracy' )\n",
        "plt.ylabel( 'accuracy')\n",
        "plt.xlabel( 'epoch' )\n",
        "plt.legend([ 'train' , 'test' ], loc= 'upper left' )\n",
        "plt.show()\n",
        "# summarize history for loss\n",
        "plt.plot(hist.history[ 'loss' ])\n",
        "plt.plot(hist.history[ 'val_loss' ])\n",
        "plt.title( 'model loss' )\n",
        "plt.ylabel( 'loss' )\n",
        "plt.xlabel( 'epoch' )\n",
        "plt.legend([ 'train' , 'test' ], loc= 'upper left' )\n",
        "plt.show()"
      ],
      "execution_count": 23,
      "outputs": [
        {
          "output_type": "display_data",
          "data": {
            "image/png": "[encoded data removed]",
            "text/plain": [
              "<Figure size 432x288 with 1 Axes>"
            ]
          },
          "metadata": {
            "tags": [],
            "needs_background": "light"
          }
        },
        {
          "output_type": "display_data",
          "data": {
            "image/png": "[encoded data removed]",
            "text/plain": [
              "<Figure size 432x288 with 1 Axes>"
            ]
          },
          "metadata": {
            "tags": [],
            "needs_background": "light"
          }
        }
      ]
    },
    {
      "cell_type": "markdown",
      "metadata": {
        "id": "U07GTfbEDn1G"
      },
      "source": [
        "# Novas Predições:"
      ]
    },
    {
      "cell_type": "code",
      "metadata": {
        "id": "arh6UpnqDvFL"
      },
      "source": [
        "path = \"/content/predicao-arquivo-novo.xlsx\""
      ],
      "execution_count": null,
      "outputs": []
    },
    {
      "cell_type": "code",
      "metadata": {
        "id": "N8uD8G3kD-OT"
      },
      "source": [
        "dataset = pd.read_excel(path, sheet_name=0, header=0, dtype={'score': np.int32})\n",
        "\n",
        "# Just extract out sentences and labels first - we will create subwords here\n",
        "responsavel = dataset['Responsável'].tolist()\n",
        "natureza = dataset['Natureza'].tolist()\n",
        "classificacao = dataset['Classificação'].tolist()\n",
        "produtos_servicos = dataset['Produtos/Serviços'].tolist()\n",
        "detalhamento = dataset['Detalhamento'].tolist()\n",
        "review = dataset['review'].tolist()\n",
        "score = dataset['score'].tolist()"
      ],
      "execution_count": 24,
      "outputs": []
    },
    {
      "cell_type": "code",
      "metadata": {
        "id": "ZPXN26dFFzLK",
        "outputId": "11efa448-f792-4b82-ac30-b5be8f80c32d",
        "colab": {
          "base_uri": "https://localhost:8080/",
          "height": 161
        }
      },
      "source": [
        "# Use the model to predict a review   \n",
        "fake_reviews = classificacao\n",
        "\n",
        "print(fake_reviews) \n",
        "\n",
        "# Create the sequences\n",
        "padding_type='post'\n",
        "sample_sequences = tokenizer.texts_to_sequences(fake_reviews)\n",
        "fakes_padded = pad_sequences(sample_sequences, padding=padding_type, maxlen=max_length)           \n",
        "\n",
        "print('\\nHOT OFF THE PRESS! HERE ARE SOME NEWLY MINTED, ABSOLUTELY GENUINE REVIEWS!\\n')              \n",
        "\n",
        "classes = model.predict(fakes_padded)\n",
        "\n",
        "print(fake_reviews[17])\n",
        "print(classes[17])"
      ],
      "execution_count": 55,
      "outputs": [
        {
          "output_type": "stream",
          "text": [
            "['Elogio', 'Elogio', 'Elogio', 'Elogio', 'Elogio', 'Elogio', 'Elogio', 'Elogio', 'Elogio', 'Elogio', 'Elogio', 'Elogio', 'Elogio', 'Elogio', 'Elogio', 'Elogio', 'Elogio', 'Reclamação', 'Elogio', 'Elogio', 'Elogio', 'Elogio', 'Elogio', 'Elogio', 'Elogio', 'Elogio', 'Elogio', 'Elogio', 'Elogio', 'Elogio', 'Elogio', 'Elogio', 'Elogio', 'Elogio', 'Reclamação', 'Elogio', 'Elogio', 'Elogio', 'Elogio', 'Elogio', 'Elogio', 'Elogio', 'Elogio', 'Elogio', 'Elogio', 'Elogio', 'Elogio', 'Elogio', 'Elogio', 'Elogio', 'Elogio', 'Elogio', 'Elogio', 'Elogio', 'Elogio', 'Elogio', 'Elogio', 'Elogio', 'Elogio', 'Elogio', 'Elogio', 'Elogio', 'Elogio', 'Elogio', 'Elogio', 'Elogio', 'Elogio', 'Elogio', 'Elogio', 'Elogio', 'Elogio', 'Elogio', 'Elogio', 'Elogio', 'Elogio', 'Elogio', 'Elogio', 'Elogio', 'Elogio', 'Elogio', 'Elogio', 'Elogio', 'Elogio', 'Elogio', 'Elogio', 'Elogio', 'Elogio', 'Elogio', 'Elogio', 'Elogio', 'Elogio', 'Elogio', 'Elogio', 'Elogio', 'Elogio', 'Elogio', 'Elogio', 'Elogio', 'Elogio', 'Elogio', 'Elogio', 'Elogio', 'Elogio', 'Elogio', 'Reclamação', 'Elogio', 'Elogio', 'Elogio', 'Elogio', 'Elogio', 'Elogio', 'Elogio', 'Elogio', 'Elogio', 'Elogio', 'Elogio', 'Elogio', 'Elogio', 'Elogio', 'Elogio', 'Elogio', 'Elogio', 'Elogio', 'Elogio', 'Elogio', 'Elogio', 'Elogio', 'Elogio', 'Elogio', 'Elogio', 'Elogio', 'Elogio', 'Elogio', 'Elogio', 'Elogio', 'Elogio', 'Elogio', 'Elogio', 'Elogio', 'Crítica', 'Elogio', 'Elogio', 'Elogio', 'Elogio', 'Elogio', 'Elogio', 'Elogio', 'Elogio', 'Elogio', 'Elogio', 'Crítica', 'Elogio', 'Elogio', 'Elogio', 'Elogio', 'Reclamação', 'Elogio', 'Elogio', 'Elogio', 'Elogio', 'Elogio', 'Elogio', 'Elogio', 'Elogio', 'Elogio', 'Elogio', 'Elogio', 'Elogio', 'Elogio', 'Elogio', 'Elogio', 'Elogio', 'Elogio', 'Elogio', 'Reclamação', 'Solicitação', 'Elogio', 'Reclamação', 'Elogio', 'Elogio', 'Elogio', 'Elogio', 'Elogio', 'Elogio', 'Elogio', 'Elogio', 'Elogio', 'Elogio', 'Elogio', 'Elogio', 'Elogio', 'Elogio', 'Elogio', 'Elogio', 'Elogio', 'Elogio', 'Elogio', 'Elogio', 'Elogio', 'Elogio', 'Elogio', 'Elogio', 'Elogio', 'Elogio', 'Elogio', 'Elogio', 'Elogio', 'Elogio', 'Elogio', 'Elogio', 'Elogio', 'Elogio', 'Elogio', 'Elogio', 'Elogio', 'Reclamação', 'Elogio', 'Elogio', 'Elogio', 'Elogio', 'Elogio', 'Elogio', 'Elogio', 'Elogio', 'Elogio', 'Elogio', 'Elogio', 'Elogio', 'Elogio', 'Elogio', 'Elogio', 'Reclamação', 'Elogio', 'Elogio', 'Elogio', 'Elogio', 'Elogio', 'Elogio', 'Elogio', 'Dúvida', 'Elogio', 'Elogio', 'Elogio', 'Solicitação', 'Elogio', 'Reclamação', 'Elogio', 'Elogio', 'Elogio', 'Crítica', 'Reclamação', 'Elogio', 'Elogio', 'Elogio', 'Elogio', 'Dúvida', 'Elogio', 'Crítica', 'Elogio', 'Elogio', 'Elogio', 'Elogio', 'Elogio', 'Elogio', 'Elogio', 'Elogio', 'Elogio', 'Elogio', 'Elogio', 'Elogio', 'Elogio', 'Reclamação', 'Elogio', 'Elogio', 'Elogio', 'Elogio', 'Neutra', 'Elogio', 'Reclamação', 'Elogio', 'Elogio', 'Elogio', 'Elogio', 'Elogio', 'Elogio', 'Elogio', 'Elogio', 'Elogio', 'Elogio', 'Elogio', 'Elogio', 'Elogio', 'Elogio', 'Elogio', 'Elogio', 'Elogio', 'Elogio', 'Elogio', 'Crítica', 'Reclamação', 'Elogio', 'Reclamação', 'Elogio', 'Elogio', 'Reclamação', 'Elogio', 'Elogio', 'Elogio', 'Elogio', 'Elogio', 'Elogio', 'Reclamação', 'Elogio', 'Elogio', 'Reclamação', 'Elogio', 'Elogio', 'Elogio', 'Elogio', 'Elogio', 'Elogio', 'Elogio', 'Elogio', 'Elogio', 'Elogio', 'Reclamação', 'Elogio', 'Elogio', 'Elogio', 'Elogio', 'Elogio', 'Elogio', 'Elogio', 'Elogio', 'Crítica', 'Elogio', 'Elogio', 'Elogio', 'Elogio', 'Elogio', 'Elogio', 'Elogio', 'Elogio', 'Elogio', 'Elogio', 'Elogio', 'Reclamação', 'Elogio', 'Elogio', 'Crítica', 'Elogio', 'Elogio', 'Reclamação', 'Elogio', 'Elogio', 'Dúvida', 'Elogio', 'Elogio', 'Elogio', 'Elogio', 'Elogio', 'Elogio', 'Elogio', 'Elogio', 'Elogio', 'Elogio', 'Elogio', 'Elogio', 'Elogio', 'Elogio', 'Elogio', 'Neutra', 'Elogio', 'Elogio', 'Elogio', 'Elogio', 'Elogio', 'Neutra', 'Elogio', 'Elogio', 'Elogio', 'Elogio', 'Elogio', 'Elogio', 'Elogio', 'Elogio', 'Reclamação', 'Elogio', 'Elogio', 'Elogio', 'Elogio', 'Elogio', 'Elogio', 'Neutra', 'Elogio', 'Elogio', 'Elogio', 'Elogio', 'Elogio', 'Elogio', 'Elogio', 'Elogio', 'Elogio', 'Elogio', 'Elogio', 'Elogio', 'Elogio', 'Elogio', 'Crítica', 'Elogio', 'Elogio', 'Elogio', 'Elogio', 'Elogio', 'Elogio', 'Elogio', 'Elogio', 'Elogio', 'Elogio', 'Elogio', 'Elogio', 'Elogio', 'Elogio', 'Elogio', 'Elogio', 'Elogio', 'Elogio', 'Elogio', 'Elogio', 'Elogio', 'Elogio', 'Elogio', 'Elogio', 'Elogio', 'Elogio', 'Elogio', 'Elogio', 'Elogio', 'Elogio', 'Reclamação', 'Elogio', 'Elogio', 'Elogio', 'Elogio', 'Elogio', 'Reclamação', 'Elogio', 'Elogio', 'Elogio', 'Elogio', 'Elogio', 'Elogio', 'Elogio', 'Elogio', 'Elogio', 'Elogio', 'Elogio', 'Elogio', 'Reclamação', 'Elogio', 'Elogio', 'Elogio', 'Reclamação', 'Elogio', 'Elogio', 'Elogio', 'Elogio', 'Elogio', 'Elogio', 'Elogio', 'Elogio', 'Elogio', 'Elogio', 'Elogio', 'Elogio', 'Elogio', 'Elogio', 'Elogio', 'Reclamação', 'Elogio', 'Elogio', 'Elogio', 'Elogio', 'Elogio', 'Elogio', 'Elogio', 'Elogio', 'Elogio', 'Elogio', 'Elogio', 'Reclamação', 'Elogio', 'Elogio', 'Elogio', 'Elogio', 'Elogio', 'Elogio', 'Elogio', 'Elogio', 'Elogio', 'Elogio', 'Elogio', 'Elogio', 'Elogio', 'Elogio', 'Elogio', 'Elogio', 'Reclamação', 'Elogio', 'Elogio', 'Elogio', 'Elogio', 'Elogio', 'Elogio', 'Elogio', 'Reclamação', 'Elogio', 'Elogio', 'Elogio', 'Elogio', 'Elogio', 'Elogio', 'Reclamação', 'Elogio', 'Elogio', 'Elogio', 'Elogio', 'Elogio', 'Reclamação', 'Elogio', 'Elogio', 'Elogio', 'Elogio', 'Reclamação', 'Elogio', 'Elogio', 'Elogio', 'Elogio', 'Elogio', 'Elogio', 'Elogio', 'Elogio', 'Elogio', 'Elogio', 'Elogio', 'Elogio', 'Elogio', 'Elogio', 'Elogio', 'Elogio', 'Elogio', 'Elogio', 'Elogio', 'Elogio', 'Elogio', 'Elogio', 'Elogio', 'Elogio', 'Elogio', 'Elogio', 'Elogio', 'Elogio', 'Elogio', 'Elogio', 'Elogio', 'Elogio', 'Elogio', 'Elogio', 'Elogio', 'Elogio', 'Reclamação', 'Elogio', 'Elogio', 'Reclamação', 'Elogio', 'Elogio', 'Elogio', 'Elogio', 'Elogio', 'Elogio', 'Elogio', 'Elogio', 'Elogio', 'Elogio', 'Elogio', 'Elogio', 'Elogio', 'Elogio', 'Elogio', 'Elogio', 'Elogio', 'Elogio', 'Elogio', 'Elogio', 'Elogio', 'Elogio', 'Elogio', 'Elogio', 'Elogio', 'Elogio', 'Elogio', 'Crítica', 'Elogio', 'Crítica', 'Elogio', 'Elogio', 'Elogio', 'Reclamação', 'Elogio', 'Elogio', 'Elogio', 'Elogio', 'Elogio', 'Elogio', 'Reclamação', 'Elogio', 'Elogio', 'Elogio', 'Elogio', 'Elogio', 'Reclamação', 'Elogio', 'Elogio', 'Elogio', 'Reclamação', 'Elogio', 'Elogio', 'Elogio', 'Elogio', 'Elogio', 'Elogio', 'Elogio', 'Elogio', 'Elogio', 'Elogio', 'Elogio', 'Elogio', 'Elogio', 'Elogio', 'Elogio', 'Elogio', 'Elogio', 'Elogio', 'Elogio', 'Elogio', 'Elogio', 'Elogio', 'Elogio', 'Elogio', 'Elogio', 'Elogio', 'Elogio', 'Elogio', 'Elogio', 'Elogio', 'Elogio', 'Elogio', 'Elogio', 'Elogio', 'Neutra', 'Elogio', 'Elogio', 'Elogio', 'Elogio', 'Elogio', 'Elogio', 'Elogio', 'Elogio', 'Elogio', 'Elogio', 'Elogio', 'Elogio', 'Elogio', 'Elogio', 'Elogio', 'Elogio', 'Elogio', 'Elogio', 'Elogio', 'Elogio', 'Elogio', 'Elogio', 'Elogio', 'Reclamação', 'Elogio', 'Reclamação', 'Elogio', 'Elogio', 'Elogio', 'Elogio', 'Elogio', 'Reclamação', 'Elogio', 'Elogio', 'Reclamação', 'Elogio', 'Elogio', 'Elogio', 'Elogio', 'Elogio', 'Elogio', 'Elogio', 'Elogio', 'Elogio', 'Elogio', 'Elogio', 'Crítica', 'Reclamação', 'Elogio', 'Neutra', 'Elogio', 'Elogio', 'Elogio', 'Elogio', 'Elogio', 'Elogio', 'Elogio', 'Elogio', 'Elogio', 'Elogio', 'Elogio', 'Elogio', 'Elogio', 'Elogio', 'Elogio', 'Elogio', 'Elogio', 'Elogio', 'Elogio', 'Elogio', 'Elogio', 'Elogio', 'Elogio', 'Elogio', 'Elogio', 'Elogio', 'Elogio', 'Elogio', 'Elogio', 'Elogio', 'Elogio', 'Elogio', 'Elogio', 'Elogio', 'Elogio', 'Elogio', 'Elogio', 'Elogio', 'Elogio', 'Elogio', 'Elogio', 'Crítica', 'Elogio', 'Elogio', 'Elogio', 'Elogio', 'Elogio', 'Elogio', 'Elogio', 'Elogio', 'Elogio', 'Elogio', 'Elogio', 'Elogio', 'Elogio', 'Elogio', 'Elogio', 'Elogio', 'Elogio', 'Elogio', 'Elogio', 'Elogio', 'Elogio', 'Elogio', 'Elogio', 'Elogio', 'Elogio', 'Elogio', 'Elogio', 'Elogio', 'Elogio', 'Elogio', 'Elogio', 'Elogio', 'Elogio', 'Elogio', 'Elogio', 'Elogio', 'Elogio', 'Elogio', 'Elogio', 'Elogio', 'Elogio', 'Elogio', 'Elogio', 'Elogio', 'Elogio', 'Elogio', 'Elogio', 'Elogio', 'Elogio', 'Elogio', 'Elogio', 'Elogio', 'Elogio', 'Elogio', 'Elogio', 'Elogio', 'Elogio', 'Elogio', 'Elogio', 'Reclamação', 'Elogio', 'Elogio', 'Elogio', 'Elogio', 'Elogio', 'Elogio', 'Elogio', 'Elogio', 'Elogio', 'Elogio', 'Elogio', 'Reclamação', 'Elogio', 'Elogio', 'Elogio', 'Elogio', 'Elogio', 'Elogio', 'Elogio', 'Elogio', 'Elogio', 'Elogio', 'Elogio', 'Elogio', 'Reclamação', 'Elogio', 'Elogio', 'Elogio', 'Neutra', 'Elogio', 'Reclamação', 'Solicitação', 'Elogio', 'Elogio', 'Crítica', 'Reclamação', 'Elogio', 'Elogio', 'Elogio', 'Elogio', 'Elogio', 'Elogio', 'Elogio', 'Elogio', 'Elogio', 'Reclamação', 'Elogio', 'Reclamação', 'Elogio', 'Elogio', 'Elogio', 'Elogio', 'Elogio', 'Dúvida', 'Elogio', 'Elogio', 'Elogio', 'Elogio', 'Elogio', 'Elogio', 'Elogio', 'Elogio', 'Elogio', 'Elogio', 'Elogio', 'Elogio', 'Elogio', 'Elogio', 'Reclamação', 'Elogio', 'Reclamação', 'Elogio', 'Elogio', 'Elogio', 'Reclamação', 'Elogio', 'Elogio', 'Elogio', 'Elogio', 'Elogio', 'Elogio', 'Elogio', 'Elogio', 'Elogio', 'Elogio', 'Elogio', 'Elogio', 'Elogio', 'Elogio', 'Elogio', 'Elogio', 'Elogio', 'Elogio', 'Elogio', 'Elogio', 'Elogio', 'Elogio', 'Elogio', 'Neutra', 'Elogio', 'Elogio', 'Elogio', 'Elogio', 'Elogio', 'Elogio', 'Elogio', 'Elogio', 'Elogio', 'Elogio', 'Elogio', 'Elogio', 'Elogio', 'Elogio', 'Elogio', 'Elogio', 'Elogio', 'Elogio', 'Elogio', 'Elogio', 'Elogio', 'Reclamação', 'Elogio', 'Elogio', 'Elogio', 'Elogio', 'Elogio', 'Elogio', 'Elogio', 'Elogio', 'Resposta', 'Elogio', 'Elogio', 'Elogio', 'Elogio', 'Elogio', 'Elogio', 'Elogio', 'Elogio', 'Elogio', 'Elogio', 'Reclamação', 'Elogio', 'Crítica', 'Elogio', 'Elogio', 'Elogio', 'Reclamação', 'Neutra', 'Elogio', 'Elogio', 'Elogio', 'Elogio', 'Elogio', 'Elogio', 'Elogio', 'Elogio', 'Elogio', 'Elogio', 'Dúvida', 'Elogio', 'Elogio', 'Elogio', 'Elogio', 'Elogio', 'Reclamação', 'Elogio', 'Reclamação', 'Elogio', 'Elogio', 'Elogio', 'Elogio', 'Elogio', 'Elogio', 'Reclamação', 'Elogio', 'Elogio', 'Elogio', 'Elogio', 'Elogio', 'Elogio', 'Elogio', 'Elogio', 'Elogio', 'Elogio', 'Elogio', 'Elogio', 'Elogio', 'Elogio', 'Elogio', 'Elogio', 'Elogio', 'Elogio', 'Elogio', 'Reclamação', 'Elogio', 'Reclamação', 'Elogio', 'Elogio', 'Elogio', 'Elogio', 'Elogio', 'Elogio', 'Elogio', 'Elogio', 'Elogio', 'Elogio', 'Elogio', 'Elogio', 'Elogio', 'Elogio', 'Elogio', 'Elogio', 'Elogio', 'Elogio', 'Elogio', 'Elogio', 'Elogio', 'Elogio', 'Elogio', 'Elogio', 'Elogio', 'Elogio', 'Elogio', 'Elogio', 'Elogio', 'Elogio', 'Elogio', 'Elogio', 'Elogio', 'Elogio', 'Elogio', 'Elogio', 'Elogio', 'Reclamação', 'Elogio', 'Elogio', 'Elogio', 'Elogio', 'Elogio', 'Elogio', 'Elogio', 'Elogio', 'Elogio', 'Elogio', 'Elogio', 'Elogio', 'Elogio', 'Crítica', 'Elogio', 'Elogio', 'Elogio', 'Elogio', 'Elogio', 'Elogio', 'Elogio', 'Elogio', 'Elogio', 'Elogio', 'Elogio', 'Elogio', 'Elogio', 'Elogio', 'Elogio', 'Elogio', 'Elogio', 'Elogio', 'Elogio', 'Elogio', 'Elogio', 'Elogio', 'Elogio', 'Elogio', 'Elogio', 'Elogio', 'Elogio', 'Elogio', 'Reclamação', 'Dúvida', 'Elogio', 'Elogio', 'Elogio', 'Elogio', 'Elogio', 'Elogio', 'Elogio', 'Elogio', 'Elogio', 'Elogio', 'Reclamação', 'Elogio', 'Elogio', 'Elogio', 'Elogio', 'Elogio', 'Elogio', 'Elogio', 'Reclamação', 'Elogio', 'Elogio', 'Elogio', 'Elogio', 'Elogio', 'Neutra', 'Elogio', 'Crítica', 'Elogio', 'Elogio', 'Elogio', 'Reclamação', 'Reclamação', 'Elogio', 'Elogio', 'Elogio', 'Elogio', 'Elogio', 'Neutra', 'Elogio', 'Reclamação', 'Elogio', 'Elogio', 'Elogio', 'Elogio', 'Elogio', 'Elogio', 'Elogio', 'Elogio', 'Elogio', 'Elogio', 'Elogio', 'Elogio', 'Elogio', 'Elogio', 'Elogio', 'Elogio', 'Elogio', 'Elogio', 'Elogio', 'Elogio', 'Elogio', 'Elogio', 'Elogio', 'Elogio', 'Elogio', 'Elogio', 'Elogio', 'Elogio', 'Elogio', 'Elogio', 'Elogio', 'Elogio', 'Elogio', 'Elogio', 'Elogio', 'Elogio', 'Elogio', 'Elogio', 'Elogio', 'Elogio', 'Elogio', 'Elogio', 'Elogio', 'Elogio', 'Sugestão', 'Elogio', 'Elogio', 'Elogio', 'Elogio', 'Elogio', 'Elogio', 'Elogio', 'Elogio', 'Elogio', 'Elogio', 'Crítica', 'Neutra', 'Reclamação', 'Elogio', 'Reclamação', 'Elogio', 'Reclamação', 'Elogio', 'Elogio', 'Reclamação', 'Elogio', 'Reclamação', 'Elogio', 'Elogio', 'Elogio', 'Elogio', 'Elogio', 'Elogio', 'Elogio', 'Reclamação', 'Elogio', 'Reclamação', 'Elogio', 'Elogio', 'Elogio', 'Elogio', 'Elogio', 'Elogio', 'Elogio', 'Elogio', 'Elogio', 'Elogio', 'Elogio', 'Elogio', 'Crítica', 'Elogio', 'Elogio', 'Neutra', 'Elogio', 'Elogio', 'Elogio', 'Elogio', 'Elogio', 'Elogio', 'Elogio', 'Elogio', 'Elogio', 'Elogio', 'Elogio', 'Elogio', 'Elogio', 'Elogio', 'Elogio', 'Elogio', 'Reclamação', 'Elogio', 'Elogio', 'Elogio', 'Elogio', 'Elogio', 'Elogio', 'Elogio', 'Elogio', 'Elogio', 'Elogio', 'Elogio', 'Elogio', 'Elogio', 'Elogio', 'Elogio', 'Elogio', 'Elogio', 'Elogio', 'Elogio', 'Elogio', 'Elogio', 'Elogio', 'Elogio', 'Elogio', 'Elogio', 'Reclamação', 'Elogio', 'Elogio', 'Neutra', 'Reclamação', 'Elogio', 'Elogio', 'Elogio', 'Elogio', 'Elogio', 'Elogio', 'Elogio', 'Reclamação', 'Elogio', 'Elogio', 'Elogio', 'Elogio', 'Elogio', 'Elogio', 'Elogio', 'Elogio', 'Elogio', 'Elogio', 'Elogio', 'Elogio', 'Elogio', 'Reclamação', 'Elogio', 'Elogio', 'Elogio', 'Elogio', 'Elogio', 'Elogio', 'Elogio', 'Elogio', 'Elogio', 'Elogio', 'Elogio', 'Elogio', 'Elogio', 'Elogio', 'Elogio', 'Elogio', 'Elogio', 'Elogio', 'Elogio', 'Elogio', 'Elogio', 'Elogio', 'Elogio', 'Crítica', 'Crítica', 'Elogio', 'Elogio', 'Elogio', 'Elogio', 'Reclamação', 'Elogio', 'Elogio', 'Elogio', 'Elogio', 'Elogio', 'Elogio', 'Elogio', 'Elogio', 'Elogio', 'Elogio', 'Elogio', 'Elogio', 'Elogio', 'Elogio', 'Elogio', 'Reclamação', 'Elogio', 'Elogio', 'Elogio', 'Elogio', 'Elogio', 'Elogio', 'Elogio', 'Elogio', 'Elogio', 'Reclamação', 'Elogio', 'Elogio', 'Elogio', 'Elogio', 'Reclamação', 'Elogio', 'Neutra', 'Crítica', 'Elogio', 'Elogio', 'Elogio', 'Elogio', 'Elogio', 'Elogio', 'Elogio', 'Elogio', 'Elogio', 'Elogio', 'Elogio', 'Elogio', 'Elogio', 'Elogio', 'Elogio', 'Elogio', 'Elogio', 'Elogio', 'Elogio', 'Elogio', 'Elogio', 'Elogio', 'Elogio', 'Elogio', 'Elogio', 'Elogio', 'Reclamação', 'Elogio', 'Elogio', 'Elogio', 'Elogio', 'Elogio', 'Elogio', 'Reclamação', 'Reclamação', 'Elogio', 'Elogio', 'Elogio', 'Elogio', 'Elogio', 'Elogio', 'Elogio', 'Elogio', 'Elogio', 'Elogio', 'Elogio', 'Elogio', 'Elogio', 'Elogio', 'Elogio', 'Elogio', 'Elogio', 'Elogio', 'Elogio', 'Elogio', 'Elogio', 'Elogio', 'Elogio', 'Solicitação', 'Elogio', 'Reclamação', 'Elogio', 'Elogio', 'Elogio', 'Elogio', 'Elogio', 'Elogio', 'Elogio', 'Elogio', 'Elogio', 'Elogio', 'Elogio', 'Elogio', 'Elogio', 'Reclamação', 'Elogio', 'Elogio', 'Elogio', 'Elogio', 'Elogio', 'Elogio', 'Elogio', 'Elogio', 'Reclamação', 'Reclamação', 'Elogio', 'Elogio', 'Elogio', 'Elogio', 'Elogio', 'Reclamação', 'Elogio', 'Elogio', 'Elogio', 'Elogio', 'Elogio', 'Elogio', 'Elogio', 'Elogio', 'Elogio', 'Elogio', 'Elogio', 'Elogio', 'Elogio', 'Elogio', 'Elogio', 'Crítica', 'Elogio', 'Elogio', 'Elogio', 'Elogio', 'Elogio', 'Elogio', 'Elogio', 'Elogio', 'Elogio', 'Elogio', 'Elogio', 'Elogio', 'Elogio', 'Elogio', 'Elogio', 'Elogio', 'Elogio', 'Elogio', 'Reclamação', 'Elogio', 'Elogio', 'Elogio', 'Elogio', 'Elogio', 'Elogio', 'Elogio', 'Elogio', 'Elogio', 'Elogio', 'Elogio', 'Reclamação', 'Reclamação', 'Elogio', 'Elogio', 'Elogio', 'Elogio', 'Dúvida', 'Elogio', 'Elogio', 'Elogio', 'Elogio', 'Elogio', 'Elogio', 'Elogio', 'Elogio', 'Elogio', 'Elogio', 'Elogio', 'Elogio', 'Elogio', 'Reclamação', 'Elogio', 'Elogio', 'Elogio', 'Elogio', 'Elogio', 'Elogio', 'Elogio', 'Elogio', 'Elogio', 'Elogio', 'Elogio', 'Elogio', 'Elogio', 'Elogio', 'Elogio', 'Elogio', 'Elogio', 'Reclamação', 'Elogio', 'Elogio', 'Elogio', 'Elogio', 'Elogio', 'Elogio', 'Elogio', 'Elogio', 'Elogio', 'Elogio', 'Elogio', 'Elogio', 'Elogio', 'Elogio', 'Elogio', 'Elogio', 'Elogio', 'Elogio', 'Elogio', 'Elogio', 'Reclamação', 'Elogio', 'Elogio', 'Elogio', 'Elogio', 'Elogio', 'Elogio', 'Elogio', 'Elogio', 'Dúvida', 'Elogio', 'Elogio', 'Elogio', 'Elogio', 'Elogio', 'Elogio', 'Elogio', 'Elogio', 'Elogio', 'Elogio', 'Elogio', 'Elogio', 'Elogio', 'Elogio', 'Elogio', 'Elogio', 'Elogio', 'Elogio', 'Elogio', 'Elogio', 'Crítica', 'Elogio', 'Elogio', 'Elogio', 'Elogio', 'Elogio', 'Elogio', 'Elogio', 'Elogio', 'Elogio', 'Elogio', 'Elogio', 'Elogio', 'Elogio', 'Elogio', 'Elogio', 'Elogio', 'Elogio', 'Elogio', 'Elogio', 'Elogio', 'Elogio', 'Elogio', 'Elogio', 'Elogio', 'Elogio', 'Elogio', 'Elogio', 'Elogio', 'Elogio', 'Elogio', 'Elogio', 'Elogio', 'Elogio', 'Elogio', 'Elogio', 'Elogio', 'Elogio', 'Elogio', 'Elogio', 'Elogio', 'Elogio', 'Elogio', 'Elogio', 'Elogio', 'Elogio', 'Elogio', 'Elogio', 'Elogio', 'Elogio', 'Elogio', 'Elogio', 'Elogio', 'Elogio', 'Elogio', 'Elogio', 'Elogio', 'Elogio', 'Elogio', 'Elogio', 'Elogio', 'Elogio', 'Elogio', 'Elogio', 'Elogio', 'Elogio', 'Elogio', 'Elogio', 'Elogio', 'Elogio', 'Elogio', 'Elogio', 'Elogio', 'Elogio', 'Elogio', 'Elogio', 'Reclamação', 'Elogio', 'Elogio', 'Elogio', 'Elogio', 'Elogio', 'Elogio', 'Elogio', 'Reclamação', 'Elogio', 'Elogio', 'Elogio', 'Elogio', 'Elogio', 'Elogio', 'Reclamação', 'Elogio', 'Elogio', 'Elogio', 'Elogio', 'Elogio', 'Reclamação', 'Elogio', 'Elogio', 'Elogio', 'Elogio', 'Elogio', 'Elogio', 'Elogio', 'Elogio', 'Elogio', 'Elogio', 'Elogio', 'Elogio', 'Elogio', 'Elogio', 'Elogio', 'Elogio', 'Elogio', 'Elogio', 'Elogio', 'Elogio', 'Elogio', 'Elogio', 'Elogio', 'Resposta', 'Elogio', 'Elogio', 'Elogio', 'Elogio', 'Elogio', 'Elogio', 'Elogio', 'Elogio', 'Elogio', 'Elogio', 'Elogio', 'Neutra', 'Elogio', 'Elogio', 'Elogio', 'Elogio', 'Elogio', 'Elogio', 'Elogio', 'Elogio', 'Elogio', 'Elogio', 'Elogio', 'Elogio', 'Elogio', 'Elogio', 'Elogio', 'Reclamação', 'Elogio', 'Elogio', 'Elogio', 'Elogio', 'Elogio', 'Elogio', 'Elogio', 'Elogio', 'Elogio', 'Elogio', 'Elogio', 'Elogio', 'Elogio', 'Elogio', 'Elogio', 'Elogio', 'Elogio', 'Elogio', 'Elogio', 'Reclamação', 'Elogio', 'Reclamação', 'Elogio', 'Reclamação', 'Elogio', 'Elogio', 'Elogio', 'Elogio', 'Elogio', 'Elogio', 'Reclamação', 'Elogio', 'Elogio', 'Elogio', 'Elogio', 'Elogio', 'Elogio', 'Elogio', 'Elogio', 'Elogio', 'Elogio', 'Elogio', 'Elogio', 'Elogio', 'Elogio', 'Elogio', 'Elogio', 'Elogio', 'Elogio', 'Elogio', 'Reclamação', 'Elogio', 'Elogio', 'Elogio', 'Solicitação', 'Elogio', 'Elogio', 'Elogio', 'Elogio', 'Elogio', 'Elogio', 'Elogio', 'Elogio', 'Elogio', 'Elogio', 'Elogio', 'Elogio', 'Elogio', 'Elogio', 'Elogio', 'Elogio', 'Elogio', 'Elogio', 'Elogio', 'Elogio', 'Elogio', 'Elogio', 'Elogio', 'Elogio', 'Elogio', 'Elogio', 'Elogio', 'Elogio', 'Elogio', 'Elogio', 'Elogio', 'Elogio', 'Elogio', 'Elogio', 'Elogio', 'Elogio', 'Elogio', 'Reclamação', 'Elogio', 'Elogio', 'Elogio', 'Elogio', 'Elogio', 'Elogio', 'Elogio', 'Elogio', 'Elogio', 'Elogio', 'Elogio', 'Elogio', 'Elogio', 'Elogio', 'Elogio', 'Elogio', 'Elogio', 'Elogio', 'Elogio', 'Elogio', 'Elogio', 'Elogio', 'Elogio', 'Elogio', 'Elogio', 'Elogio', 'Elogio', 'Elogio', 'Elogio', 'Elogio', 'Elogio', 'Elogio', 'Elogio', 'Elogio', 'Elogio', 'Elogio', 'Elogio', 'Reclamação', 'Elogio', 'Elogio', 'Elogio', 'Elogio', 'Elogio', 'Elogio', 'Elogio', 'Elogio', 'Elogio', 'Elogio', 'Elogio', 'Elogio', 'Elogio', 'Elogio', 'Elogio', 'Elogio', 'Elogio', 'Elogio', 'Elogio', 'Elogio', 'Elogio', 'Elogio', 'Elogio', 'Elogio', 'Elogio', 'Elogio', 'Elogio', 'Elogio', 'Elogio', 'Elogio', 'Elogio', 'Elogio', 'Elogio', 'Elogio', 'Elogio', 'Elogio', 'Elogio', 'Elogio', 'Elogio', 'Elogio', 'Elogio', 'Elogio', 'Elogio', 'Elogio', 'Elogio', 'Elogio', 'Elogio', 'Elogio', 'Elogio', 'Elogio', 'Elogio', 'Elogio', 'Elogio', 'Elogio', 'Elogio', 'Elogio', 'Elogio', 'Elogio', 'Elogio', 'Elogio', 'Elogio', 'Elogio', 'Neutra', 'Elogio', 'Elogio', 'Elogio', 'Elogio', 'Elogio', 'Elogio', 'Elogio', 'Elogio', 'Elogio', 'Elogio', 'Elogio', 'Elogio', 'Elogio', 'Elogio', 'Elogio', 'Elogio', 'Elogio', 'Elogio', 'Elogio', 'Elogio', 'Elogio', 'Elogio', 'Elogio', 'Elogio', 'Elogio', 'Elogio', 'Elogio', 'Elogio', 'Elogio', 'Elogio', 'Reclamação', 'Neutra', 'Elogio', 'Elogio', 'Elogio', 'Elogio', 'Elogio', 'Elogio', 'Elogio', 'Elogio', 'Elogio', 'Reclamação', 'Elogio', 'Elogio', 'Elogio', 'Elogio', 'Elogio', 'Elogio', 'Elogio', 'Elogio', 'Reclamação', 'Elogio', 'Elogio', 'Elogio', 'Elogio', 'Elogio', 'Elogio', 'Elogio', 'Reclamação', 'Elogio', 'Elogio', 'Elogio', 'Elogio', 'Elogio', 'Elogio', 'Elogio', 'Elogio', 'Elogio', 'Elogio', 'Elogio', 'Elogio', 'Elogio', 'Elogio', 'Elogio', 'Elogio', 'Elogio', 'Elogio', 'Elogio', 'Elogio', 'Reclamação', 'Elogio', 'Elogio', 'Elogio', 'Elogio', 'Reclamação', 'Elogio', 'Elogio', 'Elogio', 'Elogio', 'Elogio', 'Elogio', 'Elogio', 'Elogio', 'Elogio', 'Elogio', 'Reclamação', 'Elogio', 'Elogio', 'Elogio', 'Elogio', 'Elogio', 'Elogio', 'Elogio', 'Elogio', 'Elogio', 'Elogio', 'Elogio', 'Elogio', 'Elogio', 'Crítica', 'Elogio', 'Elogio', 'Elogio', 'Elogio', 'Elogio', 'Elogio', 'Elogio', 'Elogio', 'Dúvida', 'Elogio', 'Elogio', 'Elogio', 'Elogio', 'Elogio', 'Elogio', 'Elogio', 'Elogio', 'Elogio', 'Elogio', 'Elogio', 'Elogio', 'Elogio', 'Elogio', 'Elogio', 'Elogio', 'Elogio', 'Elogio', 'Elogio', 'Elogio', 'Elogio', 'Elogio', 'Elogio', 'Elogio', 'Elogio', 'Elogio', 'Elogio', 'Elogio', 'Elogio', 'Elogio', 'Elogio', 'Elogio', 'Elogio', 'Elogio', 'Elogio', 'Elogio', 'Elogio', 'Elogio', 'Elogio', 'Elogio', 'Reclamação', 'Elogio', 'Elogio', 'Elogio', 'Elogio', 'Elogio', 'Elogio', 'Elogio', 'Elogio', 'Resposta', 'Elogio', 'Elogio', 'Elogio', 'Elogio', 'Elogio', 'Elogio', 'Elogio', 'Elogio', 'Elogio', 'Elogio', 'Elogio', 'Elogio', 'Elogio', 'Elogio', 'Elogio', 'Elogio', 'Elogio', 'Elogio', 'Elogio', 'Elogio', 'Elogio', 'Elogio', 'Elogio', 'Elogio', 'Elogio', 'Elogio', 'Elogio', 'Elogio', 'Elogio', 'Elogio', 'Elogio', 'Elogio', 'Elogio', 'Elogio', 'Reclamação', 'Elogio', 'Elogio', 'Elogio', 'Elogio', 'Elogio', 'Elogio', 'Elogio', 'Elogio', 'Elogio', 'Elogio', 'Elogio', 'Elogio', 'Reclamação', 'Elogio', 'Elogio', 'Elogio', 'Elogio', 'Elogio', 'Elogio', 'Elogio', 'Elogio', 'Elogio', 'Elogio', 'Elogio', 'Elogio', 'Elogio', 'Elogio', 'Reclamação', 'Elogio', 'Crítica', 'Elogio', 'Elogio', 'Elogio', 'Reclamação', 'Reclamação', 'Dúvida', 'Elogio', 'Elogio', 'Elogio', 'Elogio', 'Elogio', 'Elogio', 'Elogio', 'Elogio', 'Elogio', 'Elogio', 'Elogio', 'Elogio', 'Elogio', 'Elogio', 'Elogio', 'Elogio', 'Elogio', 'Reclamação', 'Elogio', 'Elogio', 'Elogio', 'Elogio', 'Elogio', 'Reclamação', 'Elogio', 'Elogio', 'Reclamação', 'Elogio', 'Reclamação', 'Elogio', 'Elogio', 'Elogio', 'Crítica', 'Elogio', 'Elogio', 'Elogio', 'Reclamação', 'Elogio', 'Elogio', 'Elogio', 'Elogio', 'Elogio', 'Elogio', 'Elogio', 'Elogio', 'Elogio', 'Elogio', 'Elogio', 'Elogio', 'Elogio', 'Elogio', 'Elogio', 'Elogio', 'Elogio', 'Elogio', 'Elogio', 'Elogio', 'Elogio', 'Reclamação', 'Elogio', 'Elogio', 'Reclamação', 'Elogio', 'Elogio', 'Neutra', 'Reclamação', 'Elogio', 'Elogio', 'Elogio', 'Elogio', 'Elogio', 'Elogio', 'Reclamação', 'Elogio', 'Elogio', 'Elogio', 'Elogio', 'Elogio', 'Elogio', 'Elogio', 'Elogio', 'Elogio', 'Elogio', 'Reclamação', 'Elogio', 'Elogio', 'Elogio', 'Elogio', 'Elogio', 'Elogio', 'Reclamação', 'Elogio', 'Elogio', 'Reclamação', 'Elogio', 'Elogio', 'Elogio', 'Elogio', 'Reclamação', 'Elogio', 'Elogio', 'Elogio', 'Dúvida', 'Elogio', 'Elogio', 'Elogio', 'Elogio', 'Reclamação', 'Neutra', 'Elogio', 'Elogio', 'Elogio', 'Elogio', 'Elogio', 'Reclamação', 'Elogio', 'Reclamação', 'Elogio', 'Elogio', 'Elogio', 'Reclamação', 'Elogio', 'Elogio', 'Elogio', 'Elogio', 'Reclamação', 'Elogio', 'Elogio', 'Elogio', 'Elogio', 'Elogio', 'Elogio', 'Elogio', 'Elogio', 'Elogio', 'Elogio', 'Elogio', 'Reclamação', 'Elogio', 'Elogio', 'Elogio', 'Elogio', 'Elogio', 'Reclamação', 'Elogio', 'Elogio', 'Elogio', 'Elogio', 'Elogio', 'Elogio', 'Reclamação', 'Elogio', 'Elogio', 'Elogio', 'Elogio', 'Elogio', 'Elogio', 'Elogio', 'Elogio', 'Elogio', 'Elogio', 'Crítica', 'Elogio', 'Elogio', 'Elogio', 'Elogio', 'Elogio', 'Elogio', 'Elogio', 'Elogio', 'Elogio', 'Neutra', 'Elogio', 'Elogio', 'Elogio', 'Elogio', 'Elogio', 'Elogio', 'Elogio', 'Elogio', 'Elogio', 'Elogio', 'Elogio', 'Elogio', 'Elogio', 'Elogio', 'Elogio', 'Elogio', 'Elogio', 'Elogio', 'Elogio', 'Elogio', 'Elogio', 'Elogio', 'Elogio', 'Elogio', 'Elogio', 'Resposta', 'Elogio', 'Elogio', 'Elogio', 'Elogio', 'Elogio', 'Elogio', 'Elogio', 'Elogio', 'Elogio', 'Elogio', 'Elogio', 'Elogio', 'Elogio', 'Elogio', 'Elogio', 'Elogio', 'Elogio', 'Reclamação', 'Elogio', 'Elogio', 'Elogio', 'Elogio', 'Elogio', 'Elogio', 'Elogio', 'Elogio', 'Elogio', 'Elogio', 'Elogio', 'Elogio', 'Elogio', 'Elogio', 'Elogio', 'Elogio', 'Neutra', 'Elogio', 'Elogio', 'Elogio', 'Elogio', 'Crítica', 'Elogio', 'Reclamação', 'Elogio', 'Elogio', 'Elogio', 'Elogio', 'Elogio', 'Elogio', 'Elogio', 'Elogio', 'Elogio', 'Elogio', 'Elogio', 'Elogio', 'Elogio', 'Elogio', 'Elogio', 'Elogio', 'Elogio', 'Elogio', 'Elogio', 'Elogio', 'Elogio', 'Elogio', 'Elogio', 'Elogio', 'Elogio', 'Elogio', 'Elogio', 'Elogio', 'Elogio', 'Elogio', 'Reclamação', 'Elogio', 'Elogio', 'Elogio', 'Elogio', 'Sugestão', 'Elogio', 'Elogio', 'Elogio', 'Elogio', 'Elogio', 'Elogio', 'Elogio', 'Elogio', 'Elogio', 'Elogio', 'Elogio', 'Elogio', 'Elogio', 'Elogio', 'Elogio', 'Elogio', 'Elogio', 'Elogio', 'Elogio', 'Elogio', 'Elogio', 'Elogio', 'Elogio', 'Elogio', 'Elogio', 'Elogio', 'Elogio', 'Elogio', 'Elogio', 'Elogio', 'Elogio', 'Elogio', 'Elogio', 'Elogio', 'Elogio', 'Elogio', 'Elogio', 'Elogio', 'Elogio', 'Elogio', 'Elogio', 'Elogio', 'Elogio', 'Elogio', 'Elogio', 'Crítica', 'Elogio', 'Elogio', 'Elogio', 'Elogio', 'Elogio', 'Elogio', 'Elogio', 'Elogio', 'Elogio', 'Elogio', 'Elogio', 'Elogio', 'Elogio', 'Elogio', 'Elogio', 'Elogio', 'Elogio', 'Elogio', 'Elogio', 'Elogio', 'Elogio', 'Elogio', 'Elogio', 'Elogio', 'Elogio', 'Dúvida', 'Reclamação', 'Elogio', 'Elogio', 'Elogio', 'Elogio', 'Elogio', 'Elogio', 'Elogio', 'Elogio', 'Elogio', 'Elogio', 'Elogio', 'Elogio', 'Elogio', 'Elogio', 'Elogio', 'Elogio', 'Elogio', 'Elogio', 'Elogio', 'Elogio', 'Elogio', 'Elogio', 'Elogio', 'Reclamação', 'Elogio', 'Elogio', 'Elogio', 'Elogio', 'Elogio', 'Elogio', 'Reclamação', 'Elogio', 'Neutra', 'Elogio', 'Elogio', 'Elogio', 'Elogio', 'Elogio', 'Elogio', 'Elogio', 'Elogio', 'Elogio', 'Reclamação', 'Elogio', 'Elogio', 'Elogio', 'Elogio', 'Elogio', 'Elogio', 'Elogio', 'Elogio', 'Elogio', 'Elogio', 'Elogio', 'Elogio', 'Elogio', 'Elogio', 'Elogio', 'Elogio', 'Elogio', 'Elogio', 'Elogio', 'Elogio', 'Elogio', 'Elogio', 'Elogio', 'Elogio', 'Elogio', 'Elogio', 'Elogio', 'Elogio', 'Elogio', 'Elogio', 'Elogio', 'Elogio', 'Elogio', 'Elogio', 'Elogio', 'Elogio', 'Elogio', 'Elogio', 'Elogio', 'Elogio', 'Elogio', 'Elogio', 'Crítica', 'Elogio', 'Elogio', 'Elogio', 'Elogio', 'Dúvida', 'Elogio', 'Reclamação', 'Elogio', 'Elogio', 'Elogio', 'Elogio', 'Elogio', 'Elogio', 'Elogio', 'Elogio', 'Elogio', 'Elogio', 'Reclamação', 'Elogio', 'Elogio', 'Elogio', 'Elogio', 'Elogio', 'Elogio', 'Elogio', 'Elogio', 'Elogio', 'Elogio', 'Elogio', 'Elogio', 'Elogio', 'Elogio', 'Elogio', 'Elogio', 'Elogio', 'Elogio', 'Elogio', 'Elogio', 'Elogio', 'Elogio', 'Elogio', 'Elogio', 'Elogio', 'Elogio', 'Elogio', 'Elogio', 'Reclamação', 'Elogio', 'Elogio', 'Elogio', 'Elogio', 'Elogio', 'Elogio', 'Reclamação', 'Elogio', 'Elogio', 'Elogio', 'Elogio', 'Elogio', 'Elogio', 'Elogio', 'Elogio', 'Elogio', 'Elogio', 'Crítica', 'Elogio', 'Elogio', 'Elogio', 'Reclamação', 'Elogio', 'Reclamação', 'Elogio', 'Elogio', 'Elogio', 'Elogio', 'Elogio', 'Elogio', 'Elogio', 'Elogio', 'Elogio', 'Elogio', 'Elogio', 'Elogio', 'Elogio', 'Elogio', 'Elogio', 'Elogio', 'Elogio', 'Elogio', 'Elogio', 'Reclamação', 'Elogio', 'Elogio', 'Elogio', 'Reclamação', 'Elogio', 'Elogio', 'Elogio', 'Elogio', 'Elogio', 'Elogio', 'Elogio', 'Elogio', 'Elogio', 'Elogio', 'Elogio', 'Elogio', 'Elogio', 'Reclamação', 'Elogio', 'Elogio', 'Elogio', 'Elogio', 'Elogio', 'Elogio', 'Elogio', 'Elogio', 'Elogio', 'Elogio', 'Elogio', 'Elogio', 'Elogio', 'Elogio', 'Crítica', 'Elogio', 'Elogio', 'Elogio', 'Elogio', 'Elogio', 'Elogio', 'Elogio', 'Crítica', 'Elogio', 'Elogio', 'Elogio', 'Elogio', 'Crítica', 'Elogio', 'Elogio', 'Elogio', 'Elogio', 'Elogio', 'Elogio', 'Elogio', 'Elogio', 'Elogio', 'Elogio', 'Elogio', 'Elogio', 'Elogio', 'Reclamação', 'Elogio', 'Elogio', 'Elogio', 'Elogio', 'Elogio', 'Elogio', 'Reclamação', 'Elogio', 'Elogio', 'Elogio', 'Elogio', 'Elogio', 'Reclamação', 'Elogio', 'Elogio', 'Elogio', 'Elogio', 'Reclamação', 'Elogio', 'Elogio', 'Elogio', 'Elogio', 'Elogio', 'Elogio', 'Elogio', 'Elogio', 'Elogio', 'Crítica', 'Elogio', 'Elogio', 'Elogio', 'Elogio', 'Elogio', 'Reclamação', 'Elogio', 'Elogio', 'Elogio', 'Elogio', 'Elogio', 'Elogio', 'Reclamação', 'Elogio', 'Elogio', 'Elogio', 'Elogio', 'Elogio', 'Elogio', 'Elogio', 'Elogio', 'Elogio', 'Elogio', 'Elogio', 'Elogio', 'Elogio', 'Elogio', 'Elogio', 'Elogio', 'Elogio', 'Elogio', 'Elogio', 'Elogio', 'Elogio', 'Elogio', 'Elogio', 'Elogio', 'Elogio', 'Elogio', 'Elogio', 'Elogio', 'Elogio', 'Elogio', 'Elogio', 'Elogio', 'Elogio', 'Elogio', 'Elogio', 'Reclamação', 'Elogio', 'Elogio', 'Elogio', 'Elogio', 'Elogio', 'Elogio', 'Elogio', 'Elogio', 'Reclamação', 'Elogio', 'Elogio', 'Elogio', 'Elogio', 'Elogio', 'Elogio', 'Elogio', 'Elogio', 'Elogio', 'Elogio', 'Elogio', 'Elogio', 'Elogio', 'Elogio', 'Elogio', 'Elogio', 'Elogio', 'Elogio', 'Reclamação', 'Elogio', 'Elogio', 'Elogio', 'Elogio', 'Elogio', 'Elogio', 'Elogio', 'Elogio', 'Elogio', 'Elogio', 'Elogio', 'Elogio', 'Elogio', 'Elogio', 'Elogio', 'Elogio', 'Reclamação', 'Elogio', 'Crítica', 'Crítica', 'Reclamação', 'Elogio', 'Elogio', 'Elogio', 'Elogio', 'Elogio', 'Elogio', 'Elogio', 'Elogio', 'Elogio', 'Elogio', 'Elogio', 'Elogio', 'Elogio', 'Elogio', 'Elogio', 'Reclamação', 'Elogio', 'Elogio', 'Elogio', 'Reclamação', 'Elogio', 'Elogio', 'Elogio', 'Elogio', 'Elogio', 'Elogio', 'Elogio', 'Elogio', 'Elogio', 'Elogio', 'Elogio', 'Elogio', 'Elogio', 'Elogio', 'Elogio', 'Elogio', 'Elogio', 'Elogio', 'Elogio', 'Elogio', 'Elogio', 'Elogio', 'Elogio', 'Elogio', 'Elogio', 'Elogio', 'Elogio', 'Elogio', 'Elogio', 'Elogio', 'Elogio', 'Elogio', 'Elogio', 'Elogio', 'Elogio', 'Elogio', 'Elogio', 'Elogio', 'Elogio', 'Elogio', 'Elogio', 'Reclamação', 'Elogio', 'Elogio', 'Elogio', 'Sugestão', 'Elogio', 'Elogio', 'Elogio', 'Elogio', 'Elogio', 'Elogio', 'Elogio', 'Elogio', 'Elogio', 'Elogio', 'Elogio', 'Elogio', 'Elogio', 'Elogio', 'Elogio', 'Elogio', 'Elogio', 'Elogio', 'Elogio', 'Reclamação', 'Elogio', 'Reclamação', 'Elogio', 'Elogio', 'Elogio', 'Elogio', 'Elogio', 'Elogio', 'Elogio', 'Elogio', 'Elogio', 'Elogio', 'Elogio', 'Elogio', 'Neutra', 'Elogio', 'Reclamação', 'Reclamação', 'Elogio', 'Elogio', 'Elogio', 'Elogio', 'Elogio', 'Elogio', 'Elogio', 'Elogio', 'Elogio', 'Elogio', 'Elogio', 'Elogio', 'Elogio', 'Elogio', 'Elogio', 'Elogio', 'Reclamação', 'Elogio', 'Elogio', 'Elogio', 'Elogio', 'Reclamação', 'Elogio', 'Elogio', 'Elogio', 'Elogio', 'Elogio', 'Elogio', 'Elogio', 'Elogio', 'Elogio', 'Elogio', 'Elogio', 'Elogio', 'Elogio', 'Elogio', 'Elogio', 'Elogio', 'Elogio', 'Elogio', 'Elogio', 'Elogio', 'Elogio', 'Reclamação', 'Elogio', 'Elogio', 'Elogio', 'Elogio', 'Elogio', 'Elogio', 'Elogio', 'Elogio', 'Elogio', 'Elogio', 'Elogio', 'Elogio', 'Elogio', 'Elogio', 'Elogio', 'Elogio', 'Elogio', 'Elogio', 'Elogio', 'Elogio', 'Elogio', 'Elogio', 'Elogio', 'Elogio', 'Elogio', 'Elogio', 'Elogio', 'Elogio', 'Elogio', 'Elogio', 'Elogio', 'Elogio', 'Elogio', 'Elogio', 'Elogio', 'Elogio', 'Elogio', 'Reclamação', 'Elogio', 'Elogio', 'Elogio', 'Elogio', 'Elogio', 'Elogio', 'Elogio', 'Elogio', 'Elogio', 'Elogio', 'Elogio', 'Elogio', 'Elogio', 'Elogio', 'Elogio', 'Elogio', 'Elogio', 'Elogio', 'Elogio', 'Elogio', 'Elogio', 'Elogio', 'Elogio', 'Elogio', 'Elogio', 'Elogio', 'Elogio', 'Elogio', 'Elogio', 'Elogio', 'Elogio', 'Elogio', 'Elogio', 'Elogio', 'Reclamação', 'Elogio', 'Elogio', 'Elogio', 'Elogio', 'Reclamação', 'Elogio', 'Elogio', 'Elogio', 'Elogio', 'Elogio', 'Elogio', 'Elogio', 'Elogio', 'Elogio', 'Elogio', 'Elogio', 'Elogio', 'Elogio', 'Elogio', 'Elogio', 'Elogio', 'Elogio', 'Elogio', 'Elogio', 'Elogio', 'Elogio', 'Elogio', 'Elogio', 'Reclamação', 'Elogio', 'Reclamação', 'Elogio', 'Elogio', 'Elogio', 'Elogio', 'Elogio', 'Elogio', 'Elogio', 'Elogio', 'Elogio', 'Elogio', 'Elogio', 'Elogio', 'Elogio', 'Elogio', 'Elogio', 'Elogio', 'Elogio', 'Elogio', 'Elogio', 'Elogio', 'Elogio', 'Elogio', 'Reclamação', 'Elogio', 'Elogio', 'Elogio', 'Elogio', 'Elogio', 'Elogio', 'Elogio', 'Elogio', 'Elogio', 'Elogio', 'Elogio', 'Elogio', 'Elogio', 'Elogio', 'Elogio', 'Elogio', 'Elogio', 'Elogio', 'Elogio', 'Elogio', 'Elogio', 'Reclamação', 'Elogio', 'Elogio', 'Crítica', 'Elogio', 'Elogio', 'Elogio', 'Elogio', 'Elogio', 'Elogio', 'Elogio', 'Elogio', 'Elogio', 'Elogio', 'Elogio', 'Elogio', 'Neutra', 'Elogio', 'Elogio', 'Elogio', 'Elogio', 'Elogio', 'Elogio', 'Reclamação', 'Elogio', 'Elogio', 'Elogio', 'Elogio', 'Elogio', 'Elogio', 'Elogio', 'Elogio', 'Reclamação', 'Elogio', 'Sugestão', 'Crítica', 'Elogio', 'Neutra', 'Elogio', 'Elogio', 'Elogio', 'Elogio', 'Elogio', 'Elogio', 'Elogio', 'Reclamação', 'Elogio', 'Elogio', 'Elogio', 'Elogio', 'Elogio', 'Elogio', 'Elogio', 'Elogio', 'Reclamação', 'Elogio', 'Elogio', 'Elogio', 'Elogio', 'Elogio', 'Elogio', 'Elogio', 'Elogio', 'Elogio', 'Elogio', 'Elogio', 'Sugestão', 'Elogio', 'Elogio', 'Elogio', 'Elogio', 'Elogio', 'Elogio', 'Elogio', 'Elogio', 'Elogio', 'Resposta', 'Elogio', 'Elogio', 'Elogio', 'Elogio', 'Elogio', 'Elogio', 'Elogio', 'Elogio', 'Elogio', 'Elogio', 'Elogio', 'Crítica', 'Reclamação', 'Elogio', 'Elogio', 'Elogio', 'Reclamação', 'Elogio', 'Elogio', 'Elogio', 'Elogio', 'Elogio', 'Elogio', 'Elogio', 'Elogio', 'Elogio', 'Elogio', 'Elogio', 'Elogio', 'Elogio', 'Elogio', 'Elogio', 'Elogio', 'Elogio', 'Elogio', 'Elogio', 'Elogio', 'Elogio', 'Elogio', 'Elogio', 'Elogio', 'Elogio', 'Elogio', 'Elogio', 'Elogio', 'Elogio', 'Elogio', 'Elogio', 'Elogio', 'Elogio', 'Elogio', 'Elogio', 'Elogio', 'Elogio', 'Elogio', 'Elogio', 'Elogio', 'Elogio', 'Elogio', 'Elogio', 'Elogio', 'Elogio', 'Elogio', 'Elogio', 'Elogio', 'Elogio', 'Elogio', 'Elogio', 'Elogio', 'Elogio', 'Elogio', 'Elogio', 'Elogio', 'Elogio', 'Elogio', 'Elogio', 'Elogio', 'Elogio', 'Elogio', 'Elogio', 'Elogio', 'Elogio', 'Elogio', 'Elogio', 'Crítica', 'Elogio', 'Elogio', 'Elogio', 'Elogio', 'Elogio', 'Elogio', 'Elogio', 'Elogio', 'Reclamação', 'Elogio', 'Crítica', 'Neutra', 'Elogio', 'Elogio', 'Elogio', 'Elogio', 'Elogio', 'Elogio', 'Elogio', 'Elogio', 'Elogio', 'Elogio', 'Elogio', 'Elogio', 'Elogio', 'Reclamação', 'Elogio', 'Elogio', 'Elogio', 'Elogio', 'Elogio', 'Reclamação', 'Elogio', 'Reclamação', 'Elogio', 'Elogio', 'Elogio', 'Elogio', 'Elogio', 'Elogio', 'Elogio', 'Elogio', 'Elogio', 'Crítica', 'Elogio', 'Elogio', 'Elogio', 'Elogio', 'Elogio', 'Elogio', 'Elogio', 'Elogio', 'Elogio', 'Elogio', 'Elogio', 'Reclamação', 'Elogio', 'Elogio', 'Elogio', 'Elogio', 'Elogio', 'Elogio', 'Neutra', 'Elogio', 'Elogio', 'Elogio', 'Elogio', 'Elogio', 'Reclamação', 'Reclamação', 'Elogio', 'Elogio', 'Elogio', 'Elogio', 'Elogio', 'Elogio', 'Elogio', 'Elogio', 'Elogio', 'Reclamação', 'Elogio', 'Elogio', 'Elogio', 'Elogio', 'Elogio', 'Elogio', 'Elogio', 'Elogio', 'Elogio', 'Elogio', 'Elogio', 'Elogio', 'Elogio', 'Elogio', 'Elogio', 'Elogio', 'Elogio', 'Elogio', 'Elogio', 'Sugestão', 'Elogio', 'Elogio', 'Elogio', 'Reclamação', 'Elogio', 'Elogio', 'Elogio', 'Elogio', 'Elogio', 'Elogio', 'Elogio', 'Elogio', 'Elogio', 'Elogio', 'Elogio', 'Elogio', 'Reclamação', 'Elogio', 'Elogio', 'Elogio', 'Elogio', 'Elogio', 'Dúvida', 'Elogio', 'Elogio', 'Reclamação', 'Elogio', 'Elogio', 'Elogio', 'Reclamação', 'Elogio', 'Reclamação', 'Elogio', 'Elogio', 'Elogio', 'Elogio', 'Reclamação', 'Elogio', 'Elogio', 'Elogio', 'Elogio', 'Elogio', 'Elogio', 'Elogio', 'Elogio', 'Elogio', 'Elogio', 'Elogio', 'Elogio', 'Elogio', 'Elogio', 'Elogio', 'Elogio', 'Elogio', 'Elogio', 'Elogio', 'Elogio', 'Elogio', 'Elogio', 'Elogio', 'Elogio', 'Elogio', 'Elogio', 'Elogio', 'Elogio', 'Elogio', 'Reclamação', 'Elogio', 'Elogio', 'Reclamação', 'Reclamação', 'Elogio', 'Elogio', 'Elogio', 'Elogio', 'Elogio', 'Elogio', 'Elogio', 'Elogio', 'Elogio', 'Elogio', 'Elogio', 'Elogio', 'Elogio', 'Reclamação', 'Elogio', 'Elogio', 'Elogio', 'Reclamação', 'Elogio', 'Elogio', 'Elogio', 'Elogio', 'Elogio', 'Elogio', 'Elogio', 'Elogio', 'Elogio', 'Elogio', 'Elogio', 'Elogio', 'Elogio', 'Elogio', 'Elogio', 'Elogio', 'Elogio', 'Elogio', 'Elogio', 'Elogio', 'Elogio', 'Elogio', 'Elogio', 'Elogio', 'Elogio', 'Elogio', 'Elogio', 'Elogio', 'Elogio', 'Elogio', 'Elogio', 'Elogio', 'Elogio', 'Elogio', 'Elogio', 'Elogio', 'Elogio', 'Dúvida', 'Elogio', 'Elogio', 'Elogio', 'Elogio', 'Reclamação', 'Elogio', 'Elogio', 'Elogio', 'Elogio', 'Elogio', 'Elogio', 'Elogio', 'Elogio', 'Elogio', 'Elogio', 'Elogio', 'Elogio', 'Elogio', 'Elogio', 'Elogio', 'Elogio', 'Elogio', 'Elogio', 'Elogio', 'Neutra', 'Elogio', 'Elogio', 'Reclamação', 'Elogio', 'Elogio', 'Elogio', 'Elogio', 'Elogio', 'Elogio', 'Reclamação', 'Elogio', 'Elogio', 'Elogio', 'Elogio', 'Elogio', 'Elogio', 'Elogio', 'Elogio', 'Elogio', 'Elogio', 'Elogio', 'Reclamação', 'Crítica', 'Elogio', 'Elogio', 'Elogio', 'Elogio', 'Elogio', 'Elogio', 'Elogio', 'Elogio', 'Elogio', 'Elogio', 'Elogio', 'Elogio', 'Elogio', 'Elogio', 'Elogio', 'Elogio', 'Elogio', 'Elogio', 'Elogio', 'Elogio', 'Elogio', 'Elogio', 'Elogio', 'Elogio', 'Elogio', 'Elogio', 'Elogio', 'Elogio', 'Reclamação', 'Elogio', 'Elogio', 'Dúvida', 'Elogio', 'Elogio', 'Elogio', 'Elogio', 'Elogio', 'Reclamação', 'Elogio', 'Elogio', 'Elogio', 'Elogio', 'Elogio', 'Elogio', 'Elogio', 'Elogio', 'Elogio', 'Elogio', 'Elogio', 'Elogio', 'Elogio', 'Elogio', 'Elogio', 'Elogio', 'Elogio', 'Elogio', 'Elogio', 'Elogio', 'Elogio', 'Elogio', 'Elogio', 'Elogio', 'Elogio', 'Elogio', 'Elogio', 'Elogio', 'Elogio', 'Elogio', 'Elogio', 'Elogio', 'Elogio', 'Elogio', 'Elogio', 'Elogio', 'Elogio', 'Elogio', 'Elogio', 'Elogio', 'Reclamação', 'Elogio', 'Elogio', 'Elogio', 'Elogio', 'Elogio', 'Elogio', 'Elogio', 'Elogio', 'Elogio', 'Elogio', 'Elogio', 'Elogio', 'Elogio', 'Reclamação', 'Elogio', 'Elogio', 'Elogio', 'Elogio', 'Elogio', 'Reclamação', 'Elogio', 'Reclamação', 'Elogio', 'Elogio', 'Elogio', 'Elogio', 'Elogio', 'Elogio', 'Elogio', 'Elogio', 'Elogio', 'Elogio', 'Elogio', 'Elogio', 'Elogio', 'Elogio', 'Sugestão', 'Elogio', 'Elogio', 'Elogio', 'Elogio', 'Elogio', 'Elogio', 'Elogio', 'Elogio', 'Elogio', 'Elogio', 'Elogio', 'Elogio', 'Reclamação', 'Elogio', 'Elogio', 'Reclamação', 'Elogio', 'Elogio', 'Elogio', 'Reclamação', 'Elogio', 'Elogio', 'Elogio', 'Elogio', 'Elogio', 'Elogio', 'Elogio', 'Elogio', 'Elogio', 'Elogio', 'Elogio', 'Elogio', 'Elogio', 'Elogio', 'Elogio', 'Elogio', 'Elogio', 'Elogio', 'Elogio', 'Elogio', 'Elogio', 'Elogio', 'Elogio', 'Elogio', 'Elogio', 'Elogio', 'Elogio', 'Elogio', 'Elogio', 'Elogio', 'Elogio', 'Elogio', 'Elogio', 'Elogio', 'Elogio', 'Elogio', 'Reclamação', 'Elogio', 'Elogio', 'Elogio', 'Reclamação', 'Elogio', 'Elogio', 'Elogio', 'Elogio', 'Elogio', 'Elogio', 'Elogio', 'Elogio', 'Elogio', 'Elogio', 'Elogio', 'Reclamação', 'Elogio', 'Elogio', 'Elogio', 'Elogio', 'Elogio', 'Elogio', 'Elogio', 'Elogio', 'Elogio', 'Elogio', 'Elogio', 'Elogio', 'Elogio', 'Elogio', 'Elogio', 'Elogio', 'Elogio', 'Elogio', 'Elogio', 'Elogio', 'Elogio', 'Elogio', 'Elogio', 'Reclamação', 'Elogio', 'Elogio', 'Elogio', 'Elogio', 'Reclamação', 'Elogio', 'Elogio', 'Reclamação', 'Elogio', 'Elogio', 'Elogio', 'Reclamação', 'Elogio', 'Elogio', 'Elogio', 'Elogio', 'Elogio', 'Elogio', 'Elogio', 'Elogio', 'Elogio', 'Elogio', 'Elogio', 'Elogio', 'Elogio', 'Crítica', 'Elogio', 'Reclamação', 'Elogio', 'Reclamação', 'Elogio', 'Reclamação', 'Elogio', 'Elogio', 'Elogio', 'Elogio', 'Elogio', 'Elogio', 'Elogio', 'Elogio', 'Reclamação', 'Elogio', 'Elogio', 'Elogio', 'Elogio', 'Elogio', 'Elogio', 'Elogio', 'Reclamação', 'Elogio', 'Crítica', 'Elogio', 'Elogio', 'Elogio', 'Crítica', 'Elogio', 'Elogio', 'Elogio', 'Elogio', 'Elogio', 'Elogio', 'Elogio', 'Elogio', 'Elogio', 'Elogio', 'Elogio', 'Elogio', 'Elogio', 'Elogio', 'Elogio', 'Elogio', 'Elogio', 'Elogio', 'Elogio', 'Elogio', 'Reclamação', 'Elogio', 'Elogio', 'Elogio', 'Elogio', 'Elogio', 'Elogio', 'Elogio', 'Elogio', 'Elogio', 'Elogio', 'Elogio', 'Elogio', 'Reclamação', 'Elogio', 'Elogio', 'Reclamação', 'Elogio', 'Elogio', 'Reclamação', 'Elogio', 'Elogio', 'Elogio', 'Elogio', 'Elogio', 'Elogio', 'Elogio', 'Elogio', 'Elogio', 'Elogio', 'Elogio', 'Elogio', 'Elogio', 'Elogio', 'Elogio', 'Elogio', 'Elogio', 'Elogio', 'Elogio', 'Elogio', 'Elogio', 'Reclamação', 'Elogio', 'Elogio', 'Reclamação', 'Reclamação', 'Elogio', 'Elogio', 'Elogio', 'Elogio', 'Elogio', 'Elogio', 'Elogio', 'Elogio', 'Elogio', 'Elogio', 'Elogio', 'Reclamação', 'Elogio', 'Reclamação', 'Elogio', 'Elogio', 'Elogio', 'Reclamação', 'Elogio', 'Elogio', 'Elogio', 'Elogio', 'Elogio', 'Elogio', 'Elogio', 'Elogio', 'Elogio', 'Crítica', 'Elogio', 'Elogio', 'Elogio', 'Elogio', 'Elogio', 'Elogio', 'Elogio', 'Elogio', 'Elogio', 'Elogio', 'Elogio', 'Reclamação', 'Elogio', 'Elogio', 'Elogio', 'Elogio', 'Elogio', 'Elogio', 'Elogio', 'Elogio', 'Elogio', 'Elogio', 'Elogio', 'Elogio', 'Elogio', 'Elogio', 'Reclamação', 'Elogio', 'Elogio', 'Elogio', 'Elogio', 'Elogio', 'Elogio', 'Elogio', 'Elogio', 'Elogio', 'Elogio', 'Elogio', 'Elogio', 'Reclamação', 'Elogio', 'Neutra', 'Elogio', 'Elogio', 'Elogio', 'Elogio', 'Elogio', 'Elogio', 'Elogio', 'Elogio', 'Elogio', 'Elogio', 'Elogio', 'Elogio', 'Elogio', 'Elogio', 'Elogio', 'Elogio', 'Elogio', 'Elogio', 'Elogio', 'Elogio', 'Elogio', 'Elogio', 'Crítica', 'Elogio', 'Elogio', 'Elogio', 'Elogio', 'Elogio', 'Reclamação', 'Elogio', 'Elogio', 'Elogio', 'Elogio', 'Reclamação', 'Elogio', 'Elogio', 'Elogio', 'Elogio', 'Elogio', 'Elogio', 'Elogio', 'Elogio', 'Elogio', 'Elogio', 'Elogio', 'Elogio', 'Elogio', 'Elogio', 'Reclamação', 'Elogio', 'Elogio', 'Elogio', 'Elogio', 'Elogio', 'Elogio', 'Elogio', 'Elogio', 'Reclamação', 'Elogio', 'Elogio', 'Elogio', 'Elogio', 'Elogio', 'Elogio', 'Elogio', 'Elogio', 'Elogio', 'Elogio', 'Elogio', 'Reclamação', 'Elogio', 'Elogio', 'Elogio', 'Elogio', 'Elogio', 'Elogio', 'Reclamação', 'Elogio', 'Neutra', 'Elogio', 'Elogio', 'Elogio', 'Reclamação', 'Elogio', 'Elogio', 'Elogio', 'Elogio', 'Elogio', 'Elogio', 'Elogio', 'Elogio', 'Elogio', 'Elogio', 'Elogio', 'Elogio', 'Elogio', 'Elogio', 'Elogio', 'Elogio', 'Elogio', 'Elogio', 'Elogio', 'Elogio', 'Elogio', 'Elogio', 'Elogio', 'Elogio', 'Elogio', 'Elogio', 'Elogio', 'Elogio', 'Reclamação', 'Elogio', 'Elogio', 'Elogio', 'Elogio', 'Elogio', 'Elogio', 'Elogio', 'Elogio', 'Elogio', 'Elogio', 'Elogio', 'Elogio', 'Elogio', 'Elogio', 'Elogio', 'Elogio', 'Reclamação', 'Elogio', 'Elogio', 'Elogio', 'Elogio', 'Elogio', 'Elogio', 'Elogio', 'Elogio', 'Elogio', 'Elogio', 'Elogio', 'Elogio', 'Elogio', 'Elogio', 'Elogio', 'Elogio', 'Reclamação', 'Elogio', 'Elogio', 'Elogio', 'Elogio', 'Elogio', 'Elogio', 'Elogio', 'Elogio', 'Elogio', 'Elogio', 'Elogio', 'Elogio', 'Elogio', 'Elogio', 'Elogio', 'Elogio', 'Elogio', 'Elogio', 'Elogio', 'Elogio', 'Elogio', 'Elogio', 'Elogio', 'Elogio', 'Elogio', 'Elogio', 'Elogio', 'Elogio', 'Elogio', 'Elogio', 'Elogio', 'Elogio', 'Elogio', 'Elogio', 'Elogio', 'Elogio', 'Elogio', 'Reclamação', 'Elogio', 'Elogio', 'Elogio', 'Elogio', 'Elogio', 'Elogio', 'Elogio', 'Elogio', 'Elogio', 'Elogio', 'Elogio', 'Elogio', 'Elogio', 'Reclamação', 'Elogio', 'Elogio', 'Elogio', 'Elogio', 'Elogio', 'Elogio', 'Crítica', 'Elogio', 'Elogio', 'Elogio', 'Elogio', 'Elogio', 'Elogio', 'Reclamação', 'Elogio', 'Elogio', 'Elogio', 'Elogio', 'Elogio', 'Elogio', 'Sugestão', 'Elogio', 'Elogio', 'Elogio', 'Elogio', 'Elogio', 'Elogio', 'Elogio', 'Elogio', 'Elogio', 'Elogio', 'Elogio', 'Elogio', 'Elogio', 'Elogio', 'Elogio', 'Elogio', 'Elogio', 'Elogio', 'Elogio', 'Elogio', 'Elogio', 'Elogio', 'Elogio', 'Elogio', 'Elogio', 'Elogio', 'Elogio', 'Elogio', 'Elogio', 'Elogio', 'Elogio', 'Elogio', 'Elogio', 'Elogio', 'Elogio', 'Elogio', 'Elogio', 'Elogio', 'Elogio', 'Elogio', 'Reclamação', 'Elogio', 'Elogio', 'Elogio', 'Elogio', 'Elogio', 'Elogio', 'Elogio', 'Elogio', 'Elogio', 'Elogio', 'Elogio', 'Elogio', 'Elogio', 'Elogio', 'Elogio', 'Elogio', 'Elogio', 'Elogio', 'Elogio', 'Elogio', 'Elogio', 'Elogio', 'Elogio', 'Elogio', 'Elogio', 'Elogio', 'Elogio', 'Elogio', 'Elogio', 'Elogio', 'Elogio', 'Elogio', 'Elogio', 'Elogio', 'Elogio', 'Elogio', 'Elogio', 'Elogio', 'Elogio', 'Elogio', 'Elogio', 'Elogio', 'Solicitação', 'Elogio', 'Elogio', 'Elogio', 'Elogio', 'Elogio', 'Elogio', 'Elogio', 'Elogio', 'Elogio', 'Elogio', 'Elogio', 'Elogio', 'Elogio', 'Elogio', 'Elogio', 'Elogio', 'Elogio', 'Elogio', 'Elogio', 'Elogio', 'Elogio', 'Elogio', 'Elogio', 'Elogio', 'Reclamação', 'Elogio', 'Elogio', 'Elogio', 'Elogio', 'Elogio', 'Elogio', 'Elogio', 'Elogio', 'Reclamação', 'Elogio', 'Elogio', 'Elogio', 'Reclamação', 'Reclamação', 'Elogio', 'Elogio', 'Elogio', 'Elogio', 'Elogio', 'Elogio', 'Elogio', 'Elogio', 'Elogio', 'Elogio', 'Elogio', 'Elogio', 'Elogio', 'Elogio', 'Crítica', 'Elogio', 'Elogio', 'Elogio', 'Elogio', 'Elogio', 'Elogio', 'Elogio', 'Elogio', 'Elogio', 'Elogio', 'Elogio', 'Elogio', 'Elogio', 'Elogio', 'Elogio', 'Elogio', 'Elogio', 'Elogio', 'Elogio', 'Elogio', 'Elogio', 'Elogio', 'Elogio', 'Elogio', 'Crítica', 'Elogio', 'Elogio', 'Elogio', 'Elogio', 'Elogio', 'Elogio', 'Elogio', 'Elogio', 'Elogio', 'Elogio', 'Elogio', 'Elogio', 'Elogio', 'Elogio', 'Reclamação', 'Elogio', 'Elogio', 'Elogio', 'Reclamação', 'Elogio', 'Elogio', 'Elogio', 'Elogio', 'Elogio', 'Neutra', 'Elogio', 'Elogio', 'Elogio', 'Elogio', 'Elogio', 'Elogio', 'Elogio', 'Elogio', 'Elogio', 'Reclamação', 'Elogio', 'Elogio', 'Elogio', 'Elogio', 'Elogio', 'Elogio', 'Reclamação', 'Reclamação', 'Elogio', 'Elogio', 'Elogio', 'Reclamação', 'Reclamação', 'Elogio', 'Reclamação', 'Crítica', 'Elogio', 'Elogio', 'Elogio', 'Elogio', 'Elogio', 'Elogio', 'Elogio', 'Elogio', 'Elogio', 'Elogio', 'Elogio', 'Elogio', 'Elogio', 'Elogio', 'Elogio', 'Elogio', 'Elogio', 'Elogio', 'Elogio', 'Elogio', 'Elogio', 'Elogio', 'Elogio', 'Elogio', 'Elogio', 'Elogio', 'Reclamação', 'Elogio', 'Elogio', 'Elogio', 'Elogio', 'Elogio', 'Elogio', 'Elogio', 'Elogio', 'Elogio', 'Elogio', 'Elogio', 'Elogio', 'Elogio', 'Elogio', 'Elogio', 'Elogio', 'Elogio', 'Elogio', 'Elogio', 'Elogio', 'Elogio', 'Elogio', 'Elogio', 'Elogio', 'Elogio', 'Reclamação', 'Elogio', 'Elogio', 'Elogio', 'Elogio', 'Elogio', 'Elogio', 'Reclamação', 'Elogio', 'Elogio', 'Elogio', 'Elogio', 'Elogio', 'Elogio', 'Elogio', 'Elogio', 'Elogio', 'Elogio', 'Elogio', 'Elogio', 'Elogio', 'Elogio', 'Elogio', 'Elogio', 'Elogio', 'Elogio', 'Elogio', 'Elogio', 'Elogio', 'Elogio', 'Elogio', 'Elogio', 'Crítica', 'Elogio', 'Elogio', 'Elogio', 'Elogio', 'Elogio', 'Elogio', 'Elogio', 'Elogio', 'Elogio', 'Elogio', 'Elogio', 'Elogio', 'Elogio', 'Elogio', 'Elogio', 'Elogio', 'Elogio', 'Elogio', 'Elogio', 'Elogio', 'Elogio', 'Elogio', 'Elogio', 'Reclamação', 'Elogio', 'Elogio', 'Elogio', 'Elogio', 'Elogio', 'Elogio', 'Elogio', 'Reclamação', 'Elogio', 'Elogio', 'Elogio', 'Elogio', 'Elogio', 'Elogio', 'Elogio', 'Elogio', 'Elogio', 'Elogio', 'Elogio', 'Elogio', 'Elogio', 'Elogio', 'Elogio', 'Elogio', 'Elogio', 'Elogio', 'Neutra', 'Elogio', 'Elogio', 'Neutra', 'Elogio', 'Elogio', 'Elogio', 'Elogio', 'Elogio', 'Elogio', 'Elogio', 'Elogio', 'Elogio', 'Elogio', 'Elogio', 'Elogio', 'Reclamação', 'Elogio', 'Elogio', 'Elogio', 'Elogio', 'Elogio', 'Elogio', 'Elogio', 'Elogio', 'Reclamação', 'Elogio', 'Elogio', 'Elogio', 'Elogio', 'Elogio', 'Elogio', 'Elogio', 'Elogio', 'Elogio', 'Elogio', 'Elogio', 'Elogio', 'Elogio', 'Elogio', 'Elogio', 'Elogio', 'Reclamação', 'Elogio', 'Elogio', 'Reclamação', 'Elogio', 'Elogio', 'Elogio', 'Elogio', 'Elogio', 'Elogio', 'Elogio', 'Elogio', 'Elogio', 'Elogio', 'Elogio', 'Elogio', 'Elogio', 'Elogio', 'Elogio', 'Elogio', 'Elogio', 'Neutra', 'Elogio', 'Reclamação', 'Elogio', 'Elogio', 'Elogio', 'Elogio', 'Elogio', 'Elogio', 'Elogio', 'Elogio', 'Elogio', 'Elogio', 'Elogio', 'Elogio', 'Reclamação', 'Elogio', 'Reclamação', 'Elogio', 'Elogio', 'Elogio', 'Reclamação', 'Elogio', 'Elogio', 'Elogio', 'Elogio', 'Elogio', 'Elogio', 'Elogio', 'Elogio', 'Elogio', 'Elogio', 'Elogio', 'Elogio', 'Elogio', 'Elogio', 'Elogio', 'Resposta', 'Elogio', 'Elogio', 'Reclamação', 'Elogio', 'Elogio', 'Elogio', 'Elogio', 'Reclamação', 'Elogio', 'Elogio', 'Elogio', 'Elogio', 'Elogio', 'Elogio', 'Elogio', 'Elogio', 'Reclamação', 'Elogio', 'Elogio', 'Elogio', 'Elogio', 'Elogio', 'Elogio', 'Elogio', 'Reclamação', 'Elogio', 'Elogio', 'Reclamação', 'Elogio', 'Elogio', 'Elogio', 'Elogio', 'Elogio', 'Elogio', 'Reclamação', 'Elogio', 'Reclamação', 'Reclamação', 'Elogio', 'Elogio', 'Elogio', 'Elogio', 'Elogio', 'Reclamação', 'Reclamação', 'Elogio', 'Elogio', 'Elogio', 'Elogio', 'Elogio', 'Elogio', 'Elogio', 'Reclamação', 'Reclamação', 'Elogio', 'Neutra', 'Elogio', 'Elogio', 'Elogio', 'Elogio', 'Elogio', 'Elogio', 'Elogio', 'Elogio', 'Elogio', 'Elogio', 'Elogio', 'Elogio', 'Elogio', 'Elogio', 'Elogio', 'Elogio', 'Elogio', 'Reclamação', 'Elogio', 'Dúvida', 'Elogio', 'Elogio', 'Elogio', 'Elogio', 'Reclamação', 'Elogio', 'Elogio', 'Elogio', 'Elogio', 'Elogio', 'Elogio', 'Elogio', 'Reclamação', 'Elogio', 'Elogio', 'Elogio', 'Elogio', 'Elogio', 'Elogio', 'Elogio', 'Elogio', 'Elogio', 'Reclamação', 'Elogio', 'Elogio', 'Elogio', 'Elogio', 'Elogio', 'Elogio', 'Elogio', 'Elogio', 'Elogio', 'Reclamação', 'Reclamação', 'Reclamação', 'Elogio', 'Elogio', 'Elogio', 'Elogio', 'Elogio', 'Elogio', 'Reclamação', 'Reclamação', 'Elogio', 'Elogio', 'Elogio', 'Elogio', 'Elogio', 'Elogio', 'Elogio', 'Elogio', 'Reclamação', 'Elogio', 'Reclamação', 'Elogio', 'Elogio', 'Elogio', 'Elogio', 'Elogio', 'Reclamação', 'Elogio', 'Elogio', 'Neutra', 'Elogio', 'Neutra', 'Elogio', 'Elogio', 'Elogio', 'Neutra', 'Elogio', 'Elogio', 'Elogio', 'Reclamação', 'Crítica', 'Elogio', 'Reclamação', 'Elogio', 'Elogio', 'Elogio', 'Reclamação', 'Elogio', 'Elogio', 'Reclamação', 'Elogio', 'Crítica', 'Elogio', 'Elogio', 'Elogio', 'Elogio', 'Elogio', 'Elogio', 'Elogio', 'Reclamação', 'Elogio', 'Elogio', 'Elogio', 'Elogio', 'Reclamação', 'Elogio', 'Elogio', 'Elogio', 'Elogio', 'Elogio', 'Elogio', 'Elogio', 'Elogio', 'Elogio', 'Elogio', 'Elogio', 'Elogio', 'Reclamação', 'Elogio', 'Elogio', 'Elogio', 'Elogio', 'Elogio', 'Elogio', 'Elogio', 'Elogio', 'Elogio', 'Elogio', 'Elogio', 'Elogio', 'Reclamação', 'Elogio', 'Elogio', 'Elogio', 'Elogio', 'Reclamação', 'Elogio', 'Elogio', 'Elogio', 'Reclamação', 'Elogio', 'Elogio', 'Elogio', 'Elogio', 'Elogio', 'Elogio', 'Reclamação', 'Elogio', 'Elogio', 'Elogio', 'Elogio', 'Elogio', 'Elogio', 'Elogio', 'Elogio', 'Elogio', 'Crítica', 'Elogio', 'Elogio', 'Reclamação', 'Elogio', 'Elogio', 'Elogio', 'Elogio', 'Elogio', 'Elogio', 'Elogio', 'Elogio', 'Reclamação', 'Elogio', 'Elogio', 'Elogio', 'Elogio', 'Elogio', 'Reclamação', 'Elogio', 'Elogio', 'Elogio', 'Elogio', 'Elogio', 'Elogio', 'Elogio', 'Elogio', 'Elogio', 'Reclamação', 'Elogio', 'Elogio', 'Elogio', 'Elogio', 'Elogio', 'Elogio', 'Elogio', 'Crítica', 'Elogio', 'Elogio', 'Elogio', 'Elogio', 'Elogio', 'Elogio', 'Elogio', 'Elogio', 'Elogio', 'Elogio', 'Elogio', 'Elogio', 'Elogio', 'Crítica', 'Elogio', 'Elogio', 'Elogio', 'Elogio', 'Elogio', 'Elogio', 'Reclamação', 'Elogio', 'Elogio', 'Elogio', 'Reclamação', 'Elogio', 'Elogio', 'Elogio', 'Elogio', 'Crítica', 'Elogio', 'Elogio', 'Reclamação', 'Elogio', 'Elogio', 'Crítica', 'Elogio', 'Elogio', 'Reclamação', 'Elogio', 'Elogio', 'Elogio', 'Elogio', 'Elogio', 'Elogio', 'Elogio', 'Neutra', 'Elogio', 'Reclamação', 'Elogio', 'Elogio', 'Reclamação', 'Elogio', 'Neutra', 'Elogio', 'Elogio', 'Elogio', 'Elogio', 'Reclamação', 'Reclamação', 'Elogio', 'Elogio', 'Elogio', 'Elogio', 'Reclamação', 'Elogio', 'Elogio', 'Reclamação', 'Sugestão', 'Elogio', 'Elogio', 'Elogio', 'Reclamação', 'Elogio', 'Elogio', 'Reclamação', 'Elogio', 'Elogio', 'Elogio', 'Elogio', 'Elogio', 'Reclamação', 'Elogio', 'Reclamação', 'Reclamação', 'Elogio', 'Reclamação', 'Elogio', 'Elogio', 'Elogio', 'Crítica', 'Elogio', 'Elogio', 'Elogio', 'Elogio', 'Elogio', 'Elogio', 'Elogio', 'Elogio', 'Elogio', 'Elogio', 'Elogio', 'Elogio', 'Elogio', 'Elogio', 'Elogio', 'Elogio', 'Elogio', 'Elogio', 'Reclamação', 'Reclamação', 'Elogio', 'Elogio', 'Reclamação', 'Elogio', 'Elogio', 'Elogio', 'Elogio', 'Elogio', 'Reclamação', 'Elogio', 'Elogio', 'Elogio', 'Elogio', 'Elogio', 'Elogio', 'Elogio', 'Elogio', 'Elogio', 'Neutra', 'Elogio', 'Sugestão', 'Elogio', 'Elogio', 'Elogio', 'Elogio', 'Elogio', 'Elogio', 'Elogio', 'Elogio', 'Elogio', 'Elogio', 'Reclamação', 'Elogio', 'Reclamação', 'Elogio', 'Elogio', 'Elogio', 'Reclamação', 'Elogio', 'Elogio', 'Elogio', 'Elogio', 'Elogio', 'Elogio', 'Elogio', 'Elogio', 'Elogio', 'Elogio', 'Reclamação', 'Elogio', 'Elogio', 'Elogio', 'Elogio', 'Elogio', 'Elogio', 'Reclamação', 'Elogio', 'Elogio', 'Elogio', 'Elogio', 'Elogio', 'Elogio', 'Reclamação', 'Elogio', 'Elogio', 'Elogio', 'Elogio', 'Elogio', 'Reclamação', 'Elogio', 'Elogio', 'Elogio', 'Reclamação', 'Elogio', 'Elogio', 'Reclamação', 'Elogio', 'Elogio', 'Elogio', 'Elogio', 'Elogio', 'Elogio', 'Elogio', 'Elogio', 'Elogio', 'Elogio', 'Elogio', 'Elogio', 'Elogio', 'Elogio', 'Reclamação', 'Elogio', 'Elogio', 'Elogio', 'Elogio', 'Elogio', 'Elogio', 'Elogio', 'Elogio', 'Elogio', 'Elogio', 'Elogio', 'Elogio', 'Elogio', 'Elogio', 'Elogio', 'Dúvida', 'Elogio', 'Elogio', 'Elogio', 'Elogio', 'Elogio', 'Elogio', 'Elogio', 'Elogio', 'Elogio', 'Reclamação', 'Elogio', 'Elogio', 'Reclamação', 'Reclamação', 'Elogio', 'Elogio', 'Elogio', 'Elogio', 'Elogio', 'Elogio', 'Elogio', 'Elogio', 'Elogio', 'Elogio', 'Elogio', 'Elogio']\n",
            "\n",
            "HOT OFF THE PRESS! HERE ARE SOME NEWLY MINTED, ABSOLUTELY GENUINE REVIEWS!\n",
            "\n",
            "Reclamação\n",
            "[4.6702224e-04 9.3125880e-01 5.8713481e-03 2.4637101e-02 2.3840668e-02\n",
            " 3.2887661e-03 2.5023147e-03 2.8410510e-03 5.2928203e-03]\n"
          ],
          "name": "stdout"
        }
      ]
    },
    {
      "cell_type": "code",
      "metadata": {
        "id": "-KZtuI-aIxa-",
        "outputId": "2a8f3ba4-9d8d-4bf5-ed18-eec54dddf774",
        "colab": {
          "base_uri": "https://localhost:8080/",
          "height": 70
        }
      },
      "source": [
        "classes[17]"
      ],
      "execution_count": 56,
      "outputs": [
        {
          "output_type": "execute_result",
          "data": {
            "text/plain": [
              "array([4.6702224e-04, 9.3125880e-01, 5.8713481e-03, 2.4637101e-02,\n",
              "       2.3840668e-02, 3.2887661e-03, 2.5023147e-03, 2.8410510e-03,\n",
              "       5.2928203e-03], dtype=float32)"
            ]
          },
          "metadata": {
            "tags": []
          },
          "execution_count": 56
        }
      ]
    },
    {
      "cell_type": "code",
      "metadata": {
        "id": "x9XhpRqZMacp",
        "outputId": "0384facd-0cfb-42c6-df36-be777ee3d4f1",
        "colab": {
          "base_uri": "https://localhost:8080/",
          "height": 35
        }
      },
      "source": [
        "classes_list = classes.tolist()\n",
        "classes_list[17].index(np.max(classes[17], axis=0, keepdims=True))"
      ],
      "execution_count": 57,
      "outputs": [
        {
          "output_type": "execute_result",
          "data": {
            "text/plain": [
              "1"
            ]
          },
          "metadata": {
            "tags": []
          },
          "execution_count": 57
        }
      ]
    },
    {
      "cell_type": "code",
      "metadata": {
        "id": "Vn4EwuQUNu9c",
        "outputId": "360cb9e4-ee11-4bec-f580-26a6c282216c",
        "colab": {
          "base_uri": "https://localhost:8080/",
          "height": 35
        }
      },
      "source": [
        "for item in classes_list:\n",
        "classes_list[17].index(max(classes_list[17]))"
      ],
      "execution_count": 63,
      "outputs": [
        {
          "output_type": "execute_result",
          "data": {
            "text/plain": [
              "1"
            ]
          },
          "metadata": {
            "tags": []
          },
          "execution_count": 63
        }
      ]
    }
  ]
}