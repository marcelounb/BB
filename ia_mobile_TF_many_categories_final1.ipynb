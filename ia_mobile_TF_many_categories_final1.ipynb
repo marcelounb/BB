{
  "nbformat": 4,
  "nbformat_minor": 0,
  "metadata": {
    "colab": {
      "name": "ia-mobile-TF-many_categories-final.ipynb",
      "provenance": [],
      "collapsed_sections": [],
      "toc_visible": true,
      "authorship_tag": "ABX9TyPP2uV0d68HoGg6uHROGy8K",
      "include_colab_link": true
    },
    "kernelspec": {
      "name": "python3",
      "display_name": "Python 3"
    }
  },
  "cells": [
    {
      "cell_type": "markdown",
      "metadata": {
        "id": "view-in-github",
        "colab_type": "text"
      },
      "source": [
        "<a href=\"https://colab.research.google.com/github/marcelounb/BB/blob/master/ia_mobile_TF_many_categories_final1.ipynb\" target=\"_parent\"><img src=\"https://colab.research.google.com/assets/colab-badge.svg\" alt=\"Open In Colab\"/></a>"
      ]
    },
    {
      "cell_type": "code",
      "metadata": {
        "id": "rHxltmnRU9ln"
      },
      "source": [
        "import os\n",
        "from google.colab import files\n",
        "import pandas as pd\n",
        "import numpy as np\n",
        "import seaborn as sns\n",
        "import matplotlib.pyplot as plt"
      ],
      "execution_count": 1,
      "outputs": []
    },
    {
      "cell_type": "code",
      "metadata": {
        "id": "Gm9AZVQPZCOA"
      },
      "source": [
        "import tensorflow as tf\n",
        "from tensorflow.keras.preprocessing.text import Tokenizer\n",
        "from tensorflow.keras.preprocessing.sequence import pad_sequences"
      ],
      "execution_count": 2,
      "outputs": []
    },
    {
      "cell_type": "code",
      "metadata": {
        "id": "PPusEovcWEkH"
      },
      "source": [
        "path = \"/content/fulldataset.xlsx\""
      ],
      "execution_count": 3,
      "outputs": []
    },
    {
      "cell_type": "code",
      "metadata": {
        "id": "g92V1APjhYbE"
      },
      "source": [
        "dataset = pd.read_excel(path, sheet_name=0, header=0, dtype={'score': np.int32})\n",
        "\n",
        "responsavel       = dataset[dataset.columns[0]].tolist()   # Responsável\n",
        "natureza          = dataset[dataset.columns[1]].tolist()   # Natureza\n",
        "classificacao     = dataset[dataset.columns[2]].tolist()   # Classificação\n",
        "produtos_servicos = dataset[dataset.columns[3]].tolist()   # Produtos/Serviços\n",
        "detalhamento      = dataset[dataset.columns[4]].tolist()   # Detalhamento\n",
        "review            = dataset[dataset.columns[15]].tolist()  # review\n",
        "score             = dataset[dataset.columns[16]].tolist()  # score"
      ],
      "execution_count": 4,
      "outputs": []
    },
    {
      "cell_type": "code",
      "metadata": {
        "id": "KHe-51Vf_JAK",
        "outputId": "d385d0af-9e52-4bc0-9272-e45bb3b0c325",
        "colab": {
          "base_uri": "https://localhost:8080/",
          "height": 141
        }
      },
      "source": [
        "dataset.columns"
      ],
      "execution_count": 5,
      "outputs": [
        {
          "output_type": "execute_result",
          "data": {
            "text/plain": [
              "Index(['Responsável', 'Natureza', 'Classificação', 'Produtos/Serviços',\n",
              "       'Detalhamento', 'Descrição do Problema', 'Produtos/Serviços 2',\n",
              "       'Detalhamento 2', 'Descrição do Problema 2', 'Produtos/Serviços 3',\n",
              "       'Detalhamento 3', 'Descrição do Problema 3', 'id', 'userName',\n",
              "       'userImage', 'review', 'score', 'thumbsUpCount', 'appVersion', 'date',\n",
              "       'reply', 'replyDate'],\n",
              "      dtype='object')"
            ]
          },
          "metadata": {
            "tags": []
          },
          "execution_count": 5
        }
      ]
    },
    {
      "cell_type": "markdown",
      "metadata": {
        "id": "TFvNToZSPp8d"
      },
      "source": [
        "# Reduzindo o texto (retirando artigos, pontuacao e conjuncao 'e')"
      ]
    },
    {
      "cell_type": "code",
      "metadata": {
        "id": "nyf5qpFVPo-g"
      },
      "source": [
        "def reduzir_texto(frases):\n",
        "  frase = ''\n",
        "  for item in frases.lower().split():\n",
        "    if item not in ['a', 'o', 'as', 'os', 'da', 'do', 'das', 'dos', 'e']:  # retira os artigos e conjuncao 'e'\n",
        "      if item[-1] in ['.', ',', '!', ';' ]:\n",
        "        frase +=str(item[0:-1])+' '  # retira pontuacao\n",
        "      else:\n",
        "        frase +=str(item)+' '\n",
        "\n",
        "  return frase[:-1]"
      ],
      "execution_count": 6,
      "outputs": []
    },
    {
      "cell_type": "code",
      "metadata": {
        "id": "blH0WibVP3b0",
        "outputId": "de2d6b7a-3499-40ce-c574-c6532d627566",
        "colab": {
          "base_uri": "https://localhost:8080/",
          "height": 72
        }
      },
      "source": [
        "review_reduzida = []\n",
        "for item in review:\n",
        "  review_reduzida.append(reduzir_texto(item))\n",
        "print(review[0:5])\n",
        "print(review_reduzida[0:5])"
      ],
      "execution_count": 7,
      "outputs": [
        {
          "output_type": "stream",
          "text": [
            "['O aplicativo possibilita fazer todas as movimentações e acompanhar seu andamento. È fàcil de utilizar, ràpido e possue todas as informações necessàrias ao cliente.', 'Bom', 'Muito bom, gosto muito', 'Muito bom', 'Muito bom tem me ajudado muito pois faço tudo sem precisar sair de casa👏👏👏👏👏']\n",
            "['aplicativo possibilita fazer todas movimentações acompanhar seu andamento è fàcil de utilizar ràpido possue todas informações necessàrias ao cliente', 'bom', 'muito bom gosto muito', 'muito bom', 'muito bom tem me ajudado muito pois faço tudo sem precisar sair de casa👏👏👏👏👏']\n"
          ],
          "name": "stdout"
        }
      ]
    },
    {
      "cell_type": "markdown",
      "metadata": {
        "id": "FjTKdxpYPufa"
      },
      "source": [
        "# Separando as bases de treinamento e de testes"
      ]
    },
    {
      "cell_type": "code",
      "metadata": {
        "id": "5NpGdb_uLA49"
      },
      "source": [
        "# Separate out the sentences and labels into training and test sets\n",
        "training_size = int(len(review) * 0.8)\n",
        "\n",
        "training_sentences = review[0:training_size]\n",
        "testing_sentences = review[training_size:]\n",
        "training_labels = classificacao[0:training_size]\n",
        "testing_labels = classificacao[training_size:]"
      ],
      "execution_count": 8,
      "outputs": []
    },
    {
      "cell_type": "code",
      "metadata": {
        "id": "NbNSl_79Lzy2",
        "outputId": "f9777873-7611-487a-e565-fe8ded549608",
        "colab": {
          "base_uri": "https://localhost:8080/",
          "height": 35
        }
      },
      "source": [
        "type(training_labels[2])"
      ],
      "execution_count": 9,
      "outputs": [
        {
          "output_type": "execute_result",
          "data": {
            "text/plain": [
              "str"
            ]
          },
          "metadata": {
            "tags": []
          },
          "execution_count": 9
        }
      ]
    },
    {
      "cell_type": "code",
      "metadata": {
        "id": "tTjjZBvBsCWr",
        "outputId": "c1da6ccb-a41a-493c-b86e-b69c49ab9c62",
        "colab": {
          "base_uri": "https://localhost:8080/",
          "height": 52
        }
      },
      "source": [
        "# Tokenizing classificacao\n",
        "tokenizer = Tokenizer()\n",
        "tokenizer.fit_on_texts(classificacao)\n",
        "word_index = tokenizer.word_index\n",
        "print(word_index)\n",
        "prediction_classes = word_index\n",
        "reversed_prediction_classes = {value : key[0].upper() + key[1:] for (key, value) in prediction_classes.items()}\n",
        "print(reversed_prediction_classes)"
      ],
      "execution_count": 10,
      "outputs": [
        {
          "output_type": "stream",
          "text": [
            "{'elogio': 1, 'reclamação': 2, 'crítica': 3, 'neutra': 4, 'dúvida': 5, 'sugestão': 6, 'solicitação': 7, 'resposta': 8}\n",
            "{1: 'Elogio', 2: 'Reclamação', 3: 'Crítica', 4: 'Neutra', 5: 'Dúvida', 6: 'Sugestão', 7: 'Solicitação', 8: 'Resposta'}\n"
          ],
          "name": "stdout"
        }
      ]
    },
    {
      "cell_type": "code",
      "metadata": {
        "id": "UWebeXeOa8uC"
      },
      "source": [
        "len(word_index)\n",
        "tamanho_classes = len(word_index)+1"
      ],
      "execution_count": 11,
      "outputs": []
    },
    {
      "cell_type": "code",
      "metadata": {
        "id": "UduFqej4MhGx"
      },
      "source": [
        "def transforming_labels(lista):\n",
        "  temp = []\n",
        "  for item in lista:\n",
        "    temp.append(word_index.get(item.lower()))\n",
        "  return temp"
      ],
      "execution_count": 12,
      "outputs": []
    },
    {
      "cell_type": "code",
      "metadata": {
        "id": "YLoT5goWUSR-"
      },
      "source": [
        "training_labels = transforming_labels(training_labels)\n",
        "testing_labels = transforming_labels(testing_labels)"
      ],
      "execution_count": 13,
      "outputs": []
    },
    {
      "cell_type": "code",
      "metadata": {
        "id": "b-zHPSabUgpX",
        "outputId": "7e15a4f1-22b1-4a17-a7e2-320e7bca2b6a",
        "colab": {
          "base_uri": "https://localhost:8080/",
          "height": 35
        }
      },
      "source": [
        "training_labels[0:20]"
      ],
      "execution_count": 14,
      "outputs": [
        {
          "output_type": "execute_result",
          "data": {
            "text/plain": [
              "[1, 1, 1, 1, 1, 1, 1, 1, 1, 1, 1, 1, 1, 1, 1, 1, 1, 2, 1, 1]"
            ]
          },
          "metadata": {
            "tags": []
          },
          "execution_count": 14
        }
      ]
    },
    {
      "cell_type": "code",
      "metadata": {
        "id": "KXxpaO8RLzEv"
      },
      "source": [
        "# Make labels into numpy arrays for use with the network later\n",
        "training_labels_final = np.array(training_labels)\n",
        "testing_labels_final = np.array(testing_labels)"
      ],
      "execution_count": 15,
      "outputs": []
    },
    {
      "cell_type": "code",
      "metadata": {
        "id": "XXnYlW6CLqgp",
        "outputId": "33090e5d-03c4-4720-da22-7cece1ea91bb",
        "colab": {
          "base_uri": "https://localhost:8080/",
          "height": 35
        }
      },
      "source": [
        "training_labels_final"
      ],
      "execution_count": 16,
      "outputs": [
        {
          "output_type": "execute_result",
          "data": {
            "text/plain": [
              "array([1, 1, 1, ..., 1, 1, 1])"
            ]
          },
          "metadata": {
            "tags": []
          },
          "execution_count": 16
        }
      ]
    },
    {
      "cell_type": "code",
      "metadata": {
        "id": "_dPCpO9fJIpy",
        "outputId": "c9f70bb6-e5e2-48c1-bbe2-c6f968f6ca1f",
        "colab": {
          "base_uri": "https://localhost:8080/",
          "height": 55
        }
      },
      "source": [
        "print(training_sentences[0:5])"
      ],
      "execution_count": 17,
      "outputs": [
        {
          "output_type": "stream",
          "text": [
            "['O aplicativo possibilita fazer todas as movimentações e acompanhar seu andamento. È fàcil de utilizar, ràpido e possue todas as informações necessàrias ao cliente.', 'Bom', 'Muito bom, gosto muito', 'Muito bom', 'Muito bom tem me ajudado muito pois faço tudo sem precisar sair de casa👏👏👏👏👏']\n"
          ],
          "name": "stdout"
        }
      ]
    },
    {
      "cell_type": "code",
      "metadata": {
        "id": "CblxCkbTr5Eg",
        "outputId": "4da30807-e9a8-493d-87dd-1fb514c47789",
        "colab": {
          "base_uri": "https://localhost:8080/",
          "height": 35
        }
      },
      "source": [
        "print(training_labels[0:20], testing_labels[0:20])"
      ],
      "execution_count": 18,
      "outputs": [
        {
          "output_type": "stream",
          "text": [
            "[1, 1, 1, 1, 1, 1, 1, 1, 1, 1, 1, 1, 1, 1, 1, 1, 1, 2, 1, 1] [1, 1, 1, 1, 1, 1, 1, 1, 2, 1, 1, 1, 1, 1, 1, 1, 1, 1, 1, 1]\n"
          ],
          "name": "stdout"
        }
      ]
    },
    {
      "cell_type": "markdown",
      "metadata": {
        "id": "ZpuhhlBjqHuz"
      },
      "source": [
        "# Tokenize the dataset\n",
        "Tokenize the dataset, including padding and OOV"
      ]
    },
    {
      "cell_type": "code",
      "metadata": {
        "id": "XmV-F-fnkBTy"
      },
      "source": [
        "vocab_size = 1000\n",
        "embedding_dim = 16\n",
        "max_length = 100\n",
        "trunc_type='post'\n",
        "padding_type='post'\n",
        "oov_tok = \"<OOV>\"\n",
        "\n",
        "\n",
        "from tensorflow.keras.preprocessing.text import Tokenizer\n",
        "from tensorflow.keras.preprocessing.sequence import pad_sequences\n",
        "\n",
        "tokenizer = Tokenizer(num_words = vocab_size, oov_token=oov_tok)\n",
        "tokenizer.fit_on_texts(training_sentences)\n",
        "word_index = tokenizer.word_index\n",
        "sequences = tokenizer.texts_to_sequences(training_sentences)\n",
        "padded = pad_sequences(sequences,maxlen=max_length, padding=padding_type, \n",
        "                       truncating=trunc_type)\n",
        "\n",
        "testing_sequences = tokenizer.texts_to_sequences(testing_sentences)\n",
        "testing_padded = pad_sequences(testing_sequences,maxlen=max_length, \n",
        "                               padding=padding_type, truncating=trunc_type)"
      ],
      "execution_count": 19,
      "outputs": []
    },
    {
      "cell_type": "markdown",
      "metadata": {
        "id": "m3_BKIWAu8v-"
      },
      "source": [
        "# Review a Sequence\n",
        "Let's quickly take a look at one of the padded sequences to ensure everything above worked appropriately."
      ]
    },
    {
      "cell_type": "code",
      "metadata": {
        "id": "rF5Y58Mdu5-D",
        "outputId": "197d9751-fda8-4261-d4b1-67ce52852289",
        "colab": {
          "base_uri": "https://localhost:8080/",
          "height": 72
        }
      },
      "source": [
        "reverse_word_index = dict([(value, key) for (key, value) in word_index.items()])\n",
        "\n",
        "def decode_review(text):\n",
        "    return ' '.join([reverse_word_index.get(i, 'x') for i in text])\n",
        "\n",
        "print(decode_review(padded[0]))\n",
        "print(training_sentences[0])"
      ],
      "execution_count": 20,
      "outputs": [
        {
          "output_type": "stream",
          "text": [
            "o aplicativo <OOV> fazer todas as movimentações e acompanhar seu <OOV> è <OOV> de utilizar <OOV> e <OOV> todas as informações <OOV> ao cliente x x x x x x x x x x x x x x x x x x x x x x x x x x x x x x x x x x x x x x x x x x x x x x x x x x x x x x x x x x x x x x x x x x x x x x x x x x x x\n",
            "O aplicativo possibilita fazer todas as movimentações e acompanhar seu andamento. È fàcil de utilizar, ràpido e possue todas as informações necessàrias ao cliente.\n"
          ],
          "name": "stdout"
        }
      ]
    },
    {
      "cell_type": "code",
      "metadata": {
        "id": "cBkJhBxPJz8u",
        "outputId": "a1e36651-5f73-40f9-f615-771689e1cd73",
        "colab": {
          "base_uri": "https://localhost:8080/",
          "height": 35
        }
      },
      "source": [
        "training_labels_final[1]"
      ],
      "execution_count": 21,
      "outputs": [
        {
          "output_type": "execute_result",
          "data": {
            "text/plain": [
              "1"
            ]
          },
          "metadata": {
            "tags": []
          },
          "execution_count": 21
        }
      ]
    },
    {
      "cell_type": "markdown",
      "metadata": {
        "id": "pZiw1BUsvJJk"
      },
      "source": [
        "# Train a Basic Sentiment Model with Embeddings"
      ]
    },
    {
      "cell_type": "code",
      "metadata": {
        "id": "Aqio4n48vKCT",
        "outputId": "5cd0d551-45b8-4060-9b51-ab9c8b891dae",
        "colab": {
          "base_uri": "https://localhost:8080/",
          "height": 408
        }
      },
      "source": [
        "# Build a basic sentiment network\n",
        "# Note the embedding layer is first, \n",
        "# and the output is only 1 node as it is either 0 or 1 (negative or positive)\n",
        "model = tf.keras.Sequential([\n",
        "    tf.keras.layers.Embedding(vocab_size, embedding_dim, input_length=max_length),\n",
        "    tf.keras.layers.Flatten(),\n",
        "    # tf.keras.layers.Dense(50, activation='relu', input_shape=(100,)),\n",
        "    tf.keras.layers.Dense(100, activation='relu'),\n",
        "    tf.keras.layers.Dropout(0.1),\n",
        "    tf.keras.layers.Dense(100, activation='relu'),\n",
        "    tf.keras.layers.Dense(50, activation='relu'),\n",
        "    tf.keras.layers.Dense(tamanho_classes, activation='softmax')\n",
        "])\n",
        "\n",
        "\n",
        "# model.compile(loss='categorical_crossentropy',optimizer='adam',metrics=['accuracy'])\n",
        "model.compile(loss='sparse_categorical_crossentropy',optimizer='adam',metrics=['accuracy'] )\n",
        "model.summary()"
      ],
      "execution_count": 22,
      "outputs": [
        {
          "output_type": "stream",
          "text": [
            "Model: \"sequential\"\n",
            "_________________________________________________________________\n",
            "Layer (type)                 Output Shape              Param #   \n",
            "=================================================================\n",
            "embedding (Embedding)        (None, 100, 16)           16000     \n",
            "_________________________________________________________________\n",
            "flatten (Flatten)            (None, 1600)              0         \n",
            "_________________________________________________________________\n",
            "dense (Dense)                (None, 100)               160100    \n",
            "_________________________________________________________________\n",
            "dropout (Dropout)            (None, 100)               0         \n",
            "_________________________________________________________________\n",
            "dense_1 (Dense)              (None, 100)               10100     \n",
            "_________________________________________________________________\n",
            "dense_2 (Dense)              (None, 50)                5050      \n",
            "_________________________________________________________________\n",
            "dense_3 (Dense)              (None, 9)                 459       \n",
            "=================================================================\n",
            "Total params: 191,709\n",
            "Trainable params: 191,709\n",
            "Non-trainable params: 0\n",
            "_________________________________________________________________\n"
          ],
          "name": "stdout"
        }
      ]
    },
    {
      "cell_type": "code",
      "metadata": {
        "id": "w_X8h0DMvUaR",
        "outputId": "dd23028a-c2b8-4e1b-cedf-bad175a9096a",
        "colab": {
          "base_uri": "https://localhost:8080/",
          "height": 159
        }
      },
      "source": [
        "num_epochs = 4\n",
        "hist = model.fit(padded, training_labels_final, epochs=num_epochs, validation_data=(testing_padded, testing_labels_final))"
      ],
      "execution_count": 23,
      "outputs": [
        {
          "output_type": "stream",
          "text": [
            "Epoch 1/4\n",
            "130/130 [==============================] - 1s 6ms/step - loss: 0.5461 - accuracy: 0.8945 - val_loss: 0.3479 - val_accuracy: 0.9066\n",
            "Epoch 2/4\n",
            "130/130 [==============================] - 1s 4ms/step - loss: 0.2245 - accuracy: 0.9448 - val_loss: 0.2560 - val_accuracy: 0.9306\n",
            "Epoch 3/4\n",
            "130/130 [==============================] - 1s 4ms/step - loss: 0.1610 - accuracy: 0.9588 - val_loss: 0.2434 - val_accuracy: 0.9364\n",
            "Epoch 4/4\n",
            "130/130 [==============================] - 1s 4ms/step - loss: 0.1223 - accuracy: 0.9658 - val_loss: 0.2677 - val_accuracy: 0.9393\n"
          ],
          "name": "stdout"
        }
      ]
    },
    {
      "cell_type": "code",
      "metadata": {
        "id": "_XE3ozHpafpu",
        "outputId": "c8f73daf-9bf4-4bc3-ac70-1821000f9271",
        "colab": {
          "base_uri": "https://localhost:8080/",
          "height": 35
        }
      },
      "source": [
        "scores = model.evaluate(testing_padded, testing_labels_final, verbose=0)\n",
        "print(\"Baseline Error: %.2f%%\" % (100-scores[1]*100))"
      ],
      "execution_count": 24,
      "outputs": [
        {
          "output_type": "stream",
          "text": [
            "Baseline Error: 6.07%\n"
          ],
          "name": "stdout"
        }
      ]
    },
    {
      "cell_type": "code",
      "metadata": {
        "id": "P1N1UnuRV1Ik",
        "outputId": "bbcb0dc5-4edd-4dac-e767-a49b13c71725",
        "colab": {
          "base_uri": "https://localhost:8080/",
          "height": 35
        }
      },
      "source": [
        "hist.history.keys()"
      ],
      "execution_count": 25,
      "outputs": [
        {
          "output_type": "execute_result",
          "data": {
            "text/plain": [
              "dict_keys(['loss', 'accuracy', 'val_loss', 'val_accuracy'])"
            ]
          },
          "metadata": {
            "tags": []
          },
          "execution_count": 25
        }
      ]
    },
    {
      "cell_type": "code",
      "metadata": {
        "id": "PM6SppHpWDOC",
        "outputId": "edb8cebd-02ba-452a-cdd0-c4ca32f256a4",
        "colab": {
          "base_uri": "https://localhost:8080/",
          "height": 573
        }
      },
      "source": [
        "plt.plot(hist.history[ 'accuracy' ])\n",
        "plt.plot(hist.history[ 'val_accuracy' ])\n",
        "plt.title( 'model accuracy' )\n",
        "plt.ylabel( 'accuracy')\n",
        "plt.xlabel( 'epoch' )\n",
        "plt.legend([ 'train' , 'test' ], loc= 'upper left' )\n",
        "plt.show()\n",
        "# summarize history for loss\n",
        "plt.plot(hist.history[ 'loss' ])\n",
        "plt.plot(hist.history[ 'val_loss' ])\n",
        "plt.title( 'model loss' )\n",
        "plt.ylabel( 'loss' )\n",
        "plt.xlabel( 'epoch' )\n",
        "plt.legend([ 'train' , 'test' ], loc= 'upper left' )\n",
        "plt.show()"
      ],
      "execution_count": 26,
      "outputs": [
        {
          "output_type": "display_data",
          "data": {
            "image/png": "[encoded data removed]",
            "text/plain": [
              "<Figure size 432x288 with 1 Axes>"
            ]
          },
          "metadata": {
            "tags": [],
            "needs_background": "light"
          }
        },
        {
          "output_type": "display_data",
          "data": {
            "image/png": "[encoded data removed]",
            "text/plain": [
              "<Figure size 432x288 with 1 Axes>"
            ]
          },
          "metadata": {
            "tags": [],
            "needs_background": "light"
          }
        }
      ]
    },
    {
      "cell_type": "markdown",
      "metadata": {
        "id": "U07GTfbEDn1G"
      },
      "source": [
        "# Novas Predições:"
      ]
    },
    {
      "cell_type": "code",
      "metadata": {
        "id": "arh6UpnqDvFL"
      },
      "source": [
        "path = \"/content/predicao-arquivo-novo.xlsx\""
      ],
      "execution_count": 27,
      "outputs": []
    },
    {
      "cell_type": "code",
      "metadata": {
        "id": "N8uD8G3kD-OT"
      },
      "source": [
        "dataset = pd.read_excel(path, sheet_name=0, header=0, dtype={'score': np.int32})\n",
        "\n",
        "responsavel       = dataset[dataset.columns[0]].tolist()   # Responsável\n",
        "natureza          = dataset[dataset.columns[1]].tolist()   # Natureza\n",
        "classificacao     = dataset[dataset.columns[2]].tolist()   # Classificação\n",
        "produtos_servicos = dataset[dataset.columns[3]].tolist()   # Produtos/Serviços\n",
        "detalhamento      = dataset[dataset.columns[4]].tolist()   # Detalhamento\n",
        "review            = dataset[dataset.columns[15]].tolist()  # review\n",
        "score             = dataset[dataset.columns[16]].tolist()  # score"
      ],
      "execution_count": 28,
      "outputs": []
    },
    {
      "cell_type": "code",
      "metadata": {
        "id": "ZPXN26dFFzLK",
        "outputId": "fdbca350-f615-47eb-96f9-4244eee955ab",
        "colab": {
          "base_uri": "https://localhost:8080/",
          "height": 1000
        }
      },
      "source": [
        "# Use the model to predict a review   \n",
        "new_reviews = review\n",
        "\n",
        "print(new_reviews) \n",
        "\n",
        "# Create the sequences\n",
        "padding_type='post'\n",
        "sample_sequences = tokenizer.texts_to_sequences(new_reviews)\n",
        "fakes_padded = pad_sequences(sample_sequences, padding=padding_type, maxlen=max_length)           \n",
        "\n",
        "print('\\nHOT OFF THE PRESS! HERE ARE SOME NEWLY MINTED, ABSOLUTELY GENUINE REVIEWS!\\n')              \n",
        "\n",
        "classes = model.predict(fakes_padded)\n",
        "\n",
        "print(new_reviews[17])\n",
        "print(classes[0:17])"
      ],
      "execution_count": 29,
      "outputs": [
        {
          "output_type": "stream",
          "text": [
            "['Sensacional adorei', 'Faço absolutamente tudo pelo App.\\nRápido e eficiente. 👏', 'Consigo fazer praticamente tudo sem ter que precisar do atendimento dentro do Banco.', 'Excelente', 'Aplicativo pratico e sem defeitos!', 'Excelente produto, obrigado.', 'Obg Banco do Brasil por ser esse banco incrível...', 'Excelente app!', 'O app é muito prático. Ajuda muito para eu não perder tempo com serviços bancários. Muito bom!', 'Muito bom ter um App tão seguro e tão ágil, simples para qualquer idade!', 'Melhor app de banco que existe', 'Excelente gerenciador financeiro. Parabéns aos desenvolvedores.', 'Bom aplicativo. Cumpre o que é esperado pelo cliente.', 'Eu solicitei o cartão de crédito, enviei todos os documentos, fui aprovado mas na hora de escolher o melhor cartão pra mim não vai, só aparece QUERO ESSE mas não vai nem aparece a foto do cartão.', 'Mto bom pq eh prático, simples e atende as necessidades básicas do dia a dia', 'Apos desinstalar o app e instalar novamente ele não pede mais a digital como senha. O que fazer ?', 'Quando aparece para ler o cartão não funciona !!!!', 'Bem prático, o app do BB', 'Gostei muito e bem pratico', 'O melhor aplicativo de banco', 'Fácil de usar!', 'Espetacular', 'Fácil manuseio! Top!', 'Muito pratico, simples e rápido. Posso resolver minha vida de onde estiver...', 'Prefeito recomendo a todos', 'Muito bom', 'Parabéns ao Banco do Brasil ! O App é fantástico 👏🏻👏🏻👏🏻', 'Estou amando a experiência com esse app do BB! Super pratico, e eficiente!', 'Aplicativo bem desenvolvido e constantemente melhorado, para a utilização mais pessoal possível!', 'Top', 'Super prático e funcional.', 'Gosto da estabilidade do App. Além disso sinto segurança de fazer meus pagamentos e operações.', 'Aplicativo simples e prático!', 'Bom', 'Eu adoro, super fácil de usar e muito útil, resolvo quase tudo e nunca tive problemas. Beijos equipe BB', 'Rápido, leve e eficiente! Nunca piso em agência e só uso caixa eletrônico para saque, no mais faço tudo pela app...', '10', 'Top demais', 'Consigo fazer de tudo com este aplicativo, super pratico, rápido e completo, para mim está ótimo!!', 'Simplesmente adoro esse app! Quisera que todos os bancos fossem tão bons', 'Ótimo', 'Muito bom e não para de melhorar', 'Completo! Fluido! The best', 'Um dos mais fáceis de mexer. Show de bola.', 'Melhor app!', 'Aplicativo vem melhorando a cada dia.', 'Você consegue resolver quase tudo pelo aplicativo. Muito simples, direto e economiza tempo.', 'Melhor aplicativo bancário! 👏🏾👏🏾👏🏾', 'Muito bom e funciona direitinho. Facilitou demais minha vida!', 'Tenho Itaú e BB. O App do BB é 1000x melhor!\\r\\nÚnico problema é que, quando é noite, ele liga o led ao selecionar a opção de pagar um boleto. E mesmo após selecionar \"Abrir PDF\" ele continua com o led ligado. Até selecionar o arquivo pdf.', 'Muito bom', 'App bem pratico.', 'Usabilidade incrível...\\nMelhor app de instituição financeira do Mundo!', 'App ótimo,fácil navegação parabéns bb🦋', 'Só falta poder habilitar o leitor facial... qdo vou na opção para habilitar, o aplicativo fecha sozinho!', 'Mantendo a tradição de ser o melhor do Brasil.', 'Por enquanto não tenho o que reclamar.', 'Versão 7.7 não está permitindo a geração de recibo quando é realizado uma programação de débito. Nas versões anteriores era possível enviar ou arquivar o documento de confirmação da programação de débito. Espero que corrijam está falha', 'Aplicativo fecha depois de habilitar o Face ID.', 'Muito bom. Faço tudo pelo aplicativo!', 'Adoro esse aplicativo', 'Melhor aplicativo de bancos.', 'Bom de mais...  ;)', 'Vários meses utilizando o aplicativo e até o momento não apresentou nenhum erro.', 'Belo visual, prático, grande segurança.', 'Muito bom App !!', 'App mais intuitivo e completo de bancos dos quais já fui cliente.', 'Muito bom', 'Bem didático', 'Bem eficiente', 'Sucesso total!', 'Funcional e fácil para usar!', 'Top top top', 'Melhor aplicativo de operações financeiras que uso.', 'Quando vou criar a conta, fala pra mim regularizar na receita federal, só que está tudo regularizado, e não consigo abrir a conta', 'App maravilhoso', 'Com esse novo layout e interface, é o melhor aplicativo de banco que já vi. Pratico, fácil e bem moderno. 👍🏻', 'Gosto muito do app e da equipe que sempre está empenhada em continuar inovando ele.', 'O app é muito prático! Eu super recomendo.', 'Muito bom app', 'O melhor aplicativo da categoria.', 'Excelente', 'Muito prático, não vou mais ao banco', 'App do BB é bem melhor do que o Bradesco, por exemplo!', 'Show, uma maravilha, resolveu meus problemas de pagamento.\\nResolvo tudo por ele. \\nNão sei bem mais como é uma agência.', 'Parabéns ao BB.', '👍', 'Já tive contato com aplicativos de vários bancos mas o BB é de longe o melhor e o que mais se preocupa com melhorias para o cliente.', 'Nunca deixou a desejar. Melhor app de bancon', 'Muito bom o aplicativo muito inuitivo', 'Melhorou muito nas últimas versões !\\nFalta apenas atualizar o saldo total à cada pagamento efetuado - já citado várias vezes. \\nDe resto : está ótimo 👍🏻 !\\nParabéns !\\n\\nDr. Saulo Ricardo Lopes - pediatra - cliente desde 1985', '10', 'É um bom app... Me ajuda e facilita bastante minha vida!', 'O título diz tudo. Simplesmente perfeito (achava a primeira versão mais bonita mas já acostumei com essa :P)', 'Estou satisfeito', 'Sem reclamações', 'Parabéns ao BB pelo aplicativo!', 'Depois dessa atualização que mudou layout e acrescentou várias transações ficou sucesso.', 'Ótimo', 'Prático e fácil de usar', 'Muito ótimo !Parabens!', 'Muito pratico e fácil de usar', 'Super prático ! Excelente', 'App muito prático, rápido e resolutivo.', 'Facilita muito nossas vidas, só que poderia ser melhor se eu conseguisse colocar minhas contas de água, luz e outras em débito automático.', 'Para ficar melhor só falta a opção de “pinça” para ajudar quem tem problemas de visão.', 'App fácil de usar, seguro, sempre se tornando melhor. Funciona em qq lugar do mundo. Nunca me deixou na mão.', 'Resolve todos os meus problemas', 'Ótimo', 'Adorei', 'Muito Prático', 'Nem precisa de comentário!', 'Esse aplicativo não serve pra nada, eu só passo raiva. Não dá pra resolver nada por ele, sempre da erro. ODIO DESSE BANCO', 'Não consigo acessar os links para pagar e receber dinheiro. Nem gerar boletos.', 'O código de verificação chega mas toda vez expira, levado a causa de não conseguir terminar o processo de confirmação.', 'App excelente, resolvo tudo por aki!!!', 'Em constante evolução, o app do BB é a representação fiel de que o Banco do Brasil se preocupa com seus clientes. Super prático e intuitivo, sempre em evolução!! Parabéns!!', 'No iPhone, é excelente. No iPad, onde o uso de tela na horizontal é uma opção bem comum, não haver suporte a essa orientação faz muita falta. Nota 5 no iPhone, 3 no iPad.', 'Rapido, prático.', 'Meu aplicativo está com problema! Aparece que a fatura está paga, porém ainda está em aberto, não consigo efetuar o pagamento da própria pelo App.', 'Começou a fecha sozinho tá com 3 dias e não volto ao normal ! Aguardando alguma atualização vê se volta ao normal', 'Sem dúvida o melhor banco, eu acho o aplicativo super prático, fácil acessa, sem burocracia.', 'Muito bom esse aplicativo. Me ajuda a resolver metade das minhas demandas.', 'Muito bom, funciona bem.', 'Excelente App muito funcional.', 'A cada atualizaçao do App é alterada a opção de pre-visualizar as mensagens do App. A cada atualização quem tem essa opção, tem que acessar os ajustes e realizar a alteração.', 'Simples e rápido\\n5 estrelas', 'Mto bom e funciona bem', 'Totalmente excelente', 'Muito bom esse app .... fácil e pratico ... sem muita burocracia.', 'Estou com problema na conta pois não consigo transferir meu dinheiro da poupança', 'Melhor banco', 'Um ótimo aplicativo!', 'Show!! Melhor app de banco', 'Muito funcional e fácil de usar!', 'Pratico e rápido!', 'Muito bom', 'Ótimo app', 'Mto bom!', 'Super intuitivo, bem organizado, o minhas finanças ajuda bastante no controle financeiros!', 'Ótimo app, sem reclamações!', 'Baixei a última versão do app e está funcionando muito bem. Parabéns ao BB.', 'Poderia melhorar o atendimento sobre contestações de compras no cartão de crédito', 'Eficiente, fácil manuseio , tudo bem explicado, nota mil👏🏻👏🏻👏🏻👏🏻👏🏻😍', 'Muito bom o aplicativo. Uso mais do que no computador.', 'Prático e moderno', 'Tenho contas em 4 bancos, mas o App do Bb sempre se destacou como o mais rápido e funcional. Pra mim o melhor de longe, seguido pelo santander, Itaú e o péssimo da caixa em último!!!', 'Sou cliente do Banco do Brasil há 30 anos, nada tenho para reclamar, só elogiar o atendimento dos gerentes e demais funcionários.', 'Falta ter mais extensão dos serviço nas contas poupanças.', 'Muito bom o Aplicativo do Banco do Brasil, eficaz, nunca está fora do ar, e sempre seguro! Obrigado!', 'Funciona muito bem!\\nRápido e eficiente!\\nParabéns!', 'Disparado o melhor Banco do Brasil...', 'O App além de seguro é super fácil de usar! Maravilhoso', 'É maravilhoso esse aplicativo. Meu Banco na palma da mão!', 'Muito bom este app ...!!! Parabéns', 'Pra mim é o melhor app de banco.', 'Excelente App, trazendo muita comodidade para nós clientes. O banco na palma da mão. Parabéns ao BB.', 'Bem completo e fácil !', 'O aplicativo é bom, mas Passei um aperto danado no desbloqueio de senhas. O icônico aplicativo senhas de contas PJ está falhando. Da mensagem de erro! É por causa das regras de quarentena, foi difícil o acesso a gerente no banco. Merece melhorias!', 'Eu sou Banco do Brasil a mais de 10 anos, para mim é o melhor aplicativo de banco que eu já usei, não tenho o que reclamar, recomendo para todos', 'Muito bom pra praticidade.', 'Melhor que as agências', 'Fácil de mexer bem elaborado', 'App excelente', 'It’s a such good App. Makes my life a lot easier!', 'O Banco do Brasil \\r\\nApesar de cobrar taxas mensais absurdas de serviços que não são utilizados \\r\\nE cobrar taxas de Teds que não foram efetuadas \\r\\nTem um ponto positivo \\r\\n\\r\\nO aplicativo é bem rápido e interativo', 'Muito bom', 'O Banco do Brasil possui o melhor internet banking e o melhor app do mercado brasileiro, sem a menor dúvida. Muito fácil de usar, prático e leve. Permite fazer quase tudo sem precisar ir a uma agência. Recomendo muito!', 'Super recomendo', 'Muito bom', 'Um app muito simples de usar, com centenas de possibilidades!', 'Poderia armazenar mais contas de transferências efetuadas no uso de Pessoa Jurídica, armazena apenas umas 4. Se armazenar mais contas utilizadas para transferência bancária fica perfeito.', 'Parabénsssss, agora sim😀😀😀😀😃😃😃😃👏🏻👏🏻👏🏻👏🏻👏🏻👏🏻👏🏻👏🏻👏🏻👏🏻👏🏻😣', 'Muito prático', 'Recomendado', 'APP de fácil utilização. Simples e rápido.', 'Facilitando tudo , tudo mesmo ...', 'Uso direto o aplicativo e não vou nunca na agência. Tem chat com o gerente para as demandas, sem necessidade de ligações infinitas e espera no atendimento presencial. Em tempos de pandemia é uma solução importante para as transações diárias. Só falta mesmo sair dinheiro, rs.', 'Excelente aplicativo bem simples!', 'Não consigo ativar o touch id o aplicativo fecha na hora de confirmar a ativação.\\nTalvez porque eu tenha apenas o cc... poderiam corrigir.', 'Show de bola', 'Muito intuitivo!', 'Funciona bem', 'Não fica na posição landscape no ipad. App bom e útil.', 'Resolvemos quase que toda a nossa vida bancária sem precisar sair de casa!!!', 'Vale a pena instalar. Rápido e funcional. A única parte a desejar são as funcionalidades de investimento.', 'Ótimo', 'Muito seguro e pratico.', 'Da pro gasto !!', 'Aplicativo muito completo', 'Aplicativo fácil de usar, com um menu muito acessível e com informações claras', 'Atende bem as necessidades!', 'Bom', 'Aplicativo de fácil utilização!', 'De longe o melhor App de internet banking aqui no Brasil!', 'Facilitou muito minha vida!', 'Melhor banco, aplicativo fácil acesso! 😉', 'Nota 10', 'Aplicativo muito bem elaborado, que facilita em muito a utilização, agilizando o dia dia da gente', 'O Aplicativo do Banco do Brasil é de muito fácil utilização e dificilmente fica inoperante. Recomendo!', 'Mega útil!!! Nada como saber quanto tem no banco sem precisar ir até o caixa eletrônico! Tudo direto no celular!', 'Recomendo', 'A facilidade do aplicativo do banco é muito boa !', 'Pratico, fácil de usar e tudo na palma da mão !', 'Auto intuitivo, fácil de utilizar.', 'Pratico e rápido', 'Facilidades no dia dia', 'Muito fácil de operar', 'Melhor, mais rápido e mais funcional app entre todos os bancos e instituições financeiras! Banco do Brasil! Meu Banco 💛', 'Muito bom! O aplicativo é bem completo!!', 'Rápido, fácil de usar e intuitivo.', 'Otimo', 'Facilita a vida', 'Depois de muito tempo em uso foi tirada opção de depósito em cheque. Justo no momento de distanciamento social imposto pelo Covid-19.    Corrijam urgente!', 'Consigo pagar as contas e fugir das filas😎 e agora fugir do corona \\U0001f92a', 'Fácil de usar ao meu ver', 'Bom', 'Mais praticidade, mais comodidade, resolve-se quase tudo por aqui.', 'Resolvo tudo por pelo aplicativo, não preciso ir ao banco para nada.', 'Banco Excepcional, o melhor do Brasil.', 'O melhor app de banco sem dúvidas.', 'Muito útil', 'Excelente app', 'Ótimo! Mas cobram com excessos algumas taxas!', 'Muito bom aplicativo, bastante interativo e seguro.', 'O MENU TEM LETRAS FINAS DE COR CINZA SOLICITO MENU COM LETRAS GROSSAS (NEGRITO) DE COR PRETA.', 'Perfeito, super pratico...', 'Pra mim ele é intuitivo, fácil de usar , nunca tive problemas. 👍🏻', 'Muito bom!', 'Aplicativo excelente', 'App Top ! Você faz tudo pelo app do BB !', '1 estrela é muito / inoperante/ frustrante e sem estilo.', 'Nunca tive problema, sempre funcionando 100%. Parabéns aos desenvolvedores.', 'Considero que o aplicativo do Banco do Brasil atende muito satisfatoriamente os clientes e sempre que há uma atualização temos um avanço favorável. Parabéns a todos do BB.', 'Muito mais prático que o site do BB👍🏻', 'Bom', 'Isso é uma desgraça de banco', 'Muito prático para o essencial.', 'Responde todas as necessidades.', 'App intuitivo e descomplicado que cumpre bem a função de atender a maioria das demandas dos clientes do banco.', 'Prático e rápido', 'Melhor app de serviços bancários. Completo, rápido e de fácil uso. Nenhum se compara.', 'Excelente, rápido e eficiente !!!', 'Aqui acho resposta para todas as minhas perguntas, resolvo minhas dúvidas, movimento minha conta bancária e tenho total acesso às informações solicitadas no aplicativo.', 'Nogueira', 'Merece mais 5 estrelas :)', 'Excelente aplicativo, eficiente e seguro. Uso constantemente e resolve a maioria dos meus problemas nesta área. Vocês estão de parabéns!!!', 'Muito bom', 'Intuitivo e seguro (até então).', 'Rápido e eficiente o App recomendo à todos', 'Gostei demais. \\nSeguro e fácil de manusear.\\nParabéns', 'Excelente de fácil manuseio', 'Muito rápido e resolvo tudo que preciso pelo app!', 'Excelente!', 'Essencial: Prático, rápido e útil. Parabéns aos idealizadores e desenvolvedores do aplicativo. Recomendo a instalação', 'Sempre que preciso consigo resolver problemas rápido. Único ruim é a questão do desbloqueio dos serviços, mas uma vez desbloqueado não preciso sair de casa.', 'Aplicativo sempre atualiza e funciona corretamente. Outro ponto positivo é o acesso fácil das informações e a serviços. Bom aplicativo.', 'Amo!!', 'Melhor aplicativo de todos os bancos! Sem comparação! Sou fã!!!', 'Muito bom', 'Aplicativo muito bom, nunca trava e resolvo todos meu problemas por ele', 'Ótimas funcionalidades, sempre me atendendo bem.', 'Show de bola o aplicativo!!!', 'Meczada', 'Bem interativo e autoexplicativo.', 'O melhor app entre todos os bancos brasileiros, com folga! Leve, eficiente e intuitivo!', 'Aqui vc paga contas, faz transferências bancárias, com rapidez, segurança e sem enfrentar filas.', 'Pode melhorar o aplicativo Nb', 'Aplicativo do BB notadamente é o melhor existente. Literatura clara e objetiva. Descomplicada e super dinâmica. Parabéns ao BB !', 'O melhor aplicativo de bancos, super completo e versátil.', 'Muito bom o aplicativo. As opções são ótimas e consigo resolver quase tudo, sem ir ao banco. Só falta retirar dinheiro. Seria perfeito. Grata', 'Dá pra resolver tudo pelo aplicativo.', 'Legal', 'Boa interface e muitas funções.', 'Ótimo aplicativo.', 'Facilidades', 'Tudo o que eu preciso tem no App. É perfeito.', 'Muito bom o app! Mas na atual versão há um bug incômodo na hora de enviar pelo WhatsApp o comprovante de operação recém efetivada. O teclado numérico fica aparecendo, bloqueando a tecla de enviar no WhatsApp.', 'Rápido, com ótimo tempo de resposta e sem aquela mensagem de manutenção constante comum em App de alguns bancos.', 'Interativo e simples.', 'Autoexplicativo e muito fácil de usar. Outros(CEF) deveriam fazer igual.', 'Mudaram bastante, rápido e prático! Parabéns', 'Obrigado', 'O app atende tudo que preciso', 'Muito bom o app!', 'Excelente app, um dos melhores de todos os bancos!', 'Uso a muito tempo. Não troco por nada.', 'Muito bom esse App', 'Ótimo app! Atende minhas necessidades! Versátil e super útil! Recomendo! 👍🏻', 'O melhor', 'Muito ágil', 'melhor aplicativo de banco que conheço', 'Ótimo', 'Muito bom, pago conta, consulto saldo, cartão e é muito seguro!! Já uso faz tempo e adoro!!', 'Ótimo', 'Muito pratico e eficiente', 'Depois do app ficou muito mais fácil controlar a saúde financeiro por ter todas as informações rápido e acessível!!!', 'Amo', 'Parabéns BB', 'Poderia fazer como o APP do Santander que vc cópia um código quando abre o APP ele já te pergunta “vimos que vc copiou um cod de barras quer pagar boleto?”', 'Ótimo', 'Aplicativo útil, facilita a vida dos clientes!', 'Faço tudo pelo App. Muito útil.', 'Faço tudo pelo aplicativo do Banco do Brasil, excelente mas só acho que o banco deveria baixar a taxa de transferência pra outras instituições financeiras.', 'Muito o prático e eficiente! Parabéns para o desenvolvedor!', 'Obrigado', 'Muito pratico', 'Muito pratico rápido e não preciso ir a minha agência para resolver qualquer pendência', 'Recomendo!', 'Aplicativo fácil e sem burocracia, adoro, nota 10', 'Estou gostando das funcionalidades do novo app Banco do Brasil.\\nSó o ícone de “mensagens” deveria ficar mais longe do ícone “sair”.', 'O aplicativo BB é o melhor do mercado no relacionamento cliente/banco. De fácil uso e interação.', 'Muito intuitivo e de fácil de usar', 'Safety, with many digital options and with available service for any kind of investment you want. \\nEasy to find a sucursal every were and with very kind personnel ready to help and explain all service possibilities.', 'Uso e recomendo', 'Muito bom', 'Banco que atende a todas as suas solicitações', 'Otimo', 'Parabéns ao Banco do Brasil!!! O melhor aplicativo de bancos, com certeza!!!', 'O app e muito bom consigo fazer tudo com ele facilita a vida', 'Apos última avaliação deixou de funcionar. Aponta falha de comunicação e não completa o acesso.', 'Tenho iPhone SE e esse App está cheio de bugs. Não habilita o BB Code e não deixa liberar o aparelho no TAA. Em várias transações simplesmente o App fecha. Já até apaguei o aparelho completamente e comecei do zero e nada de funcionar.', 'Gosto muito', 'Melhor app de banco', 'Há algumas semanas fui aprovada para ter um cartão de crédito, me deram 10 dias úteis para a entrega do mesmo, e agora eu simplesmente não consigo acessar o aplicativo para nada, não estão disponibilizando o código de rastreio pra mim, já tentei no chat no WhatsApp, mas nada resolvido. Só sou atendida por um assistente virtual que fala sempre a mesma coisa. Não consigo ligar para a central. Alguém por favor me ajuda.', 'Ajuda demais na otimização do tempo.', 'Recomendo', 'Aplicativo muito prático e útil no dia a dia. Faz anos que não preciso ir ao banco pagando as contas no conforto e segurança de casa.', 'Ótimo app 👏🏼👏🏼👏🏼', 'Aplicativo pratico, rápido e seguro!', 'Parabéns bb, vc hj tem um dos melhores app de banco no Brasil.', 'Facilita muito o dia a dia. Seguro.', 'Muito prático!', 'Alguns detalhes na hora do preenchimento onde o teclado do celular não desaparece ou não visualiza o botão para continuar', 'App maravilhoso, facilita muito meu dia dia e praticamente não é necessário ir ao banco para resolver alguma transação bancária', 'Excelente aplicativo.', 'Bom', 'Recomendo', 'Facilita muito a minha vida!!', 'Consigo fazer tudo que preciso sem sair de casa.', 'Uso bastante da pra resolver a maioria das coisas sem precisar ligar ou ir no banco', 'Amo esse aplicativo, tem todas as opções e a a facilidade de consulta pagamentos e transferências são imensas \\nSimplesmente o máximo', 'Fácil uso.', 'Ágil e pratico', 'Bom', 'Parabéns aos Devs, o aplicativo é muito bom,l! Se comparar com aplicativos de outros bancos então esse beira à perfeição!', 'Fácil de mexer e tem tudo que eu preciso. Não preciso ir ao banco.', 'App muito bom e funcional.', 'Funcional demaid!', 'Excelente.', 'Dez!', 'App completo.', 'Aplicativo bem completo.', 'Muito bom! Faço tudo por ele. Não perco mais tempo em fila de caixa eletrônico para efetuar pagamentos.\\nO app funciona sim conectado à rede Wi-Fi e a internet 4g.', 'App muito bom...sem defeitos!!', 'Muito bom!', 'Fácil de usar, prático. Ótimo', 'Pratico, Facil e bem completo', 'Fácil de manusear, simples nas transações', 'Muito ótimo essa app', 'Melhor app bancário so far!', 'A cada dia evolui um pouco mais. Dou 5 estrelas, mas sempre aguardando por novas funcionalidades, pra tornar o banco 100% digital', 'Excelente, o melhor App de Banco do Brasil, tudo que preciso.', 'Uns dos melhores app.', 'E ótimo é fácil de mexer no App', 'Trata-se de um aplicativo que realmente facilita em muito nossa vida. E bem seguro. Estão de parabéns pois seu uso é descomplicado.', 'Rápido e muito fácil de usar!', 'O melhor APP para banco físico, sem travamentos e de fácil manuseio.', 'Michelinhavpaiva', 'Tem um probleminha, quando vou compartilhar um comprovante no formato .pdf via WhatsApp. O botão “send” não aparece, pois o teclado numérico fica aparecendo. Corrijam por favor, volto para deixar as 5 estrelas hahahah', 'Olá. Eu tentei cadastrar... apareceu uma pergunta seu eu nasci no Brasil. Eu não nasci aqui no Brasil, nasci fora do Brasil. Mas eu sou brasileira. Não é necessário só no Brasil. Por favor arrumar assim. Não é assim. Tem gente nasceu fora no Brasil, eles são brasileiro (a). Eu espero que vc compreenda. Obrigada, de nada!', 'Muito interativo com todos os aplicativos, fácil de usar, sem duvidas o melhor aplicativo bancário que tenho.', 'Muito bom', 'Sempre melhorando apesar de ja ser excelente', 'Fãs parte do meu dia a dia.', 'Gosto da funcionalidade, simplicidade e robustez do programa. Não sinto necessidade de acréscimo. Agora com chat direto com minha agência, até visitas para atendimento gerencial evito, usando o aplicativo. Continuem investindo neste canal. Parabéns!', 'Sem muita complicado, um app completo.', 'Pior app de banco', 'Muito bom esse App', 'Excelente App e serviços', 'O melhor aplicativo de bancos.', 'Aplicativo excelente, permite maior praticidade e segurança (sobretudo neste período de pandemia!). Atende-me perfeitamente em todas as operações que utilizo!', 'É eficiente pro básico, atende o que mais faria num caixa eletrônico, hoje em dia quase não vou a banco graças à praticidade do app.', 'Muito bom', 'O aplicativo excelente, vcs estão de parabéns.', 'De todos os bancos, esse app é um dos melhores.', 'App muito top, não tenho do que reclamar', 'O limiar do futuro em nossas mãos. Excelente aplicativo. Rápido e prático. Parabéns.', 'Ok', 'Muito boa a funcionalidade do aplicativo, quase nunca eu preciso me direcionar ao banco!', 'Nota 10 \\n\\nEspetacular', 'Sai do meu banco estadual e fiz a portabilidade para o BB por causa desse aplicativo e foi uma EXCELENTE ESCOLHA!', 'Nota 10', 'Só não vou dar 5 estrelas porque a opção de colocar foto no perfil fica horrível! Precisa melhorar só isso!', 'Acho o aplicativo muito bom, fácil de usar, só não gosto,  do fato de sempre aparecer o último dígito da senha, acho que todos deveriam ficar oculto.', 'Fácil de usar', 'Aplicativo super prático e dinâmico. O Banco do Brasil dá show em inovação e agilidade.', 'Uma mão na roda. Comunicação eficiente com gerente dentro do aplicativo.\\nTransações com segurança, só precisando autorizar nas máquinas do caixa eletrônico.', 'Excelente aplicativo, me ajuda no dia-a-dia. #BBdigital  #bb #vamosdigital', 'Facil de mexer e rápido.', 'Ótimo', 'Ótimo app', 'Ótimo app!  Não vou da agência pra resolver nada, consigo resolver qualquer coisa pelo app. \\nParabéns!', 'Só falta dar ao usuário a opção de gerenciar os limites de cada cartão físico de crédito e de poder adicionar os cartões virtuais no \\uf8ff Pay', 'Vai tomar no cu Itaú', 'Ótimo aplicativo', 'Ótimo App', 'Um dos melhores aplicativos do ramo', 'O melhor app bancário', 'Não tenho que reclamar!!', '9', 'Para mim o melhor App de Bancos do mercado.Prático e sempre eficaz quando preciso usá-lo.', 'Design moderno e funcionalidade muito boa', 'Muito bom, mais hoje tive um problema grave, pois não consegui acessar a conta quando eu mais precisei. Mais sempre cumpriu com tudo!!!', 'Muito bom, parece coisa de primeiro mundo. Top.', 'Top', 'Só me falta dinheiro', 'Ótimo', 'Ótimo, Funcionalidade a 1000!! Recomendo a todos...!', 'App excelente! Nota 10!', 'Bom, mas a muito tempo que não me oferecem limite de crédito no cartão que tenho. Tenho 1 real de limite meu Deus...', 'Prático e fácil de usar!', 'M', 'Só falta liberar o código QR pra computador', 'Excelente', 'Recomendo', 'Resolve quase todos meus problemas.  Visualizo minha conta e extrato, faço aplicações sem precisar ir ao banco.', 'Melhor app de banco!', 'Nota 10', 'muitas funcionalidsdes e bastante rapido', '10', 'Excelente App. Resolvo diversos procedimentos bancários numa boa.', 'Muito bom', 'Se tivesse mais estrelas eu colocaria...', 'Muito bom!', 'Me ajudem', 'Esta última atualização não abre no IPhone X IOS 11.4.1 aparece que tá fazendo o escaneamento fácil e fecha tudo ?', 'Toda a hora tem que fazer a biometria, derrepente volta para a senha😡', 'Um dos APPs mais intuitivos e fáceis de usar!', 'O melhor é resolver as coisas sem precisar sair de casa!', 'Prático demais.', 'Aplicativo muito bom\\n\\nAtualmente o que pode melhorar:\\n1 - Dar a opção de alteração da senha de 8 dígitos sem ter que ir no caixa eletrônica;\\n2 - busca textual, às vezes é complicado não ter um campo de busca do que se quer, via texto.\\n3 - teremos a opção logon com Apple? De repente ajuda no meu ponto 1 acima,', 'Uso a mais de 5 anos e agilizou muito meus compromissos.', 'Sem comparação com os outros apps', 'Com certeza um dos melhores aplicativos bancários', 'Muito prático e rápido, adoro!! Pena que não sai dinheiro do celular!!!', 'Gostei muito. Praticidade excelente.', 'Essa atualização ficou uma m... na visualização do extrato não fica no cabeçalho os últimos lançamentos e quando você altera a data ela simplesmente altera quando quer. Tem sub-menus onde você acessa e não opção de voltar e em outras até tem mas não volta. Os lançamentos dos valores estão caindo em datas diferentes das transações feitas(não sei se é por conta do app)', 'Show o app do BB', 'Uso vários aplicativos de bancos e o do BB é o melhor de todos, sem sombra de dúvidas.', 'App do BB muito completo, fácil de manusear!!', 'Aprovado', 'Acho muito prático e de fácil acesso', 'Bom', 'Muito bom, muito recursos e bastante intuitivo.', 'Acho ótimo', 'Olá \\nNota 10', 'Ok', 'Rápido, prático, fácil... Sem complicações!!', 'Gostaria de parabeniza-lós pelo atendimento que venho fazendo \\nIsso me orgulha de ser cliente do BB', 'Quase completo , fácil de usar', 'Aplicativo muito bom. \\r\\nAcho interessante ele expirar o tempo de uso depois de um certo tempo. Porém esse tempo as vezes expira bem na hora que estou fazendo algum pagamento. Poderiam verificar isso', 'Melhor de todos os bancos.', 'Bom demais', 'O aplicativo é limitado e sem um suporte adequado para orientar nas dúvidas e solução de problemas .', 'Muito útil para o dia a dia. Pratico, rápido e seguro!', 'Trava menos do que os aplicativos de outros bancos!', 'Facilita muito a minha vida, vou na agência somente pra sacar dinheiro e autorizas as transações pelo celular.\\n Tenho contas eu outros bancos mas o aplicativo do BB é o melhor que tem, e pra mim o mais seguro!', 'Melhor APP', 'Descomplica minha vida financeira!', 'Muito bom app 🤝👊', 'O app é muito bom e rápido. Não preciso sofrer nas filas, resolve quase tudo por ele.', 'Parabéns pela constante evolução.', 'Ótimo', 'Yes .', '👍🏼', 'Depois que houve a última atualização o app ficou mais rápido.', 'Melhorou muito o app.', 'O melhor dos bancos... app show', 'Esse aplicativo é muito bom e  útil , adora usar', 'Aplicativo com bastante função e muito simples de usar. Recomendo!', 'Não consigo colocar 1 item específico no pagar e receber para arquiva. Esse item no caso foi um teste e nele usei a função boleto para conhecer a totalidade de sua funcionalidade. E agora não consigo arquiva-lo \\n\\nNão estou conseguindo apagar uma solicitação de pagamento do pagar ou receber', 'Ainda precisa melhorar para impressão de comprovantes de\\r\\nPagamento, transferências etc.\\r\\n\\r\\nQuando é necessário imprimir o app configura em muitos casos para mais de uma folha.\\r\\n\\r\\nDeveria ser ajustado para gerar somente 1 folha para impressão. \\r\\n\\r\\nNo mais é\\r\\nMuito bom o App', 'Após as atualizações ficou ainda melhor e mais completo.', 'Acho o app bem intuitivo, fácil de usar, uma interface bem objetiva e minimalista, sem muita poluição visual, no geral, gosto bastante', 'Top', 'Excelente . Esta rodando muito bem no meu celular. Fácil de abrir, operar , verificar pendências, fazer pagamentos..', 'Bom demais \\nMelhor apk de banco', 'Este App a cada atualização melhora mais e facilita muito mais nossa vida!\\nParabéns ao time pelo qualidade', 'Muito bom', 'Nota 10', 'Só não darei 5 estrelas, devido eu nunca ter conseguido pagar o licenciamento do meu veículo, por gentileza ajeitem essa opção.', 'Muito bom', 'O app cada vez fica melhor.', 'Acho que falta comando de voz', 'Nota mil', 'Muito bom', 'Praticidade, rapidez , segurança 👏🏻👍🏻', 'O melhor, fácil e pratico de usar', 'Nas últimas atualizações superiores a versão 7.26 o app não atualiza mais o valor na conta corrente após fazer pagamentos e transferências. É necessário sair do app e voltar para aparecer o valor atualizado, coisa que até a versão 7.25 funcionava perfeitamente.', 'O atendimento na agência de onde moro é péssimo', 'Poderia ter opção de análise para ter algum aumento de limite', 'Em “Eventos” quando a primeira palavra tem acento, ela não aparece. Ex: Água fica “gua”. Erro antigo, inclusive. No chat, se usar carácteres especiais como % o texto corta.', 'Muito bom este Aplicativo... Tem atendido as minhas necessidades plenamente. 👏👏👏👏👏', 'Ficou muito completo os serviços disponíveis, como cancelar ou solicitar cartões, melhor ainda é usar o cartão digital para fazer uma única transação na internet suspeita e depois cancelar evitando clonagem.\\nTambem consigo falar com meu gerente por msg no app, tudo que eu realizava no caixa eletrônico agora faço aqui.\\nPude alterar meus limites e alterar permissões através do BB Code.\\nEstá ótimo. \\nSomente precisa de ver porque ele desativa msgs de alerta por push sozinho, eu tenho que reativar toda a semana pra não ficar desavisado das operações na conta.', 'Melhor app de Banco do Brasil', 'Não tem nenhuma maneira de buscar um depósito antigo, isso é muito ruim!', 'Muito bom !', 'Excelente App App, nada a reclamar.', 'Ele está com pouquíssimo tempo de uso, fecha muito rápido e nem dá pra concluir a transação às vezes', 'A foto do perfil no aplicativo sai distorcida e ampliada.', 'Funcionária Alessandra da Agência de Toritama muito atenciosa e paciente! Funcionária maravilhosa! 👏🏻👏🏻', 'Vou na opção cartão de crédito, coloco meu cpf da sistema indisponível de outra pessoa vai normal', 'Atende muito melhor que presencialmente. Falta liberar algumas operações.', 'Péssimo, não esclarece o que são as tarifas pendentes e simplesmente sai cobrando sendo que na conta fácil não é permitido tal cobrança. Péssimo atendimento também.', 'Bommmm', 'Bom demais', 'O Banco em si já é o melhor, mas o aplicativo muda a percepção que temos sobre Banco. Parabéns em ser o melhor Banco e ter o melhor aplicativo', 'Parabéns. Agora é impossível pagar contas pelo aplicativo. Pede que entremos na configuração para liberar acesso à câmera mas não aparece essa possibilidade na configuração do iPhone.', 'Os aplicativos de outros bancos onde possui conta disponibilizam conto direto com o gerente da conta. Aqui não consigo e o telefone não atende', 'Simples e fácil de usar.\\nTem todas as funções que teria num caixa eletrônico, com vantagens de ser rápido e tranquilo.', 'Uso com frequência.', 'Sempre que vou fazer o Upgrade da conta e pede para eu tirar uma foto do rosto , quando abre a câmera frontal está sempre dando erro sempre erro consertem isso por favor', 'Melhor App! Fácil, pratico e usual!', 'Pessimo trava muito pra abrir !!', 'Muito pratico m', 'Em especial nestes tempos de covid tenho utilizado este verdadeiro banco virtual . Muito bom!', 'Não consigo receber meus SMS de liberação de meu app', 'Eu queria fazer o upgrade de conta fácil só que quando entro pedi para aceitar a contratação de produtos até aí tudo bem só que quando clico para entrar voltar pra o mesmo lugar que estava clico varias vezes e não sai do lugar', 'A cada atualização de versão, um novo bug entra no ar! Vocês já ouviram falar em testar o aplicativo? Contratem uma empresa de UX, quem sabe eles ajudem vocês!', 'Vvvbb', 'Aplicativo encerra a sessão muito rápido. Não é igual o de PF que quando está para encerrar, da para clicar e continua no aplicativo. Ele encerra independente.', 'Ótimo', 'Apesar da interface, usabilidade e funções excelentes, o app tem fechado (encerra a sessão) abruptamente em diversas ocasiões: ao tentar voltar da consulta de extrato de cartões, após realizar operação de transferência, após visualizar mensagens de contato com gerência. Outro problema é que, após abrir o leitor de código de barras, o App não volta mais à tela anterior, sendo necessário fechar e logar novamente.', 'O atendimento no aplicativo é tão ruim quanto nas agências. Você tenta tirar uma simples dúvida e é respondido três, quatro, as vezes até 24 horas depois, e QUANDO a gente consegue atendimento os atendentes não resolvem o problema.', 'Bom', 'Indico sem medo', '16/07/2020\\r\\n\\r\\nSugestão:\\r\\n\\r\\n1. Visualização de valor hora e local das compras com cartão na tela do celular / app (via push) como outros bancos fazem (ex. Santander) e não somente a mensagem de compra efetuada sendo necessário abrir o app para verificar;\\r\\n\\r\\n2. Melhor visualização dos DDAs, ou seja, em uma única tela verificar todos os CPFs autorizados pelo cliente (seu e agregados) e não ter que informar cada agregado em separado.\\r\\n\\r\\n02/08/2020\\r\\n\\r\\nSugestão:\\r\\n\\r\\n1. Visualização de valor hora e local das compras com cartão na tela do celular / app (via push) como outros bancos fazem (ex. Santander) e não somente a mensagem de compra efetuada sendo necessário abrir o app para verificar;\\r\\n\\r\\n2. Melhor visualização dos DDAs, ou seja, em uma única tela verificar todos os CPFs autorizados pelo cliente (seu e agregados) e não ter que informar cada agregado em separado;\\r\\n\\r\\n3. Alteração para valor mínimo a escolha do cliente para o envio de mensagem de compra com cartão como outros bancos possuem;\\r\\n\\r\\n4. Função de depósito de em cheque pelo app assim como Bradesco, Itaú e Inter já disponibilizaram aos clientes.', 'O melhor app de banco que existe. Fácil, rápido e muito intuitivo.', 'Funciona perfeitamente, muito bom, da pra buscar facilmente o que deseja, histórico de últimas opções usadas, usabilidade mil. Só o rastreio de cartão novo que tá há 1 semana mostrando mensagem “serviço temporariamente indisponível” mas o bot supre essa necessidade', 'Vocês nunca explicam com detalhes o que realmente estão “melhorando” nas atualizações. Escrevam com detalhes o que realmente acontece nas atualizações.', 'Não funciona, o app fecha', 'Não consigo escanear o cartão, aplicativo péssimo.', 'O aplicativo é excelente, mas acho que deveria ter a opção de gerar boleto para pagamento! \\nÉ de se pensar?', 'Toda vez que o aplicativo atualiza a pré visualização volta para o status de não exibir. Única coisa que tem me irritado no aplicativo.', 'As notificações as vezes não aparecem, outras vezes notifica mas não mostra a mensagem nova.\\nUma tela que mostrasse o fluxo de pagamentos para os próximos X dias seria bacana! No mais, ótimo App!', 'Excelente', 'As restrições impostas a título de “segurança” principalmente nas operações de transferência e pagamento de boletos, restringem demasiadamente a utilização do aplicativos e, consequentemente, a movimentação da conta corrente. Não é justificável limitar os valores para transferência entre contas e pagamento de boletos, principalmente as operações com agendamento, pois são operações rastreáveis e de fácil cancelamento.', 'Após algumas atualizações, o app do BB está muito mais ágil, intuitivo e fácil de usar. Faço tudo através dele, só vou até o Auto Atendimento para saques e depósitos mesmo 👏', 'Não consigo apagar as mensagem e avisos. Só fica marcado como lido e fica o histórico, uma vez consegui achar o caminho e tive que apagar uma por vez.', 'Não aparece agendamento dos recebidos!\\r\\n\\r\\nDes faz o login muito rápido!\\r\\n\\r\\nDe mais funções são boas, por este motivo vou avaliar em 3, quando for possível visualizar agendamentos ai sim volto aqui e completo as 5.', 'Para mim é o melhor de todos os bancos, por isso sou cliente a mais de 10 anos', 'Fui fazer meu cartão de crédito pelo aplicativo quando envio a proposta, fica dando pendência, envio as fotos com uma boa qualidade mas só dá pendência já reenviei 7 vezes!', 'Aplicativo 5 estrelas.', 'Formatei meu celular e quando fui redefinir minha senha de 8 dígitos para utilizar o app, ele não consegue escanear o meu cartão e não tem nenhum lugar para digitar os números do cartão. Contudo não consigo utilizar minha conta pelo meu celular.', 'Quase todo dia vocês atualizam o App, e ele continua com bugs, não abre a maioria das funções, da erro em quase tudo que preciso fazer pelo App. Se fosse pra tá ligando pra central ou indo na agência sempre, eu não usaria o App!', 'Ruim', 'Toda vez que eu baixo um app eu nunca avalio, sendo o app bom ou ruim. Acabo deixando para lá. Mas o app do BB tenho que vir parabenizar. Muito bom, ágil, fácil acesso, varias opções e funções legais! Não pretendo retirar minha conta do Banco do Brasil por conta da organização que esse banco me trás! \\nObrigada!', 'Existem duas cestas de serviços para mei (R$17,00 e outra R$34,00)e não é possível fazer nada. Tudo bloqueado, melhor dizer que não existe conta pra mei, só para empresas grandes. \\nPS: após esse comentário mandaram um número para entrar e contato via WhatsApp e era um robô que não explicou e não resolveu nada.', 'O APP do smartphone não consegue ler o BB Code do gerenciador financeiro.\\r\\n\\r\\nRezando para ser privatizado o mais rápido possível 🙏', 'Precisa melhorar a administração de múltiplas contas, permitindo a opção de escolha da conta default. Preciso poder escolher a conta que aparecerá como principal na página de abertura. Incluí uma outra conta, mas a que mais uso  é a mais antiga, só que a que fica aparecendo é a última incluída e não há como editar isso. Vocês não reconhecem isso como um problema, mas é, pois me leva a ter que dar mais um ou 2 passos e a não conseguir usar o recurso que o iPhone me oferece de abrir boletos diretamente no app do BB ( pois cai na conta que não quero). Deduzi que se eu excluir a conta antiga e recolocar , ela talvez fique na posição que eu desejo, mas acho que um app no nível desse tem que me permitir fazer isso de uma forma mais técnica.', 'Até o presente momento', 'Confuso. Não consigo ver lançamentos na poupança.', 'Não tem canal por telefone para autorizar o app', 'A nova atualização tirou do aplicativo o aviso sobre compras feitas no cartão ... fica só avisando sobre a promoção do Ourocard em compras acima de 10 reais ao Inês de informar qual foi a compra feita ..', '“ Fechamento certo “', 'Excelente aplicativo, com todas as funcionalidades que tem raramente é necessário ir a uma agência. Chat para atendimento funciona muito bem, agiliza as soluções junto ao banco. Desenvolvedores e BB estão de parabéns e à frente dos concorrentes.', 'Estou tentando fazer o empréstimo consignado do FGTS,não aparece nada.\\nSou cliente a mais de 8 anos, já autorizei o app para consulta de saldo', 'Muito bom o aplicativo', 'Fiquei o dia todo no banco para abrir uma conta , cadastrei meu celular no caixa eletrônico e mesmo assim não consigo fazer transações pelo aplicativo .', 'O SMS de confirmação nunca chega no meu celular, já liguei para operadora, já fui no caixa, já revisei o número 3 vezes. E o erro é do banco', 'Melhor aplicativo!', 'Há duas atualizações que o meu começou a não abrir, trava logo na hora que abre. E não consigo nem entrar na conta', 'Tentando pagar o IPVA do DETRAN-BA não consigo. Poderia ter essa facilidade.', 'A praticidade de acompanhar sua conta de onde estiver e realizar operações pelo celular é incrível!', 'Não consigo aumentar o meu limite no cartão. Agência fechada, como faço?', 'Ao tentar fazer o login aparece uma msg : “Erro ao ler o arquivo XML [012.4]', 'Simples e objetivo', 'Ao tentar fazer uma transação está aprece do o erro índex 0 size 0', 'Um dos melhores App’s de banco,!', 'O sistema operacional trava bastante', 'Um aplicativo incrível.', 'Péssimo atendimento via Chat !!!!', 'Upgrade de conta não funciona!', 'Simplesmente digital', 'Porém, tem efetuado uma enorme facilidade na atividades diárias. Precisa de novos recursos e mais clareza na navegação e objetivo no uso.\\nO tempo vai ajustando; só não pode demorar a encontrar o que ê necessário ao cliente. Proatividade.\\nJá melhorou muito.', 'Posso fazer tudo aqui, sem precisar de ir no banco.', 'Leitor QR Code não funciona e o suporte não dá atenção.', 'App realmente é muito bom. Faz anos que não vou ao banco, sempre atualiza os valores na hora e não falha também quando fazemos pagamentos. Top demais.']\n",
            "\n",
            "HOT OFF THE PRESS! HERE ARE SOME NEWLY MINTED, ABSOLUTELY GENUINE REVIEWS!\n",
            "\n",
            "Bem prático, o app do BB\n",
            "[[3.88576751e-07 9.99749601e-01 2.05644646e-05 6.08486189e-05\n",
            "  1.49778483e-04 3.41872715e-06 7.46078342e-07 2.40485429e-06\n",
            "  1.21026405e-05]\n",
            " [6.17743510e-08 9.99927044e-01 4.28570229e-06 1.69286341e-05\n",
            "  4.76524874e-05 6.44684008e-07 1.19337827e-07 4.40051537e-07\n",
            "  2.91292827e-06]\n",
            " [7.96628319e-06 9.97199178e-01 2.86207243e-04 6.61704747e-04\n",
            "  1.57332572e-03 5.90604031e-05 1.71822303e-05 4.08458145e-05\n",
            "  1.54488996e-04]\n",
            " [5.82276471e-07 9.99659538e-01 2.96808139e-05 8.28881894e-05\n",
            "  2.00835697e-04 5.06053948e-06 1.14822330e-06 3.55964812e-06\n",
            "  1.68187489e-05]\n",
            " [5.87124578e-06 9.98116136e-01 1.86430654e-04 4.46771184e-04\n",
            "  1.05641526e-03 4.08248561e-05 1.12389307e-05 2.81173616e-05\n",
            "  1.08281354e-04]\n",
            " [2.20511282e-07 9.99835253e-01 1.28852571e-05 4.04496132e-05\n",
            "  9.95925802e-05 2.00375825e-06 4.21782346e-07 1.42917554e-06\n",
            "  7.76382967e-06]\n",
            " [1.31932266e-05 9.96158779e-01 4.19936987e-04 8.92893411e-04\n",
            "  2.11682497e-03 9.22260515e-05 2.72381894e-05 6.21858271e-05\n",
            "  2.16668093e-04]\n",
            " [5.42650696e-07 9.99662161e-01 3.02287081e-05 8.16265456e-05\n",
            "  1.99829563e-04 5.01505065e-06 1.12122984e-06 3.50320352e-06\n",
            "  1.60410455e-05]\n",
            " [4.55462811e-07 9.99691844e-01 2.26780321e-05 7.23552657e-05\n",
            "  1.90346240e-04 4.08510869e-06 8.81599874e-07 2.76874221e-06\n",
            "  1.46860621e-05]\n",
            " [6.77103031e-08 9.99929905e-01 4.53793245e-06 1.68797869e-05\n",
            "  4.42700875e-05 6.81906499e-07 1.26364341e-07 4.68172942e-07\n",
            "  3.02986768e-06]\n",
            " [1.88074659e-06 9.99270618e-01 6.85913401e-05 1.78233880e-04\n",
            "  4.12013615e-04 1.41026139e-05 3.60264880e-06 9.97910047e-06\n",
            "  4.10020766e-05]\n",
            " [1.31965674e-08 9.99974728e-01 1.52833866e-06 5.83467772e-06\n",
            "  1.68383704e-05 1.74159226e-07 2.86281328e-08 1.17349373e-07\n",
            "  8.81448329e-07]\n",
            " [4.17406272e-06 9.98159945e-01 2.04072901e-04 4.51684871e-04\n",
            "  1.01990532e-03 3.59987534e-05 9.66072730e-06 2.52253540e-05\n",
            "  8.92950338e-05]\n",
            " [1.50966869e-07 5.50253841e-04 9.92637992e-01 4.62114159e-03\n",
            "  3.80152997e-05 1.72487611e-03 4.03244019e-04 2.31476242e-05\n",
            "  1.12183113e-06]\n",
            " [1.59373371e-07 9.99866009e-01 9.45199281e-06 3.10027426e-05\n",
            "  8.43348171e-05 1.55073883e-06 3.05940091e-07 1.03566333e-06\n",
            "  6.10697953e-06]\n",
            " [8.29779947e-06 3.67464544e-03 9.62762237e-01 2.12177616e-02\n",
            "  7.06771738e-04 8.45134910e-03 2.85136933e-03 2.91357661e-04\n",
            "  3.62887440e-05]\n",
            " [3.39798426e-04 2.44460497e-02 8.25639427e-01 8.37658569e-02\n",
            "  1.17580751e-02 3.37217711e-02 1.54786501e-02 3.66811920e-03\n",
            "  1.18222774e-03]]\n"
          ],
          "name": "stdout"
        }
      ]
    },
    {
      "cell_type": "code",
      "metadata": {
        "id": "x9XhpRqZMacp",
        "outputId": "f2d48b23-c667-4914-dee9-6c9027e67067",
        "colab": {
          "base_uri": "https://localhost:8080/",
          "height": 284
        }
      },
      "source": [
        "classes_list = classes.tolist()\n",
        "for contagem in range(15):\n",
        "  print(contagem, classes_list[contagem].index(np.max(classes[contagem], axis=0, keepdims=True)))"
      ],
      "execution_count": 30,
      "outputs": [
        {
          "output_type": "stream",
          "text": [
            "0 1\n",
            "1 1\n",
            "2 1\n",
            "3 1\n",
            "4 1\n",
            "5 1\n",
            "6 1\n",
            "7 1\n",
            "8 1\n",
            "9 1\n",
            "10 1\n",
            "11 1\n",
            "12 1\n",
            "13 2\n",
            "14 1\n"
          ],
          "name": "stdout"
        }
      ]
    },
    {
      "cell_type": "code",
      "metadata": {
        "id": "oK3WiaMFw1xo",
        "outputId": "21a00e11-c5ce-40b0-fb51-f227197d26ad",
        "colab": {
          "base_uri": "https://localhost:8080/",
          "height": 35
        }
      },
      "source": [
        "max(classes_list[13])"
      ],
      "execution_count": 31,
      "outputs": [
        {
          "output_type": "execute_result",
          "data": {
            "text/plain": [
              "0.9926379919052124"
            ]
          },
          "metadata": {
            "tags": []
          },
          "execution_count": 31
        }
      ]
    },
    {
      "cell_type": "code",
      "metadata": {
        "id": "v59TATD5xYwH",
        "outputId": "750367de-227a-4f61-b044-d2db7a84455f",
        "colab": {
          "base_uri": "https://localhost:8080/",
          "height": 35
        }
      },
      "source": [
        "classes_list[13].index(max(classes_list[13]))"
      ],
      "execution_count": 32,
      "outputs": [
        {
          "output_type": "execute_result",
          "data": {
            "text/plain": [
              "2"
            ]
          },
          "metadata": {
            "tags": []
          },
          "execution_count": 32
        }
      ]
    },
    {
      "cell_type": "code",
      "metadata": {
        "id": "mKSjJn_HeliB",
        "outputId": "1dcccf32-c1b8-4294-82ce-f0402516956d",
        "colab": {
          "base_uri": "https://localhost:8080/",
          "height": 159
        }
      },
      "source": [
        "reversed_prediction_classes"
      ],
      "execution_count": 33,
      "outputs": [
        {
          "output_type": "execute_result",
          "data": {
            "text/plain": [
              "{1: 'Elogio',\n",
              " 2: 'Reclamação',\n",
              " 3: 'Crítica',\n",
              " 4: 'Neutra',\n",
              " 5: 'Dúvida',\n",
              " 6: 'Sugestão',\n",
              " 7: 'Solicitação',\n",
              " 8: 'Resposta'}"
            ]
          },
          "metadata": {
            "tags": []
          },
          "execution_count": 33
        }
      ]
    },
    {
      "cell_type": "code",
      "metadata": {
        "id": "qG2bDGzCyjhD",
        "outputId": "f0d80a0b-98b7-43d9-80c4-338183eeaaf5",
        "colab": {
          "base_uri": "https://localhost:8080/",
          "height": 36
        }
      },
      "source": [
        "reversed_prediction_classes[2]"
      ],
      "execution_count": 34,
      "outputs": [
        {
          "output_type": "execute_result",
          "data": {
            "application/vnd.google.colaboratory.intrinsic+json": {
              "type": "string"
            },
            "text/plain": [
              "'Reclamação'"
            ]
          },
          "metadata": {
            "tags": []
          },
          "execution_count": 34
        }
      ]
    },
    {
      "cell_type": "code",
      "metadata": {
        "id": "Z1kzk1b6jbWm",
        "outputId": "bc37e9d9-a8dc-4d78-84a8-3507bc0dbda1",
        "colab": {
          "base_uri": "https://localhost:8080/",
          "height": 195
        }
      },
      "source": [
        "lista_predicao = []\n",
        "for item in classes_list:\n",
        "  lista_predicao.append(reversed_prediction_classes[item.index(max(item))])\n",
        "lista_predicao[10:20]"
      ],
      "execution_count": 35,
      "outputs": [
        {
          "output_type": "execute_result",
          "data": {
            "text/plain": [
              "['Elogio',\n",
              " 'Elogio',\n",
              " 'Elogio',\n",
              " 'Reclamação',\n",
              " 'Elogio',\n",
              " 'Reclamação',\n",
              " 'Reclamação',\n",
              " 'Elogio',\n",
              " 'Elogio',\n",
              " 'Elogio']"
            ]
          },
          "metadata": {
            "tags": []
          },
          "execution_count": 35
        }
      ]
    },
    {
      "cell_type": "code",
      "metadata": {
        "id": "_ZErw493F1xl",
        "outputId": "3296d000-ecfe-466d-efb3-28bd9d3cb520",
        "colab": {
          "base_uri": "https://localhost:8080/",
          "height": 324
        }
      },
      "source": [
        "dataset[dataset.columns[2]] = lista_predicao\n",
        "dataset.head(3)"
      ],
      "execution_count": 36,
      "outputs": [
        {
          "output_type": "execute_result",
          "data": {
            "text/html": [
              "<div>\n",
              "<style scoped>\n",
              "    .dataframe tbody tr th:only-of-type {\n",
              "        vertical-align: middle;\n",
              "    }\n",
              "\n",
              "    .dataframe tbody tr th {\n",
              "        vertical-align: top;\n",
              "    }\n",
              "\n",
              "    .dataframe thead th {\n",
              "        text-align: right;\n",
              "    }\n",
              "</style>\n",
              "<table border=\"1\" class=\"dataframe\">\n",
              "  <thead>\n",
              "    <tr style=\"text-align: right;\">\n",
              "      <th></th>\n",
              "      <th>Responsável</th>\n",
              "      <th>Natureza</th>\n",
              "      <th>Classificação</th>\n",
              "      <th>Produtos/Serviço 1</th>\n",
              "      <th>Detalhamento 1</th>\n",
              "      <th>Problema 1</th>\n",
              "      <th>Produtos/Serviço 12</th>\n",
              "      <th>Detalhamento 12</th>\n",
              "      <th>Problema 2</th>\n",
              "      <th>Produtos/Serviço 13</th>\n",
              "      <th>Detalhamento 3</th>\n",
              "      <th>Problema 3</th>\n",
              "      <th>id</th>\n",
              "      <th>userName</th>\n",
              "      <th>title</th>\n",
              "      <th>review</th>\n",
              "      <th>rating</th>\n",
              "      <th>thumbsUpCount</th>\n",
              "      <th>version</th>\n",
              "      <th>date</th>\n",
              "      <th>reply</th>\n",
              "      <th>replyDate</th>\n",
              "    </tr>\n",
              "  </thead>\n",
              "  <tbody>\n",
              "    <tr>\n",
              "      <th>0</th>\n",
              "      <td>Automático</td>\n",
              "      <td>Opinião</td>\n",
              "      <td>Elogio</td>\n",
              "      <td>Aplicativo</td>\n",
              "      <td>NaN</td>\n",
              "      <td>NaN</td>\n",
              "      <td>NaN</td>\n",
              "      <td>NaN</td>\n",
              "      <td>NaN</td>\n",
              "      <td>NaN</td>\n",
              "      <td>NaN</td>\n",
              "      <td>NaN</td>\n",
              "      <td>6302065085</td>\n",
              "      <td>Dudu chamba</td>\n",
              "      <td>Perfeito</td>\n",
              "      <td>Sensacional adorei</td>\n",
              "      <td>5</td>\n",
              "      <td>NaN</td>\n",
              "      <td>7.26.4</td>\n",
              "      <td>2020-08-10 08:14:41</td>\n",
              "      <td>NaN</td>\n",
              "      <td>NaT</td>\n",
              "    </tr>\n",
              "    <tr>\n",
              "      <th>1</th>\n",
              "      <td>Automático</td>\n",
              "      <td>Opinião</td>\n",
              "      <td>Elogio</td>\n",
              "      <td>Aplicativo</td>\n",
              "      <td>NaN</td>\n",
              "      <td>NaN</td>\n",
              "      <td>NaN</td>\n",
              "      <td>NaN</td>\n",
              "      <td>NaN</td>\n",
              "      <td>NaN</td>\n",
              "      <td>NaN</td>\n",
              "      <td>NaN</td>\n",
              "      <td>6302063114</td>\n",
              "      <td>IzaMMR</td>\n",
              "      <td>Excelente e confiável</td>\n",
              "      <td>Faço absolutamente tudo pelo App.\\nRápido e ef...</td>\n",
              "      <td>5</td>\n",
              "      <td>NaN</td>\n",
              "      <td>7.26.4</td>\n",
              "      <td>2020-08-10 08:13:56</td>\n",
              "      <td>NaN</td>\n",
              "      <td>NaT</td>\n",
              "    </tr>\n",
              "    <tr>\n",
              "      <th>2</th>\n",
              "      <td>Automático</td>\n",
              "      <td>Negocial</td>\n",
              "      <td>Elogio</td>\n",
              "      <td>Aplicativo</td>\n",
              "      <td>Usabilidade</td>\n",
              "      <td>NaN</td>\n",
              "      <td>NaN</td>\n",
              "      <td>NaN</td>\n",
              "      <td>NaN</td>\n",
              "      <td>NaN</td>\n",
              "      <td>NaN</td>\n",
              "      <td>NaN</td>\n",
              "      <td>6302056613</td>\n",
              "      <td>Dayanne wendy(ronald)</td>\n",
              "      <td>Muito bom</td>\n",
              "      <td>Consigo fazer praticamente tudo sem ter que pr...</td>\n",
              "      <td>5</td>\n",
              "      <td>NaN</td>\n",
              "      <td>7.26.4</td>\n",
              "      <td>2020-08-10 08:11:34</td>\n",
              "      <td>NaN</td>\n",
              "      <td>NaT</td>\n",
              "    </tr>\n",
              "  </tbody>\n",
              "</table>\n",
              "</div>"
            ],
            "text/plain": [
              "  Responsável  Natureza Classificação  ...                date reply replyDate\n",
              "0  Automático   Opinião        Elogio  ... 2020-08-10 08:14:41   NaN       NaT\n",
              "1  Automático   Opinião        Elogio  ... 2020-08-10 08:13:56   NaN       NaT\n",
              "2  Automático  Negocial        Elogio  ... 2020-08-10 08:11:34   NaN       NaT\n",
              "\n",
              "[3 rows x 22 columns]"
            ]
          },
          "metadata": {
            "tags": []
          },
          "execution_count": 36
        }
      ]
    },
    {
      "cell_type": "code",
      "metadata": {
        "id": "Qrd35i_KHOop"
      },
      "source": [
        "writer = pd.ExcelWriter(\"novo_dataset_predito.xlsx\")\n",
        "dataset.to_excel(writer, index=False)\n",
        "writer.save()"
      ],
      "execution_count": 37,
      "outputs": []
    }
  ]
}