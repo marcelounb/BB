{
  "nbformat": 4,
  "nbformat_minor": 0,
  "metadata": {
    "colab": {
      "name": "ia-mobile-TF-many_categories-final11.ipynb",
      "provenance": [],
      "collapsed_sections": [],
      "authorship_tag": "ABX9TyMeyqjHJv1G+x7lbeAnFfAq",
      "include_colab_link": true
    },
    "kernelspec": {
      "name": "python3",
      "display_name": "Python 3"
    },
    "accelerator": "GPU"
  },
  "cells": [
    {
      "cell_type": "markdown",
      "metadata": {
        "id": "view-in-github",
        "colab_type": "text"
      },
      "source": [
        "<a href=\"https://colab.research.google.com/github/marcelounb/BB/blob/master/ia_mobile_TF_many_categories_final11.ipynb\" target=\"_parent\"><img src=\"https://colab.research.google.com/assets/colab-badge.svg\" alt=\"Open In Colab\"/></a>"
      ]
    },
    {
      "cell_type": "markdown",
      "metadata": {
        "id": "IxQQrvxoSyQS"
      },
      "source": [
        "Insira a data a ser buscada da APPStore para predição\n"
      ]
    },
    {
      "cell_type": "code",
      "metadata": {
        "id": "EYmPV_rHS5EL"
      },
      "source": [
        "# Altere a data\n",
        "data_novos_registros_appstore = '13-11-2020 08:31:50'"
      ],
      "execution_count": null,
      "outputs": []
    },
    {
      "cell_type": "markdown",
      "metadata": {
        "id": "Jbw3_qV9PAU1"
      },
      "source": [
        "# Acerto do fuso horário"
      ]
    },
    {
      "cell_type": "code",
      "metadata": {
        "id": "q-03ouQesS_1",
        "colab": {
          "base_uri": "https://localhost:8080/",
          "height": 35
        },
        "outputId": "f0d9d88e-f397-4a2d-b1f4-0d75c1af7821"
      },
      "source": [
        "from datetime import datetime, timedelta\n",
        "fuso = timedelta(hours=3)\n",
        "\n",
        "init = data_novos_registros_appstore\n",
        "\n",
        "format = '%d-%m-%Y %H:%M:%S'\n",
        "time = datetime.strptime(data_novos_registros_appstore, format) - fuso\n",
        "data_novos_registros_appstore = time.strftime(format)\n",
        "data_novos_registros_appstore"
      ],
      "execution_count": null,
      "outputs": [
        {
          "output_type": "execute_result",
          "data": {
            "application/vnd.google.colaboratory.intrinsic+json": {
              "type": "string"
            },
            "text/plain": [
              "'13-11-2020 05:31:50'"
            ]
          },
          "metadata": {
            "tags": []
          },
          "execution_count": 2
        }
      ]
    },
    {
      "cell_type": "markdown",
      "metadata": {
        "id": "1XecTiTf_Mo2"
      },
      "source": [
        "# Baixando os últimos reviews da APPStore"
      ]
    },
    {
      "cell_type": "markdown",
      "metadata": {
        "id": "2EqFqaO-9Ece"
      },
      "source": [
        "default.py\n",
        "\n"
      ]
    },
    {
      "cell_type": "code",
      "metadata": {
        "id": "ORWOXmRl80Q4"
      },
      "source": [
        "from enum import IntEnum\n",
        "import re\n",
        "\n",
        "class Sort(IntEnum):\n",
        "    NEWEST = 2\n",
        "    RATING = 3\n",
        "    MOST_RELEVANT = 1\n",
        "\n",
        "class Start:\n",
        "    ID = \"br.com.bb.android\"\n",
        "    LANG = \"pt\"\n",
        "    COUNTRY = \"br\"\n",
        "    COUNT = 199\n",
        "    URL = \"https://play.google.com\"\n",
        "    LAST_UPDATE = None\n",
        "\n",
        "class Regex:\n",
        "    NOT_NUMBER = re.compile(\"[^\\d]\")\n",
        "    SCRIPT = re.compile(\"AF_initDataCallback[\\s\\S]*?<\\/script\")\n",
        "    KEY = re.compile(\"(ds:.*?)'\")\n",
        "    VALUE = re.compile(\"return ([\\s\\S]*?)}}\\);<\\/\")\n",
        "    REVIEWS = re.compile(\"\\)]}'\\n\\n([\\s\\S]+)\")"
      ],
      "execution_count": null,
      "outputs": []
    },
    {
      "cell_type": "markdown",
      "metadata": {
        "id": "E7NtsNN29age"
      },
      "source": [
        "element.py"
      ]
    },
    {
      "cell_type": "code",
      "metadata": {
        "id": "LQud86SS9cFl"
      },
      "source": [
        "from datetime import datetime\n",
        "# from default import Regex\n",
        "\n",
        "def nested_lookup(source, indexes):\n",
        "    if len(indexes) == 1:\n",
        "        return source[indexes[0]]\n",
        "    return nested_lookup(source[indexes[0]], indexes[1::])\n",
        "\n",
        "class ElementSpec:\n",
        "    def __init__(self, extraction_map, post_processor=None, post_processor_except_fallback=None):\n",
        "        self.extraction_map = extraction_map\n",
        "        self.post_processor = post_processor\n",
        "        self.post_processor_except_fallback = post_processor_except_fallback\n",
        "\n",
        "    def extract_content(self, source):\n",
        "        try:\n",
        "            result = nested_lookup(source, self.extraction_map)\n",
        "        except (KeyError, IndexError, TypeError):\n",
        "            result = None\n",
        "\n",
        "        if result is not None and self.post_processor is not None:\n",
        "            try:\n",
        "                result = self.post_processor(result)\n",
        "            except:\n",
        "                result = self.post_processor_except_fallback\n",
        "\n",
        "        return result\n",
        "\n",
        "\n",
        "class ElementSpecs:\n",
        "\n",
        "    Review = {\n",
        "        \"id\": ElementSpec([0]),\n",
        "        \"userName\": ElementSpec([1, 0]),\n",
        "        \"userImage\": ElementSpec([1, 1, 3, 2]),\n",
        "        \"review\": ElementSpec([4]),\n",
        "        \"score\": ElementSpec([2]),\n",
        "        \"thumbsUpCount\": ElementSpec([6]),\n",
        "        \"appVersion\": ElementSpec([10]),\n",
        "        \"date\": ElementSpec([5, 0], lambda v: datetime.fromtimestamp(v)),\n",
        "        \"reply\": ElementSpec([7, 1]),\n",
        "        \"replyDate\": ElementSpec([7, 2, 0], lambda v: datetime.fromtimestamp(v)),\n",
        "    }"
      ],
      "execution_count": null,
      "outputs": []
    },
    {
      "cell_type": "markdown",
      "metadata": {
        "id": "0DiCmQxi-DgS"
      },
      "source": [
        "payload.py"
      ]
    },
    {
      "cell_type": "code",
      "metadata": {
        "id": "QWHcOgpQ-DId"
      },
      "source": [
        "from abc import abstractmethod\n",
        "from urllib.parse import quote\n",
        "# from default import Start, Sort\n",
        "\n",
        "class URLFormat:\n",
        "    @abstractmethod\n",
        "    def build(self, *args):\n",
        "        raise NotImplementedError\n",
        "\n",
        "\n",
        "class Formats:\n",
        "    class _Reviews(URLFormat):\n",
        "        URL_FORMAT = \"{}/_/PlayStoreUi/data/batchexecute?hl={{lang}}&gl={{country}}\".format(\n",
        "            Start.URL\n",
        "        )\n",
        "\n",
        "        def build(self, lang, country):\n",
        "            return self.URL_FORMAT.format(lang=lang, country=country)\n",
        "\n",
        "    class _ReviewPayload(URLFormat):\n",
        "        PAYLOAD_FORMAT_FOR_FIRST_PAGE = 'f.req=[[[\"UsvDTd\",\"[null,null,[2,{sort},[{count},null,null],null,[null,{score}]],[\\\\\"{app_id}\\\\\",7]]\",null,\"generic\"]]]'\n",
        "        PAYLOAD_FORMAT_FOR_PAGINATED_PAGE = 'f.req=[[[\"UsvDTd\",\"[null,null,[2,{sort},[{count},null,\\\\\"{pagination_token}\\\\\"],null,[null,{score}]],[\\\\\"{app_id}\\\\\",7]]\",null,\"generic\"]]]'\n",
        "\n",
        "        def build(self, app_id, sort, count, filter_score_with, pagination_token):\n",
        "            if pagination_token is not None:\n",
        "                result = self.PAYLOAD_FORMAT_FOR_PAGINATED_PAGE.format(\n",
        "                    app_id=app_id,\n",
        "                    sort=sort,\n",
        "                    count=count,\n",
        "                    score=filter_score_with,\n",
        "                    pagination_token=pagination_token,\n",
        "                )\n",
        "            else:\n",
        "                result = self.PAYLOAD_FORMAT_FOR_FIRST_PAGE.format(\n",
        "                    app_id=app_id, sort=sort, score=filter_score_with, count=count\n",
        "                )\n",
        "            return quote(result, safe='=').encode()\n",
        "\n",
        "    Reviews = _Reviews()\n",
        "    ReviewPayload = _ReviewPayload()"
      ],
      "execution_count": null,
      "outputs": []
    },
    {
      "cell_type": "markdown",
      "metadata": {
        "id": "MPuMDPR4-cAS"
      },
      "source": [
        "exceptions.py"
      ]
    },
    {
      "cell_type": "code",
      "metadata": {
        "id": "dBteJVlH-duK"
      },
      "source": [
        "class GooglePlayScraperException(Exception):\n",
        "    pass\n",
        "\n",
        "\n",
        "class ContentNotFoundException(GooglePlayScraperException):\n",
        "    pass\n",
        "\n",
        "\n",
        "class InvalidURLError(GooglePlayScraperException):\n",
        "    pass\n",
        "\n",
        "\n",
        "class NotFoundError(GooglePlayScraperException):\n",
        "    pass\n",
        "\n",
        "\n",
        "class ExtraHTTPError(GooglePlayScraperException):\n",
        "    pass"
      ],
      "execution_count": null,
      "outputs": []
    },
    {
      "cell_type": "markdown",
      "metadata": {
        "id": "RjkA7cfK-QGj"
      },
      "source": [
        "request.py\n"
      ]
    },
    {
      "cell_type": "code",
      "metadata": {
        "id": "-5JXgEMi-R7X"
      },
      "source": [
        "# from exceptions import NotFoundError, ExtraHTTPError\n",
        "\n",
        "try:\n",
        "    from urllib.error import HTTPError\n",
        "except ImportError:\n",
        "    from urllib2 import HTTPError\n",
        "\n",
        "try:\n",
        "    from urllib.request import urlopen, Request\n",
        "except ImportError:\n",
        "    from urllib2 import urlopen, Request\n",
        "\n",
        "\n",
        "def _urlopen(obj):\n",
        "    try:\n",
        "        resp = urlopen(obj)\n",
        "    except HTTPError as e:\n",
        "        if e.code == 404:\n",
        "            raise NotFoundError(\"App not found(404).\")\n",
        "        else:\n",
        "            raise ExtraHTTPError(\n",
        "                \"App not found. Status code {} returned.\".format(e.code)\n",
        "            )\n",
        "\n",
        "    return resp.read().decode(\"UTF-8\")\n",
        "\n",
        "\n",
        "def post(url, data, headers):\n",
        "    return _urlopen(Request(url, data=data, headers=headers))\n",
        "\n",
        "\n",
        "def get(url):\n",
        "    return _urlopen(url)"
      ],
      "execution_count": null,
      "outputs": []
    },
    {
      "cell_type": "markdown",
      "metadata": {
        "id": "jLxBzu6t9LE8"
      },
      "source": [
        "reviews.py"
      ]
    },
    {
      "cell_type": "code",
      "metadata": {
        "id": "ZgAeMdRs88nY"
      },
      "source": [
        "'''\n",
        "Codigo adaptado de https://github.com/JoMingyu/google-play-scraper\n",
        "'''\n",
        "\n",
        "import json\n",
        "# from default import Start, Sort, Regex\n",
        "# from element import ElementSpecs\n",
        "# from payload import Formats\n",
        "# from request import post\n",
        "\n",
        "\n",
        "def fetch_review_items(url, app_id, sort, count, filter_score_with, pagination_token):\n",
        "    dom = post(\n",
        "        url,\n",
        "        Formats.ReviewPayload.build(\n",
        "            app_id,\n",
        "            sort,\n",
        "            count,\n",
        "            \"null\" if filter_score_with is None else filter_score_with,\n",
        "            pagination_token,\n",
        "        ),\n",
        "        {\"content-type\": \"application/x-www-form-urlencoded\"},\n",
        "    )\n",
        "\n",
        "    match = json.loads(Regex.REVIEWS.findall(dom)[0])\n",
        "\n",
        "    return json.loads(match[0][2])[0], json.loads(match[0][2])[-1][-1]\n",
        "\n",
        "\n",
        "def reviews(app_id, lang=Start.LANG, country=Start.COUNTRY, sort=Sort.NEWEST, count=Start.COUNT, filter_score_with=None, continuation_token=None, last_update=None, last_id_review=None):\n",
        "    \n",
        "    if continuation_token is not None:\n",
        "        token = continuation_token        \n",
        "    else:\n",
        "        token = None\n",
        "\n",
        "    if count < 200:\n",
        "        _count = count\n",
        "    else:\n",
        "        _count = 199\n",
        "\n",
        "    url = Formats.Reviews.build(lang=lang, country=country)\n",
        "\n",
        "    result = []\n",
        "    cont = _count\n",
        "    early_stop = False\n",
        "\n",
        "    while True:\n",
        "        review_items, token = fetch_review_items(\n",
        "            url, app_id, sort, _count, filter_score_with, token\n",
        "        )\n",
        "\n",
        "        for review in review_items:\n",
        "            review_dict = {}\n",
        "\n",
        "            for k, spec in ElementSpecs.Review.items():\n",
        "                review_dict[k] = spec.extract_content(review)\n",
        "                if k == 3:\n",
        "                    pass\n",
        "\n",
        "            if last_update != None and review_dict['date'] < last_update:\n",
        "                early_stop = True\n",
        "                break\n",
        "\n",
        "            result.append(review_dict)\n",
        "\n",
        "        if early_stop:\n",
        "            break\n",
        "\n",
        "        remaining_count_of_reviews_to_fetch = count - len(result)\n",
        "\n",
        "        if remaining_count_of_reviews_to_fetch == 0:\n",
        "            break\n",
        "\n",
        "        if isinstance(token, list):\n",
        "            break\n",
        "\n",
        "        if remaining_count_of_reviews_to_fetch < 200:\n",
        "            _count = remaining_count_of_reviews_to_fetch\n",
        "        \n",
        "\n",
        "        print('Download de', cont, 'reviews ate agora!', app_id)\n",
        "        cont+=_count\n",
        "\n",
        "    return (\n",
        "        result,\n",
        "        token\n",
        "    )"
      ],
      "execution_count": null,
      "outputs": []
    },
    {
      "cell_type": "markdown",
      "metadata": {
        "id": "joZO4cpm9Hcb"
      },
      "source": [
        "main.py"
      ]
    },
    {
      "cell_type": "code",
      "metadata": {
        "id": "wtLvSmFe8kgC",
        "colab": {
          "base_uri": "https://localhost:8080/"
        },
        "outputId": "6de17b31-49a6-4036-ff1f-51874ba096ab"
      },
      "source": [
        "#!/usr/bin/env python\n",
        "# -*- coding: utf-8 -*- \n",
        "import pandas as pd\n",
        "# from reviews import reviews\n",
        "# from datetime import datetime\n",
        "\n",
        "\n",
        "app_id = Start.ID\n",
        "count = 5000000\n",
        "##Altere a data\n",
        "date = data_novos_registros_appstore\n",
        "###Fim\n",
        "formatter =  '%d-%m-%Y %H:%M:%S'\n",
        "last_update = datetime.strptime(date, formatter)\n",
        "\n",
        "result, token = reviews(\n",
        "    app_id=app_id,\n",
        "    count=count, \n",
        "    last_update=last_update\n",
        ")\n",
        "\n",
        "df = pd.DataFrame(result)\n",
        "data_ultimo_registro_appstore = datetime.now().strftime(format)"
      ],
      "execution_count": null,
      "outputs": [
        {
          "output_type": "stream",
          "text": [
            "Download de 199 reviews ate agora! br.com.bb.android\n",
            "Download de 398 reviews ate agora! br.com.bb.android\n",
            "Download de 597 reviews ate agora! br.com.bb.android\n",
            "Download de 796 reviews ate agora! br.com.bb.android\n",
            "Download de 995 reviews ate agora! br.com.bb.android\n"
          ],
          "name": "stdout"
        }
      ]
    },
    {
      "cell_type": "code",
      "metadata": {
        "id": "LEw58PfFDLYQ",
        "colab": {
          "base_uri": "https://localhost:8080/"
        },
        "outputId": "dd229c1c-b170-421b-dec0-54c5877a8626"
      },
      "source": [
        "df2 = pd.DataFrame(columns=['Responsável', 'Natureza', 'Classificação', 'Produtos/Serviços', 'Detalhamento', 'Descrição do Problema', 'Produtos/Serviços 2', 'Detalhamento 2', 'Descrição do Problema 2', 'Produtos/Serviços 3', 'Detalhamento 3', 'Descrição do Problema 3'])\n",
        "df2 = df2.append(df)\n",
        "df2.Responsável = 'Modelo_IA'  # Atribuindo 'Modelo_IA' ao campo responsável\n",
        "df2.date = df2.date - fuso  # Corrigindo o fuso horário dos registros\n",
        "df2.head(3)"
      ],
      "execution_count": null,
      "outputs": [
        {
          "output_type": "execute_result",
          "data": {
            "text/html": [
              "<div>\n",
              "<style scoped>\n",
              "    .dataframe tbody tr th:only-of-type {\n",
              "        vertical-align: middle;\n",
              "    }\n",
              "\n",
              "    .dataframe tbody tr th {\n",
              "        vertical-align: top;\n",
              "    }\n",
              "\n",
              "    .dataframe thead th {\n",
              "        text-align: right;\n",
              "    }\n",
              "</style>\n",
              "<table border=\"1\" class=\"dataframe\">\n",
              "  <thead>\n",
              "    <tr style=\"text-align: right;\">\n",
              "      <th></th>\n",
              "      <th>Responsável</th>\n",
              "      <th>Natureza</th>\n",
              "      <th>Classificação</th>\n",
              "      <th>Produtos/Serviços</th>\n",
              "      <th>Detalhamento</th>\n",
              "      <th>Descrição do Problema</th>\n",
              "      <th>Produtos/Serviços 2</th>\n",
              "      <th>Detalhamento 2</th>\n",
              "      <th>Descrição do Problema 2</th>\n",
              "      <th>Produtos/Serviços 3</th>\n",
              "      <th>Detalhamento 3</th>\n",
              "      <th>Descrição do Problema 3</th>\n",
              "      <th>id</th>\n",
              "      <th>userName</th>\n",
              "      <th>userImage</th>\n",
              "      <th>review</th>\n",
              "      <th>score</th>\n",
              "      <th>thumbsUpCount</th>\n",
              "      <th>appVersion</th>\n",
              "      <th>date</th>\n",
              "      <th>reply</th>\n",
              "      <th>replyDate</th>\n",
              "    </tr>\n",
              "  </thead>\n",
              "  <tbody>\n",
              "    <tr>\n",
              "      <th>0</th>\n",
              "      <td>Modelo_IA</td>\n",
              "      <td>NaN</td>\n",
              "      <td>NaN</td>\n",
              "      <td>NaN</td>\n",
              "      <td>NaN</td>\n",
              "      <td>NaN</td>\n",
              "      <td>NaN</td>\n",
              "      <td>NaN</td>\n",
              "      <td>NaN</td>\n",
              "      <td>NaN</td>\n",
              "      <td>NaN</td>\n",
              "      <td>NaN</td>\n",
              "      <td>gp:AOqpTOHQTxcB3PpiYT8xf6XDT1du6XbGX88UQjVIqbG...</td>\n",
              "      <td>Sergio Souza</td>\n",
              "      <td>https://play-lh.googleusercontent.com/-dbdW4lW...</td>\n",
              "      <td>Falta o desbloqueio de senha pelo app</td>\n",
              "      <td>2.0</td>\n",
              "      <td>0.0</td>\n",
              "      <td>7.30.8.3</td>\n",
              "      <td>2020-11-16 07:56:58</td>\n",
              "      <td>None</td>\n",
              "      <td>NaT</td>\n",
              "    </tr>\n",
              "    <tr>\n",
              "      <th>1</th>\n",
              "      <td>Modelo_IA</td>\n",
              "      <td>NaN</td>\n",
              "      <td>NaN</td>\n",
              "      <td>NaN</td>\n",
              "      <td>NaN</td>\n",
              "      <td>NaN</td>\n",
              "      <td>NaN</td>\n",
              "      <td>NaN</td>\n",
              "      <td>NaN</td>\n",
              "      <td>NaN</td>\n",
              "      <td>NaN</td>\n",
              "      <td>NaN</td>\n",
              "      <td>gp:AOqpTOFtscxoHNh9BxiETq-uaJRk_SkMRIifDrTGkh4...</td>\n",
              "      <td>Claudia maria marques carvalho Branca</td>\n",
              "      <td>https://play-lh.googleusercontent.com/-Mk5ElgY...</td>\n",
              "      <td>excelente</td>\n",
              "      <td>5.0</td>\n",
              "      <td>0.0</td>\n",
              "      <td>7.30.7.1</td>\n",
              "      <td>2020-11-16 07:48:06</td>\n",
              "      <td>None</td>\n",
              "      <td>NaT</td>\n",
              "    </tr>\n",
              "    <tr>\n",
              "      <th>2</th>\n",
              "      <td>Modelo_IA</td>\n",
              "      <td>NaN</td>\n",
              "      <td>NaN</td>\n",
              "      <td>NaN</td>\n",
              "      <td>NaN</td>\n",
              "      <td>NaN</td>\n",
              "      <td>NaN</td>\n",
              "      <td>NaN</td>\n",
              "      <td>NaN</td>\n",
              "      <td>NaN</td>\n",
              "      <td>NaN</td>\n",
              "      <td>NaN</td>\n",
              "      <td>gp:AOqpTOGIkxTwn34ag3KW4ZAFVZCtAfaB6SkK5S4N9w6...</td>\n",
              "      <td>Um usuário do Google</td>\n",
              "      <td>https://play-lh.googleusercontent.com/EGemoI2N...</td>\n",
              "      <td>Agora posso ver o comprovante de pagamento do ...</td>\n",
              "      <td>2.0</td>\n",
              "      <td>10.0</td>\n",
              "      <td>7.30.8.3</td>\n",
              "      <td>2020-11-16 07:43:22</td>\n",
              "      <td>Oi! Para que eu possa tratar a sua critica, en...</td>\n",
              "      <td>2020-09-25 12:41:16</td>\n",
              "    </tr>\n",
              "  </tbody>\n",
              "</table>\n",
              "</div>"
            ],
            "text/plain": [
              "  Responsável  ...           replyDate\n",
              "0   Modelo_IA  ...                 NaT\n",
              "1   Modelo_IA  ...                 NaT\n",
              "2   Modelo_IA  ... 2020-09-25 12:41:16\n",
              "\n",
              "[3 rows x 22 columns]"
            ]
          },
          "metadata": {
            "tags": []
          },
          "execution_count": 10
        }
      ]
    },
    {
      "cell_type": "markdown",
      "metadata": {
        "id": "qwwVjySHCX8l"
      },
      "source": [
        "# Trabalhando os dados"
      ]
    },
    {
      "cell_type": "code",
      "metadata": {
        "id": "sjhfxp81AWKH"
      },
      "source": [
        "import pandas as pd\n",
        "import numpy as np\n",
        "import seaborn as sns\n",
        "import matplotlib.pyplot as plt"
      ],
      "execution_count": null,
      "outputs": []
    },
    {
      "cell_type": "code",
      "metadata": {
        "id": "5Vbude2DAWKJ"
      },
      "source": [
        "import tensorflow as tf\n",
        "from keras.models import Sequential\n",
        "from keras.layers import Flatten\n",
        "from keras.layers import Embedding\n",
        "from keras.layers import Dense\n",
        "from keras.layers import Dropout\n",
        "from keras.layers import Bidirectional\n",
        "from keras.layers import LSTM\n",
        "\n",
        "# For Tokenizing\n",
        "from tensorflow.keras.preprocessing.text import Tokenizer\n",
        "from tensorflow.keras.preprocessing.sequence import pad_sequences\n",
        "# For N-grams\n",
        "from keras.preprocessing import text"
      ],
      "execution_count": null,
      "outputs": []
    },
    {
      "cell_type": "markdown",
      "metadata": {
        "id": "iT1qJ8VuAWKK"
      },
      "source": [
        "# Abrindo o arquivo com todo o Dataset para treinamento"
      ]
    },
    {
      "cell_type": "code",
      "metadata": {
        "id": "UYxFXVvjAWKL"
      },
      "source": [
        "path = \"/content/fulldataset.xlsx\""
      ],
      "execution_count": null,
      "outputs": []
    },
    {
      "cell_type": "code",
      "metadata": {
        "id": "WamslFzzAWKM"
      },
      "source": [
        "dataset = pd.read_excel(path, sheet_name=0, header=0, dtype={'score': np.int32})\n",
        "\n",
        "dataset[dataset.columns[3]] = dataset[dataset.columns[3]].fillna('N/A')  # retirando os valores nulos de Produtos/Serviços\n",
        "dataset[dataset.columns[4]] = dataset[dataset.columns[4]].fillna('N/A')  # retirando os valores nulos de Detalhamento\n",
        "dataset[dataset.columns[5]] = dataset[dataset.columns[5]].fillna('N/A')  # retirando os valores nulos de Descrição do Problema\n",
        "\n",
        "natureza          = dataset[dataset.columns[1]].tolist()   # Natureza\n",
        "classificacao     = dataset[dataset.columns[2]].tolist()   # Classificação\n",
        "produtos_servicos = dataset[dataset.columns[3]].tolist()   # Produtos/Serviços\n",
        "detalhamento      = dataset[dataset.columns[4]].tolist()   # Detalhamento\n",
        "descricao         = dataset[dataset.columns[5]].tolist()   # Descrição do Problema\n",
        "review            = dataset[dataset.columns[15]].tolist()  # review\n",
        "score             = dataset[dataset.columns[16]].tolist()  # score"
      ],
      "execution_count": null,
      "outputs": []
    },
    {
      "cell_type": "code",
      "metadata": {
        "id": "QVb6AiY3AWKO",
        "colab": {
          "base_uri": "https://localhost:8080/"
        },
        "outputId": "e866f27e-9c6e-4fad-b556-61e17e09a297"
      },
      "source": [
        "print(list(dataset.columns))"
      ],
      "execution_count": null,
      "outputs": [
        {
          "output_type": "stream",
          "text": [
            "['Responsável', 'Natureza', 'Classificação', 'Produtos/Serviços', 'Detalhamento', 'Descrição do Problema', 'Produtos/Serviços 2', 'Detalhamento 2', 'Descrição do Problema 2', 'Produtos/Serviços 3', 'Detalhamento 3', 'Descrição do Problema 3', 'id', 'userName', 'userImage', 'review', 'score', 'thumbsUpCount', 'appVersion', 'date', 'reply', 'replyDate']\n"
          ],
          "name": "stdout"
        }
      ]
    },
    {
      "cell_type": "markdown",
      "metadata": {
        "id": "4KCJD5VyAWKQ"
      },
      "source": [
        "# Reduzindo o texto (retirando artigos, pontuacao e conjuncao 'e') - review_reduzida"
      ]
    },
    {
      "cell_type": "code",
      "metadata": {
        "id": "AYwhe88wAWKQ"
      },
      "source": [
        "def reduzir_texto(frases):\n",
        "  frase = ''\n",
        "  for item in frases.lower().split():\n",
        "    if item not in ['a', 'o', 'as', 'os', 'da', 'do', 'das', 'dos', 'e', 'no', 'na', 'em', 'i']:  # retira os artigos e conjuncao 'e'\n",
        "      if item[-1] in ['.', ',', '!', ';' ]:\n",
        "        frase +=str(item[0:-1])+' '  # retira pontuacao\n",
        "      else:\n",
        "        frase +=str(item)+' '\n",
        "  return frase[:-1]"
      ],
      "execution_count": null,
      "outputs": []
    },
    {
      "cell_type": "code",
      "metadata": {
        "id": "N379uxqmAWKS"
      },
      "source": [
        "def reduzir_review(review):\n",
        "  review_reduzida = []\n",
        "  for item in review:\n",
        "    review_reduzida.append(reduzir_texto(item))\n",
        "  print(review[0:5])\n",
        "  print(review_reduzida[0:5])\n",
        "  return review_reduzida"
      ],
      "execution_count": null,
      "outputs": []
    },
    {
      "cell_type": "code",
      "metadata": {
        "id": "dP5klTz2UTCY",
        "colab": {
          "base_uri": "https://localhost:8080/"
        },
        "outputId": "4bbd2155-d3d9-4f3a-af7c-e8e206253caf"
      },
      "source": [
        "review_reduzida = reduzir_review(review)"
      ],
      "execution_count": null,
      "outputs": [
        {
          "output_type": "stream",
          "text": [
            "['Excelente', 'Muito bom', 'Não estou conseguindo fazer um cartão de crédito para mim Eu só quero Aff já tentei várias vezes fazer o cartão quando eu fui fazer mandou esperar treis dias aí quando eu fui abri o aplicativo para ver se foi aprovado , Táva mandando fazer tudo dinovo', 'Por mais que eu tente não consigo desbloquear o app para transferências', 'Bom aplicativo eu gosto']\n",
            "['excelente', 'muito bom', 'não estou conseguindo fazer um cartão de crédito para mim eu só quero aff já tentei várias vezes fazer cartão quando eu fui fazer mandou esperar treis dias aí quando eu fui abri aplicativo para ver se foi aprovado  táva mandando fazer tudo dinovo', 'por mais que eu tente não consigo desbloquear app para transferências', 'bom aplicativo eu gosto']\n"
          ],
          "name": "stdout"
        }
      ]
    },
    {
      "cell_type": "markdown",
      "metadata": {
        "id": "5T4j4aJiAWKT"
      },
      "source": [
        "# Separando as bases de treinamento e de testes\n",
        "Utilize review ou review_reduzida\n"
      ]
    },
    {
      "cell_type": "code",
      "metadata": {
        "id": "Be8DOtMWAWKU"
      },
      "source": [
        "def dataset_split(dataset_name, training_size):\n",
        "  return dataset_name[0:training_size], dataset_name[training_size:]\n",
        "\n",
        "training_size = int(len(review) * 0.8)  # Separate out the sentences and labels into training and test sets\n",
        "\n",
        "training_sentences, testing_sentences = dataset_split(review_reduzida, training_size)  # Utilize review ou review_reduzida\n",
        "training_labels_nat, testing_labels_nat = dataset_split(natureza, training_size)  # Aqui - Dataset Escolhido\n",
        "training_labels_cla, testing_labels_cla = dataset_split(classificacao, training_size)\n",
        "training_labels_ps, testing_labels_ps = dataset_split(produtos_servicos, training_size)\n",
        "training_labels_det, testing_labels_det = dataset_split(detalhamento, training_size)\n",
        "training_labels_des, testing_labels_des = dataset_split(descricao, training_size)\n",
        "\n",
        "training_score,  testing_score = dataset_split(score, training_size)"
      ],
      "execution_count": null,
      "outputs": []
    },
    {
      "cell_type": "code",
      "metadata": {
        "id": "WqImCsEaAWKV"
      },
      "source": [
        "def acrescentando_dimensionalidade(listagem):\n",
        "  # Pega uma lista do tipo:[1, 1, 1, 1, 1, 1, 1, 1, 1, 1] e transforma em [[1], [1], [1], [1], [1], [1], [1], [1], [1], [1]]\n",
        "  # Aqui utilizamos para acrescentar uma dimensionalidade para o campo Score \n",
        "  return [[item] for item in listagem]"
      ],
      "execution_count": null,
      "outputs": []
    },
    {
      "cell_type": "code",
      "metadata": {
        "id": "MxTJlcQNAWKZ"
      },
      "source": [
        "training_score = acrescentando_dimensionalidade(training_score)  # Acrescentando dimensionalidade a coluna Score\n",
        "testing_score = acrescentando_dimensionalidade(testing_score)    # Acrescentando dimensionalidade a coluna Score"
      ],
      "execution_count": null,
      "outputs": []
    },
    {
      "cell_type": "code",
      "metadata": {
        "id": "ysqL3WNRAWKf",
        "colab": {
          "base_uri": "https://localhost:8080/"
        },
        "outputId": "ed76aa9b-583e-4cea-a5b8-98da16457aa0"
      },
      "source": [
        "# Tokenizing classificacao\n",
        "tokenizer_nat = Tokenizer(split='@', filters='@')  # Não categoriza novas palavras por causa de espaço ou caracteres especiais\n",
        "tokenizer_cla = Tokenizer(split='@', filters='@')  # Não categoriza novas palavras por causa de espaço ou caracteres especiais\n",
        "tokenizer_ps = Tokenizer(split='@', filters='@')   # Não categoriza novas palavras por causa de espaço ou caracteres especiais\n",
        "tokenizer_det = Tokenizer(split='@', filters='@')  # Não categoriza novas palavras por causa de espaço ou caracteres especiais\n",
        "tokenizer_des = Tokenizer(split='@', filters='@')   # Não categoriza novas palavras por causa de espaço ou caracteres especiais\n",
        "\n",
        "tokenizer_nat.fit_on_texts(natureza)  # Aqui - Dataset Escolhido\n",
        "tokenizer_cla.fit_on_texts(classificacao)\n",
        "tokenizer_ps.fit_on_texts(produtos_servicos)\n",
        "tokenizer_det.fit_on_texts(detalhamento)\n",
        "tokenizer_des.fit_on_texts(descricao)\n",
        "\n",
        "word_index_nat = tokenizer_nat.word_index\n",
        "word_index_cla = tokenizer_cla.word_index\n",
        "word_index_ps = tokenizer_ps.word_index\n",
        "word_index_det = tokenizer_det.word_index\n",
        "word_index_des = tokenizer_des.word_index\n",
        "\n",
        "print(word_index_nat)\n",
        "prediction_classes_nat = word_index_nat\n",
        "prediction_classes_cla = word_index_cla\n",
        "prediction_classes_ps = word_index_ps\n",
        "prediction_classes_det = word_index_det\n",
        "prediction_classes_des = word_index_des\n",
        "\n",
        "reversed_prediction_classes_nat = {value : key.title() for (key, value) in prediction_classes_nat.items()}\n",
        "reversed_prediction_classes_cla = {value : key.title() for (key, value) in prediction_classes_cla.items()}\n",
        "reversed_prediction_classes_ps  = {value : key.title().replace('De', 'de') for (key, value) in prediction_classes_ps.items()}\n",
        "reversed_prediction_classes_det = {value : key.title() for (key, value) in prediction_classes_det.items()}\n",
        "reversed_prediction_classes_des = {value : key.title() for (key, value) in prediction_classes_des.items()}\n",
        "\n",
        "print(reversed_prediction_classes_nat)"
      ],
      "execution_count": null,
      "outputs": [
        {
          "output_type": "stream",
          "text": [
            "{'opinião': 1, 'negocial': 2, 'técnica': 3, 'indefinida': 4}\n",
            "{1: 'Opinião', 2: 'Negocial', 3: 'Técnica', 4: 'Indefinida'}\n"
          ],
          "name": "stdout"
        }
      ]
    },
    {
      "cell_type": "code",
      "metadata": {
        "id": "I0NoZfS-AWKj",
        "colab": {
          "base_uri": "https://localhost:8080/"
        },
        "outputId": "8a64d3c5-6ca1-44b0-be2b-ce2595d08537"
      },
      "source": [
        "print('word_index natureza:', len(word_index_nat))\n",
        "tamanho_classes_nat = len(word_index_nat)+1\n",
        "tamanho_classes_cla = len(word_index_cla)+1\n",
        "tamanho_classes_ps = len(word_index_ps)+1\n",
        "tamanho_classes_det = len(word_index_det)+1\n",
        "tamanho_classes_des = len(word_index_des)+1\n",
        "\n",
        "\n",
        "print('tamanho_classes natureza:', tamanho_classes_nat)"
      ],
      "execution_count": null,
      "outputs": [
        {
          "output_type": "stream",
          "text": [
            "word_index natureza: 4\n",
            "tamanho_classes natureza: 5\n"
          ],
          "name": "stdout"
        }
      ]
    },
    {
      "cell_type": "code",
      "metadata": {
        "id": "LIMUijDxAWKl"
      },
      "source": [
        "def transforming_labels(lista, wordindex):\n",
        "  # Retorna o numero inteiro referente ao Label - ex: training_labels[0:3] = ['Elogio', 'Elogio', 'Reclamação'] vai retornar [1, 1, 2]\n",
        "  return [wordindex.get(item.lower()) for item in lista]"
      ],
      "execution_count": null,
      "outputs": []
    },
    {
      "cell_type": "code",
      "metadata": {
        "id": "7fk558uCAWKp"
      },
      "source": [
        "training_labels_nat = transforming_labels(training_labels_nat, word_index_nat)\n",
        "testing_labels_nat = transforming_labels(testing_labels_nat, word_index_nat)\n",
        "training_labels_cla = transforming_labels(training_labels_cla, word_index_cla)\n",
        "testing_labels_cla = transforming_labels(testing_labels_cla, word_index_cla)\n",
        "training_labels_ps = transforming_labels(training_labels_ps, word_index_ps)\n",
        "testing_labels_ps = transforming_labels(testing_labels_ps, word_index_ps)\n",
        "training_labels_det = transforming_labels(training_labels_det, word_index_det)\n",
        "testing_labels_det = transforming_labels(testing_labels_det, word_index_det)\n",
        "training_labels_des = transforming_labels(training_labels_des, word_index_des)\n",
        "testing_labels_des = transforming_labels(testing_labels_des, word_index_des)"
      ],
      "execution_count": null,
      "outputs": []
    },
    {
      "cell_type": "code",
      "metadata": {
        "id": "lr8hSJ_tAWKt",
        "colab": {
          "base_uri": "https://localhost:8080/"
        },
        "outputId": "7b0e4cfb-c753-4c78-c577-63b7674285a0"
      },
      "source": [
        "print(training_sentences[0:5])\n",
        "print(training_labels_nat[0:10], testing_labels_nat[0:10])"
      ],
      "execution_count": null,
      "outputs": [
        {
          "output_type": "stream",
          "text": [
            "['excelente', 'muito bom', 'não estou conseguindo fazer um cartão de crédito para mim eu só quero aff já tentei várias vezes fazer cartão quando eu fui fazer mandou esperar treis dias aí quando eu fui abri aplicativo para ver se foi aprovado  táva mandando fazer tudo dinovo', 'por mais que eu tente não consigo desbloquear app para transferências', 'bom aplicativo eu gosto']\n",
            "[1, 1, 2, 3, 1, 2, 2, 2, 2, 4] [1, 1, 1, 1, 1, 1, 1, 1, 2, 2]\n"
          ],
          "name": "stdout"
        }
      ]
    },
    {
      "cell_type": "code",
      "metadata": {
        "id": "avYmlylTAWKr",
        "colab": {
          "base_uri": "https://localhost:8080/"
        },
        "outputId": "b93e5124-83dc-4384-9b38-1682f3d6f9ee"
      },
      "source": [
        "# Make labels into numpy arrays for use with the network later\n",
        "training_labels_final_nat = np.array(training_labels_nat)\n",
        "testing_labels_final_nat = np.array(testing_labels_nat)\n",
        "training_labels_final_cla = np.array(training_labels_cla)\n",
        "testing_labels_final_cla = np.array(testing_labels_cla)\n",
        "training_labels_final_ps = np.array(training_labels_ps)\n",
        "testing_labels_final_ps = np.array(testing_labels_ps)\n",
        "training_labels_final_det = np.array(training_labels_det)\n",
        "testing_labels_final_det = np.array(testing_labels_det)\n",
        "training_labels_final_des = np.array(training_labels_des)\n",
        "testing_labels_final_des = np.array(testing_labels_des)\n",
        "training_labels_final_nat"
      ],
      "execution_count": null,
      "outputs": [
        {
          "output_type": "execute_result",
          "data": {
            "text/plain": [
              "array([1, 1, 2, ..., 1, 1, 1])"
            ]
          },
          "metadata": {
            "tags": []
          },
          "execution_count": 27
        }
      ]
    },
    {
      "cell_type": "markdown",
      "metadata": {
        "id": "zUcaw4DoAWKu"
      },
      "source": [
        "# Tokenize the dataset\n",
        "Tokenize the dataset"
      ]
    },
    {
      "cell_type": "code",
      "metadata": {
        "id": "9qJU04ZRAWKu"
      },
      "source": [
        "# Tokenizing values\n",
        "vocab_size = 4000\n",
        "embedding_dim = 128\n",
        "max_length = 150\n",
        "oov_tok = \"<OOV>\"\n",
        "\n",
        "tokenizer = Tokenizer(num_words = vocab_size, oov_token=oov_tok)\n",
        "tokenizer.fit_on_texts(training_sentences)\n",
        "sequences = tokenizer.texts_to_sequences(training_sentences)\n",
        "word_index = tokenizer.word_index"
      ],
      "execution_count": null,
      "outputs": []
    },
    {
      "cell_type": "markdown",
      "metadata": {
        "id": "4stWJV3xAWKw"
      },
      "source": [
        "N-grams (bigrams or trigrams)"
      ]
    },
    {
      "cell_type": "code",
      "metadata": {
        "id": "VzyWjJ6tCIJU"
      },
      "source": [
        "def create_ngram_set(input_list, ngram_value=2):\n",
        "    \"\"\"Extract a set of n-grams from a list of integers.\n",
        "    >>> create_ngram_set([1, 4, 9, 4, 1, 4], ngram_value=2)\n",
        "    {(4, 9), (4, 1), (1, 4), (9, 4)}\n",
        "    >>> create_ngram_set([1, 4, 9, 4, 1, 4], ngram_value=3)\n",
        "    [(1, 4, 9), (4, 9, 4), (9, 4, 1), (4, 1, 4)]\"\"\"\n",
        "\n",
        "    return set(zip(*[input_list[i:] for i in range(ngram_value)]))\n",
        "\n",
        "\n",
        "def add_ngram(sequences, token_indice, ngram_range=2):\n",
        "    \"\"\"Augment the input list of list (sequences) by appending n-grams values.\n",
        "    Example: adding bi-gram\n",
        "    >>> sequences = [[1, 3, 4, 5], [1, 3, 7, 9, 2]]\n",
        "    >>> token_indice = {(1, 3): 1337, (9, 2): 42, (4, 5): 2017}\n",
        "    >>> add_ngram(sequences, token_indice, ngram_range=2)\n",
        "    [[1, 3, 4, 5, 1337, 2017], [1, 3, 7, 9, 2, 1337, 42]]\n",
        "    Example: adding tri-gram\n",
        "    >>> sequences = [[1, 3, 4, 5], [1, 3, 7, 9, 2]]\n",
        "    >>> token_indice = {(1, 3): 1337, (9, 2): 42, (4, 5): 2017, (7, 9, 2): 2018}\n",
        "    >>> add_ngram(sequences, token_indice, ngram_range=3)\n",
        "    [[1, 3, 4, 5, 1337, 2017], [1, 3, 7, 9, 2, 1337, 42, 2018]]\"\"\"\n",
        "    \n",
        "    new_sequences = []\n",
        "    for input_list in sequences:\n",
        "        new_list = input_list[:]\n",
        "        for ngram_value in range(2, ngram_range + 1):\n",
        "            for i in range(len(new_list) - ngram_value + 1):\n",
        "                ngram = tuple(new_list[i:i + ngram_value])\n",
        "                if ngram in token_indice:\n",
        "                    new_list.append(token_indice[ngram])\n",
        "        new_sequences.append(new_list)\n",
        "\n",
        "    return new_sequences"
      ],
      "execution_count": null,
      "outputs": []
    },
    {
      "cell_type": "code",
      "metadata": {
        "id": "_wUlzzUIAWKx"
      },
      "source": [
        "# N-grams values - Configura o uso de Ngrams:: 1 - Uma palavra (unigrama), 2 - Duas palavras (bigrama)\n",
        "NGRAN_RANGE = 1"
      ],
      "execution_count": null,
      "outputs": []
    },
    {
      "cell_type": "code",
      "metadata": {
        "id": "8mf2IIyzDEN2"
      },
      "source": [
        "if NGRAN_RANGE > 1:\n",
        "    ngram_set = set()\n",
        "    for input_list in sequences:\n",
        "        for i in range(2, NGRAN_RANGE + 1):\n",
        "            set_of_ngram = create_ngram_set(input_list, ngram_value=i)\n",
        "            ngram_set.update(set_of_ngram)\n",
        "    \n",
        "    # Dictionary mapping n-gram token to a unique integer.\n",
        "    # Integer values are greater than max_features in order\n",
        "    # to avoid collision with existing features.        \n",
        "    token_indice = {v: k + vocab_size for k, v in enumerate(ngram_set)}\n",
        "    indice_token = {token_indice[k]: k for k in token_indice}\n",
        "    \n",
        "    # Update vocab_size\n",
        "    vocab_size = np.max(list(indice_token.keys())) + 1\n",
        "    print('Update vocab_size %d' % vocab_size)\n",
        "    \n",
        "    # Augument sequences with the new features\n",
        "    sequences = add_ngram(sequences, token_indice, NGRAN_RANGE)\n",
        "    print(len(sequences), 'sequences')\n",
        "    print('Average train sequence length: %d' % np.mean(list(map(len, sequences))))"
      ],
      "execution_count": null,
      "outputs": []
    },
    {
      "cell_type": "markdown",
      "metadata": {
        "id": "CrIADVfEAWKy"
      },
      "source": [
        "Padding"
      ]
    },
    {
      "cell_type": "code",
      "metadata": {
        "id": "QNodzZjKAWKz"
      },
      "source": [
        "trunc_type='post'\n",
        "padding_type='post'\n",
        "\n",
        "padded = pad_sequences(sequences,maxlen=max_length, padding=padding_type, truncating=trunc_type)  #review de treinamento com padding\n",
        "testing_sequences = tokenizer.texts_to_sequences(testing_sentences)\n",
        "testing_padded = pad_sequences(testing_sequences,maxlen=max_length, padding=padding_type, truncating=trunc_type)  #review de treinamento com padding"
      ],
      "execution_count": null,
      "outputs": []
    },
    {
      "cell_type": "code",
      "metadata": {
        "id": "UPwLzorYAWK2",
        "colab": {
          "base_uri": "https://localhost:8080/"
        },
        "outputId": "a507a2eb-226b-46e6-d9a9-8720e2bd9c5e"
      },
      "source": [
        "print(padded.shape, testing_padded.shape)\n",
        "print(padded[0], '\\n', training_score[0:4])"
      ],
      "execution_count": null,
      "outputs": [
        {
          "output_type": "stream",
          "text": [
            "(68418, 150) (17105, 150)\n",
            "[10  0  0  0  0  0  0  0  0  0  0  0  0  0  0  0  0  0  0  0  0  0  0  0\n",
            "  0  0  0  0  0  0  0  0  0  0  0  0  0  0  0  0  0  0  0  0  0  0  0  0\n",
            "  0  0  0  0  0  0  0  0  0  0  0  0  0  0  0  0  0  0  0  0  0  0  0  0\n",
            "  0  0  0  0  0  0  0  0  0  0  0  0  0  0  0  0  0  0  0  0  0  0  0  0\n",
            "  0  0  0  0  0  0  0  0  0  0  0  0  0  0  0  0  0  0  0  0  0  0  0  0\n",
            "  0  0  0  0  0  0  0  0  0  0  0  0  0  0  0  0  0  0  0  0  0  0  0  0\n",
            "  0  0  0  0  0  0] \n",
            " [[1], [1], [1], [1]]\n"
          ],
          "name": "stdout"
        }
      ]
    },
    {
      "cell_type": "code",
      "metadata": {
        "id": "Be_MaEhiAWK8"
      },
      "source": [
        "training_score = np.asarray(training_score)\n",
        "testing_score = np.asarray(testing_score)"
      ],
      "execution_count": null,
      "outputs": []
    },
    {
      "cell_type": "markdown",
      "metadata": {
        "id": "-b_AQjeJAWK9"
      },
      "source": [
        "Unindo o Dataset Score ao Dataset_escolhido (Natureza, Produto e Serviço ou Classificação)"
      ]
    },
    {
      "cell_type": "code",
      "metadata": {
        "id": "hKgzo_jtAWK_"
      },
      "source": [
        "padded2 = np.append(training_score, padded, axis=1)\n",
        "testing_padded2 = np.append(testing_score, testing_padded, axis=1)"
      ],
      "execution_count": null,
      "outputs": []
    },
    {
      "cell_type": "markdown",
      "metadata": {
        "id": "WniAzJUJAWLA"
      },
      "source": [
        "# Review a Sequence\n",
        "Let's quickly take a look at one of the padded sequences to ensure everything above worked appropriately."
      ]
    },
    {
      "cell_type": "code",
      "metadata": {
        "id": "c4MGbz4NAWLA",
        "colab": {
          "base_uri": "https://localhost:8080/"
        },
        "outputId": "04db857a-6e81-49fc-a573-ee1bd0c75509"
      },
      "source": [
        "reverse_word_index = dict([(value, key) for (key, value) in word_index.items()])\n",
        "\n",
        "def decode_review(text):\n",
        "    return ' '.join([reverse_word_index.get(i, 'x') for i in text])\n",
        "\n",
        "print(decode_review(padded[0]))\n",
        "print(training_sentences[0])"
      ],
      "execution_count": null,
      "outputs": [
        {
          "output_type": "stream",
          "text": [
            "excelente x x x x x x x x x x x x x x x x x x x x x x x x x x x x x x x x x x x x x x x x x x x x x x x x x x x x x x x x x x x x x x x x x x x x x x x x x x x x x x x x x x x x x x x x x x x x x x x x x x x x x x x x x x x x x x x x x x x x x x x x x x x x x x x x x x x x x x x x x x x x x x x x x x x x x\n",
            "excelente\n"
          ],
          "name": "stdout"
        }
      ]
    },
    {
      "cell_type": "markdown",
      "metadata": {
        "id": "WTA8RoVIAWLB"
      },
      "source": [
        "# Train a Basic Sentiment Model with Embeddings"
      ]
    },
    {
      "cell_type": "code",
      "metadata": {
        "id": "2VYuNgy1AWLC"
      },
      "source": [
        "max_length +=1  # Somando 1 do Score"
      ],
      "execution_count": null,
      "outputs": []
    },
    {
      "cell_type": "code",
      "metadata": {
        "id": "1WJoIVe9t_Mn"
      },
      "source": [
        "# fix random seed for reproducibility \n",
        "seed = 7 \n",
        "np.random.seed(seed)"
      ],
      "execution_count": null,
      "outputs": []
    },
    {
      "cell_type": "code",
      "metadata": {
        "id": "cMsMomNrmz-Z"
      },
      "source": [
        "# Build a basic sentiment network\n",
        "# Note the embedding layer is first, and the output is a sparse categorical from classes\n",
        "def baseline_model(tamanho_da_classe):\n",
        "  model = Sequential()\n",
        "  model.add(Embedding(vocab_size, embedding_dim, input_length=max_length))\n",
        "  model.add(Flatten())\n",
        "  model.add(Dense(2001, activation='relu'))\n",
        "  model.add(Dropout(0.1))\n",
        "  model.add(Dense(501, activation='relu'))\n",
        "  model.add(Dense(51, activation='relu'))\n",
        "  model.add(Dense(tamanho_da_classe, activation='softmax'))\n",
        "\n",
        "  model.compile(loss='sparse_categorical_crossentropy',optimizer='adam',metrics=['accuracy'] )\n",
        "  model.summary()\n",
        "  return model"
      ],
      "execution_count": null,
      "outputs": []
    },
    {
      "cell_type": "code",
      "metadata": {
        "id": "cM21fwJBtkRZ"
      },
      "source": [
        "# Build a basic sentiment network\n",
        "# Note the embedding layer is first, and the output is a sparse categorical from classes\n",
        "def baseline_model2(tamanho_da_classe):\n",
        "  model = Sequential()\n",
        "  model.add(Embedding(vocab_size, embedding_dim, input_length=max_length))\n",
        "  model.add(Flatten())\n",
        "  model.add(Dense(501, activation='relu'))\n",
        "  model.add(Dropout(0.2))\n",
        "  model.add(Dense(251, activation='relu'))\n",
        "  model.add(Dense(tamanho_da_classe, activation='softmax'))\n",
        "\n",
        "  model.compile(loss='sparse_categorical_crossentropy',optimizer='adam',metrics=['accuracy'] )\n",
        "  model.summary()\n",
        "  return model"
      ],
      "execution_count": null,
      "outputs": []
    },
    {
      "cell_type": "code",
      "metadata": {
        "id": "Du_-G0eYtc24"
      },
      "source": [
        "# Build a bidirectional LSTM\n",
        "# Note the embedding layer is first, and the output is a sparse categorical from classes\n",
        "\n",
        "def baseline_model3(tamanho_da_classe):\n",
        "  model = Sequential()\n",
        "  model.add(Embedding(vocab_size, embedding_dim, input_length=max_length))\n",
        "  model.add(Bidirectional(LSTM(embedding_dim)))\n",
        "  model.add(Dense(251, activation='relu'))\n",
        "  model.add(Dropout(0.2))\n",
        "  model.add(Dense(tamanho_da_classe, activation='softmax'))\n",
        "\n",
        "  model.compile(loss='sparse_categorical_crossentropy',optimizer='adam',metrics=['accuracy'] )\n",
        "  model.summary()\n",
        "  return model"
      ],
      "execution_count": null,
      "outputs": []
    },
    {
      "cell_type": "code",
      "metadata": {
        "id": "w5aXSEjrqkfy",
        "colab": {
          "base_uri": "https://localhost:8080/"
        },
        "outputId": "bb6e84f3-8938-4512-c92e-59d7e537e0e3"
      },
      "source": [
        "model_nat = baseline_model3(tamanho_classes_nat)\n",
        "model_cla = baseline_model3(tamanho_classes_cla)\n",
        "model_ps = baseline_model3(tamanho_classes_ps)\n",
        "model_det = baseline_model3(tamanho_classes_det)\n",
        "model_des = baseline_model3(tamanho_classes_des)"
      ],
      "execution_count": null,
      "outputs": [
        {
          "output_type": "stream",
          "text": [
            "Model: \"sequential\"\n",
            "_________________________________________________________________\n",
            "Layer (type)                 Output Shape              Param #   \n",
            "=================================================================\n",
            "embedding (Embedding)        (None, 151, 128)          512000    \n",
            "_________________________________________________________________\n",
            "flatten (Flatten)            (None, 19328)             0         \n",
            "_________________________________________________________________\n",
            "dense (Dense)                (None, 501)               9683829   \n",
            "_________________________________________________________________\n",
            "dropout (Dropout)            (None, 501)               0         \n",
            "_________________________________________________________________\n",
            "dense_1 (Dense)              (None, 251)               126002    \n",
            "_________________________________________________________________\n",
            "dense_2 (Dense)              (None, 5)                 1260      \n",
            "=================================================================\n",
            "Total params: 10,323,091\n",
            "Trainable params: 10,323,091\n",
            "Non-trainable params: 0\n",
            "_________________________________________________________________\n",
            "Model: \"sequential_1\"\n",
            "_________________________________________________________________\n",
            "Layer (type)                 Output Shape              Param #   \n",
            "=================================================================\n",
            "embedding_1 (Embedding)      (None, 151, 128)          512000    \n",
            "_________________________________________________________________\n",
            "flatten_1 (Flatten)          (None, 19328)             0         \n",
            "_________________________________________________________________\n",
            "dense_3 (Dense)              (None, 501)               9683829   \n",
            "_________________________________________________________________\n",
            "dropout_1 (Dropout)          (None, 501)               0         \n",
            "_________________________________________________________________\n",
            "dense_4 (Dense)              (None, 251)               126002    \n",
            "_________________________________________________________________\n",
            "dense_5 (Dense)              (None, 9)                 2268      \n",
            "=================================================================\n",
            "Total params: 10,324,099\n",
            "Trainable params: 10,324,099\n",
            "Non-trainable params: 0\n",
            "_________________________________________________________________\n",
            "Model: \"sequential_2\"\n",
            "_________________________________________________________________\n",
            "Layer (type)                 Output Shape              Param #   \n",
            "=================================================================\n",
            "embedding_2 (Embedding)      (None, 151, 128)          512000    \n",
            "_________________________________________________________________\n",
            "flatten_2 (Flatten)          (None, 19328)             0         \n",
            "_________________________________________________________________\n",
            "dense_6 (Dense)              (None, 501)               9683829   \n",
            "_________________________________________________________________\n",
            "dropout_2 (Dropout)          (None, 501)               0         \n",
            "_________________________________________________________________\n",
            "dense_7 (Dense)              (None, 251)               126002    \n",
            "_________________________________________________________________\n",
            "dense_8 (Dense)              (None, 182)               45864     \n",
            "=================================================================\n",
            "Total params: 10,367,695\n",
            "Trainable params: 10,367,695\n",
            "Non-trainable params: 0\n",
            "_________________________________________________________________\n",
            "Model: \"sequential_3\"\n",
            "_________________________________________________________________\n",
            "Layer (type)                 Output Shape              Param #   \n",
            "=================================================================\n",
            "embedding_3 (Embedding)      (None, 151, 128)          512000    \n",
            "_________________________________________________________________\n",
            "flatten_3 (Flatten)          (None, 19328)             0         \n",
            "_________________________________________________________________\n",
            "dense_9 (Dense)              (None, 501)               9683829   \n",
            "_________________________________________________________________\n",
            "dropout_3 (Dropout)          (None, 501)               0         \n",
            "_________________________________________________________________\n",
            "dense_10 (Dense)             (None, 251)               126002    \n",
            "_________________________________________________________________\n",
            "dense_11 (Dense)             (None, 11)                2772      \n",
            "=================================================================\n",
            "Total params: 10,324,603\n",
            "Trainable params: 10,324,603\n",
            "Non-trainable params: 0\n",
            "_________________________________________________________________\n",
            "Model: \"sequential_4\"\n",
            "_________________________________________________________________\n",
            "Layer (type)                 Output Shape              Param #   \n",
            "=================================================================\n",
            "embedding_4 (Embedding)      (None, 151, 128)          512000    \n",
            "_________________________________________________________________\n",
            "flatten_4 (Flatten)          (None, 19328)             0         \n",
            "_________________________________________________________________\n",
            "dense_12 (Dense)             (None, 501)               9683829   \n",
            "_________________________________________________________________\n",
            "dropout_4 (Dropout)          (None, 501)               0         \n",
            "_________________________________________________________________\n",
            "dense_13 (Dense)             (None, 251)               126002    \n",
            "_________________________________________________________________\n",
            "dense_14 (Dense)             (None, 397)               100044    \n",
            "=================================================================\n",
            "Total params: 10,421,875\n",
            "Trainable params: 10,421,875\n",
            "Non-trainable params: 0\n",
            "_________________________________________________________________\n"
          ],
          "name": "stdout"
        }
      ]
    },
    {
      "cell_type": "code",
      "metadata": {
        "id": "ZAt19KSfAWLF",
        "colab": {
          "base_uri": "https://localhost:8080/"
        },
        "outputId": "9b5b44d3-69eb-4741-99d7-7f8bf12fd7c3"
      },
      "source": [
        "num_epochs = 3\n",
        "hist_nat = model_nat.fit(padded2, training_labels_final_nat, epochs=num_epochs, validation_data=(testing_padded2, testing_labels_final_nat))\n",
        "hist_cla = model_cla.fit(padded2, training_labels_final_cla, epochs=num_epochs, validation_data=(testing_padded2, testing_labels_final_cla))\n",
        "hist_ps = model_ps.fit(padded2, training_labels_final_ps, epochs=num_epochs, validation_data=(testing_padded2, testing_labels_final_ps))\n",
        "hist_det = model_det.fit(padded2, training_labels_final_det, epochs=num_epochs, validation_data=(testing_padded2, testing_labels_final_det))\n",
        "hist_des = model_des.fit(padded2, training_labels_final_des, epochs=num_epochs, validation_data=(testing_padded2, testing_labels_final_des))"
      ],
      "execution_count": null,
      "outputs": [
        {
          "output_type": "stream",
          "text": [
            "Epoch 1/2\n",
            "2139/2139 [==============================] - 23s 11ms/step - loss: 0.3191 - accuracy: 0.8877 - val_loss: 0.3089 - val_accuracy: 0.8869\n",
            "Epoch 2/2\n",
            "2139/2139 [==============================] - 23s 11ms/step - loss: 0.2077 - accuracy: 0.9286 - val_loss: 0.2878 - val_accuracy: 0.8985\n",
            "Epoch 1/2\n",
            "2139/2139 [==============================] - 23s 11ms/step - loss: 0.1871 - accuracy: 0.9468 - val_loss: 0.1925 - val_accuracy: 0.9455\n",
            "Epoch 2/2\n",
            "2139/2139 [==============================] - 23s 11ms/step - loss: 0.1131 - accuracy: 0.9635 - val_loss: 0.2249 - val_accuracy: 0.9429\n",
            "Epoch 1/2\n",
            "2139/2139 [==============================] - 24s 11ms/step - loss: 0.6799 - accuracy: 0.8458 - val_loss: 0.6759 - val_accuracy: 0.8747\n",
            "Epoch 2/2\n",
            "2139/2139 [==============================] - 23s 11ms/step - loss: 0.5273 - accuracy: 0.8667 - val_loss: 0.6334 - val_accuracy: 0.8855\n",
            "Epoch 1/2\n",
            "2139/2139 [==============================] - 23s 11ms/step - loss: 0.4396 - accuracy: 0.8696 - val_loss: 0.3556 - val_accuracy: 0.8885\n",
            "Epoch 2/2\n",
            "2139/2139 [==============================] - 23s 11ms/step - loss: 0.2829 - accuracy: 0.9133 - val_loss: 0.3662 - val_accuracy: 0.8887\n",
            "Epoch 1/2\n",
            "2139/2139 [==============================] - 23s 11ms/step - loss: 0.2871 - accuracy: 0.9561 - val_loss: 0.5235 - val_accuracy: 0.9183\n",
            "Epoch 2/2\n",
            "2139/2139 [==============================] - 23s 11ms/step - loss: 0.2211 - accuracy: 0.9591 - val_loss: 0.6725 - val_accuracy: 0.9223\n"
          ],
          "name": "stdout"
        }
      ]
    },
    {
      "cell_type": "code",
      "metadata": {
        "id": "1LsisWF0AWLG",
        "colab": {
          "base_uri": "https://localhost:8080/"
        },
        "outputId": "6413ce5e-5337-40d2-8c88-dc233fd16231"
      },
      "source": [
        "scores_nat = model_nat.evaluate(testing_padded2, testing_labels_final_nat, verbose=0)\n",
        "print(\"Baseline Error Natureza: %.2f%%\" % (100-scores_nat[1]*100))\n",
        "scores_cla = model_cla.evaluate(testing_padded2, testing_labels_final_cla, verbose=0)\n",
        "print(\"Baseline Error Classificação: %.2f%%\" % (100-scores_cla[1]*100))\n",
        "scores_ps = model_ps.evaluate(testing_padded2, testing_labels_final_ps, verbose=0)\n",
        "print(\"Baseline Error Produtos e Serviços: %.2f%%\" % (100-scores_ps[1]*100))\n",
        "scores_det = model_det.evaluate(testing_padded2, testing_labels_final_det, verbose=0)\n",
        "print(\"Baseline Error Detalhamento: %.2f%%\" % (100-scores_det[1]*100))\n",
        "scores_des = model_des.evaluate(testing_padded2, testing_labels_final_des, verbose=0)\n",
        "print(\"Baseline Error Descrição do problema: %.2f%%\" % (100-scores_des[1]*100))"
      ],
      "execution_count": null,
      "outputs": [
        {
          "output_type": "stream",
          "text": [
            "Baseline Error Natureza: 10.15%\n",
            "Baseline Error Classificação: 5.71%\n",
            "Baseline Error Produtos e Serviços: 11.45%\n",
            "Baseline Error Detalhamento: 11.13%\n",
            "Baseline Error Descrição do problema: 7.77%\n"
          ],
          "name": "stdout"
        }
      ]
    },
    {
      "cell_type": "code",
      "metadata": {
        "id": "pN_n9a4rAWLH"
      },
      "source": [
        "def plotar(hist, label):\n",
        "  print('Modelo :', label)\n",
        "  plt.plot(hist.history[ 'accuracy' ])\n",
        "  plt.plot(hist.history[ 'val_accuracy' ])\n",
        "  plt.title( 'model accuracy' )\n",
        "  plt.ylabel( 'accuracy')\n",
        "  plt.xlabel( 'epoch' )\n",
        "  plt.legend([ 'train' , 'test' ], loc= 'upper left' )\n",
        "  plt.show()\n",
        "  # summarize history for loss\n",
        "  plt.plot(hist.history[ 'loss' ])\n",
        "  plt.plot(hist.history[ 'val_loss' ])\n",
        "  plt.title( 'model loss' )\n",
        "  plt.ylabel( 'loss' )\n",
        "  plt.xlabel( 'epoch' )\n",
        "  plt.legend([ 'train' , 'test' ], loc= 'upper left' )\n",
        "  plt.show()"
      ],
      "execution_count": null,
      "outputs": []
    },
    {
      "cell_type": "code",
      "metadata": {
        "id": "p4V6RK3qyjPE",
        "colab": {
          "base_uri": "https://localhost:8080/",
          "height": 1000
        },
        "outputId": "844f9d1b-60bf-43be-a880-f99d56feef9a"
      },
      "source": [
        "plotar(hist_nat, 'Natureza')\n",
        "plotar(hist_cla, 'Classificação')\n",
        "plotar(hist_ps, 'Produtos/Serviços')\n",
        "plotar(hist_det, 'Detalhamento')\n",
        "plotar(hist_des, 'Descrição do problema')"
      ],
      "execution_count": null,
      "outputs": [
        {
          "output_type": "stream",
          "text": [
            "Modelo : Natureza\n"
          ],
          "name": "stdout"
        },
        {
          "output_type": "display_data",
          "data": {
            "image/png": "[encoded data removed]",
            "text/plain": [
              "<Figure size 432x288 with 1 Axes>"
            ]
          },
          "metadata": {
            "tags": [],
            "needs_background": "light"
          }
        },
        {
          "output_type": "display_data",
          "data": {
            "image/png": "[encoded data removed]",
            "text/plain": [
              "<Figure size 432x288 with 1 Axes>"
            ]
          },
          "metadata": {
            "tags": [],
            "needs_background": "light"
          }
        },
        {
          "output_type": "stream",
          "text": [
            "Modelo : Classificação\n"
          ],
          "name": "stdout"
        },
        {
          "output_type": "display_data",
          "data": {
            "image/png": "[encoded data removed]",
            "text/plain": [
              "<Figure size 432x288 with 1 Axes>"
            ]
          },
          "metadata": {
            "tags": [],
            "needs_background": "light"
          }
        },
        {
          "output_type": "display_data",
          "data": {
            "image/png": "[encoded data removed]",
            "text/plain": [
              "<Figure size 432x288 with 1 Axes>"
            ]
          },
          "metadata": {
            "tags": [],
            "needs_background": "light"
          }
        },
        {
          "output_type": "stream",
          "text": [
            "Modelo : Produtos/Serviços\n"
          ],
          "name": "stdout"
        },
        {
          "output_type": "display_data",
          "data": {
            "image/png": "[encoded data removed]",
            "text/plain": [
              "<Figure size 432x288 with 1 Axes>"
            ]
          },
          "metadata": {
            "tags": [],
            "needs_background": "light"
          }
        },
        {
          "output_type": "display_data",
          "data": {
            "image/png": "[encoded data removed]",
            "text/plain": [
              "<Figure size 432x288 with 1 Axes>"
            ]
          },
          "metadata": {
            "tags": [],
            "needs_background": "light"
          }
        },
        {
          "output_type": "stream",
          "text": [
            "Modelo : Detalhamento\n"
          ],
          "name": "stdout"
        },
        {
          "output_type": "display_data",
          "data": {
            "image/png": "[encoded data removed]",
            "text/plain": [
              "<Figure size 432x288 with 1 Axes>"
            ]
          },
          "metadata": {
            "tags": [],
            "needs_background": "light"
          }
        },
        {
          "output_type": "display_data",
          "data": {
            "image/png": "[encoded data removed]",
            "text/plain": [
              "<Figure size 432x288 with 1 Axes>"
            ]
          },
          "metadata": {
            "tags": [],
            "needs_background": "light"
          }
        },
        {
          "output_type": "stream",
          "text": [
            "Modelo : Descrição do problema\n"
          ],
          "name": "stdout"
        },
        {
          "output_type": "display_data",
          "data": {
            "image/png": "[encoded data removed]",
            "text/plain": [
              "<Figure size 432x288 with 1 Axes>"
            ]
          },
          "metadata": {
            "tags": [],
            "needs_background": "light"
          }
        },
        {
          "output_type": "display_data",
          "data": {
            "image/png": "[encoded data removed]",
            "text/plain": [
              "<Figure size 432x288 with 1 Axes>"
            ]
          },
          "metadata": {
            "tags": [],
            "needs_background": "light"
          }
        }
      ]
    },
    {
      "cell_type": "markdown",
      "metadata": {
        "id": "lluiGS5GAWLI"
      },
      "source": [
        "# Novas Predições:"
      ]
    },
    {
      "cell_type": "code",
      "metadata": {
        "id": "7yNQ-uG5AWLL",
        "colab": {
          "base_uri": "https://localhost:8080/"
        },
        "outputId": "1bb2bb5d-711e-440b-939b-2dcf5f9b2f34"
      },
      "source": [
        "# Use the model to predict a review   \n",
        "new_reviews = reduzir_review(df2.review) # Utilize review ou review_reduzida\n",
        "score = df2.score\n",
        "\n",
        "max_length = 150\n",
        "# Create the sequences\n",
        "new_sequences = tokenizer.texts_to_sequences(new_reviews)"
      ],
      "execution_count": null,
      "outputs": [
        {
          "output_type": "stream",
          "text": [
            "0                Falta o desbloqueio de senha pelo app\n",
            "1                                            excelente\n",
            "2    Agora posso ver o comprovante de pagamento do ...\n",
            "3                                                  Boa\n",
            "4                        Banco do Brasil é excelente .\n",
            "Name: review, dtype: object\n",
            "['falta desbloqueio de senha pelo app', 'excelente', 'agora posso ver comprovante de pagamento cartão de crédito bb novamente pelo extrato porém não dá opção de salvar nem de compartilhar então vou tirando estrelas..', 'boa', 'banco brasil é excelente ']\n"
          ],
          "name": "stdout"
        }
      ]
    },
    {
      "cell_type": "markdown",
      "metadata": {
        "id": "zk9ApwxJgT5d"
      },
      "source": [
        "Codificando a nova sequencia com base nos Ngrams já mapeados"
      ]
    },
    {
      "cell_type": "code",
      "metadata": {
        "id": "hh7bph0fH55T"
      },
      "source": [
        "if NGRAN_RANGE > 1:\n",
        "  temp_list_final = []\n",
        "  for item in new_sequences:\n",
        "    # print(item)\n",
        "    temp_list, temp_list2 = [], []\n",
        "    for each in item:\n",
        "      # print('--', each)\n",
        "      if len(temp_list)==0:\n",
        "        primeiro_item = each  # Primeira vez que passa\n",
        "        temp_list.append(each)\n",
        "      else:\n",
        "        tupla = (primeiro_item, each)\n",
        "        if token_indice.get(tupla) is not None:\n",
        "          temp_list2.append(token_indice.get(tupla))\n",
        "        temp_list.append(each)\n",
        "        primeiro_item = each\n",
        "    temp_list = temp_list + temp_list2\n",
        "    temp_list_final.append(temp_list)\n",
        "    # print(temp_list)\n",
        "  print(temp_list_final)\n",
        "  new_sequences = temp_list_final"
      ],
      "execution_count": null,
      "outputs": []
    },
    {
      "cell_type": "code",
      "metadata": {
        "id": "JY3A9C2wump9"
      },
      "source": [
        "score = np.asarray(acrescentando_dimensionalidade(score))  # Acrescentando dimensionalidade no score e transformando-o em np array\n",
        "predict_padded = pad_sequences(new_sequences, maxlen=max_length, padding=padding_type, truncating=trunc_type)\n",
        "predict_padded2 = np.append(score, predict_padded, axis=1)  # Unindo os DataFrames [score]+[coluna escolhida]"
      ],
      "execution_count": null,
      "outputs": []
    },
    {
      "cell_type": "code",
      "metadata": {
        "id": "FbuEz5ddH-aC",
        "colab": {
          "base_uri": "https://localhost:8080/"
        },
        "outputId": "4af6a473-c6f5-4e5f-9ccd-3cc275d17194"
      },
      "source": [
        "print('\\n Exemplo de nova prediçao\\n')              \n",
        "\n",
        "classes_nat = model_nat.predict(predict_padded2)\n",
        "classes_cla = model_cla.predict(predict_padded2)\n",
        "classes_ps = model_ps.predict(predict_padded2)\n",
        "classes_det = model_det.predict(predict_padded2)\n",
        "classes_des = model_des.predict(predict_padded2)\n",
        "print(new_reviews[17])\n",
        "print(classes_nat[15:17])"
      ],
      "execution_count": null,
      "outputs": [
        {
          "output_type": "stream",
          "text": [
            "\n",
            " Exemplo de nova prediçao\n",
            "\n",
            "cumpre ao que se propõe\n",
            "[[7.5095264e-15 9.9858391e-01 6.1822089e-04 7.7752990e-04 2.0391117e-05]\n",
            " [1.5901656e-15 9.9974591e-01 1.1638315e-04 5.7808669e-05 7.9899532e-05]]\n"
          ],
          "name": "stdout"
        }
      ]
    },
    {
      "cell_type": "code",
      "metadata": {
        "id": "pN53TOnoW0_Q",
        "colab": {
          "base_uri": "https://localhost:8080/"
        },
        "outputId": "086ad612-867d-4e77-9ff5-de3f05c0774e"
      },
      "source": [
        "classes_det[15:17]"
      ],
      "execution_count": null,
      "outputs": [
        {
          "output_type": "execute_result",
          "data": {
            "text/plain": [
              "array([[2.58603174e-11, 9.83662724e-01, 2.11936561e-03, 6.54349496e-05,\n",
              "        5.12149381e-06, 4.21236218e-05, 1.39708165e-02, 8.28601114e-05,\n",
              "        5.13509258e-05, 7.33815355e-08, 5.32009610e-11],\n",
              "       [8.44431816e-11, 9.69048738e-01, 1.16283889e-03, 1.78764050e-04,\n",
              "        8.31305806e-06, 1.33360882e-04, 2.93251891e-02, 8.72048549e-05,\n",
              "        5.53760365e-05, 2.30294575e-07, 2.11081291e-10]], dtype=float32)"
            ]
          },
          "metadata": {
            "tags": []
          },
          "execution_count": 51
        }
      ]
    },
    {
      "cell_type": "code",
      "metadata": {
        "id": "JeMgpPIDAWLS",
        "colab": {
          "base_uri": "https://localhost:8080/"
        },
        "outputId": "a64c060b-4706-4664-fe34-232caf5f774e"
      },
      "source": [
        "classes_list_nat = classes_nat.tolist()\n",
        "classes_list_cla = classes_cla.tolist()\n",
        "classes_list_ps = classes_ps.tolist()\n",
        "classes_list_det = classes_det.tolist()\n",
        "classes_list_des = classes_des.tolist()\n",
        "print(reversed_prediction_classes_nat, '\\n', reversed_prediction_classes_nat[2] )\n",
        "lista_predicao_nat = [reversed_prediction_classes_nat[item.index(max(item))] for item in classes_list_nat]  # Pega a classe mais provavel da lista avaliada pelo modelo\n",
        "lista_predicao_cla = [reversed_prediction_classes_cla[item.index(max(item))] for item in classes_list_cla]  # Pega a classe mais provavel da lista avaliada pelo modelo\n",
        "lista_predicao_ps = [reversed_prediction_classes_ps[item.index(max(item))] for item in classes_list_ps]  # Pega a classe mais provavel da lista avaliada pelo modelo\n",
        "lista_predicao_det = [reversed_prediction_classes_det[item.index(max(item))] for item in classes_list_det]  # Pega a classe mais provavel da lista avaliada pelo modelo\n",
        "lista_predicao_des = [reversed_prediction_classes_des[item.index(max(item))] for item in classes_list_des]  # Pega a classe mais provavel da lista avaliada pelo modelo\n",
        "print(lista_predicao_nat[5])"
      ],
      "execution_count": null,
      "outputs": [
        {
          "output_type": "stream",
          "text": [
            "{1: 'Opinião', 2: 'Negocial', 3: 'Técnica', 4: 'Indefinida'} \n",
            " Negocial\n",
            "Negocial\n"
          ],
          "name": "stdout"
        }
      ]
    },
    {
      "cell_type": "code",
      "metadata": {
        "id": "5XmW8-FlAWLT",
        "colab": {
          "base_uri": "https://localhost:8080/",
          "height": 458
        },
        "outputId": "5f4d91ef-9442-4f69-e5e5-5f0897956f8c"
      },
      "source": [
        "df2.Natureza = lista_predicao_nat  # Aqui - Dataset Escolhido\n",
        "df2.Classificação = lista_predicao_cla\n",
        "df2[df2.columns[3]] = lista_predicao_ps\n",
        "df2.Detalhamento = lista_predicao_det\n",
        "df2[df2.columns[5]] = lista_predicao_des\n",
        "df2.head(3)"
      ],
      "execution_count": null,
      "outputs": [
        {
          "output_type": "execute_result",
          "data": {
            "text/html": [
              "<div>\n",
              "<style scoped>\n",
              "    .dataframe tbody tr th:only-of-type {\n",
              "        vertical-align: middle;\n",
              "    }\n",
              "\n",
              "    .dataframe tbody tr th {\n",
              "        vertical-align: top;\n",
              "    }\n",
              "\n",
              "    .dataframe thead th {\n",
              "        text-align: right;\n",
              "    }\n",
              "</style>\n",
              "<table border=\"1\" class=\"dataframe\">\n",
              "  <thead>\n",
              "    <tr style=\"text-align: right;\">\n",
              "      <th></th>\n",
              "      <th>Responsável</th>\n",
              "      <th>Natureza</th>\n",
              "      <th>Classificação</th>\n",
              "      <th>Produtos/Serviços</th>\n",
              "      <th>Detalhamento</th>\n",
              "      <th>Descrição do Problema</th>\n",
              "      <th>Produtos/Serviços 2</th>\n",
              "      <th>Detalhamento 2</th>\n",
              "      <th>Descrição do Problema 2</th>\n",
              "      <th>Produtos/Serviços 3</th>\n",
              "      <th>Detalhamento 3</th>\n",
              "      <th>Descrição do Problema 3</th>\n",
              "      <th>id</th>\n",
              "      <th>userName</th>\n",
              "      <th>userImage</th>\n",
              "      <th>review</th>\n",
              "      <th>score</th>\n",
              "      <th>thumbsUpCount</th>\n",
              "      <th>appVersion</th>\n",
              "      <th>date</th>\n",
              "      <th>reply</th>\n",
              "      <th>replyDate</th>\n",
              "    </tr>\n",
              "  </thead>\n",
              "  <tbody>\n",
              "    <tr>\n",
              "      <th>0</th>\n",
              "      <td>Modelo_IA</td>\n",
              "      <td>Negocial</td>\n",
              "      <td>Reclamação</td>\n",
              "      <td>Aplicativo</td>\n",
              "      <td>Disponibilidade/estabilidade</td>\n",
              "      <td>N/a</td>\n",
              "      <td>NaN</td>\n",
              "      <td>NaN</td>\n",
              "      <td>NaN</td>\n",
              "      <td>NaN</td>\n",
              "      <td>NaN</td>\n",
              "      <td>NaN</td>\n",
              "      <td>gp:AOqpTOHQTxcB3PpiYT8xf6XDT1du6XbGX88UQjVIqbG...</td>\n",
              "      <td>Sergio Souza</td>\n",
              "      <td>https://play-lh.googleusercontent.com/-dbdW4lW...</td>\n",
              "      <td>Falta o desbloqueio de senha pelo app</td>\n",
              "      <td>2.0</td>\n",
              "      <td>0.0</td>\n",
              "      <td>7.30.8.3</td>\n",
              "      <td>2020-11-16 07:56:58</td>\n",
              "      <td>None</td>\n",
              "      <td>NaT</td>\n",
              "    </tr>\n",
              "    <tr>\n",
              "      <th>1</th>\n",
              "      <td>Modelo_IA</td>\n",
              "      <td>Opinião</td>\n",
              "      <td>Elogio</td>\n",
              "      <td>Aplicativo</td>\n",
              "      <td>N/a</td>\n",
              "      <td>N/a</td>\n",
              "      <td>NaN</td>\n",
              "      <td>NaN</td>\n",
              "      <td>NaN</td>\n",
              "      <td>NaN</td>\n",
              "      <td>NaN</td>\n",
              "      <td>NaN</td>\n",
              "      <td>gp:AOqpTOFtscxoHNh9BxiETq-uaJRk_SkMRIifDrTGkh4...</td>\n",
              "      <td>Claudia maria marques carvalho Branca</td>\n",
              "      <td>https://play-lh.googleusercontent.com/-Mk5ElgY...</td>\n",
              "      <td>excelente</td>\n",
              "      <td>5.0</td>\n",
              "      <td>0.0</td>\n",
              "      <td>7.30.7.1</td>\n",
              "      <td>2020-11-16 07:48:06</td>\n",
              "      <td>None</td>\n",
              "      <td>NaT</td>\n",
              "    </tr>\n",
              "    <tr>\n",
              "      <th>2</th>\n",
              "      <td>Modelo_IA</td>\n",
              "      <td>Negocial</td>\n",
              "      <td>Reclamação</td>\n",
              "      <td>Aplicativo</td>\n",
              "      <td>Regra de negócio</td>\n",
              "      <td>N/a</td>\n",
              "      <td>NaN</td>\n",
              "      <td>NaN</td>\n",
              "      <td>NaN</td>\n",
              "      <td>NaN</td>\n",
              "      <td>NaN</td>\n",
              "      <td>NaN</td>\n",
              "      <td>gp:AOqpTOGIkxTwn34ag3KW4ZAFVZCtAfaB6SkK5S4N9w6...</td>\n",
              "      <td>Um usuário do Google</td>\n",
              "      <td>https://play-lh.googleusercontent.com/EGemoI2N...</td>\n",
              "      <td>Agora posso ver o comprovante de pagamento do ...</td>\n",
              "      <td>2.0</td>\n",
              "      <td>10.0</td>\n",
              "      <td>7.30.8.3</td>\n",
              "      <td>2020-11-16 07:43:22</td>\n",
              "      <td>Oi! Para que eu possa tratar a sua critica, en...</td>\n",
              "      <td>2020-09-25 12:41:16</td>\n",
              "    </tr>\n",
              "  </tbody>\n",
              "</table>\n",
              "</div>"
            ],
            "text/plain": [
              "  Responsável  ...           replyDate\n",
              "0   Modelo_IA  ...                 NaT\n",
              "1   Modelo_IA  ...                 NaT\n",
              "2   Modelo_IA  ... 2020-09-25 12:41:16\n",
              "\n",
              "[3 rows x 22 columns]"
            ]
          },
          "metadata": {
            "tags": []
          },
          "execution_count": 53
        }
      ]
    },
    {
      "cell_type": "markdown",
      "metadata": {
        "id": "5736hOayAWLW"
      },
      "source": [
        "# Salvando o arquivo em Excel"
      ]
    },
    {
      "cell_type": "code",
      "metadata": {
        "id": "9Xo6TkwUAWLW"
      },
      "source": [
        "writer = pd.ExcelWriter(\"predicao_gerada\" + init + \" a \" + data_ultimo_registro_appstore + \".xlsx\")\n",
        "df2.to_excel(writer, index=False)\n",
        "writer.save()"
      ],
      "execution_count": null,
      "outputs": []
    }
  ]
}