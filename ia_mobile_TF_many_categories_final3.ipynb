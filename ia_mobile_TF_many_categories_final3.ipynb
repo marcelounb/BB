{
  "nbformat": 4,
  "nbformat_minor": 0,
  "metadata": {
    "colab": {
      "name": "ia-mobile-TF-many_categories-final3.ipynb",
      "provenance": [],
      "collapsed_sections": [],
      "toc_visible": true,
      "authorship_tag": "ABX9TyMe6BgIk5nHRKmN0MmQtzXf",
      "include_colab_link": true
    },
    "kernelspec": {
      "name": "python3",
      "display_name": "Python 3"
    },
    "accelerator": "GPU"
  },
  "cells": [
    {
      "cell_type": "markdown",
      "metadata": {
        "id": "view-in-github",
        "colab_type": "text"
      },
      "source": [
        "<a href=\"https://colab.research.google.com/github/marcelounb/BB/blob/master/ia_mobile_TF_many_categories_final3.ipynb\" target=\"_parent\"><img src=\"https://colab.research.google.com/assets/colab-badge.svg\" alt=\"Open In Colab\"/></a>"
      ]
    },
    {
      "cell_type": "code",
      "metadata": {
        "id": "rHxltmnRU9ln"
      },
      "source": [
        "import os\n",
        "from google.colab import files\n",
        "import pandas as pd\n",
        "import numpy as np\n",
        "import seaborn as sns\n",
        "import matplotlib.pyplot as plt"
      ],
      "execution_count": 39,
      "outputs": []
    },
    {
      "cell_type": "code",
      "metadata": {
        "id": "Gm9AZVQPZCOA"
      },
      "source": [
        "import tensorflow as tf\n",
        "from tensorflow.keras.preprocessing.text import Tokenizer\n",
        "from tensorflow.keras.preprocessing.sequence import pad_sequences"
      ],
      "execution_count": 40,
      "outputs": []
    },
    {
      "cell_type": "code",
      "metadata": {
        "id": "PPusEovcWEkH"
      },
      "source": [
        "path = \"/content/fulldataset.xlsx\""
      ],
      "execution_count": 41,
      "outputs": []
    },
    {
      "cell_type": "code",
      "metadata": {
        "id": "g92V1APjhYbE"
      },
      "source": [
        "dataset = pd.read_excel(path, sheet_name=0, header=0, dtype={'score': np.int32})\n",
        "\n",
        "dataset[dataset.columns[3]] = dataset[dataset.columns[3]].fillna('não se aplica')  # retirando os valores nulos\n",
        "\n",
        "responsavel       = dataset[dataset.columns[0]].tolist()   # Responsável\n",
        "natureza          = dataset[dataset.columns[1]].tolist()   # Natureza\n",
        "classificacao     = dataset[dataset.columns[2]].tolist()   # Classificação\n",
        "produtos_servicos = dataset[dataset.columns[3]].tolist()   # Produtos/Serviços\n",
        "detalhamento      = dataset[dataset.columns[4]].tolist()   # Detalhamento\n",
        "review            = dataset[dataset.columns[15]].tolist()  # review\n",
        "score             = dataset[dataset.columns[16]].tolist()  # score"
      ],
      "execution_count": 42,
      "outputs": []
    },
    {
      "cell_type": "code",
      "metadata": {
        "id": "KHe-51Vf_JAK",
        "outputId": "503efc6a-12b7-4340-9095-2fb5ba8d4687",
        "colab": {
          "base_uri": "https://localhost:8080/",
          "height": 141
        }
      },
      "source": [
        "dataset.columns"
      ],
      "execution_count": 43,
      "outputs": [
        {
          "output_type": "execute_result",
          "data": {
            "text/plain": [
              "Index(['Responsável', 'Natureza', 'Classificação', 'Produtos/Serviços',\n",
              "       'Detalhamento', 'Descrição do Problema', 'Produtos/Serviços 2',\n",
              "       'Detalhamento 2', 'Descrição do Problema 2', 'Produtos/Serviços 3',\n",
              "       'Detalhamento 3', 'Descrição do Problema 3', 'id', 'userName',\n",
              "       'userImage', 'review', 'score', 'thumbsUpCount', 'appVersion', 'date',\n",
              "       'reply', 'replyDate'],\n",
              "      dtype='object')"
            ]
          },
          "metadata": {
            "tags": []
          },
          "execution_count": 43
        }
      ]
    },
    {
      "cell_type": "markdown",
      "metadata": {
        "id": "TFvNToZSPp8d"
      },
      "source": [
        "# Reduzindo o texto (retirando artigos, pontuacao e conjuncao 'e')"
      ]
    },
    {
      "cell_type": "code",
      "metadata": {
        "id": "nyf5qpFVPo-g"
      },
      "source": [
        "def reduzir_texto(frases):\n",
        "  frase = ''\n",
        "  for item in frases.lower().split():\n",
        "    if item not in ['a', 'o', 'as', 'os', 'da', 'do', 'das', 'dos', 'e']:  # retira os artigos e conjuncao 'e'\n",
        "      if item[-1] in ['.', ',', '!', ';' ]:\n",
        "        frase +=str(item[0:-1])+' '  # retira pontuacao\n",
        "      else:\n",
        "        frase +=str(item)+' '\n",
        "\n",
        "  return frase[:-1]"
      ],
      "execution_count": 44,
      "outputs": []
    },
    {
      "cell_type": "code",
      "metadata": {
        "id": "blH0WibVP3b0",
        "outputId": "aa739a1e-a16d-4f82-a8b1-9078244daf0b",
        "colab": {
          "base_uri": "https://localhost:8080/",
          "height": 72
        }
      },
      "source": [
        "review_reduzida = []\n",
        "for item in review:\n",
        "  review_reduzida.append(reduzir_texto(item))\n",
        "print(review[0:5])\n",
        "print(review_reduzida[0:5])"
      ],
      "execution_count": 45,
      "outputs": [
        {
          "output_type": "stream",
          "text": [
            "['Excelente', 'Muito bom', 'Não estou conseguindo fazer um cartão de crédito para mim Eu só quero Aff já tentei várias vezes fazer o cartão quando eu fui fazer mandou esperar treis dias aí quando eu fui abri o aplicativo para ver se foi aprovado , Táva mandando fazer tudo dinovo', 'Por mais que eu tente não consigo desbloquear o app para transferências', 'Bom aplicativo eu gosto']\n",
            "['excelente', 'muito bom', 'não estou conseguindo fazer um cartão de crédito para mim eu só quero aff já tentei várias vezes fazer cartão quando eu fui fazer mandou esperar treis dias aí quando eu fui abri aplicativo para ver se foi aprovado  táva mandando fazer tudo dinovo', 'por mais que eu tente não consigo desbloquear app para transferências', 'bom aplicativo eu gosto']\n"
          ],
          "name": "stdout"
        }
      ]
    },
    {
      "cell_type": "markdown",
      "metadata": {
        "id": "FjTKdxpYPufa"
      },
      "source": [
        "# Separando as bases de treinamento e de testes"
      ]
    },
    {
      "cell_type": "code",
      "metadata": {
        "id": "5NpGdb_uLA49"
      },
      "source": [
        "# Separate out the sentences and labels into training and test sets\n",
        "training_size = int(len(review) * 0.8)\n",
        "\n",
        "training_sentences = review_reduzida[0:training_size]\n",
        "testing_sentences = review_reduzida[training_size:]\n",
        "training_labels = produtos_servicos[0:training_size]  # Aqui !!!!       # Aqui !!!\n",
        "testing_labels = produtos_servicos[training_size:]  # Aqui !!!!       # Aqui !!!\n",
        "training_score = score[0:training_size]\n",
        "testing_score = score[training_size:]"
      ],
      "execution_count": 46,
      "outputs": []
    },
    {
      "cell_type": "code",
      "metadata": {
        "id": "tTjjZBvBsCWr",
        "outputId": "6063a6c1-9f8f-4cf8-ba21-d726f2e25521",
        "colab": {
          "base_uri": "https://localhost:8080/",
          "height": 72
        }
      },
      "source": [
        "# Tokenizing classificacao\n",
        "tokenizer = Tokenizer(split='@', filters='@')  # Não categoriza novas palavras por causa de espaço ou caracteres especiais\n",
        "tokenizer.fit_on_texts(produtos_servicos)  # Aqui !!!!       # Aqui !!!\n",
        "word_index = tokenizer.word_index\n",
        "print(word_index)\n",
        "prediction_classes = word_index\n",
        "reversed_prediction_classes = {value : key[0].upper() + key[1:] for (key, value) in prediction_classes.items()}\n",
        "print(reversed_prediction_classes)"
      ],
      "execution_count": 47,
      "outputs": [
        {
          "output_type": "stream",
          "text": [
            "{'aplicativo': 1, 'não se aplica': 2, 'empresa': 3, 'atendimento': 4, 'abertura conta fácil': 5, 'pagamento': 6, 'transferência': 7, 'cartão ourocard': 8, 'senha': 9, 'leitor de código de barra': 10, 'liberação de dispositivo': 11, 'atualização app': 12, 'tarifa': 13, 'leitor de cartão': 14, 'fatura do cartão': 15, 'cartão de crédito': 16, 'sms': 17, 'qr code': 18, 'upgrade conta fácil': 19, 'empréstimo': 20, 'login': 21, 'fale com seu gerente': 22, 'cartão': 23, 'limite': 24, 'bb code': 25, 'pagamento de boleto': 26, 'mensagem': 27, 'limite de transferência/pagamento': 28, 'conta': 29, 'desbloqueio de senha': 30, 'pagamento de fatura': 31, 'encerramento de conta': 32, 'biometria': 33, 'extrato': 34, 'limite do cartão': 35, 'saldo': 36, 'poupança': 37, 'investimento': 38, 'notificações': 39, 'liberação pagamento/transferência': 40, 'comprovante': 41, 'atualização cadastral': 42, 'cadastro de senha': 43, 'desbloqueio de cartão': 44, 'cadastro': 45, 'recarga de celular': 46, 'atendimento online': 47, 'conta salário': 48, 'pix': 49, 'depósito': 50, 'minhas finanças': 51, 'cdc fgts': 52, 'limite de movimentação': 53, 'whatsapp - atendimento': 54, 'geração de boleto': 55, 'contestação de compra': 56, 'pagamento agendado': 57, 'compartilhamento de comprovante': 58, 'taxa de juro': 59, 'cartão virtual': 60, 'abertura conta pj mei': 61, 'pacote de serviços': 62, 'pagamento de empréstimo': 63, 'pagamento da fatura': 64, 'conta corrente': 65, 'selfie': 66, 'lançamento futuro': 67, 'personalização app': 68, 'marketing digital': 69, 'liberação do cartão': 70, 'pagamento de ipva': 71, 'desbloqueio de conta': 72, 'ted': 73, 'boleto': 74, 'depósito de cheque': 75, 'cartão de débito': 76, 'débito': 77, 'consórcio': 78, 'pontos e vantagens': 79, 'débito em conta': 80, 'cartão saraiva': 81, 'conta poupança': 82, 'financiamento de imóvel': 83, 'inss - benefício': 84, 'saldo da poupança': 85, 'pasep': 86, 'simulação de empréstimo': 87, 'extrato de investimento': 88, 'extrato de poupança': 89, 'antecipação de parcelas': 90, 'extrato de empréstimo': 91, 'saque': 92, 'cheque especial': 93, 'portabilidade': 94, 'cancelar agendamento de pagamento': 95, 'fies': 96, 'web (aapf/aapj)': 97, 'saque móvel': 98, 'conta universitária': 99, 'seguros': 100, 'financiamento de veículo': 101, 'brasilprev': 102, 'resgate da poupança': 103, 'débito automático de cartão': 104, 'pendência': 105, 'avaliação do app': 106, 'simulação de financiamento': 107, 'cartão petrobrás': 108, 'cheque': 109, 'nfc': 110, 'renegociação de dívida': 111, 'recarga de bilhete': 112, 'bb internacional': 113, 'bloqueio de cartão': 114, 'recuperação de senha': 115, 'cadastramento de contato': 116, 'saldo do cartão': 117, 'pagar e receber': 118, 'western union': 119, 'fgts': 120, 'auxílio emergencial': 121, 'contracheque': 122, 'amortização de empréstimo/financiamento': 123, 'favoritar': 124, 'financiamento': 125, 'cobrança': 126, 'reescalonamento de dívida': 127, 'portabilidade de conta': 128, 'antecipação de pagamento de fatura': 129, 'renovação crédito/empréstimo': 130, 'cancelar agendamento de transferência': 131, 'liberação do dispositivo': 132, 'cobrança de dívida': 133, 'alívio de numerário': 134, 'informação de imposto de renda': 135, 'simulação de seguro': 136, 'cartão dotz': 137, 'leasing': 138, 'dda': 139, 'pagamento de licenciamento': 140, 'bloqueio de crédito': 141, 'oferta': 142, 'extrato de financiamento imobiliário': 143, 'pagamento de financiamento': 144, 'push': 145, 'senha de atendimento': 146, 'favorito para recarga de celular': 147, 'tesouro direto': 148, 'pagamento do boleto': 149, 'avaliação do atendimento': 150, 'contestação de débito': 151, 'serviço de mensagem': 152, 'extrato de conta salário': 153, 'dotz': 154, 'irpf': 155, 'wallet': 156, 'débito no cartão': 157, 'transferência internacional': 158, 'resgate automático': 159, 'ourocap': 160, 'câmbio': 161, 'cartão pré-pago': 162, 'liberação do app ourocard': 163, 'cartão contactless': 164, 'bb vídeo': 165, 'saldo de investimentos': 166, 'pagamento de inss': 167, 'taa': 168, 'pis': 169, 'portabilidade de financiamento': 170, 'liberação de dispositivo exterior': 171, 'google pay': 172, 'promoção/sorteio': 173, 'extrato de financiamento': 174, 'assinatura digital': 175, 'transferência de limite': 176, 'pos': 177}\n",
            "{1: 'Aplicativo', 2: 'Não se aplica', 3: 'Empresa', 4: 'Atendimento', 5: 'Abertura conta fácil', 6: 'Pagamento', 7: 'Transferência', 8: 'Cartão ourocard', 9: 'Senha', 10: 'Leitor de código de barra', 11: 'Liberação de dispositivo', 12: 'Atualização app', 13: 'Tarifa', 14: 'Leitor de cartão', 15: 'Fatura do cartão', 16: 'Cartão de crédito', 17: 'Sms', 18: 'Qr code', 19: 'Upgrade conta fácil', 20: 'Empréstimo', 21: 'Login', 22: 'Fale com seu gerente', 23: 'Cartão', 24: 'Limite', 25: 'Bb code', 26: 'Pagamento de boleto', 27: 'Mensagem', 28: 'Limite de transferência/pagamento', 29: 'Conta', 30: 'Desbloqueio de senha', 31: 'Pagamento de fatura', 32: 'Encerramento de conta', 33: 'Biometria', 34: 'Extrato', 35: 'Limite do cartão', 36: 'Saldo', 37: 'Poupança', 38: 'Investimento', 39: 'Notificações', 40: 'Liberação pagamento/transferência', 41: 'Comprovante', 42: 'Atualização cadastral', 43: 'Cadastro de senha', 44: 'Desbloqueio de cartão', 45: 'Cadastro', 46: 'Recarga de celular', 47: 'Atendimento online', 48: 'Conta salário', 49: 'Pix', 50: 'Depósito', 51: 'Minhas finanças', 52: 'Cdc fgts', 53: 'Limite de movimentação', 54: 'Whatsapp - atendimento', 55: 'Geração de boleto', 56: 'Contestação de compra', 57: 'Pagamento agendado', 58: 'Compartilhamento de comprovante', 59: 'Taxa de juro', 60: 'Cartão virtual', 61: 'Abertura conta pj mei', 62: 'Pacote de serviços', 63: 'Pagamento de empréstimo', 64: 'Pagamento da fatura', 65: 'Conta corrente', 66: 'Selfie', 67: 'Lançamento futuro', 68: 'Personalização app', 69: 'Marketing digital', 70: 'Liberação do cartão', 71: 'Pagamento de ipva', 72: 'Desbloqueio de conta', 73: 'Ted', 74: 'Boleto', 75: 'Depósito de cheque', 76: 'Cartão de débito', 77: 'Débito', 78: 'Consórcio', 79: 'Pontos e vantagens', 80: 'Débito em conta', 81: 'Cartão saraiva', 82: 'Conta poupança', 83: 'Financiamento de imóvel', 84: 'Inss - benefício', 85: 'Saldo da poupança', 86: 'Pasep', 87: 'Simulação de empréstimo', 88: 'Extrato de investimento', 89: 'Extrato de poupança', 90: 'Antecipação de parcelas', 91: 'Extrato de empréstimo', 92: 'Saque', 93: 'Cheque especial', 94: 'Portabilidade', 95: 'Cancelar agendamento de pagamento', 96: 'Fies', 97: 'Web (aapf/aapj)', 98: 'Saque móvel', 99: 'Conta universitária', 100: 'Seguros', 101: 'Financiamento de veículo', 102: 'Brasilprev', 103: 'Resgate da poupança', 104: 'Débito automático de cartão', 105: 'Pendência', 106: 'Avaliação do app', 107: 'Simulação de financiamento', 108: 'Cartão petrobrás', 109: 'Cheque', 110: 'Nfc', 111: 'Renegociação de dívida', 112: 'Recarga de bilhete', 113: 'Bb internacional', 114: 'Bloqueio de cartão', 115: 'Recuperação de senha', 116: 'Cadastramento de contato', 117: 'Saldo do cartão', 118: 'Pagar e receber', 119: 'Western union', 120: 'Fgts', 121: 'Auxílio emergencial', 122: 'Contracheque', 123: 'Amortização de empréstimo/financiamento', 124: 'Favoritar', 125: 'Financiamento', 126: 'Cobrança', 127: 'Reescalonamento de dívida', 128: 'Portabilidade de conta', 129: 'Antecipação de pagamento de fatura', 130: 'Renovação crédito/empréstimo', 131: 'Cancelar agendamento de transferência', 132: 'Liberação do dispositivo', 133: 'Cobrança de dívida', 134: 'Alívio de numerário', 135: 'Informação de imposto de renda', 136: 'Simulação de seguro', 137: 'Cartão dotz', 138: 'Leasing', 139: 'Dda', 140: 'Pagamento de licenciamento', 141: 'Bloqueio de crédito', 142: 'Oferta', 143: 'Extrato de financiamento imobiliário', 144: 'Pagamento de financiamento', 145: 'Push', 146: 'Senha de atendimento', 147: 'Favorito para recarga de celular', 148: 'Tesouro direto', 149: 'Pagamento do boleto', 150: 'Avaliação do atendimento', 151: 'Contestação de débito', 152: 'Serviço de mensagem', 153: 'Extrato de conta salário', 154: 'Dotz', 155: 'Irpf', 156: 'Wallet', 157: 'Débito no cartão', 158: 'Transferência internacional', 159: 'Resgate automático', 160: 'Ourocap', 161: 'Câmbio', 162: 'Cartão pré-pago', 163: 'Liberação do app ourocard', 164: 'Cartão contactless', 165: 'Bb vídeo', 166: 'Saldo de investimentos', 167: 'Pagamento de inss', 168: 'Taa', 169: 'Pis', 170: 'Portabilidade de financiamento', 171: 'Liberação de dispositivo exterior', 172: 'Google pay', 173: 'Promoção/sorteio', 174: 'Extrato de financiamento', 175: 'Assinatura digital', 176: 'Transferência de limite', 177: 'Pos'}\n"
          ],
          "name": "stdout"
        }
      ]
    },
    {
      "cell_type": "code",
      "metadata": {
        "id": "UWebeXeOa8uC"
      },
      "source": [
        "len(word_index)\n",
        "tamanho_classes = len(word_index)+1"
      ],
      "execution_count": 48,
      "outputs": []
    },
    {
      "cell_type": "code",
      "metadata": {
        "id": "UduFqej4MhGx"
      },
      "source": [
        "def transforming_labels(lista):\n",
        "  temp = []\n",
        "  for item in lista:\n",
        "    temp.append(word_index.get(item.lower()))\n",
        "  return temp"
      ],
      "execution_count": 49,
      "outputs": []
    },
    {
      "cell_type": "code",
      "metadata": {
        "id": "0liVY4241Rwc",
        "outputId": "7296eb9d-4236-47df-b382-c421b02aace7",
        "colab": {
          "base_uri": "https://localhost:8080/",
          "height": 372
        }
      },
      "source": [
        "training_labels[0:20]"
      ],
      "execution_count": 50,
      "outputs": [
        {
          "output_type": "execute_result",
          "data": {
            "text/plain": [
              "['Aplicativo',\n",
              " 'Aplicativo',\n",
              " 'Cartão Ourocard',\n",
              " 'Transferência',\n",
              " 'Aplicativo',\n",
              " 'Liberação de Dispositivo',\n",
              " 'Limite de Transferência/Pagamento',\n",
              " 'Liberação Pagamento/Transferência',\n",
              " 'Tarifa',\n",
              " 'Abertura Conta Fácil',\n",
              " 'Aplicativo',\n",
              " 'Aplicativo',\n",
              " 'Aplicativo',\n",
              " 'Liberação de Dispositivo',\n",
              " 'Aplicativo',\n",
              " 'não se aplica',\n",
              " 'não se aplica',\n",
              " 'não se aplica',\n",
              " 'não se aplica',\n",
              " 'não se aplica']"
            ]
          },
          "metadata": {
            "tags": []
          },
          "execution_count": 50
        }
      ]
    },
    {
      "cell_type": "code",
      "metadata": {
        "id": "YLoT5goWUSR-",
        "outputId": "295ca92a-8e27-45a5-c285-11de3e996f8f",
        "colab": {
          "base_uri": "https://localhost:8080/",
          "height": 35
        }
      },
      "source": [
        "training_labels = transforming_labels(training_labels)\n",
        "testing_labels = transforming_labels(testing_labels)\n",
        "training_labels[0:20]"
      ],
      "execution_count": 51,
      "outputs": [
        {
          "output_type": "execute_result",
          "data": {
            "text/plain": [
              "[1, 1, 8, 7, 1, 11, 28, 40, 13, 5, 1, 1, 1, 11, 1, 2, 2, 2, 2, 2]"
            ]
          },
          "metadata": {
            "tags": []
          },
          "execution_count": 51
        }
      ]
    },
    {
      "cell_type": "code",
      "metadata": {
        "id": "KXxpaO8RLzEv",
        "outputId": "0946745e-12ae-45b6-e7a6-0abea2ccefb3",
        "colab": {
          "base_uri": "https://localhost:8080/",
          "height": 35
        }
      },
      "source": [
        "# Make labels into numpy arrays for use with the network later\n",
        "training_labels_final = np.array(training_labels)\n",
        "testing_labels_final = np.array(testing_labels)\n",
        "training_labels_final"
      ],
      "execution_count": 52,
      "outputs": [
        {
          "output_type": "execute_result",
          "data": {
            "text/plain": [
              "array([1, 1, 8, ..., 1, 1, 1])"
            ]
          },
          "metadata": {
            "tags": []
          },
          "execution_count": 52
        }
      ]
    },
    {
      "cell_type": "code",
      "metadata": {
        "id": "XXnYlW6CLqgp",
        "outputId": "2182f1ba-2883-488d-f17e-1f1f93e1fcdb",
        "colab": {
          "base_uri": "https://localhost:8080/",
          "height": 72
        }
      },
      "source": [
        "print(training_sentences[0:5])\n",
        "print(training_labels[0:20], testing_labels[0:20])"
      ],
      "execution_count": 53,
      "outputs": [
        {
          "output_type": "stream",
          "text": [
            "['excelente', 'muito bom', 'não estou conseguindo fazer um cartão de crédito para mim eu só quero aff já tentei várias vezes fazer cartão quando eu fui fazer mandou esperar treis dias aí quando eu fui abri aplicativo para ver se foi aprovado  táva mandando fazer tudo dinovo', 'por mais que eu tente não consigo desbloquear app para transferências', 'bom aplicativo eu gosto']\n",
            "[1, 1, 8, 7, 1, 11, 28, 40, 13, 5, 1, 1, 1, 11, 1, 2, 2, 2, 2, 2] [1, 34, 1, 1, 1, 1, 1, 1, 1, 1, 1, 6, 1, 1, 1, 1, 10, 1, 1, 5]\n"
          ],
          "name": "stdout"
        }
      ]
    },
    {
      "cell_type": "markdown",
      "metadata": {
        "id": "ZpuhhlBjqHuz"
      },
      "source": [
        "# Tokenize the dataset\n",
        "Tokenize the dataset, including padding and OOV"
      ]
    },
    {
      "cell_type": "code",
      "metadata": {
        "id": "XmV-F-fnkBTy"
      },
      "source": [
        "vocab_size = 1000\n",
        "embedding_dim = 16\n",
        "max_length = 100\n",
        "trunc_type='post'\n",
        "padding_type='post'\n",
        "oov_tok = \"<OOV>\"\n",
        "\n",
        "\n",
        "from tensorflow.keras.preprocessing.text import Tokenizer\n",
        "from tensorflow.keras.preprocessing.sequence import pad_sequences\n",
        "\n",
        "tokenizer = Tokenizer(num_words = vocab_size, oov_token=oov_tok)\n",
        "tokenizer.fit_on_texts(training_sentences)\n",
        "word_index = tokenizer.word_index\n",
        "sequences = tokenizer.texts_to_sequences(training_sentences)\n",
        "padded = pad_sequences(sequences,maxlen=max_length, padding=padding_type, \n",
        "                       truncating=trunc_type)  #review de treinamento com padding\n",
        "\n",
        "testing_sequences = tokenizer.texts_to_sequences(testing_sentences)\n",
        "testing_padded = pad_sequences(testing_sequences,maxlen=max_length, \n",
        "                               padding=padding_type, truncating=trunc_type)  #review de treinamento com padding"
      ],
      "execution_count": 54,
      "outputs": []
    },
    {
      "cell_type": "code",
      "metadata": {
        "id": "5rjYF8PK_BOt",
        "outputId": "459cee6b-3757-47f5-b926-5a648c09fe17",
        "colab": {
          "base_uri": "https://localhost:8080/",
          "height": 35
        }
      },
      "source": [
        "print(padded.shape, testing_padded.shape)"
      ],
      "execution_count": 61,
      "outputs": [
        {
          "output_type": "stream",
          "text": [
            "(66064, 100) (16516, 100)\n"
          ],
          "name": "stdout"
        }
      ]
    },
    {
      "cell_type": "code",
      "metadata": {
        "id": "itSHvD0JAWX_",
        "outputId": "ad5f6905-8a72-4da2-d362-8e3615bf03c5",
        "colab": {
          "base_uri": "https://localhost:8080/",
          "height": 284
        }
      },
      "source": [
        "print(padded)\n",
        "print('-------------------------------')\n",
        "print(testing_padded)"
      ],
      "execution_count": 69,
      "outputs": [
        {
          "output_type": "stream",
          "text": [
            "[[ 10   0   0 ...   0   0   0]\n",
            " [  2   3   0 ...   0   0   0]\n",
            " [  9  37 206 ...   0   0   0]\n",
            " ...\n",
            " [ 22  14   0 ...   0   0   0]\n",
            " [697   0   0 ...   0   0   0]\n",
            " [ 74   0   0 ...   0   0   0]]\n",
            "-------------------------------\n",
            "[[  2   3  83 ...   0   0   0]\n",
            " [160   8   1 ...   0   0   0]\n",
            " [  2   3   0 ...   0   0   0]\n",
            " ...\n",
            " [  7   0   0 ...   0   0   0]\n",
            " [ 21   7   6 ...   0   0   0]\n",
            " [  7   0   0 ...   0   0   0]]\n"
          ],
          "name": "stdout"
        }
      ]
    },
    {
      "cell_type": "code",
      "metadata": {
        "id": "hUzdCZ8MAcSz",
        "outputId": "a105aa8a-809a-4074-bc42-5083fddbecba",
        "colab": {
          "base_uri": "https://localhost:8080/",
          "height": 35
        }
      },
      "source": [
        "print(len(training_score), len(testing_score))"
      ],
      "execution_count": 70,
      "outputs": [
        {
          "output_type": "stream",
          "text": [
            "66064 16516\n"
          ],
          "name": "stdout"
        }
      ]
    },
    {
      "cell_type": "code",
      "metadata": {
        "id": "YsfbjU0AM-WA",
        "outputId": "d02fa98a-db64-4366-b91c-52c801a38cb4",
        "colab": {
          "base_uri": "https://localhost:8080/",
          "height": 35
        }
      },
      "source": [
        "type(training_score)"
      ],
      "execution_count": 71,
      "outputs": [
        {
          "output_type": "execute_result",
          "data": {
            "text/plain": [
              "list"
            ]
          },
          "metadata": {
            "tags": []
          },
          "execution_count": 71
        }
      ]
    },
    {
      "cell_type": "code",
      "metadata": {
        "id": "LSfRzFirNy9S"
      },
      "source": [
        "training_score = np.asarray(training_score)\n",
        "testing_score = np.asarray(testing_score)\n",
        "print(type(training_score), type(testing_score))"
      ],
      "execution_count": 72,
      "outputs": []
    },
    {
      "cell_type": "code",
      "metadata": {
        "id": "a-TovQhEOEVL",
        "outputId": "7886b0fe-8a66-4c7b-9b8f-56f0a0e8e943",
        "colab": {
          "base_uri": "https://localhost:8080/",
          "height": 35
        }
      },
      "source": [
        "padded2 = \n",
        "testing_padded = "
      ],
      "execution_count": 74,
      "outputs": [
        {
          "output_type": "stream",
          "text": [
            "<class 'numpy.ndarray'> <class 'numpy.ndarray'>\n"
          ],
          "name": "stdout"
        }
      ]
    },
    {
      "cell_type": "markdown",
      "metadata": {
        "id": "m3_BKIWAu8v-"
      },
      "source": [
        "# Review a Sequence\n",
        "Let's quickly take a look at one of the padded sequences to ensure everything above worked appropriately."
      ]
    },
    {
      "cell_type": "code",
      "metadata": {
        "id": "rF5Y58Mdu5-D",
        "outputId": "921b120c-5b93-44ad-b220-6caf8f70a8a4",
        "colab": {
          "base_uri": "https://localhost:8080/",
          "height": 72
        }
      },
      "source": [
        "reverse_word_index = dict([(value, key) for (key, value) in word_index.items()])\n",
        "\n",
        "def decode_review(text):\n",
        "    return ' '.join([reverse_word_index.get(i, 'x') for i in text])\n",
        "\n",
        "print(decode_review(padded[0]))\n",
        "print(training_sentences[0])"
      ],
      "execution_count": 17,
      "outputs": [
        {
          "output_type": "stream",
          "text": [
            "excelente x x x x x x x x x x x x x x x x x x x x x x x x x x x x x x x x x x x x x x x x x x x x x x x x x x x x x x x x x x x x x x x x x x x x x x x x x x x x x x x x x x x x x x x x x x x x x x x x x x x\n",
            "excelente\n"
          ],
          "name": "stdout"
        }
      ]
    },
    {
      "cell_type": "markdown",
      "metadata": {
        "id": "pZiw1BUsvJJk"
      },
      "source": [
        "# Train a Basic Sentiment Model with Embeddings"
      ]
    },
    {
      "cell_type": "code",
      "metadata": {
        "id": "Aqio4n48vKCT",
        "outputId": "0d87a7e2-34cb-4f36-af61-feed4e65e560",
        "colab": {
          "base_uri": "https://localhost:8080/",
          "height": 408
        }
      },
      "source": [
        "# Build a basic sentiment network\n",
        "# Note the embedding layer is first, \n",
        "# and the output is only 1 node as it is either 0 or 1 (negative or positive)\n",
        "model = tf.keras.Sequential([\n",
        "    tf.keras.layers.Embedding(vocab_size, embedding_dim, input_length=max_length),\n",
        "    tf.keras.layers.Flatten(),\n",
        "    # tf.keras.layers.Dense(50, activation='relu', input_shape=(100,)),\n",
        "    tf.keras.layers.Dense(100, activation='relu'),\n",
        "    tf.keras.layers.Dropout(0.1),\n",
        "    tf.keras.layers.Dense(100, activation='relu'),\n",
        "    tf.keras.layers.Dense(50, activation='relu'),\n",
        "    tf.keras.layers.Dense(tamanho_classes, activation='softmax')\n",
        "])\n",
        "\n",
        "\n",
        "# model.compile(loss='categorical_crossentropy',optimizer='adam',metrics=['accuracy'])\n",
        "model.compile(loss='sparse_categorical_crossentropy',optimizer='adam',metrics=['accuracy'] )\n",
        "model.summary()"
      ],
      "execution_count": 18,
      "outputs": [
        {
          "output_type": "stream",
          "text": [
            "Model: \"sequential\"\n",
            "_________________________________________________________________\n",
            "Layer (type)                 Output Shape              Param #   \n",
            "=================================================================\n",
            "embedding (Embedding)        (None, 100, 16)           16000     \n",
            "_________________________________________________________________\n",
            "flatten (Flatten)            (None, 1600)              0         \n",
            "_________________________________________________________________\n",
            "dense (Dense)                (None, 100)               160100    \n",
            "_________________________________________________________________\n",
            "dropout (Dropout)            (None, 100)               0         \n",
            "_________________________________________________________________\n",
            "dense_1 (Dense)              (None, 100)               10100     \n",
            "_________________________________________________________________\n",
            "dense_2 (Dense)              (None, 50)                5050      \n",
            "_________________________________________________________________\n",
            "dense_3 (Dense)              (None, 178)               9078      \n",
            "=================================================================\n",
            "Total params: 200,328\n",
            "Trainable params: 200,328\n",
            "Non-trainable params: 0\n",
            "_________________________________________________________________\n"
          ],
          "name": "stdout"
        }
      ]
    },
    {
      "cell_type": "code",
      "metadata": {
        "id": "w_X8h0DMvUaR",
        "outputId": "a31d598d-4918-4d2c-9fd8-5199765b738c",
        "colab": {
          "base_uri": "https://localhost:8080/",
          "height": 124
        }
      },
      "source": [
        "num_epochs = 3\n",
        "hist = model.fit(padded, training_labels_final, epochs=num_epochs, validation_data=(testing_padded, testing_labels_final))"
      ],
      "execution_count": 19,
      "outputs": [
        {
          "output_type": "stream",
          "text": [
            "Epoch 1/3\n",
            "2065/2065 [==============================] - 8s 4ms/step - loss: 0.7551 - accuracy: 0.8371 - val_loss: 0.5966 - val_accuracy: 0.8897\n",
            "Epoch 2/3\n",
            "2065/2065 [==============================] - 7s 4ms/step - loss: 0.6354 - accuracy: 0.8446 - val_loss: 0.5366 - val_accuracy: 0.9039\n",
            "Epoch 3/3\n",
            "2065/2065 [==============================] - 7s 4ms/step - loss: 0.5803 - accuracy: 0.8522 - val_loss: 0.5229 - val_accuracy: 0.9048\n"
          ],
          "name": "stdout"
        }
      ]
    },
    {
      "cell_type": "code",
      "metadata": {
        "id": "_XE3ozHpafpu",
        "outputId": "8d3eba76-a0b3-4e24-bcf1-bef6e0f4c23a",
        "colab": {
          "base_uri": "https://localhost:8080/",
          "height": 52
        }
      },
      "source": [
        "scores = model.evaluate(testing_padded, testing_labels_final, verbose=0)\n",
        "print(\"Baseline Error: %.2f%%\" % (100-scores[1]*100))\n",
        "print(hist.history.keys())"
      ],
      "execution_count": 20,
      "outputs": [
        {
          "output_type": "stream",
          "text": [
            "Baseline Error: 9.52%\n",
            "dict_keys(['loss', 'accuracy', 'val_loss', 'val_accuracy'])\n"
          ],
          "name": "stdout"
        }
      ]
    },
    {
      "cell_type": "code",
      "metadata": {
        "id": "PM6SppHpWDOC",
        "outputId": "01c819a0-d3b0-4904-9527-1c1020a09bbb",
        "colab": {
          "base_uri": "https://localhost:8080/",
          "height": 573
        }
      },
      "source": [
        "plt.plot(hist.history[ 'accuracy' ])\n",
        "plt.plot(hist.history[ 'val_accuracy' ])\n",
        "plt.title( 'model accuracy' )\n",
        "plt.ylabel( 'accuracy')\n",
        "plt.xlabel( 'epoch' )\n",
        "plt.legend([ 'train' , 'test' ], loc= 'upper left' )\n",
        "plt.show()\n",
        "# summarize history for loss\n",
        "plt.plot(hist.history[ 'loss' ])\n",
        "plt.plot(hist.history[ 'val_loss' ])\n",
        "plt.title( 'model loss' )\n",
        "plt.ylabel( 'loss' )\n",
        "plt.xlabel( 'epoch' )\n",
        "plt.legend([ 'train' , 'test' ], loc= 'upper left' )\n",
        "plt.show()"
      ],
      "execution_count": 21,
      "outputs": [
        {
          "output_type": "display_data",
          "data": {
            "image/png": "[encoded data removed]",
            "text/plain": [
              "<Figure size 432x288 with 1 Axes>"
            ]
          },
          "metadata": {
            "tags": [],
            "needs_background": "light"
          }
        },
        {
          "output_type": "display_data",
          "data": {
            "image/png": "[encoded data removed]",
            "text/plain": [
              "<Figure size 432x288 with 1 Axes>"
            ]
          },
          "metadata": {
            "tags": [],
            "needs_background": "light"
          }
        }
      ]
    },
    {
      "cell_type": "markdown",
      "metadata": {
        "id": "U07GTfbEDn1G"
      },
      "source": [
        "# Novas Predições:"
      ]
    },
    {
      "cell_type": "code",
      "metadata": {
        "id": "arh6UpnqDvFL"
      },
      "source": [
        "path = \"/content/novoarquivo.xlsx\""
      ],
      "execution_count": 22,
      "outputs": []
    },
    {
      "cell_type": "code",
      "metadata": {
        "id": "N8uD8G3kD-OT"
      },
      "source": [
        "dataset = pd.read_excel(path, sheet_name=0, header=0, dtype={'score': np.int32})\n",
        "\n",
        "responsavel       = dataset[dataset.columns[0]].tolist()   # Responsável\n",
        "natureza          = dataset[dataset.columns[1]].tolist()   # Natureza\n",
        "classificacao     = dataset[dataset.columns[2]].tolist()   # Classificação\n",
        "produtos_servicos = dataset[dataset.columns[3]].tolist()   # Produtos/Serviços\n",
        "detalhamento      = dataset[dataset.columns[4]].tolist()   # Detalhamento\n",
        "review            = dataset[dataset.columns[15]].tolist()  # review\n",
        "score             = dataset[dataset.columns[16]].tolist()  # score"
      ],
      "execution_count": 23,
      "outputs": []
    },
    {
      "cell_type": "code",
      "metadata": {
        "id": "ZPXN26dFFzLK",
        "outputId": "f60a53ed-8159-4f49-8533-fef8f1b12bef",
        "colab": {
          "base_uri": "https://localhost:8080/",
          "height": 1000
        }
      },
      "source": [
        "# Use the model to predict a review   \n",
        "new_reviews = review\n",
        "\n",
        "print(new_reviews) \n",
        "\n",
        "# Create the sequences\n",
        "padding_type='post'\n",
        "sample_sequences = tokenizer.texts_to_sequences(new_reviews)\n",
        "fakes_padded = pad_sequences(sample_sequences, padding=padding_type, maxlen=max_length)           \n",
        "\n",
        "print('\\nHOT OFF THE PRESS! HERE ARE SOME NEWLY MINTED, ABSOLUTELY GENUINE REVIEWS!\\n')              \n",
        "\n",
        "classes = model.predict(fakes_padded)\n",
        "\n",
        "print(new_reviews[17])\n",
        "print(classes[15:17])"
      ],
      "execution_count": 24,
      "outputs": [
        {
          "output_type": "stream",
          "text": [
            "['muito útil pra mim.', '👍', 'O aplicativo tem muito a melhor, pois as vezes acontece uns bugs, trava.', 'regular', 'ótimo app', 'O melhor App, melhor banco!', 'gostei muito', 'muito bom gostei.', 'prático', 'excelente!', 'o app é bom', 'eletrodo 051 poupança orurcard 00', 'Melhor App do setor bancário. Intuitivo, leve e sempre funciona. Sou fã', 'bom', 'Gostei do APP, bem funcional e fácil de utilizar.', 'muita útil', 'Excelente.', 'o banco com muita competência,e principalmente quero elogiar funcionário Alex sempre que eu vou na minha agência me trata super bem', 'otimo', 'parabenizo ao banco do brasil pela assistência aos seus clientes. e o aplicativo e ótimo', 'simplesmente maravilhoso.', 'Excelente apkicativo', 'muito bom .. facilita demais', 'Aplicativo sem nenhuma crítica a fazer. Só elogio.', 'recomendo', 'muito bom', 'As restrições de valores mas transações praticamente inviabiliza agilidade e efetividade no dia a dia. Vou reduzir o movimento nesta conta e movimentar em outros bancos onde tenho contas. Esses dias tive que fazer um monte de manobras pra conseguir pagar umas contas e transferir dinheiro. Desse jeito é impossível. Obs. : depois da resposta do BB só teve um jeito, que foi reduzir a nota de 2 para 1 estrela.', 'muito bom', 'Ótima', 'Estou amando', 'Bom', 'recomendo!!!', 'está correspondendo as minhas solicitações, ÓTIMO', 'muito bom.gostei muito parabéns 👏👏👏 pelo app....', 'otimo', 'muito bom', 'Excelente', 'O aplicativo é bom, mas poderia ter a opção de acompanhamento e extrato dos contratos de empréstimos e financiamentos e também de adiantamento de parcelas ou abatimento de saldo devedor diretamente pelo aplicativo ao invés de ter de se dirigir a agencias ainda mais nestes tempos de pandemia!', 'O melhor app do mercado!!!', 'pode melhorarv', 'top', 'estou muito satisfeita com aplicativo .', 'Sou correntista desde 1988, amo meu Banco 100% VIP.', 'Bom', 'Agiliza nossa vida diária e nos dá tranquilidade.', 'otimo app', 'Gosto muito da praticidade desse aplicativo....', 'otimo', 'pontualidade, atendimento, rapidez e excelência', 'Aplicativo deu uma piorada drástica nessa última atualização.', 'bom', 'Recomendo', 'App de uso intuitivo! Para mim é o melhor app de banco .', 'ótimo', 'Nao tô conseguindo abrir conta .aperto na opção abrir conta fácil é abre uma página na internet que nem sei da onde sai sendo que já tenho o App instalado no celular', 'Show', 'o aplicativo é bom já o banco físico ... os funcionários da agência Unimart deixa muuuuito a desejar, mal educados, nos desprezam mesmo antes da pandemia, agora com o banco fechado por conta do covid piorou', 'muito burocrático é um app de celular deveria ser mais explicado mais claro é simples', 'excelente aplicativo. muito rápido para abrir. muito prático e intuitivo. top', 'Vcs poderiam ao menos atualizar o aplicativo ao clicar - empréstimo-antecipe seus creditos-saque aniversário ao clicar em antecipe seus creditos da sem possibilidade de contratação então ao menos deixe ao menos conseguir ir pelo menos o que nos queremos aderir No mínimo a antecipação do saque aniversário e uma pagamento garantido então ao menos podemos apenas aderir aí vcs avaliam , fica a dica', 'gostei desde o primeiro login, mas tem muito a melhorar.', 'Atende minhas expectativas', 'Super satisfeito com a facilidade!', 'ótimo', 'Um lixo e', 'Ótimo', 'boa', 'ótimo app pois não precisa ir eu uma agência pra sacar ou pra tranferir no app vc tem tudo isso na sua mão... muito rápido e ficil e pratico', 'ótimo', 'Como faço pra escanear o cartão?', 'muito bom o banco mas quando meu cartão chega.', 'Melhor Banco! Resolvo tudo sem precisar ir na agência.', 'Excelente app. Ótimo para controlar sua vida financeira!', 'Não é possível antecipar parcelas do empréstimo pelo App, outras coisas que só são possíveis pelo 0800 e o chat só funciona em horário comercial e sabado só até meio dia. Por isso dei 4 estrelas.', 'top', 'muito prático e fácil', 'Até agora estou adorando o aplicativo pra mim está sendo super ultil e estou indicando pra minhas clientes e amigas', 'muito bom', 'otimo', 'Bom', 'muito bom. Até o momento serviu as minhas necessidades', 'Ruim', 'Ótimo app', 'Ótimo', 'otimo', 'ótimo app', 'otimo', 'eselent gostei', 'Aplicativo muito bom e facilita a vida dos clientes BB', 'Removeram a opção de adicionar o cartão ao Google Pay, não consigo mais fazer pagamento por aproximação com o celular.', 'Otimo', 'muito bom', 'Muito chato a propaganda do PIX, atrapalha até a utilização do próprio aplicativo.', 'Muito bom, fácil de usar. Gostei.', 'muito bom o melhor app de banco', 'Péssimo', 'Aplicativo ruim. Troquei de celular (android 10) e instalei o app nele. Fui abilitar o QR Code no caixa eletrônico mas quando fui ler com a câmera o código, o app não leu e apareceu distorcida a imagem e o aplicativo não conseguiu ler. O problema é do app do BB pois dos outros bancos funcionou.', 'muito bom', 'Boa', 'Bom', 'Agora consigo fazer tudo, sem sair de casa 🙏', 'ótimo banco !!!!', 'ótimo App, me serve para tudo que preciso!', 'otimo app', 'otimo', 'Excelente', 'Não consigo fazer nenhum pagamento através do aplicativo. Sempre que tento sou notificada com um erro técnico do próprio app. Já atualizei e o erro persiste. Por favor, resolvam isso. O aplicativo existe para dar mais comodidade ao cliente... ainda mais em tempos de pandemia.', 'Ótimo', 'ótimo', 'Muito bom', 'tranquilo', 'muito bom prático e rapido', 'está mim ajudando muito vale a pena', 'Ótimo', 'Péssimo', 'muito bom este aplicativo. só espero que este banco nunca seja privatizado.', 'Não estou conseguindo abrir uma conta fácil pois dá erro no aplicativo o tempo todo', 'Top', 'ótimo', 'bom', 'Já baixei fiz cadastro para o cartão envio os documentos mas nunca tenho resposta, e quando entro no app aparece para eu fazer o processo tudo denovo como eu não estivesse feito nenhuma solicitação.', 'ainda não tive nenhuma experiência este app espero que em breve eu venha ter algumas embreve', 'Esti aplicativo está me ajudando muito e muito bom', 'O app esta um lixo total !! Formatei meu celular .. Agora nao esta dando para pagar nenhum boleto sendo que cadastrei meu numero do celular no caixa eletronico que desbloquei o app.. Agora esta travado.. Sendo que tenho que cadastrar tudo de novo', 'Tá muito bom o aplicativo nota 10.', 'Boa', 'Aff fiz achando que iria ser cartão de crédito super chateada', 'Não consigo ver. Meu saldo na minha conta abaixei o aplicativo ele pede o número da conta e da agência pois fiz isso e na hora da senha não deu tive que ir esqueci a senha e ele pediu pra fazer outra e escanear o cartão mais não deu porque', 'E um aplicativo que veio para ter um relacionamento direto com o gerente isto é muito importante. Sempre tive as respostas no tempo preciso.', 'Não presta pra escanear o cartão', 'ótimo', 'O app esta com problema, só essa semana já bloquearam 3 vezes meu app. E o pior se tudo é que sempre precisa ir até a agência para desbloquear. Sempre que deslizo para baixo para atualizar meu saldo minha conta bloqueia.', 'muito bom prático é fácil de utilizar', 'As taxas para receber notificações são altas demais, outros apps tem essa função gratuita', 'Aplicativo prático para o dia a dia.', 'bom', 'Muito boa', 'Muito bom esse aplicativo você fica por dentro de todas suas finanças o Banco do Brasil está de parabéns...', 'Atende a minha necessidade', 'ótimo', 'parabéns', 'melhor banco e melhor app que existe', 'Sinceramente esse banco já foi melhor. Hoje em dia tão nem aí pros cliente, fora que eles querem cobrar tudo coisa q outros bancos já lhe dar total acesso a conta sem taxa ou anuidade... Banco do BB anda um lixo.. igual ao país.. ridículo.', 'Adorei o App facilita muito...', 'Muito bom', 'muito bom', 'excelente, intuitivo! o melhor app de bancos, sem dúvidas!', 'Muito bom excelente recomendo!!!!', 'A opçao emprestimo fgts não aparece.', 'Meubancooficial', 'ótimo', 'Sempre bem atendido', 'Ótimo, os problemas q/ aparece são resolvidos sem burocracia e o APP, sem problemas, estou muito satisfeita com o B. BRASIL !', 'de parabéns o app, fácil e de rápido acesso.', 'Muito bom', 'bom', 'Muito bom', 'otimo e recomendo', 'SENSACIONAL. MIRABOLANTE ESSE APLICATIVO.', 'legal', 'Excelente ótimo atendimento', 'muito bom', 'FACILIDADE DO BB É TUDO!', 'Excelente performance!', 'Pior banco e pior app. Pedem 666.666 senhas pra tudo. Pra liberar as transações NORMAIS de qualquer conta bancária tem que ir fazendo desafios como se fosse um joguinho da PlayStore, mas se você perder tem que ir na agência desbloquear. Ah, claro, e lá vão pedir algumas das 666.666 senhas. Além do mais tem tarifa pra tudo: tarifa pra transferir dinheiro, tarifa se fizer saque demais, tarifa se fizer saque fora do BB, tarifa pra \"upgrade\" de conta, tarifa de serviços. Façam portabilidade Não usem', 'Aplicativo muito lento ao apresentar o demonstrativo da fatura do cartão de crédito e, também, quando clico nas mensagens de avisos de compras.', 'Péssimo n consigo abrir minha conta....', 'Travou', 'otimo', 'Aplicativo simples e prático de mexer, acesso rápido aos gerentes, enfim, gosto muito!', 'Ótimo App, algumas pessoas não sabem usar e acabam criticando, o App me atende muito em todas as necessidades, não tenho do que reclamar, recomendo.', 'um ótimo app com mais facilidade pra emergência do dia dia.! 👏👏👏👏👏', 'Amei! muito útil', 'Exelente App muito bom', 'ótimo', 'top', 'internet excelente', 'mais ou menos', 'o dinheiro estar sumindo da minha conta,em breve vou fechar essa conta,ficar perdendo dinheiro pra banco é que não vou!', 'simples', 'Não consigo escanear o cartão! 😫', 'Cada vez melhor, bom trabalho.', 'muito atenciosa', 'bom', 'Direto dando erro', 'satisfatório', 'olá, gostaria de saber como abrir a conta pelo App? pois entro no app não tem essa opção. ai entro no site aparece uma página onde diz q tenho q aponta QR code e aponta a câmera do cel. já fiz isso. mas é na câmera normal do celular?', 'Melhorde todos', 'Diarista', 'top', 'recomendo', 'Gostei do banco!!', 'Não aprovam o upgrade na minha conta, já mandei todo tipo de comprovante de residência. Se o comprovante não tiver meu nome, então eu não moro na casa, moro na rua. Vão tomar no cu!', 'sem opinião', 'auto esplicativo e de fácil interação.. estou gostando bastante.', 'boa', 'boa otima', 'muito pratico e f', 'Auto explicativo e de fácil navegação...', 'bom', 'aplicativo otimo', 'Tu como eu preciso!', 'otimo', 'gosto do app', 'Incrivel', 'muito bom app de verdade', 'Ótimo muito bom ô Banco BB tem um ótimo atendimento gosto muito', 'razoável!!!', 'Horrível esse app não consigo nem ter acesso a minhas faturas', 'Excelente app', 'Solicitei o cartão de credito dia 19/10 o app informa que análise é de três dias ÚTEIS, bom hoje já é dia 25 e até agora nada.', 'Ótimo muito bom', 'Fantástica', 'A 6 vezes não consigo ter acesso ao app , sempre pede para desbloquear senha , vou ao banco no caixa eletrônico e desbloqueio , quando vou ao celular diz que está bloqueado , desisto .', 'otimo app', 'Banco completo e facilidade em acessar as funções do app. Super recomendo.', 'muito bom', 'Ao meu ver, corresponde às minha necessidades, a mim está de bom tamaho. GRATIDÃO', 'muito útil a fácil de usar', 'bom ótimo........', 'Bloquearam meu acesso ao aplicativo, já fui no caixa eletrônico fazer alteração de senha, no caixa eletrônico informa q foi alterada com sucesso e quando vou acessar o aplicativo contínua bloqueado. Fazia pagamento do e transferência pelo aplicativo, agora não posso mais, vou cancelar essa conta, pois o banco não me dar mais acessibilidade.', 'perfeito', 'confuso', 'o tino', 'faço tudo com ele muito.pratico', 'ótimo', 'bom', 'Muito bom!!', 'Eficaz', 'facilidade e rapidez no acesso', 'Ótimo', 'ótimo mesmo', 'Acesso constantemente o aplicativo e, atualmente, não estou satisfeito, já que o contato via mensagens está prejudicado, pois fico sem respostas!', 'e otimo esse aplicativo , pena que eu nao consegui antecipar o 13 salario 😥', 'melhor apricativo nota 10', 'gostei do atendimento foi muito ótimo', 'ótimo app. Funcionalidades fáceis e acessíveis a qualquer usuário.', 'Rapaz desde sábado a tarde não entrar no app do banco por q será', 'Bom', 'Ótimo', 'excelente', 'amei o aplicativo tudo que quero fazer ,por ele em casa sem ter que ir na agência eu consigo ex:ver meu saldo, receber pagamento, transferir dinheiro para uma outra conta e etc... muito obrigada por facilitar a minha vida. fiquem com Deus \\U0001f970🤗', 'ótimo', 'Top!!!', 'muito bom', 'muito bom maravilhoso', 'Gosto do banco do Brasil só não gosto das taxas de juros do cartão de crédito que nem uso com tal', 'Não consigo me cadastrar mais nele', 'bom', 'entrega o que eu preciso. nunca travou. Uso a 03 anos.', 'otima', 'Fácil de usar!', 'Ótimo', 'O BB e um dos melhores Banco', 'muito legal', 'ótimo', 'Ótima', 'Tem uma semana que o aplicativo parou de funcionar no meu celular. Já desinstalei e instalei por duas vezes, mesmo assim, aparece a mensagem: Opa, aconteceu um problema de conexão com nosso app, por favor, tente mais tarde. Já venho tentando por uma semana e nada. Já enviei e-mail para o e-mail apresentado aqui no suporte. Durante cerca de 3 anos que utilizo o app, é a primeira vez que ocorreu um problema assim. No aguardo de orientação!', 'muito bom!', 'Muito pratico bom .e pratico', 'bom', 'muito bom', 'aplicativo ótimo de fácil entendimento.', 'otimo', 'ok muito bom', 'otimo', 'Um incrível perda de tempo e material, me deram uma senha digitei a senha corretamente e mesmo assim bloquearam meu cartão. Esse banco infelizmente sou obrigado a abrir uma conta por que a empresa que trabalho só faz pagamento pelo banco do Brasil, Outra quando vc vai nas agências os gerentes sempre sem educação super ignorantes os agente de portaria pensam que são os donos da agência Eu uso o Bradesco e nunca passei por isso . Agora corro o risco de não receber esse mês por causa da incompet', 'Excelente instituição.', 'eficiente!', 'Minha avaliação está sendo média...... Não estou conseguindo fazer resgate da poupança tendo em vista emissão de cheque para pagamento hoje!?!? Necessito providência urgente!!!', 'Bom', 'O aplicativo do banco do Brasil,mais não É sem porcento digital como eles falam, quase tudo da erro no aplicativo?', 'Muito bom', 'muito bom .', 'Otimo app', 'jessy', 'me atende perfeitamente', 'O app era ótimo até dar um bug e travar todas as senhas que eu fiz achando que eu tinha errado, ma nunca errei em praticamente 8 anos de BB, agora da senha bloqueada e não consigo fazer nada.', 'O melhor app de banco no Brasil :)', 'Porque Nao consigo desbloquear o cartao pelo App ?', 'completo', 'Este aplicativo facilita minha vida, evita estar perdendo tempo em filas e me dar uma melhor qualidade de vida pois em filas só desgaste. Com o aplicativo resolvo tudo da minha casa.', 'ótimo', 'o melhor banco', 'ótimo', 'Normal', 'esse app e muito bom.', 'bom', 'Não consigo negociar as tarifas pendentes, sempre dá erro', 'aplicativos muito bom', 'melhor aplicativo bancario', 'O aplicativo é bom, porém, o leitor de código de barras não lê, sempre há a necessidade de digitar o código de barras.', 'Não consigo abrir a conta pelo App', 'legal', 'Ta ótimo', 'Muito bom Recomendo.', 'Muito bom o aplicativo.', 'Eu tinha dado 5 estrelas, mas de uns dias pra cá estou super insatisfeita com o app do BB, meu app esta bloqueado e nem no caixa eletronico o atendente conseguiu liberar meu app... Horrivel. Estou muito estressada com essa situação. Espero que resolva o problema que está causando esse transtorno.', 'ótimo Aplicativo', 'Muito obrigado vocês estão trabalhando excelentemente e estão me proporcionando uma boa navegação', 'Tudo bloqueado', 'prático e fácil, de acesso.. ferramentas que ter da prazer de manusear.🤗', 'Eu Estou Muito desapontada com o banco do Brasil, Meu filho desmaiou na rua, Procurei um caixa eletrônico as presas pra sacar dinheiro para procurar um hospital. 18 horas da tarde o banco da av presidente médici 39 Osasco,\"fechado\" para uso dos caixas eletrônicos. Passei na frente da caixa econômica tudo funcionando. Detalhe tinha transferido todo dinheiro da caixa pro BB no dia anterior. Se arrependimento matasse.', 'É tudo muito Claro e acho o BBB um dos melhores Banco para se trabalhar com conta e cartões nota 10', 'melhor banco, com melhor app', 'Tenho o aplicativo ourocard e o aplicativo BB, troquei de aparelho e não consigo habilitar o app ourocard. Todas as vezes que tento cadastrar o cartão ele me direciona para o app BB informando para eu habilitar por esse aplicativo, porém, não há nenhum campo que tenha essa função que há um mês tento resolver. Não sou correntista, possuo o cartão petrobras. O aplicativo BB já foi habilitado no autoatendimento mas o ourocard não oferece isso lá.', '😎', 'gegeu', 'Sou cliente do BB a 21 anos, nesse tempo todo tenho boas relação e sou muito bem atendido.', 'Estou a mais de 5 dias tentando transferir, um valor da minha conta salário, para a conta fácil, e não consigo, fui ao caixa eletrônico do BB, tentei de todas as formas sacar e não consegui, no dia seguinte foi descontado da minha conta fácil, 30 reais sem ao menos eu não ter feito nenhum saque. Resumindo tenho o dinheiro mas tenho movimentação limitada dele, preciso transferir da conta salário pra conta fácil pra depois conseguir tranferir é nem assim está dando, é muito menos sacar.', 'gosto do app.. tem uma interface amigável e de fácil utilização.', 'péssima segurança', '👍 E um otimo pode usar. você vai gostar.', 'excelente!', 'Ótimo!😉', 'Ótimo', 'muito bom', 'top !!', 'Acho q meu app ta com algum defeito, n cai dinheiro faz tempo', 'Muito bom, apesar de não haver tão fornecimento de ajuda ou socorro pessoal nesse tempo de pandemia !', 'perfeito para um empreendedor', 'show de bola', 'ótimo', 'otimo', 'muito prático e fácil de usar', 'perfeito ótimo muito bom', 'Bom', 'Excelente!', 'Facilidade para resolver tarefas do dia a dia no mundo financeiro.', 'App maravilhoso! Faço praticamente tudo por ele.', 'show', 'Não tem como recuperar senha sendo conta fácil do banco do Brasil.', 'amo os serviços do banco pena que meu cartão não veio de crédito', 'Aplicativo muito bom..... consigo pagar minhas contas e tudo mais....👏👏👏👏', 'o banco do Brasil é o máximo', 'Eletricista predial', 'Maravilhoso esse aplicativo', 'N da para acessar a conta', 'Não superou minhas expectativas por isso uma estrela e o suficiente', 'Muito útil e fácil de usar.', 'Pra quê tem há opção esqueci senha aí na hora de troca fala que a gente tem uma senha usada há menos de 90 sendo que já tenho o aplicativo há muito tempo e sem conta que bloqueou o meu aplicativo eu nem sei o por quê ?', 'amei', 'Deixa a desejar pois não aumenta o limite independente do tempo que tenha o cartão ou o quanto usa e paga em dia .', 'Tô tentando fazer um upgrade da minha conta e toda hora que vou tirar a foto do documento aparece a sessão expirou ae não dá não gostei', 'Ótimo, fácil de usar', 'Muito bom fácil de mecher', 'muito bom', 'pior banco', 'seguro, eficiente e fácil! instale, use...viva toda comodidade do mundo tecnológico.', 'Muita imposição e mensagens dos bancos para forçar o cliente a cadastrar PIX. Ainda é cedo pra achar que é seguro .', 'Muito bom', 'Ótimo recomendo', 'Aplicativo muito bom nuca tive problema', 'Estou tentando abrir uma conta para meu marido pelo app e não consigo .Quando acesso com o cpf dele o app emite um aviso que ainda está verificando a contratação do serviço e gera um número de protocolo.Ele tinha uma dívida pendente mas já está paga .', 'ótimo app', 'PRATO CHEIO PARA BANDIDO Não sei se é padrão de todos os aplicativos de banco pois só tenho o BB, mas a nivel de sigilo e segurança muito me incomoda ter no layout padrão do aplicativo quando vc abre ele, na área Não Logada sem ter nem ainda inserida a sua senha o sistema no canto inferior esquero ter o MENU Mensagens essa area ser acessível de detalhes sobre transações e valores recebidos em conta! Nao precisa nem o bandido logar no seu celular em caso de roubo ou coação e estorção.', 'Muito bom mesmo', 'otimo', 'tinha que ter mais facilidade pra crédito', 'ótimo aplicativo', 'FORMIDAVEL DE GRANDE AJUDA', 'e um excelente APP recomendo', 'ótimo', 'Muito obrigada app', 'Gostei, ótimo!!!!', 'Não sei direito vi', 'ótimo', 'show', 'Toda hora da erro, não consigo acessar pq da erro pedindo para verificar se o número da conta corrente está certo, desinstalei e instalei de novo o App, agora aparece uma mensagem dizendo, que eu estou tentando acessar uma conta que já foi encerrada.', 'até agora não tenho que reclamar', 'Muito ruim Toda hora q vai entrar tem q coloca agencia e conta', 'ate agora tá bom', 'Estou tentando fazer um upgrade da conta mas sempre dá erro dizendo que o nome do pai é inválido.', 'não consigo simular nada , não abre! Out/2020- Ainda não presta, não é intuitivo e muito menos prático. Informa opções inexistentes.', 'boa', 'Horrível não consigo fazer o primeiro acesso, na hora de criar a senha o app fecha e volta pro início', 'Legal', 'Ótimo app', 'muito bom.', 'App otimo porem tem coisas que podem ser melhorada', 'parabéns', 'Estou tentando ... verificar o controle do meu cartão há 4 meses no app e não consigo já estive na agência e nada foi resolvido..', 'lento, bugado, animações desnecessárias, isso é um software bancário, deveria ser mais sério', 'Estou tentando desbloquear uma senha pelo app porem n me aparece a opção de senhas no app vi em outros aparelhos q tem essa opção assim q entra no meu so tem de mensagens e digital 😡😡😡\\U0001f92c\\U0001f92c\\U0001f92c', 'Esse é o meu Banco, ele é para grandes e pequenos empreendedores.', 'Muito prático!', 'boa', 'Excelência de app, porém deveria ter mais opções para os não correntista, um serviço mais rápido.', 'aplicativo bom gostei', 'top', 'Eu fiz o cartão, fui ao banco liberar e quando eu fui cadastrar a senha de internet deu q a conta/agência/titularidade não existe', 'Excelente app.', 'ótimo', 'Excelente app.', 'boa', 'Muito bom... Não excelente! Do Itaú é bem mais completo!', 'Trabalhar com o banco e excelente. Obrigada', 'Ok', 'Muito bom.. só meio limitado.. o do Bradesco vc faz empréstimo.. libera cheque.. cartoes..etc...', 'ótimo banco', 'Bom aplicativo.', 'Boa', 'Aplicativo muito fácil de navegar... até hoje não tive problemas', 'Minha gerente é nota 1000', 'Por enquanto tudo bem', 'Ótima', 'ótimo', 'muito eficaz e muito bom', 'Agora está muito bom o app gosto muito desse meu cartão de crédito do Banco do Brasil!!', 'Muito bom', 'Excelente, resolvo tudo através do aplicativo.', 'Como eu faço, não consigo acessar minha conta pelo App BB toda vez qui entro na minha conta chega uma mensagem dizendo acesso bloqueado', 'muito bom, aplicativo do BB. Só não pode e deixar o celular ser roubado.', '😍😍😍😍♥️♥️', 'otimo app', 'muito bom... posso resolver tudo sem sair de casa...😊', 'ótimo', 'Muito pratico e acessível. Facil de interagir!', 'boa', 'prático e facil', 'Tá muiiiito chato a cada vez abrir o app e aparecer para cadastrar o pix. Já cliquei que não me lembrem, NÃO QUERO FAZER, mas não adianta. A cada vez que aparece, mais reforça minha ideia de NÃO fazer.', 'Ótimo app recomendo', 'Nao consigo acessar minha conta esta aparecendo invalida. Ate ontem estava tudo normal.', 'Ótimo para o dia dia .', 'bom! somente a dificuldade de credenciamento da senha de 6dígitos.', 'Seguro, prático e acessível.', 'Sempre usei adoro Mais estou com problemas abrir uma conta juridica mais não consigo acessar,o teclado não tem a opção de digitar as letras', 'O app estava tudo de bom mas atualmente eu faço login e ele não segura volta para início sempre assim não estou conseguindo acessar minhas contas', 'boa', 'app n resolve nada. nunca vi tão ruim.', 'Super prático ótimo mesmo!', 'ótimo', 'Bom. Mas tudo pode ser melhorado.', 'otimo app', 'Muito bom', 'otimo', 'Do nada a função poupança deixou de existir no app 🤷🏻\\u200d♀️', 'perfeito pra mim', 'Bom bom', 'muito bom', 'muito bom', 'Ótimo', 'Show', 'Sou autônoma, e não aparece essa opção de Emprego oque eu faço ?', 'carteirabB', 'Pagamento', 'melhora o nível de segurança.', 'bom aplicativo', 'até o momento suprindo o esperado.', 'Péssimo App. Se a ideia era tornar a vida das pessoas mais prática ,falhou,e muito. \\U0001f928 Minha senha foi bloqueada,não sei porque. Só está dificultando a minha vida. Esse App é cheio de mimimi.', 'gostei muito nota 10', 'atende o esperado', 'Tou usando a pouco tempo mais mim parece super bom', 'ótimo', 'A maior burocracia para pagar uma tarifa', 'Olha... infelizmente pra ficar ruim o app ainda falta muito, está travando absurdamente! E agora simplesmente está falando no app que eu não possuo cartões de crédito não mostrando as informações do mesmo! Lamentável', 'muito prático para realizar pagamentos, solicitar empréstimos etc', 'app show', 'Bom, mas tem uma falha que considero GRAVE porque atrapalha o planejamento financeiro. Quando chega nos finais de semana ele ZERA \"falsamente\" as despesas agendadas dando a ideia se que não há compromissos a vencer. Isso já me fez pensar que tinha dinheiro sobrando, usei e acabei entrando no cheque especial sem desejar logo na segunda-feira. Agora, fico mais atento. Mas, deviam corrigir isso.', 'otimo', 'Ok', 'ótimo app!', 'Bomm', 'O banco é ótimo, só que quando eu pago as faturas do BB elas só libera limite depois de três dias.', 'muito bom otimo', 'muito bom esse aplicativo, atende todas as necessidades do cliente.', 'muito bom', 'Sempre atende minhas necessidades.', 'muito fácil de abrir conta e benefícios ótimo gostei', 'Sempre funciona', 'fácil e prático.', 'Aplicativo simples e intuitivo', 'banco confiável', 'muito bom', 'Excelente serviços prestados.', 'Excelente! Muito bom ...', 'ótima', 'muito bom', 'não conseguiram resolver meus problemas apos 4 ou 5 tentativas na agência ...então deixou a desejar sou cliente a mais de 10 anos 😞', 'ótimo', 'Nunca recebi meu cartão 😪 ficar dependendo dos Correios é mesmo que nada', 'ótimo', 'gostei', 'Bom', 'Boa', 'Sou cliente do B B a perder de vista.Hoje, pela tecnologia , não recebemos mais os demonstrativos de nossas contas. Apenas pagamos os valores mensais , sobre serviços , nas , sabendo ou não, querendo ou não, até pela idade , considerada idosa,somos obrigados a nos virarmos do avêsso , quando precisamos resolver certos problemas em nossas contas.Os jovens estão se adaptando , e nós estamos vendo as agências fecharem e o comodismo das empresas, inclusive afastando funcionários, reduzindo -os .', 'ótimo', 'muito bom', 'ótimo aplicativo!', 'Eu espero qui seja bom mais eu ja gostei muito 😁😁😁😁😁', 'muito bom', 'excelente', 'Para mim esta ótimo!!!', 'Excelente', 'bom banco', 'Só não to conseguindo fazer ugrape', 'App ágil e simples de usar!', 'excelente', 'Ótimo app .so tenho uma dúvida essa conta facil digital posso depositar $2.000 de uma vez', 'ok ok', 'Muito facil para navegar', 'Acho que esse app do BB poderia ser mais transparente, com relação ao Brasilprev, com relação aos rendimentos.', '100comparações', 'Péssimo manuseio horrível, não dá pra entender nada', 'Muito bom. Prático e rápido.', 'APP maravilhoso consigo realizar todos meus compromissos sem precisar ir na fila de lotéricas.', 'Muito bom aplicativo rápido demais', 'Excelente!', 'porque não posso ter cartão de crédito', 'Excelente esse banco !.mas ainda não consegui desbloquear meu cartão !..', 'É ótimo', 'Muito bom aplicativo', 'muito bom', 'Bom', 'Otima', 'agência de Lagoa da canoa-AL os parabéns vai para o Marcos pois, ele atende muito bem.', 'ótimo', 'Um banco com seus defeitos e pendências, porém atende ao que é proposto..', 'Excelente app, muito funcional', 'Muito bom', 'ótimo', 'Não consigo criar uma conta, app dando erro.', 'Muito bom', 'Ótimo', 'Top de linha', 'ótimo, fácil de usar', 'Excelente', 'Excelente. Fácil manuseio.', 'muito bom, amei pode baixar', 'muito bom esse aplicativo. parabéns ao B.b.', 'Avaliando pois ta travando sempre', 'Gostaria de saber o email de reclamação do sac é da ouvidoria poderia me enviar é urgente', 'Bom', 'Tá pior do que pensava fui diretamente ao banco abri uma conta e falei pro atendente que queria movimentar pelo app ele não me disse nada de chave hj voltei lá ele me deu a chave e senha cheguei em casa da falha de autentificação inicial já faz um mês que estou tentando movimentar minha conta e nada pow seis não quer que sejamos cliente avisa pq tá difícil fazer qualquer coisa pelo app se for pra mim fica indo ao banco toda vez, já estou com vontade de fechar a conta e procurar outro banco!', 'Eficaz superou minhas expectativas! Obrigada aos criadores do App', 'parece que o app melhorou. Muito bom', 'app é ótimo', 'Satisfeita', 'O app ajuda bastante no acesso e controle da conta. Falta inserir a função aumentar limite do cartão de crédito e da conta igual o app do banco Santander, pois evita o deslocamento do cliente até a agência.', 'ótimo', 'ótimo', 'ótimo banco', 'o melhor Banco', 'ótimo! bem descomplicado', 'muito bom', 'Serve pra receber o Pasep?', 'Aplicativo muito útil no meu dia a dia.', 'Eu dou 5 estrelas para o atendimento o app é otimo', 'Muito bom eu gosto muito simples descomplicado fácil de entender nota 10', 'app muito bom msm', 'ótimo', 'Excelente', 'saldo no app está diferindo do saldo no caixa, na minha opinião é bem grave este erro', 'otimo aplicativo', 'app too', 'É bom,mais ñ oferece um e-mail para enviar documentos com nitidez pq a camera do aplicativo ñ está aceitando as fotos que estou enviando como posso resolver?', 'não consigo ler o código QR para no terminal eletrônico para liberar o uso do aplicativo o código QR aparece todo destorcido', 'muito obrigado', 'péssimo, vergonhoso', 'você é bem atendido, muito prático e rápido, parabéns!!', 'otimo', 'Olá antes eu estava conseguindo acessar minha conta normalmente pelo meu smartphone. Agora está dando erro falando que meu smartphone não está autorizado pra acessar a minha conta! E falando que eu tenho que ir no caixa eletrônico editar minha senha, porque deu esse erro?', 'muito bom facilita meu dia a dia', 'Depois dessa última atualização eu detestei!!! O meu celular não consegue mais ler o RCODE. Também está dando muita instabilidade no sistema. Não gostei!!!!', 'Bom', 'muito útil no meu dia a dia tooop', 'Ótimo', 'muito bom', 'Maravilhoso prático', 'bom', 'Gosto bastante do cartão BB, só daria 5 estrelas se não pagasse anuidade, seria perfeito.', 'Ótimo!!', 'Excelente', 'muito fácil de utilizar.. parabéns', 'so n dou as 5 pq n tem a opçao adiantar parcela e se tem ainda n encontrei de resto adoro o app. É rapido e funciona muito bem', 'ótimo', 'Cadê o histórico da compras não tem relatório quero descrever todas compras.', 'Está péssimo fiz uma transferência ontem e ainda não deu pra sacar já tem mais de 24 horas', 'Otimo Sò Precisa Liberar O Cartao De Crédito', 'muito útil', 'Ótimo APP.', 'eu acho este aplicativo maravilhoso faço tudo por ele nota 1000', 'perfeito, tudo que preciso na palma da mão.', 'ótimo', 'Ótimo', 'Ótimo atendimento. Ótimas taxas', 'muito útil para poder resolver suas pendências.', 'muito satisfeita com o atendimento. Competência e profissionalismo! obrigada.', 'EXCELENTE! ÓTIMO!', 'Péssimo... ícone google pay sumiu! E não consigo adicionar meu cartão de crédito! Lamentável.. o que fizeram? O Cartão de Crédito BB não é mais aceito no google pay? Arrumem isso por favor!', 'Muito bom', 'top', 'Otimo', 'excelente', 'Boa', 'não tem opção cartão de crédito', 'top', 'App excelente', 'maravilhoso esse app super facil de mexer', 'App complexo to tentando abrir uma conta fácil, mais o app não abre e tá dando informações contraditórias as do Banco, sendo q eu fui pessoalmente no banco mostrei o app e fui informada q era uma fraude, e olha q baixe o app da loja do play story agora to com receio pois informei meus dados pessoais', 'excelente', 'excelente', 'excelente ,fácil e pratico!', 'muito bom pela conta obrigado', 'Bom!', 'aplicativo excelente', 'Muito bom', 'Bom', 'otimo', 'Horrível, ao invés de facilitar, acaba sendo atrasando .', 'ótima', 'A meses não consigo acessar o App com frequência. Sempre bloqueiam meu aparelho. Já enviei solicitação de desbloqueio via e-mail a agência 643-2 e não fui atendido. Minhas contas estão atrasando, estou pagando juros pois não consigo fazer operações pelo celular. Não consigo cadastrar no PiX devido ao bloqueio. Sugiro que adotem os mesmos processos de instituições como o Pagbank, Nubank e outros bancos digitais para realização de desbloqueio, pois não posso ir a agência sempre que vocês querem.', 'muito bom', 'Melhor cartao da vida...estão de parabéns sou cliente ha menos de 1 ano e consegui o cartão de crédito. Sou cliente ha mais de 6 anos no banco itau e nunca me liberaram o cartão. Por isso merecem todo meu respeito ao banco do brasil. Sem juros abusivos ❤', 'e um aplicativo de fácil acesso e rápido', 'Primeira experiência, achei tudo de bom.', 'Clasifiquei com 5 estrelas muito embora esteja utilizando pouco, mas pq acredito que td que seja para facilitar a vida do cliente merece nota maxima.', 'primeira vez que tô testando', 'muito prático.', 'bom', 'ótimo', 'Todo dia tarifa pedende Extrato movimento já descontou mais de 40 reais de mim só esse mês tá deixando a deseja por isso uso outros bancos', 'Muito bom. Estou gostando muito de poder usufruir dos serviços do Banco do Brasil.', 'sempre inovando para melhor atender seus clientes', 'show', 'ótimo', 'aplicativo bem funcional e eficienti', 'Bom', 'app muito bom só falta dinheiro na minha conta', 'Só não dá pr a usar o BB crediario', 'simplesmente top', 'tudo facil e organizado para utilizacao', 'Revivendo e aprendendo!', 'Muito bom. Eu gosto do atendimento...', 'maravilhoso... simples e intuitivo 👏❤', 'atendimento excelente', 'Cara o aplicativo e bom mais não sei se e, só; eu que não consigo cadastrar a chave Pix!!! no meu celular mim ajudar a porrr Quando eu conseguir cadastrar o Pix eu volto e dou mais 2 estrelas blz BB.................................', 'Útil, prático e seguro.', 'Ótimo aplicativo, simples e prático.', 'muito bom', 'Top', 'Ótimo', 'Sensacinal', 'recomendo', 'muito bom aprovação rápida porém o aplicativo sempre fica dando erro. precisa melhorar isso', 'muito bom 😊', 'ótimo aplicativo', 'muito bom', 'Bom', 'Um banco com excelente vantagens. Boas soluções on line e ótimo atendimento pela gerência.', 'Obrigada! Teria outro meio de enviar o comprovante de residência? Um e-mail ?', 'otimo', 'pouco intuitivo', 'funciona bem', 'ótimo', 'otimo', 'muito prático e rápido pra abrir pelo celular mesmo!', 'Pior aplicativo que já vi não me bloqueio a senha de acesso a internet de 8 dígitos e simplesmente eu não errei te pede tenta questão de segurança e em questão de um erro ele suspeita de fraude do próprio dono da própria conta já fui desbloquear 5 vezes só esse mês e volto para casa uso o app tranquilo outro dia tá bloqueada', 'bom', 'Estou com problemas não recebo minhas faturas no meu e mail como procedo .', 'O app banco do Brasil e bom mais eu fiz uma transferência por outro banco digital e o banco cobro uma taxa de 2,20 mais eu acho isso errado e eu queria um retorno do banco', 'tem me ajudado e muito.', 'Está travando', 'amei', 'excelente aplicativo gosto muito', 'App ótimo, estou adorando', 'Mais facilidade', 'ótimo banco', 'apps ótimo', 'banco deixa a desejar muito', 'otimo', 'kerlison', 'Marcelo ótimo atendente', 'Muito prático e eficiente.', 'As vezes trava para salvar os comprovantes, mas em geral funciona bem.', 'Bom', 'satisfatória', 'Não estou conseguindo criar uma conta pra mim, e quando chega o link não abre e nem vai direto para a página pra terminar de criar a minha conta', 'app bom', 'Pelo excelente atendimento.', 'um ótimo banco', 'muito bom, gostei demais', 'bom banco', 'Muito bom app', 'Aplicativo muito prático, no entanto, lento.', 'APP Excepcional', 'Simples e objetivo!!!', 'ótimo', 'Por enquanto tudo bem!', 'muito bom', 'ótimo atendimento', 'Muito bom!', 'ótimo', 'fui muito bem atendida gostei do atendimento de Paulo', 'muito bom super recomendo', 'pra mim é o melhor banco pra movimenta a sua conta', 'cheio de bugs pior que a versão anterior. detestei', 'excelente', 'muito bom!!!', 'Aplicativo prático, eficiente e ótimo pra quem precisa de mais facilidade e agilidade.', 'ótimo. gostei', 'Ótimo', 'ótimo Banco', 'Bom. Pode ser melhor.', 'Extremamente eficiente', 'aplicativo maravilhoso BB', 'Muito bom o APP Excelente!', 'Bom app não tive nem problema', 'Otimo sem problemas', 'que bom', 'ótimo aplicativo', 'Aplicativo muito eficiente!', 'Gratidão sempre', 'muito bom!', 'bom e prático', 'Nao consigo abrir uma conta poupanca', 'App bom, pena que não é possível mais pegar senha de atendimento presencial nele, facilitava muito a vida. Volta com esse recurso BB, nunca te pedi nada', 'adoreiiii', 'excelente', 'funcional e fácil de usar', 'Muito bom app', 'um ótimo aplicativo', 'muito bom 😃', 'Muito bom!', 'Ótimo opção', 'Muito bom.', 'ótimo app', 'ótimo', 'muito bom', 'Não tenho do que reclamar,muito bom', 'excelente', 'Muito boa!', 'melhor app', 'muito bom', 'Ótimo', 'prestativo e pratico', 'excelente', 'muito bom', 'muito bom', 'muito bom, top 10', 'Bem prático, fácil de usar e atende as necessidades!', 'ótimo', 'ótimo', 'ótimo atendimento', 'vou passar a usar agora mas já tô gostando', 'Aplicativo horrível , não baixem, principalmente pra quem tem conta fácil , é muito ruim , 10,45 de tarifa , só essa semana eu só fiz 2 Transação e foi cobrado umas 4 vezes 10,45 . Vai roubar o demônio ! Boa tarde.', 'otimo', 'nota 10', 'Este aplicativo do Banco do Brasil é maravilhoso! Perfeito! Faço transferências, pago boleto, recarga de celular, tudo sem taxas. E agora com o Pix, ficará melhor ainda! Super recomendo!', 'Ruim estou tentando em desde ontem , para a liberação do app para meu aparelho só da sessão expirada, sendo q entro no mesmo minuto', 'Excelente e prático em todas as funções', 'ótimo', 'ótimo', 'muito bom atendimento', 'melhor banco de todas os tempos.', 'ótimo', 'O app é bem seguro e pratico.', 'aténdimento excelente, muito prestativos,obs:o rapaz de óculos tem um excelente trabalho, me atendeu super bem, e super educado, tá de parabéns,', 'muito bom', 'otimo atendimento nao demoram processo bem rapido parabéns', 'Muito bom', 'bom', 'Atende plenamente as necessidades.', 'Ok', 'Banco ladrão bloqueia minha conta por erros dos outros e não posso sacar meu dinheiro vcs pode pegar né....', 'ótimo', 'Eu cheguei cadastra meu celular pra ter acesso ao aplicativo mas esses dias no nada fala meu celular não é vinculado ao meu celular pedir mudar a senha mas pedi ir por banco em plena PANDEMIA e complicado resolver isso no banco.', 'o aplicativo muito bom', 'Los a índicesom6 ir pra en i lo en no iililil8 oi l8ĺĺlol lu kkit kilos om', 'Bom', 'Só a tarifa q poderia ser mais baixa, ganho benefícios por ela, más n é nada q sirva pra alguma coisa... tipo descontos nisso e naquilo q nunca uso; más enfim fora isso é sem dúvidas é o melhor banco do Brasil.', 'Satisfeito e fácil de usar', 'Prático e completo', 'é top, um dos melhores que conheço.', 'otimo', 'App ótimo, Atendimento virtual excelente 👏👏👏', 'Não se compara nem de longe ao da caixa. Muito incompleto, poucas opções... Deixa muito a desejar! 👎', 'muito bom', 'Uso o app há mais de 4 anos e nunca me arrependi. Por todas as versões em q passei, o app sempre se mostrou fácil de usar e produtivo. Nunca tive problemas q me impossibilitaram de usá-lo(meu celular é um Galaxy J3 2016). Infelizmente, essas últimas versões estão seguindo tendências dos apps da Google: o app é 70MB e os dados armazenados, \"700MB\". Há um bug visual, no qual a bolinha de inserção de texto não desaparece às vezes, mas nada comprometedor. No mais, excelente app. Não dá pra ficar sem', 'Nota 1.000', 'bom atendimento', 'esse aplicativo tá formidável.', 'excelente navegação e prática.']\n",
            "\n",
            "HOT OFF THE PRESS! HERE ARE SOME NEWLY MINTED, ABSOLUTELY GENUINE REVIEWS!\n",
            "\n",
            "o banco com muita competência,e principalmente quero elogiar funcionário Alex sempre que eu vou na minha agência me trata super bem\n",
            "[[1.20507139e-16 9.50838923e-01 4.91114706e-02 1.13241167e-05\n",
            "  2.65465314e-06 6.47649614e-08 1.43271996e-06 4.94961000e-07\n",
            "  5.20384680e-10 3.60893515e-09 2.85813762e-10 3.50413870e-06\n",
            "  1.85005320e-05 2.58400951e-06 6.91047913e-12 1.08889298e-08\n",
            "  6.17529405e-09 4.48150154e-12 1.07135918e-08 3.36738804e-10\n",
            "  1.34763445e-06 1.41557189e-06 5.51092057e-07 4.68425965e-10\n",
            "  8.56652207e-08 3.43079556e-08 8.01358624e-09 5.94244121e-08\n",
            "  7.11773218e-09 3.39040511e-08 5.72909276e-10 4.12173545e-10\n",
            "  6.51124799e-09 9.93711140e-08 1.04964590e-06 6.98026845e-11\n",
            "  2.52458631e-06 1.68102829e-08 1.98054749e-07 3.06654755e-08\n",
            "  5.17652721e-09 2.82953909e-08 4.78898432e-09 3.55956653e-11\n",
            "  3.27236606e-11 1.02945563e-08 6.23419751e-08 3.15025730e-08\n",
            "  1.61626836e-08 1.17953629e-08 1.13900382e-08 2.77016369e-07\n",
            "  3.20920606e-08 1.07374039e-08 8.42705319e-08 2.18286882e-08\n",
            "  9.22599983e-11 1.57829218e-11 6.32969090e-08 5.37195717e-07\n",
            "  3.65583501e-11 1.61433714e-11 3.90055188e-09 8.42560723e-08\n",
            "  1.33009695e-12 8.01289479e-10 1.94053662e-11 2.02549622e-08\n",
            "  1.93768335e-09 1.93667082e-09 2.93539910e-12 3.75989018e-10\n",
            "  6.26856345e-11 9.65021257e-11 2.02811518e-10 4.29938325e-08\n",
            "  1.14451608e-11 5.87971938e-09 1.67190226e-08 5.59424684e-09\n",
            "  2.14275389e-10 1.66313664e-12 1.65634240e-09 1.03437969e-09\n",
            "  4.43220266e-10 1.47186130e-09 2.13211973e-08 3.51338431e-10\n",
            "  5.31641442e-09 9.21035748e-10 4.11069512e-11 6.47132486e-11\n",
            "  7.76830489e-10 1.74423198e-09 7.50334017e-09 4.52936057e-11\n",
            "  8.56353988e-10 1.03288316e-13 7.83947837e-11 1.52045247e-13\n",
            "  2.55601584e-09 1.25793920e-09 7.29933822e-12 3.09224521e-11\n",
            "  4.00201865e-16 1.63082638e-11 1.83637860e-09 1.16077536e-12\n",
            "  2.05751143e-15 2.76804690e-10 8.61851535e-10 1.79243664e-09\n",
            "  1.07951779e-10 1.50062913e-11 2.27559912e-15 3.94427403e-16\n",
            "  5.16984621e-13 4.42198251e-15 3.03992047e-13 1.94027398e-11\n",
            "  4.20174269e-12 4.60793514e-10 2.71969947e-11 1.50311783e-12\n",
            "  8.98856045e-10 1.15182115e-12 8.17294745e-17 2.69387420e-12\n",
            "  4.95086307e-12 5.10869457e-15 7.48427199e-13 8.63936549e-18\n",
            "  2.93162762e-16 6.02189132e-11 8.52340476e-10 4.30889213e-11\n",
            "  3.17350105e-11 3.60687012e-13 3.34289237e-13 9.80884861e-13\n",
            "  7.61920735e-12 2.26759583e-12 8.13743766e-13 7.73665715e-11\n",
            "  7.16452115e-12 1.49679037e-11 1.47052977e-11 2.67670977e-13\n",
            "  3.18600701e-11 7.08636075e-16 1.24876123e-10 4.04044880e-14\n",
            "  2.69466388e-13 5.05872471e-13 5.74156499e-13 3.20826308e-12\n",
            "  3.52291235e-14 7.77372890e-14 1.53164038e-14 1.43337781e-11\n",
            "  4.95552488e-10 8.11394528e-12 3.51561364e-15 9.08695320e-14\n",
            "  5.53792788e-16 2.89201797e-16 1.52586298e-19 2.58346399e-16\n",
            "  2.13255434e-16 4.20774494e-18 4.48979368e-19 3.19786463e-16\n",
            "  1.72164596e-14 1.81501241e-16 7.09372094e-15 4.49908602e-19\n",
            "  9.11562548e-19 3.33623985e-18]\n",
            " [1.93619789e-14 9.44768846e-01 5.47618121e-02 1.84855759e-04\n",
            "  4.02736259e-05 6.47100251e-07 5.44955310e-06 3.01330874e-06\n",
            "  6.70554812e-09 6.27102708e-08 3.76800591e-09 1.65482616e-05\n",
            "  1.17700314e-04 2.49633322e-05 1.98400116e-10 9.99107073e-08\n",
            "  5.73873571e-08 1.13964636e-10 1.28095223e-07 5.32331645e-09\n",
            "  9.46734326e-06 1.15600424e-05 7.63056960e-06 7.61715935e-09\n",
            "  1.00115449e-06 4.78979075e-07 6.04118426e-08 7.91013747e-07\n",
            "  1.09141524e-07 4.07605597e-07 1.25910464e-08 4.42105375e-09\n",
            "  1.32244224e-07 7.64324682e-07 7.69497365e-06 1.42042522e-09\n",
            "  1.95059238e-05 2.38376316e-07 1.42477563e-06 2.01296203e-07\n",
            "  3.94585697e-08 3.35485510e-07 6.95386504e-08 9.59543556e-10\n",
            "  8.17753365e-10 1.40425058e-07 5.22965820e-07 6.98903250e-07\n",
            "  2.71876246e-07 1.45237877e-07 1.51986939e-07 2.23207098e-06\n",
            "  4.23841129e-07 1.38259423e-07 1.30889225e-06 2.95624801e-07\n",
            "  1.73985681e-09 5.89794880e-10 5.78830623e-07 4.15064005e-06\n",
            "  8.44242898e-10 5.88502580e-10 8.57149445e-08 7.35157357e-07\n",
            "  4.14026730e-11 1.36741791e-08 5.83212700e-10 2.18925450e-07\n",
            "  4.79178510e-08 7.09605033e-08 7.91326102e-11 9.48419210e-09\n",
            "  1.70013670e-09 2.96823388e-09 4.77308282e-09 3.50019775e-07\n",
            "  2.02069486e-10 8.72809096e-08 2.05558706e-07 6.51540404e-08\n",
            "  4.02784162e-09 3.97102316e-11 2.50220484e-08 1.80545641e-08\n",
            "  6.71568579e-09 2.58146571e-08 2.31366585e-07 7.10249193e-09\n",
            "  8.24616109e-08 1.51343205e-08 1.32678279e-09 1.98115857e-09\n",
            "  2.24673844e-08 2.34002009e-08 7.81256659e-08 1.18708599e-09\n",
            "  1.20064891e-08 6.38815303e-12 1.87329907e-09 9.39201061e-12\n",
            "  2.44148310e-08 2.35692514e-08 2.35461289e-10 9.90384219e-10\n",
            "  5.55727881e-14 5.73347814e-10 3.32467813e-08 7.41146589e-11\n",
            "  3.19723658e-13 5.11911047e-09 1.23349677e-08 2.81074630e-08\n",
            "  3.12176773e-09 5.00315678e-10 2.38384697e-13 5.42966246e-14\n",
            "  2.88609761e-11 1.96876139e-13 1.52370044e-11 3.74985071e-10\n",
            "  1.78993598e-10 1.17301928e-08 5.76943826e-10 6.87729734e-11\n",
            "  1.92171523e-08 5.53069292e-11 1.41416623e-14 1.38907746e-10\n",
            "  1.81976767e-10 5.21550685e-13 3.76954787e-11 2.11596072e-15\n",
            "  5.20992653e-14 1.82798898e-09 1.71884000e-08 1.49716350e-09\n",
            "  7.97091837e-10 2.34303549e-11 1.79361560e-11 3.91512933e-11\n",
            "  3.48578499e-10 7.46154874e-11 3.34857038e-11 1.97017780e-09\n",
            "  3.15715509e-10 3.71928599e-10 3.58544971e-10 1.56323218e-11\n",
            "  1.02824493e-09 7.66076249e-14 2.29341968e-09 5.16958481e-12\n",
            "  2.00229347e-11 3.11866366e-11 4.19420436e-11 1.87368412e-10\n",
            "  2.54831703e-12 6.52821547e-12 1.25051000e-12 4.32898772e-10\n",
            "  8.60741878e-09 2.91111607e-10 2.11879396e-13 5.65318148e-12\n",
            "  6.03109210e-14 4.11578222e-14 7.49240148e-17 4.13498141e-14\n",
            "  3.00381668e-14 8.90672296e-16 1.91950940e-16 4.61751778e-14\n",
            "  1.46256054e-12 3.58697447e-14 5.59107990e-13 2.16571674e-16\n",
            "  2.95788114e-16 1.12113641e-15]]\n"
          ],
          "name": "stdout"
        }
      ]
    },
    {
      "cell_type": "code",
      "metadata": {
        "id": "x9XhpRqZMacp",
        "outputId": "9ddce830-7acb-4501-8ae1-a7b0071c832b",
        "colab": {
          "base_uri": "https://localhost:8080/",
          "height": 284
        }
      },
      "source": [
        "classes_list = classes.tolist()\n",
        "for contagem in range(15):\n",
        "  print(contagem, classes_list[contagem].index(np.max(classes[contagem], axis=0, keepdims=True)))"
      ],
      "execution_count": 25,
      "outputs": [
        {
          "output_type": "stream",
          "text": [
            "0 1\n",
            "1 1\n",
            "2 1\n",
            "3 1\n",
            "4 1\n",
            "5 3\n",
            "6 1\n",
            "7 1\n",
            "8 1\n",
            "9 1\n",
            "10 1\n",
            "11 1\n",
            "12 1\n",
            "13 1\n",
            "14 1\n"
          ],
          "name": "stdout"
        }
      ]
    },
    {
      "cell_type": "code",
      "metadata": {
        "id": "mKSjJn_HeliB",
        "outputId": "85735093-f12a-4d93-fc98-f0222d7b8a28",
        "colab": {
          "base_uri": "https://localhost:8080/",
          "height": 72
        }
      },
      "source": [
        "print(reversed_prediction_classes)\n",
        "print(reversed_prediction_classes[2])"
      ],
      "execution_count": 26,
      "outputs": [
        {
          "output_type": "stream",
          "text": [
            "{1: 'Aplicativo', 2: 'Não se aplica', 3: 'Empresa', 4: 'Atendimento', 5: 'Abertura conta fácil', 6: 'Pagamento', 7: 'Transferência', 8: 'Cartão ourocard', 9: 'Senha', 10: 'Leitor de código de barra', 11: 'Liberação de dispositivo', 12: 'Atualização app', 13: 'Tarifa', 14: 'Leitor de cartão', 15: 'Fatura do cartão', 16: 'Cartão de crédito', 17: 'Sms', 18: 'Qr code', 19: 'Upgrade conta fácil', 20: 'Empréstimo', 21: 'Login', 22: 'Fale com seu gerente', 23: 'Cartão', 24: 'Limite', 25: 'Bb code', 26: 'Pagamento de boleto', 27: 'Mensagem', 28: 'Limite de transferência/pagamento', 29: 'Conta', 30: 'Desbloqueio de senha', 31: 'Pagamento de fatura', 32: 'Encerramento de conta', 33: 'Biometria', 34: 'Extrato', 35: 'Limite do cartão', 36: 'Saldo', 37: 'Poupança', 38: 'Investimento', 39: 'Notificações', 40: 'Liberação pagamento/transferência', 41: 'Comprovante', 42: 'Atualização cadastral', 43: 'Cadastro de senha', 44: 'Desbloqueio de cartão', 45: 'Cadastro', 46: 'Recarga de celular', 47: 'Atendimento online', 48: 'Conta salário', 49: 'Pix', 50: 'Depósito', 51: 'Minhas finanças', 52: 'Cdc fgts', 53: 'Limite de movimentação', 54: 'Whatsapp - atendimento', 55: 'Geração de boleto', 56: 'Contestação de compra', 57: 'Pagamento agendado', 58: 'Compartilhamento de comprovante', 59: 'Taxa de juro', 60: 'Cartão virtual', 61: 'Abertura conta pj mei', 62: 'Pacote de serviços', 63: 'Pagamento de empréstimo', 64: 'Pagamento da fatura', 65: 'Conta corrente', 66: 'Selfie', 67: 'Lançamento futuro', 68: 'Personalização app', 69: 'Marketing digital', 70: 'Liberação do cartão', 71: 'Pagamento de ipva', 72: 'Desbloqueio de conta', 73: 'Ted', 74: 'Boleto', 75: 'Depósito de cheque', 76: 'Cartão de débito', 77: 'Débito', 78: 'Consórcio', 79: 'Pontos e vantagens', 80: 'Débito em conta', 81: 'Cartão saraiva', 82: 'Conta poupança', 83: 'Financiamento de imóvel', 84: 'Inss - benefício', 85: 'Saldo da poupança', 86: 'Pasep', 87: 'Simulação de empréstimo', 88: 'Extrato de investimento', 89: 'Extrato de poupança', 90: 'Antecipação de parcelas', 91: 'Extrato de empréstimo', 92: 'Saque', 93: 'Cheque especial', 94: 'Portabilidade', 95: 'Cancelar agendamento de pagamento', 96: 'Fies', 97: 'Web (aapf/aapj)', 98: 'Saque móvel', 99: 'Conta universitária', 100: 'Seguros', 101: 'Financiamento de veículo', 102: 'Brasilprev', 103: 'Resgate da poupança', 104: 'Débito automático de cartão', 105: 'Pendência', 106: 'Avaliação do app', 107: 'Simulação de financiamento', 108: 'Cartão petrobrás', 109: 'Cheque', 110: 'Nfc', 111: 'Renegociação de dívida', 112: 'Recarga de bilhete', 113: 'Bb internacional', 114: 'Bloqueio de cartão', 115: 'Recuperação de senha', 116: 'Cadastramento de contato', 117: 'Saldo do cartão', 118: 'Pagar e receber', 119: 'Western union', 120: 'Fgts', 121: 'Auxílio emergencial', 122: 'Contracheque', 123: 'Amortização de empréstimo/financiamento', 124: 'Favoritar', 125: 'Financiamento', 126: 'Cobrança', 127: 'Reescalonamento de dívida', 128: 'Portabilidade de conta', 129: 'Antecipação de pagamento de fatura', 130: 'Renovação crédito/empréstimo', 131: 'Cancelar agendamento de transferência', 132: 'Liberação do dispositivo', 133: 'Cobrança de dívida', 134: 'Alívio de numerário', 135: 'Informação de imposto de renda', 136: 'Simulação de seguro', 137: 'Cartão dotz', 138: 'Leasing', 139: 'Dda', 140: 'Pagamento de licenciamento', 141: 'Bloqueio de crédito', 142: 'Oferta', 143: 'Extrato de financiamento imobiliário', 144: 'Pagamento de financiamento', 145: 'Push', 146: 'Senha de atendimento', 147: 'Favorito para recarga de celular', 148: 'Tesouro direto', 149: 'Pagamento do boleto', 150: 'Avaliação do atendimento', 151: 'Contestação de débito', 152: 'Serviço de mensagem', 153: 'Extrato de conta salário', 154: 'Dotz', 155: 'Irpf', 156: 'Wallet', 157: 'Débito no cartão', 158: 'Transferência internacional', 159: 'Resgate automático', 160: 'Ourocap', 161: 'Câmbio', 162: 'Cartão pré-pago', 163: 'Liberação do app ourocard', 164: 'Cartão contactless', 165: 'Bb vídeo', 166: 'Saldo de investimentos', 167: 'Pagamento de inss', 168: 'Taa', 169: 'Pis', 170: 'Portabilidade de financiamento', 171: 'Liberação de dispositivo exterior', 172: 'Google pay', 173: 'Promoção/sorteio', 174: 'Extrato de financiamento', 175: 'Assinatura digital', 176: 'Transferência de limite', 177: 'Pos'}\n",
            "Não se aplica\n"
          ],
          "name": "stdout"
        }
      ]
    },
    {
      "cell_type": "code",
      "metadata": {
        "id": "Z1kzk1b6jbWm",
        "outputId": "d25f6ef0-d917-42e9-e4f0-61f93bb6fd5c",
        "colab": {
          "base_uri": "https://localhost:8080/",
          "height": 195
        }
      },
      "source": [
        "lista_predicao = []\n",
        "for item in classes_list:\n",
        "  lista_predicao.append(reversed_prediction_classes[item.index(max(item))])\n",
        "lista_predicao[10:20]"
      ],
      "execution_count": 27,
      "outputs": [
        {
          "output_type": "execute_result",
          "data": {
            "text/plain": [
              "['Aplicativo',\n",
              " 'Aplicativo',\n",
              " 'Aplicativo',\n",
              " 'Aplicativo',\n",
              " 'Aplicativo',\n",
              " 'Aplicativo',\n",
              " 'Aplicativo',\n",
              " 'Aplicativo',\n",
              " 'Aplicativo',\n",
              " 'Aplicativo']"
            ]
          },
          "metadata": {
            "tags": []
          },
          "execution_count": 27
        }
      ]
    },
    {
      "cell_type": "code",
      "metadata": {
        "id": "_ZErw493F1xl",
        "outputId": "af480be1-7f63-4ac7-8be5-a7d1e4d5a7e4",
        "colab": {
          "base_uri": "https://localhost:8080/",
          "height": 375
        }
      },
      "source": [
        "dataset[dataset.columns[3]] = lista_predicao  # Aqui !!!!       # Aqui !!!\n",
        "dataset.head(3)"
      ],
      "execution_count": 28,
      "outputs": [
        {
          "output_type": "execute_result",
          "data": {
            "text/html": [
              "<div>\n",
              "<style scoped>\n",
              "    .dataframe tbody tr th:only-of-type {\n",
              "        vertical-align: middle;\n",
              "    }\n",
              "\n",
              "    .dataframe tbody tr th {\n",
              "        vertical-align: top;\n",
              "    }\n",
              "\n",
              "    .dataframe thead th {\n",
              "        text-align: right;\n",
              "    }\n",
              "</style>\n",
              "<table border=\"1\" class=\"dataframe\">\n",
              "  <thead>\n",
              "    <tr style=\"text-align: right;\">\n",
              "      <th></th>\n",
              "      <th>Responsável</th>\n",
              "      <th>Natureza</th>\n",
              "      <th>Classificação</th>\n",
              "      <th>Produtos/Serviços</th>\n",
              "      <th>Detalhamento</th>\n",
              "      <th>Descrição do Problema</th>\n",
              "      <th>Produtos/Serviços 2</th>\n",
              "      <th>Detalhamento 2</th>\n",
              "      <th>Descrição do Problema 2</th>\n",
              "      <th>Produtos/Serviços 3</th>\n",
              "      <th>Detalhamento 3</th>\n",
              "      <th>Descrição do Problema 3</th>\n",
              "      <th>id</th>\n",
              "      <th>userName</th>\n",
              "      <th>userImage</th>\n",
              "      <th>review</th>\n",
              "      <th>score</th>\n",
              "      <th>thumbsUpCount</th>\n",
              "      <th>appVersion</th>\n",
              "      <th>date</th>\n",
              "      <th>reply</th>\n",
              "      <th>replyDate</th>\n",
              "    </tr>\n",
              "  </thead>\n",
              "  <tbody>\n",
              "    <tr>\n",
              "      <th>0</th>\n",
              "      <td>Automático</td>\n",
              "      <td>Opinião</td>\n",
              "      <td>Elogio</td>\n",
              "      <td>Aplicativo</td>\n",
              "      <td>NaN</td>\n",
              "      <td>NaN</td>\n",
              "      <td>NaN</td>\n",
              "      <td>NaN</td>\n",
              "      <td>NaN</td>\n",
              "      <td>NaN</td>\n",
              "      <td>NaN</td>\n",
              "      <td>NaN</td>\n",
              "      <td>gp:AOqpTOGg0Ev4vB_osA6Vwgrw3LwwPgWNswzhCMkxbIt...</td>\n",
              "      <td>Ketlley Rose</td>\n",
              "      <td>https://play-lh.googleusercontent.com/a-/AOh14...</td>\n",
              "      <td>muito útil pra mim.</td>\n",
              "      <td>4</td>\n",
              "      <td>0</td>\n",
              "      <td>7.29.2.0</td>\n",
              "      <td>2020-10-26 09:28:38</td>\n",
              "      <td>NaN</td>\n",
              "      <td>NaT</td>\n",
              "    </tr>\n",
              "    <tr>\n",
              "      <th>1</th>\n",
              "      <td>Rossato</td>\n",
              "      <td>Opinião</td>\n",
              "      <td>Elogio</td>\n",
              "      <td>Aplicativo</td>\n",
              "      <td>NaN</td>\n",
              "      <td>NaN</td>\n",
              "      <td>NaN</td>\n",
              "      <td>NaN</td>\n",
              "      <td>NaN</td>\n",
              "      <td>NaN</td>\n",
              "      <td>NaN</td>\n",
              "      <td>NaN</td>\n",
              "      <td>gp:AOqpTOGJpbBxSAVeEexyJCkSou2OFbdAUhTK4O5KCsD...</td>\n",
              "      <td>Gabriel Pinheiro</td>\n",
              "      <td>https://play-lh.googleusercontent.com/-pwSaK9q...</td>\n",
              "      <td>👍</td>\n",
              "      <td>5</td>\n",
              "      <td>0</td>\n",
              "      <td>7.29.2.0</td>\n",
              "      <td>2020-10-26 09:25:37</td>\n",
              "      <td>NaN</td>\n",
              "      <td>NaT</td>\n",
              "    </tr>\n",
              "    <tr>\n",
              "      <th>2</th>\n",
              "      <td>Automático</td>\n",
              "      <td>Técnica</td>\n",
              "      <td>Reclamação</td>\n",
              "      <td>Aplicativo</td>\n",
              "      <td>Disponibilidade/Estabilidade</td>\n",
              "      <td>Travamento</td>\n",
              "      <td>NaN</td>\n",
              "      <td>NaN</td>\n",
              "      <td>NaN</td>\n",
              "      <td>NaN</td>\n",
              "      <td>NaN</td>\n",
              "      <td>NaN</td>\n",
              "      <td>gp:AOqpTOHBKSLCpLKrgAY04-Vd2pX5b-xyDpQTxuV0XBd...</td>\n",
              "      <td>jose lucas</td>\n",
              "      <td>https://play-lh.googleusercontent.com/a-/AOh14...</td>\n",
              "      <td>O aplicativo tem muito a melhor, pois as vezes...</td>\n",
              "      <td>3</td>\n",
              "      <td>0</td>\n",
              "      <td>7.29.2.0</td>\n",
              "      <td>2020-10-26 09:22:47</td>\n",
              "      <td>Oi! Li seu comentário, mas não consegui entend...</td>\n",
              "      <td>2020-10-26 08:19:19</td>\n",
              "    </tr>\n",
              "  </tbody>\n",
              "</table>\n",
              "</div>"
            ],
            "text/plain": [
              "  Responsável  ...           replyDate\n",
              "0  Automático  ...                 NaT\n",
              "1     Rossato  ...                 NaT\n",
              "2  Automático  ... 2020-10-26 08:19:19\n",
              "\n",
              "[3 rows x 22 columns]"
            ]
          },
          "metadata": {
            "tags": []
          },
          "execution_count": 28
        }
      ]
    },
    {
      "cell_type": "markdown",
      "metadata": {
        "id": "lBr86mWFSyfT"
      },
      "source": [
        "# Salvando o arquivo em Excel"
      ]
    },
    {
      "cell_type": "code",
      "metadata": {
        "id": "Qrd35i_KHOop"
      },
      "source": [
        "writer = pd.ExcelWriter(\"predicao_gerada.xlsx\")\n",
        "dataset.to_excel(writer, index=False)\n",
        "writer.save()"
      ],
      "execution_count": 29,
      "outputs": []
    }
  ]
}