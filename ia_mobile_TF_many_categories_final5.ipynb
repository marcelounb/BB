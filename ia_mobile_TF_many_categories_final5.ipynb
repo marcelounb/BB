{
  "nbformat": 4,
  "nbformat_minor": 0,
  "metadata": {
    "colab": {
      "name": "ia-mobile-TF-many_categories-final5.ipynb",
      "provenance": [],
      "collapsed_sections": [],
      "toc_visible": true,
      "authorship_tag": "ABX9TyNzuLNwaffOC158viDGWsSt",
      "include_colab_link": true
    },
    "kernelspec": {
      "name": "python3",
      "display_name": "Python 3"
    },
    "accelerator": "GPU"
  },
  "cells": [
    {
      "cell_type": "markdown",
      "metadata": {
        "id": "view-in-github",
        "colab_type": "text"
      },
      "source": [
        "<a href=\"https://colab.research.google.com/github/marcelounb/BB/blob/master/ia_mobile_TF_many_categories_final5.ipynb\" target=\"_parent\"><img src=\"https://colab.research.google.com/assets/colab-badge.svg\" alt=\"Open In Colab\"/></a>"
      ]
    },
    {
      "cell_type": "code",
      "metadata": {
        "id": "sjhfxp81AWKH"
      },
      "source": [
        "# import os\n",
        "# from google.colab import files\n",
        "import pandas as pd\n",
        "import numpy as np\n",
        "import seaborn as sns\n",
        "import matplotlib.pyplot as plt"
      ],
      "execution_count": 2,
      "outputs": []
    },
    {
      "cell_type": "code",
      "metadata": {
        "id": "5Vbude2DAWKJ"
      },
      "source": [
        "import tensorflow as tf\n",
        "\n",
        "# For Tokenizing\n",
        "from tensorflow.keras.preprocessing.text import Tokenizer\n",
        "from tensorflow.keras.preprocessing.sequence import pad_sequences\n",
        "\n",
        "# For N-grams\n",
        "from keras.preprocessing import text"
      ],
      "execution_count": 3,
      "outputs": []
    },
    {
      "cell_type": "markdown",
      "metadata": {
        "id": "iT1qJ8VuAWKK"
      },
      "source": [
        "# Abrindo o arquivo com todo o Dataset para treinamento"
      ]
    },
    {
      "cell_type": "code",
      "metadata": {
        "id": "UYxFXVvjAWKL"
      },
      "source": [
        "path = \"/content/fulldataset.xlsx\""
      ],
      "execution_count": 4,
      "outputs": []
    },
    {
      "cell_type": "code",
      "metadata": {
        "id": "WamslFzzAWKM"
      },
      "source": [
        "dataset = pd.read_excel(path, sheet_name=0, header=0, dtype={'score': np.int32})\n",
        "\n",
        "dataset[dataset.columns[3]] = dataset[dataset.columns[3]].fillna('não se aplica')  # retirando os valores nulos\n",
        "\n",
        "responsavel       = dataset[dataset.columns[0]].tolist()   # Responsável\n",
        "natureza          = dataset[dataset.columns[1]].tolist()   # Natureza\n",
        "classificacao     = dataset[dataset.columns[2]].tolist()   # Classificação\n",
        "produtos_servicos = dataset[dataset.columns[3]].tolist()   # Produtos/Serviços\n",
        "detalhamento      = dataset[dataset.columns[4]].tolist()   # Detalhamento\n",
        "review            = dataset[dataset.columns[15]].tolist()  # review\n",
        "score             = dataset[dataset.columns[16]].tolist()  # score"
      ],
      "execution_count": 5,
      "outputs": []
    },
    {
      "cell_type": "code",
      "metadata": {
        "id": "QVb6AiY3AWKO",
        "outputId": "88d353cc-3805-42bf-b63b-e60208ff6c6f",
        "colab": {
          "base_uri": "https://localhost:8080/"
        }
      },
      "source": [
        "print(list(dataset.columns))"
      ],
      "execution_count": 6,
      "outputs": [
        {
          "output_type": "stream",
          "text": [
            "['Responsável', 'Natureza', 'Classificação', 'Produtos/Serviços', 'Detalhamento', 'Descrição do Problema', 'Produtos/Serviços 2', 'Detalhamento 2', 'Descrição do Problema 2', 'Produtos/Serviços 3', 'Detalhamento 3', 'Descrição do Problema 3', 'id', 'userName', 'userImage', 'review', 'score', 'thumbsUpCount', 'appVersion', 'date', 'reply', 'replyDate']\n"
          ],
          "name": "stdout"
        }
      ]
    },
    {
      "cell_type": "markdown",
      "metadata": {
        "id": "4KCJD5VyAWKQ"
      },
      "source": [
        "# Reduzindo o texto (retirando artigos, pontuacao e conjuncao 'e') - review_reduzida"
      ]
    },
    {
      "cell_type": "code",
      "metadata": {
        "id": "AYwhe88wAWKQ"
      },
      "source": [
        "def reduzir_texto(frases):\n",
        "  frase = ''\n",
        "  for item in frases.lower().split():\n",
        "    if item not in ['a', 'o', 'as', 'os', 'da', 'do', 'das', 'dos', 'e', 'no', 'na', 'em', 'i']:  # retira os artigos e conjuncao 'e'\n",
        "      if item[-1] in ['.', ',', '!', ';' ]:\n",
        "        frase +=str(item[0:-1])+' '  # retira pontuacao\n",
        "      else:\n",
        "        frase +=str(item)+' '\n",
        "\n",
        "  return frase[:-1]"
      ],
      "execution_count": 7,
      "outputs": []
    },
    {
      "cell_type": "code",
      "metadata": {
        "id": "N379uxqmAWKS",
        "outputId": "8e8f7c51-c976-49ad-935b-6c15a6593edc",
        "colab": {
          "base_uri": "https://localhost:8080/"
        }
      },
      "source": [
        "review_reduzida = []\n",
        "for item in review:\n",
        "  review_reduzida.append(reduzir_texto(item))\n",
        "print(review[0:5])\n",
        "print(review_reduzida[0:5])"
      ],
      "execution_count": 8,
      "outputs": [
        {
          "output_type": "stream",
          "text": [
            "['Excelente', 'Muito bom', 'Não estou conseguindo fazer um cartão de crédito para mim Eu só quero Aff já tentei várias vezes fazer o cartão quando eu fui fazer mandou esperar treis dias aí quando eu fui abri o aplicativo para ver se foi aprovado , Táva mandando fazer tudo dinovo', 'Por mais que eu tente não consigo desbloquear o app para transferências', 'Bom aplicativo eu gosto']\n",
            "['excelente', 'muito bom', 'não estou conseguindo fazer um cartão de crédito para mim eu só quero aff já tentei várias vezes fazer cartão quando eu fui fazer mandou esperar treis dias aí quando eu fui abri aplicativo para ver se foi aprovado  táva mandando fazer tudo dinovo', 'por mais que eu tente não consigo desbloquear app para transferências', 'bom aplicativo eu gosto']\n"
          ],
          "name": "stdout"
        }
      ]
    },
    {
      "cell_type": "markdown",
      "metadata": {
        "id": "5T4j4aJiAWKT"
      },
      "source": [
        "# Separando as bases de treinamento e de testes\n",
        "Utilize review ou review_reduzida\n"
      ]
    },
    {
      "cell_type": "code",
      "metadata": {
        "id": "Be8DOtMWAWKU"
      },
      "source": [
        "def dataset_split(dataset_name, training_size):\n",
        "  return dataset_name[0:training_size], dataset_name[training_size:]\n",
        "\n",
        "training_size = int(len(review) * 0.8)  # Separate out the sentences and labels into training and test sets\n",
        "\n",
        "training_sentences, testing_sentences = dataset_split(review_reduzida, training_size)  # Utilize review ou review_reduzida\n",
        "training_labels, testing_labels = dataset_split(classificacao, training_size)  # Aqui - Dataset Escolhido\n",
        "training_score,  testing_score = dataset_split(score, training_size)"
      ],
      "execution_count": 9,
      "outputs": []
    },
    {
      "cell_type": "code",
      "metadata": {
        "id": "WqImCsEaAWKV"
      },
      "source": [
        "def acrescentando_dimensionalidade(listagem):\n",
        "  lista2 = []\n",
        "  for item in listagem:\n",
        "    lista3 = []\n",
        "    lista3.append(item)\n",
        "    lista2.append(lista3)\n",
        "  return lista2"
      ],
      "execution_count": 10,
      "outputs": []
    },
    {
      "cell_type": "code",
      "metadata": {
        "id": "zTqOgIh5AWKX",
        "outputId": "90be0c99-a092-4975-d8fe-845a1663ae3f",
        "colab": {
          "base_uri": "https://localhost:8080/"
        }
      },
      "source": [
        "print(training_score[0:10])"
      ],
      "execution_count": 11,
      "outputs": [
        {
          "output_type": "stream",
          "text": [
            "[1, 1, 1, 1, 1, 1, 1, 1, 1, 1]\n"
          ],
          "name": "stdout"
        }
      ]
    },
    {
      "cell_type": "code",
      "metadata": {
        "id": "MxTJlcQNAWKZ"
      },
      "source": [
        "training_score = acrescentando_dimensionalidade(training_score)  # Acrescentando dimensionalidade a coluna Score\n",
        "testing_score = acrescentando_dimensionalidade(testing_score)    # Acrescentando dimensionalidade a coluna Score"
      ],
      "execution_count": 12,
      "outputs": []
    },
    {
      "cell_type": "code",
      "metadata": {
        "id": "e7VRsRnNAWKd",
        "outputId": "c539b778-49ff-4bad-893e-e24db8e28358",
        "colab": {
          "base_uri": "https://localhost:8080/"
        }
      },
      "source": [
        "print(training_score[0:10])"
      ],
      "execution_count": 13,
      "outputs": [
        {
          "output_type": "stream",
          "text": [
            "[[1], [1], [1], [1], [1], [1], [1], [1], [1], [1]]\n"
          ],
          "name": "stdout"
        }
      ]
    },
    {
      "cell_type": "code",
      "metadata": {
        "id": "ysqL3WNRAWKf",
        "outputId": "f718788d-912c-4f6f-8b77-2f9eadaf8b5a",
        "colab": {
          "base_uri": "https://localhost:8080/"
        }
      },
      "source": [
        "# Tokenizing classificacao\n",
        "tokenizer = Tokenizer(split='@', filters='@')  # Não categoriza novas palavras por causa de espaço ou caracteres especiais\n",
        "tokenizer.fit_on_texts(classificacao)  # Aqui - Dataset Escolhido\n",
        "word_index = tokenizer.word_index\n",
        "print(word_index)\n",
        "prediction_classes = word_index\n",
        "reversed_prediction_classes = {value : key[0].upper() + key[1:] for (key, value) in prediction_classes.items()}\n",
        "print(reversed_prediction_classes)"
      ],
      "execution_count": 14,
      "outputs": [
        {
          "output_type": "stream",
          "text": [
            "{'elogio': 1, 'reclamação': 2, 'crítica': 3, 'neutra': 4, 'dúvida': 5, 'sugestão': 6, 'resposta': 7, 'solicitação': 8}\n",
            "{1: 'Elogio', 2: 'Reclamação', 3: 'Crítica', 4: 'Neutra', 5: 'Dúvida', 6: 'Sugestão', 7: 'Resposta', 8: 'Solicitação'}\n"
          ],
          "name": "stdout"
        }
      ]
    },
    {
      "cell_type": "code",
      "metadata": {
        "id": "I0NoZfS-AWKj"
      },
      "source": [
        "len(word_index)\n",
        "tamanho_classes = len(word_index)+1"
      ],
      "execution_count": 15,
      "outputs": []
    },
    {
      "cell_type": "code",
      "metadata": {
        "id": "LIMUijDxAWKl"
      },
      "source": [
        "def transforming_labels(lista):\n",
        "  temp = []\n",
        "  for item in lista:\n",
        "    temp.append(word_index.get(item.lower()))\n",
        "  return temp"
      ],
      "execution_count": 16,
      "outputs": []
    },
    {
      "cell_type": "code",
      "metadata": {
        "id": "Mc2aEV4MAWKo",
        "outputId": "79f08ef2-7cf1-467f-a480-344deab04926",
        "colab": {
          "base_uri": "https://localhost:8080/"
        }
      },
      "source": [
        "training_labels[0:10]"
      ],
      "execution_count": 17,
      "outputs": [
        {
          "output_type": "execute_result",
          "data": {
            "text/plain": [
              "['Elogio',\n",
              " 'Elogio',\n",
              " 'Reclamação',\n",
              " 'Reclamação',\n",
              " 'Elogio',\n",
              " 'Reclamação',\n",
              " 'Reclamação',\n",
              " 'Reclamação',\n",
              " 'Reclamação',\n",
              " 'Reclamação']"
            ]
          },
          "metadata": {
            "tags": []
          },
          "execution_count": 17
        }
      ]
    },
    {
      "cell_type": "code",
      "metadata": {
        "id": "7fk558uCAWKp",
        "outputId": "c42ef8dd-f175-44c8-8f54-37fc4248028a",
        "colab": {
          "base_uri": "https://localhost:8080/"
        }
      },
      "source": [
        "training_labels = transforming_labels(training_labels)\n",
        "testing_labels = transforming_labels(testing_labels)\n",
        "training_labels[0:20]"
      ],
      "execution_count": 18,
      "outputs": [
        {
          "output_type": "execute_result",
          "data": {
            "text/plain": [
              "[1, 1, 2, 2, 1, 2, 2, 2, 2, 2, 3, 1, 2, 2, 2, 3, 2, 2, 1, 2]"
            ]
          },
          "metadata": {
            "tags": []
          },
          "execution_count": 18
        }
      ]
    },
    {
      "cell_type": "code",
      "metadata": {
        "id": "avYmlylTAWKr",
        "outputId": "de237606-e5f4-4496-ec42-d15ff654b24a",
        "colab": {
          "base_uri": "https://localhost:8080/"
        }
      },
      "source": [
        "# Make labels into numpy arrays for use with the network later\n",
        "training_labels_final = np.array(training_labels)\n",
        "testing_labels_final = np.array(testing_labels)\n",
        "training_labels_final"
      ],
      "execution_count": 19,
      "outputs": [
        {
          "output_type": "execute_result",
          "data": {
            "text/plain": [
              "array([1, 1, 2, ..., 1, 1, 1])"
            ]
          },
          "metadata": {
            "tags": []
          },
          "execution_count": 19
        }
      ]
    },
    {
      "cell_type": "code",
      "metadata": {
        "id": "lr8hSJ_tAWKt",
        "outputId": "cc198ebf-9dff-481f-d766-de37032edae7",
        "colab": {
          "base_uri": "https://localhost:8080/"
        }
      },
      "source": [
        "print(training_sentences[0:5])\n",
        "print(training_labels[0:20], testing_labels[0:20])"
      ],
      "execution_count": 20,
      "outputs": [
        {
          "output_type": "stream",
          "text": [
            "['excelente', 'muito bom', 'não estou conseguindo fazer um cartão de crédito para mim eu só quero aff já tentei várias vezes fazer cartão quando eu fui fazer mandou esperar treis dias aí quando eu fui abri aplicativo para ver se foi aprovado  táva mandando fazer tudo dinovo', 'por mais que eu tente não consigo desbloquear app para transferências', 'bom aplicativo eu gosto']\n",
            "[1, 1, 2, 2, 1, 2, 2, 2, 2, 2, 3, 1, 2, 2, 2, 3, 2, 2, 1, 2] [1, 2, 1, 1, 1, 1, 1, 1, 1, 1, 1, 1, 1, 1, 1, 1, 2, 1, 1, 2]\n"
          ],
          "name": "stdout"
        }
      ]
    },
    {
      "cell_type": "markdown",
      "metadata": {
        "id": "zUcaw4DoAWKu"
      },
      "source": [
        "# Tokenize the dataset\n",
        "Tokenize the dataset"
      ]
    },
    {
      "cell_type": "code",
      "metadata": {
        "id": "9qJU04ZRAWKu"
      },
      "source": [
        "# Tokenizing values\n",
        "vocab_size = 4000\n",
        "embedding_dim = 16\n",
        "max_length = 150\n",
        "oov_tok = \"<OOV>\"\n",
        "\n",
        "tokenizer = Tokenizer(num_words = vocab_size, oov_token=oov_tok)\n",
        "tokenizer.fit_on_texts(training_sentences)\n",
        "sequences = tokenizer.texts_to_sequences(training_sentences)\n",
        "word_index = tokenizer.word_index"
      ],
      "execution_count": 21,
      "outputs": []
    },
    {
      "cell_type": "markdown",
      "metadata": {
        "id": "4stWJV3xAWKw"
      },
      "source": [
        "N-grams (bigrams or trigrams)"
      ]
    },
    {
      "cell_type": "code",
      "metadata": {
        "id": "VzyWjJ6tCIJU"
      },
      "source": [
        "def create_ngram_set(input_list, ngram_value=2):\n",
        "    \"\"\"Extract a set of n-grams from a list of integers.\n",
        "    >>> create_ngram_set([1, 4, 9, 4, 1, 4], ngram_value=2)\n",
        "    {(4, 9), (4, 1), (1, 4), (9, 4)}\n",
        "    >>> create_ngram_set([1, 4, 9, 4, 1, 4], ngram_value=3)\n",
        "    [(1, 4, 9), (4, 9, 4), (9, 4, 1), (4, 1, 4)]\"\"\"\n",
        "\n",
        "    return set(zip(*[input_list[i:] for i in range(ngram_value)]))\n",
        "\n",
        "\n",
        "def add_ngram(sequences, token_indice, ngram_range=2):\n",
        "    \"\"\"Augment the input list of list (sequences) by appending n-grams values.\n",
        "    Example: adding bi-gram\n",
        "    >>> sequences = [[1, 3, 4, 5], [1, 3, 7, 9, 2]]\n",
        "    >>> token_indice = {(1, 3): 1337, (9, 2): 42, (4, 5): 2017}\n",
        "    >>> add_ngram(sequences, token_indice, ngram_range=2)\n",
        "    [[1, 3, 4, 5, 1337, 2017], [1, 3, 7, 9, 2, 1337, 42]]\n",
        "    Example: adding tri-gram\n",
        "    >>> sequences = [[1, 3, 4, 5], [1, 3, 7, 9, 2]]\n",
        "    >>> token_indice = {(1, 3): 1337, (9, 2): 42, (4, 5): 2017, (7, 9, 2): 2018}\n",
        "    >>> add_ngram(sequences, token_indice, ngram_range=3)\n",
        "    [[1, 3, 4, 5, 1337, 2017], [1, 3, 7, 9, 2, 1337, 42, 2018]]\"\"\"\n",
        "    \n",
        "    new_sequences = []\n",
        "    for input_list in sequences:\n",
        "        new_list = input_list[:]\n",
        "        for ngram_value in range(2, ngram_range + 1):\n",
        "            for i in range(len(new_list) - ngram_value + 1):\n",
        "                ngram = tuple(new_list[i:i + ngram_value])\n",
        "                if ngram in token_indice:\n",
        "                    new_list.append(token_indice[ngram])\n",
        "        new_sequences.append(new_list)\n",
        "\n",
        "    return new_sequences"
      ],
      "execution_count": 22,
      "outputs": []
    },
    {
      "cell_type": "code",
      "metadata": {
        "id": "_wUlzzUIAWKx"
      },
      "source": [
        "# N-grams values\n",
        "NGRAN_RANGE = 2"
      ],
      "execution_count": 23,
      "outputs": []
    },
    {
      "cell_type": "code",
      "metadata": {
        "id": "8mf2IIyzDEN2",
        "outputId": "9da315cf-c19f-4320-a502-38c38dc58765",
        "colab": {
          "base_uri": "https://localhost:8080/"
        }
      },
      "source": [
        "if NGRAN_RANGE > 1:\n",
        "    ngram_set = set()\n",
        "    for input_list in sequences:\n",
        "        for i in range(2, NGRAN_RANGE + 1):\n",
        "            set_of_ngram = create_ngram_set(input_list, ngram_value=i)\n",
        "            ngram_set.update(set_of_ngram)\n",
        "    \n",
        "    # Dictionary mapping n-gram token to a unique integer.\n",
        "    # Integer values are greater than max_features in order\n",
        "    # to avoid collision with existing features.        \n",
        "    token_indice = {v: k + vocab_size for k, v in enumerate(ngram_set)}\n",
        "    indice_token = {token_indice[k]: k for k in token_indice}\n",
        "    \n",
        "    # Update vocab_size\n",
        "    vocab_size = np.max(list(indice_token.keys())) + 1\n",
        "    print('Update vocab_size %d' % vocab_size)\n",
        "    \n",
        "    # Augument sequences with the new features\n",
        "    sequences = add_ngram(sequences, token_indice, NGRAN_RANGE)\n",
        "    print(len(sequences), 'sequences')\n",
        "    print('Average train sequence length: %d' % np.mean(list(map(len, sequences))))"
      ],
      "execution_count": 24,
      "outputs": [
        {
          "output_type": "stream",
          "text": [
            "Update vocab_size 101154\n",
            "66064 sequences\n",
            "Average train sequence length: 12\n"
          ],
          "name": "stdout"
        }
      ]
    },
    {
      "cell_type": "markdown",
      "metadata": {
        "id": "CrIADVfEAWKy"
      },
      "source": [
        "Padding"
      ]
    },
    {
      "cell_type": "code",
      "metadata": {
        "id": "QNodzZjKAWKz"
      },
      "source": [
        "trunc_type='post'\n",
        "padding_type='post'\n",
        "\n",
        "padded = pad_sequences(sequences,maxlen=max_length, padding=padding_type, truncating=trunc_type)  #review de treinamento com padding\n",
        "testing_sequences = tokenizer.texts_to_sequences(testing_sentences)\n",
        "testing_padded = pad_sequences(testing_sequences,maxlen=max_length, padding=padding_type, truncating=trunc_type)  #review de treinamento com padding"
      ],
      "execution_count": 25,
      "outputs": []
    },
    {
      "cell_type": "code",
      "metadata": {
        "id": "uU-DKLOhAWK0",
        "outputId": "9f4a0189-6b70-4cc4-d467-fc1c5a2dc949",
        "colab": {
          "base_uri": "https://localhost:8080/"
        }
      },
      "source": [
        "print(padded.shape, testing_padded.shape)"
      ],
      "execution_count": 26,
      "outputs": [
        {
          "output_type": "stream",
          "text": [
            "(66064, 150) (16516, 150)\n"
          ],
          "name": "stdout"
        }
      ]
    },
    {
      "cell_type": "code",
      "metadata": {
        "id": "UPwLzorYAWK2",
        "outputId": "71a2a426-b28d-456a-ed43-e2561d70fe55",
        "colab": {
          "base_uri": "https://localhost:8080/"
        }
      },
      "source": [
        "print(padded[0], '\\n', training_score[0:4])"
      ],
      "execution_count": 27,
      "outputs": [
        {
          "output_type": "stream",
          "text": [
            "[10  0  0  0  0  0  0  0  0  0  0  0  0  0  0  0  0  0  0  0  0  0  0  0\n",
            "  0  0  0  0  0  0  0  0  0  0  0  0  0  0  0  0  0  0  0  0  0  0  0  0\n",
            "  0  0  0  0  0  0  0  0  0  0  0  0  0  0  0  0  0  0  0  0  0  0  0  0\n",
            "  0  0  0  0  0  0  0  0  0  0  0  0  0  0  0  0  0  0  0  0  0  0  0  0\n",
            "  0  0  0  0  0  0  0  0  0  0  0  0  0  0  0  0  0  0  0  0  0  0  0  0\n",
            "  0  0  0  0  0  0  0  0  0  0  0  0  0  0  0  0  0  0  0  0  0  0  0  0\n",
            "  0  0  0  0  0  0] \n",
            " [[1], [1], [1], [1]]\n"
          ],
          "name": "stdout"
        }
      ]
    },
    {
      "cell_type": "code",
      "metadata": {
        "id": "EeHghSzXAWK3",
        "outputId": "6544c6b1-8f17-4744-aa1f-6ec90a40b84a",
        "colab": {
          "base_uri": "https://localhost:8080/"
        }
      },
      "source": [
        "print(len(training_score), len(testing_score))"
      ],
      "execution_count": 28,
      "outputs": [
        {
          "output_type": "stream",
          "text": [
            "66064 16516\n"
          ],
          "name": "stdout"
        }
      ]
    },
    {
      "cell_type": "code",
      "metadata": {
        "id": "mY4w8xTfAWK5",
        "outputId": "9ae0d841-10ac-494c-836e-3a9cef78ed27",
        "colab": {
          "base_uri": "https://localhost:8080/"
        }
      },
      "source": [
        "type(training_score)"
      ],
      "execution_count": 29,
      "outputs": [
        {
          "output_type": "execute_result",
          "data": {
            "text/plain": [
              "list"
            ]
          },
          "metadata": {
            "tags": []
          },
          "execution_count": 29
        }
      ]
    },
    {
      "cell_type": "code",
      "metadata": {
        "id": "Be_MaEhiAWK8",
        "outputId": "4782fbec-603b-473b-dc30-12a5d41ce261",
        "colab": {
          "base_uri": "https://localhost:8080/"
        }
      },
      "source": [
        "training_score = np.asarray(training_score)\n",
        "testing_score = np.asarray(testing_score)\n",
        "print(type(training_score), type(testing_score))"
      ],
      "execution_count": 30,
      "outputs": [
        {
          "output_type": "stream",
          "text": [
            "<class 'numpy.ndarray'> <class 'numpy.ndarray'>\n"
          ],
          "name": "stdout"
        }
      ]
    },
    {
      "cell_type": "markdown",
      "metadata": {
        "id": "-b_AQjeJAWK9"
      },
      "source": [
        "Unindo o Dataset Score ao Dataset_escolhido (Natureza, Produto e Serviço ou Classificação)"
      ]
    },
    {
      "cell_type": "code",
      "metadata": {
        "id": "V5dly2BiAWK-"
      },
      "source": [
        "padded2 = np.append(training_score, padded, axis=1)"
      ],
      "execution_count": 31,
      "outputs": []
    },
    {
      "cell_type": "code",
      "metadata": {
        "id": "hKgzo_jtAWK_"
      },
      "source": [
        "testing_padded2 = np.append(testing_score, testing_padded, axis=1)"
      ],
      "execution_count": 32,
      "outputs": []
    },
    {
      "cell_type": "markdown",
      "metadata": {
        "id": "WniAzJUJAWLA"
      },
      "source": [
        "# Review a Sequence\n",
        "Let's quickly take a look at one of the padded sequences to ensure everything above worked appropriately."
      ]
    },
    {
      "cell_type": "code",
      "metadata": {
        "id": "c4MGbz4NAWLA",
        "outputId": "6d43fc9e-d8b2-4eec-eaaa-013fb4ac878f",
        "colab": {
          "base_uri": "https://localhost:8080/"
        }
      },
      "source": [
        "reverse_word_index = dict([(value, key) for (key, value) in word_index.items()])\n",
        "\n",
        "def decode_review(text):\n",
        "    return ' '.join([reverse_word_index.get(i, 'x') for i in text])\n",
        "\n",
        "print(decode_review(padded[0]))\n",
        "print(training_sentences[0])"
      ],
      "execution_count": 33,
      "outputs": [
        {
          "output_type": "stream",
          "text": [
            "excelente x x x x x x x x x x x x x x x x x x x x x x x x x x x x x x x x x x x x x x x x x x x x x x x x x x x x x x x x x x x x x x x x x x x x x x x x x x x x x x x x x x x x x x x x x x x x x x x x x x x x x x x x x x x x x x x x x x x x x x x x x x x x x x x x x x x x x x x x x x x x x x x x x x x x x\n",
            "excelente\n"
          ],
          "name": "stdout"
        }
      ]
    },
    {
      "cell_type": "markdown",
      "metadata": {
        "id": "WTA8RoVIAWLB"
      },
      "source": [
        "# Train a Basic Sentiment Model with Embeddings"
      ]
    },
    {
      "cell_type": "code",
      "metadata": {
        "id": "2VYuNgy1AWLC"
      },
      "source": [
        "max_length +=1  # Somando 1 do Score"
      ],
      "execution_count": 34,
      "outputs": []
    },
    {
      "cell_type": "code",
      "metadata": {
        "id": "oFJNuD2PAWLD",
        "outputId": "35e54b15-a860-4c87-8295-0942fa073cad",
        "colab": {
          "base_uri": "https://localhost:8080/"
        }
      },
      "source": [
        "# Build a basic sentiment network\n",
        "# Note the embedding layer is first, \n",
        "# and the output is only 1 node as it is either 0 or 1 (negative or positive)\n",
        "model = tf.keras.Sequential([\n",
        "    tf.keras.layers.Embedding(vocab_size, embedding_dim, input_length=max_length),\n",
        "    tf.keras.layers.Flatten(),\n",
        "    tf.keras.layers.Dense(2001, activation='relu'),\n",
        "    tf.keras.layers.Dropout(0.1),\n",
        "    tf.keras.layers.Dense(501, activation='relu'),\n",
        "    tf.keras.layers.Dense(51, activation='relu'),\n",
        "    tf.keras.layers.Dense(tamanho_classes, activation='softmax')\n",
        "])\n",
        "\n",
        "model.compile(loss='sparse_categorical_crossentropy',optimizer='adam',metrics=['accuracy'] )\n",
        "model.summary()"
      ],
      "execution_count": 35,
      "outputs": [
        {
          "output_type": "stream",
          "text": [
            "Model: \"sequential\"\n",
            "_________________________________________________________________\n",
            "Layer (type)                 Output Shape              Param #   \n",
            "=================================================================\n",
            "embedding (Embedding)        (None, 151, 16)           1618464   \n",
            "_________________________________________________________________\n",
            "flatten (Flatten)            (None, 2416)              0         \n",
            "_________________________________________________________________\n",
            "dense (Dense)                (None, 2001)              4836417   \n",
            "_________________________________________________________________\n",
            "dropout (Dropout)            (None, 2001)              0         \n",
            "_________________________________________________________________\n",
            "dense_1 (Dense)              (None, 501)               1003002   \n",
            "_________________________________________________________________\n",
            "dense_2 (Dense)              (None, 51)                25602     \n",
            "_________________________________________________________________\n",
            "dense_3 (Dense)              (None, 9)                 468       \n",
            "=================================================================\n",
            "Total params: 7,483,953\n",
            "Trainable params: 7,483,953\n",
            "Non-trainable params: 0\n",
            "_________________________________________________________________\n"
          ],
          "name": "stdout"
        }
      ]
    },
    {
      "cell_type": "code",
      "metadata": {
        "id": "ZAt19KSfAWLF",
        "outputId": "a4109d00-3f84-4889-80b7-0729707d4593",
        "colab": {
          "base_uri": "https://localhost:8080/"
        }
      },
      "source": [
        "num_epochs = 4\n",
        "hist = model.fit(padded2, training_labels_final, epochs=num_epochs, validation_data=(testing_padded2, testing_labels_final))"
      ],
      "execution_count": 36,
      "outputs": [
        {
          "output_type": "stream",
          "text": [
            "Epoch 1/4\n",
            "2065/2065 [==============================] - 31s 15ms/step - loss: 0.1944 - accuracy: 0.9450 - val_loss: 0.1737 - val_accuracy: 0.9513\n",
            "Epoch 2/4\n",
            "2065/2065 [==============================] - 31s 15ms/step - loss: 0.0847 - accuracy: 0.9735 - val_loss: 0.1784 - val_accuracy: 0.9470\n",
            "Epoch 3/4\n",
            "2065/2065 [==============================] - 31s 15ms/step - loss: 0.0363 - accuracy: 0.9894 - val_loss: 0.2142 - val_accuracy: 0.9368\n",
            "Epoch 4/4\n",
            "2065/2065 [==============================] - 31s 15ms/step - loss: 0.0221 - accuracy: 0.9938 - val_loss: 0.2281 - val_accuracy: 0.9390\n"
          ],
          "name": "stdout"
        }
      ]
    },
    {
      "cell_type": "code",
      "metadata": {
        "id": "1LsisWF0AWLG",
        "outputId": "084480d8-61a4-4329-8f94-2afa5f885d1a",
        "colab": {
          "base_uri": "https://localhost:8080/"
        }
      },
      "source": [
        "scores = model.evaluate(testing_padded2, testing_labels_final, verbose=0)\n",
        "print(\"Baseline Error: %.2f%%\" % (100-scores[1]*100))\n",
        "print(hist.history.keys())"
      ],
      "execution_count": 37,
      "outputs": [
        {
          "output_type": "stream",
          "text": [
            "Baseline Error: 6.10%\n",
            "dict_keys(['loss', 'accuracy', 'val_loss', 'val_accuracy'])\n"
          ],
          "name": "stdout"
        }
      ]
    },
    {
      "cell_type": "code",
      "metadata": {
        "id": "pN_n9a4rAWLH",
        "outputId": "a474dbce-469b-40a9-f093-555ba8c2d2d4",
        "colab": {
          "base_uri": "https://localhost:8080/",
          "height": 573
        }
      },
      "source": [
        "plt.plot(hist.history[ 'accuracy' ])\n",
        "plt.plot(hist.history[ 'val_accuracy' ])\n",
        "plt.title( 'model accuracy' )\n",
        "plt.ylabel( 'accuracy')\n",
        "plt.xlabel( 'epoch' )\n",
        "plt.legend([ 'train' , 'test' ], loc= 'upper left' )\n",
        "plt.show()\n",
        "# summarize history for loss\n",
        "plt.plot(hist.history[ 'loss' ])\n",
        "plt.plot(hist.history[ 'val_loss' ])\n",
        "plt.title( 'model loss' )\n",
        "plt.ylabel( 'loss' )\n",
        "plt.xlabel( 'epoch' )\n",
        "plt.legend([ 'train' , 'test' ], loc= 'upper left' )\n",
        "plt.show()"
      ],
      "execution_count": 38,
      "outputs": [
        {
          "output_type": "display_data",
          "data": {
            "image/png": "[encoded data removed]",
            "text/plain": [
              "<Figure size 432x288 with 1 Axes>"
            ]
          },
          "metadata": {
            "tags": [],
            "needs_background": "light"
          }
        },
        {
          "output_type": "display_data",
          "data": {
            "image/png": "[encoded data removed]",
            "text/plain": [
              "<Figure size 432x288 with 1 Axes>"
            ]
          },
          "metadata": {
            "tags": [],
            "needs_background": "light"
          }
        }
      ]
    },
    {
      "cell_type": "markdown",
      "metadata": {
        "id": "lluiGS5GAWLI"
      },
      "source": [
        "# Novas Predições:"
      ]
    },
    {
      "cell_type": "code",
      "metadata": {
        "id": "T8zqjJF8AWLI"
      },
      "source": [
        "path = \"/content/novoarquivo.xlsx\""
      ],
      "execution_count": 39,
      "outputs": []
    },
    {
      "cell_type": "code",
      "metadata": {
        "id": "lh6uB0FNAWLJ"
      },
      "source": [
        "dataset = pd.read_excel(path, sheet_name=0, header=0, dtype={'score': np.int32})\n",
        "\n",
        "responsavel       = dataset[dataset.columns[0]].tolist()   # Responsável\n",
        "natureza          = dataset[dataset.columns[1]].tolist()   # Natureza\n",
        "classificacao     = dataset[dataset.columns[2]].tolist()   # Classificação\n",
        "produtos_servicos = dataset[dataset.columns[3]].tolist()   # Produtos/Serviços\n",
        "detalhamento      = dataset[dataset.columns[4]].tolist()   # Detalhamento\n",
        "review            = dataset[dataset.columns[15]].tolist()  # review\n",
        "score             = dataset[dataset.columns[16]].tolist()  # score"
      ],
      "execution_count": 40,
      "outputs": []
    },
    {
      "cell_type": "code",
      "metadata": {
        "id": "7yNQ-uG5AWLL",
        "outputId": "4adfdb0c-189f-48a7-b6bc-50d60461d92f",
        "colab": {
          "base_uri": "https://localhost:8080/"
        }
      },
      "source": [
        "# Use the model to predict a review   \n",
        "new_reviews = review\n",
        "\n",
        "print(new_reviews) \n",
        "\n",
        "max_length = 150\n",
        "# Create the sequences\n",
        "new_sequences = tokenizer.texts_to_sequences(new_reviews)"
      ],
      "execution_count": 41,
      "outputs": [
        {
          "output_type": "stream",
          "text": [
            "['muito útil pra mim.', '👍', 'O aplicativo tem muito a melhor, pois as vezes acontece uns bugs, trava.', 'regular', 'ótimo app', 'O melhor App, melhor banco!', 'gostei muito', 'muito bom gostei.', 'prático', 'excelente!', 'o app é bom', 'eletrodo 051 poupança orurcard 00', 'Melhor App do setor bancário. Intuitivo, leve e sempre funciona. Sou fã', 'bom', 'Gostei do APP, bem funcional e fácil de utilizar.', 'muita útil', 'Excelente.', 'o banco com muita competência,e principalmente quero elogiar funcionário Alex sempre que eu vou na minha agência me trata super bem', 'otimo', 'parabenizo ao banco do brasil pela assistência aos seus clientes. e o aplicativo e ótimo', 'simplesmente maravilhoso.', 'Excelente apkicativo', 'muito bom .. facilita demais', 'Aplicativo sem nenhuma crítica a fazer. Só elogio.', 'recomendo', 'muito bom', 'As restrições de valores mas transações praticamente inviabiliza agilidade e efetividade no dia a dia. Vou reduzir o movimento nesta conta e movimentar em outros bancos onde tenho contas. Esses dias tive que fazer um monte de manobras pra conseguir pagar umas contas e transferir dinheiro. Desse jeito é impossível. Obs. : depois da resposta do BB só teve um jeito, que foi reduzir a nota de 2 para 1 estrela.', 'muito bom', 'Ótima', 'Estou amando', 'Bom', 'recomendo!!!', 'está correspondendo as minhas solicitações, ÓTIMO', 'muito bom.gostei muito parabéns 👏👏👏 pelo app....', 'otimo', 'muito bom', 'Excelente', 'O aplicativo é bom, mas poderia ter a opção de acompanhamento e extrato dos contratos de empréstimos e financiamentos e também de adiantamento de parcelas ou abatimento de saldo devedor diretamente pelo aplicativo ao invés de ter de se dirigir a agencias ainda mais nestes tempos de pandemia!', 'O melhor app do mercado!!!', 'pode melhorarv', 'top', 'estou muito satisfeita com aplicativo .', 'Sou correntista desde 1988, amo meu Banco 100% VIP.', 'Bom', 'Agiliza nossa vida diária e nos dá tranquilidade.', 'otimo app', 'Gosto muito da praticidade desse aplicativo....', 'otimo', 'pontualidade, atendimento, rapidez e excelência', 'Aplicativo deu uma piorada drástica nessa última atualização.', 'bom', 'Recomendo', 'App de uso intuitivo! Para mim é o melhor app de banco .', 'ótimo', 'Nao tô conseguindo abrir conta .aperto na opção abrir conta fácil é abre uma página na internet que nem sei da onde sai sendo que já tenho o App instalado no celular', 'Show', 'o aplicativo é bom já o banco físico ... os funcionários da agência Unimart deixa muuuuito a desejar, mal educados, nos desprezam mesmo antes da pandemia, agora com o banco fechado por conta do covid piorou', 'muito burocrático é um app de celular deveria ser mais explicado mais claro é simples', 'excelente aplicativo. muito rápido para abrir. muito prático e intuitivo. top', 'Vcs poderiam ao menos atualizar o aplicativo ao clicar - empréstimo-antecipe seus creditos-saque aniversário ao clicar em antecipe seus creditos da sem possibilidade de contratação então ao menos deixe ao menos conseguir ir pelo menos o que nos queremos aderir No mínimo a antecipação do saque aniversário e uma pagamento garantido então ao menos podemos apenas aderir aí vcs avaliam , fica a dica', 'gostei desde o primeiro login, mas tem muito a melhorar.', 'Atende minhas expectativas', 'Super satisfeito com a facilidade!', 'ótimo', 'Um lixo e', 'Ótimo', 'boa', 'ótimo app pois não precisa ir eu uma agência pra sacar ou pra tranferir no app vc tem tudo isso na sua mão... muito rápido e ficil e pratico', 'ótimo', 'Como faço pra escanear o cartão?', 'muito bom o banco mas quando meu cartão chega.', 'Melhor Banco! Resolvo tudo sem precisar ir na agência.', 'Excelente app. Ótimo para controlar sua vida financeira!', 'Não é possível antecipar parcelas do empréstimo pelo App, outras coisas que só são possíveis pelo 0800 e o chat só funciona em horário comercial e sabado só até meio dia. Por isso dei 4 estrelas.', 'top', 'muito prático e fácil', 'Até agora estou adorando o aplicativo pra mim está sendo super ultil e estou indicando pra minhas clientes e amigas', 'muito bom', 'otimo', 'Bom', 'muito bom. Até o momento serviu as minhas necessidades', 'Ruim', 'Ótimo app', 'Ótimo', 'otimo', 'ótimo app', 'otimo', 'eselent gostei', 'Aplicativo muito bom e facilita a vida dos clientes BB', 'Removeram a opção de adicionar o cartão ao Google Pay, não consigo mais fazer pagamento por aproximação com o celular.', 'Otimo', 'muito bom', 'Muito chato a propaganda do PIX, atrapalha até a utilização do próprio aplicativo.', 'Muito bom, fácil de usar. Gostei.', 'muito bom o melhor app de banco', 'Péssimo', 'Aplicativo ruim. Troquei de celular (android 10) e instalei o app nele. Fui abilitar o QR Code no caixa eletrônico mas quando fui ler com a câmera o código, o app não leu e apareceu distorcida a imagem e o aplicativo não conseguiu ler. O problema é do app do BB pois dos outros bancos funcionou.', 'muito bom', 'Boa', 'Bom', 'Agora consigo fazer tudo, sem sair de casa 🙏', 'ótimo banco !!!!', 'ótimo App, me serve para tudo que preciso!', 'otimo app', 'otimo', 'Excelente', 'Não consigo fazer nenhum pagamento através do aplicativo. Sempre que tento sou notificada com um erro técnico do próprio app. Já atualizei e o erro persiste. Por favor, resolvam isso. O aplicativo existe para dar mais comodidade ao cliente... ainda mais em tempos de pandemia.', 'Ótimo', 'ótimo', 'Muito bom', 'tranquilo', 'muito bom prático e rapido', 'está mim ajudando muito vale a pena', 'Ótimo', 'Péssimo', 'muito bom este aplicativo. só espero que este banco nunca seja privatizado.', 'Não estou conseguindo abrir uma conta fácil pois dá erro no aplicativo o tempo todo', 'Top', 'ótimo', 'bom', 'Já baixei fiz cadastro para o cartão envio os documentos mas nunca tenho resposta, e quando entro no app aparece para eu fazer o processo tudo denovo como eu não estivesse feito nenhuma solicitação.', 'ainda não tive nenhuma experiência este app espero que em breve eu venha ter algumas embreve', 'Esti aplicativo está me ajudando muito e muito bom', 'O app esta um lixo total !! Formatei meu celular .. Agora nao esta dando para pagar nenhum boleto sendo que cadastrei meu numero do celular no caixa eletronico que desbloquei o app.. Agora esta travado.. Sendo que tenho que cadastrar tudo de novo', 'Tá muito bom o aplicativo nota 10.', 'Boa', 'Aff fiz achando que iria ser cartão de crédito super chateada', 'Não consigo ver. Meu saldo na minha conta abaixei o aplicativo ele pede o número da conta e da agência pois fiz isso e na hora da senha não deu tive que ir esqueci a senha e ele pediu pra fazer outra e escanear o cartão mais não deu porque', 'E um aplicativo que veio para ter um relacionamento direto com o gerente isto é muito importante. Sempre tive as respostas no tempo preciso.', 'Não presta pra escanear o cartão', 'ótimo', 'O app esta com problema, só essa semana já bloquearam 3 vezes meu app. E o pior se tudo é que sempre precisa ir até a agência para desbloquear. Sempre que deslizo para baixo para atualizar meu saldo minha conta bloqueia.', 'muito bom prático é fácil de utilizar', 'As taxas para receber notificações são altas demais, outros apps tem essa função gratuita', 'Aplicativo prático para o dia a dia.', 'bom', 'Muito boa', 'Muito bom esse aplicativo você fica por dentro de todas suas finanças o Banco do Brasil está de parabéns...', 'Atende a minha necessidade', 'ótimo', 'parabéns', 'melhor banco e melhor app que existe', 'Sinceramente esse banco já foi melhor. Hoje em dia tão nem aí pros cliente, fora que eles querem cobrar tudo coisa q outros bancos já lhe dar total acesso a conta sem taxa ou anuidade... Banco do BB anda um lixo.. igual ao país.. ridículo.', 'Adorei o App facilita muito...', 'Muito bom', 'muito bom', 'excelente, intuitivo! o melhor app de bancos, sem dúvidas!', 'Muito bom excelente recomendo!!!!', 'A opçao emprestimo fgts não aparece.', 'Meubancooficial', 'ótimo', 'Sempre bem atendido', 'Ótimo, os problemas q/ aparece são resolvidos sem burocracia e o APP, sem problemas, estou muito satisfeita com o B. BRASIL !', 'de parabéns o app, fácil e de rápido acesso.', 'Muito bom', 'bom', 'Muito bom', 'otimo e recomendo', 'SENSACIONAL. MIRABOLANTE ESSE APLICATIVO.', 'legal', 'Excelente ótimo atendimento', 'muito bom', 'FACILIDADE DO BB É TUDO!', 'Excelente performance!', 'Pior banco e pior app. Pedem 666.666 senhas pra tudo. Pra liberar as transações NORMAIS de qualquer conta bancária tem que ir fazendo desafios como se fosse um joguinho da PlayStore, mas se você perder tem que ir na agência desbloquear. Ah, claro, e lá vão pedir algumas das 666.666 senhas. Além do mais tem tarifa pra tudo: tarifa pra transferir dinheiro, tarifa se fizer saque demais, tarifa se fizer saque fora do BB, tarifa pra \"upgrade\" de conta, tarifa de serviços. Façam portabilidade Não usem', 'Aplicativo muito lento ao apresentar o demonstrativo da fatura do cartão de crédito e, também, quando clico nas mensagens de avisos de compras.', 'Péssimo n consigo abrir minha conta....', 'Travou', 'otimo', 'Aplicativo simples e prático de mexer, acesso rápido aos gerentes, enfim, gosto muito!', 'Ótimo App, algumas pessoas não sabem usar e acabam criticando, o App me atende muito em todas as necessidades, não tenho do que reclamar, recomendo.', 'um ótimo app com mais facilidade pra emergência do dia dia.! 👏👏👏👏👏', 'Amei! muito útil', 'Exelente App muito bom', 'ótimo', 'top', 'internet excelente', 'mais ou menos', 'o dinheiro estar sumindo da minha conta,em breve vou fechar essa conta,ficar perdendo dinheiro pra banco é que não vou!', 'simples', 'Não consigo escanear o cartão! 😫', 'Cada vez melhor, bom trabalho.', 'muito atenciosa', 'bom', 'Direto dando erro', 'satisfatório', 'olá, gostaria de saber como abrir a conta pelo App? pois entro no app não tem essa opção. ai entro no site aparece uma página onde diz q tenho q aponta QR code e aponta a câmera do cel. já fiz isso. mas é na câmera normal do celular?', 'Melhorde todos', 'Diarista', 'top', 'recomendo', 'Gostei do banco!!', 'Não aprovam o upgrade na minha conta, já mandei todo tipo de comprovante de residência. Se o comprovante não tiver meu nome, então eu não moro na casa, moro na rua. Vão tomar no cu!', 'sem opinião', 'auto esplicativo e de fácil interação.. estou gostando bastante.', 'boa', 'boa otima', 'muito pratico e f', 'Auto explicativo e de fácil navegação...', 'bom', 'aplicativo otimo', 'Tu como eu preciso!', 'otimo', 'gosto do app', 'Incrivel', 'muito bom app de verdade', 'Ótimo muito bom ô Banco BB tem um ótimo atendimento gosto muito', 'razoável!!!', 'Horrível esse app não consigo nem ter acesso a minhas faturas', 'Excelente app', 'Solicitei o cartão de credito dia 19/10 o app informa que análise é de três dias ÚTEIS, bom hoje já é dia 25 e até agora nada.', 'Ótimo muito bom', 'Fantástica', 'A 6 vezes não consigo ter acesso ao app , sempre pede para desbloquear senha , vou ao banco no caixa eletrônico e desbloqueio , quando vou ao celular diz que está bloqueado , desisto .', 'otimo app', 'Banco completo e facilidade em acessar as funções do app. Super recomendo.', 'muito bom', 'Ao meu ver, corresponde às minha necessidades, a mim está de bom tamaho. GRATIDÃO', 'muito útil a fácil de usar', 'bom ótimo........', 'Bloquearam meu acesso ao aplicativo, já fui no caixa eletrônico fazer alteração de senha, no caixa eletrônico informa q foi alterada com sucesso e quando vou acessar o aplicativo contínua bloqueado. Fazia pagamento do e transferência pelo aplicativo, agora não posso mais, vou cancelar essa conta, pois o banco não me dar mais acessibilidade.', 'perfeito', 'confuso', 'o tino', 'faço tudo com ele muito.pratico', 'ótimo', 'bom', 'Muito bom!!', 'Eficaz', 'facilidade e rapidez no acesso', 'Ótimo', 'ótimo mesmo', 'Acesso constantemente o aplicativo e, atualmente, não estou satisfeito, já que o contato via mensagens está prejudicado, pois fico sem respostas!', 'e otimo esse aplicativo , pena que eu nao consegui antecipar o 13 salario 😥', 'melhor apricativo nota 10', 'gostei do atendimento foi muito ótimo', 'ótimo app. Funcionalidades fáceis e acessíveis a qualquer usuário.', 'Rapaz desde sábado a tarde não entrar no app do banco por q será', 'Bom', 'Ótimo', 'excelente', 'amei o aplicativo tudo que quero fazer ,por ele em casa sem ter que ir na agência eu consigo ex:ver meu saldo, receber pagamento, transferir dinheiro para uma outra conta e etc... muito obrigada por facilitar a minha vida. fiquem com Deus \\U0001f970🤗', 'ótimo', 'Top!!!', 'muito bom', 'muito bom maravilhoso', 'Gosto do banco do Brasil só não gosto das taxas de juros do cartão de crédito que nem uso com tal', 'Não consigo me cadastrar mais nele', 'bom', 'entrega o que eu preciso. nunca travou. Uso a 03 anos.', 'otima', 'Fácil de usar!', 'Ótimo', 'O BB e um dos melhores Banco', 'muito legal', 'ótimo', 'Ótima', 'Tem uma semana que o aplicativo parou de funcionar no meu celular. Já desinstalei e instalei por duas vezes, mesmo assim, aparece a mensagem: Opa, aconteceu um problema de conexão com nosso app, por favor, tente mais tarde. Já venho tentando por uma semana e nada. Já enviei e-mail para o e-mail apresentado aqui no suporte. Durante cerca de 3 anos que utilizo o app, é a primeira vez que ocorreu um problema assim. No aguardo de orientação!', 'muito bom!', 'Muito pratico bom .e pratico', 'bom', 'muito bom', 'aplicativo ótimo de fácil entendimento.', 'otimo', 'ok muito bom', 'otimo', 'Um incrível perda de tempo e material, me deram uma senha digitei a senha corretamente e mesmo assim bloquearam meu cartão. Esse banco infelizmente sou obrigado a abrir uma conta por que a empresa que trabalho só faz pagamento pelo banco do Brasil, Outra quando vc vai nas agências os gerentes sempre sem educação super ignorantes os agente de portaria pensam que são os donos da agência Eu uso o Bradesco e nunca passei por isso . Agora corro o risco de não receber esse mês por causa da incompet', 'Excelente instituição.', 'eficiente!', 'Minha avaliação está sendo média...... Não estou conseguindo fazer resgate da poupança tendo em vista emissão de cheque para pagamento hoje!?!? Necessito providência urgente!!!', 'Bom', 'O aplicativo do banco do Brasil,mais não É sem porcento digital como eles falam, quase tudo da erro no aplicativo?', 'Muito bom', 'muito bom .', 'Otimo app', 'jessy', 'me atende perfeitamente', 'O app era ótimo até dar um bug e travar todas as senhas que eu fiz achando que eu tinha errado, ma nunca errei em praticamente 8 anos de BB, agora da senha bloqueada e não consigo fazer nada.', 'O melhor app de banco no Brasil :)', 'Porque Nao consigo desbloquear o cartao pelo App ?', 'completo', 'Este aplicativo facilita minha vida, evita estar perdendo tempo em filas e me dar uma melhor qualidade de vida pois em filas só desgaste. Com o aplicativo resolvo tudo da minha casa.', 'ótimo', 'o melhor banco', 'ótimo', 'Normal', 'esse app e muito bom.', 'bom', 'Não consigo negociar as tarifas pendentes, sempre dá erro', 'aplicativos muito bom', 'melhor aplicativo bancario', 'O aplicativo é bom, porém, o leitor de código de barras não lê, sempre há a necessidade de digitar o código de barras.', 'Não consigo abrir a conta pelo App', 'legal', 'Ta ótimo', 'Muito bom Recomendo.', 'Muito bom o aplicativo.', 'Eu tinha dado 5 estrelas, mas de uns dias pra cá estou super insatisfeita com o app do BB, meu app esta bloqueado e nem no caixa eletronico o atendente conseguiu liberar meu app... Horrivel. Estou muito estressada com essa situação. Espero que resolva o problema que está causando esse transtorno.', 'ótimo Aplicativo', 'Muito obrigado vocês estão trabalhando excelentemente e estão me proporcionando uma boa navegação', 'Tudo bloqueado', 'prático e fácil, de acesso.. ferramentas que ter da prazer de manusear.🤗', 'Eu Estou Muito desapontada com o banco do Brasil, Meu filho desmaiou na rua, Procurei um caixa eletrônico as presas pra sacar dinheiro para procurar um hospital. 18 horas da tarde o banco da av presidente médici 39 Osasco,\"fechado\" para uso dos caixas eletrônicos. Passei na frente da caixa econômica tudo funcionando. Detalhe tinha transferido todo dinheiro da caixa pro BB no dia anterior. Se arrependimento matasse.', 'É tudo muito Claro e acho o BBB um dos melhores Banco para se trabalhar com conta e cartões nota 10', 'melhor banco, com melhor app', 'Tenho o aplicativo ourocard e o aplicativo BB, troquei de aparelho e não consigo habilitar o app ourocard. Todas as vezes que tento cadastrar o cartão ele me direciona para o app BB informando para eu habilitar por esse aplicativo, porém, não há nenhum campo que tenha essa função que há um mês tento resolver. Não sou correntista, possuo o cartão petrobras. O aplicativo BB já foi habilitado no autoatendimento mas o ourocard não oferece isso lá.', '😎', 'gegeu', 'Sou cliente do BB a 21 anos, nesse tempo todo tenho boas relação e sou muito bem atendido.', 'Estou a mais de 5 dias tentando transferir, um valor da minha conta salário, para a conta fácil, e não consigo, fui ao caixa eletrônico do BB, tentei de todas as formas sacar e não consegui, no dia seguinte foi descontado da minha conta fácil, 30 reais sem ao menos eu não ter feito nenhum saque. Resumindo tenho o dinheiro mas tenho movimentação limitada dele, preciso transferir da conta salário pra conta fácil pra depois conseguir tranferir é nem assim está dando, é muito menos sacar.', 'gosto do app.. tem uma interface amigável e de fácil utilização.', 'péssima segurança', '👍 E um otimo pode usar. você vai gostar.', 'excelente!', 'Ótimo!😉', 'Ótimo', 'muito bom', 'top !!', 'Acho q meu app ta com algum defeito, n cai dinheiro faz tempo', 'Muito bom, apesar de não haver tão fornecimento de ajuda ou socorro pessoal nesse tempo de pandemia !', 'perfeito para um empreendedor', 'show de bola', 'ótimo', 'otimo', 'muito prático e fácil de usar', 'perfeito ótimo muito bom', 'Bom', 'Excelente!', 'Facilidade para resolver tarefas do dia a dia no mundo financeiro.', 'App maravilhoso! Faço praticamente tudo por ele.', 'show', 'Não tem como recuperar senha sendo conta fácil do banco do Brasil.', 'amo os serviços do banco pena que meu cartão não veio de crédito', 'Aplicativo muito bom..... consigo pagar minhas contas e tudo mais....👏👏👏👏', 'o banco do Brasil é o máximo', 'Eletricista predial', 'Maravilhoso esse aplicativo', 'N da para acessar a conta', 'Não superou minhas expectativas por isso uma estrela e o suficiente', 'Muito útil e fácil de usar.', 'Pra quê tem há opção esqueci senha aí na hora de troca fala que a gente tem uma senha usada há menos de 90 sendo que já tenho o aplicativo há muito tempo e sem conta que bloqueou o meu aplicativo eu nem sei o por quê ?', 'amei', 'Deixa a desejar pois não aumenta o limite independente do tempo que tenha o cartão ou o quanto usa e paga em dia .', 'Tô tentando fazer um upgrade da minha conta e toda hora que vou tirar a foto do documento aparece a sessão expirou ae não dá não gostei', 'Ótimo, fácil de usar', 'Muito bom fácil de mecher', 'muito bom', 'pior banco', 'seguro, eficiente e fácil! instale, use...viva toda comodidade do mundo tecnológico.', 'Muita imposição e mensagens dos bancos para forçar o cliente a cadastrar PIX. Ainda é cedo pra achar que é seguro .', 'Muito bom', 'Ótimo recomendo', 'Aplicativo muito bom nuca tive problema', 'Estou tentando abrir uma conta para meu marido pelo app e não consigo .Quando acesso com o cpf dele o app emite um aviso que ainda está verificando a contratação do serviço e gera um número de protocolo.Ele tinha uma dívida pendente mas já está paga .', 'ótimo app', 'PRATO CHEIO PARA BANDIDO Não sei se é padrão de todos os aplicativos de banco pois só tenho o BB, mas a nivel de sigilo e segurança muito me incomoda ter no layout padrão do aplicativo quando vc abre ele, na área Não Logada sem ter nem ainda inserida a sua senha o sistema no canto inferior esquero ter o MENU Mensagens essa area ser acessível de detalhes sobre transações e valores recebidos em conta! Nao precisa nem o bandido logar no seu celular em caso de roubo ou coação e estorção.', 'Muito bom mesmo', 'otimo', 'tinha que ter mais facilidade pra crédito', 'ótimo aplicativo', 'FORMIDAVEL DE GRANDE AJUDA', 'e um excelente APP recomendo', 'ótimo', 'Muito obrigada app', 'Gostei, ótimo!!!!', 'Não sei direito vi', 'ótimo', 'show', 'Toda hora da erro, não consigo acessar pq da erro pedindo para verificar se o número da conta corrente está certo, desinstalei e instalei de novo o App, agora aparece uma mensagem dizendo, que eu estou tentando acessar uma conta que já foi encerrada.', 'até agora não tenho que reclamar', 'Muito ruim Toda hora q vai entrar tem q coloca agencia e conta', 'ate agora tá bom', 'Estou tentando fazer um upgrade da conta mas sempre dá erro dizendo que o nome do pai é inválido.', 'não consigo simular nada , não abre! Out/2020- Ainda não presta, não é intuitivo e muito menos prático. Informa opções inexistentes.', 'boa', 'Horrível não consigo fazer o primeiro acesso, na hora de criar a senha o app fecha e volta pro início', 'Legal', 'Ótimo app', 'muito bom.', 'App otimo porem tem coisas que podem ser melhorada', 'parabéns', 'Estou tentando ... verificar o controle do meu cartão há 4 meses no app e não consigo já estive na agência e nada foi resolvido..', 'lento, bugado, animações desnecessárias, isso é um software bancário, deveria ser mais sério', 'Estou tentando desbloquear uma senha pelo app porem n me aparece a opção de senhas no app vi em outros aparelhos q tem essa opção assim q entra no meu so tem de mensagens e digital 😡😡😡\\U0001f92c\\U0001f92c\\U0001f92c', 'Esse é o meu Banco, ele é para grandes e pequenos empreendedores.', 'Muito prático!', 'boa', 'Excelência de app, porém deveria ter mais opções para os não correntista, um serviço mais rápido.', 'aplicativo bom gostei', 'top', 'Eu fiz o cartão, fui ao banco liberar e quando eu fui cadastrar a senha de internet deu q a conta/agência/titularidade não existe', 'Excelente app.', 'ótimo', 'Excelente app.', 'boa', 'Muito bom... Não excelente! Do Itaú é bem mais completo!', 'Trabalhar com o banco e excelente. Obrigada', 'Ok', 'Muito bom.. só meio limitado.. o do Bradesco vc faz empréstimo.. libera cheque.. cartoes..etc...', 'ótimo banco', 'Bom aplicativo.', 'Boa', 'Aplicativo muito fácil de navegar... até hoje não tive problemas', 'Minha gerente é nota 1000', 'Por enquanto tudo bem', 'Ótima', 'ótimo', 'muito eficaz e muito bom', 'Agora está muito bom o app gosto muito desse meu cartão de crédito do Banco do Brasil!!', 'Muito bom', 'Excelente, resolvo tudo através do aplicativo.', 'Como eu faço, não consigo acessar minha conta pelo App BB toda vez qui entro na minha conta chega uma mensagem dizendo acesso bloqueado', 'muito bom, aplicativo do BB. Só não pode e deixar o celular ser roubado.', '😍😍😍😍♥️♥️', 'otimo app', 'muito bom... posso resolver tudo sem sair de casa...😊', 'ótimo', 'Muito pratico e acessível. Facil de interagir!', 'boa', 'prático e facil', 'Tá muiiiito chato a cada vez abrir o app e aparecer para cadastrar o pix. Já cliquei que não me lembrem, NÃO QUERO FAZER, mas não adianta. A cada vez que aparece, mais reforça minha ideia de NÃO fazer.', 'Ótimo app recomendo', 'Nao consigo acessar minha conta esta aparecendo invalida. Ate ontem estava tudo normal.', 'Ótimo para o dia dia .', 'bom! somente a dificuldade de credenciamento da senha de 6dígitos.', 'Seguro, prático e acessível.', 'Sempre usei adoro Mais estou com problemas abrir uma conta juridica mais não consigo acessar,o teclado não tem a opção de digitar as letras', 'O app estava tudo de bom mas atualmente eu faço login e ele não segura volta para início sempre assim não estou conseguindo acessar minhas contas', 'boa', 'app n resolve nada. nunca vi tão ruim.', 'Super prático ótimo mesmo!', 'ótimo', 'Bom. Mas tudo pode ser melhorado.', 'otimo app', 'Muito bom', 'otimo', 'Do nada a função poupança deixou de existir no app 🤷🏻\\u200d♀️', 'perfeito pra mim', 'Bom bom', 'muito bom', 'muito bom', 'Ótimo', 'Show', 'Sou autônoma, e não aparece essa opção de Emprego oque eu faço ?', 'carteirabB', 'Pagamento', 'melhora o nível de segurança.', 'bom aplicativo', 'até o momento suprindo o esperado.', 'Péssimo App. Se a ideia era tornar a vida das pessoas mais prática ,falhou,e muito. \\U0001f928 Minha senha foi bloqueada,não sei porque. Só está dificultando a minha vida. Esse App é cheio de mimimi.', 'gostei muito nota 10', 'atende o esperado', 'Tou usando a pouco tempo mais mim parece super bom', 'ótimo', 'A maior burocracia para pagar uma tarifa', 'Olha... infelizmente pra ficar ruim o app ainda falta muito, está travando absurdamente! E agora simplesmente está falando no app que eu não possuo cartões de crédito não mostrando as informações do mesmo! Lamentável', 'muito prático para realizar pagamentos, solicitar empréstimos etc', 'app show', 'Bom, mas tem uma falha que considero GRAVE porque atrapalha o planejamento financeiro. Quando chega nos finais de semana ele ZERA \"falsamente\" as despesas agendadas dando a ideia se que não há compromissos a vencer. Isso já me fez pensar que tinha dinheiro sobrando, usei e acabei entrando no cheque especial sem desejar logo na segunda-feira. Agora, fico mais atento. Mas, deviam corrigir isso.', 'otimo', 'Ok', 'ótimo app!', 'Bomm', 'O banco é ótimo, só que quando eu pago as faturas do BB elas só libera limite depois de três dias.', 'muito bom otimo', 'muito bom esse aplicativo, atende todas as necessidades do cliente.', 'muito bom', 'Sempre atende minhas necessidades.', 'muito fácil de abrir conta e benefícios ótimo gostei', 'Sempre funciona', 'fácil e prático.', 'Aplicativo simples e intuitivo', 'banco confiável', 'muito bom', 'Excelente serviços prestados.', 'Excelente! Muito bom ...', 'ótima', 'muito bom', 'não conseguiram resolver meus problemas apos 4 ou 5 tentativas na agência ...então deixou a desejar sou cliente a mais de 10 anos 😞', 'ótimo', 'Nunca recebi meu cartão 😪 ficar dependendo dos Correios é mesmo que nada', 'ótimo', 'gostei', 'Bom', 'Boa', 'Sou cliente do B B a perder de vista.Hoje, pela tecnologia , não recebemos mais os demonstrativos de nossas contas. Apenas pagamos os valores mensais , sobre serviços , nas , sabendo ou não, querendo ou não, até pela idade , considerada idosa,somos obrigados a nos virarmos do avêsso , quando precisamos resolver certos problemas em nossas contas.Os jovens estão se adaptando , e nós estamos vendo as agências fecharem e o comodismo das empresas, inclusive afastando funcionários, reduzindo -os .', 'ótimo', 'muito bom', 'ótimo aplicativo!', 'Eu espero qui seja bom mais eu ja gostei muito 😁😁😁😁😁', 'muito bom', 'excelente', 'Para mim esta ótimo!!!', 'Excelente', 'bom banco', 'Só não to conseguindo fazer ugrape', 'App ágil e simples de usar!', 'excelente', 'Ótimo app .so tenho uma dúvida essa conta facil digital posso depositar $2.000 de uma vez', 'ok ok', 'Muito facil para navegar', 'Acho que esse app do BB poderia ser mais transparente, com relação ao Brasilprev, com relação aos rendimentos.', '100comparações', 'Péssimo manuseio horrível, não dá pra entender nada', 'Muito bom. Prático e rápido.', 'APP maravilhoso consigo realizar todos meus compromissos sem precisar ir na fila de lotéricas.', 'Muito bom aplicativo rápido demais', 'Excelente!', 'porque não posso ter cartão de crédito', 'Excelente esse banco !.mas ainda não consegui desbloquear meu cartão !..', 'É ótimo', 'Muito bom aplicativo', 'muito bom', 'Bom', 'Otima', 'agência de Lagoa da canoa-AL os parabéns vai para o Marcos pois, ele atende muito bem.', 'ótimo', 'Um banco com seus defeitos e pendências, porém atende ao que é proposto..', 'Excelente app, muito funcional', 'Muito bom', 'ótimo', 'Não consigo criar uma conta, app dando erro.', 'Muito bom', 'Ótimo', 'Top de linha', 'ótimo, fácil de usar', 'Excelente', 'Excelente. Fácil manuseio.', 'muito bom, amei pode baixar', 'muito bom esse aplicativo. parabéns ao B.b.', 'Avaliando pois ta travando sempre', 'Gostaria de saber o email de reclamação do sac é da ouvidoria poderia me enviar é urgente', 'Bom', 'Tá pior do que pensava fui diretamente ao banco abri uma conta e falei pro atendente que queria movimentar pelo app ele não me disse nada de chave hj voltei lá ele me deu a chave e senha cheguei em casa da falha de autentificação inicial já faz um mês que estou tentando movimentar minha conta e nada pow seis não quer que sejamos cliente avisa pq tá difícil fazer qualquer coisa pelo app se for pra mim fica indo ao banco toda vez, já estou com vontade de fechar a conta e procurar outro banco!', 'Eficaz superou minhas expectativas! Obrigada aos criadores do App', 'parece que o app melhorou. Muito bom', 'app é ótimo', 'Satisfeita', 'O app ajuda bastante no acesso e controle da conta. Falta inserir a função aumentar limite do cartão de crédito e da conta igual o app do banco Santander, pois evita o deslocamento do cliente até a agência.', 'ótimo', 'ótimo', 'ótimo banco', 'o melhor Banco', 'ótimo! bem descomplicado', 'muito bom', 'Serve pra receber o Pasep?', 'Aplicativo muito útil no meu dia a dia.', 'Eu dou 5 estrelas para o atendimento o app é otimo', 'Muito bom eu gosto muito simples descomplicado fácil de entender nota 10', 'app muito bom msm', 'ótimo', 'Excelente', 'saldo no app está diferindo do saldo no caixa, na minha opinião é bem grave este erro', 'otimo aplicativo', 'app too', 'É bom,mais ñ oferece um e-mail para enviar documentos com nitidez pq a camera do aplicativo ñ está aceitando as fotos que estou enviando como posso resolver?', 'não consigo ler o código QR para no terminal eletrônico para liberar o uso do aplicativo o código QR aparece todo destorcido', 'muito obrigado', 'péssimo, vergonhoso', 'você é bem atendido, muito prático e rápido, parabéns!!', 'otimo', 'Olá antes eu estava conseguindo acessar minha conta normalmente pelo meu smartphone. Agora está dando erro falando que meu smartphone não está autorizado pra acessar a minha conta! E falando que eu tenho que ir no caixa eletrônico editar minha senha, porque deu esse erro?', 'muito bom facilita meu dia a dia', 'Depois dessa última atualização eu detestei!!! O meu celular não consegue mais ler o RCODE. Também está dando muita instabilidade no sistema. Não gostei!!!!', 'Bom', 'muito útil no meu dia a dia tooop', 'Ótimo', 'muito bom', 'Maravilhoso prático', 'bom', 'Gosto bastante do cartão BB, só daria 5 estrelas se não pagasse anuidade, seria perfeito.', 'Ótimo!!', 'Excelente', 'muito fácil de utilizar.. parabéns', 'so n dou as 5 pq n tem a opçao adiantar parcela e se tem ainda n encontrei de resto adoro o app. É rapido e funciona muito bem', 'ótimo', 'Cadê o histórico da compras não tem relatório quero descrever todas compras.', 'Está péssimo fiz uma transferência ontem e ainda não deu pra sacar já tem mais de 24 horas', 'Otimo Sò Precisa Liberar O Cartao De Crédito', 'muito útil', 'Ótimo APP.', 'eu acho este aplicativo maravilhoso faço tudo por ele nota 1000', 'perfeito, tudo que preciso na palma da mão.', 'ótimo', 'Ótimo', 'Ótimo atendimento. Ótimas taxas', 'muito útil para poder resolver suas pendências.', 'muito satisfeita com o atendimento. Competência e profissionalismo! obrigada.', 'EXCELENTE! ÓTIMO!', 'Péssimo... ícone google pay sumiu! E não consigo adicionar meu cartão de crédito! Lamentável.. o que fizeram? O Cartão de Crédito BB não é mais aceito no google pay? Arrumem isso por favor!', 'Muito bom', 'top', 'Otimo', 'excelente', 'Boa', 'não tem opção cartão de crédito', 'top', 'App excelente', 'maravilhoso esse app super facil de mexer', 'App complexo to tentando abrir uma conta fácil, mais o app não abre e tá dando informações contraditórias as do Banco, sendo q eu fui pessoalmente no banco mostrei o app e fui informada q era uma fraude, e olha q baixe o app da loja do play story agora to com receio pois informei meus dados pessoais', 'excelente', 'excelente', 'excelente ,fácil e pratico!', 'muito bom pela conta obrigado', 'Bom!', 'aplicativo excelente', 'Muito bom', 'Bom', 'otimo', 'Horrível, ao invés de facilitar, acaba sendo atrasando .', 'ótima', 'A meses não consigo acessar o App com frequência. Sempre bloqueiam meu aparelho. Já enviei solicitação de desbloqueio via e-mail a agência 643-2 e não fui atendido. Minhas contas estão atrasando, estou pagando juros pois não consigo fazer operações pelo celular. Não consigo cadastrar no PiX devido ao bloqueio. Sugiro que adotem os mesmos processos de instituições como o Pagbank, Nubank e outros bancos digitais para realização de desbloqueio, pois não posso ir a agência sempre que vocês querem.', 'muito bom', 'Melhor cartao da vida...estão de parabéns sou cliente ha menos de 1 ano e consegui o cartão de crédito. Sou cliente ha mais de 6 anos no banco itau e nunca me liberaram o cartão. Por isso merecem todo meu respeito ao banco do brasil. Sem juros abusivos ❤', 'e um aplicativo de fácil acesso e rápido', 'Primeira experiência, achei tudo de bom.', 'Clasifiquei com 5 estrelas muito embora esteja utilizando pouco, mas pq acredito que td que seja para facilitar a vida do cliente merece nota maxima.', 'primeira vez que tô testando', 'muito prático.', 'bom', 'ótimo', 'Todo dia tarifa pedende Extrato movimento já descontou mais de 40 reais de mim só esse mês tá deixando a deseja por isso uso outros bancos', 'Muito bom. Estou gostando muito de poder usufruir dos serviços do Banco do Brasil.', 'sempre inovando para melhor atender seus clientes', 'show', 'ótimo', 'aplicativo bem funcional e eficienti', 'Bom', 'app muito bom só falta dinheiro na minha conta', 'Só não dá pr a usar o BB crediario', 'simplesmente top', 'tudo facil e organizado para utilizacao', 'Revivendo e aprendendo!', 'Muito bom. Eu gosto do atendimento...', 'maravilhoso... simples e intuitivo 👏❤', 'atendimento excelente', 'Cara o aplicativo e bom mais não sei se e, só; eu que não consigo cadastrar a chave Pix!!! no meu celular mim ajudar a porrr Quando eu conseguir cadastrar o Pix eu volto e dou mais 2 estrelas blz BB.................................', 'Útil, prático e seguro.', 'Ótimo aplicativo, simples e prático.', 'muito bom', 'Top', 'Ótimo', 'Sensacinal', 'recomendo', 'muito bom aprovação rápida porém o aplicativo sempre fica dando erro. precisa melhorar isso', 'muito bom 😊', 'ótimo aplicativo', 'muito bom', 'Bom', 'Um banco com excelente vantagens. Boas soluções on line e ótimo atendimento pela gerência.', 'Obrigada! Teria outro meio de enviar o comprovante de residência? Um e-mail ?', 'otimo', 'pouco intuitivo', 'funciona bem', 'ótimo', 'otimo', 'muito prático e rápido pra abrir pelo celular mesmo!', 'Pior aplicativo que já vi não me bloqueio a senha de acesso a internet de 8 dígitos e simplesmente eu não errei te pede tenta questão de segurança e em questão de um erro ele suspeita de fraude do próprio dono da própria conta já fui desbloquear 5 vezes só esse mês e volto para casa uso o app tranquilo outro dia tá bloqueada', 'bom', 'Estou com problemas não recebo minhas faturas no meu e mail como procedo .', 'O app banco do Brasil e bom mais eu fiz uma transferência por outro banco digital e o banco cobro uma taxa de 2,20 mais eu acho isso errado e eu queria um retorno do banco', 'tem me ajudado e muito.', 'Está travando', 'amei', 'excelente aplicativo gosto muito', 'App ótimo, estou adorando', 'Mais facilidade', 'ótimo banco', 'apps ótimo', 'banco deixa a desejar muito', 'otimo', 'kerlison', 'Marcelo ótimo atendente', 'Muito prático e eficiente.', 'As vezes trava para salvar os comprovantes, mas em geral funciona bem.', 'Bom', 'satisfatória', 'Não estou conseguindo criar uma conta pra mim, e quando chega o link não abre e nem vai direto para a página pra terminar de criar a minha conta', 'app bom', 'Pelo excelente atendimento.', 'um ótimo banco', 'muito bom, gostei demais', 'bom banco', 'Muito bom app', 'Aplicativo muito prático, no entanto, lento.', 'APP Excepcional', 'Simples e objetivo!!!', 'ótimo', 'Por enquanto tudo bem!', 'muito bom', 'ótimo atendimento', 'Muito bom!', 'ótimo', 'fui muito bem atendida gostei do atendimento de Paulo', 'muito bom super recomendo', 'pra mim é o melhor banco pra movimenta a sua conta', 'cheio de bugs pior que a versão anterior. detestei', 'excelente', 'muito bom!!!', 'Aplicativo prático, eficiente e ótimo pra quem precisa de mais facilidade e agilidade.', 'ótimo. gostei', 'Ótimo', 'ótimo Banco', 'Bom. Pode ser melhor.', 'Extremamente eficiente', 'aplicativo maravilhoso BB', 'Muito bom o APP Excelente!', 'Bom app não tive nem problema', 'Otimo sem problemas', 'que bom', 'ótimo aplicativo', 'Aplicativo muito eficiente!', 'Gratidão sempre', 'muito bom!', 'bom e prático', 'Nao consigo abrir uma conta poupanca', 'App bom, pena que não é possível mais pegar senha de atendimento presencial nele, facilitava muito a vida. Volta com esse recurso BB, nunca te pedi nada', 'adoreiiii', 'excelente', 'funcional e fácil de usar', 'Muito bom app', 'um ótimo aplicativo', 'muito bom 😃', 'Muito bom!', 'Ótimo opção', 'Muito bom.', 'ótimo app', 'ótimo', 'muito bom', 'Não tenho do que reclamar,muito bom', 'excelente', 'Muito boa!', 'melhor app', 'muito bom', 'Ótimo', 'prestativo e pratico', 'excelente', 'muito bom', 'muito bom', 'muito bom, top 10', 'Bem prático, fácil de usar e atende as necessidades!', 'ótimo', 'ótimo', 'ótimo atendimento', 'vou passar a usar agora mas já tô gostando', 'Aplicativo horrível , não baixem, principalmente pra quem tem conta fácil , é muito ruim , 10,45 de tarifa , só essa semana eu só fiz 2 Transação e foi cobrado umas 4 vezes 10,45 . Vai roubar o demônio ! Boa tarde.', 'otimo', 'nota 10', 'Este aplicativo do Banco do Brasil é maravilhoso! Perfeito! Faço transferências, pago boleto, recarga de celular, tudo sem taxas. E agora com o Pix, ficará melhor ainda! Super recomendo!', 'Ruim estou tentando em desde ontem , para a liberação do app para meu aparelho só da sessão expirada, sendo q entro no mesmo minuto', 'Excelente e prático em todas as funções', 'ótimo', 'ótimo', 'muito bom atendimento', 'melhor banco de todas os tempos.', 'ótimo', 'O app é bem seguro e pratico.', 'aténdimento excelente, muito prestativos,obs:o rapaz de óculos tem um excelente trabalho, me atendeu super bem, e super educado, tá de parabéns,', 'muito bom', 'otimo atendimento nao demoram processo bem rapido parabéns', 'Muito bom', 'bom', 'Atende plenamente as necessidades.', 'Ok', 'Banco ladrão bloqueia minha conta por erros dos outros e não posso sacar meu dinheiro vcs pode pegar né....', 'ótimo', 'Eu cheguei cadastra meu celular pra ter acesso ao aplicativo mas esses dias no nada fala meu celular não é vinculado ao meu celular pedir mudar a senha mas pedi ir por banco em plena PANDEMIA e complicado resolver isso no banco.', 'o aplicativo muito bom', 'Los a índicesom6 ir pra en i lo en no iililil8 oi l8ĺĺlol lu kkit kilos om', 'Bom', 'Só a tarifa q poderia ser mais baixa, ganho benefícios por ela, más n é nada q sirva pra alguma coisa... tipo descontos nisso e naquilo q nunca uso; más enfim fora isso é sem dúvidas é o melhor banco do Brasil.', 'Satisfeito e fácil de usar', 'Prático e completo', 'é top, um dos melhores que conheço.', 'otimo', 'App ótimo, Atendimento virtual excelente 👏👏👏', 'Não se compara nem de longe ao da caixa. Muito incompleto, poucas opções... Deixa muito a desejar! 👎', 'muito bom', 'Uso o app há mais de 4 anos e nunca me arrependi. Por todas as versões em q passei, o app sempre se mostrou fácil de usar e produtivo. Nunca tive problemas q me impossibilitaram de usá-lo(meu celular é um Galaxy J3 2016). Infelizmente, essas últimas versões estão seguindo tendências dos apps da Google: o app é 70MB e os dados armazenados, \"700MB\". Há um bug visual, no qual a bolinha de inserção de texto não desaparece às vezes, mas nada comprometedor. No mais, excelente app. Não dá pra ficar sem', 'Nota 1.000', 'bom atendimento', 'esse aplicativo tá formidável.', 'excelente navegação e prática.']\n"
          ],
          "name": "stdout"
        }
      ]
    },
    {
      "cell_type": "code",
      "metadata": {
        "id": "hh7bph0fH55T",
        "outputId": "96052d20-8aa8-4720-98e0-24e5f5c0a9d2",
        "colab": {
          "base_uri": "https://localhost:8080/"
        }
      },
      "source": [
        "if NGRAN_RANGE > 1:\n",
        "  temp_list_final = []\n",
        "  for item in new_sequences:\n",
        "    # print(item)\n",
        "    temp_list, temp_list2 = [], []\n",
        "    for each in item:\n",
        "      # print('--', each)\n",
        "      if len(temp_list)==0:\n",
        "        primeiro_item = each  # Primeira vez que passa\n",
        "        temp_list.append(each)\n",
        "      else:\n",
        "        tupla = (primeiro_item, each)\n",
        "        if token_indice.get(tupla) is not None:\n",
        "          temp_list2.append(token_indice.get(tupla))\n",
        "        temp_list.append(each)\n",
        "        primeiro_item = each\n",
        "    temp_list = temp_list + temp_list2\n",
        "    temp_list_final.append(temp_list)\n",
        "    # print(temp_list)\n",
        "  print(temp_list_final)\n",
        "  new_sequences = temp_list_final"
      ],
      "execution_count": 42,
      "outputs": [
        {
          "output_type": "stream",
          "text": [
            "[[2, 75, 28, 102, 97216, 9657, 31829], [244], [488, 6, 32, 2, 647, 21, 115, 2141, 146, 751, 613, 720, 206, 98655, 48153, 14578, 52190, 45997, 44908, 7702, 87518], [1164], [7, 5, 52186], [488, 21, 5, 21, 14, 79098, 68920, 36234, 59863], [46, 2, 52468], [2, 3, 46, 31563, 65150], [12], [10], [488, 5, 11, 3, 86083, 71926, 74106], [1, 1, 272, 1, 626, 75745, 80393, 51388, 54283], [21, 5, 2009, 1993, 383, 101, 394, 226, 50, 85, 152, 1649, 68920, 47259, 40634, 62967, 70467, 85825, 48521, 17941], [3], [46, 2009, 5, 22, 97, 226, 13, 4, 174, 23677, 86257, 8816, 48827, 20135, 73523], [141, 75], [10], [488, 14, 16, 141, 3322, 226, 255, 209, 1722, 1225, 1, 50, 8, 23, 124, 2105, 24, 82, 30, 2292, 74, 22, 5073, 33255, 79169, 72638, 9839, 25683, 56135, 20536, 80577, 38813, 60414, 85334, 86497, 28552], [40], [2765, 55, 14, 2009, 66, 252, 2331, 264, 497, 311, 226, 488, 6, 226, 7, 66392, 88860, 72963, 39941, 75018, 56005, 98655, 35990, 27039], [248, 113, 35406], [10, 1, 21038], [2, 3, 63, 137, 31563, 45539, 91168], [6, 29, 347, 3859, 647, 33, 48, 3930, 17336, 48810, 63574], [58], [2, 3, 31563], [2141, 2478, 4, 689, 42, 122, 319, 1, 325, 226, 1, 1130, 47, 647, 47, 124, 3485, 488, 1575, 764, 19, 226, 777, 1377, 153, 118, 290, 49, 112, 1230, 164, 119, 8, 33, 20, 1846, 4, 1, 28, 419, 109, 896, 112, 226, 489, 175, 239, 513, 11, 749, 2152, 157, 1511, 416, 2009, 41, 48, 1365, 20, 513, 8, 99, 3485, 647, 133, 4, 356, 15, 407, 532, 15083, 70923, 86211, 24517, 42029, 5475, 36045, 80309, 7130, 92879, 76898, 80658, 51821, 57310, 90414, 9841, 6048, 89424, 18721, 96949, 26037, 99780, 97271, 8457, 65804, 44989, 40605, 45563, 46751, 22323, 30209, 82790, 91162, 66904, 63075, 82866, 63278, 61654, 31785, 23253, 44796, 72865, 78770, 93972], [2, 3, 31563], [71], [35, 514, 46844], [3], [58], [45, 1, 2141, 38, 1211, 7, 12029, 29486, 85854], [2, 3, 46, 2, 53, 470, 39, 5, 31563, 65150, 52468, 96570, 19360, 6402], [40], [2, 3, 31563], [10], [488, 6, 11, 3, 42, 187, 86, 647, 126, 4, 2005, 226, 265, 1, 1, 4, 579, 226, 2747, 226, 254, 4, 1706, 4, 719, 117, 1, 4, 190, 2616, 1388, 39, 6, 55, 1273, 4, 86, 4, 57, 1826, 647, 2216, 94, 18, 2232, 452, 4, 148, 98655, 46009, 74106, 14704, 85701, 43677, 29367, 62101, 17875, 75745, 41529, 32998, 60052, 50964, 56428, 33814, 42281, 20168, 78912, 41529, 66567, 57406, 44178, 78761, 81437, 68490, 90003, 46487, 48298, 73741, 25317, 78955, 72341, 51837], [488, 21, 5, 2009, 799, 79098, 68920, 47259], [199, 1, 96956], [64], [35, 2, 186, 16, 6, 76630, 49655, 81407, 39296], [152, 494, 270, 1, 196, 37, 14, 353, 3367, 66086, 93477, 16800, 13425, 92867, 85485], [3], [610, 276, 56, 1723, 226, 179, 159, 796, 19729, 81192, 15367, 57294, 98254], [40, 5, 16619], [80, 2, 1511, 131, 239, 6, 91519, 100223, 86589, 13386, 100005], [40], [1, 69, 327, 226, 894, 56880, 77847], [6, 335, 31, 1, 1, 444, 392, 208, 83183, 35502, 92330, 75745, 57191, 31473, 69626], [3], [58], [5, 4, 84, 101, 15, 102, 11, 488, 21, 5, 4, 14, 55841, 65028, 88548, 78427, 68198, 5733, 79098, 68920, 55841, 31428], [7], [81, 295, 203, 111, 19, 1924, 2105, 126, 111, 19, 13, 11, 391, 31, 1302, 2105, 348, 8, 121, 257, 1511, 290, 555, 155, 8, 60, 49, 488, 5, 1533, 1130, 114, 69395, 4274, 58662, 94821, 58662, 67061, 29087, 33618, 50188, 22972, 91634, 40309, 72632, 60381, 30760, 86083, 50212], [150], [488, 6, 11, 3, 60, 488, 14, 740, 3114, 614, 1511, 82, 1, 366, 1, 647, 564, 1110, 1851, 179, 1, 83, 307, 1511, 148, 61, 16, 488, 14, 2695, 26, 19, 2009, 1104, 2264, 98655, 46009, 74106, 32821, 5073, 8383, 87914, 11912, 73682, 15018, 14924, 32204, 53432, 85538, 49975, 54440, 57282, 15385, 5073, 28468], [2, 1023, 11, 20, 5, 4, 114, 259, 105, 18, 876, 18, 385, 11, 62, 95865, 91772, 7646, 41096, 55841, 29188, 31817, 80007, 77241, 44944, 11497, 13843, 43363], [10, 6, 2, 34, 15, 111, 2, 12, 226, 101, 64, 30035, 36879, 5047, 29027, 59141, 87467, 84572], [389, 554, 55, 322, 406, 488, 6, 55, 1198, 409, 1, 497, 1, 668, 1601, 55, 1198, 1377, 1, 497, 1, 1511, 29, 940, 4, 3156, 381, 55, 322, 1, 55, 322, 419, 67, 39, 322, 488, 8, 179, 2080, 3268, 1130, 2856, 647, 1602, 2009, 668, 1601, 226, 31, 116, 1, 381, 55, 322, 785, 318, 3268, 355, 389, 1, 171, 647, 1705, 67177, 65979, 98655, 78761, 33770, 32386, 25763, 27893, 56300, 27387, 33770, 4647, 25763, 27893, 6419, 29368, 5379, 65979, 40257, 93757, 65979, 81337, 26655, 100283, 27387, 30530, 51071, 31476, 65979, 46406, 60472, 74192], [46, 270, 488, 773, 1306, 42, 32, 2, 647, 169, 45823, 14578, 52190], [51, 38, 211, 41484, 65892], [74, 161, 16, 647, 125, 96562, 38447], [7], [20, 571, 226, 14066], [7], [36], [7, 5, 115, 9, 151, 67, 23, 31, 82, 28, 526, 117, 28, 3115, 1130, 5, 225, 32, 17, 91, 2105, 306, 202, 2, 34, 226, 1, 226, 107, 52186, 75449, 73563, 99236, 73223, 95044, 14532, 44227, 98360, 51741, 18886, 51572, 50956, 8996, 37701, 98382, 74921, 5047, 56344, 5475, 21126], [7], [73, 79, 28, 427, 488, 43, 46199, 45088, 37035], [2, 3, 488, 14, 42, 88, 37, 43, 404, 31563, 88458, 5073, 87761, 28195, 79567, 40182, 85215], [21, 14, 129, 17, 29, 166, 67, 2105, 82, 59863, 79984, 71655, 44106, 62708, 20623], [10, 5, 7, 15, 1137, 306, 56, 504, 67860, 18111, 73885, 28136, 61758, 5484, 31825], [9, 11, 358, 1576, 719, 2009, 409, 39, 5, 402, 184, 8, 48, 218, 2276, 39, 2444, 226, 488, 271, 48, 85, 1377, 974, 2724, 226, 1, 48, 52, 455, 47, 26, 91, 725, 512, 183, 18343, 96724, 26449, 9227, 27928, 43673, 6402, 32792, 68206, 68959, 6537, 42935, 14229, 43052, 68554, 5475, 81281, 32130, 69219, 60071, 56937, 43612, 22249], [64], [2, 12, 226, 13, 87467, 84572, 48827], [52, 61, 35, 747, 488, 6, 28, 102, 45, 155, 74, 1782, 226, 35, 3747, 28, 38, 311, 226, 1, 88827, 26482, 64936, 98655, 4784, 31829, 95053, 32295, 91332, 7731, 101074, 75931, 56005, 5475], [2, 3, 31563], [40], [3], [2, 3, 52, 488, 130, 2326, 2141, 38, 65, 31563, 29318, 29486, 56826], [180], [7, 5, 52186], [7], [40], [7, 5, 52186], [40], [1, 46, 95879], [6, 2, 3, 226, 63, 647, 56, 1, 311, 41, 36879, 31563, 95149, 44621, 89046, 78930, 42819], [1, 647, 126, 4, 1480, 488, 43, 55, 2542, 1, 9, 25, 18, 33, 116, 26, 3889, 16, 488, 114, 15018, 29367, 62101, 62033, 57578, 80021, 72236, 36435, 60095, 68435, 85786, 74195, 10555, 15385], [40], [2, 3, 31563], [2, 1068, 647, 2161, 2009, 1493, 1916, 52, 647, 331, 2009, 629, 6, 13882, 60327], [2, 3, 13, 4, 27, 46, 31563, 41394, 20135, 87321, 48093], [2, 3, 488, 21, 5, 4, 14, 31563, 88458, 79098, 68920, 55841, 31428], [200], [6, 180, 814, 4, 114, 1220, 139, 226, 646, 488, 5, 480, 145, 3046, 488, 410, 323, 1130, 135, 213, 42, 88, 145, 630, 16, 647, 884, 488, 192, 488, 5, 9, 3072, 226, 979, 2959, 647, 1072, 226, 488, 6, 9, 1598, 630, 488, 89, 11, 2009, 5, 2009, 41, 115, 1, 153, 118, 975, 35316, 52892, 29188, 38986, 86083, 79007, 31243, 29640, 34789, 6158, 21489, 28195, 9131, 98598, 92246, 86083, 97043, 98655, 71096, 80431, 60353, 49527, 47259, 63075, 73211, 70033, 23200, 57310], [2, 3, 31563], [36], [3], [61, 25, 33, 17, 29, 103, 4, 77, 1945, 41273, 51652, 36888, 44106, 63230, 24474, 87977], [7, 14, 86378], [7, 5, 30, 688, 15, 17, 8, 54, 52186, 27128, 4801, 35656, 73802, 13276, 82037], [40, 5, 16619], [40], [10], [9, 25, 33, 201, 116, 338, 2009, 6, 50, 8, 364, 152, 1, 16, 20, 149, 998, 2009, 629, 5, 60, 1048, 226, 488, 149, 1503, 26, 368, 1683, 91, 488, 6, 372, 15, 304, 18, 198, 55, 134, 94, 18, 1377, 452, 4, 148, 36435, 51652, 54344, 76403, 83782, 15884, 20536, 24425, 26645, 95177, 7088, 6943, 31250, 72889, 38352, 60362, 7414, 90227, 40292, 92958, 4170, 98655, 57447, 11155, 63591, 73326, 13720, 37647, 25317, 24582, 72341, 51837], [7], [7], [2, 3, 31563], [550], [2, 3, 12, 226, 220, 31563, 53869, 84572, 71138], [45, 102, 699, 2, 660, 647, 431, 60334, 83601, 99638, 71789], [7], [200], [2, 3, 123, 6, 48, 422, 8, 123, 14, 93, 429, 1, 31563, 23174, 25182, 41101, 63557, 76777, 19800, 21709, 71710, 76076], [9, 35, 203, 111, 31, 19, 13, 115, 159, 149, 1130, 6, 488, 96, 258, 28723, 80609, 4274, 11827, 13422, 67061, 67711, 99998, 80062, 78207, 72592, 34997], [64], [7], [3], [60, 649, 176, 509, 15, 488, 43, 1144, 3114, 642, 42, 93, 49, 416, 226, 88, 686, 1130, 5, 194, 15, 23, 33, 488, 727, 17, 1, 73, 23, 9, 3051, 465, 347, 791, 17650, 16225, 28154, 56732, 34656, 87637, 26076, 65596, 24738, 18886, 52950, 69418, 48705, 45066, 4294, 100231, 63746, 27492, 87982], [94, 9, 119, 347, 205, 123, 5, 422, 8, 1377, 2124, 23, 1730, 86, 243, 1, 73617, 100158, 73686, 84619, 72722, 76777, 16885, 25827, 33597, 88521, 58999], [1, 6, 45, 30, 699, 2, 226, 2, 3, 16312, 10316, 35737, 92683, 99638, 64940, 31563], [488, 5, 193, 20, 571, 537, 2928, 37, 114, 61, 81, 193, 284, 15, 109, 201, 268, 155, 8, 1771, 37, 1315, 2009, 114, 1130, 135, 1011, 8, 1, 488, 5, 61, 193, 1591, 155, 8, 49, 8, 329, 17, 4, 261, 86083, 65676, 42990, 14066, 46754, 40005, 14135, 92360, 72744, 78850, 54272, 33873, 78508, 72632, 69384, 89018, 34789, 52670, 12088, 27830, 86083, 25713, 24571, 72632, 19134, 64741, 69828, 67190, 30216], [172, 2, 3, 488, 6, 133, 139, 82816, 31563, 88458, 98655, 68937, 19794], [36], [1108, 176, 882, 8, 2842, 105, 43, 4, 110, 74, 1849, 48271, 51639, 6643, 66094, 86557, 51964], [9, 25, 165, 37, 190, 2105, 24, 19, 3822, 488, 6, 70, 360, 488, 371, 1511, 19, 226, 1511, 82, 115, 176, 91, 226, 2105, 178, 1511, 92, 9, 335, 119, 8, 67, 1314, 647, 92, 226, 70, 1190, 28, 33, 378, 226, 427, 488, 43, 18, 9, 335, 158, 36435, 60874, 97509, 51382, 60414, 69923, 98655, 59224, 92850, 51821, 13732, 19633, 100428, 4639, 57666, 81788, 96949, 9217, 87713, 36265, 41671, 89015, 33772, 78887, 81788], [226, 20, 6, 8, 806, 15, 86, 20, 937, 408, 16, 488, 162, 991, 11, 2, 784, 50, 119, 2141, 850, 1130, 96, 54, 46736, 53607, 58565, 44365, 72625, 89156, 53409, 52822, 96104, 15385, 40588, 86601, 66176, 37258], [9, 1149, 28, 427, 488, 43, 91151, 97384, 37035], [7], [488, 5, 193, 16, 89, 48, 182, 619, 60, 1459, 321, 146, 37, 5, 226, 488, 474, 57, 17, 11, 8, 50, 151, 67, 52, 647, 82, 15, 266, 50, 8, 1, 15, 1150, 15, 406, 37, 190, 24, 19, 907, 86083, 65676, 89716, 90908, 76785, 40189, 91139, 94556, 94479, 38984, 15549, 26781, 72748, 57977, 31635, 73223, 34901, 97241, 8949, 93017, 20536, 12088, 97340, 19165, 44267, 5201, 34286, 51382, 88710, 69923], [2, 3, 12, 11, 13, 4, 174, 31563, 53869, 51637, 95660, 20135, 73523], [2141, 370, 15, 388, 1079, 218, 1251, 137, 153, 437, 32, 182, 405, 1906, 38236, 70165, 23941, 89516, 81456, 56768, 38868, 44823, 29779], [6, 12, 15, 488, 47, 647, 47, 11715, 98401, 100818, 7130, 92879], [3], [2, 36, 77015], [2, 3, 44, 6, 291, 171, 26, 568, 4, 72, 557, 774, 488, 14, 2009, 66, 45, 4, 53, 31563, 39946, 43590, 50365, 100529, 19328, 97920, 73937, 28531, 55658, 38044, 5073, 88860, 91523, 71409, 91429], [51, 647, 24, 376, 40654, 34777], [7], [53], [21, 14, 226, 21, 5, 8, 372, 59863, 97387, 59271, 68920, 12520, 13896], [1987, 44, 14, 60, 99, 21, 228, 1377, 47, 599, 121, 355, 1, 134, 466, 8, 424, 1372, 1021, 17, 195, 104, 153, 118, 60, 3252, 304, 537, 106, 647, 19, 29, 527, 117, 1990, 14, 2009, 41, 3386, 20, 571, 916, 55, 1105, 2284, 40121, 73205, 21001, 87647, 67538, 42161, 22258, 57415, 61827, 38727, 58135, 53147, 24322, 57310, 87212, 13698, 56670, 74031, 71883, 63075, 14066, 42192, 98205], [253, 488, 5, 63, 2, 86083, 97690, 84387], [2, 3, 31563], [2, 3, 31563], [10, 101, 488, 21, 5, 4, 118, 29, 374, 53821, 79098, 68920, 55841, 76151, 16714, 97596], [2, 3, 10, 58, 31563, 28659, 90823], [647, 1485, 1305, 1076, 9, 194, 31074, 40391, 96512], [1], [7], [50, 22, 314, 38709, 94824], [7, 3114, 90, 104, 194, 218, 2673, 29, 438, 226, 488, 5, 29, 90, 35, 2, 186, 16, 488, 726, 66, 57954, 84532, 86083, 39809, 46476, 13023, 76630, 49655, 81407, 15385, 32023], [4, 53, 488, 5, 13, 226, 4, 34, 106, 91429, 77290, 86083, 46817, 31215, 39708, 64387, 11711], [2, 3, 31563], [3], [2, 3, 31563], [40, 226, 58], [312, 1, 44, 6, 67062, 23964, 43590], [279], [10, 7, 69, 42751, 80182], [2, 3, 31563], [125, 2009, 41, 11, 17, 63075, 69661, 41941], [10, 3557, 64623], [474, 14, 226, 474, 5, 1250, 1, 1, 767, 28, 17, 28, 267, 2141, 122, 2581, 4, 274, 19, 479, 32, 8, 67, 510, 1, 73, 57, 730, 20, 1, 1511, 1, 42, 57, 291, 972, 32, 8, 67, 2105, 82, 266, 1999, 385, 226, 573, 1384, 421, 243, 1, 1, 1, 767, 349, 2009, 18, 32, 1046, 28, 17, 1046, 28, 489, 175, 1046, 57, 3784, 668, 137, 1046, 57, 3784, 668, 466, 2009, 41, 1046, 28, 463, 4, 19, 1046, 4, 240, 2798, 1344, 9, 1, 31605, 97387, 14052, 65991, 93741, 75745, 32490, 62721, 56623, 92071, 86141, 28104, 100977, 83082, 9217, 88241, 100231, 56014, 34393, 29394, 91281, 6419, 45684, 54823, 90810, 81360, 83082, 9217, 61685, 59901, 58999, 75745, 75745, 32490, 55851, 34319, 35643, 62721, 35643, 39951, 22323, 14973, 14973, 63075, 35643, 98501, 83859, 32088, 60158, 40022], [6, 2, 590, 55, 2795, 488, 2816, 1511, 197, 2009, 43, 4, 110, 226, 254, 88, 1008, 229, 482, 4, 2288, 4, 443, 36879, 64217, 9616, 66094, 86557, 85142, 60052, 25121, 36802, 80584, 15641, 17575, 38129, 77356, 47204], [200, 359, 25, 111, 24, 19, 29531, 52268, 49595, 69923], [1254], [40], [6, 62, 226, 12, 4, 232, 106, 34, 264, 843, 854, 80, 2, 62795, 36154, 64305, 70630, 26085, 91519], [7, 5, 243, 535, 9, 2341, 27, 226, 1, 1, 488, 5, 30, 51, 2, 1377, 72, 2141, 65, 9, 49, 2009, 8, 177, 58, 52186, 19439, 71748, 14217, 14232, 5475, 75745, 27830, 86083, 27128, 18427, 5120, 77705, 47050, 75129], [20, 7, 5, 16, 18, 125, 28, 1, 2009, 47, 47, 1308, 66311, 52186, 99131, 79047, 35571, 8963, 55627, 13275], [216, 2, 75, 44826, 97216], [285, 5, 2, 3, 11076, 80990, 31563], [7], [64], [348, 10], [18, 117, 322, 39137, 23488], [488, 175, 522, 1, 1511, 24, 19, 1377, 2124, 124, 1375, 182, 19, 289, 1678, 175, 28, 14, 11, 8, 9, 124, 65340, 6419, 22434, 69923, 10495, 16885, 66481, 89489, 25255, 42086, 36846, 79768, 14355, 17260, 57977, 15580, 44292], [62], [9, 25, 427, 488, 43, 1, 36435, 71068, 100255], [154, 142, 21, 3, 352, 7093, 85163, 93983, 28894], [2, 2006, 41344], [3], [408, 284, 149, 46278], [495], [936, 237, 4, 262, 73, 111, 647, 19, 39, 5, 115, 686, 1130, 5, 9, 32, 182, 126, 704, 686, 1130, 552, 194, 31, 1302, 290, 230, 104, 49, 104, 1, 410, 323, 226, 1, 647, 884, 2009, 1177, 60, 176, 91, 42, 11, 2105, 884, 692, 2009, 114, 66004, 42903, 21033, 60190, 56670, 5556, 6402, 75449, 18886, 97043, 66639, 44823, 17521, 76472, 50188, 90255, 48064, 9487, 68951, 92726, 31243, 5475, 15018, 8098, 59387, 100428, 100337, 50694], [1, 98, 77129], [1], [64], [58], [46, 2009, 14], [9, 1, 488, 463, 2105, 24, 19, 60, 1278, 258, 460, 4, 445, 4, 1196, 57, 488, 445, 9, 967, 37, 603, 381, 23, 9, 1058, 2105, 77, 1058, 2105, 1815, 1384, 2548, 1130, 1, 40022, 27830, 60414, 69923, 100594, 62389, 93314, 36539, 68772, 64038, 10736, 27443, 98128, 52024, 20917, 49785, 27492, 69166], [29, 748], [635, 1, 226, 4, 13, 1549, 35, 144, 87, 78468, 21126, 39708, 18921, 33741, 85514, 61868], [36], [36, 160, 77329], [2, 107, 226, 3525, 83246, 45537], [635, 533, 226, 4, 13, 469, 8867, 39708, 18921, 84559], [3], [6, 40, 44583], [1848, 73, 23, 54, 63746, 39505], [40], [80, 2009, 5], [2383], [2, 3, 5, 4, 1112, 31563, 37822, 55841, 81186], [7, 2, 3, 1, 14, 41, 32, 20, 7, 69, 80, 2, 43164, 31563, 84656, 12775, 28321, 89842, 46826, 66311, 80182, 91519], [1451], [263, 44, 5, 9, 25, 121, 86, 106, 647, 38, 650, 25131, 30915, 97043, 36435, 34080, 42107, 9425, 13698, 96000], [10, 5, 67860], [984, 488, 43, 4, 403, 47, 969, 139, 488, 5, 822, 8, 942, 11, 4, 834, 164, 1103, 3, 228, 60, 11, 47, 1901, 226, 52, 61, 76, 66094, 57631, 22682, 86083, 54286, 60560, 6715, 79584, 14634, 35347, 63597, 74790, 23289, 59134, 31453, 37747, 79913, 60743, 88827, 24452], [7, 2, 3, 43164, 31563], [3570], [647, 645, 146, 9, 25, 86, 106, 55, 5, 50, 360, 15, 266, 92, 124, 55, 14, 1130, 135, 213, 226, 780, 88, 124, 55, 114, 230, 8, 45, 695, 3401, 66120, 67891, 36435, 82394, 9425, 78512, 31970, 60012, 88727, 28614, 93017, 98765, 56864, 11189, 66392, 34789, 6158, 98059, 49542, 11189, 37204, 7205, 79868, 38917], [40, 5, 16619], [14, 127, 226, 125, 1377, 136, 2141, 233, 2009, 5, 74, 58, 32468, 19928, 51911, 15340, 96448], [2, 3, 31563], [55, 37, 165, 875, 375, 24, 65, 647, 102, 45, 4, 3, 1, 1343, 18063, 67516, 42326, 65871, 95053, 71409, 90756, 84656, 37912], [2, 75, 647, 13, 4, 27, 97216, 20135, 87321], [3, 7, 63073], [1459, 37, 106, 55, 6, 60, 145, 1130, 135, 213, 33, 1356, 4, 92, 1130, 135, 213, 822, 104, 99, 1, 16, 842, 226, 88, 124, 136, 488, 6, 3152, 695, 1757, 116, 2009, 226, 128, 39, 6, 61, 9, 214, 18, 124, 585, 182, 19, 115, 488, 14, 9, 30, 304, 18, 1478, 58957, 24670, 78512, 69781, 87825, 57947, 34789, 6158, 30511, 8807, 38906, 68440, 87765, 34789, 6158, 18524, 10976, 44406, 95177, 28258, 65596, 49542, 55265, 98655, 98197, 44178, 100449, 34165, 42758, 64132, 23036, 10069, 78399, 25255, 87307, 5073, 42427, 74235, 45916, 11155], [120], [618], [488, 1, 35777], [79, 17, 16, 70, 2, 107, 79262, 9798, 67320, 42454, 83246], [7], [3], [2, 3, 31563], [320], [125, 226, 327, 1130, 106, 72690, 13927], [7], [7, 83, 51550], [106, 1319, 488, 6, 226, 1123, 9, 35, 161, 60, 8, 488, 332, 339, 482, 45, 1, 115, 559, 29, 850, 98655, 35990, 101024, 39158, 28723, 93855, 90776, 74481, 12029, 71533, 8054, 25329, 35004], [226, 40, 44, 6, 431, 8, 23, 81, 163, 1576, 488, 2825, 1357, 1, 90558, 43590, 41229, 101081, 80577, 66140, 11697, 32449], [21, 1300, 133, 139, 65932, 19794], [46, 2009, 69, 99, 2, 7, 31864, 82123, 78395], [7, 5, 345, 1369, 226, 3219, 647, 274, 582, 52186, 13059], [1, 270, 2713, 647, 425, 9, 236, 1130, 5, 2009, 14, 26, 104, 761, 94918, 16631, 61721, 92262, 18886, 47259, 11639, 51634, 8532], [3], [7], [10], [216, 488, 6, 17, 8, 209, 33, 26, 70, 1377, 77, 29, 86, 8, 67, 2105, 82, 23, 25, 1228, 165, 37, 190, 388, 116, 489, 175, 15, 31, 378, 19, 226, 340, 2, 249, 26, 418, 647, 24, 56, 1, 16, 723, 1, 98655, 67659, 13276, 33033, 81884, 20835, 83783, 79384, 99662, 96734, 89694, 9217, 5522, 34512, 97509, 51382, 71678, 17766, 12562, 22323, 85369, 52123, 99553, 63377, 51821, 87330, 59394, 12235, 21179, 40654, 21674, 89046, 95177, 11184, 51868], [7], [64], [2, 3, 31563], [2, 3, 113, 31563, 91561], [80, 2009, 14, 2009, 66, 48, 9, 80, 1, 370, 4, 703, 2009, 43, 4, 110, 8, 121, 84, 16, 1064, 88860, 42764, 24180, 73584, 78983, 69252, 54228, 49301, 66094, 86557, 86627, 91634, 67305, 91222, 80978], [9, 25, 30, 329, 18, 480, 36435, 16746, 13772], [3], [1244, 488, 8, 23, 54, 93, 1254, 84, 647, 3538, 189, 26655, 80577, 39505, 80292, 21678], [160], [13, 4, 27, 20135, 87321], [7], [488, 41, 226, 20, 1, 275, 14, 25265, 51618, 46736, 91281, 42720, 82632], [2, 279, 70544], [7], [71], [32, 31, 619, 8, 488, 6, 964, 4, 665, 1130, 37, 114, 60, 768, 226, 646, 26, 561, 146, 83, 181, 194, 647, 242, 1763, 928, 20, 89, 4, 680, 16, 433, 5, 26, 368, 962, 18, 425, 60, 1538, 251, 26, 31, 619, 226, 76, 60, 1350, 226, 763, 15, 488, 226, 763, 1520, 132, 1130, 636, 993, 3727, 4, 321, 189, 8, 434, 488, 5, 11, 647, 448, 142, 8, 1788, 20, 89, 181, 1130, 1403, 4, 1603, 81003, 49339, 61988, 98655, 13421, 19416, 88383, 4886, 14135, 79845, 49713, 9881, 39088, 67277, 48970, 36584, 24449, 57822, 73900, 36909, 68832, 77014, 93530, 72775, 77489, 40292, 42666, 91061, 6434, 69703, 64586, 78822, 49339, 89615, 8144, 73295, 85885, 93032, 93032, 70914, 52563, 42978, 35699, 72845, 86083, 71926, 38492, 18800, 96064, 81016, 73900, 66468, 92509], [2, 3, 31563], [2, 107, 3, 226, 107, 83246, 33710, 95149], [3], [2, 3, 31563], [6, 7, 4, 13, 539, 99771, 64871, 18921, 89451], [40], [173, 2, 3, 85519, 31563], [40], [20, 694, 1837, 4, 96, 226, 1, 30, 1245, 31, 92, 1974, 647, 92, 956, 226, 83, 181, 1459, 37, 43, 44, 14, 671, 152, 168, 647, 111, 31, 19, 26, 8, 647, 802, 8, 352, 48, 156, 116, 39, 14, 2009, 66, 378, 88, 225, 277, 229, 503, 3114, 843, 50, 29, 1, 74, 1, 3114, 1066, 4, 1, 1, 8, 218, 3114, 1, 1511, 82, 23, 84, 488, 867, 226, 93, 992, 26, 91, 61, 1, 488, 846, 4, 9, 388, 44, 334, 26, 781, 1511, 1, 84826, 11104, 62238, 5475, 19860, 45849, 94302, 23198, 56395, 48970, 58957, 40182, 40121, 48433, 44765, 11827, 13422, 61497, 37602, 9787, 16995, 67773, 90920, 95991, 99802, 11918, 40670, 88860, 57288, 96580, 42949, 83888, 24136, 72987, 83511, 87591, 26495, 65804, 75745, 84802, 49224, 81090, 6419, 5522, 28220, 27700, 74528, 34664, 60071, 22773, 37697, 27830, 7117, 69209, 94187, 52322], [10, 978, 41903], [68], [24, 548, 45, 155, 2893, 9, 35, 203, 33, 1981, 1511, 272, 432, 1377, 1326, 2658, 4, 1057, 15, 116, 228, 655, 1, 1347, 31667, 31246, 32295, 59670, 99406, 28723, 80609, 57373, 71475, 88672, 11874, 15206, 14087, 42884, 50041, 58203, 4082, 99902, 26035], [3], [488, 6, 2009, 14, 2009, 66, 18, 9, 11, 29, 1, 288, 73, 424, 1376, 147, 17, 1511, 149, 1130, 6, 98655, 88860, 31516, 78887, 18343, 88679, 83511, 59413, 4488, 34432, 20380, 64996, 9087, 78207], [2, 3, 31563], [2, 3, 31563], [40, 5, 16619], [1], [30, 51, 282, 18427, 97805], [488, 5, 301, 7, 52, 304, 20, 758, 226, 2117, 72, 2141, 767, 8, 23, 176, 882, 8, 23, 342, 915, 3856, 93, 3631, 1377, 319, 333, 189, 4, 41, 61, 1511, 92, 672, 226, 9, 25, 33, 76, 86083, 47756, 11564, 43801, 36307, 72897, 4316, 80577, 23508, 48271, 80577, 38581, 87921, 35536, 86024, 55169, 26927, 60849, 33676, 99057, 36435, 51652, 61381], [488, 21, 5, 4, 14, 1130, 66, 79098, 68920, 55841, 31428], [158, 81, 25, 266, 488, 283, 39, 5, 74557, 96389, 41709, 16812, 6402], [127], [123, 6, 63, 24, 56, 623, 522, 1678, 96, 1377, 246, 226, 30, 304, 31, 21, 430, 4, 56, 115, 1377, 246, 48, 1, 16, 488, 6, 129, 17, 1511, 24, 77, 25182, 75326, 55722, 21674, 27098, 44613, 8720, 45916, 70567, 35104, 32628, 94688, 35572, 10106, 29306, 27642, 95177, 15385, 98655, 18653, 71655, 22434, 22456], [7], [488, 21, 14, 79098, 59863], [7], [692], [44, 5, 226, 2, 3, 30915, 38984, 64940, 31563], [3], [9, 25, 3985, 2141, 968, 1, 50, 159, 149, 36435, 62045, 28597, 56135, 6685, 80062], [417, 2, 3, 31563], [21, 6, 1798, 56336, 12711], [488, 6, 11, 3, 170, 488, 379, 4, 192, 4, 250, 9, 995, 50, 212, 647, 376, 4, 604, 488, 192, 4, 250, 98655, 46009, 74106, 70767, 75101, 81125, 80011, 88722, 95943, 15676, 91770, 13078, 38652, 92246, 80011, 88722], [9, 25, 111, 647, 19, 39, 5, 36435, 52268, 56670, 5556, 6402], [279], [350, 7, 73212], [2, 3, 58, 31563, 7721], [2, 3, 488, 6, 31563, 88458, 98655], [23, 342, 1266, 207, 183, 42, 4, 613, 164, 28, 1746, 35, 74, 1621, 16, 488, 5, 2009, 41, 37, 5, 193, 695, 226, 121, 1130, 135, 1011, 488, 507, 1598, 267, 37, 5, 1002, 35, 2, 1, 16, 182, 904, 422, 8, 2519, 488, 89, 8, 45, 3405, 44, 1861, 38581, 91355, 27365, 70219, 91469, 9429, 40760, 17738, 39611, 32226, 52079, 82694, 15385, 86083, 47259, 63075, 30418, 94479, 65676, 77018, 91963, 34789, 52670, 30287, 76950, 91033, 94479, 87118, 49781, 76630, 56754, 95177, 74306, 23794, 76777, 71681, 60353, 87200, 79868], [7, 6, 89888], [2, 168, 386, 215, 1416, 1, 226, 215, 30, 2848, 31, 36, 469, 67814, 38732, 80269, 98325, 21126, 16447, 60716, 40727, 61568], [17, 695], [12, 226, 13, 4, 106, 864, 8, 86, 1511, 2639, 4, 303, 1370, 84572, 48827, 20135, 39822, 13537, 40036, 96165, 44948], [23, 35, 2, 1, 16, 488, 14, 2009, 66, 37, 1878, 1, 2105, 1815, 2375, 20, 135, 213, 2141, 1, 28, 526, 175, 15, 1114, 20, 1, 1816, 584, 1511, 425, 488, 14, 1511, 1, 1, 1, 1, 1, 2695, 15, 84, 1, 874, 1340, 992, 2105, 948, 1511, 135, 1468, 17, 361, 1662, 342, 3277, 258, 175, 1511, 135, 546, 41, 1130, 47, 678, 57, 1, 1, 70210, 76630, 56754, 95177, 15385, 5073, 88860, 94971, 32021, 22055, 87158, 58655, 25053, 6158, 44989, 44227, 41800, 85369, 84745, 91281, 9506, 99831, 5073, 75745, 75745, 75745, 75745, 64143, 96866, 28857, 42278, 47778, 41016, 35822, 65771, 80309, 33643, 19882, 75745], [11, 17, 2, 385, 226, 140, 488, 2025, 20, 1, 275, 14, 15, 57, 436, 16, 19, 226, 597, 133, 139, 41941, 88737, 82979, 15008, 91281, 42720, 82632, 67593, 63358, 47838, 6843, 91572, 51821, 19794], [21, 14, 16, 21, 5, 59863, 33255, 19716, 68920], [49, 488, 6, 754, 226, 488, 6, 41, 814, 4, 377, 226, 9, 25, 485, 488, 5, 754, 72, 2141, 146, 8, 364, 329, 488, 43, 70, 30, 3938, 15, 488, 5, 41, 2244, 15, 23, 485, 26, 44, 6, 170, 9, 212, 201, 1423, 8, 1062, 182, 405, 8, 212, 20, 334, 364, 78, 9, 152, 494, 1288, 488, 43, 3349, 488, 6, 41, 60, 99, 1681, 1130, 1888, 42, 488, 754, 9, 549, 91, 573, 98655, 96331, 38472, 98655, 57112, 52892, 35055, 32596, 99057, 36435, 17942, 86083, 61850, 44908, 55274, 24425, 7001, 22017, 82257, 25889, 65583, 86083, 83075, 48705, 4100, 70457, 43590, 60558, 64920, 67874, 96441, 29345, 29779, 5053, 70837, 29858, 44063, 51488, 90074, 66086, 47155, 98655, 57112, 39590, 21001, 4050, 93147, 44060, 71816, 36936], [2496], [1], [152, 134, 2009, 41, 647, 3324, 189, 281, 96, 258, 49, 786, 666, 226, 152, 2, 22, 314, 33527, 63075, 14063, 34997, 88400, 39320, 72887, 94824], [35, 647, 18, 4, 207, 164, 251, 489, 20, 316, 1511, 24, 19, 439, 15, 647, 19, 13, 226, 9, 25, 145, 55, 135, 213, 2009, 41, 300, 4, 72, 2141, 1550, 526, 226, 9, 163, 1130, 47, 1303, 99, 2371, 1511, 24, 19, 13, 1047, 616, 29, 55, 322, 23, 9, 86, 465, 201, 668, 1502, 49, 488, 175, 42, 49, 591, 2945, 440, 54, 489, 1511, 19, 439, 28, 19, 13, 28, 157, 419, 3115, 11, 121, 181, 45, 284, 11, 2, 322, 526, 69276, 19567, 72082, 50626, 16512, 22444, 67877, 22434, 69923, 83436, 20550, 56670, 67061, 31215, 99057, 36435, 31493, 94367, 98278, 6158, 63075, 31625, 93341, 28531, 99057, 69934, 80309, 55253, 60682, 22434, 69923, 67061, 6085, 98111, 65979, 68836, 27492, 98679, 17474, 7192, 65259, 51344, 79842, 83436, 14919, 87758, 67061, 9553, 80411, 55553, 98659, 75871, 86601, 73328], [80, 2009, 5, 32, 31, 446, 587, 226, 4, 13, 331, 92040, 81003, 21227, 62955, 39708, 18921, 72110], [902, 143], [244, 226, 20, 40, 199, 27, 291, 277, 3213, 46736, 96247, 14481, 70831, 74968, 31800], [10], [7, 996, 52518], [7], [2, 3, 31563], [64], [140, 104, 37, 5, 350, 16, 428, 1322, 359, 1249, 175, 156, 96, 85954, 8108, 94479, 70085, 28326, 37713, 95600, 10180, 46040], [2, 3, 808, 4, 9, 1518, 599, 1, 4, 95, 117, 1, 736, 281, 96, 4, 148, 31563, 34232, 26068, 69209, 14708, 80762, 41529, 9004, 54594, 78912, 16503, 14063, 45331, 51837], [120, 15, 20, 1, 76525, 36018, 91281], [150, 4, 412, 29775, 70218], [7], [40], [2, 12, 226, 13, 4, 27, 87467, 84572, 48827, 20135, 87321], [120, 7, 2, 3, 73004, 43164, 31563], [3], [10], [125, 15, 78, 1324, 2009, 47, 647, 47, 1130, 634, 817, 61467, 85692, 7130, 92879], [5, 113, 79, 319, 17, 26, 70, 100598, 54697, 58541, 17545, 78256, 83783], [150], [9, 32, 73, 1680, 92, 155, 19, 13, 2009, 14, 2009, 66, 66639, 26474, 84436, 56047, 48778, 95606, 67061, 88860], [196, 3114, 240, 2009, 14, 431, 8, 37, 43, 9, 806, 4, 110, 12431, 101081, 76491, 40182, 96731, 9437, 86557], [6, 2, 3, 25, 109, 38, 112, 226, 17, 18, 810, 36879, 31563, 81144, 77448, 37792, 51256, 46751, 12436, 81841, 42100], [488, 14, 2009, 66, 11, 488, 1293, 5073, 88860, 33564], [1, 1, 75745], [113, 44, 6, 37332, 43590], [359, 1511, 15, 136, 647, 19, 41783, 56670], [9, 961, 38, 211, 26, 91, 31, 532, 226, 488, 1772, 18924, 65892, 55896, 60071, 62020, 17917], [2, 75, 226, 13, 4, 27, 97216, 48827, 20135, 87321], [28, 929, 32, 212, 126, 1314, 92, 355, 2105, 178, 4, 1455, 399, 8, 647, 278, 32, 31, 92, 1, 212, 322, 4, 1358, 155, 8, 60, 49, 488, 6, 212, 2, 96, 226, 29, 19, 8, 925, 488, 37, 6, 23, 121, 257, 488, 26, 929, 45222, 33579, 100652, 45918, 29327, 4639, 59829, 63467, 49711, 79582, 81003, 23198, 61228, 20445, 74466, 77911, 72632, 60381, 30760, 98655, 21337, 98371, 99299, 62238, 55761, 65441, 29170, 72144, 82046, 92662, 76607, 40309, 29046], [216], [366, 647, 564, 115, 9, 1, 488, 185, 3604, 2009, 96, 8, 1062, 488, 43, 117, 488, 373, 752, 226, 652, 1377, 47, 79862, 73563, 40022, 27830, 88577, 29345, 60470], [295, 251, 33, 20, 463, 1511, 24, 19, 226, 221, 178, 8, 124, 478, 647, 583, 2009, 840, 194, 647, 2036, 1287, 1, 9, 159, 9, 46, 76447, 37220, 99780, 15446, 22434, 69923, 51821, 83756, 17303, 9459, 32246, 50257, 50918, 71685, 72236, 5651, 95096], [7, 13, 4, 27, 48773, 20135, 87321], [2, 3, 13, 4, 1183, 31563, 41394, 20135, 55489], [2, 3, 31563], [474, 14, 31605], [59, 68, 226, 13, 1, 2507, 1, 221, 198, 2009, 634, 1, 22542, 48827, 57837, 26098, 4438, 99092, 50620], [141, 1, 226, 482, 1, 118, 15, 1, 488, 134, 647, 329, 1493, 94, 11, 2937, 28, 1219, 8, 11, 59, 46843, 21126, 80468, 37296, 81708, 66856, 27830, 42748, 27311, 99603, 48515, 8081, 86425, 40799, 77554], [2, 3, 31563], [7, 58, 18634], [6, 2, 3, 1, 119, 89, 36879, 31563, 84656, 24709, 63474], [35, 251, 111, 31, 19, 15, 37, 2222, 39, 5, 226, 9, 25, 88, 106, 16, 488, 553, 440, 488, 5, 2877, 20, 1337, 8, 94, 45, 1, 647, 3156, 2009, 287, 226, 1440, 20, 371, 4, 3380, 70, 342, 31, 1731, 2720, 42, 60, 45, 652, 87575, 81214, 11827, 13422, 92036, 99578, 80395, 6402, 38984, 99057, 36435, 60775, 17372, 58304, 15385, 74018, 86083, 71155, 43524, 12737, 12029, 15018, 4931, 27230, 13639, 15205, 63448, 89049, 67201], [7, 5, 52186], [1, 1253, 15, 1, 9, 257, 57, 11, 2313, 4, 98, 3114, 417, 4, 14, 115, 48, 49, 488, 41, 42, 647, 1, 4, 1, 226, 143, 2, 30, 3116, 86, 1130, 837, 2313, 2009, 6, 88, 225, 391, 70, 2105, 1386, 9, 3280, 29, 86, 121, 94, 1, 647, 306, 92, 488, 343, 1130, 1, 1, 1, 86, 488, 760, 482, 182, 1, 105, 637, 4, 1239, 398, 122, 226, 689, 1, 1377, 19, 81, 151, 121, 488, 1, 1200, 1130, 354, 114, 1377, 633, 4, 1, 117, 1, 226, 1, 46507, 58694, 66856, 72236, 25045, 43158, 95205, 98166, 36247, 59654, 31428, 75917, 75641, 34672, 25265, 68223, 38540, 41529, 65804, 21126, 93371, 69358, 32142, 23540, 57288, 23322, 84800, 96734, 70099, 15018, 10259, 44239, 69166, 75745, 75745, 51310, 43479, 86177, 23977, 51832, 88677, 48279, 69045, 65608, 35777, 84864, 46837, 35296, 65804, 49896, 78912, 21126, 5475], [2, 3, 83, 31563, 33598], [40], [342, 8, 86, 18, 125, 28, 110, 67665, 40036, 75100, 35571, 8963, 28319], [7, 6, 89888], [1, 4, 413, 95, 41529, 82784, 47611], [226, 20, 10, 5, 58, 46736, 10311, 67860, 63579], [7], [2, 249, 5, 59394, 64722], [46, 7, 18285], [9, 257, 881, 617, 25045, 59736], [7], [150], [221, 178, 1511, 149, 9, 25, 136, 222, 1511, 149, 771, 15, 762, 57, 488, 371, 1511, 19, 245, 45, 298, 768, 226, 646, 4, 261, 488, 5, 61, 194, 31, 242, 621, 8, 23, 35, 251, 136, 31, 19, 8, 60, 99, 2445, 17303, 14531, 36435, 40644, 88551, 58115, 64177, 71363, 7082, 48487, 30216, 30585, 86083, 25713, 11998, 76472, 25111, 86597, 70842, 80577, 70210, 87575, 88292, 73074, 13422, 29170, 60381, 21001, 20198], [52, 61, 9, 49, 8, 177, 88827, 34165, 47050, 64741, 75129], [2, 180, 221, 178, 104, 277, 236, 32, 104, 1224, 401, 226, 19, 27935, 22692, 17303, 92496, 29963, 48966, 27911, 54703, 84426], [296, 61, 172, 3, 74171, 66577, 95312], [35, 251, 33, 20, 463, 1511, 19, 42, 50, 159, 149, 621, 8, 488, 603, 2009, 2303, 11, 1269, 87575, 37220, 99780, 15446, 68418, 13572, 6685, 80062, 73630, 70842, 87173, 33476], [9, 25, 3567, 76, 9, 391, 1, 745, 94, 9, 1149, 9, 11, 101, 226, 2, 322, 12, 822, 241, 1, 36435, 11815, 31916, 91273, 69372, 97514, 39098, 73617, 91151, 30943, 18343, 44152, 26647, 64940, 73328, 50045], [36], [263, 9, 25, 33, 488, 773, 106, 2105, 178, 4, 574, 647, 92, 488, 5, 487, 226, 648, 546, 887, 76941, 36435, 51652, 23472, 4639, 59829, 77776, 44239, 86083, 88084, 42070], [279], [7, 5, 52186], [2, 3, 31563], [5, 40, 860, 32, 184, 8, 783, 105, 3446, 95574, 56662, 63054, 68959, 46455, 9211], [53], [35, 251, 762, 488, 516, 2009, 37, 43, 212, 512, 380, 1130, 5, 226, 9, 25, 60, 2437, 2105, 82, 226, 76, 99, 518, 87575, 12640, 40182, 30934, 43511, 76445, 18886, 38984, 99057, 36435, 27844, 60908, 8144, 5564, 5542], [590, 1565, 1, 2067, 91, 11, 20, 1, 383, 259, 105, 18, 1367, 21830, 4673, 7646, 91281, 6368, 80007, 77241], [35, 251, 266, 31, 92, 39, 5, 860, 359, 30, 194, 647, 126, 4, 767, 1130, 5, 617, 1377, 153, 2617, 104, 32, 182, 126, 181, 104, 477, 1130, 37, 280, 32, 4, 482, 226, 288, 1, 87575, 72398, 23198, 21987, 6402, 27832, 17058, 29367, 62101, 21252, 18886, 96420, 42393, 44823, 17521, 92358, 20416, 4886, 86182, 39815, 10030, 77076], [44, 11, 488, 37, 14, 70, 11, 15, 1390, 226, 2841, 1, 5852, 72144, 85485, 23477, 51510, 23743, 8024], [2, 12, 87467], [36], [894, 4, 5, 170, 259, 86, 18, 241, 15, 3114, 9, 494, 20, 287, 18, 34, 15358, 14459, 51034, 74501, 75100, 33360, 71702, 52300, 91517, 101117, 30628], [6, 3, 46, 49496, 65150], [64], [23, 176, 488, 43, 145, 55, 14, 267, 226, 88, 23, 145, 329, 647, 92, 4, 348, 335, 104, 647, 19, 82, 1, 9, 372, 23508, 57451, 37198, 94367, 66392, 32044, 65596, 28547, 93957, 73734, 95298, 83329, 56670, 85907, 87914, 72236, 25804], [10, 5, 67860], [7], [10, 5, 67860], [36], [2, 3, 9, 10, 2009, 1163, 11, 22, 18, 127, 31563, 88109, 32737, 69574, 10445], [436, 16, 488, 14, 226, 10, 249, 6843, 15385, 5073, 97387, 44678], [173], [2, 3, 48, 455, 1186, 488, 2009, 867, 225, 156, 409, 913, 1057, 2596, 340, 31563, 76270, 49665, 38858], [7, 14, 86378], [3, 6, 75591], [36], [6, 2, 13, 4, 423, 52, 228, 9, 119, 90, 36879, 100097, 20135, 97425, 78867, 17874, 100158, 4019], [24, 162, 11, 133, 575, 92248, 68388, 58104, 56877], [26, 328, 17, 22, 50726, 85637, 34952], [71], [7], [2, 320, 226, 2, 3, 98376, 64940, 31563], [61, 45, 2, 3, 488, 5, 80, 2, 239, 37, 43, 4, 110, 2009, 14, 2009, 66, 94886, 96583, 31563, 88458, 86083, 29959, 91519, 74074, 40182, 66094, 86557, 88860], [2, 3, 31563], [10, 129, 17, 338, 2009, 6, 62247, 71655, 38898], [73, 23, 79, 9, 25, 136, 24, 19, 39, 5, 41, 221, 142, 1925, 686, 2105, 24, 19, 404, 31, 242, 621, 106, 695, 63746, 30339, 75843, 36435, 40644, 82124, 69923, 5556, 6402, 83075, 67626, 60414, 69923, 56833, 43588, 25111, 86597, 89837], [2, 3, 6, 2009, 41, 48, 9, 199, 226, 807, 488, 114, 105, 1, 31563, 75591, 63075, 82866, 24180, 37105, 36668, 96802], [1], [40, 5, 16619], [2, 3, 214, 78, 17, 29, 103, 4, 77, 731, 31563, 55439, 34704, 51426, 44106, 63230, 24474, 87977, 70606], [7], [2, 107, 226, 637, 108, 4, 1968, 83246, 45537, 23917, 35639], [36], [12, 226, 108, 84572, 22160], [172, 1, 1068, 647, 154, 142, 111, 488, 5, 226, 1160, 15, 329, 488, 1493, 60, 3383, 8, 9, 30, 1, 9, 209, 33, 42, 9, 1078, 647, 154, 142, 8, 194, 18, 1, 24, 1962, 4, 9, 33, 70265, 83545, 9727, 7093, 86083, 38984, 83397, 15580, 74235, 64662, 72236, 4996, 81884, 27775, 75907, 47230, 9727, 7093, 18800, 52651, 20494, 82458, 91693, 11767, 69209, 53925], [7, 5, 58, 52186, 63579], [81, 25, 136, 24, 19, 193, 945, 3979, 296, 910, 462, 17, 692, 96389, 40644, 82124, 69923, 97172, 66689, 18302, 72384], [7, 15, 488, 47, 47, 73885, 100818, 13275], [3, 658, 647, 317, 4, 1, 1511, 92, 4, 1, 6926, 75766, 75021, 65804, 6419, 95298, 65804], [59, 12, 226, 637, 88137, 84572], [50, 308, 238, 18, 35, 16, 90, 111, 31, 19, 1, 18, 9, 25, 136, 488, 3406, 9, 32, 647, 126, 4, 604, 2141, 1290, 63060, 43314, 44451, 6466, 11827, 13422, 13137, 70138, 78887, 36435, 40644, 66639, 29367, 62101, 38652], [488, 5, 462, 17, 4, 3, 42, 1123, 23, 79, 1306, 226, 70, 9, 682, 648, 15, 887, 50, 181, 9, 35, 203, 136, 38, 112, 86083, 21075, 18302, 67190, 90756, 14704, 30339, 75914, 76712, 27038, 17957, 49361, 65990, 28723, 80609, 93485, 77936, 51256], [36], [5, 359, 191, 76, 93, 617, 599, 180, 47079, 29269, 99790, 32098, 22912], [74, 12, 7, 83, 64406, 4861, 51550], [7], [3, 42, 17, 199, 105, 947, 14704, 65462, 57386, 51480, 54161], [40, 5, 16619], [2, 3, 31563], [40], [2009, 76, 647, 405, 272, 547, 4, 1996, 1130, 5, 1, 21656, 48864, 78944, 18886, 93478], [120, 28, 102, 45772, 31829], [3, 3, 12636], [2, 3, 31563], [2, 3, 31563], [7], [150], [152, 3862, 226, 9, 194, 182, 126, 4, 3245, 863, 23, 79, 59726, 99057, 96512, 94332, 17521, 62101, 87863, 30339], [1], [116], [851, 488, 1664, 4, 143, 12830, 100066], [3, 6, 75591], [52, 488, 130, 1799, 488, 1521], [200, 5, 57, 647, 1962, 301, 1670, 647, 56, 1, 535, 18, 615, 3208, 226, 2, 1, 24, 92, 99, 672, 9, 257, 158, 48, 45, 2460, 647, 24, 56, 44, 5, 11, 1253, 4, 1, 56872, 76133, 89046, 78065, 22846, 50736, 64940, 56754, 91693, 16886, 44349, 97150, 31637, 25045, 38833, 19976, 88471, 56688, 40654, 21674, 47278, 30915, 71926, 40592, 92791, 65804], [46, 2, 133, 139, 52468, 47673, 19794], [51, 488, 1521], [983, 420, 647, 204, 96, 18, 102, 572, 74, 3, 79848, 53840, 27084, 8364, 8224, 98490], [7], [647, 625, 438, 15, 109, 31, 1046, 26600, 43049, 33873, 28633, 35262], [871, 671, 28, 289, 180, 488, 5, 94, 167, 2, 45, 1354, 1, 226, 61, 248, 45, 1218, 1130, 5, 8, 23, 9, 1288, 597, 4, 110, 9, 1728, 2141, 231, 2009, 83, 1614, 84370, 56502, 50579, 86083, 55145, 25195, 83400, 86053, 98380, 92731, 21126, 69752, 45958, 18886, 12520, 80577, 27492, 100769, 34043, 86557, 99241], [2, 12, 15, 223, 100, 531, 579, 340, 87467, 98401, 39007, 63258, 50248], [5, 150, 64908], [3, 42, 32, 31, 581, 8, 1035, 1, 158, 1916, 488, 3515, 817, 88, 404, 179, 2620, 4, 619, 70, 1, 1, 2141, 1740, 1, 284, 647, 1962, 57, 8, 9, 212, 1970, 647, 2511, 91, 60, 30, 960, 2002, 8, 342, 175, 1, 308, 226, 1223, 2101, 1130, 1057, 987, 29, 564, 605, 2105, 744, 1515, 61, 559, 18, 3206, 42, 3486, 1564, 91, 14704, 45823, 81003, 81478, 62353, 78280, 60985, 10443, 61874, 23499, 8564, 22571, 80140, 75745, 59942, 30007, 35890, 15580, 67874, 35320, 72758, 68649, 74226, 25057, 78229, 9893, 19615, 79941, 47951, 36273, 12744, 59498, 50635], [40], [173], [7, 5, 52186], [1389], [488, 14, 11, 7, 48, 8, 88, 23, 227, 2141, 650, 2009, 41, 2693, 48, 913, 185, 157, 4, 834, 164, 5073, 17260, 27209, 93985, 11582, 65240, 28547, 57071, 63075, 9329, 31834, 34699, 35347, 63597], [2, 3, 40, 31563, 86669], [2, 3, 44, 6, 51, 72, 2141, 65, 2009, 134, 31563, 39946, 43590, 28393, 11437], [2, 3, 31563], [50, 51, 38, 65, 18494, 41484, 56826], [2, 13, 4, 111, 19, 226, 1862, 7, 46, 100097, 20135, 99155, 58662, 51821, 72449], [50, 85, 48521], [13, 226, 12, 31215, 36154], [6, 62, 226, 101, 62795], [14, 336], [2, 3, 31563], [10, 240, 2980, 28489, 54749], [10, 2, 3, 80425, 31563], [71], [2, 3, 31563], [9, 2487, 78, 138, 90, 2217, 512, 117, 207, 1499, 2105, 82, 381, 547, 647, 564, 152, 134, 647, 18, 4, 139, 189, 2819, 23241, 78569, 66304, 37871, 97130, 33527, 69276, 19567, 53199, 35618], [7], [93, 538, 37, 43, 1, 289, 3364, 1, 1817, 11, 83, 8, 76, 12581, 26519, 40182, 100255, 46869, 94000, 94935, 34756, 25295], [7], [46], [3], [36], [152, 134, 2009, 726, 726, 647, 972, 4, 1326, 228, 252, 746, 9, 1, 18, 3114, 1, 4, 502, 112, 318, 3510, 3114, 689, 2010, 398, 240, 229, 1949, 117, 9, 1605, 117, 9, 52, 252, 1622, 1, 2510, 2126, 1, 647, 179, 1, 2009, 1, 88, 661, 78, 2657, 90, 1377, 502, 112, 3114, 1, 215, 57, 1429, 226, 589, 594, 3886, 2141, 503, 1, 226, 488, 1, 1, 2654, 709, 1, 614, 1, 3114, 33527, 63281, 91825, 72253, 29071, 17417, 40022, 70138, 81090, 41529, 49864, 35260, 82478, 13347, 82478, 12703, 44216, 61958, 15018, 53432, 22659, 29610, 35260, 81090, 79810, 43063, 30125, 54696, 21126, 35777, 75745, 35102, 97631, 78531], [7], [2, 3, 31563], [7, 6, 89888], [23, 422, 1925, 429, 3, 18, 23, 235, 46, 2, 1, 73613, 50846, 18276, 97056, 53573, 68128, 52468, 56754], [2, 3, 31563], [10], [15, 102, 193, 7, 68198, 47576, 95240], [10], [3, 14, 79036], [48, 9, 620, 203, 33, 1, 24180, 81031, 42472, 57373, 29818], [5, 260, 226, 62, 4, 27, 70731, 31942, 56478, 87321], [10], [7, 5, 280, 49, 31, 675, 182, 19, 108, 288, 214, 1313, 356, 1216, 4, 31, 142, 52186, 20411, 8635, 70239, 17791, 25255, 24429, 56313, 56302, 37015, 27291], [173, 173, 71394], [2, 108, 15, 423, 45551, 58159, 68724], [140, 8, 44, 5, 2009, 41, 187, 105, 18, 1541, 16, 666, 55, 2078, 16, 666, 264, 2001, 99956, 67389, 30915, 47259, 63075, 7500, 56213, 77241, 37473, 64340, 94400, 64340, 55888, 55679], [1], [200, 247, 263, 9, 159, 28, 491, 76, 76941, 5651, 40221, 65155, 6883], [2, 3, 12, 226, 34, 31563, 53869, 84572, 78799], [5, 113, 25, 223, 98, 138, 1970, 29, 166, 67, 2105, 324, 4, 1738, 100598, 50590, 32082, 41569, 16373, 87679, 75299, 62708, 20623, 83371, 42476], [2, 3, 6, 34, 137, 31563, 75591, 22888, 48665], [10], [158, 9, 214, 86, 43, 4, 110, 56995, 42758, 45263, 91077, 66094, 86557], [10, 44, 14, 42, 94, 9, 163, 266, 37, 43, 72821, 40121, 87761, 49941, 73617, 69934, 54080, 59763, 40182], [11, 7, 27209], [2, 3, 6, 31563, 75591], [2, 3, 31563], [3], [160], [82, 4, 1, 1511, 1, 1, 3114, 53, 277, 15, 488, 1, 115, 70, 51, 2, 22, 25027, 65804, 6419, 75745, 25126, 35777, 71533, 32859, 33916, 5120, 72887], [7], [20, 14, 16, 497, 2093, 226, 1328, 170, 51, 55, 8, 11, 3309, 57109, 33255, 24470, 66828, 35816, 91367, 40799, 59074], [10, 5, 2, 97, 67860, 80990, 14712], [2, 3, 31563], [7], [9, 25, 574, 31, 19, 5, 284, 149, 36435, 32437, 84628, 13422, 63577, 46278], [2, 3, 31563], [7], [64, 4, 1001, 91003, 68309], [7, 13, 4, 27, 48773, 20135, 87321], [10], [10, 13, 247, 71325, 58500], [2, 3, 216, 199, 520, 31563, 80600, 38713], [2, 3, 44, 6, 53, 55, 726, 726, 31563, 39946, 43590, 6827, 88066, 78537, 63281], [2282, 115, 350, 1354, 50, 58330], [237, 4, 262, 488, 701, 4, 878, 2009, 1461, 11, 1511, 3298, 187, 30, 562, 11, 1347, 66004, 42903, 33048, 9867, 12126, 35563, 57381], [3], [172, 474, 2009, 8, 3232, 145, 1388, 55, 14, 310, 31, 19, 226, 1232, 546, 507, 8, 458, 777, 39, 5, 70, 9, 30, 883, 76, 4, 2461, 872, 2400, 573, 70, 30, 335, 647, 2461, 226, 92, 2774, 1377, 77, 1511, 581, 4, 1, 631, 60, 156, 20, 334, 8, 35, 251, 777, 24, 19, 226, 76, 1, 2122, 9, 472, 8, 1, 134, 2568, 222, 172, 382, 33, 274, 195, 39, 5, 57, 831, 28, 102, 171, 588, 55, 14, 221, 142, 60, 35, 16, 1411, 4, 1375, 647, 19, 226, 1114, 234, 14, 9808, 66392, 59386, 61108, 13422, 51821, 4665, 41358, 4143, 6402, 58699, 76712, 74235, 90993, 33325, 69731, 82257, 38987, 79384, 8419, 65804, 91984, 88645, 85802, 44063, 13199, 51257, 87575, 71114, 69923, 51821, 8144, 35453, 6173, 98136, 12088, 57415, 62333, 16183, 9400, 7151, 43494, 6402, 76133, 84404, 27450, 31829, 61615, 66392, 15669, 67626, 49045, 44451, 8503, 83499, 56670, 51821, 8352, 79372], [320, 961, 38, 211, 249, 264, 1381, 2009, 5, 18924, 65892, 15473, 100816], [572, 8, 488, 5, 269, 2, 3, 37968, 86083, 61720, 23164, 31563], [5, 11, 7, 71926, 27209], [186], [488, 5, 95, 87, 1130, 106, 226, 516, 1511, 19, 167, 2272, 647, 405, 738, 185, 2009, 43, 4, 110, 226, 1511, 19, 916, 488, 5, 2009, 14, 1106, 115, 623, 488, 1802, 2009, 134, 52, 647, 82, 86083, 42663, 93710, 95159, 61613, 25975, 66094, 86557, 85142, 86083, 47259, 17707, 5070, 77206, 80308, 97241], [7], [7], [7, 14, 86378], [488, 21, 14, 79098, 59863], [7, 22, 476, 82911, 72430], [2, 3, 31563], [688, 28, 388, 488, 1759, 88054, 63728], [6, 2, 75, 1130, 37, 47, 647, 47, 36879, 97216, 4886, 86886, 7130, 92879], [23, 461, 207, 183, 15, 488, 69, 488, 5, 11, 40, 46403, 76448, 70219, 42723, 17005, 86083, 71926, 72010], [2, 3, 23, 80, 2, 62, 476, 13, 4, 491, 133, 139, 31563, 55988, 78603, 91519, 55324, 95829, 71300, 20135, 26054, 81852, 19794], [5, 2, 3, 826, 80990, 31563, 52402], [7], [10], [190, 1130, 5, 45, 1, 2009, 190, 1130, 135, 2105, 24, 748, 11, 22, 1, 123, 149, 18886, 32657, 12029, 34789, 60414, 22094, 44531, 32737, 100305, 68055], [40, 6, 29096], [5, 1, 93478], [11, 3, 18, 484, 549, 20, 226, 763, 15, 562, 642, 16, 1, 222, 647, 3080, 2009, 6, 484, 45, 1, 2141, 1366, 8, 35, 2287, 73, 214, 78, 74106, 18276, 47324, 48878, 93032, 67744, 69333, 73541, 88889, 29157, 56573, 12029, 58935, 51257, 89291, 34704], [9, 25, 630, 488, 192, 410, 15, 1130, 1086, 213, 15, 267, 488, 84, 2009, 6, 488, 192, 410, 194, 258, 1, 36435, 98103, 92246, 32066, 38708, 81361, 41790, 80540, 94433, 72592, 92246, 32066, 59838, 34642], [2, 168, 67814], [200, 3618], [291, 11, 22, 314, 2, 12, 226, 34, 53, 45443, 32737, 94824, 38208, 87467, 84572, 78799, 78756], [40], [936, 307, 23, 462, 203, 136, 24, 19, 957, 39, 37, 990, 61, 45, 284, 149, 1218, 8, 37, 990, 9, 45, 1555, 28, 136, 647, 24, 19, 226, 1218, 8, 23, 49, 8, 67, 1130, 135, 213, 2294, 24, 92, 158, 335, 44, 149, 27696, 84090, 58759, 93485, 82124, 69923, 20396, 53999, 94886, 75871, 46278, 44949, 26361, 76491, 53999, 84655, 10646, 9622, 95488, 40654, 69923, 51821, 26361, 80577, 52054, 64741, 9217, 34789, 6158, 16886, 99078, 65191], [2, 3, 63, 37, 47, 647, 47, 31563, 45539, 10324, 86886, 7130, 92879], [157, 813, 392, 208, 23, 3799, 488, 37, 114, 9, 341, 18, 630, 488, 1, 254, 45, 284, 141, 3066, 1130, 343, 9, 46, 57075, 84356, 69626, 45148, 72144, 14135, 38657, 96398, 97052, 35777, 74958, 81051, 75871, 10954, 95096], [3], [2, 75, 1130, 37, 47, 647, 47, 1, 97216, 4886, 86886, 7130, 92879, 20990], [7], [2, 3, 31563], [113, 12, 23373], [3], [80, 87, 2009, 43, 41, 48, 870, 207, 183, 57, 9, 1, 1990, 451, 120, 22361, 82736, 82866, 24132, 91145, 70219, 60864, 23351, 40022, 24081], [7], [10], [2, 13, 4, 174, 53, 100097, 20135, 73523, 53343], [280, 359, 461, 2141, 207, 222, 359, 32, 647, 1485, 1794, 1414, 226, 57, 32, 94, 359, 1010, 4, 873, 238, 488, 5, 11, 220, 226, 85, 2, 22, 22898, 55424, 72313, 27245, 66782, 22937, 46473, 38365, 12281, 86083, 71926, 88165, 15003, 72887], [7], [2168, 488, 2037, 1511, 443, 9, 32, 1, 209, 2610, 72, 443, 89208, 66639, 99147, 54645, 12159], [45, 200, 176, 31, 128, 910, 226, 94, 9, 335, 28, 526, 60, 32, 18, 4, 1579, 584, 7957, 56991, 81641, 49062, 25238, 87098, 73617, 81788, 22956, 44227, 11239, 21596, 19567, 12971, 45919], [40, 1, 151, 267, 488, 283, 4, 110, 63510, 51873, 56518, 18254, 86557], [2, 75, 97216], [7, 5, 52186], [23, 140, 123, 6, 113, 79, 17, 26, 70, 133, 575, 45853, 19609, 25182, 25580, 54697, 79262, 78256, 83783, 89300, 56877], [120, 17, 8, 54, 2105, 397, 1511, 202, 4536, 13276, 82037], [7], [7], [7, 69, 1262, 370, 80182], [2, 75, 15, 286, 78, 557, 1328, 97216, 29191, 49808, 86517, 16913, 100281], [2, 186, 16, 488, 69, 3322, 226, 1, 249, 49655, 81407, 15385, 17005, 5475, 37184], [10, 7, 42751], [200, 2780, 2542, 1, 1082, 226, 9, 25, 1480, 37, 43, 4, 110, 1614, 488, 8, 1438, 488, 43, 4, 110, 41, 9, 11, 18, 2409, 1130, 2542, 1, 1274, 91, 26, 368, 80021, 15014, 99057, 36435, 40182, 66094, 86557, 26655, 53011, 66094, 86557, 16107, 94676, 18343, 79604, 80021, 84201, 97108, 24190, 40292], [2, 3, 31563], [64], [40], [10], [36], [9, 32, 126, 43, 4, 110, 66639, 13263, 16633, 66094, 86557], [64], [5, 10, 84512], [113, 44, 5, 74, 108, 4, 232, 37332, 30915, 15340, 9133, 23917, 70630], [5, 2258, 620, 251, 111, 31, 19, 13, 18, 488, 5, 9, 391, 226, 172, 284, 231, 1, 2141, 2009, 14, 155, 104, 23, 145, 1481, 1130, 14, 1, 488, 5, 226, 145, 2057, 104, 301, 31, 1852, 226, 871, 104, 2760, 488, 5, 1511, 2107, 2009, 2988, 1, 61, 620, 16, 2717, 115, 1, 138, 292, 1454, 21425, 81214, 11827, 13422, 67061, 38279, 9413, 86083, 97043, 91273, 79062, 51159, 65466, 30520, 40352, 93957, 77259, 38905, 27830, 86083, 38984, 68461, 11670, 26468, 98169, 81917, 95232, 38306, 86083, 28476, 12637, 18414, 8663, 14261, 79929, 70033, 100786, 43362, 56240], [10], [10], [10, 13, 226, 107, 71325, 31215], [2, 3, 252, 19, 168, 31563, 19831, 36423], [3], [6, 10, 33334], [2, 3, 31563], [3], [40], [263, 55, 1273, 4, 418, 1742, 155, 1, 34215, 81437, 68490, 38067, 95211, 63608], [71], [647, 380, 9, 25, 136, 488, 5, 16, 1311, 50, 2504, 37, 377, 60, 1350, 791, 4, 780, 339, 226, 763, 647, 82, 1, 356, 226, 9, 145, 314, 38, 112, 215, 1, 35, 1307, 703, 115, 9, 25, 33, 224, 39, 114, 9, 25, 329, 1130, 1493, 698, 55, 1606, 1332, 8, 1, 3114, 1720, 3583, 4, 2047, 73, 488, 1, 805, 226, 153, 118, 641, 15, 1524, 4, 780, 115, 9, 214, 67, 647, 82, 50, 8, 386, 1372, 86833, 36435, 40644, 86083, 99131, 64109, 66347, 45197, 90554, 85885, 15381, 88514, 76408, 93032, 97241, 87914, 40626, 99057, 74130, 68129, 98984, 51256, 25467, 36514, 83174, 73563, 36435, 51652, 84506, 85969, 73489, 38657, 36435, 26178, 76757, 68011, 5684, 12088, 95658, 35777, 67393, 65049, 57310, 33720, 31549, 43480, 88514, 73563, 42758, 97584, 97241, 20536, 65897, 10657], [2, 3, 31563], [21, 283, 1511, 56, 215, 4, 53, 152, 134, 1353, 322, 4, 407, 664, 226, 163, 488, 43, 4, 110, 152, 134, 1353, 18, 4, 645, 189, 1130, 14, 1, 226, 93, 30, 2278, 488, 43, 26, 91, 3339, 258, 37, 712, 55, 14, 2009, 66, 29, 703, 1, 1270, 87515, 84929, 91429, 33527, 9372, 74466, 7291, 84897, 66094, 86557, 37659, 33527, 9372, 92111, 19567, 41653, 17779, 38905, 21126, 27700, 29537, 30282, 60071, 67525, 24497, 36108, 66392, 88860, 15448, 79734, 40917], [226, 20, 6, 4, 13, 106, 226, 34, 46736, 53607, 15190, 18921, 83772, 95159, 78799], [448, 205, 305, 17, 4, 3, 53872, 26400, 67190, 90756], [1, 16, 207, 183, 2, 1091, 1760, 1256, 204, 42, 222, 1045, 8, 515, 8, 429, 15, 418, 647, 56, 2009, 134, 941, 133, 1, 95177, 35205, 70219, 11914, 41226, 62510, 47627, 8784, 29384, 47908, 23894, 34462, 13836, 82526], [448, 142, 8, 295, 1569, 38492, 18800, 86633, 78351], [2, 12, 87467], [3], [7], [258, 47, 1046, 1, 265, 1575, 60, 1, 18, 4, 1708, 616, 4, 102, 48, 44, 334, 172, 1665, 647, 2315, 26, 91, 84, 153, 118, 38816, 91492, 57308, 9805, 70138, 19567, 78084, 17850, 53735, 83090, 28685, 75989, 94187, 60071, 80866, 51373, 57310], [2, 3, 35, 144, 2, 4, 286, 1, 1, 240, 2009, 14, 2009, 66, 31563, 95736, 85514, 75039, 90910, 39386, 42506, 75745, 53253, 88860], [50, 1547, 15, 21, 892, 497, 311, 97296, 59243, 23461, 81584, 75018], [150], [7], [6, 22, 97, 226, 1, 80198, 86257, 8816, 5475], [3], [5, 2, 3, 48, 167, 175, 2105, 24, 19, 80990, 31563, 76270, 61236, 86957, 60414, 69923], [48, 9, 159, 1, 647, 27, 488, 41, 1, 24180, 5651, 81396, 15018, 25265, 91209], [248, 64, 98972], [17, 108, 226, 950, 15, 1, 21616, 87150, 66856], [1, 226, 676, 21126], [2, 3, 23, 80, 2009, 69, 31563, 55988, 78603], [113, 62, 226, 101, 1, 5210, 53266], [69, 10, 89957], [1061, 488, 6, 226, 3, 18, 9, 257, 57, 226, 48, 23, 8, 9, 25, 329, 647, 2461, 1493, 1130, 37, 114, 102, 508, 647, 1, 88, 23, 419, 329, 488, 1493, 23, 1417, 226, 461, 18, 356, 183, 1059, 41, 98655, 35990, 77413, 18276, 78887, 25045, 43158, 13804, 96107, 40185, 15580, 36435, 26178, 4886, 14135, 73849, 38540, 22659, 28547, 14138, 93100, 9061, 10615, 18671, 41243], [75, 12, 226, 59, 16707, 84572, 94779], [7, 6, 62, 226, 12, 89888, 62795, 36154], [2, 3, 31563], [64], [7], [1], [58], [2, 3, 2832, 540, 170, 488, 6, 50, 171, 284, 149, 151, 169, 91, 31563, 98655, 15884, 77971, 29450, 46278, 71611, 79563], [2, 3, 731, 31563, 25788], [7, 6, 89888], [2, 3, 31563], [3], [20, 14, 16, 10, 1055, 786, 1102, 858, 859, 226, 7, 69, 252, 1208, 57109, 33255, 99550, 84118, 27039, 80182], [249, 1029, 234, 455, 4, 562, 488, 445, 4, 1196, 20, 226, 763, 33681, 37123, 27441, 27443, 64038, 10736, 48878, 93032], [40], [204, 101, 16112], [85, 22, 68862], [7], [40], [2, 12, 226, 34, 28, 111, 39, 114, 83, 87467, 84572, 78799, 48784, 41021, 15309, 73489, 38012], [474, 6, 8, 60, 617, 9, 30, 1606, 647, 92, 4, 106, 647, 348, 4, 333, 450, 226, 248, 23, 9, 3631, 570, 360, 1199, 596, 4, 143, 226, 1377, 596, 4, 20, 149, 70, 2362, 4, 1852, 2009, 629, 1, 1511, 1530, 19, 60, 145, 266, 207, 146, 48, 44, 334, 226, 1417, 15, 77, 84, 488, 5, 550, 234, 47, 172, 672, 28082, 58565, 60381, 59684, 47499, 74235, 95298, 39822, 13698, 73355, 5802, 56676, 46575, 27492, 78180, 100066, 51460, 78180, 92809, 6943, 30416, 29893, 25983, 6419, 43549, 100594, 57947, 89097, 49983, 37793, 75989, 94187, 54551, 26685, 48075, 87726, 86083, 46516, 77977, 32238], [3], [35, 16, 90, 9, 691, 38, 650, 1130, 37, 226, 763, 73, 1, 44451, 6466, 55735, 92592, 96000, 4886, 77196, 93032, 45561], [488, 5, 14, 2009, 66, 226, 3, 18, 23, 176, 31, 128, 26, 234, 14, 288, 226, 488, 14, 1, 31, 527, 4, 356, 577, 18, 23, 140, 91, 915, 226, 23, 458, 20, 1173, 2009, 14, 86083, 34139, 88860, 94464, 77413, 18276, 97056, 23508, 81641, 49062, 52826, 67618, 79372, 27161, 5073, 38905, 7213, 41039, 73305, 72865, 5111, 22715, 97056, 45853, 5605, 86005, 34040, 37245, 20641, 44522], [32, 30, 541, 226, 2, 68430, 44082, 64940], [45, 1354, 98380], [216], [10, 6, 80, 2, 30035, 26990, 91519], [5, 7, 35, 747, 18111, 16545, 64936], [18, 125, 35571], [7, 14, 86378], [437, 7], [14, 366, 647, 564, 2, 27805, 5222], [40], [1], [1, 7, 507, 100901, 75167], [2, 12, 226, 68, 87467, 84572], [2141, 146, 206, 15, 912, 3114, 793, 42, 1377, 662, 85, 22, 44908, 63934, 62112, 97655, 65735, 68862], [3], [787], [9, 35, 203, 574, 31, 19, 28, 102, 226, 88, 404, 488, 566, 9, 391, 226, 121, 277, 408, 15, 647, 1302, 28, 1581, 4, 574, 647, 24, 19, 28723, 80609, 7970, 84628, 13422, 86536, 31829, 65596, 61874, 91051, 95081, 91273, 91963, 97536, 49353, 83588, 55127, 9754, 77776, 40654, 69923], [5, 3, 68421], [39, 10, 69, 90835, 39895], [20, 7, 14, 66311, 86378], [2, 3, 46, 137, 31563, 65150, 37712], [3, 14, 79036], [2, 3, 5, 31563, 37822], [6, 2, 12, 1130, 1986, 590, 36879, 87467, 84620, 26026], [5, 551, 33804], [62, 226, 256], [7], [26, 328, 17, 22, 50726, 85637, 34952], [2, 3, 31563], [7, 69, 80182], [2, 3, 31563], [7], [145, 2, 22, 387, 46, 2009, 69, 4, 2423, 77716, 72887, 33945, 61445], [2, 3, 74, 58, 31563, 56738, 96448], [28, 102, 11, 488, 21, 14, 28, 3256, 647, 306, 19, 31829, 5733, 79098, 59863, 87095, 50988, 79451], [1253, 4, 720, 474, 8, 647, 456, 678, 3799, 92791, 44382, 9967, 87562], [10], [2, 3, 31563], [6, 12, 68, 226, 7, 28, 299, 151, 4, 18, 125, 226, 325, 11715, 36171, 27039, 54213, 78162, 90496, 79345, 71250, 35571, 72690], [7, 46, 72449], [7], [7, 14, 86378], [3, 199, 105, 21, 49874, 51480, 43058], [721, 68, 36651], [6, 113, 41, 25580, 71591], [2, 3, 488, 5, 10, 31563, 88458, 86083, 84512], [3, 5, 9, 119, 121, 89, 37822, 97043, 100158, 49418], [40, 29, 90, 13064, 46476], [8, 3, 37234], [7, 6, 89888], [6, 2, 68, 36879, 63088], [1343, 50], [2, 3, 31563], [3, 226, 12, 95149, 36154], [81, 25, 111, 31, 19, 2986, 96389, 52268, 11827, 13422, 93876], [5, 3, 431, 8, 9, 11, 358, 18, 563, 92, 4, 69, 833, 480, 1, 2, 647, 56, 648, 16, 44, 1268, 41, 93, 570, 800, 76, 68421, 26195, 101081, 15580, 18343, 96724, 66145, 15835, 95298, 84529, 26343, 71511, 63206, 52190, 25627, 93632, 48173, 68980, 95675], [1], [10], [97, 226, 13, 4, 27, 8816, 48827, 20135, 87321], [2, 3, 5, 31563, 37822], [20, 7, 6, 66311, 89888], [2, 3, 542, 31563, 4758], [2, 3, 31563], [7, 126], [2, 3, 31563], [7, 5, 52186], [7], [2, 3, 31563], [9, 49, 2009, 8, 177, 2, 3, 47050, 75129, 31868, 31563], [10], [2, 36, 77015], [21, 5, 68920], [2, 3, 31563], [7], [976, 226, 107], [10], [2, 3, 31563], [2, 3, 31563], [2, 3, 64, 139, 31563, 28023, 19047], [22, 12, 13, 4, 27, 226, 51, 2141, 65, 37379, 73345, 20135, 87321, 14232, 98366], [7], [7], [7, 69, 80182], [124, 1024, 647, 27, 61, 42, 60, 295, 144, 62441, 17272, 35588, 89049, 80915, 81304], [6, 263, 9, 3972, 255, 28, 299, 32, 19, 13, 11, 2, 180, 139, 1676, 4, 1046, 48, 182, 619, 23, 48, 176, 356, 468, 226, 99, 1456, 896, 512, 146, 139, 1676, 277, 1, 488, 1, 36, 425, 17561, 76941, 46239, 96973, 78162, 76762, 34149, 67061, 29087, 86601, 27935, 22038, 49074, 88597, 80532, 40189, 24163, 64719, 63315, 63494, 45554, 16532, 70516, 49074, 97120, 27830, 35777, 27422, 11157], [40], [133, 139, 19794], [123, 6, 2009, 14, 2009, 66, 11, 113, 120, 79, 188, 227, 268, 724, 4, 114, 17, 29, 370, 226, 61, 16, 488, 1493, 1, 21, 94, 74, 58, 25182, 88860, 33564, 83920, 49207, 7311, 87032, 66041, 17472, 33254, 67203, 29188, 35134, 44106, 50805, 69752, 57282, 15385, 35866, 94728, 96448], [180, 35, 251, 1377, 270, 910, 15, 647, 765, 2009, 5, 15, 37, 377, 48, 1511, 2036, 3267, 155, 104, 686, 1130, 83, 3801, 45722, 87575, 29239, 21587, 99578, 45197, 36819, 66213, 30520, 65095], [10, 226, 12, 1377, 72, 2141, 233, 10405, 36154], [7], [7], [2, 3, 69, 31563, 65931], [21, 14, 4, 72, 3114, 452, 59863, 76687, 28531], [7], [488, 5, 11, 22, 59, 226, 107, 86083, 71926, 32737, 92518, 52478], [1, 10, 2, 2740, 2152, 488, 1, 4, 1, 32, 20, 10, 352, 30, 357, 74, 22, 226, 74, 3185, 172, 4, 53, 59634, 80425, 35777, 41529, 65804, 74319, 46826, 10311, 76743, 46696, 28552, 89609, 7321, 91429], [2, 3, 31563], [40, 69, 81, 1, 727, 22, 220, 53, 85737, 64189, 9744, 50088, 57509, 89880], [2, 3, 31563], [3], [51, 1099, 2141, 65, 83603], [173], [14, 2503, 907, 24, 19, 26, 728, 1, 153, 226, 9, 214, 526, 37, 175, 389, 199, 563, 1171, 70072, 62113, 69923, 61497, 76512, 23200, 99057, 42758, 74107, 22282, 45851, 30440], [7], [23, 2774, 2109, 37, 114, 28, 86, 106, 55, 6, 42, 1230, 164, 1130, 76, 399, 37, 114, 9, 11, 1, 55, 37, 114, 421, 442, 647, 92, 42, 800, 67, 26, 14, 1377, 1312, 148, 226, 453, 78, 91, 1130, 14, 18883, 14135, 65993, 52860, 9425, 78512, 69781, 19427, 75413, 89424, 32989, 14135, 38657, 18343, 48980, 93757, 18063, 14135, 56223, 71972, 22872, 57780, 90666], [488, 6, 2, 3, 98655, 36879, 31563], [3436, 647, 1, 67, 28, 3535, 2348, 459, 3535, 1130, 1, 1093, 1, 1, 1, 1, 1, 38540, 78527, 52413, 69166, 19376, 90278, 75745, 75745, 75745, 75745], [3], [48, 647, 1046, 104, 187, 105, 18, 1298, 1017, 1862, 26, 734, 1827, 359, 11, 76, 104, 1, 28, 415, 195, 460, 3354, 1409, 226, 1, 104, 93, 84, 1827, 854, 466, 91, 11, 29, 374, 11, 488, 21, 14, 2009, 66, 35451, 56213, 77241, 45337, 8471, 61866, 39204, 68951, 44989, 15289, 76459, 5475, 98759, 46693, 88244, 4673, 88679, 97596, 9223, 79098, 59863, 88860], [161, 226, 13, 4, 27, 48827, 20135, 87321], [12, 226, 127, 84572], [11, 64, 20, 1, 275, 8, 750, 89416, 98040, 91281, 42720, 7135, 90617], [40], [5, 7, 69, 521, 10, 470, 18111, 80182, 72859, 75114, 21320], [9, 57, 2783, 121, 4, 1122, 55, 1511, 135, 2, 2110, 1069, 241, 366, 2, 647, 564, 1, 50484, 94064, 88230, 95779, 31978, 66426, 35891, 52190, 89721], [2, 3, 31563], [84, 488, 5, 212, 18, 4, 512, 189, 226, 93, 30, 3757, 26, 72, 2141, 2263, 1377, 104, 992, 488, 5, 50, 57, 3003, 13, 4, 27, 226, 3504, 93, 119, 90, 104, 30, 1, 4, 1083, 459, 37, 114, 11, 20, 2045, 1, 1, 671, 1012, 1766, 2263, 215, 1, 1, 1, 437, 1511, 2542, 488, 5, 11, 1, 226, 3114, 292, 1, 1, 212, 20, 758, 1342, 1130, 608, 647, 1, 4, 1, 4, 2134, 9, 1, 375, 146, 42, 76, 1, 1130, 18, 10, 5, 9, 159, 28, 289, 29, 86083, 20843, 8263, 19567, 23353, 90631, 97180, 27700, 29537, 18604, 14325, 86083, 60012, 40194, 14902, 20135, 87321, 14232, 34530, 4019, 31170, 64662, 41529, 35769, 95871, 14135, 13452, 7646, 19132, 45616, 75745, 18592, 29737, 37935, 25467, 75745, 75745, 48220, 86083, 71926, 48980, 21126, 86379, 94794, 75745, 20445, 29858, 72897, 20788, 38540, 41529, 65804, 41529, 68075, 40022, 9822, 54453, 16121, 82117, 35453, 36045, 24408, 41265, 67860, 97043, 5651, 40221, 56502, 61692], [133, 407, 1216, 70941, 42058], [3, 69, 65931], [44, 6, 172, 1, 43590, 38863, 70265], [10, 469, 226, 615]]\n"
          ],
          "name": "stdout"
        }
      ]
    },
    {
      "cell_type": "code",
      "metadata": {
        "id": "CFuXGFvEsEPI"
      },
      "source": [
        "predict_padded = pad_sequences(new_sequences, maxlen=max_length, padding=padding_type, truncating=trunc_type)"
      ],
      "execution_count": 43,
      "outputs": []
    },
    {
      "cell_type": "code",
      "metadata": {
        "id": "JY3A9C2wump9"
      },
      "source": [
        "score = acrescentando_dimensionalidade(score)\n",
        "score = np.asarray(score)"
      ],
      "execution_count": 44,
      "outputs": []
    },
    {
      "cell_type": "code",
      "metadata": {
        "id": "8wDkyVb9vL6-"
      },
      "source": [
        "predict_padded2 = np.append(score, predict_padded, axis=1)"
      ],
      "execution_count": 45,
      "outputs": []
    },
    {
      "cell_type": "code",
      "metadata": {
        "id": "oCJni2MWLoyV",
        "outputId": "0499ce0c-0cd6-4fc6-8771-9d8f4d41ee01",
        "colab": {
          "base_uri": "https://localhost:8080/"
        }
      },
      "source": [
        "predict_padded2.shape"
      ],
      "execution_count": 46,
      "outputs": [
        {
          "output_type": "execute_result",
          "data": {
            "text/plain": [
              "(783, 151)"
            ]
          },
          "metadata": {
            "tags": []
          },
          "execution_count": 46
        }
      ]
    },
    {
      "cell_type": "code",
      "metadata": {
        "id": "FbuEz5ddH-aC",
        "outputId": "dc0c7bea-8f9f-4a8c-eea1-85dbb11a30cc",
        "colab": {
          "base_uri": "https://localhost:8080/"
        }
      },
      "source": [
        "print('\\n Exemplo de nova prediçao\\n')              \n",
        "\n",
        "classes = model.predict(predict_padded2)\n",
        "\n",
        "print(new_reviews[17])\n",
        "print(classes[15:17])"
      ],
      "execution_count": 47,
      "outputs": [
        {
          "output_type": "stream",
          "text": [
            "\n",
            " Exemplo de nova prediçao\n",
            "\n",
            "o banco com muita competência,e principalmente quero elogiar funcionário Alex sempre que eu vou na minha agência me trata super bem\n",
            "[[7.8808401e-12 9.8079199e-01 4.8071687e-04 5.2859850e-04 1.6828338e-02\n",
            "  1.0266672e-05 4.4042208e-05 1.3121573e-03 3.8744961e-06]\n",
            " [2.5114315e-22 9.9999607e-01 1.1528161e-06 2.2024827e-07 2.2808877e-06\n",
            "  7.1873493e-11 2.6238647e-09 2.2894291e-07 1.0648620e-11]]\n"
          ],
          "name": "stdout"
        }
      ]
    },
    {
      "cell_type": "code",
      "metadata": {
        "id": "yqOgNs2KAWLM",
        "outputId": "3966d035-77d6-4922-efda-0896e65bf855",
        "colab": {
          "base_uri": "https://localhost:8080/"
        }
      },
      "source": [
        "type(predict_padded)"
      ],
      "execution_count": 48,
      "outputs": [
        {
          "output_type": "execute_result",
          "data": {
            "text/plain": [
              "numpy.ndarray"
            ]
          },
          "metadata": {
            "tags": []
          },
          "execution_count": 48
        }
      ]
    },
    {
      "cell_type": "code",
      "metadata": {
        "id": "iyT8TgxvAWLO",
        "outputId": "008db116-cfc7-4c18-f146-1477c16928ca",
        "colab": {
          "base_uri": "https://localhost:8080/"
        }
      },
      "source": [
        "classes_list = classes.tolist()\n",
        "for contagem in range(10):\n",
        "  print(contagem, classes_list[contagem].index(np.max(classes[contagem], axis=0, keepdims=True)))"
      ],
      "execution_count": 49,
      "outputs": [
        {
          "output_type": "stream",
          "text": [
            "0 1\n",
            "1 1\n",
            "2 2\n",
            "3 4\n",
            "4 1\n",
            "5 1\n",
            "6 1\n",
            "7 1\n",
            "8 1\n",
            "9 1\n"
          ],
          "name": "stdout"
        }
      ]
    },
    {
      "cell_type": "code",
      "metadata": {
        "id": "mdKLwvXPAWLO",
        "outputId": "81af622b-949f-49c1-dce7-d332c40caf6a",
        "colab": {
          "base_uri": "https://localhost:8080/"
        }
      },
      "source": [
        "print(reversed_prediction_classes, '\\n', reversed_prediction_classes[2] )"
      ],
      "execution_count": 50,
      "outputs": [
        {
          "output_type": "stream",
          "text": [
            "{1: 'Elogio', 2: 'Reclamação', 3: 'Crítica', 4: 'Neutra', 5: 'Dúvida', 6: 'Sugestão', 7: 'Resposta', 8: 'Solicitação'} \n",
            " Reclamação\n"
          ],
          "name": "stdout"
        }
      ]
    },
    {
      "cell_type": "code",
      "metadata": {
        "id": "JeMgpPIDAWLS",
        "outputId": "102e4f88-5f18-454c-c740-cfae2c2467e0",
        "colab": {
          "base_uri": "https://localhost:8080/",
          "height": 35
        }
      },
      "source": [
        "lista_predicao = []\n",
        "for item in classes_list:\n",
        "  lista_predicao.append(reversed_prediction_classes[item.index(max(item))])\n",
        "lista_predicao[5]"
      ],
      "execution_count": 51,
      "outputs": [
        {
          "output_type": "execute_result",
          "data": {
            "application/vnd.google.colaboratory.intrinsic+json": {
              "type": "string"
            },
            "text/plain": [
              "'Elogio'"
            ]
          },
          "metadata": {
            "tags": []
          },
          "execution_count": 51
        }
      ]
    },
    {
      "cell_type": "code",
      "metadata": {
        "id": "5XmW8-FlAWLT",
        "outputId": "65ae57f6-8790-493c-8277-2de556fe4933",
        "colab": {
          "base_uri": "https://localhost:8080/",
          "height": 374
        }
      },
      "source": [
        "dataset[dataset.columns[2]] = lista_predicao\n",
        "dataset.head(3)"
      ],
      "execution_count": 52,
      "outputs": [
        {
          "output_type": "execute_result",
          "data": {
            "text/html": [
              "<div>\n",
              "<style scoped>\n",
              "    .dataframe tbody tr th:only-of-type {\n",
              "        vertical-align: middle;\n",
              "    }\n",
              "\n",
              "    .dataframe tbody tr th {\n",
              "        vertical-align: top;\n",
              "    }\n",
              "\n",
              "    .dataframe thead th {\n",
              "        text-align: right;\n",
              "    }\n",
              "</style>\n",
              "<table border=\"1\" class=\"dataframe\">\n",
              "  <thead>\n",
              "    <tr style=\"text-align: right;\">\n",
              "      <th></th>\n",
              "      <th>Responsável</th>\n",
              "      <th>Natureza</th>\n",
              "      <th>Classificação</th>\n",
              "      <th>Produtos/Serviços</th>\n",
              "      <th>Detalhamento</th>\n",
              "      <th>Descrição do Problema</th>\n",
              "      <th>Produtos/Serviços 2</th>\n",
              "      <th>Detalhamento 2</th>\n",
              "      <th>Descrição do Problema 2</th>\n",
              "      <th>Produtos/Serviços 3</th>\n",
              "      <th>Detalhamento 3</th>\n",
              "      <th>Descrição do Problema 3</th>\n",
              "      <th>id</th>\n",
              "      <th>userName</th>\n",
              "      <th>userImage</th>\n",
              "      <th>review</th>\n",
              "      <th>score</th>\n",
              "      <th>thumbsUpCount</th>\n",
              "      <th>appVersion</th>\n",
              "      <th>date</th>\n",
              "      <th>reply</th>\n",
              "      <th>replyDate</th>\n",
              "    </tr>\n",
              "  </thead>\n",
              "  <tbody>\n",
              "    <tr>\n",
              "      <th>0</th>\n",
              "      <td>Automático</td>\n",
              "      <td>Opinião</td>\n",
              "      <td>Elogio</td>\n",
              "      <td>Aplicativo</td>\n",
              "      <td>NaN</td>\n",
              "      <td>NaN</td>\n",
              "      <td>NaN</td>\n",
              "      <td>NaN</td>\n",
              "      <td>NaN</td>\n",
              "      <td>NaN</td>\n",
              "      <td>NaN</td>\n",
              "      <td>NaN</td>\n",
              "      <td>gp:AOqpTOGg0Ev4vB_osA6Vwgrw3LwwPgWNswzhCMkxbIt...</td>\n",
              "      <td>Ketlley Rose</td>\n",
              "      <td>https://play-lh.googleusercontent.com/a-/AOh14...</td>\n",
              "      <td>muito útil pra mim.</td>\n",
              "      <td>4</td>\n",
              "      <td>0</td>\n",
              "      <td>7.29.2.0</td>\n",
              "      <td>2020-10-26 09:28:38</td>\n",
              "      <td>NaN</td>\n",
              "      <td>NaT</td>\n",
              "    </tr>\n",
              "    <tr>\n",
              "      <th>1</th>\n",
              "      <td>Rossato</td>\n",
              "      <td>Opinião</td>\n",
              "      <td>Elogio</td>\n",
              "      <td>Aplicativo</td>\n",
              "      <td>NaN</td>\n",
              "      <td>NaN</td>\n",
              "      <td>NaN</td>\n",
              "      <td>NaN</td>\n",
              "      <td>NaN</td>\n",
              "      <td>NaN</td>\n",
              "      <td>NaN</td>\n",
              "      <td>NaN</td>\n",
              "      <td>gp:AOqpTOGJpbBxSAVeEexyJCkSou2OFbdAUhTK4O5KCsD...</td>\n",
              "      <td>Gabriel Pinheiro</td>\n",
              "      <td>https://play-lh.googleusercontent.com/-pwSaK9q...</td>\n",
              "      <td>👍</td>\n",
              "      <td>5</td>\n",
              "      <td>0</td>\n",
              "      <td>7.29.2.0</td>\n",
              "      <td>2020-10-26 09:25:37</td>\n",
              "      <td>NaN</td>\n",
              "      <td>NaT</td>\n",
              "    </tr>\n",
              "    <tr>\n",
              "      <th>2</th>\n",
              "      <td>Automático</td>\n",
              "      <td>Técnica</td>\n",
              "      <td>Reclamação</td>\n",
              "      <td>Aplicativo</td>\n",
              "      <td>Disponibilidade/Estabilidade</td>\n",
              "      <td>Travamento</td>\n",
              "      <td>NaN</td>\n",
              "      <td>NaN</td>\n",
              "      <td>NaN</td>\n",
              "      <td>NaN</td>\n",
              "      <td>NaN</td>\n",
              "      <td>NaN</td>\n",
              "      <td>gp:AOqpTOHBKSLCpLKrgAY04-Vd2pX5b-xyDpQTxuV0XBd...</td>\n",
              "      <td>jose lucas</td>\n",
              "      <td>https://play-lh.googleusercontent.com/a-/AOh14...</td>\n",
              "      <td>O aplicativo tem muito a melhor, pois as vezes...</td>\n",
              "      <td>3</td>\n",
              "      <td>0</td>\n",
              "      <td>7.29.2.0</td>\n",
              "      <td>2020-10-26 09:22:47</td>\n",
              "      <td>Oi! Li seu comentário, mas não consegui entend...</td>\n",
              "      <td>2020-10-26 08:19:19</td>\n",
              "    </tr>\n",
              "  </tbody>\n",
              "</table>\n",
              "</div>"
            ],
            "text/plain": [
              "  Responsável  ...           replyDate\n",
              "0  Automático  ...                 NaT\n",
              "1     Rossato  ...                 NaT\n",
              "2  Automático  ... 2020-10-26 08:19:19\n",
              "\n",
              "[3 rows x 22 columns]"
            ]
          },
          "metadata": {
            "tags": []
          },
          "execution_count": 52
        }
      ]
    },
    {
      "cell_type": "markdown",
      "metadata": {
        "id": "5736hOayAWLW"
      },
      "source": [
        "# Salvando o arquivo em Excel"
      ]
    },
    {
      "cell_type": "code",
      "metadata": {
        "id": "9Xo6TkwUAWLW"
      },
      "source": [
        "writer = pd.ExcelWriter(\"predicao_gerada.xlsx\")\n",
        "dataset.to_excel(writer, index=False)\n",
        "writer.save()"
      ],
      "execution_count": 53,
      "outputs": []
    }
  ]
}