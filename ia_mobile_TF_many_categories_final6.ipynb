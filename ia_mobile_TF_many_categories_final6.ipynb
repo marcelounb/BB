{
  "nbformat": 4,
  "nbformat_minor": 0,
  "metadata": {
    "colab": {
      "name": "ia-mobile-TF-many_categories-final6.ipynb",
      "provenance": [],
      "collapsed_sections": [],
      "authorship_tag": "ABX9TyPogZSRYA8XKDoja8EkJNbA",
      "include_colab_link": true
    },
    "kernelspec": {
      "name": "python3",
      "display_name": "Python 3"
    },
    "accelerator": "GPU"
  },
  "cells": [
    {
      "cell_type": "markdown",
      "metadata": {
        "id": "view-in-github",
        "colab_type": "text"
      },
      "source": [
        "<a href=\"https://colab.research.google.com/github/marcelounb/BB/blob/master/ia_mobile_TF_many_categories_final6.ipynb\" target=\"_parent\"><img src=\"https://colab.research.google.com/assets/colab-badge.svg\" alt=\"Open In Colab\"/></a>"
      ]
    },
    {
      "cell_type": "code",
      "metadata": {
        "id": "sjhfxp81AWKH"
      },
      "source": [
        "import pandas as pd\n",
        "import numpy as np\n",
        "import seaborn as sns\n",
        "import matplotlib.pyplot as plt"
      ],
      "execution_count": 1,
      "outputs": []
    },
    {
      "cell_type": "code",
      "metadata": {
        "id": "5Vbude2DAWKJ"
      },
      "source": [
        "import tensorflow as tf\n",
        "from keras.models import Sequential\n",
        "from keras.layers import Flatten\n",
        "from keras.layers import Embedding\n",
        "from keras.layers import Dense\n",
        "from keras.layers import Dropout\n",
        "\n",
        "# For Tokenizing\n",
        "from tensorflow.keras.preprocessing.text import Tokenizer\n",
        "from tensorflow.keras.preprocessing.sequence import pad_sequences\n",
        "# For N-grams\n",
        "from keras.preprocessing import text"
      ],
      "execution_count": 2,
      "outputs": []
    },
    {
      "cell_type": "markdown",
      "metadata": {
        "id": "iT1qJ8VuAWKK"
      },
      "source": [
        "# Abrindo o arquivo com todo o Dataset para treinamento"
      ]
    },
    {
      "cell_type": "code",
      "metadata": {
        "id": "UYxFXVvjAWKL"
      },
      "source": [
        "path = \"/content/fulldataset.xlsx\""
      ],
      "execution_count": 3,
      "outputs": []
    },
    {
      "cell_type": "code",
      "metadata": {
        "id": "WamslFzzAWKM"
      },
      "source": [
        "dataset = pd.read_excel(path, sheet_name=0, header=0, dtype={'score': np.int32})\n",
        "\n",
        "dataset[dataset.columns[3]] = dataset[dataset.columns[3]].fillna('não se aplica')  # retirando os valores nulos\n",
        "\n",
        "responsavel       = dataset[dataset.columns[0]].tolist()   # Responsável\n",
        "natureza          = dataset[dataset.columns[1]].tolist()   # Natureza\n",
        "classificacao     = dataset[dataset.columns[2]].tolist()   # Classificação\n",
        "produtos_servicos = dataset[dataset.columns[3]].tolist()   # Produtos/Serviços\n",
        "detalhamento      = dataset[dataset.columns[4]].tolist()   # Detalhamento\n",
        "review            = dataset[dataset.columns[15]].tolist()  # review\n",
        "score             = dataset[dataset.columns[16]].tolist()  # score"
      ],
      "execution_count": 4,
      "outputs": []
    },
    {
      "cell_type": "code",
      "metadata": {
        "id": "QVb6AiY3AWKO",
        "outputId": "570c30e5-3a4f-4808-e42c-cccd06b07f37",
        "colab": {
          "base_uri": "https://localhost:8080/"
        }
      },
      "source": [
        "print(list(dataset.columns))"
      ],
      "execution_count": 5,
      "outputs": [
        {
          "output_type": "stream",
          "text": [
            "['Responsável', 'Natureza', 'Classificação', 'Produtos/Serviços', 'Detalhamento', 'Descrição do Problema', 'Produtos/Serviços 2', 'Detalhamento 2', 'Descrição do Problema 2', 'Produtos/Serviços 3', 'Detalhamento 3', 'Descrição do Problema 3', 'id', 'userName', 'userImage', 'review', 'score', 'thumbsUpCount', 'appVersion', 'date', 'reply', 'replyDate']\n"
          ],
          "name": "stdout"
        }
      ]
    },
    {
      "cell_type": "markdown",
      "metadata": {
        "id": "4KCJD5VyAWKQ"
      },
      "source": [
        "# Reduzindo o texto (retirando artigos, pontuacao e conjuncao 'e') - review_reduzida"
      ]
    },
    {
      "cell_type": "code",
      "metadata": {
        "id": "AYwhe88wAWKQ"
      },
      "source": [
        "def reduzir_texto(frases):\n",
        "  frase = ''\n",
        "  for item in frases.lower().split():\n",
        "    if item not in ['a', 'o', 'as', 'os', 'da', 'do', 'das', 'dos', 'e', 'no', 'na', 'em', 'i']:  # retira os artigos e conjuncao 'e'\n",
        "      if item[-1] in ['.', ',', '!', ';' ]:\n",
        "        frase +=str(item[0:-1])+' '  # retira pontuacao\n",
        "      else:\n",
        "        frase +=str(item)+' '\n",
        "  return frase[:-1]"
      ],
      "execution_count": 6,
      "outputs": []
    },
    {
      "cell_type": "code",
      "metadata": {
        "id": "N379uxqmAWKS"
      },
      "source": [
        "def reduzir_review(review):\n",
        "  review_reduzida = []\n",
        "  for item in review:\n",
        "    review_reduzida.append(reduzir_texto(item))\n",
        "  print(review[0:5])\n",
        "  print(review_reduzida[0:5])\n",
        "  return review_reduzida"
      ],
      "execution_count": 7,
      "outputs": []
    },
    {
      "cell_type": "code",
      "metadata": {
        "id": "dP5klTz2UTCY",
        "outputId": "f1dfc208-898f-4dcc-8d47-1f5a2a5aa516",
        "colab": {
          "base_uri": "https://localhost:8080/"
        }
      },
      "source": [
        "review_reduzida = reduzir_review(review)"
      ],
      "execution_count": 8,
      "outputs": [
        {
          "output_type": "stream",
          "text": [
            "['Excelente', 'Muito bom', 'Não estou conseguindo fazer um cartão de crédito para mim Eu só quero Aff já tentei várias vezes fazer o cartão quando eu fui fazer mandou esperar treis dias aí quando eu fui abri o aplicativo para ver se foi aprovado , Táva mandando fazer tudo dinovo', 'Por mais que eu tente não consigo desbloquear o app para transferências', 'Bom aplicativo eu gosto']\n",
            "['excelente', 'muito bom', 'não estou conseguindo fazer um cartão de crédito para mim eu só quero aff já tentei várias vezes fazer cartão quando eu fui fazer mandou esperar treis dias aí quando eu fui abri aplicativo para ver se foi aprovado  táva mandando fazer tudo dinovo', 'por mais que eu tente não consigo desbloquear app para transferências', 'bom aplicativo eu gosto']\n"
          ],
          "name": "stdout"
        }
      ]
    },
    {
      "cell_type": "markdown",
      "metadata": {
        "id": "5T4j4aJiAWKT"
      },
      "source": [
        "# Separando as bases de treinamento e de testes\n",
        "Utilize review ou review_reduzida\n"
      ]
    },
    {
      "cell_type": "code",
      "metadata": {
        "id": "Be8DOtMWAWKU"
      },
      "source": [
        "def dataset_split(dataset_name, training_size):\n",
        "  return dataset_name[0:training_size], dataset_name[training_size:]\n",
        "\n",
        "training_size = int(len(review) * 0.8)  # Separate out the sentences and labels into training and test sets\n",
        "\n",
        "training_sentences, testing_sentences = dataset_split(review, training_size)  # Utilize review ou review_reduzida\n",
        "training_labels, testing_labels = dataset_split(classificacao, training_size)  # Aqui - Dataset Escolhido\n",
        "training_score,  testing_score = dataset_split(score, training_size)"
      ],
      "execution_count": 9,
      "outputs": []
    },
    {
      "cell_type": "code",
      "metadata": {
        "id": "WqImCsEaAWKV"
      },
      "source": [
        "def acrescentando_dimensionalidade(listagem):\n",
        "  # Pega uma lista do tipo:[1, 1, 1, 1, 1, 1, 1, 1, 1, 1] e transforma em [[1], [1], [1], [1], [1], [1], [1], [1], [1], [1]]\n",
        "  # Aqui utilizamos para acrescentar uma dimensionalidade para o campo Score \n",
        "  return [[item] for item in listagem]"
      ],
      "execution_count": 10,
      "outputs": []
    },
    {
      "cell_type": "code",
      "metadata": {
        "id": "MxTJlcQNAWKZ"
      },
      "source": [
        "training_score = acrescentando_dimensionalidade(training_score)  # Acrescentando dimensionalidade a coluna Score\n",
        "testing_score = acrescentando_dimensionalidade(testing_score)    # Acrescentando dimensionalidade a coluna Score"
      ],
      "execution_count": 11,
      "outputs": []
    },
    {
      "cell_type": "code",
      "metadata": {
        "id": "ysqL3WNRAWKf",
        "outputId": "b6fe52da-3f5d-45be-9dea-0e51247be1e2",
        "colab": {
          "base_uri": "https://localhost:8080/"
        }
      },
      "source": [
        "# Tokenizing classificacao\n",
        "tokenizer = Tokenizer(split='@', filters='@')  # Não categoriza novas palavras por causa de espaço ou caracteres especiais\n",
        "tokenizer.fit_on_texts(classificacao)  # Aqui - Dataset Escolhido\n",
        "word_index = tokenizer.word_index\n",
        "print(word_index)\n",
        "prediction_classes = word_index\n",
        "reversed_prediction_classes = {value : key[0].upper() + key[1:] for (key, value) in prediction_classes.items()}\n",
        "print(reversed_prediction_classes)"
      ],
      "execution_count": 12,
      "outputs": [
        {
          "output_type": "stream",
          "text": [
            "{'elogio': 1, 'reclamação': 2, 'crítica': 3, 'neutra': 4, 'dúvida': 5, 'sugestão': 6, 'resposta': 7, 'solicitação': 8}\n",
            "{1: 'Elogio', 2: 'Reclamação', 3: 'Crítica', 4: 'Neutra', 5: 'Dúvida', 6: 'Sugestão', 7: 'Resposta', 8: 'Solicitação'}\n"
          ],
          "name": "stdout"
        }
      ]
    },
    {
      "cell_type": "code",
      "metadata": {
        "id": "I0NoZfS-AWKj",
        "outputId": "757c98cd-811a-47a4-d994-84fb1537c0f4",
        "colab": {
          "base_uri": "https://localhost:8080/"
        }
      },
      "source": [
        "print('word_index:', len(word_index))\n",
        "tamanho_classes = len(word_index)+1\n",
        "print('tamanho_classes:', tamanho_classes)"
      ],
      "execution_count": 13,
      "outputs": [
        {
          "output_type": "stream",
          "text": [
            "word_index: 8\n",
            "tamanho_classes: 9\n"
          ],
          "name": "stdout"
        }
      ]
    },
    {
      "cell_type": "code",
      "metadata": {
        "id": "LIMUijDxAWKl"
      },
      "source": [
        "def transforming_labels(lista):\n",
        "  # Retorna o numero inteiro referente ao Label - ex: training_labels[0:3] = ['Elogio', 'Elogio', 'Reclamação'] vai retornar [1, 1, 2]\n",
        "  return [word_index.get(item.lower()) for item in lista]"
      ],
      "execution_count": 14,
      "outputs": []
    },
    {
      "cell_type": "code",
      "metadata": {
        "id": "7fk558uCAWKp"
      },
      "source": [
        "training_labels = transforming_labels(training_labels)\n",
        "testing_labels = transforming_labels(testing_labels)"
      ],
      "execution_count": 15,
      "outputs": []
    },
    {
      "cell_type": "code",
      "metadata": {
        "id": "lr8hSJ_tAWKt",
        "outputId": "23de3ac7-4fa1-4262-ea79-949507e75490",
        "colab": {
          "base_uri": "https://localhost:8080/"
        }
      },
      "source": [
        "print(training_sentences[0:5])\n",
        "print(training_labels[0:10], testing_labels[0:10])"
      ],
      "execution_count": 16,
      "outputs": [
        {
          "output_type": "stream",
          "text": [
            "['Excelente', 'Muito bom', 'Não estou conseguindo fazer um cartão de crédito para mim Eu só quero Aff já tentei várias vezes fazer o cartão quando eu fui fazer mandou esperar treis dias aí quando eu fui abri o aplicativo para ver se foi aprovado , Táva mandando fazer tudo dinovo', 'Por mais que eu tente não consigo desbloquear o app para transferências', 'Bom aplicativo eu gosto']\n",
            "[1, 1, 2, 2, 1, 2, 2, 2, 2, 2] [1, 1, 1, 1, 1, 1, 1, 1, 1, 1]\n"
          ],
          "name": "stdout"
        }
      ]
    },
    {
      "cell_type": "code",
      "metadata": {
        "id": "avYmlylTAWKr",
        "outputId": "03e8067c-3f20-41ef-c97f-073a6e3c5dfa",
        "colab": {
          "base_uri": "https://localhost:8080/"
        }
      },
      "source": [
        "# Make labels into numpy arrays for use with the network later\n",
        "training_labels_final = np.array(training_labels)\n",
        "testing_labels_final = np.array(testing_labels)\n",
        "training_labels_final"
      ],
      "execution_count": 17,
      "outputs": [
        {
          "output_type": "execute_result",
          "data": {
            "text/plain": [
              "array([1, 1, 2, ..., 1, 1, 1])"
            ]
          },
          "metadata": {
            "tags": []
          },
          "execution_count": 17
        }
      ]
    },
    {
      "cell_type": "markdown",
      "metadata": {
        "id": "zUcaw4DoAWKu"
      },
      "source": [
        "# Tokenize the dataset\n",
        "Tokenize the dataset"
      ]
    },
    {
      "cell_type": "code",
      "metadata": {
        "id": "9qJU04ZRAWKu"
      },
      "source": [
        "# Tokenizing values\n",
        "vocab_size = 4000\n",
        "embedding_dim = 128\n",
        "max_length = 150\n",
        "oov_tok = \"<OOV>\"\n",
        "\n",
        "tokenizer = Tokenizer(num_words = vocab_size, oov_token=oov_tok)\n",
        "tokenizer.fit_on_texts(training_sentences)\n",
        "sequences = tokenizer.texts_to_sequences(training_sentences)\n",
        "word_index = tokenizer.word_index"
      ],
      "execution_count": 18,
      "outputs": []
    },
    {
      "cell_type": "markdown",
      "metadata": {
        "id": "4stWJV3xAWKw"
      },
      "source": [
        "N-grams (bigrams or trigrams)"
      ]
    },
    {
      "cell_type": "code",
      "metadata": {
        "id": "VzyWjJ6tCIJU"
      },
      "source": [
        "def create_ngram_set(input_list, ngram_value=2):\n",
        "    \"\"\"Extract a set of n-grams from a list of integers.\n",
        "    >>> create_ngram_set([1, 4, 9, 4, 1, 4], ngram_value=2)\n",
        "    {(4, 9), (4, 1), (1, 4), (9, 4)}\n",
        "    >>> create_ngram_set([1, 4, 9, 4, 1, 4], ngram_value=3)\n",
        "    [(1, 4, 9), (4, 9, 4), (9, 4, 1), (4, 1, 4)]\"\"\"\n",
        "\n",
        "    return set(zip(*[input_list[i:] for i in range(ngram_value)]))\n",
        "\n",
        "\n",
        "def add_ngram(sequences, token_indice, ngram_range=2):\n",
        "    \"\"\"Augment the input list of list (sequences) by appending n-grams values.\n",
        "    Example: adding bi-gram\n",
        "    >>> sequences = [[1, 3, 4, 5], [1, 3, 7, 9, 2]]\n",
        "    >>> token_indice = {(1, 3): 1337, (9, 2): 42, (4, 5): 2017}\n",
        "    >>> add_ngram(sequences, token_indice, ngram_range=2)\n",
        "    [[1, 3, 4, 5, 1337, 2017], [1, 3, 7, 9, 2, 1337, 42]]\n",
        "    Example: adding tri-gram\n",
        "    >>> sequences = [[1, 3, 4, 5], [1, 3, 7, 9, 2]]\n",
        "    >>> token_indice = {(1, 3): 1337, (9, 2): 42, (4, 5): 2017, (7, 9, 2): 2018}\n",
        "    >>> add_ngram(sequences, token_indice, ngram_range=3)\n",
        "    [[1, 3, 4, 5, 1337, 2017], [1, 3, 7, 9, 2, 1337, 42, 2018]]\"\"\"\n",
        "    \n",
        "    new_sequences = []\n",
        "    for input_list in sequences:\n",
        "        new_list = input_list[:]\n",
        "        for ngram_value in range(2, ngram_range + 1):\n",
        "            for i in range(len(new_list) - ngram_value + 1):\n",
        "                ngram = tuple(new_list[i:i + ngram_value])\n",
        "                if ngram in token_indice:\n",
        "                    new_list.append(token_indice[ngram])\n",
        "        new_sequences.append(new_list)\n",
        "\n",
        "    return new_sequences"
      ],
      "execution_count": 19,
      "outputs": []
    },
    {
      "cell_type": "code",
      "metadata": {
        "id": "_wUlzzUIAWKx"
      },
      "source": [
        "# N-grams values - Configura o uso de Ngrams:: 1 - Uma palavra (unigrama), 2 - Duas palavras (bigrama)\n",
        "NGRAN_RANGE = 1"
      ],
      "execution_count": 20,
      "outputs": []
    },
    {
      "cell_type": "code",
      "metadata": {
        "id": "8mf2IIyzDEN2"
      },
      "source": [
        "if NGRAN_RANGE > 1:\n",
        "    ngram_set = set()\n",
        "    for input_list in sequences:\n",
        "        for i in range(2, NGRAN_RANGE + 1):\n",
        "            set_of_ngram = create_ngram_set(input_list, ngram_value=i)\n",
        "            ngram_set.update(set_of_ngram)\n",
        "    \n",
        "    # Dictionary mapping n-gram token to a unique integer.\n",
        "    # Integer values are greater than max_features in order\n",
        "    # to avoid collision with existing features.        \n",
        "    token_indice = {v: k + vocab_size for k, v in enumerate(ngram_set)}\n",
        "    indice_token = {token_indice[k]: k for k in token_indice}\n",
        "    \n",
        "    # Update vocab_size\n",
        "    vocab_size = np.max(list(indice_token.keys())) + 1\n",
        "    print('Update vocab_size %d' % vocab_size)\n",
        "    \n",
        "    # Augument sequences with the new features\n",
        "    sequences = add_ngram(sequences, token_indice, NGRAN_RANGE)\n",
        "    print(len(sequences), 'sequences')\n",
        "    print('Average train sequence length: %d' % np.mean(list(map(len, sequences))))"
      ],
      "execution_count": 21,
      "outputs": []
    },
    {
      "cell_type": "markdown",
      "metadata": {
        "id": "CrIADVfEAWKy"
      },
      "source": [
        "Padding"
      ]
    },
    {
      "cell_type": "code",
      "metadata": {
        "id": "QNodzZjKAWKz"
      },
      "source": [
        "trunc_type='post'\n",
        "padding_type='post'\n",
        "\n",
        "padded = pad_sequences(sequences,maxlen=max_length, padding=padding_type, truncating=trunc_type)  #review de treinamento com padding\n",
        "testing_sequences = tokenizer.texts_to_sequences(testing_sentences)\n",
        "testing_padded = pad_sequences(testing_sequences,maxlen=max_length, padding=padding_type, truncating=trunc_type)  #review de treinamento com padding"
      ],
      "execution_count": 22,
      "outputs": []
    },
    {
      "cell_type": "code",
      "metadata": {
        "id": "UPwLzorYAWK2",
        "outputId": "201a7b7e-8156-4580-b070-1e4a954d55a0",
        "colab": {
          "base_uri": "https://localhost:8080/"
        }
      },
      "source": [
        "print(padded.shape, testing_padded.shape)\n",
        "print(padded[0], '\\n', training_score[0:4])"
      ],
      "execution_count": 23,
      "outputs": [
        {
          "output_type": "stream",
          "text": [
            "(67164, 150) (16791, 150)\n",
            "[13  0  0  0  0  0  0  0  0  0  0  0  0  0  0  0  0  0  0  0  0  0  0  0\n",
            "  0  0  0  0  0  0  0  0  0  0  0  0  0  0  0  0  0  0  0  0  0  0  0  0\n",
            "  0  0  0  0  0  0  0  0  0  0  0  0  0  0  0  0  0  0  0  0  0  0  0  0\n",
            "  0  0  0  0  0  0  0  0  0  0  0  0  0  0  0  0  0  0  0  0  0  0  0  0\n",
            "  0  0  0  0  0  0  0  0  0  0  0  0  0  0  0  0  0  0  0  0  0  0  0  0\n",
            "  0  0  0  0  0  0  0  0  0  0  0  0  0  0  0  0  0  0  0  0  0  0  0  0\n",
            "  0  0  0  0  0  0] \n",
            " [[1], [1], [1], [1]]\n"
          ],
          "name": "stdout"
        }
      ]
    },
    {
      "cell_type": "code",
      "metadata": {
        "id": "Be_MaEhiAWK8"
      },
      "source": [
        "training_score = np.asarray(training_score)\n",
        "testing_score = np.asarray(testing_score)"
      ],
      "execution_count": 24,
      "outputs": []
    },
    {
      "cell_type": "markdown",
      "metadata": {
        "id": "-b_AQjeJAWK9"
      },
      "source": [
        "Unindo o Dataset Score ao Dataset_escolhido (Natureza, Produto e Serviço ou Classificação)"
      ]
    },
    {
      "cell_type": "code",
      "metadata": {
        "id": "hKgzo_jtAWK_"
      },
      "source": [
        "padded2 = np.append(training_score, padded, axis=1)\n",
        "testing_padded2 = np.append(testing_score, testing_padded, axis=1)"
      ],
      "execution_count": 25,
      "outputs": []
    },
    {
      "cell_type": "markdown",
      "metadata": {
        "id": "WniAzJUJAWLA"
      },
      "source": [
        "# Review a Sequence\n",
        "Let's quickly take a look at one of the padded sequences to ensure everything above worked appropriately."
      ]
    },
    {
      "cell_type": "code",
      "metadata": {
        "id": "c4MGbz4NAWLA",
        "outputId": "e4695e0e-8eef-41c4-89e3-3a2cf8f07068",
        "colab": {
          "base_uri": "https://localhost:8080/"
        }
      },
      "source": [
        "reverse_word_index = dict([(value, key) for (key, value) in word_index.items()])\n",
        "\n",
        "def decode_review(text):\n",
        "    return ' '.join([reverse_word_index.get(i, 'x') for i in text])\n",
        "\n",
        "print(decode_review(padded[0]))\n",
        "print(training_sentences[0])"
      ],
      "execution_count": 26,
      "outputs": [
        {
          "output_type": "stream",
          "text": [
            "excelente x x x x x x x x x x x x x x x x x x x x x x x x x x x x x x x x x x x x x x x x x x x x x x x x x x x x x x x x x x x x x x x x x x x x x x x x x x x x x x x x x x x x x x x x x x x x x x x x x x x x x x x x x x x x x x x x x x x x x x x x x x x x x x x x x x x x x x x x x x x x x x x x x x x x x\n",
            "Excelente\n"
          ],
          "name": "stdout"
        }
      ]
    },
    {
      "cell_type": "markdown",
      "metadata": {
        "id": "WTA8RoVIAWLB"
      },
      "source": [
        "# Train a Basic Sentiment Model with Embeddings"
      ]
    },
    {
      "cell_type": "code",
      "metadata": {
        "id": "2VYuNgy1AWLC"
      },
      "source": [
        "max_length +=1  # Somando 1 do Score"
      ],
      "execution_count": 27,
      "outputs": []
    },
    {
      "cell_type": "code",
      "metadata": {
        "id": "1WJoIVe9t_Mn"
      },
      "source": [
        "# fix random seed for reproducibility \n",
        "seed = 7 \n",
        "np.random.seed(seed)"
      ],
      "execution_count": 28,
      "outputs": []
    },
    {
      "cell_type": "code",
      "metadata": {
        "id": "cMsMomNrmz-Z"
      },
      "source": [
        "# Build a basic sentiment network\n",
        "# Note the embedding layer is first, and the output is a sparse categorical from classes\n",
        "def baseline_model():\n",
        "  model = Sequential()\n",
        "  model.add(Embedding(vocab_size, embedding_dim, input_length=max_length))\n",
        "  model.add(Flatten())\n",
        "  model.add(Dense(2001, activation='relu'))\n",
        "  model.add(Dropout(0.1))\n",
        "  model.add(Dense(501, activation='relu'))\n",
        "  model.add(Dense(51, activation='relu'))\n",
        "  model.add(Dense(tamanho_classes, activation='softmax'))\n",
        "\n",
        "  model.compile(loss='sparse_categorical_crossentropy',optimizer='adam',metrics=['accuracy'] )\n",
        "  model.summary()\n",
        "  return model"
      ],
      "execution_count": 29,
      "outputs": []
    },
    {
      "cell_type": "code",
      "metadata": {
        "id": "cM21fwJBtkRZ"
      },
      "source": [
        "# Build a basic sentiment network\n",
        "# Note the embedding layer is first, and the output is a sparse categorical from classes\n",
        "def baseline_model2():\n",
        "  model = Sequential()\n",
        "  model.add(Embedding(vocab_size, embedding_dim, input_length=max_length))\n",
        "  model.add(Flatten())\n",
        "  model.add(Dense(501, activation='relu'))\n",
        "  model.add(Dropout(0.2))\n",
        "  model.add(Dense(251, activation='relu'))\n",
        "  model.add(Dense(tamanho_classes, activation='softmax'))\n",
        "\n",
        "  model.compile(loss='sparse_categorical_crossentropy',optimizer='adam',metrics=['accuracy'] )\n",
        "  model.summary()\n",
        "  return model"
      ],
      "execution_count": 30,
      "outputs": []
    },
    {
      "cell_type": "code",
      "metadata": {
        "id": "w5aXSEjrqkfy",
        "outputId": "2666370c-9277-40f8-f8e0-492e2e1e47d0",
        "colab": {
          "base_uri": "https://localhost:8080/"
        }
      },
      "source": [
        "model = baseline_model2()"
      ],
      "execution_count": 31,
      "outputs": [
        {
          "output_type": "stream",
          "text": [
            "Model: \"sequential\"\n",
            "_________________________________________________________________\n",
            "Layer (type)                 Output Shape              Param #   \n",
            "=================================================================\n",
            "embedding (Embedding)        (None, 151, 128)          512000    \n",
            "_________________________________________________________________\n",
            "flatten (Flatten)            (None, 19328)             0         \n",
            "_________________________________________________________________\n",
            "dense (Dense)                (None, 501)               9683829   \n",
            "_________________________________________________________________\n",
            "dropout (Dropout)            (None, 501)               0         \n",
            "_________________________________________________________________\n",
            "dense_1 (Dense)              (None, 251)               126002    \n",
            "_________________________________________________________________\n",
            "dense_2 (Dense)              (None, 9)                 2268      \n",
            "=================================================================\n",
            "Total params: 10,324,099\n",
            "Trainable params: 10,324,099\n",
            "Non-trainable params: 0\n",
            "_________________________________________________________________\n"
          ],
          "name": "stdout"
        }
      ]
    },
    {
      "cell_type": "code",
      "metadata": {
        "id": "ZAt19KSfAWLF",
        "outputId": "816e0a9d-62ad-46f7-ba4b-45b0a662e97e",
        "colab": {
          "base_uri": "https://localhost:8080/"
        }
      },
      "source": [
        "num_epochs = 2\n",
        "hist = model.fit(padded2, training_labels_final, epochs=num_epochs, validation_data=(testing_padded2, testing_labels_final))"
      ],
      "execution_count": 32,
      "outputs": [
        {
          "output_type": "stream",
          "text": [
            "Epoch 1/2\n",
            "2099/2099 [==============================] - 21s 10ms/step - loss: 0.1886 - accuracy: 0.9448 - val_loss: 0.1797 - val_accuracy: 0.9485\n",
            "Epoch 2/2\n",
            "2099/2099 [==============================] - 21s 10ms/step - loss: 0.1175 - accuracy: 0.9621 - val_loss: 0.1874 - val_accuracy: 0.9489\n"
          ],
          "name": "stdout"
        }
      ]
    },
    {
      "cell_type": "code",
      "metadata": {
        "id": "1LsisWF0AWLG",
        "outputId": "2b2deed7-c8d0-475a-efc5-fb4d6f5b8a13",
        "colab": {
          "base_uri": "https://localhost:8080/"
        }
      },
      "source": [
        "scores = model.evaluate(testing_padded2, testing_labels_final, verbose=0)\n",
        "print(\"Baseline Error: %.2f%%\" % (100-scores[1]*100))"
      ],
      "execution_count": 33,
      "outputs": [
        {
          "output_type": "stream",
          "text": [
            "Baseline Error: 5.11%\n"
          ],
          "name": "stdout"
        }
      ]
    },
    {
      "cell_type": "code",
      "metadata": {
        "id": "pN_n9a4rAWLH",
        "outputId": "bde5d51c-79b9-4fd8-ecc7-e527d0babb61",
        "colab": {
          "base_uri": "https://localhost:8080/",
          "height": 573
        }
      },
      "source": [
        "plt.plot(hist.history[ 'accuracy' ])\n",
        "plt.plot(hist.history[ 'val_accuracy' ])\n",
        "plt.title( 'model accuracy' )\n",
        "plt.ylabel( 'accuracy')\n",
        "plt.xlabel( 'epoch' )\n",
        "plt.legend([ 'train' , 'test' ], loc= 'upper left' )\n",
        "plt.show()\n",
        "# summarize history for loss\n",
        "plt.plot(hist.history[ 'loss' ])\n",
        "plt.plot(hist.history[ 'val_loss' ])\n",
        "plt.title( 'model loss' )\n",
        "plt.ylabel( 'loss' )\n",
        "plt.xlabel( 'epoch' )\n",
        "plt.legend([ 'train' , 'test' ], loc= 'upper left' )\n",
        "plt.show()"
      ],
      "execution_count": 34,
      "outputs": [
        {
          "output_type": "display_data",
          "data": {
            "image/png": "[encoded data removed]",
            "text/plain": [
              "<Figure size 432x288 with 1 Axes>"
            ]
          },
          "metadata": {
            "tags": [],
            "needs_background": "light"
          }
        },
        {
          "output_type": "display_data",
          "data": {
            "image/png": "[encoded data removed]",
            "text/plain": [
              "<Figure size 432x288 with 1 Axes>"
            ]
          },
          "metadata": {
            "tags": [],
            "needs_background": "light"
          }
        }
      ]
    },
    {
      "cell_type": "markdown",
      "metadata": {
        "id": "lluiGS5GAWLI"
      },
      "source": [
        "# Novas Predições:"
      ]
    },
    {
      "cell_type": "code",
      "metadata": {
        "id": "T8zqjJF8AWLI"
      },
      "source": [
        "path = \"/content/arquivo_novo.xlsx\""
      ],
      "execution_count": 35,
      "outputs": []
    },
    {
      "cell_type": "code",
      "metadata": {
        "id": "lh6uB0FNAWLJ"
      },
      "source": [
        "dataset = pd.read_excel(path, sheet_name=0, header=0, dtype={'score': np.int32})\n",
        "\n",
        "responsavel       = dataset[dataset.columns[0]].tolist()   # Responsável\n",
        "natureza          = dataset[dataset.columns[1]].tolist()   # Natureza\n",
        "classificacao     = dataset[dataset.columns[2]].tolist()   # Classificação\n",
        "produtos_servicos = dataset[dataset.columns[3]].tolist()   # Produtos/Serviços\n",
        "detalhamento      = dataset[dataset.columns[4]].tolist()   # Detalhamento\n",
        "review            = dataset[dataset.columns[15]].tolist()  # review\n",
        "score             = dataset[dataset.columns[16]].tolist()  # score"
      ],
      "execution_count": 36,
      "outputs": []
    },
    {
      "cell_type": "code",
      "metadata": {
        "id": "7yNQ-uG5AWLL"
      },
      "source": [
        "# Use the model to predict a review   \n",
        "# new_reviews = reduzir_review(review)  # Utilize review ou review_reduzida\n",
        "new_reviews = review\n",
        "\n",
        "max_length = 150\n",
        "# Create the sequences\n",
        "new_sequences = tokenizer.texts_to_sequences(new_reviews)"
      ],
      "execution_count": 37,
      "outputs": []
    },
    {
      "cell_type": "markdown",
      "metadata": {
        "id": "zk9ApwxJgT5d"
      },
      "source": [
        "Codificando a nova sequencia com base nos Ngrams já mapeados"
      ]
    },
    {
      "cell_type": "code",
      "metadata": {
        "id": "hh7bph0fH55T"
      },
      "source": [
        "if NGRAN_RANGE > 1:\n",
        "  temp_list_final = []\n",
        "  for item in new_sequences:\n",
        "    # print(item)\n",
        "    temp_list, temp_list2 = [], []\n",
        "    for each in item:\n",
        "      # print('--', each)\n",
        "      if len(temp_list)==0:\n",
        "        primeiro_item = each  # Primeira vez que passa\n",
        "        temp_list.append(each)\n",
        "      else:\n",
        "        tupla = (primeiro_item, each)\n",
        "        if token_indice.get(tupla) is not None:\n",
        "          temp_list2.append(token_indice.get(tupla))\n",
        "        temp_list.append(each)\n",
        "        primeiro_item = each\n",
        "    temp_list = temp_list + temp_list2\n",
        "    temp_list_final.append(temp_list)\n",
        "    # print(temp_list)\n",
        "  print(temp_list_final)\n",
        "  new_sequences = temp_list_final"
      ],
      "execution_count": 38,
      "outputs": []
    },
    {
      "cell_type": "code",
      "metadata": {
        "id": "JY3A9C2wump9"
      },
      "source": [
        "score = np.asarray(acrescentando_dimensionalidade(score))  # Acrescentando dimensionalidade no score e transformando-o em np array\n",
        "predict_padded = pad_sequences(new_sequences, maxlen=max_length, padding=padding_type, truncating=trunc_type)\n",
        "predict_padded2 = np.append(score, predict_padded, axis=1)  # Unindo os DataFrames [score]+[coluna escolhida]"
      ],
      "execution_count": 39,
      "outputs": []
    },
    {
      "cell_type": "code",
      "metadata": {
        "id": "FbuEz5ddH-aC",
        "outputId": "07c4a7f3-c349-45ae-c8d8-65608a4d6f2b",
        "colab": {
          "base_uri": "https://localhost:8080/"
        }
      },
      "source": [
        "print('\\n Exemplo de nova prediçao\\n')              \n",
        "\n",
        "classes = model.predict(predict_padded2)\n",
        "print(new_reviews[17])\n",
        "print(classes[15:17])"
      ],
      "execution_count": 40,
      "outputs": [
        {
          "output_type": "stream",
          "text": [
            "\n",
            " Exemplo de nova prediçao\n",
            "\n",
            "Ótima\n",
            "[[4.3477718e-26 9.9999976e-01 1.4655242e-08 2.1974921e-08 1.5732674e-07\n",
            "  2.4801400e-12 3.6959233e-10 2.8091561e-08 4.0199304e-17]\n",
            " [8.6525065e-24 9.9999762e-01 9.9107103e-07 1.0733113e-06 2.9681391e-07\n",
            "  2.6599247e-11 1.4872943e-08 2.3847360e-08 9.6770878e-16]]\n"
          ],
          "name": "stdout"
        }
      ]
    },
    {
      "cell_type": "code",
      "metadata": {
        "id": "JeMgpPIDAWLS",
        "outputId": "1cc54528-b495-4945-dee6-33a6df833d36",
        "colab": {
          "base_uri": "https://localhost:8080/"
        }
      },
      "source": [
        "classes_list = classes.tolist()\n",
        "print(reversed_prediction_classes, '\\n', reversed_prediction_classes[2] )\n",
        "lista_predicao = [reversed_prediction_classes[item.index(max(item))] for item in classes_list]  # Pega a classe mais provavel da lista avaliada pelo modelo\n",
        "print(lista_predicao[5])"
      ],
      "execution_count": 41,
      "outputs": [
        {
          "output_type": "stream",
          "text": [
            "{1: 'Elogio', 2: 'Reclamação', 3: 'Crítica', 4: 'Neutra', 5: 'Dúvida', 6: 'Sugestão', 7: 'Resposta', 8: 'Solicitação'} \n",
            " Reclamação\n",
            "Elogio\n"
          ],
          "name": "stdout"
        }
      ]
    },
    {
      "cell_type": "code",
      "metadata": {
        "id": "5XmW8-FlAWLT",
        "outputId": "b2ad574f-dddf-4048-883b-da47a80c4d47",
        "colab": {
          "base_uri": "https://localhost:8080/",
          "height": 341
        }
      },
      "source": [
        "dataset[dataset.columns[2]] = lista_predicao  # Aqui - Dataset Escolhido\n",
        "dataset.head(3)"
      ],
      "execution_count": 42,
      "outputs": [
        {
          "output_type": "execute_result",
          "data": {
            "text/html": [
              "<div>\n",
              "<style scoped>\n",
              "    .dataframe tbody tr th:only-of-type {\n",
              "        vertical-align: middle;\n",
              "    }\n",
              "\n",
              "    .dataframe tbody tr th {\n",
              "        vertical-align: top;\n",
              "    }\n",
              "\n",
              "    .dataframe thead th {\n",
              "        text-align: right;\n",
              "    }\n",
              "</style>\n",
              "<table border=\"1\" class=\"dataframe\">\n",
              "  <thead>\n",
              "    <tr style=\"text-align: right;\">\n",
              "      <th></th>\n",
              "      <th>Responsável</th>\n",
              "      <th>Natureza</th>\n",
              "      <th>Classificação</th>\n",
              "      <th>Produtos/Serviços</th>\n",
              "      <th>Detalhamento</th>\n",
              "      <th>Descrição do Problema</th>\n",
              "      <th>Produtos/Serviços 2</th>\n",
              "      <th>Detalhamento 2</th>\n",
              "      <th>Descrição do Problema 2</th>\n",
              "      <th>Produtos/Serviços 3</th>\n",
              "      <th>Detalhamento 3</th>\n",
              "      <th>Descrição do Problema 3</th>\n",
              "      <th>id</th>\n",
              "      <th>userName</th>\n",
              "      <th>userImage</th>\n",
              "      <th>review</th>\n",
              "      <th>score</th>\n",
              "      <th>thumbsUpCount</th>\n",
              "      <th>appVersion</th>\n",
              "      <th>date</th>\n",
              "      <th>reply</th>\n",
              "      <th>replyDate</th>\n",
              "    </tr>\n",
              "  </thead>\n",
              "  <tbody>\n",
              "    <tr>\n",
              "      <th>0</th>\n",
              "      <td>Weuber</td>\n",
              "      <td>Negocial</td>\n",
              "      <td>Elogio</td>\n",
              "      <td>Aplicativo</td>\n",
              "      <td>Usabilidade</td>\n",
              "      <td>NaN</td>\n",
              "      <td>NaN</td>\n",
              "      <td>NaN</td>\n",
              "      <td>NaN</td>\n",
              "      <td>NaN</td>\n",
              "      <td>NaN</td>\n",
              "      <td>NaN</td>\n",
              "      <td>gp:AOqpTOHiKrJSaL_JJhtQHt4n_8r3KNKyNrlOFdVeiyf...</td>\n",
              "      <td>Romulo Gondim</td>\n",
              "      <td>https://play-lh.googleusercontent.com/a-/AOh14...</td>\n",
              "      <td>Excelente, o aplicativo é simples de utilizar ...</td>\n",
              "      <td>5</td>\n",
              "      <td>0</td>\n",
              "      <td>7.30.2.0</td>\n",
              "      <td>2020-10-30 08:16:49</td>\n",
              "      <td>NaN</td>\n",
              "      <td>NaT</td>\n",
              "    </tr>\n",
              "    <tr>\n",
              "      <th>1</th>\n",
              "      <td>Automático</td>\n",
              "      <td>Opinião</td>\n",
              "      <td>Elogio</td>\n",
              "      <td>Aplicativo</td>\n",
              "      <td>NaN</td>\n",
              "      <td>NaN</td>\n",
              "      <td>NaN</td>\n",
              "      <td>NaN</td>\n",
              "      <td>NaN</td>\n",
              "      <td>NaN</td>\n",
              "      <td>NaN</td>\n",
              "      <td>NaN</td>\n",
              "      <td>gp:AOqpTOESTTKJHgAF36-6Th3ddIuxLeS3m-rgv4dROj1...</td>\n",
              "      <td>Nilton Moraes</td>\n",
              "      <td>https://play-lh.googleusercontent.com/-6GN57qX...</td>\n",
              "      <td>Muito bom!</td>\n",
              "      <td>5</td>\n",
              "      <td>0</td>\n",
              "      <td>7.30.2.0</td>\n",
              "      <td>2020-10-30 08:16:27</td>\n",
              "      <td>NaN</td>\n",
              "      <td>NaT</td>\n",
              "    </tr>\n",
              "    <tr>\n",
              "      <th>2</th>\n",
              "      <td>Automático</td>\n",
              "      <td>Opinião</td>\n",
              "      <td>Elogio</td>\n",
              "      <td>Aplicativo</td>\n",
              "      <td>NaN</td>\n",
              "      <td>NaN</td>\n",
              "      <td>NaN</td>\n",
              "      <td>NaN</td>\n",
              "      <td>NaN</td>\n",
              "      <td>NaN</td>\n",
              "      <td>NaN</td>\n",
              "      <td>NaN</td>\n",
              "      <td>gp:AOqpTOHmNDYh9J4BlnP75djwUvN1OqM1LO9ZFRZ6oNM...</td>\n",
              "      <td>Renata Godoi mendes</td>\n",
              "      <td>https://play-lh.googleusercontent.com/a-/AOh14...</td>\n",
              "      <td>sensacional</td>\n",
              "      <td>5</td>\n",
              "      <td>0</td>\n",
              "      <td>7.30.2.0</td>\n",
              "      <td>2020-10-30 08:15:56</td>\n",
              "      <td>NaN</td>\n",
              "      <td>NaT</td>\n",
              "    </tr>\n",
              "  </tbody>\n",
              "</table>\n",
              "</div>"
            ],
            "text/plain": [
              "  Responsável  Natureza Classificação  ...                date reply replyDate\n",
              "0      Weuber  Negocial        Elogio  ... 2020-10-30 08:16:49   NaN       NaT\n",
              "1  Automático   Opinião        Elogio  ... 2020-10-30 08:16:27   NaN       NaT\n",
              "2  Automático   Opinião        Elogio  ... 2020-10-30 08:15:56   NaN       NaT\n",
              "\n",
              "[3 rows x 22 columns]"
            ]
          },
          "metadata": {
            "tags": []
          },
          "execution_count": 42
        }
      ]
    },
    {
      "cell_type": "markdown",
      "metadata": {
        "id": "5736hOayAWLW"
      },
      "source": [
        "# Salvando o arquivo em Excel"
      ]
    },
    {
      "cell_type": "code",
      "metadata": {
        "id": "9Xo6TkwUAWLW"
      },
      "source": [
        "writer = pd.ExcelWriter(\"predicao_gerada-unigramas-semDesvio_produtos_servicos.xlsx\")\n",
        "dataset.to_excel(writer, index=False)\n",
        "writer.save()"
      ],
      "execution_count": 43,
      "outputs": []
    }
  ]
}