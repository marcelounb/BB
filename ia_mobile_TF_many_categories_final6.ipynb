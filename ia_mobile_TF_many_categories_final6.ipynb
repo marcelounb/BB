{
  "nbformat": 4,
  "nbformat_minor": 0,
  "metadata": {
    "colab": {
      "name": "ia-mobile-TF-many_categories-final6.ipynb",
      "provenance": [],
      "collapsed_sections": [],
      "toc_visible": true,
      "authorship_tag": "ABX9TyOjH1dM+V0DbkBBZ/YEl4EV",
      "include_colab_link": true
    },
    "kernelspec": {
      "name": "python3",
      "display_name": "Python 3"
    },
    "accelerator": "GPU"
  },
  "cells": [
    {
      "cell_type": "markdown",
      "metadata": {
        "id": "view-in-github",
        "colab_type": "text"
      },
      "source": [
        "<a href=\"https://colab.research.google.com/github/marcelounb/BB/blob/master/ia_mobile_TF_many_categories_final6.ipynb\" target=\"_parent\"><img src=\"https://colab.research.google.com/assets/colab-badge.svg\" alt=\"Open In Colab\"/></a>"
      ]
    },
    {
      "cell_type": "code",
      "metadata": {
        "id": "sjhfxp81AWKH"
      },
      "source": [
        "# import os\n",
        "# from google.colab import files\n",
        "import pandas as pd\n",
        "import numpy as np\n",
        "import seaborn as sns\n",
        "import matplotlib.pyplot as plt"
      ],
      "execution_count": 105,
      "outputs": []
    },
    {
      "cell_type": "code",
      "metadata": {
        "id": "5Vbude2DAWKJ"
      },
      "source": [
        "import tensorflow as tf\n",
        "\n",
        "# For Tokenizing\n",
        "from tensorflow.keras.preprocessing.text import Tokenizer\n",
        "from tensorflow.keras.preprocessing.sequence import pad_sequences\n",
        "\n",
        "# For N-grams\n",
        "from keras.preprocessing import text"
      ],
      "execution_count": 106,
      "outputs": []
    },
    {
      "cell_type": "markdown",
      "metadata": {
        "id": "iT1qJ8VuAWKK"
      },
      "source": [
        "# Abrindo o arquivo com todo o Dataset para treinamento"
      ]
    },
    {
      "cell_type": "code",
      "metadata": {
        "id": "UYxFXVvjAWKL"
      },
      "source": [
        "path = \"/content/fulldataset.xlsx\""
      ],
      "execution_count": 107,
      "outputs": []
    },
    {
      "cell_type": "code",
      "metadata": {
        "id": "WamslFzzAWKM"
      },
      "source": [
        "dataset = pd.read_excel(path, sheet_name=0, header=0, dtype={'score': np.int32})\n",
        "\n",
        "dataset[dataset.columns[3]] = dataset[dataset.columns[3]].fillna('não se aplica')  # retirando os valores nulos\n",
        "\n",
        "responsavel       = dataset[dataset.columns[0]].tolist()   # Responsável\n",
        "natureza          = dataset[dataset.columns[1]].tolist()   # Natureza\n",
        "classificacao     = dataset[dataset.columns[2]].tolist()   # Classificação\n",
        "produtos_servicos = dataset[dataset.columns[3]].tolist()   # Produtos/Serviços\n",
        "detalhamento      = dataset[dataset.columns[4]].tolist()   # Detalhamento\n",
        "review            = dataset[dataset.columns[15]].tolist()  # review\n",
        "score             = dataset[dataset.columns[16]].tolist()  # score"
      ],
      "execution_count": 108,
      "outputs": []
    },
    {
      "cell_type": "code",
      "metadata": {
        "id": "QVb6AiY3AWKO",
        "outputId": "d2480f90-3aab-46ee-cf6e-d668faa0477b",
        "colab": {
          "base_uri": "https://localhost:8080/"
        }
      },
      "source": [
        "print(list(dataset.columns))"
      ],
      "execution_count": 109,
      "outputs": [
        {
          "output_type": "stream",
          "text": [
            "['Responsável', 'Natureza', 'Classificação', 'Produtos/Serviços', 'Detalhamento', 'Descrição do Problema', 'Produtos/Serviços 2', 'Detalhamento 2', 'Descrição do Problema 2', 'Produtos/Serviços 3', 'Detalhamento 3', 'Descrição do Problema 3', 'id', 'userName', 'userImage', 'review', 'score', 'thumbsUpCount', 'appVersion', 'date', 'reply', 'replyDate']\n"
          ],
          "name": "stdout"
        }
      ]
    },
    {
      "cell_type": "markdown",
      "metadata": {
        "id": "4KCJD5VyAWKQ"
      },
      "source": [
        "# Reduzindo o texto (retirando artigos, pontuacao e conjuncao 'e') - review_reduzida"
      ]
    },
    {
      "cell_type": "code",
      "metadata": {
        "id": "AYwhe88wAWKQ"
      },
      "source": [
        "def reduzir_texto(frases):\n",
        "  frase = ''\n",
        "  for item in frases.lower().split():\n",
        "    if item not in ['a', 'o', 'as', 'os', 'da', 'do', 'das', 'dos', 'e', 'no', 'na', 'em', 'i']:  # retira os artigos e conjuncao 'e'\n",
        "      if item[-1] in ['.', ',', '!', ';' ]:\n",
        "        frase +=str(item[0:-1])+' '  # retira pontuacao\n",
        "      else:\n",
        "        frase +=str(item)+' '\n",
        "\n",
        "  return frase[:-1]"
      ],
      "execution_count": 110,
      "outputs": []
    },
    {
      "cell_type": "code",
      "metadata": {
        "id": "N379uxqmAWKS",
        "outputId": "afdbe7e8-dea2-4d57-d909-a9864f335957",
        "colab": {
          "base_uri": "https://localhost:8080/"
        }
      },
      "source": [
        "def reduzir_review(review):\n",
        "  review_reduzida = []\n",
        "  for item in review:\n",
        "    review_reduzida.append(reduzir_texto(item))\n",
        "  print(review[0:5])\n",
        "  print(review_reduzida[0:5])\n",
        "  return review_reduzida\n",
        "\n",
        "review_reduzida = reduzir_review(review)"
      ],
      "execution_count": 111,
      "outputs": [
        {
          "output_type": "stream",
          "text": [
            "['Excelente', 'Muito bom', 'Não estou conseguindo fazer um cartão de crédito para mim Eu só quero Aff já tentei várias vezes fazer o cartão quando eu fui fazer mandou esperar treis dias aí quando eu fui abri o aplicativo para ver se foi aprovado , Táva mandando fazer tudo dinovo', 'Por mais que eu tente não consigo desbloquear o app para transferências', 'Bom aplicativo eu gosto']\n",
            "['excelente', 'muito bom', 'não estou conseguindo fazer um cartão de crédito para mim eu só quero aff já tentei várias vezes fazer cartão quando eu fui fazer mandou esperar treis dias aí quando eu fui abri aplicativo para ver se foi aprovado  táva mandando fazer tudo dinovo', 'por mais que eu tente não consigo desbloquear app para transferências', 'bom aplicativo eu gosto']\n"
          ],
          "name": "stdout"
        }
      ]
    },
    {
      "cell_type": "markdown",
      "metadata": {
        "id": "5T4j4aJiAWKT"
      },
      "source": [
        "# Separando as bases de treinamento e de testes\n",
        "Utilize review ou review_reduzida\n"
      ]
    },
    {
      "cell_type": "code",
      "metadata": {
        "id": "Be8DOtMWAWKU"
      },
      "source": [
        "def dataset_split(dataset_name, training_size):\n",
        "  return dataset_name[0:training_size], dataset_name[training_size:]\n",
        "\n",
        "training_size = int(len(review) * 0.8)  # Separate out the sentences and labels into training and test sets\n",
        "\n",
        "training_sentences, testing_sentences = dataset_split(review, training_size)  # Utilize review ou review_reduzida\n",
        "training_labels, testing_labels = dataset_split(produtos_servicos, training_size)  # Aqui - Dataset Escolhido\n",
        "training_score,  testing_score = dataset_split(score, training_size)"
      ],
      "execution_count": 112,
      "outputs": []
    },
    {
      "cell_type": "code",
      "metadata": {
        "id": "WqImCsEaAWKV"
      },
      "source": [
        "def acrescentando_dimensionalidade(listagem):\n",
        "  lista2 = []\n",
        "  for item in listagem:\n",
        "    lista3 = []\n",
        "    lista3.append(item)\n",
        "    lista2.append(lista3)\n",
        "  return lista2"
      ],
      "execution_count": 113,
      "outputs": []
    },
    {
      "cell_type": "code",
      "metadata": {
        "id": "zTqOgIh5AWKX",
        "outputId": "3706c66e-ee9a-4fd7-c52d-51304390ae20",
        "colab": {
          "base_uri": "https://localhost:8080/"
        }
      },
      "source": [
        "print(training_score[0:10])"
      ],
      "execution_count": 114,
      "outputs": [
        {
          "output_type": "stream",
          "text": [
            "[1, 1, 1, 1, 1, 1, 1, 1, 1, 1]\n"
          ],
          "name": "stdout"
        }
      ]
    },
    {
      "cell_type": "code",
      "metadata": {
        "id": "MxTJlcQNAWKZ"
      },
      "source": [
        "training_score = acrescentando_dimensionalidade(training_score)  # Acrescentando dimensionalidade a coluna Score\n",
        "testing_score = acrescentando_dimensionalidade(testing_score)    # Acrescentando dimensionalidade a coluna Score"
      ],
      "execution_count": 115,
      "outputs": []
    },
    {
      "cell_type": "code",
      "metadata": {
        "id": "e7VRsRnNAWKd",
        "outputId": "d4e5bbad-26b3-4e56-8b2a-13e6748df48f",
        "colab": {
          "base_uri": "https://localhost:8080/"
        }
      },
      "source": [
        "print(training_score[0:10])"
      ],
      "execution_count": 116,
      "outputs": [
        {
          "output_type": "stream",
          "text": [
            "[[1], [1], [1], [1], [1], [1], [1], [1], [1], [1]]\n"
          ],
          "name": "stdout"
        }
      ]
    },
    {
      "cell_type": "code",
      "metadata": {
        "id": "ysqL3WNRAWKf",
        "outputId": "c944cbe4-eff3-4a51-d7a1-1b76baef6593",
        "colab": {
          "base_uri": "https://localhost:8080/"
        }
      },
      "source": [
        "# Tokenizing classificacao\n",
        "tokenizer = Tokenizer(split='@', filters='@')  # Não categoriza novas palavras por causa de espaço ou caracteres especiais\n",
        "tokenizer.fit_on_texts(produtos_servicos)  # Aqui - Dataset Escolhido\n",
        "word_index = tokenizer.word_index\n",
        "print(word_index)\n",
        "prediction_classes = word_index\n",
        "reversed_prediction_classes = {value : key[0].upper() + key[1:] for (key, value) in prediction_classes.items()}\n",
        "print(reversed_prediction_classes)"
      ],
      "execution_count": 117,
      "outputs": [
        {
          "output_type": "stream",
          "text": [
            "{'aplicativo': 1, 'não se aplica': 2, 'empresa': 3, 'atendimento': 4, 'abertura conta fácil': 5, 'pagamento': 6, 'transferência': 7, 'cartão ourocard': 8, 'senha': 9, 'leitor de código de barra': 10, 'liberação de dispositivo': 11, 'tarifa': 12, 'leitor de cartão': 13, 'atualização app': 14, 'fatura do cartão': 15, 'cartão de crédito': 16, 'sms': 17, 'qr code': 18, 'upgrade conta fácil': 19, 'cartão': 20, 'empréstimo': 21, 'fale com seu gerente': 22, 'login': 23, 'limite': 24, 'bb code': 25, 'pagamento de boleto': 26, 'mensagem': 27, 'conta': 28, 'desbloqueio de senha': 29, 'limite de transferência/pagamento': 30, 'extrato': 31, 'biometria': 32, 'encerramento de conta': 33, 'pagamento de fatura': 34, 'limite do cartão': 35, 'saldo': 36, 'poupança': 37, 'investimento': 38, 'notificações': 39, 'liberação pagamento/transferência': 40, 'comprovante': 41, 'atualização cadastral': 42, 'desbloqueio de cartão': 43, 'cadastro de senha': 44, 'recarga de celular': 45, 'cadastro': 46, 'atendimento online': 47, 'selfie': 48, 'conta salário': 49, 'pix': 50, 'depósito': 51, 'minhas finanças': 52, 'contestação de compra': 53, 'cdc fgts': 54, 'limite de movimentação': 55, 'geração de boleto': 56, 'whatsapp - atendimento': 57, 'pagamento agendado': 58, 'compartilhamento de comprovante': 59, 'taxa de juro': 60, 'cartão virtual': 61, 'abertura conta pj mei': 62, 'pacote de serviços': 63, 'pagamento de empréstimo': 64, 'personalização app': 65, 'pagamento da fatura': 66, 'conta corrente': 67, 'lançamento futuro': 68, 'liberação do cartão': 69, 'marketing digital': 70, 'pagamento de ipva': 71, 'débito': 72, 'desbloqueio de conta': 73, 'ted': 74, 'boleto': 75, 'depósito de cheque': 76, 'cartão de débito': 77, 'consórcio': 78, 'pontos e vantagens': 79, 'débito em conta': 80, 'cartão saraiva': 81, 'saldo da poupança': 82, 'conta poupança': 83, 'financiamento de imóvel': 84, 'antecipação de parcelas': 85, 'saque': 86, 'inss - benefício': 87, 'cancelar agendamento de pagamento': 88, 'pasep': 89, 'simulação de empréstimo': 90, 'extrato de investimento': 91, 'extrato de poupança': 92, 'extrato de empréstimo': 93, 'avaliação do app': 94, 'saque móvel': 95, 'cheque especial': 96, 'portabilidade': 97, 'fies': 98, 'financiamento de veículo': 99, 'web (aapf/aapj)': 100, 'simulação de financiamento': 101, 'conta universitária': 102, 'nfc': 103, 'seguros': 104, 'brasilprev': 105, 'resgate da poupança': 106, 'recuperação de senha': 107, 'débito automático de cartão': 108, 'pendência': 109, 'saldo do cartão': 110, 'cartão petrobrás': 111, 'cheque': 112, 'renegociação de dívida': 113, 'recarga de bilhete': 114, 'bb internacional': 115, 'bloqueio de cartão': 116, 'cadastramento de contato': 117, 'pagar e receber': 118, 'western union': 119, 'fgts': 120, 'auxílio emergencial': 121, 'contracheque': 122, 'amortização de empréstimo/financiamento': 123, 'favoritar': 124, 'financiamento': 125, 'cobrança': 126, 'reescalonamento de dívida': 127, 'portabilidade de conta': 128, 'antecipação de pagamento de fatura': 129, 'renovação crédito/empréstimo': 130, 'débito no cartão': 131, 'ourocap': 132, 'cancelar agendamento de transferência': 133, 'google pay': 134, 'promoção/sorteio': 135, 'transferência de limite': 136, 'liberação do dispositivo': 137, 'cobrança de dívida': 138, 'alívio de numerário': 139, 'informação de imposto de renda': 140, 'simulação de seguro': 141, 'cartão dotz': 142, 'leasing': 143, 'dda': 144, 'pagamento de licenciamento': 145, 'bloqueio de crédito': 146, 'oferta': 147, 'extrato de financiamento imobiliário': 148, 'pagamento de financiamento': 149, 'push': 150, 'senha de atendimento': 151, 'favorito para recarga de celular': 152, 'tesouro direto': 153, 'pagamento do boleto': 154, 'avaliação do atendimento': 155, 'contestação de débito': 156, 'serviço de mensagem': 157, 'extrato de conta salário': 158, 'dotz': 159, 'irpf': 160, 'wallet': 161, 'transferência internacional': 162, 'resgate automático': 163, 'câmbio': 164, 'cartão pré-pago': 165, 'liberação do app ourocard': 166, 'cartão contactless': 167, 'bb vídeo': 168, 'saldo de investimentos': 169, 'pagamento de inss': 170, 'taa': 171, 'pis': 172, 'portabilidade de financiamento': 173, 'liberação de dispositivo exterior': 174, 'extrato de financiamento': 175, 'assinatura digital': 176, 'pos': 177, 'informe para irpf': 178}\n",
            "{1: 'Aplicativo', 2: 'Não se aplica', 3: 'Empresa', 4: 'Atendimento', 5: 'Abertura conta fácil', 6: 'Pagamento', 7: 'Transferência', 8: 'Cartão ourocard', 9: 'Senha', 10: 'Leitor de código de barra', 11: 'Liberação de dispositivo', 12: 'Tarifa', 13: 'Leitor de cartão', 14: 'Atualização app', 15: 'Fatura do cartão', 16: 'Cartão de crédito', 17: 'Sms', 18: 'Qr code', 19: 'Upgrade conta fácil', 20: 'Cartão', 21: 'Empréstimo', 22: 'Fale com seu gerente', 23: 'Login', 24: 'Limite', 25: 'Bb code', 26: 'Pagamento de boleto', 27: 'Mensagem', 28: 'Conta', 29: 'Desbloqueio de senha', 30: 'Limite de transferência/pagamento', 31: 'Extrato', 32: 'Biometria', 33: 'Encerramento de conta', 34: 'Pagamento de fatura', 35: 'Limite do cartão', 36: 'Saldo', 37: 'Poupança', 38: 'Investimento', 39: 'Notificações', 40: 'Liberação pagamento/transferência', 41: 'Comprovante', 42: 'Atualização cadastral', 43: 'Desbloqueio de cartão', 44: 'Cadastro de senha', 45: 'Recarga de celular', 46: 'Cadastro', 47: 'Atendimento online', 48: 'Selfie', 49: 'Conta salário', 50: 'Pix', 51: 'Depósito', 52: 'Minhas finanças', 53: 'Contestação de compra', 54: 'Cdc fgts', 55: 'Limite de movimentação', 56: 'Geração de boleto', 57: 'Whatsapp - atendimento', 58: 'Pagamento agendado', 59: 'Compartilhamento de comprovante', 60: 'Taxa de juro', 61: 'Cartão virtual', 62: 'Abertura conta pj mei', 63: 'Pacote de serviços', 64: 'Pagamento de empréstimo', 65: 'Personalização app', 66: 'Pagamento da fatura', 67: 'Conta corrente', 68: 'Lançamento futuro', 69: 'Liberação do cartão', 70: 'Marketing digital', 71: 'Pagamento de ipva', 72: 'Débito', 73: 'Desbloqueio de conta', 74: 'Ted', 75: 'Boleto', 76: 'Depósito de cheque', 77: 'Cartão de débito', 78: 'Consórcio', 79: 'Pontos e vantagens', 80: 'Débito em conta', 81: 'Cartão saraiva', 82: 'Saldo da poupança', 83: 'Conta poupança', 84: 'Financiamento de imóvel', 85: 'Antecipação de parcelas', 86: 'Saque', 87: 'Inss - benefício', 88: 'Cancelar agendamento de pagamento', 89: 'Pasep', 90: 'Simulação de empréstimo', 91: 'Extrato de investimento', 92: 'Extrato de poupança', 93: 'Extrato de empréstimo', 94: 'Avaliação do app', 95: 'Saque móvel', 96: 'Cheque especial', 97: 'Portabilidade', 98: 'Fies', 99: 'Financiamento de veículo', 100: 'Web (aapf/aapj)', 101: 'Simulação de financiamento', 102: 'Conta universitária', 103: 'Nfc', 104: 'Seguros', 105: 'Brasilprev', 106: 'Resgate da poupança', 107: 'Recuperação de senha', 108: 'Débito automático de cartão', 109: 'Pendência', 110: 'Saldo do cartão', 111: 'Cartão petrobrás', 112: 'Cheque', 113: 'Renegociação de dívida', 114: 'Recarga de bilhete', 115: 'Bb internacional', 116: 'Bloqueio de cartão', 117: 'Cadastramento de contato', 118: 'Pagar e receber', 119: 'Western union', 120: 'Fgts', 121: 'Auxílio emergencial', 122: 'Contracheque', 123: 'Amortização de empréstimo/financiamento', 124: 'Favoritar', 125: 'Financiamento', 126: 'Cobrança', 127: 'Reescalonamento de dívida', 128: 'Portabilidade de conta', 129: 'Antecipação de pagamento de fatura', 130: 'Renovação crédito/empréstimo', 131: 'Débito no cartão', 132: 'Ourocap', 133: 'Cancelar agendamento de transferência', 134: 'Google pay', 135: 'Promoção/sorteio', 136: 'Transferência de limite', 137: 'Liberação do dispositivo', 138: 'Cobrança de dívida', 139: 'Alívio de numerário', 140: 'Informação de imposto de renda', 141: 'Simulação de seguro', 142: 'Cartão dotz', 143: 'Leasing', 144: 'Dda', 145: 'Pagamento de licenciamento', 146: 'Bloqueio de crédito', 147: 'Oferta', 148: 'Extrato de financiamento imobiliário', 149: 'Pagamento de financiamento', 150: 'Push', 151: 'Senha de atendimento', 152: 'Favorito para recarga de celular', 153: 'Tesouro direto', 154: 'Pagamento do boleto', 155: 'Avaliação do atendimento', 156: 'Contestação de débito', 157: 'Serviço de mensagem', 158: 'Extrato de conta salário', 159: 'Dotz', 160: 'Irpf', 161: 'Wallet', 162: 'Transferência internacional', 163: 'Resgate automático', 164: 'Câmbio', 165: 'Cartão pré-pago', 166: 'Liberação do app ourocard', 167: 'Cartão contactless', 168: 'Bb vídeo', 169: 'Saldo de investimentos', 170: 'Pagamento de inss', 171: 'Taa', 172: 'Pis', 173: 'Portabilidade de financiamento', 174: 'Liberação de dispositivo exterior', 175: 'Extrato de financiamento', 176: 'Assinatura digital', 177: 'Pos', 178: 'Informe para irpf'}\n"
          ],
          "name": "stdout"
        }
      ]
    },
    {
      "cell_type": "code",
      "metadata": {
        "id": "I0NoZfS-AWKj"
      },
      "source": [
        "len(word_index)\n",
        "tamanho_classes = len(word_index)+1"
      ],
      "execution_count": 118,
      "outputs": []
    },
    {
      "cell_type": "code",
      "metadata": {
        "id": "LIMUijDxAWKl"
      },
      "source": [
        "def transforming_labels(lista):\n",
        "  temp = []\n",
        "  for item in lista:\n",
        "    temp.append(word_index.get(item.lower()))\n",
        "  return temp"
      ],
      "execution_count": 119,
      "outputs": []
    },
    {
      "cell_type": "code",
      "metadata": {
        "id": "Mc2aEV4MAWKo",
        "outputId": "c5448b61-8137-4abc-c699-c392f7c90d66",
        "colab": {
          "base_uri": "https://localhost:8080/"
        }
      },
      "source": [
        "training_labels[0:10]"
      ],
      "execution_count": 120,
      "outputs": [
        {
          "output_type": "execute_result",
          "data": {
            "text/plain": [
              "['Aplicativo',\n",
              " 'Aplicativo',\n",
              " 'Cartão Ourocard',\n",
              " 'Transferência',\n",
              " 'Aplicativo',\n",
              " 'Liberação de Dispositivo',\n",
              " 'Limite de Transferência/Pagamento',\n",
              " 'Liberação Pagamento/Transferência',\n",
              " 'Tarifa',\n",
              " 'Abertura Conta Fácil']"
            ]
          },
          "metadata": {
            "tags": []
          },
          "execution_count": 120
        }
      ]
    },
    {
      "cell_type": "code",
      "metadata": {
        "id": "7fk558uCAWKp",
        "outputId": "c19b8448-6c35-4a27-b322-9a05314b8c67",
        "colab": {
          "base_uri": "https://localhost:8080/"
        }
      },
      "source": [
        "training_labels = transforming_labels(training_labels)\n",
        "testing_labels = transforming_labels(testing_labels)\n",
        "training_labels[0:20]"
      ],
      "execution_count": 121,
      "outputs": [
        {
          "output_type": "execute_result",
          "data": {
            "text/plain": [
              "[1, 1, 8, 7, 1, 11, 30, 40, 12, 5, 1, 1, 1, 11, 1, 2, 2, 2, 2, 2]"
            ]
          },
          "metadata": {
            "tags": []
          },
          "execution_count": 121
        }
      ]
    },
    {
      "cell_type": "code",
      "metadata": {
        "id": "avYmlylTAWKr",
        "outputId": "ebbcf001-f27c-493f-c3f0-57c21a4cc709",
        "colab": {
          "base_uri": "https://localhost:8080/"
        }
      },
      "source": [
        "# Make labels into numpy arrays for use with the network later\n",
        "training_labels_final = np.array(training_labels)\n",
        "testing_labels_final = np.array(testing_labels)\n",
        "training_labels_final"
      ],
      "execution_count": 122,
      "outputs": [
        {
          "output_type": "execute_result",
          "data": {
            "text/plain": [
              "array([1, 1, 8, ..., 1, 1, 1])"
            ]
          },
          "metadata": {
            "tags": []
          },
          "execution_count": 122
        }
      ]
    },
    {
      "cell_type": "code",
      "metadata": {
        "id": "lr8hSJ_tAWKt",
        "outputId": "31940d2c-e19e-4bbd-f028-3662ec5c190f",
        "colab": {
          "base_uri": "https://localhost:8080/"
        }
      },
      "source": [
        "print(training_sentences[0:5])\n",
        "print(training_labels[0:20], testing_labels[0:20])"
      ],
      "execution_count": 123,
      "outputs": [
        {
          "output_type": "stream",
          "text": [
            "['Excelente', 'Muito bom', 'Não estou conseguindo fazer um cartão de crédito para mim Eu só quero Aff já tentei várias vezes fazer o cartão quando eu fui fazer mandou esperar treis dias aí quando eu fui abri o aplicativo para ver se foi aprovado , Táva mandando fazer tudo dinovo', 'Por mais que eu tente não consigo desbloquear o app para transferências', 'Bom aplicativo eu gosto']\n",
            "[1, 1, 8, 7, 1, 11, 30, 40, 12, 5, 1, 1, 1, 11, 1, 2, 2, 2, 2, 2] [1, 1, 1, 1, 1, 1, 1, 1, 1, 1, 1, 1, 1, 1, 1, 1, 1, 1, 1, 1]\n"
          ],
          "name": "stdout"
        }
      ]
    },
    {
      "cell_type": "markdown",
      "metadata": {
        "id": "zUcaw4DoAWKu"
      },
      "source": [
        "# Tokenize the dataset\n",
        "Tokenize the dataset"
      ]
    },
    {
      "cell_type": "code",
      "metadata": {
        "id": "9qJU04ZRAWKu"
      },
      "source": [
        "# Tokenizing values\n",
        "vocab_size = 4000\n",
        "embedding_dim = 16\n",
        "max_length = 150\n",
        "oov_tok = \"<OOV>\"\n",
        "\n",
        "tokenizer = Tokenizer(num_words = vocab_size, oov_token=oov_tok)\n",
        "tokenizer.fit_on_texts(training_sentences)\n",
        "sequences = tokenizer.texts_to_sequences(training_sentences)\n",
        "word_index = tokenizer.word_index"
      ],
      "execution_count": 124,
      "outputs": []
    },
    {
      "cell_type": "markdown",
      "metadata": {
        "id": "4stWJV3xAWKw"
      },
      "source": [
        "N-grams (bigrams or trigrams)"
      ]
    },
    {
      "cell_type": "code",
      "metadata": {
        "id": "VzyWjJ6tCIJU"
      },
      "source": [
        "def create_ngram_set(input_list, ngram_value=2):\n",
        "    \"\"\"Extract a set of n-grams from a list of integers.\n",
        "    >>> create_ngram_set([1, 4, 9, 4, 1, 4], ngram_value=2)\n",
        "    {(4, 9), (4, 1), (1, 4), (9, 4)}\n",
        "    >>> create_ngram_set([1, 4, 9, 4, 1, 4], ngram_value=3)\n",
        "    [(1, 4, 9), (4, 9, 4), (9, 4, 1), (4, 1, 4)]\"\"\"\n",
        "\n",
        "    return set(zip(*[input_list[i:] for i in range(ngram_value)]))\n",
        "\n",
        "\n",
        "def add_ngram(sequences, token_indice, ngram_range=2):\n",
        "    \"\"\"Augment the input list of list (sequences) by appending n-grams values.\n",
        "    Example: adding bi-gram\n",
        "    >>> sequences = [[1, 3, 4, 5], [1, 3, 7, 9, 2]]\n",
        "    >>> token_indice = {(1, 3): 1337, (9, 2): 42, (4, 5): 2017}\n",
        "    >>> add_ngram(sequences, token_indice, ngram_range=2)\n",
        "    [[1, 3, 4, 5, 1337, 2017], [1, 3, 7, 9, 2, 1337, 42]]\n",
        "    Example: adding tri-gram\n",
        "    >>> sequences = [[1, 3, 4, 5], [1, 3, 7, 9, 2]]\n",
        "    >>> token_indice = {(1, 3): 1337, (9, 2): 42, (4, 5): 2017, (7, 9, 2): 2018}\n",
        "    >>> add_ngram(sequences, token_indice, ngram_range=3)\n",
        "    [[1, 3, 4, 5, 1337, 2017], [1, 3, 7, 9, 2, 1337, 42, 2018]]\"\"\"\n",
        "    \n",
        "    new_sequences = []\n",
        "    for input_list in sequences:\n",
        "        new_list = input_list[:]\n",
        "        for ngram_value in range(2, ngram_range + 1):\n",
        "            for i in range(len(new_list) - ngram_value + 1):\n",
        "                ngram = tuple(new_list[i:i + ngram_value])\n",
        "                if ngram in token_indice:\n",
        "                    new_list.append(token_indice[ngram])\n",
        "        new_sequences.append(new_list)\n",
        "\n",
        "    return new_sequences"
      ],
      "execution_count": 125,
      "outputs": []
    },
    {
      "cell_type": "code",
      "metadata": {
        "id": "_wUlzzUIAWKx"
      },
      "source": [
        "# N-grams values\n",
        "NGRAN_RANGE = 1"
      ],
      "execution_count": 126,
      "outputs": []
    },
    {
      "cell_type": "code",
      "metadata": {
        "id": "8mf2IIyzDEN2"
      },
      "source": [
        "if NGRAN_RANGE > 1:\n",
        "    ngram_set = set()\n",
        "    for input_list in sequences:\n",
        "        for i in range(2, NGRAN_RANGE + 1):\n",
        "            set_of_ngram = create_ngram_set(input_list, ngram_value=i)\n",
        "            ngram_set.update(set_of_ngram)\n",
        "    \n",
        "    # Dictionary mapping n-gram token to a unique integer.\n",
        "    # Integer values are greater than max_features in order\n",
        "    # to avoid collision with existing features.        \n",
        "    token_indice = {v: k + vocab_size for k, v in enumerate(ngram_set)}\n",
        "    indice_token = {token_indice[k]: k for k in token_indice}\n",
        "    \n",
        "    # Update vocab_size\n",
        "    vocab_size = np.max(list(indice_token.keys())) + 1\n",
        "    print('Update vocab_size %d' % vocab_size)\n",
        "    \n",
        "    # Augument sequences with the new features\n",
        "    sequences = add_ngram(sequences, token_indice, NGRAN_RANGE)\n",
        "    print(len(sequences), 'sequences')\n",
        "    print('Average train sequence length: %d' % np.mean(list(map(len, sequences))))"
      ],
      "execution_count": 127,
      "outputs": []
    },
    {
      "cell_type": "markdown",
      "metadata": {
        "id": "CrIADVfEAWKy"
      },
      "source": [
        "Padding"
      ]
    },
    {
      "cell_type": "code",
      "metadata": {
        "id": "QNodzZjKAWKz"
      },
      "source": [
        "trunc_type='post'\n",
        "padding_type='post'\n",
        "\n",
        "padded = pad_sequences(sequences,maxlen=max_length, padding=padding_type, truncating=trunc_type)  #review de treinamento com padding\n",
        "testing_sequences = tokenizer.texts_to_sequences(testing_sentences)\n",
        "testing_padded = pad_sequences(testing_sequences,maxlen=max_length, padding=padding_type, truncating=trunc_type)  #review de treinamento com padding"
      ],
      "execution_count": 128,
      "outputs": []
    },
    {
      "cell_type": "code",
      "metadata": {
        "id": "uU-DKLOhAWK0",
        "outputId": "eff64ac8-5d4a-44c5-8613-f97f3bfac0b6",
        "colab": {
          "base_uri": "https://localhost:8080/"
        }
      },
      "source": [
        "print(padded.shape, testing_padded.shape)"
      ],
      "execution_count": 129,
      "outputs": [
        {
          "output_type": "stream",
          "text": [
            "(67164, 150) (16791, 150)\n"
          ],
          "name": "stdout"
        }
      ]
    },
    {
      "cell_type": "code",
      "metadata": {
        "id": "UPwLzorYAWK2",
        "outputId": "d6c42eb3-74e7-4316-ce9f-88b9d97154e8",
        "colab": {
          "base_uri": "https://localhost:8080/"
        }
      },
      "source": [
        "print(padded[0], '\\n', training_score[0:4])"
      ],
      "execution_count": 130,
      "outputs": [
        {
          "output_type": "stream",
          "text": [
            "[13  0  0  0  0  0  0  0  0  0  0  0  0  0  0  0  0  0  0  0  0  0  0  0\n",
            "  0  0  0  0  0  0  0  0  0  0  0  0  0  0  0  0  0  0  0  0  0  0  0  0\n",
            "  0  0  0  0  0  0  0  0  0  0  0  0  0  0  0  0  0  0  0  0  0  0  0  0\n",
            "  0  0  0  0  0  0  0  0  0  0  0  0  0  0  0  0  0  0  0  0  0  0  0  0\n",
            "  0  0  0  0  0  0  0  0  0  0  0  0  0  0  0  0  0  0  0  0  0  0  0  0\n",
            "  0  0  0  0  0  0  0  0  0  0  0  0  0  0  0  0  0  0  0  0  0  0  0  0\n",
            "  0  0  0  0  0  0] \n",
            " [[1], [1], [1], [1]]\n"
          ],
          "name": "stdout"
        }
      ]
    },
    {
      "cell_type": "code",
      "metadata": {
        "id": "EeHghSzXAWK3",
        "outputId": "c3384881-10e7-4f00-8ab6-e95fbc2adad6",
        "colab": {
          "base_uri": "https://localhost:8080/"
        }
      },
      "source": [
        "print(len(training_score), len(testing_score))"
      ],
      "execution_count": 131,
      "outputs": [
        {
          "output_type": "stream",
          "text": [
            "67164 16791\n"
          ],
          "name": "stdout"
        }
      ]
    },
    {
      "cell_type": "code",
      "metadata": {
        "id": "mY4w8xTfAWK5",
        "outputId": "ec21ad76-8085-4ab0-b62e-2ab933059438",
        "colab": {
          "base_uri": "https://localhost:8080/"
        }
      },
      "source": [
        "type(training_score)"
      ],
      "execution_count": 132,
      "outputs": [
        {
          "output_type": "execute_result",
          "data": {
            "text/plain": [
              "list"
            ]
          },
          "metadata": {
            "tags": []
          },
          "execution_count": 132
        }
      ]
    },
    {
      "cell_type": "code",
      "metadata": {
        "id": "Be_MaEhiAWK8",
        "outputId": "8d9a475d-7924-44d9-a52f-f21760f40a51",
        "colab": {
          "base_uri": "https://localhost:8080/"
        }
      },
      "source": [
        "training_score = np.asarray(training_score)\n",
        "testing_score = np.asarray(testing_score)\n",
        "print(type(training_score), type(testing_score))"
      ],
      "execution_count": 133,
      "outputs": [
        {
          "output_type": "stream",
          "text": [
            "<class 'numpy.ndarray'> <class 'numpy.ndarray'>\n"
          ],
          "name": "stdout"
        }
      ]
    },
    {
      "cell_type": "markdown",
      "metadata": {
        "id": "-b_AQjeJAWK9"
      },
      "source": [
        "Unindo o Dataset Score ao Dataset_escolhido (Natureza, Produto e Serviço ou Classificação)"
      ]
    },
    {
      "cell_type": "code",
      "metadata": {
        "id": "V5dly2BiAWK-"
      },
      "source": [
        "padded2 = np.append(training_score, padded, axis=1)"
      ],
      "execution_count": 134,
      "outputs": []
    },
    {
      "cell_type": "code",
      "metadata": {
        "id": "hKgzo_jtAWK_"
      },
      "source": [
        "testing_padded2 = np.append(testing_score, testing_padded, axis=1)"
      ],
      "execution_count": 135,
      "outputs": []
    },
    {
      "cell_type": "markdown",
      "metadata": {
        "id": "WniAzJUJAWLA"
      },
      "source": [
        "# Review a Sequence\n",
        "Let's quickly take a look at one of the padded sequences to ensure everything above worked appropriately."
      ]
    },
    {
      "cell_type": "code",
      "metadata": {
        "id": "c4MGbz4NAWLA",
        "outputId": "90b6d63c-5736-484f-dee7-fd7429aa74ec",
        "colab": {
          "base_uri": "https://localhost:8080/"
        }
      },
      "source": [
        "reverse_word_index = dict([(value, key) for (key, value) in word_index.items()])\n",
        "\n",
        "def decode_review(text):\n",
        "    return ' '.join([reverse_word_index.get(i, 'x') for i in text])\n",
        "\n",
        "print(decode_review(padded[0]))\n",
        "print(training_sentences[0])"
      ],
      "execution_count": 136,
      "outputs": [
        {
          "output_type": "stream",
          "text": [
            "excelente x x x x x x x x x x x x x x x x x x x x x x x x x x x x x x x x x x x x x x x x x x x x x x x x x x x x x x x x x x x x x x x x x x x x x x x x x x x x x x x x x x x x x x x x x x x x x x x x x x x x x x x x x x x x x x x x x x x x x x x x x x x x x x x x x x x x x x x x x x x x x x x x x x x x x\n",
            "Excelente\n"
          ],
          "name": "stdout"
        }
      ]
    },
    {
      "cell_type": "markdown",
      "metadata": {
        "id": "WTA8RoVIAWLB"
      },
      "source": [
        "# Train a Basic Sentiment Model with Embeddings"
      ]
    },
    {
      "cell_type": "code",
      "metadata": {
        "id": "2VYuNgy1AWLC"
      },
      "source": [
        "max_length +=1  # Somando 1 do Score"
      ],
      "execution_count": 137,
      "outputs": []
    },
    {
      "cell_type": "code",
      "metadata": {
        "id": "oFJNuD2PAWLD",
        "outputId": "c5db407c-7062-4dc1-c87a-9a518e14563f",
        "colab": {
          "base_uri": "https://localhost:8080/"
        }
      },
      "source": [
        "# Build a basic sentiment network\n",
        "# Note the embedding layer is first, \n",
        "# and the output is only 1 node as it is either 0 or 1 (negative or positive)\n",
        "model = tf.keras.Sequential([\n",
        "    tf.keras.layers.Embedding(vocab_size, embedding_dim, input_length=max_length),\n",
        "    tf.keras.layers.Flatten(),\n",
        "    tf.keras.layers.Dense(2001, activation='relu'),\n",
        "    tf.keras.layers.Dropout(0.1),\n",
        "    tf.keras.layers.Dense(501, activation='relu'),\n",
        "    tf.keras.layers.Dense(51, activation='relu'),\n",
        "    tf.keras.layers.Dense(tamanho_classes, activation='softmax')\n",
        "])\n",
        "\n",
        "model.compile(loss='sparse_categorical_crossentropy',optimizer='adam',metrics=['accuracy'] )\n",
        "model.summary()"
      ],
      "execution_count": 138,
      "outputs": [
        {
          "output_type": "stream",
          "text": [
            "Model: \"sequential_2\"\n",
            "_________________________________________________________________\n",
            "Layer (type)                 Output Shape              Param #   \n",
            "=================================================================\n",
            "embedding_2 (Embedding)      (None, 151, 16)           64000     \n",
            "_________________________________________________________________\n",
            "flatten_2 (Flatten)          (None, 2416)              0         \n",
            "_________________________________________________________________\n",
            "dense_8 (Dense)              (None, 2001)              4836417   \n",
            "_________________________________________________________________\n",
            "dropout_2 (Dropout)          (None, 2001)              0         \n",
            "_________________________________________________________________\n",
            "dense_9 (Dense)              (None, 501)               1003002   \n",
            "_________________________________________________________________\n",
            "dense_10 (Dense)             (None, 51)                25602     \n",
            "_________________________________________________________________\n",
            "dense_11 (Dense)             (None, 179)               9308      \n",
            "=================================================================\n",
            "Total params: 5,938,329\n",
            "Trainable params: 5,938,329\n",
            "Non-trainable params: 0\n",
            "_________________________________________________________________\n"
          ],
          "name": "stdout"
        }
      ]
    },
    {
      "cell_type": "code",
      "metadata": {
        "id": "ZAt19KSfAWLF",
        "outputId": "ff276fe8-f930-4067-b810-6ec13af5d2bf",
        "colab": {
          "base_uri": "https://localhost:8080/"
        }
      },
      "source": [
        "num_epochs = 2\n",
        "hist = model.fit(padded2, training_labels_final, epochs=num_epochs, validation_data=(testing_padded2, testing_labels_final))"
      ],
      "execution_count": 139,
      "outputs": [
        {
          "output_type": "stream",
          "text": [
            "Epoch 1/2\n",
            "2099/2099 [==============================] - 21s 10ms/step - loss: 0.7176 - accuracy: 0.8403 - val_loss: 0.6640 - val_accuracy: 0.8809\n",
            "Epoch 2/2\n",
            "2099/2099 [==============================] - 21s 10ms/step - loss: 0.5921 - accuracy: 0.8526 - val_loss: 0.6028 - val_accuracy: 0.8897\n"
          ],
          "name": "stdout"
        }
      ]
    },
    {
      "cell_type": "code",
      "metadata": {
        "id": "1LsisWF0AWLG",
        "outputId": "5457dfa1-1c4c-4036-8783-4a7ff80ad2f5",
        "colab": {
          "base_uri": "https://localhost:8080/"
        }
      },
      "source": [
        "scores = model.evaluate(testing_padded2, testing_labels_final, verbose=0)\n",
        "print(\"Baseline Error: %.2f%%\" % (100-scores[1]*100))\n",
        "print(hist.history.keys())"
      ],
      "execution_count": 140,
      "outputs": [
        {
          "output_type": "stream",
          "text": [
            "Baseline Error: 11.03%\n",
            "dict_keys(['loss', 'accuracy', 'val_loss', 'val_accuracy'])\n"
          ],
          "name": "stdout"
        }
      ]
    },
    {
      "cell_type": "code",
      "metadata": {
        "id": "pN_n9a4rAWLH",
        "outputId": "d0bf4b1c-fd6a-44cb-c476-3ba10ba07ae5",
        "colab": {
          "base_uri": "https://localhost:8080/",
          "height": 573
        }
      },
      "source": [
        "plt.plot(hist.history[ 'accuracy' ])\n",
        "plt.plot(hist.history[ 'val_accuracy' ])\n",
        "plt.title( 'model accuracy' )\n",
        "plt.ylabel( 'accuracy')\n",
        "plt.xlabel( 'epoch' )\n",
        "plt.legend([ 'train' , 'test' ], loc= 'upper left' )\n",
        "plt.show()\n",
        "# summarize history for loss\n",
        "plt.plot(hist.history[ 'loss' ])\n",
        "plt.plot(hist.history[ 'val_loss' ])\n",
        "plt.title( 'model loss' )\n",
        "plt.ylabel( 'loss' )\n",
        "plt.xlabel( 'epoch' )\n",
        "plt.legend([ 'train' , 'test' ], loc= 'upper left' )\n",
        "plt.show()"
      ],
      "execution_count": 141,
      "outputs": [
        {
          "output_type": "display_data",
          "data": {
            "image/png": "[encoded data removed]",
            "text/plain": [
              "<Figure size 432x288 with 1 Axes>"
            ]
          },
          "metadata": {
            "tags": [],
            "needs_background": "light"
          }
        },
        {
          "output_type": "display_data",
          "data": {
            "image/png": "[encoded data removed]",
            "text/plain": [
              "<Figure size 432x288 with 1 Axes>"
            ]
          },
          "metadata": {
            "tags": [],
            "needs_background": "light"
          }
        }
      ]
    },
    {
      "cell_type": "markdown",
      "metadata": {
        "id": "lluiGS5GAWLI"
      },
      "source": [
        "# Novas Predições:"
      ]
    },
    {
      "cell_type": "code",
      "metadata": {
        "id": "T8zqjJF8AWLI"
      },
      "source": [
        "path = \"/content/arquivo_novo.xlsx\""
      ],
      "execution_count": 142,
      "outputs": []
    },
    {
      "cell_type": "code",
      "metadata": {
        "id": "lh6uB0FNAWLJ"
      },
      "source": [
        "dataset = pd.read_excel(path, sheet_name=0, header=0, dtype={'score': np.int32})\n",
        "\n",
        "responsavel       = dataset[dataset.columns[0]].tolist()   # Responsável\n",
        "natureza          = dataset[dataset.columns[1]].tolist()   # Natureza\n",
        "classificacao     = dataset[dataset.columns[2]].tolist()   # Classificação\n",
        "produtos_servicos = dataset[dataset.columns[3]].tolist()   # Produtos/Serviços\n",
        "detalhamento      = dataset[dataset.columns[4]].tolist()   # Detalhamento\n",
        "review            = dataset[dataset.columns[15]].tolist()  # review\n",
        "score             = dataset[dataset.columns[16]].tolist()  # score"
      ],
      "execution_count": 143,
      "outputs": []
    },
    {
      "cell_type": "code",
      "metadata": {
        "id": "7yNQ-uG5AWLL",
        "outputId": "18f7792b-16e4-4550-9525-3c7c79b49f68",
        "colab": {
          "base_uri": "https://localhost:8080/"
        }
      },
      "source": [
        "# Use the model to predict a review   \n",
        "# new_reviews = reduzir_review(review)  # Utilize review ou review_reduzida\n",
        "new_reviews = review\n",
        "\n",
        "print(new_reviews) \n",
        "\n",
        "max_length = 150\n",
        "# Create the sequences\n",
        "new_sequences = tokenizer.texts_to_sequences(new_reviews)"
      ],
      "execution_count": 144,
      "outputs": [
        {
          "output_type": "stream",
          "text": [
            "['Excelente, o aplicativo é simples de utilizar e, lógico, facilita muito minha vida no que tange à operações bancárias. 😃😃😃', 'Muito bom!', 'sensacional', 'Minha ct é muito limitada.', 'muito bom esse aplicativo é muito útil p mim. facilita m trabalho.', 'Acho muito prático a utilização do App,resolve o que eu preciso.', 'Banco de excelentes bancários', 'Bom atende as necessidades', 'promocional metalúrgica. Bom dia ótima.', 'Muito bom e prático de usar, parabéns para os desenvolvedores do aplicativo!!!', 'rápido fácil e dinâmico', 'Ótima', 'muito bom o app', 'App ótimo...', 'muito bom', 'top', 'até agora não tive nenhum problema com o aplicativo! achei bem prático!', 'Ótima', 'Banco ruim pesso o código pra libera e qual do vem fala código inspirado', 'pessimo conta salario nao posso ver meu saldo pra sacar no banco minha conta presta mas pra ver meu saldo nao estou muito desapontado', 'Dentre os app de bancos que utilizo, é um dos mais práticos. gosto do visual, dos atalhos.', 'oh', 'Muito funcional e completo!', 'Usei o app para solicitar um cartão dr crédito,achei rápido e prático.', 'BOM', 'Banco do Brasil ferra com o cliente aí invez de ajudar', 'excelente', 'Não tenho todos os acessos', 'BB é o melhor banco com juros e taxas mais em conta e com esse aplicativo não preciso nem ir na agência,resolvo tudo pelo aplicativo.', 'Excelente', 'ótimo', 'muito bom', 'ótimo app consigo fazer tupo por aqui', 'banco e app já foram melhores.', 'Aprovado aguda bastante', 'atendimento de excelência', 'Fácil, preciso e seguro.. Atende as minhas necessidades.', 'ótimo', 'ótima', 'Otima', 'Não estou conseguindo realizar outras operações, como transferir da conta salário para conta corrente. qual a sugestão que o banco tem para me orientar.', 'Minha gerente Renata dê Catanduva me ensinou a usar e desde então eu só pago minhas contas por aqui', 'Ótimo!', 'ótimo', 'ótimo site estou muito satisfeito', 'perfeito amo meu banco 😍😍', 'show', 'Bom zinho', 'muito bom!', 'App Completo', 'O aplicativo está ficando cada vez melhor, embora ainda ache algumas coisas nele bem chatas, como a dificuldade em achar algumas opções, ou de não ser possível pagar parcelas adiantado, acredito que a concorrência vai ganhando mercado e eles vão melhorando o serviço. Então assim que sair opção para adiantar parcelas pelo app dou 5 estrelas.', 'o melhor cartao de credito de todos meu credito doi aprovado sem muita burocracia amei e estou amando', 'Está com 3 dias que estou agilizando para baixar o aplicativo e não consigo está péssimo', 'pratico', 'Depois que atualizei, está travando', 'Maravilhoso 😍', 'Bom!', 'Muito bom', 'Excelente', 'Não dá para entender porque as agências do Banco do Brasil trava as portas às 18:00 não permitindo o acesso de clientes aos caixas eletrônicos, todavia ficam com as luzes acesas a noite toda.', 'ótimo app', 'Quando disponibilizarão a opção de acesso ao app por meio do leitor de digitais para a linha Galaxy S6? Existe alguma previsão? O iPhone já dispõe dessa opção.', 'muito bpm 10', 'intuitivo e simples', 'Uso o App tenho um ouro card empresarial mas não sei onde e como acompanho e gerencio as compras.', 'bom', 'Prático e útil', 'ótimo', 'Tento fazer o cartão mas na hora da foto fica só procedendo mandando aguarda', 'ótimo app', 'nota 10', 'estou tentando abrir uma conta fácil pelo app, porém na etapa de concretizar a foto ela fica apenas carregando e nunca vai, pq seria ?', 'ruim', 'valor das tarifas pra transferência muito caro .', 'muito bom', 'muito bom', 'Prático é simples, más o extrato de conta poupança deveria salvar em pdf; igual o extrato da c/corrente.', '☺😊😀😃😄🗽🌃', 'bom', 'Aplicativo muito útil.', 'bom gostei', 'muito bom 👍', 'muito bom tem mi ajudado muito', 'Ótimo', 'Aplicativo Perfeito, Resolve a nossa vida corrida ...', 'ótimo', 'muito bom', 'Ótimo to amando', 'otimo', 'muito bom!', 'O melhor aplicativo muito intuitivo e com vários recursos.', 'Muito bom', 'Um ótimo atendimento, minha gerente Sílvia é sempre atenciosa.', 'ótimo', 'Ótimo app . Mais está ruim nós últimos dias , pois toda a noite o aplicativo não abri , dizendo ser falha de comunicação com a rede , e eu trabalho chego em casa quando quero resolver meus problemas e preciso do app não funciona , muito ruim isso , do mais o app quando funciona ele é muito bom , dinâmico e fácil de usar . Se não fosse esse problema daria 5 estrelas .', 'Na hora de abrir a conta pelo app, no passo n°4 no momento da selfie não passa para o próximo passo, fica mensagem de aguarde.', 'muito bom', 'muito bom o aplicativo parabéns', 'Bem eficiente', 'Bom', 'App TOP👍🏻', 'Aplicativo muito fácil e prático.', 'Tive dificuldade em upgrade...precisao melhorar este aplicativo!!!', '.ok...', 'não solícita via app cartao de débito.', 'Preciso de 3 mil reais emptestado', 'Macanico montador', 'Otimo', 'Top', 'É bom dms mininuuuuh', 'Não consigo um cartão de crédito', 'Rápido, e fácil', 'Quero liberar meu cartão que chegou, e fica aparecendo que esse dispositivo não está liberado para essa função, Odiooooo, então porque tem a opção de liberar o cartão nesse app, se não presta pra nada ?', 'Horrível, na opção pra pedir o cartão de crédito fica só no aguarde...', 'aplicativo excelente', 'muito bom gostei', 'está muito bom', 'Muito bom .', 'Otimo', 'tratamento diferenciado,, muito bom!!!!', 'super minhas necessidades!', 'Já fui aprovada pro cartão de crédito mas até hj n me enviaran o código de rastreio do cartão e nem sei cm faço pra saber se realmente vou receber o cartão 😶', 'adoro meu aplicativo, muito útil, com ele resolvo várias coisas', 'ótimo', 'muito bom', 'um banco maravilhoso, mas estou tentado fazer um pedido do cartão pq esse venceu e nada deles mim manda..', 'Muito bom', 'Muito bom .', 'Satisfeito', 'Ótimo!!!!!', 'excelente esse aplicativo', 'ótimo aplicativo parabéns BB', 'Achei péssimo quando vamos abrir uma conta poupança, a parte que envia o link por mensagem pra confirmar o número de celular sempre vai parar no começo da página novamente , enfim não consegui abrir a conta pelo celular por causa do maldito link 😕', 'ótimo faço tudo pelo APP', 'Atendimento perfeito!', \"Pedi meu cartão solicitei ''UM'' novo .. chegou ''DOIS' ...E COBRARAM\", 'muito bom fácil de usar', 'otimo', 'Estou adorando 😍😍😍', 'Não consigo cadastrar o meu cartão pois ele pede para fazer uma senha de oito dígito...vou lá é ele pede pra tirar uma foto do cartão mas quando na hora não tira foto nenhuma espero q m respondem logo..', 'Não consigo receber o sms para abrir a conta pelo app, estou tentando a dois dias, por favor me ajudem', 'Não abre', 'Gosto muito desse App', 'Bom', 'bom', 'Pq não consigo terminar a minha conta chega no CEP Só aparece (ops) Alguém pode ajudar?!', 'muito bom e intuitivo.', 'muito bom', 'Não deixa a desejar...', 'OLÁ! Nessa conta fácil a gente paga alguma taxa?pode me chamar no Messenger pra eu saber mais?', 'Muito bom. Como faço para aumentar limite', 'Ok', 'APP horrível. Com muitos erros. Não tira Selfie nem com reza. BB vamos trabalhar melhor né.', 'Aplicativo Perfeito', 'Muito prático e útil, excelente app.', 'muito bom amei esse app', 'App ótimo, fácil e seguro.', 'app muito bom.', 'não consigo saber quem deposita dinheiro na minha conta.', 'ótimo atendimento, Tamiris, esclareceu todas minhas dúvidas, gostaria de da nota 10', 'adorei', 'o melhor do Brasil', 'ótimo', 'É uma benção esse aplicativo👍🏼', 'Não consigo abrir a conta facil, pois o app para na parte da selfie. Já tentei tirar varias vezes, usando fundo totalmente branco, mesmo assim não da certo.', 'super indico....', 'Ótimo', 'ótimo', 'A opçao de desbloquear senha ta dando erro de sistema. Bloqueei minha senha numerica de 8 digitos e nao consigo desbloquear por isso nao to conseguinso entrar no aplicativo.pq ta dando erro?', 'Gosto do aplicativo , mas não vejo a necessidade de alguns procedimentos ser obrigado a ir no cx eletronico', 'não presta minha digital', 'até agora não tenho do que reclamar', 'app magnífico', 'Muito bom aplicativo nota 10 muito facil pratico rapido', 'Super indico.', 'prático e simples de usar', 'top', 'Ótima instituição', 'Falta poder salvar estrato do cartão de crédito em aberto', 'Ótimo este aplicativo', 'excelente 👌', 'ótimo!', 'Muito bom trabalhar com o banco do Brasil', 'Exelente', 'Pratico', 'Muito bom', 'muito bom', 'aplicativo excelente', 'ótimo', 'otimo', 'a cada atualização só piora !!!!', 'sempre tive um ótima experiência com o meu banco', 'muimto bom o apl', 'A vida tornou-se um paraíso de comodidades através do app/BB, pois evita o deslocamento de milhares de pessoas aos terminais e auto atendimento do BB, evitando o contágio do Covid 19!!!😊😇\\U0001f970💓', 'muito ruim', 'O meu tá pedindo uma selfie quando tira da carregando infinitamente não sai disso não', 'o app é bom mesmo', 'Ótimo aplicativo, descomplicada a vida de todo mundo, impossível ficar sem ele.', 'Tou tentando entrar em contato com um funcionário via SAC e whatsapp mais não estou conseguindo. Preciso desbloquear a minha senha de 6 dígitos.', 'Tentei resolver vários problemas relativos a senhas e cartão pelo aplicativo mas nunca é possível, sempre acontece algum erro e sou obrigado a ficar esperando na agência. O layout do app também é bem ruim, muito pior que o do Itaú. Edit: dois anos depois, continuo tendo problemas com coisas que não funcionam no app e com falta de instrução ao cliente.', 'Thiago, ótimo atendente', 'Bom app', 'ótimo app', 'E bom me atnde', 'Deixem o emblema do app mais bonito pra versão moto G 🙏🏼', 'bom', 'bom', 'atende muito as minhas necessidade', 'Descomplicado .amo', 'Muito bom', 'Quero aqui deixar o meu agradecimento ao atendente que me atendeu super bem por e-mail e Conseguiu resolver o meu problema, parabéns pelo trabalho e Continue sempre!!! assim', 'até agora tá tudo bem por aqui , excelente App ♥️', 'Abri a conta foi feito dois depósitos na minha conta e a conta bloqueou sozinha e não consigo retirar o dinheiro que está Lá, liguei no saque pediram que eu fosse na agência mas não resolveu nada ....', 'Ótimo aplicativo', 'ótima', 'app muito desatualizado', 'banco excelente', 'Só não funciona o 2 via de cartão, até hoje não funciona. Nem a senha eles mandam', 'nota 10', 'excelente', 'Gerência sensacional !!!!!', 'Aplicativo péssimo, sem ajuda nenhuma do banco , apenas queria fazer parte do banco com uma conta fácil .. banco não me ajudou , fiquei muito triste pois nessecito com urgência essa conta .', 'O atendimento do BB virtual é ótimo.', 'Pessimo', 'Excelente', 'Exelente', 'Facilita a vida, no dia a dia!', 'muito satisfeito', 'Perto de outros app de outros bancos muito fraco', 'O banco é ruim, burocrático e mesmo com a minha biometria realizada anos antes não consegui fazer nada, nem recadastrar o app no celular, nem saque, coitado do gerente que apenas um só pra atender tanta gente se arriscando sem necessidade, banco irresponsável e sem apoio para os clientes, ganham tanto dinheiro da gente e devolvem de forma em serviços ruins.', 'esse App é ótimo....', 'Adoro meu BANCO', 'por enquanto ótimo', 'Era bem mais rápido, agora demora muito a iniciar o programa', 'muito o app', 'Ótimo app, fácil e descumplicado', 'Horrível péssimo estressante Atualizando.. Tive problemas para fazer um cancelamento de reescalonamento..nao cancelava pelo App e na época tive que ir a uma agência onde por sinal fui muito mal atendida.mas consegui fazer o cancelamento via papel porque nem por computador a mulher conseguiu cancelar. Tive que assinar um termo de pedido de cancelamento!', 'oo', 'Ótimo app, retorno rápido quando solicitado gerência!', 'Bom mas poderia ter mais opções', 'muito bom', 'Saber o saldo do Brasilprev?', 'adoro o app do bb.e otimo.resolvo.tudo por ele', 'bom', 'muito bom', 'gostei muito de abri minha conta muito fácil de abri ameii parabéns por facilita nossa vida rs', 'tabom', 'Top', '👍', 'Muito bom o atendimento do Banco do Brasil .Muito obrigado pelo atencão a mim dedicada.', 'otimo', 'muito bom', 'Prático e rápido!', 'muito bom', 'bom', 'perfeito ,amo vc do BRASIL', 'Extremamente funcional.', 'excelente aplicativo', 'boa', 'Boa', 'Adoro meu BB. Sempre com soluções criativas pra me ajudar no dia a dia.', 'bom', 'muito bom', 'App excelente', 'top', 'ótimo', 'Atenciosos, respondem rápido, orientam bem.', 'gostei', 'depois que aprendi ficou muito bom', 'bom ajuda bastante', 'o app é muito bom e rápido', 'muito bom', 'Ótimo', 'abrir a conta e não recebi meu cartão de débito.', 'top', 'não consigo mexer nos aplicativo da sempre erro', 'otimo', 'Ótimo', 'Muito bom', 'Péssimo App. Resposta pronta de novo. No Messenger esperei mais de 4 horas e depois que expliquei, sumiram. No Whatsapp esperei mais de 17 horas. O SAC resolveu uma parte e o Whatsapp outra, na data de hoje. Não consigo solicitar um cartão de crédito porque os sites Saraiva e Visa direcionam para a maldita página do Banco do Brasil que manda baixar o App para pedir o cartão. O App diz que tenho cartão. Cancelei tudo do Banco do Brasil e ainda aparecem cartões no meu CPF. Eles querem abrir conta.', 'Muito bom', 'aplicativo todo bugado', 'Ñ consigo tirar a selfie para finalizar meu cadastro', 'Amo o Banco do Brasil. Tem minha confiança.', 'prático e fácil de movimentar', 'Tento de todas as formas obter um cartão. Mas quando chega na hora da selfie, ele não funciona mais... Fica carregando por horas, e não resolve . O aplicativo não está me resolvendo de nada', 'Eu ja tenho ima conta aberta sou obrigado abrir outra.', 'Estou dando 4 estrelas pois não sei como faço para pedir que mandem meu cartão de volta, ele veio, mas o correio não achou o endereço e devolveu ao remetente, como preço ele de volta?', 'O aplicativo nao escaneia o cartão de jeito nenhum a varios dias ja tentando criar uma senha mas sempre fica parada nesse mesmo ponto', 'limite d3 depósito muito baixo,tento fazer o upgrade da conta mais nunca da certo prescisa de melhorias.', 'melhor', 'É um aplicativo muito bom! É praticante ter um banco na palma da mão! Parabéns aos criadores!', 'Não estou conseguindo validar minha face no App só carrega é não dá em nada!', 'nota 10', 'Ótima', 'excelente', 'muito bom', 'ótimo app', 'muito bom esse app', 'otimo', 'top', 'Ótimo', 'Facilita em muito nossa vida.', 'nota máxima, 5 para o Anderson. Competente, atencioso e sempre atento.', 'Ótimo', 'ótimo', 'Não consigo cadastrar uma senha o scaner não escaneia o cartão fiquei 5 minutos com celular apontando pro cartão e nada', 'ótimo', 'excelente', 'Super atendimento personalizado 👍🏼', 'otimoo', 'Simples, fácil e rápido', 'muito bom !', 'Ótimo', 'bom', 'Aplicativo muito bom, tem um ótimo desempenho!', 'Ótimo App e muito fácil de usar.', 'ótimo atendimento', 'Não estou gostando muito pois todos os outros arquivos que recebo tipo boleto, cai pra abrir pelo app e não consigo retirar.', 'EU NÃO TÔ CONSEGUINDO ENTRAR!!! Minha conta está certa, a senha está certa mas, mostra como se tivesse errada... Eu tenho dinheiro lá e preciso urgentemente transferir ele... por favor, resolvam isso...', 'Atualizei o app BB, não vi diferença. Mas, por favor,próxima atualização, na Opção SOLUÇÃO DE DÍVIDAS, no acordo da negociação tivesse quitação ou 1 parcela.', 'O aplicativo é muito bom. Adoro, obrigada🙏🏽', 'Excelente banco, parceiro de vários anos, que até agora nunca tive problema', 'Ótimo APP consigo fazer quase tudo com ele. Ótimo aplicativo, parabéns aos idealizadores.', 'bom', 'muito bom', 'juros muito alto', 'bom, aplicativo ótimo', 'todas expectativas foram superadas', 'show bb é o melhor banco do Brasil ,app 10000', 'App excelente', 'muito bom', 'Da pra pagar contas!', 'Há falta de opções.', 'Eu acessava via digital ha mais de um ano. Muito provavelmente, o app sofreu uma atualização e hoje ao tentar acessar, veio uma info dizendo que não foi possível recuperar minha digital. Assim, fui tentar nova senha pela opção do cartão, mas essa opção está com problemas. Resultado: tinha que fazer uma transação urgente e por esse motivo, não pude e isso me causou problema.', 'muito bom', 'ótimo', 'o aplicativo é bom, o banco é péssimo', 'atendentes do app não sabem nem o que falam, inventam coisas que não existe para justificar cobranças indevidas', 'App super fácil e seguro', 'Ótimo', 'excelente', 'otimo', 'Excelente', 'Boa', 'muito bom... estão de parabéns', 'excelente banco', 'Fácil de utilizar', 'legal de mais', 'não consigo acessar a fatura do cartão nem a pai', 'muito bom e funcional !', 'Muito bom 👍', 'dificuldade pra concluir desligar ( encerramento de conta corrente)... gerenciamento', 'falta pouco pra eu dá 5 edtrelas', 'As notificações falham demais, são poucas vezes em que aparece uma.', 'muito Bom o app', 'Simplismente perfeito', 'Muito fácil de movimentar , principalmente quem tem problema de saúde,, muito bom esse app adoro! OBRIGADO , continue assim que está maravilhoso 👍👍👍👍👍', 'Atendimento muito bom pela funcionária Jovane. Espera desorganizada e com aglomeração de pessoas.', 'sempre muito bem atendido pelos funcionários, com muita rapidez e eficiência.', 'Não estou conseguindo abrir a conta poupança por este app . Tem outro que eu possa usar ?', 'o app trás muitas facilidades que a gente simplesmente não encontra em qualquer banco. Faço tudo por aqui, o app é sensacional', 'bom', 'ótimo', 'amooo', 'Top demais', 'top', 'N estou conseguindo abrir minha conta quando chega na self trava', 'Gostaria de abrir uma conta, porém estou tendo problemas. Quando chega a parte de tirar a selfie, o aplicativo fica carregando pra sempre. Antes que falem alguma coisa, já tentei reinstalar o aplicativo, já estou tirando foto em um lugar com boa iluminação, não estou usando óculos e chapéu.', 'muito bom', 'Tenho a melhor impressão sobre o BB, do qual sou cliente desde 1968, isto é, há 52 anos.', 'ótimo', 'ótimo', 'Muito prático. Excelente. Abrí a conta de casa. Recebí um cartão de crédito. E o Banco do Brasil facilitou myito a minha vida.', 'muito bom estao de parabens', 'Ótimo atendimento.', 'reativar minha senha', 'Excelente', 'otimo', 'Ainda em teste , mas parece que cumpre oque promete', 'Gosto de mais fácil', 'AGORA QUE ESTOU USANDO A MAIS TEMPO PASSO DIZER QUE É ÓTIMO MUITO UTIL PARABÉNS PELO APP .']\n"
          ],
          "name": "stdout"
        }
      ]
    },
    {
      "cell_type": "code",
      "metadata": {
        "id": "hh7bph0fH55T"
      },
      "source": [
        "if NGRAN_RANGE > 1:\n",
        "  temp_list_final = []\n",
        "  for item in new_sequences:\n",
        "    # print(item)\n",
        "    temp_list, temp_list2 = [], []\n",
        "    for each in item:\n",
        "      # print('--', each)\n",
        "      if len(temp_list)==0:\n",
        "        primeiro_item = each  # Primeira vez que passa\n",
        "        temp_list.append(each)\n",
        "      else:\n",
        "        tupla = (primeiro_item, each)\n",
        "        if token_indice.get(tupla) is not None:\n",
        "          temp_list2.append(token_indice.get(tupla))\n",
        "        temp_list.append(each)\n",
        "        primeiro_item = each\n",
        "    temp_list = temp_list + temp_list2\n",
        "    temp_list_final.append(temp_list)\n",
        "    # print(temp_list)\n",
        "  print(temp_list_final)\n",
        "  new_sequences = temp_list_final"
      ],
      "execution_count": 145,
      "outputs": []
    },
    {
      "cell_type": "code",
      "metadata": {
        "id": "CFuXGFvEsEPI"
      },
      "source": [
        "predict_padded = pad_sequences(new_sequences, maxlen=max_length, padding=padding_type, truncating=trunc_type)"
      ],
      "execution_count": 146,
      "outputs": []
    },
    {
      "cell_type": "code",
      "metadata": {
        "id": "JY3A9C2wump9"
      },
      "source": [
        "score = acrescentando_dimensionalidade(score)\n",
        "score = np.asarray(score)"
      ],
      "execution_count": 147,
      "outputs": []
    },
    {
      "cell_type": "code",
      "metadata": {
        "id": "8wDkyVb9vL6-"
      },
      "source": [
        "predict_padded2 = np.append(score, predict_padded, axis=1)"
      ],
      "execution_count": 148,
      "outputs": []
    },
    {
      "cell_type": "code",
      "metadata": {
        "id": "oCJni2MWLoyV",
        "outputId": "42bac950-6268-4cdd-acd9-2e8196c8a279",
        "colab": {
          "base_uri": "https://localhost:8080/"
        }
      },
      "source": [
        "predict_padded2.shape"
      ],
      "execution_count": 149,
      "outputs": [
        {
          "output_type": "execute_result",
          "data": {
            "text/plain": [
              "(382, 151)"
            ]
          },
          "metadata": {
            "tags": []
          },
          "execution_count": 149
        }
      ]
    },
    {
      "cell_type": "code",
      "metadata": {
        "id": "FbuEz5ddH-aC",
        "outputId": "1ae4b14f-8747-41ed-b3e1-ab7140d71062",
        "colab": {
          "base_uri": "https://localhost:8080/"
        }
      },
      "source": [
        "print('\\n Exemplo de nova prediçao\\n')              \n",
        "\n",
        "classes = model.predict(predict_padded2)\n",
        "\n",
        "print(new_reviews[17])\n",
        "print(classes[15:17])"
      ],
      "execution_count": 150,
      "outputs": [
        {
          "output_type": "stream",
          "text": [
            "\n",
            " Exemplo de nova prediçao\n",
            "\n",
            "Ótima\n",
            "[[1.35697160e-14 9.29601848e-01 7.00850561e-02 7.68284463e-06\n",
            "  5.00180940e-05 3.17305222e-07 4.33024579e-05 5.85039670e-05\n",
            "  6.68766688e-07 1.01903616e-07 1.79326243e-08 1.09813991e-05\n",
            "  1.72381151e-05 2.81997004e-09 2.96629896e-05 1.92218906e-07\n",
            "  1.89003799e-07 1.66378619e-10 1.18251489e-06 3.30306129e-08\n",
            "  5.06952915e-08 9.12748931e-07 1.08722970e-05 2.54711103e-05\n",
            "  3.42936119e-06 4.17665206e-06 8.10850850e-07 1.90706032e-06\n",
            "  2.94335223e-07 1.59209534e-07 6.00042824e-08 1.69919022e-05\n",
            "  4.30850555e-08 5.49703643e-08 3.22627542e-08 7.64144943e-08\n",
            "  3.70540783e-06 8.24804829e-08 5.66040626e-06 1.35871767e-06\n",
            "  2.49981736e-06 1.19916695e-06 2.12455703e-07 5.41532366e-08\n",
            "  4.02139344e-09 4.97466544e-07 1.04923636e-07 4.65105188e-07\n",
            "  8.29885216e-10 7.50772472e-07 6.16830409e-09 3.25647193e-07\n",
            "  1.23482494e-07 3.30097691e-08 2.56502872e-08 2.84825489e-07\n",
            "  6.39249293e-08 1.14962253e-08 8.48960013e-09 1.67165108e-08\n",
            "  2.16273497e-06 3.41945565e-08 4.03575853e-11 3.29095769e-07\n",
            "  8.51349000e-08 4.37612115e-08 1.02493456e-11 2.65326316e-09\n",
            "  2.89240063e-08 5.46080337e-09 5.43490955e-07 1.14759445e-07\n",
            "  2.99275249e-09 1.67367931e-09 1.10356235e-09 5.10422193e-09\n",
            "  2.30484443e-06 6.84451593e-11 2.12262080e-07 3.03853831e-08\n",
            "  3.12805142e-08 4.53590915e-10 8.29557280e-07 5.23519139e-09\n",
            "  7.60503660e-09 2.19689991e-08 4.03534456e-10 4.47950441e-08\n",
            "  2.13487028e-09 7.49093886e-07 3.61974131e-08 8.34438652e-07\n",
            "  3.90043464e-09 6.76518175e-09 1.06789400e-07 3.59097605e-08\n",
            "  6.55822191e-07 2.34517614e-08 4.17319974e-08 2.74412724e-08\n",
            "  7.76033751e-11 1.26329691e-09 2.15526888e-10 6.73706282e-08\n",
            "  2.36657840e-08 1.55028943e-07 6.99345096e-11 5.25333332e-10\n",
            "  2.70746750e-13 7.30556460e-09 7.32797612e-13 1.36995636e-14\n",
            "  1.72991061e-08 4.02142408e-09 5.04463860e-10 2.45677101e-09\n",
            "  3.29077210e-09 2.78734896e-10 9.90530574e-12 4.59209630e-08\n",
            "  5.67674683e-12 7.58963594e-08 1.21044468e-11 1.32242333e-11\n",
            "  4.89754882e-07 2.17428575e-11 2.68355681e-16 1.63445882e-10\n",
            "  3.01363157e-09 2.03638398e-10 7.38854995e-13 7.97572322e-14\n",
            "  2.70704847e-10 2.17991554e-12 6.34300251e-11 5.14804291e-13\n",
            "  1.12626142e-14 1.92299085e-12 4.71591599e-10 5.40010155e-11\n",
            "  2.75958228e-10 6.32350561e-11 2.69000655e-10 7.05859704e-10\n",
            "  4.87188290e-10 1.08266400e-08 1.61385065e-12 5.91553662e-13\n",
            "  1.18443172e-11 4.67713238e-12 2.11080827e-12 1.56372051e-12\n",
            "  2.60086264e-09 5.61241764e-09 3.42740728e-13 3.46185247e-10\n",
            "  1.30860800e-11 7.06550304e-11 1.05275174e-12 7.80693479e-12\n",
            "  1.45606061e-09 7.62132232e-11 6.30198002e-14 1.90483546e-10\n",
            "  9.36345728e-13 4.54142800e-12 6.88091186e-13 2.34582128e-11\n",
            "  2.43640286e-12 4.76218370e-11 2.79180325e-13 7.42852164e-14\n",
            "  2.81860242e-14 1.36866506e-12 7.19785204e-11 3.33040226e-16\n",
            "  1.21167995e-12 2.31491648e-15 1.69478689e-14]\n",
            " [5.40555463e-16 9.55153644e-01 4.44303975e-02 4.13711223e-06\n",
            "  3.02476808e-04 2.82887243e-07 3.91812537e-05 2.39026467e-05\n",
            "  8.84728593e-08 1.65167329e-08 1.54165547e-09 3.33565140e-06\n",
            "  6.10304733e-06 1.76881412e-10 1.36845701e-05 5.79724677e-08\n",
            "  5.72052343e-08 2.67913729e-11 6.38315356e-08 5.94590466e-09\n",
            "  1.39688865e-08 4.99347777e-07 4.70358282e-06 5.03944102e-06\n",
            "  5.38457186e-07 1.61199443e-06 1.40276597e-07 6.62078094e-07\n",
            "  1.29157158e-07 3.18170450e-08 9.34042177e-09 2.41064231e-06\n",
            "  1.15603775e-08 2.20199059e-08 4.33583569e-09 1.22458292e-08\n",
            "  6.58036242e-07 3.53478065e-08 2.24815290e-06 2.81998638e-07\n",
            "  2.70087128e-07 2.21640661e-07 9.94710092e-08 1.52449768e-08\n",
            "  8.46536563e-10 8.84860256e-08 4.65690384e-08 2.48536793e-07\n",
            "  3.71240039e-10 3.07956583e-07 4.16408952e-09 8.30577278e-08\n",
            "  2.88945881e-08 1.57927471e-09 2.08138862e-09 2.83384214e-08\n",
            "  1.64362195e-08 4.32744196e-09 5.72914693e-09 3.75219589e-09\n",
            "  5.19667594e-07 8.14038437e-09 6.39774301e-12 1.28597918e-07\n",
            "  3.55181804e-08 8.85668605e-09 3.09781904e-13 6.96310010e-10\n",
            "  5.59431790e-09 9.03839448e-10 1.23629903e-07 2.15863842e-08\n",
            "  6.00535122e-10 3.09350767e-10 1.91668889e-10 5.51300672e-10\n",
            "  3.10472842e-07 2.35602475e-11 6.08463608e-08 7.20462445e-09\n",
            "  7.98869237e-09 4.91641207e-11 1.21043669e-07 1.55536295e-09\n",
            "  1.17711907e-09 3.35826078e-09 9.08580086e-11 3.03720671e-09\n",
            "  1.47038964e-10 1.34722313e-07 1.25287007e-08 3.17494056e-07\n",
            "  7.37609251e-10 1.64538383e-09 1.05496403e-08 3.39892270e-09\n",
            "  7.49923430e-08 6.65764954e-09 5.72054226e-09 6.60067556e-09\n",
            "  7.31624136e-12 2.50563847e-10 3.08125747e-11 8.84395757e-09\n",
            "  5.33187761e-09 3.43430315e-08 9.71808311e-12 1.09845355e-10\n",
            "  2.91959822e-14 1.57820568e-09 4.63591263e-14 2.67975390e-16\n",
            "  2.46876564e-09 4.83262874e-10 4.65372671e-11 1.66976780e-10\n",
            "  2.78918111e-10 2.43558871e-11 8.86178717e-13 2.45530685e-09\n",
            "  7.05638510e-13 1.21813466e-08 2.95236058e-12 9.54206332e-13\n",
            "  5.50834542e-08 4.01488478e-12 4.15374287e-18 1.83876629e-11\n",
            "  1.85535323e-10 1.98371458e-11 9.80857580e-14 2.12268511e-15\n",
            "  4.10862316e-11 1.64619661e-13 2.44325523e-12 5.81533655e-14\n",
            "  1.06390534e-16 2.71445599e-13 2.59268544e-11 7.87844356e-12\n",
            "  8.08340617e-11 4.59286255e-12 7.02388018e-12 4.50143672e-11\n",
            "  9.86843454e-11 1.73239778e-09 2.33092029e-13 3.21042529e-14\n",
            "  1.35196260e-12 7.66452928e-13 1.51503538e-13 2.11627956e-13\n",
            "  9.60386146e-11 5.80734572e-10 6.60662575e-15 5.09121217e-11\n",
            "  6.47425646e-12 2.34028985e-12 6.23251112e-14 3.12763639e-12\n",
            "  7.96891886e-10 7.27262391e-12 1.15423348e-15 1.23815368e-11\n",
            "  6.56413671e-14 5.93136854e-14 4.05318276e-14 7.25075002e-13\n",
            "  1.42277168e-13 5.96486532e-12 4.36716500e-14 2.05461606e-15\n",
            "  1.86418103e-15 2.01520793e-14 7.51952840e-12 1.00987801e-17\n",
            "  1.27873799e-13 3.71659528e-17 7.13322338e-16]]\n"
          ],
          "name": "stdout"
        }
      ]
    },
    {
      "cell_type": "code",
      "metadata": {
        "id": "yqOgNs2KAWLM",
        "outputId": "8178f1c3-c448-4ad7-9005-6006f0160ce6",
        "colab": {
          "base_uri": "https://localhost:8080/"
        }
      },
      "source": [
        "type(predict_padded)"
      ],
      "execution_count": 151,
      "outputs": [
        {
          "output_type": "execute_result",
          "data": {
            "text/plain": [
              "numpy.ndarray"
            ]
          },
          "metadata": {
            "tags": []
          },
          "execution_count": 151
        }
      ]
    },
    {
      "cell_type": "code",
      "metadata": {
        "id": "iyT8TgxvAWLO",
        "outputId": "4ab39710-6880-4d2b-a86b-706e73abab20",
        "colab": {
          "base_uri": "https://localhost:8080/"
        }
      },
      "source": [
        "classes_list = classes.tolist()\n",
        "for contagem in range(10):\n",
        "  print(contagem, classes_list[contagem].index(np.max(classes[contagem], axis=0, keepdims=True)))"
      ],
      "execution_count": 152,
      "outputs": [
        {
          "output_type": "stream",
          "text": [
            "0 1\n",
            "1 1\n",
            "2 1\n",
            "3 1\n",
            "4 1\n",
            "5 1\n",
            "6 1\n",
            "7 1\n",
            "8 1\n",
            "9 1\n"
          ],
          "name": "stdout"
        }
      ]
    },
    {
      "cell_type": "code",
      "metadata": {
        "id": "mdKLwvXPAWLO",
        "outputId": "f095bbd5-8322-42ae-da3b-2f4ed9343a05",
        "colab": {
          "base_uri": "https://localhost:8080/"
        }
      },
      "source": [
        "print(reversed_prediction_classes, '\\n', reversed_prediction_classes[2] )"
      ],
      "execution_count": 153,
      "outputs": [
        {
          "output_type": "stream",
          "text": [
            "{1: 'Aplicativo', 2: 'Não se aplica', 3: 'Empresa', 4: 'Atendimento', 5: 'Abertura conta fácil', 6: 'Pagamento', 7: 'Transferência', 8: 'Cartão ourocard', 9: 'Senha', 10: 'Leitor de código de barra', 11: 'Liberação de dispositivo', 12: 'Tarifa', 13: 'Leitor de cartão', 14: 'Atualização app', 15: 'Fatura do cartão', 16: 'Cartão de crédito', 17: 'Sms', 18: 'Qr code', 19: 'Upgrade conta fácil', 20: 'Cartão', 21: 'Empréstimo', 22: 'Fale com seu gerente', 23: 'Login', 24: 'Limite', 25: 'Bb code', 26: 'Pagamento de boleto', 27: 'Mensagem', 28: 'Conta', 29: 'Desbloqueio de senha', 30: 'Limite de transferência/pagamento', 31: 'Extrato', 32: 'Biometria', 33: 'Encerramento de conta', 34: 'Pagamento de fatura', 35: 'Limite do cartão', 36: 'Saldo', 37: 'Poupança', 38: 'Investimento', 39: 'Notificações', 40: 'Liberação pagamento/transferência', 41: 'Comprovante', 42: 'Atualização cadastral', 43: 'Desbloqueio de cartão', 44: 'Cadastro de senha', 45: 'Recarga de celular', 46: 'Cadastro', 47: 'Atendimento online', 48: 'Selfie', 49: 'Conta salário', 50: 'Pix', 51: 'Depósito', 52: 'Minhas finanças', 53: 'Contestação de compra', 54: 'Cdc fgts', 55: 'Limite de movimentação', 56: 'Geração de boleto', 57: 'Whatsapp - atendimento', 58: 'Pagamento agendado', 59: 'Compartilhamento de comprovante', 60: 'Taxa de juro', 61: 'Cartão virtual', 62: 'Abertura conta pj mei', 63: 'Pacote de serviços', 64: 'Pagamento de empréstimo', 65: 'Personalização app', 66: 'Pagamento da fatura', 67: 'Conta corrente', 68: 'Lançamento futuro', 69: 'Liberação do cartão', 70: 'Marketing digital', 71: 'Pagamento de ipva', 72: 'Débito', 73: 'Desbloqueio de conta', 74: 'Ted', 75: 'Boleto', 76: 'Depósito de cheque', 77: 'Cartão de débito', 78: 'Consórcio', 79: 'Pontos e vantagens', 80: 'Débito em conta', 81: 'Cartão saraiva', 82: 'Saldo da poupança', 83: 'Conta poupança', 84: 'Financiamento de imóvel', 85: 'Antecipação de parcelas', 86: 'Saque', 87: 'Inss - benefício', 88: 'Cancelar agendamento de pagamento', 89: 'Pasep', 90: 'Simulação de empréstimo', 91: 'Extrato de investimento', 92: 'Extrato de poupança', 93: 'Extrato de empréstimo', 94: 'Avaliação do app', 95: 'Saque móvel', 96: 'Cheque especial', 97: 'Portabilidade', 98: 'Fies', 99: 'Financiamento de veículo', 100: 'Web (aapf/aapj)', 101: 'Simulação de financiamento', 102: 'Conta universitária', 103: 'Nfc', 104: 'Seguros', 105: 'Brasilprev', 106: 'Resgate da poupança', 107: 'Recuperação de senha', 108: 'Débito automático de cartão', 109: 'Pendência', 110: 'Saldo do cartão', 111: 'Cartão petrobrás', 112: 'Cheque', 113: 'Renegociação de dívida', 114: 'Recarga de bilhete', 115: 'Bb internacional', 116: 'Bloqueio de cartão', 117: 'Cadastramento de contato', 118: 'Pagar e receber', 119: 'Western union', 120: 'Fgts', 121: 'Auxílio emergencial', 122: 'Contracheque', 123: 'Amortização de empréstimo/financiamento', 124: 'Favoritar', 125: 'Financiamento', 126: 'Cobrança', 127: 'Reescalonamento de dívida', 128: 'Portabilidade de conta', 129: 'Antecipação de pagamento de fatura', 130: 'Renovação crédito/empréstimo', 131: 'Débito no cartão', 132: 'Ourocap', 133: 'Cancelar agendamento de transferência', 134: 'Google pay', 135: 'Promoção/sorteio', 136: 'Transferência de limite', 137: 'Liberação do dispositivo', 138: 'Cobrança de dívida', 139: 'Alívio de numerário', 140: 'Informação de imposto de renda', 141: 'Simulação de seguro', 142: 'Cartão dotz', 143: 'Leasing', 144: 'Dda', 145: 'Pagamento de licenciamento', 146: 'Bloqueio de crédito', 147: 'Oferta', 148: 'Extrato de financiamento imobiliário', 149: 'Pagamento de financiamento', 150: 'Push', 151: 'Senha de atendimento', 152: 'Favorito para recarga de celular', 153: 'Tesouro direto', 154: 'Pagamento do boleto', 155: 'Avaliação do atendimento', 156: 'Contestação de débito', 157: 'Serviço de mensagem', 158: 'Extrato de conta salário', 159: 'Dotz', 160: 'Irpf', 161: 'Wallet', 162: 'Transferência internacional', 163: 'Resgate automático', 164: 'Câmbio', 165: 'Cartão pré-pago', 166: 'Liberação do app ourocard', 167: 'Cartão contactless', 168: 'Bb vídeo', 169: 'Saldo de investimentos', 170: 'Pagamento de inss', 171: 'Taa', 172: 'Pis', 173: 'Portabilidade de financiamento', 174: 'Liberação de dispositivo exterior', 175: 'Extrato de financiamento', 176: 'Assinatura digital', 177: 'Pos', 178: 'Informe para irpf'} \n",
            " Não se aplica\n"
          ],
          "name": "stdout"
        }
      ]
    },
    {
      "cell_type": "code",
      "metadata": {
        "id": "JeMgpPIDAWLS",
        "outputId": "af3f87bc-44a5-4aae-d88f-fb4933ab94b1",
        "colab": {
          "base_uri": "https://localhost:8080/",
          "height": 35
        }
      },
      "source": [
        "lista_predicao = []\n",
        "for item in classes_list:\n",
        "  lista_predicao.append(reversed_prediction_classes[item.index(max(item))])\n",
        "lista_predicao[5]"
      ],
      "execution_count": 154,
      "outputs": [
        {
          "output_type": "execute_result",
          "data": {
            "application/vnd.google.colaboratory.intrinsic+json": {
              "type": "string"
            },
            "text/plain": [
              "'Aplicativo'"
            ]
          },
          "metadata": {
            "tags": []
          },
          "execution_count": 154
        }
      ]
    },
    {
      "cell_type": "code",
      "metadata": {
        "id": "5XmW8-FlAWLT",
        "outputId": "870f96f6-c7bf-4cec-fef4-79b2f6511bd2",
        "colab": {
          "base_uri": "https://localhost:8080/",
          "height": 341
        }
      },
      "source": [
        "dataset[dataset.columns[3]] = lista_predicao  # Aqui - Dataset Escolhido\n",
        "dataset.head(3)"
      ],
      "execution_count": 155,
      "outputs": [
        {
          "output_type": "execute_result",
          "data": {
            "text/html": [
              "<div>\n",
              "<style scoped>\n",
              "    .dataframe tbody tr th:only-of-type {\n",
              "        vertical-align: middle;\n",
              "    }\n",
              "\n",
              "    .dataframe tbody tr th {\n",
              "        vertical-align: top;\n",
              "    }\n",
              "\n",
              "    .dataframe thead th {\n",
              "        text-align: right;\n",
              "    }\n",
              "</style>\n",
              "<table border=\"1\" class=\"dataframe\">\n",
              "  <thead>\n",
              "    <tr style=\"text-align: right;\">\n",
              "      <th></th>\n",
              "      <th>Responsável</th>\n",
              "      <th>Natureza</th>\n",
              "      <th>Classificação</th>\n",
              "      <th>Produtos/Serviços</th>\n",
              "      <th>Detalhamento</th>\n",
              "      <th>Descrição do Problema</th>\n",
              "      <th>Produtos/Serviços 2</th>\n",
              "      <th>Detalhamento 2</th>\n",
              "      <th>Descrição do Problema 2</th>\n",
              "      <th>Produtos/Serviços 3</th>\n",
              "      <th>Detalhamento 3</th>\n",
              "      <th>Descrição do Problema 3</th>\n",
              "      <th>id</th>\n",
              "      <th>userName</th>\n",
              "      <th>userImage</th>\n",
              "      <th>review</th>\n",
              "      <th>score</th>\n",
              "      <th>thumbsUpCount</th>\n",
              "      <th>appVersion</th>\n",
              "      <th>date</th>\n",
              "      <th>reply</th>\n",
              "      <th>replyDate</th>\n",
              "    </tr>\n",
              "  </thead>\n",
              "  <tbody>\n",
              "    <tr>\n",
              "      <th>0</th>\n",
              "      <td>Weuber</td>\n",
              "      <td>Negocial</td>\n",
              "      <td>Elogio</td>\n",
              "      <td>Aplicativo</td>\n",
              "      <td>Usabilidade</td>\n",
              "      <td>NaN</td>\n",
              "      <td>NaN</td>\n",
              "      <td>NaN</td>\n",
              "      <td>NaN</td>\n",
              "      <td>NaN</td>\n",
              "      <td>NaN</td>\n",
              "      <td>NaN</td>\n",
              "      <td>gp:AOqpTOHiKrJSaL_JJhtQHt4n_8r3KNKyNrlOFdVeiyf...</td>\n",
              "      <td>Romulo Gondim</td>\n",
              "      <td>https://play-lh.googleusercontent.com/a-/AOh14...</td>\n",
              "      <td>Excelente, o aplicativo é simples de utilizar ...</td>\n",
              "      <td>5</td>\n",
              "      <td>0</td>\n",
              "      <td>7.30.2.0</td>\n",
              "      <td>2020-10-30 08:16:49</td>\n",
              "      <td>NaN</td>\n",
              "      <td>NaT</td>\n",
              "    </tr>\n",
              "    <tr>\n",
              "      <th>1</th>\n",
              "      <td>Automático</td>\n",
              "      <td>Opinião</td>\n",
              "      <td>Elogio</td>\n",
              "      <td>Aplicativo</td>\n",
              "      <td>NaN</td>\n",
              "      <td>NaN</td>\n",
              "      <td>NaN</td>\n",
              "      <td>NaN</td>\n",
              "      <td>NaN</td>\n",
              "      <td>NaN</td>\n",
              "      <td>NaN</td>\n",
              "      <td>NaN</td>\n",
              "      <td>gp:AOqpTOESTTKJHgAF36-6Th3ddIuxLeS3m-rgv4dROj1...</td>\n",
              "      <td>Nilton Moraes</td>\n",
              "      <td>https://play-lh.googleusercontent.com/-6GN57qX...</td>\n",
              "      <td>Muito bom!</td>\n",
              "      <td>5</td>\n",
              "      <td>0</td>\n",
              "      <td>7.30.2.0</td>\n",
              "      <td>2020-10-30 08:16:27</td>\n",
              "      <td>NaN</td>\n",
              "      <td>NaT</td>\n",
              "    </tr>\n",
              "    <tr>\n",
              "      <th>2</th>\n",
              "      <td>Automático</td>\n",
              "      <td>Opinião</td>\n",
              "      <td>Elogio</td>\n",
              "      <td>Aplicativo</td>\n",
              "      <td>NaN</td>\n",
              "      <td>NaN</td>\n",
              "      <td>NaN</td>\n",
              "      <td>NaN</td>\n",
              "      <td>NaN</td>\n",
              "      <td>NaN</td>\n",
              "      <td>NaN</td>\n",
              "      <td>NaN</td>\n",
              "      <td>gp:AOqpTOHmNDYh9J4BlnP75djwUvN1OqM1LO9ZFRZ6oNM...</td>\n",
              "      <td>Renata Godoi mendes</td>\n",
              "      <td>https://play-lh.googleusercontent.com/a-/AOh14...</td>\n",
              "      <td>sensacional</td>\n",
              "      <td>5</td>\n",
              "      <td>0</td>\n",
              "      <td>7.30.2.0</td>\n",
              "      <td>2020-10-30 08:15:56</td>\n",
              "      <td>NaN</td>\n",
              "      <td>NaT</td>\n",
              "    </tr>\n",
              "  </tbody>\n",
              "</table>\n",
              "</div>"
            ],
            "text/plain": [
              "  Responsável  Natureza Classificação  ...                date reply replyDate\n",
              "0      Weuber  Negocial        Elogio  ... 2020-10-30 08:16:49   NaN       NaT\n",
              "1  Automático   Opinião        Elogio  ... 2020-10-30 08:16:27   NaN       NaT\n",
              "2  Automático   Opinião        Elogio  ... 2020-10-30 08:15:56   NaN       NaT\n",
              "\n",
              "[3 rows x 22 columns]"
            ]
          },
          "metadata": {
            "tags": []
          },
          "execution_count": 155
        }
      ]
    },
    {
      "cell_type": "markdown",
      "metadata": {
        "id": "5736hOayAWLW"
      },
      "source": [
        "# Salvando o arquivo em Excel"
      ]
    },
    {
      "cell_type": "code",
      "metadata": {
        "id": "9Xo6TkwUAWLW"
      },
      "source": [
        "writer = pd.ExcelWriter(\"predicao_gerada-unigramas-semDesvio_produtos_servicos.xlsx\")\n",
        "dataset.to_excel(writer, index=False)\n",
        "writer.save()"
      ],
      "execution_count": 156,
      "outputs": []
    }
  ]
}