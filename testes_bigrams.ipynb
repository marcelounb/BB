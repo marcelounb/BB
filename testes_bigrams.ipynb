{
  "nbformat": 4,
  "nbformat_minor": 0,
  "metadata": {
    "colab": {
      "name": "testes bigrams.ipynb",
      "provenance": [],
      "collapsed_sections": [],
      "authorship_tag": "ABX9TyM8YTLSmOAEpiUE5EubhYn0",
      "include_colab_link": true
    },
    "kernelspec": {
      "name": "python3",
      "display_name": "Python 3"
    }
  },
  "cells": [
    {
      "cell_type": "markdown",
      "metadata": {
        "id": "view-in-github",
        "colab_type": "text"
      },
      "source": [
        "<a href=\"https://colab.research.google.com/github/marcelounb/BB/blob/master/testes_bigrams.ipynb\" target=\"_parent\"><img src=\"https://colab.research.google.com/assets/colab-badge.svg\" alt=\"Open In Colab\"/></a>"
      ]
    },
    {
      "cell_type": "code",
      "metadata": {
        "id": "9GPE0G8M0yYi"
      },
      "source": [
        "import pandas as pd\n",
        "import seaborn as sns\n",
        "import matplotlib.pyplot as plt\n",
        "sns.set()\n",
        "\n",
        "import pprint as pp\n",
        "from joblib import dump\n",
        "from keras.preprocessing import text"
      ],
      "execution_count": 161,
      "outputs": []
    },
    {
      "cell_type": "code",
      "metadata": {
        "id": "sNaeRwM_1_NJ",
        "outputId": "9d57259f-e7ac-41a7-9011-7fc2ae187df6",
        "colab": {
          "base_uri": "https://localhost:8080/",
          "height": 195
        }
      },
      "source": [
        "data = {'rating':[5.0, 5.0, 2.0, 5.0, 4.0, 4.0, 5.0, 5.0, 1.0, 2.0, 1.0, 2.0, 1.0], 'review_text':['This all-Spanish handbook for parents with new texts for the dumb students learn well', \n",
        "                                                                     'not Excellent but ok',\n",
        "                                                                     'Do you giggle uncontrollably when poking corpses on the river margin',\n",
        "                                                                     'I think great',\n",
        "                                                                     'I cannot speak to the literary points in the',\n",
        "                                                                     'I liked it',\n",
        "                                                                     'I have read sevral of McCarthys other novels and they are all shit',\n",
        "                                                                     'bullshit',\n",
        "                                                                     'If you are considering buying the Peter Smith, think again. This is absolutely garbage',\n",
        "                                                                     'What I didnt realise when I ordered this is the time',\n",
        "                                                                     'WTF',\n",
        "                                                                     'not Excellent', \n",
        "                                                                     'bullshit from horse'\n",
        "                                                                     ]}\n",
        "df = pd.DataFrame(data)\n",
        "df.head(5)"
      ],
      "execution_count": 162,
      "outputs": [
        {
          "output_type": "execute_result",
          "data": {
            "text/html": [
              "<div>\n",
              "<style scoped>\n",
              "    .dataframe tbody tr th:only-of-type {\n",
              "        vertical-align: middle;\n",
              "    }\n",
              "\n",
              "    .dataframe tbody tr th {\n",
              "        vertical-align: top;\n",
              "    }\n",
              "\n",
              "    .dataframe thead th {\n",
              "        text-align: right;\n",
              "    }\n",
              "</style>\n",
              "<table border=\"1\" class=\"dataframe\">\n",
              "  <thead>\n",
              "    <tr style=\"text-align: right;\">\n",
              "      <th></th>\n",
              "      <th>rating</th>\n",
              "      <th>review_text</th>\n",
              "    </tr>\n",
              "  </thead>\n",
              "  <tbody>\n",
              "    <tr>\n",
              "      <th>0</th>\n",
              "      <td>5.0</td>\n",
              "      <td>This all-Spanish handbook for parents with new...</td>\n",
              "    </tr>\n",
              "    <tr>\n",
              "      <th>1</th>\n",
              "      <td>5.0</td>\n",
              "      <td>not Excellent but ok</td>\n",
              "    </tr>\n",
              "    <tr>\n",
              "      <th>2</th>\n",
              "      <td>2.0</td>\n",
              "      <td>Do you giggle uncontrollably when poking corps...</td>\n",
              "    </tr>\n",
              "    <tr>\n",
              "      <th>3</th>\n",
              "      <td>5.0</td>\n",
              "      <td>I think great</td>\n",
              "    </tr>\n",
              "    <tr>\n",
              "      <th>4</th>\n",
              "      <td>4.0</td>\n",
              "      <td>I cannot speak to the literary points in the</td>\n",
              "    </tr>\n",
              "  </tbody>\n",
              "</table>\n",
              "</div>"
            ],
            "text/plain": [
              "   rating                                        review_text\n",
              "0     5.0  This all-Spanish handbook for parents with new...\n",
              "1     5.0                               not Excellent but ok\n",
              "2     2.0  Do you giggle uncontrollably when poking corps...\n",
              "3     5.0                                      I think great\n",
              "4     4.0       I cannot speak to the literary points in the"
            ]
          },
          "metadata": {
            "tags": []
          },
          "execution_count": 162
        }
      ]
    },
    {
      "cell_type": "code",
      "metadata": {
        "id": "61Ox-EBQ2MFe",
        "outputId": "0723c32f-9bd8-4c4b-8e4a-d80eee67ed9c",
        "colab": {
          "base_uri": "https://localhost:8080/"
        }
      },
      "source": [
        "sample = df[df['rating'] == 2].sample(1)\n",
        "pp.pprint(sample['review_text'].values[0])\n",
        "print('-'*100)\n",
        "print('Number of words: %d' % sample['review_text'].str.split().apply(len))\n",
        "print('Rating: %d stars' % sample['rating'].values[0])"
      ],
      "execution_count": 163,
      "outputs": [
        {
          "output_type": "stream",
          "text": [
            "'not Excellent'\n",
            "----------------------------------------------------------------------------------------------------\n",
            "Number of words: 2\n",
            "Rating: 2 stars\n"
          ],
          "name": "stdout"
        }
      ]
    },
    {
      "cell_type": "code",
      "metadata": {
        "id": "g3gC96Ny3w48",
        "outputId": "bc2d4884-7a5a-42bc-88dd-5ba71a6321bd",
        "colab": {
          "base_uri": "https://localhost:8080/",
          "height": 301
        }
      },
      "source": [
        "\n",
        "def plot_rating_dist(df, x='rating', title='Rating distribution', xlabel='stars', ylim=6):\n",
        "    ax = sns.countplot(x=x, data=df)\n",
        "    ax.set_title(title)\n",
        "    ax.set_xlabel(xlabel)\n",
        "    for rect in ax.containers[0]:\n",
        "        tw = rect.get_width() / 2.\n",
        "        tx = rect.get_x() + tw\n",
        "        height = rect.get_height()\n",
        "        ty = 1.05 * height\n",
        "        ax.text(tx, ty, height, ha='center')\n",
        "\n",
        "    ax.set_ylim(0, ylim)\n",
        "    \n",
        "plot_rating_dist(df)"
      ],
      "execution_count": 164,
      "outputs": [
        {
          "output_type": "display_data",
          "data": {
            "image/png": "[encoded data removed]",
            "text/plain": [
              "<Figure size 432x288 with 1 Axes>"
            ]
          },
          "metadata": {
            "tags": []
          }
        }
      ]
    },
    {
      "cell_type": "code",
      "metadata": {
        "id": "ef3sK_Te5I8i"
      },
      "source": [
        "\n",
        "def binary_labels(df, min_set=None):\n",
        " \n",
        "    # Cleanning data set\n",
        "    count = df['review_text'].str.len()\n",
        "    df = df[(count > 3) | (count < 4000)].copy()\n",
        "    \n",
        "    # Equilize dataset sample size\n",
        "    if min_set is None:\n",
        "        min_set = df['rating'].value_counts().min() * 4\n",
        "    \n",
        "    # Split rating 1.0, 2.0 as negative reviews\n",
        "    rating_1 = df[df['rating'] == 1.0].iloc[:min_set // 4]\n",
        "    rating_2 = df[df['rating'] == 2.0].iloc[:min_set // 4]\n",
        "    negative_reviews = pd.concat([rating_1, rating_2])\n",
        "    negative_reviews['label'] = 0\n",
        "    \n",
        "    # Split rating 4.0, 5.0 as positive reviews\n",
        "    rating_4 = df[df['rating'] == 4.0].iloc[:min_set // 4]\n",
        "    rating_5 = df[df['rating'] == 5.0].iloc[:min_set // 4]\n",
        "    positive_reviews = pd.concat([rating_4, rating_5])\n",
        "    positive_reviews['label'] = 1\n",
        "    \n",
        "    dataset = pd.concat([negative_reviews, positive_reviews])\n",
        "    dataset.sort_index(inplace=True)\n",
        "    \n",
        "    return dataset\n",
        "\n",
        "dataset = binary_labels(df,  min_set=10)"
      ],
      "execution_count": 165,
      "outputs": []
    },
    {
      "cell_type": "code",
      "metadata": {
        "id": "Ga8Rt-Ex5YiO",
        "outputId": "1122d564-dfb5-4c6e-9a94-901380766bf9",
        "colab": {
          "base_uri": "https://localhost:8080/",
          "height": 301
        }
      },
      "source": [
        "plot_rating_dist(dataset, ylim=10)"
      ],
      "execution_count": 166,
      "outputs": [
        {
          "output_type": "display_data",
          "data": {
            "image/png": "[encoded data removed]",
            "text/plain": [
              "<Figure size 432x288 with 1 Axes>"
            ]
          },
          "metadata": {
            "tags": []
          }
        }
      ]
    },
    {
      "cell_type": "code",
      "metadata": {
        "id": "rI3NdGsC5ckl",
        "outputId": "e4ba6605-9780-4b9a-d31f-fafa7a1d2eea",
        "colab": {
          "base_uri": "https://localhost:8080/",
          "height": 334
        }
      },
      "source": [
        "texts = dataset['review_text'].astype(str)\n",
        "labels = dataset['label'].astype('int32')\n",
        "\n",
        "print('texts size: ', texts.size)\n",
        "print('labels size: ', labels.size)\n",
        "\n",
        "plot_rating_dist(pd.concat([texts, labels], axis=1), x='label', title='Equalized data set', xlabel='0-negative/1-positive', ylim=6)"
      ],
      "execution_count": 167,
      "outputs": [
        {
          "output_type": "stream",
          "text": [
            "texts size:  8\n",
            "labels size:  8\n"
          ],
          "name": "stdout"
        },
        {
          "output_type": "display_data",
          "data": {
            "image/png": "[encoded data removed]",
            "text/plain": [
              "<Figure size 432x288 with 1 Axes>"
            ]
          },
          "metadata": {
            "tags": []
          }
        }
      ]
    },
    {
      "cell_type": "code",
      "metadata": {
        "id": "xO_EnEfV5zpO"
      },
      "source": [
        "from keras.preprocessing.sequence import pad_sequences\n",
        "import numpy as np"
      ],
      "execution_count": 168,
      "outputs": []
    },
    {
      "cell_type": "code",
      "metadata": {
        "id": "CyhQqEtX6ysJ"
      },
      "source": [
        "MAX_NUM_FEATURES = 20\n",
        "NGRAN_RANGE = 2\n",
        "MAX_SEQUENCE_LENGTH = 50\n",
        "VALIDATION_SPLIT = .1"
      ],
      "execution_count": 169,
      "outputs": []
    },
    {
      "cell_type": "code",
      "metadata": {
        "id": "59TOcxU-67Ig",
        "outputId": "ab4c5e59-68ad-4395-e68f-277dcf0f7f89",
        "colab": {
          "base_uri": "https://localhost:8080/"
        }
      },
      "source": [
        "# from keras.preprocessing import text\n",
        "\n",
        "tokenizer = text.Tokenizer(num_words=MAX_NUM_FEATURES, oov_token='<OOV>')\n",
        "tokenizer.fit_on_texts(texts)\n",
        "sequences = tokenizer.texts_to_sequences(texts)\n",
        "word_index = tokenizer.word_index\n",
        "\n",
        "print('Found %s unique tokens.' % len(word_index))"
      ],
      "execution_count": 170,
      "outputs": [
        {
          "output_type": "stream",
          "text": [
            "Found 55 unique tokens.\n"
          ],
          "name": "stdout"
        }
      ]
    },
    {
      "cell_type": "code",
      "metadata": {
        "id": "dhaff6DrvNHg",
        "outputId": "32fac3de-584a-4f06-a08a-23de4340101f",
        "colab": {
          "base_uri": "https://localhost:8080/"
        }
      },
      "source": [
        "word_index.get('<OOV>')"
      ],
      "execution_count": 171,
      "outputs": [
        {
          "output_type": "execute_result",
          "data": {
            "text/plain": [
              "1"
            ]
          },
          "metadata": {
            "tags": []
          },
          "execution_count": 171
        }
      ]
    },
    {
      "cell_type": "code",
      "metadata": {
        "id": "FMT6p86d7Bmk",
        "outputId": "9a0a8bf1-73a5-4eb0-9907-2c5aef19ba3c",
        "colab": {
          "base_uri": "https://localhost:8080/"
        }
      },
      "source": [
        "print(texts[2])\n",
        "pp.pprint(sequences[2], width=200, compact=True)"
      ],
      "execution_count": 172,
      "outputs": [
        {
          "output_type": "stream",
          "text": [
            "Do you giggle uncontrollably when poking corpses on the river margin\n",
            "[1, 6, 1, 1, 7, 1, 1, 1, 2, 1, 1]\n"
          ],
          "name": "stdout"
        }
      ]
    },
    {
      "cell_type": "code",
      "metadata": {
        "id": "rI1RIvQg9U2X",
        "outputId": "42d2ea5d-81d8-4544-b893-87b052930624",
        "colab": {
          "base_uri": "https://localhost:8080/"
        }
      },
      "source": [
        "print(sequences)"
      ],
      "execution_count": 173,
      "outputs": [
        {
          "output_type": "stream",
          "text": [
            "[[4, 9, 10, 11, 5, 12, 13, 14, 15, 5, 2, 16, 17, 18, 19], [1, 1, 1, 1], [1, 6, 1, 1, 7, 1, 1, 1, 2, 1, 1], [3, 1, 1, 1, 2, 1, 1, 1, 2], [3, 1, 1], [1, 6, 1, 1, 1, 2, 1, 1, 1, 1, 4, 8, 1, 1], [1, 3, 1, 1, 7, 3, 1, 4, 8, 2, 1], [1]]\n"
          ],
          "name": "stdout"
        }
      ]
    },
    {
      "cell_type": "code",
      "metadata": {
        "id": "fMkISik67yAe",
        "outputId": "71fff446-c1d8-4e98-c3c6-80ba71518cec",
        "colab": {
          "base_uri": "https://localhost:8080/"
        }
      },
      "source": [
        "print(len(sequences), 'sequences')\n",
        "print('Average train sequence length: %d' % np.mean(list(map(len, sequences))))"
      ],
      "execution_count": 174,
      "outputs": [
        {
          "output_type": "stream",
          "text": [
            "8 sequences\n",
            "Average train sequence length: 8\n"
          ],
          "name": "stdout"
        }
      ]
    },
    {
      "cell_type": "code",
      "metadata": {
        "id": "b9eOhwjB8CsD"
      },
      "source": [
        "def create_ngram_set(input_list, ngram_value=2):\n",
        "    \"\"\"\n",
        "    Extract a set of n-grams from a list of integers.\n",
        "    >>> create_ngram_set([1, 4, 9, 4, 1, 4], ngram_value=2)\n",
        "    {(4, 9), (4, 1), (1, 4), (9, 4)}\n",
        "    >>> create_ngram_set([1, 4, 9, 4, 1, 4], ngram_value=3)\n",
        "    [(1, 4, 9), (4, 9, 4), (9, 4, 1), (4, 1, 4)]\n",
        "    \"\"\"\n",
        "    return set(zip(*[input_list[i:] for i in range(ngram_value)]))\n",
        "\n",
        "\n",
        "def add_ngram(sequences, token_indice, ngram_range=2):\n",
        "    \"\"\"\n",
        "    Augment the input list of list (sequences) by appending n-grams values.\n",
        "    Example: adding bi-gram\n",
        "    >>> sequences = [[1, 3, 4, 5], [1, 3, 7, 9, 2]]\n",
        "    >>> token_indice = {(1, 3): 1337, (9, 2): 42, (4, 5): 2017}\n",
        "    >>> add_ngram(sequences, token_indice, ngram_range=2)\n",
        "    [[1, 3, 4, 5, 1337, 2017], [1, 3, 7, 9, 2, 1337, 42]]\n",
        "    Example: adding tri-gram\n",
        "    >>> sequences = [[1, 3, 4, 5], [1, 3, 7, 9, 2]]\n",
        "    >>> token_indice = {(1, 3): 1337, (9, 2): 42, (4, 5): 2017, (7, 9, 2): 2018}\n",
        "    >>> add_ngram(sequences, token_indice, ngram_range=3)\n",
        "    [[1, 3, 4, 5, 1337, 2017], [1, 3, 7, 9, 2, 1337, 42, 2018]]\n",
        "    \"\"\"\n",
        "    new_sequences = []\n",
        "    for input_list in sequences:\n",
        "        new_list = input_list[:]\n",
        "        for ngram_value in range(2, ngram_range + 1):\n",
        "            for i in range(len(new_list) - ngram_value + 1):\n",
        "                ngram = tuple(new_list[i:i + ngram_value])\n",
        "                if ngram in token_indice:\n",
        "                    new_list.append(token_indice[ngram])\n",
        "        new_sequences.append(new_list)\n",
        "\n",
        "    return new_sequences"
      ],
      "execution_count": 175,
      "outputs": []
    },
    {
      "cell_type": "code",
      "metadata": {
        "id": "CW5q1_sA9zFs",
        "outputId": "05c92958-d70d-48c6-d95f-3910dafe9ffe",
        "colab": {
          "base_uri": "https://localhost:8080/"
        }
      },
      "source": [
        "len(sequences)"
      ],
      "execution_count": 176,
      "outputs": [
        {
          "output_type": "execute_result",
          "data": {
            "text/plain": [
              "8"
            ]
          },
          "metadata": {
            "tags": []
          },
          "execution_count": 176
        }
      ]
    },
    {
      "cell_type": "code",
      "metadata": {
        "id": "zJi82PWn_zyC",
        "outputId": "1b46c9a4-84bd-4442-e4c4-1b818f932d2a",
        "colab": {
          "base_uri": "https://localhost:8080/"
        }
      },
      "source": [
        "NGRAN_RANGE"
      ],
      "execution_count": 177,
      "outputs": [
        {
          "output_type": "execute_result",
          "data": {
            "text/plain": [
              "2"
            ]
          },
          "metadata": {
            "tags": []
          },
          "execution_count": 177
        }
      ]
    },
    {
      "cell_type": "code",
      "metadata": {
        "id": "vq-_EaKVf_TS",
        "outputId": "541f826f-95c5-45b8-fddd-6be013c23ad4",
        "colab": {
          "base_uri": "https://localhost:8080/"
        }
      },
      "source": [
        "sequences[4]"
      ],
      "execution_count": 178,
      "outputs": [
        {
          "output_type": "execute_result",
          "data": {
            "text/plain": [
              "[3, 1, 1]"
            ]
          },
          "metadata": {
            "tags": []
          },
          "execution_count": 178
        }
      ]
    },
    {
      "cell_type": "code",
      "metadata": {
        "id": "PwXpSQXw-i60",
        "outputId": "a26fd43b-5c3c-489a-9a8b-52687e0c5789",
        "colab": {
          "base_uri": "https://localhost:8080/"
        }
      },
      "source": [
        "if NGRAN_RANGE > 1:\n",
        "    ngram_set = set()\n",
        "    for input_list in sequences:\n",
        "        for i in range(2, NGRAN_RANGE + 1):\n",
        "            set_of_ngram = create_ngram_set(input_list, ngram_value=i)\n",
        "            ngram_set.update(set_of_ngram)\n",
        "    \n",
        "    # Dictionary mapping n-gram token to a unique integer.\n",
        "    # Integer values are greater than max_features in order\n",
        "    # to avoid collision with existing features.        \n",
        "    token_indice = {v: k + MAX_NUM_FEATURES for k, v in enumerate(ngram_set)}\n",
        "    indice_token = {token_indice[k]: k for k in token_indice}\n",
        "    \n",
        "    # Update MAX_NUM_FEATURES\n",
        "    MAX_NUM_FEATURES = np.max(list(indice_token.keys())) + 1\n",
        "    print('Update MAX_NUM_FEATURES %d' % MAX_NUM_FEATURES)\n",
        "    \n",
        "    # Augument sequences with the new features\n",
        "    sequences = add_ngram(sequences, token_indice, NGRAN_RANGE)\n",
        "    print(len(sequences), 'sequences')\n",
        "    print('Average train sequence length: %d' % np.mean(list(map(len, sequences))))"
      ],
      "execution_count": 179,
      "outputs": [
        {
          "output_type": "stream",
          "text": [
            "Update MAX_NUM_FEATURES 48\n",
            "8 sequences\n",
            "Average train sequence length: 16\n"
          ],
          "name": "stdout"
        }
      ]
    },
    {
      "cell_type": "code",
      "metadata": {
        "id": "xpNIqvWDfO-b",
        "outputId": "d357e51a-dade-472a-8414-cf7ff224676d",
        "colab": {
          "base_uri": "https://localhost:8080/"
        }
      },
      "source": [
        "sequences[4]"
      ],
      "execution_count": 180,
      "outputs": [
        {
          "output_type": "execute_result",
          "data": {
            "text/plain": [
              "[3, 1, 1, 43, 47]"
            ]
          },
          "metadata": {
            "tags": []
          },
          "execution_count": 180
        }
      ]
    },
    {
      "cell_type": "code",
      "metadata": {
        "id": "zgeofGXzuDzv",
        "outputId": "7719d6ef-663d-4e13-e506-9dbb56ceefc2",
        "colab": {
          "base_uri": "https://localhost:8080/"
        }
      },
      "source": [
        "indice_token"
      ],
      "execution_count": 181,
      "outputs": [
        {
          "output_type": "execute_result",
          "data": {
            "text/plain": [
              "{20: (2, 16),\n",
              " 21: (7, 3),\n",
              " 22: (1, 3),\n",
              " 23: (10, 11),\n",
              " 24: (8, 2),\n",
              " 25: (7, 1),\n",
              " 26: (4, 8),\n",
              " 27: (2, 1),\n",
              " 28: (1, 4),\n",
              " 29: (9, 10),\n",
              " 30: (14, 15),\n",
              " 31: (18, 19),\n",
              " 32: (1, 6),\n",
              " 33: (15, 5),\n",
              " 34: (16, 17),\n",
              " 35: (17, 18),\n",
              " 36: (1, 2),\n",
              " 37: (4, 9),\n",
              " 38: (11, 5),\n",
              " 39: (12, 13),\n",
              " 40: (13, 14),\n",
              " 41: (5, 12),\n",
              " 42: (6, 1),\n",
              " 43: (3, 1),\n",
              " 44: (8, 1),\n",
              " 45: (1, 7),\n",
              " 46: (5, 2),\n",
              " 47: (1, 1)}"
            ]
          },
          "metadata": {
            "tags": []
          },
          "execution_count": 181
        }
      ]
    },
    {
      "cell_type": "code",
      "metadata": {
        "id": "srJOzm33peYC",
        "outputId": "a5d2f8c9-025a-46af-a540-b96791c3dbfc",
        "colab": {
          "base_uri": "https://localhost:8080/"
        }
      },
      "source": [
        "indice_token.get(25)"
      ],
      "execution_count": 182,
      "outputs": [
        {
          "output_type": "execute_result",
          "data": {
            "text/plain": [
              "(7, 1)"
            ]
          },
          "metadata": {
            "tags": []
          },
          "execution_count": 182
        }
      ]
    },
    {
      "cell_type": "code",
      "metadata": {
        "id": "RK1YbfsA0Uwq"
      },
      "source": [
        "new_reviews = ['The most handbook for parents with a', '👍', 'not excellent, but good', 'I cannot speak at the literary points over there', 'this time from horse']\n",
        "new_sequences = tokenizer.texts_to_sequences(new_reviews)"
      ],
      "execution_count": 183,
      "outputs": []
    },
    {
      "cell_type": "code",
      "metadata": {
        "id": "JpcqxK-h1XQ2",
        "outputId": "179455c0-2d33-455b-db76-dd11eebee58b",
        "colab": {
          "base_uri": "https://localhost:8080/"
        }
      },
      "source": [
        "new_sequences  # 39: (12, 13)"
      ],
      "execution_count": 184,
      "outputs": [
        {
          "output_type": "execute_result",
          "data": {
            "text/plain": [
              "[[2, 1, 11, 5, 12, 13, 1],\n",
              " [1],\n",
              " [1, 1, 1, 1],\n",
              " [3, 1, 1, 1, 2, 1, 1, 1, 1],\n",
              " [4, 1, 1, 1]]"
            ]
          },
          "metadata": {
            "tags": []
          },
          "execution_count": 184
        }
      ]
    },
    {
      "cell_type": "code",
      "metadata": {
        "id": "qdieZoPi3S-9",
        "outputId": "dce87068-54d7-4837-a9af-e954e985db54",
        "colab": {
          "base_uri": "https://localhost:8080/"
        }
      },
      "source": [
        "temp_list_final = []\n",
        "for item in new_sequences:\n",
        "  # print(item)\n",
        "  temp_list, temp_list2 = [], []\n",
        "  for each in item:\n",
        "    # print('--', each)\n",
        "    if len(temp_list)==0:\n",
        "      primeiro_item = each  # Primeira vez que passa\n",
        "      temp_list.append(each)\n",
        "    else:\n",
        "      tupla = (primeiro_item, each)\n",
        "      if token_indice.get(tupla) is not None:\n",
        "        temp_list2.append(token_indice.get(tupla))\n",
        "      temp_list.append(each)\n",
        "      primeiro_item = each\n",
        "  temp_list = temp_list + temp_list2\n",
        "  temp_list_final.append(temp_list)\n",
        "  # print(temp_list)\n",
        "print(temp_list_final)"
      ],
      "execution_count": 209,
      "outputs": [
        {
          "output_type": "stream",
          "text": [
            "[[2, 1, 11, 5, 12, 13, 1, 27, 38, 41, 39], [1], [1, 1, 1, 1, 47, 47, 47], [3, 1, 1, 1, 2, 1, 1, 1, 1, 43, 47, 47, 36, 27, 47, 47, 47], [4, 1, 1, 1, 47, 47]]\n"
          ],
          "name": "stdout"
        }
      ]
    },
    {
      "cell_type": "code",
      "metadata": {
        "id": "pNVHXfAe89Cv"
      },
      "source": [
        "listao = [1]\n",
        "if len(listao)==0:\n",
        "  print('oidod')"
      ],
      "execution_count": 203,
      "outputs": []
    },
    {
      "cell_type": "code",
      "metadata": {
        "id": "LrYnvhRL-s4A",
        "outputId": "102e795d-8e05-486f-89cd-893194444885",
        "colab": {
          "base_uri": "https://localhost:8080/"
        }
      },
      "source": [
        "type(lista)"
      ],
      "execution_count": 188,
      "outputs": [
        {
          "output_type": "execute_result",
          "data": {
            "text/plain": [
              "tuple"
            ]
          },
          "metadata": {
            "tags": []
          },
          "execution_count": 188
        }
      ]
    },
    {
      "cell_type": "code",
      "metadata": {
        "id": "gw3FCQYw1YZ8"
      },
      "source": [
        "indice_token.get"
      ],
      "execution_count": null,
      "outputs": []
    },
    {
      "cell_type": "code",
      "metadata": {
        "id": "yQYzcpkc_tdp"
      },
      "source": [
        "data = pad_sequences(sequences, maxlen=MAX_SEQUENCE_LENGTH)"
      ],
      "execution_count": 50,
      "outputs": []
    },
    {
      "cell_type": "code",
      "metadata": {
        "id": "a4REvfDee8eo",
        "outputId": "049a5487-fd8a-48f1-8935-250e8cf4d98e",
        "colab": {
          "base_uri": "https://localhost:8080/"
        }
      },
      "source": [
        "pp.pprint(data[4].tolist(), width=200, compact=True)"
      ],
      "execution_count": 51,
      "outputs": [
        {
          "output_type": "stream",
          "text": [
            "[0, 0, 0, 0, 0, 0, 0, 0, 0, 0, 0, 0, 0, 0, 0, 0, 0, 0, 0, 0, 0, 0, 0, 0, 0, 0, 0, 0, 0, 0, 0, 0, 0, 0, 0, 2, 37, 38, 101, 77]\n"
          ],
          "name": "stdout"
        }
      ]
    },
    {
      "cell_type": "code",
      "metadata": {
        "id": "Maa2vczbe_Kp"
      },
      "source": [
        "# Split the date into train and validation sets\n",
        "num_validation_samples = int(VALIDATION_SPLIT * data.shape[0])\n",
        "\n",
        "X_train = data[:-num_validation_samples]\n",
        "y_train = labels[:-num_validation_samples]\n",
        "X_val = data[-num_validation_samples:]\n",
        "y_val = labels[-num_validation_samples:]"
      ],
      "execution_count": 52,
      "outputs": []
    },
    {
      "cell_type": "code",
      "metadata": {
        "id": "mWbbLKOkyqsR",
        "outputId": "50713e06-3eb8-4252-e13f-6541ac73e4dc",
        "colab": {
          "base_uri": "https://localhost:8080/"
        }
      },
      "source": [
        "print('X_train shape:', X_train.shape)\n",
        "print('X_val shape:', X_val.shape)\n",
        "print('y_train shape:', y_train.shape, 'type', y_train.dtype)\n",
        "print('y_val shape:', y_val.shape, 'type', y_val.dtype)"
      ],
      "execution_count": 53,
      "outputs": [
        {
          "output_type": "stream",
          "text": [
            "X_train shape: (0, 40)\n",
            "X_val shape: (8, 40)\n",
            "y_train shape: (0,) type int32\n",
            "y_val shape: (8,) type int32\n"
          ],
          "name": "stdout"
        }
      ]
    },
    {
      "cell_type": "markdown",
      "metadata": {
        "id": "JueFYFy0y1_6"
      },
      "source": [
        " Fasttext Model"
      ]
    },
    {
      "cell_type": "code",
      "metadata": {
        "id": "dIfSTc9fys6y"
      },
      "source": [
        "from keras.models import Sequential\n",
        "from keras.layers import Embedding, GlobalAveragePooling1D, Dense\n",
        "from keras.callbacks import ModelCheckpoint"
      ],
      "execution_count": 54,
      "outputs": []
    },
    {
      "cell_type": "code",
      "metadata": {
        "id": "R1s7k6yiyxR2"
      },
      "source": [
        "def fasttext_model():\n",
        "    model = Sequential()\n",
        "    model.add(Embedding(input_dim=MAX_NUM_FEATURES,\n",
        "                        output_dim=100,\n",
        "                        input_length=MAX_SEQUENCE_LENGTH))\n",
        "    model.add(GlobalAveragePooling1D())\n",
        "    model.add(Dense(1, activation='sigmoid'))\n",
        "    return model"
      ],
      "execution_count": 55,
      "outputs": []
    },
    {
      "cell_type": "code",
      "metadata": {
        "id": "WthxjaL-zBgg",
        "outputId": "9c96b3eb-f6fc-4d9e-d551-d93d8aa5649d",
        "colab": {
          "base_uri": "https://localhost:8080/"
        }
      },
      "source": [
        "model = fasttext_model()\n",
        "model.summary()"
      ],
      "execution_count": 56,
      "outputs": [
        {
          "output_type": "stream",
          "text": [
            "Model: \"sequential_1\"\n",
            "_________________________________________________________________\n",
            "Layer (type)                 Output Shape              Param #   \n",
            "=================================================================\n",
            "embedding_1 (Embedding)      (None, 40, 100)           10500     \n",
            "_________________________________________________________________\n",
            "global_average_pooling1d_1 ( (None, 100)               0         \n",
            "_________________________________________________________________\n",
            "dense_1 (Dense)              (None, 1)                 101       \n",
            "=================================================================\n",
            "Total params: 10,601\n",
            "Trainable params: 10,601\n",
            "Non-trainable params: 0\n",
            "_________________________________________________________________\n"
          ],
          "name": "stdout"
        }
      ]
    },
    {
      "cell_type": "code",
      "metadata": {
        "id": "17hGjCHtzEAg"
      },
      "source": [
        "model.compile(loss='binary_crossentropy', optimizer='adam', metrics=['accuracy'])"
      ],
      "execution_count": 57,
      "outputs": []
    },
    {
      "cell_type": "code",
      "metadata": {
        "id": "QYHEykapzGjL",
        "outputId": "df917f12-ec62-4d97-b439-d04b4f9d0713",
        "colab": {
          "base_uri": "https://localhost:8080/",
          "height": 337
        }
      },
      "source": [
        "history = model.fit(X_train, y_train, epochs=3, validation_data=(X_val, y_val))"
      ],
      "execution_count": 58,
      "outputs": [
        {
          "output_type": "stream",
          "text": [
            "Epoch 1/3\n"
          ],
          "name": "stdout"
        },
        {
          "output_type": "error",
          "ename": "UnboundLocalError",
          "evalue": "ignored",
          "traceback": [
            "\u001b[0;31m---------------------------------------------------------------------------\u001b[0m",
            "\u001b[0;31mUnboundLocalError\u001b[0m                         Traceback (most recent call last)",
            "\u001b[0;32m<ipython-input-58-b16db60b188e>\u001b[0m in \u001b[0;36m<module>\u001b[0;34m()\u001b[0m\n\u001b[0;32m----> 1\u001b[0;31m \u001b[0mhistory\u001b[0m \u001b[0;34m=\u001b[0m \u001b[0mmodel\u001b[0m\u001b[0;34m.\u001b[0m\u001b[0mfit\u001b[0m\u001b[0;34m(\u001b[0m\u001b[0mX_train\u001b[0m\u001b[0;34m,\u001b[0m \u001b[0my_train\u001b[0m\u001b[0;34m,\u001b[0m \u001b[0mepochs\u001b[0m\u001b[0;34m=\u001b[0m\u001b[0;36m3\u001b[0m\u001b[0;34m,\u001b[0m \u001b[0mvalidation_data\u001b[0m\u001b[0;34m=\u001b[0m\u001b[0;34m(\u001b[0m\u001b[0mX_val\u001b[0m\u001b[0;34m,\u001b[0m \u001b[0my_val\u001b[0m\u001b[0;34m)\u001b[0m\u001b[0;34m)\u001b[0m\u001b[0;34m\u001b[0m\u001b[0;34m\u001b[0m\u001b[0m\n\u001b[0m",
            "\u001b[0;32m/usr/local/lib/python3.6/dist-packages/tensorflow/python/keras/engine/training.py\u001b[0m in \u001b[0;36m_method_wrapper\u001b[0;34m(self, *args, **kwargs)\u001b[0m\n\u001b[1;32m    106\u001b[0m   \u001b[0;32mdef\u001b[0m \u001b[0m_method_wrapper\u001b[0m\u001b[0;34m(\u001b[0m\u001b[0mself\u001b[0m\u001b[0;34m,\u001b[0m \u001b[0;34m*\u001b[0m\u001b[0margs\u001b[0m\u001b[0;34m,\u001b[0m \u001b[0;34m**\u001b[0m\u001b[0mkwargs\u001b[0m\u001b[0;34m)\u001b[0m\u001b[0;34m:\u001b[0m\u001b[0;34m\u001b[0m\u001b[0;34m\u001b[0m\u001b[0m\n\u001b[1;32m    107\u001b[0m     \u001b[0;32mif\u001b[0m \u001b[0;32mnot\u001b[0m \u001b[0mself\u001b[0m\u001b[0;34m.\u001b[0m\u001b[0m_in_multi_worker_mode\u001b[0m\u001b[0;34m(\u001b[0m\u001b[0;34m)\u001b[0m\u001b[0;34m:\u001b[0m  \u001b[0;31m# pylint: disable=protected-access\u001b[0m\u001b[0;34m\u001b[0m\u001b[0;34m\u001b[0m\u001b[0m\n\u001b[0;32m--> 108\u001b[0;31m       \u001b[0;32mreturn\u001b[0m \u001b[0mmethod\u001b[0m\u001b[0;34m(\u001b[0m\u001b[0mself\u001b[0m\u001b[0;34m,\u001b[0m \u001b[0;34m*\u001b[0m\u001b[0margs\u001b[0m\u001b[0;34m,\u001b[0m \u001b[0;34m**\u001b[0m\u001b[0mkwargs\u001b[0m\u001b[0;34m)\u001b[0m\u001b[0;34m\u001b[0m\u001b[0;34m\u001b[0m\u001b[0m\n\u001b[0m\u001b[1;32m    109\u001b[0m \u001b[0;34m\u001b[0m\u001b[0m\n\u001b[1;32m    110\u001b[0m     \u001b[0;31m# Running inside `run_distribute_coordinator` already.\u001b[0m\u001b[0;34m\u001b[0m\u001b[0;34m\u001b[0m\u001b[0;34m\u001b[0m\u001b[0m\n",
            "\u001b[0;32m/usr/local/lib/python3.6/dist-packages/tensorflow/python/keras/engine/training.py\u001b[0m in \u001b[0;36mfit\u001b[0;34m(self, x, y, batch_size, epochs, verbose, callbacks, validation_split, validation_data, shuffle, class_weight, sample_weight, initial_epoch, steps_per_epoch, validation_steps, validation_batch_size, validation_freq, max_queue_size, workers, use_multiprocessing)\u001b[0m\n\u001b[1;32m   1102\u001b[0m               \u001b[0mend_step\u001b[0m \u001b[0;34m=\u001b[0m \u001b[0mstep\u001b[0m \u001b[0;34m+\u001b[0m \u001b[0mdata_handler\u001b[0m\u001b[0;34m.\u001b[0m\u001b[0mstep_increment\u001b[0m\u001b[0;34m\u001b[0m\u001b[0;34m\u001b[0m\u001b[0m\n\u001b[1;32m   1103\u001b[0m               \u001b[0mcallbacks\u001b[0m\u001b[0;34m.\u001b[0m\u001b[0mon_train_batch_end\u001b[0m\u001b[0;34m(\u001b[0m\u001b[0mend_step\u001b[0m\u001b[0;34m,\u001b[0m \u001b[0mlogs\u001b[0m\u001b[0;34m)\u001b[0m\u001b[0;34m\u001b[0m\u001b[0;34m\u001b[0m\u001b[0m\n\u001b[0;32m-> 1104\u001b[0;31m         \u001b[0mepoch_logs\u001b[0m \u001b[0;34m=\u001b[0m \u001b[0mcopy\u001b[0m\u001b[0;34m.\u001b[0m\u001b[0mcopy\u001b[0m\u001b[0;34m(\u001b[0m\u001b[0mlogs\u001b[0m\u001b[0;34m)\u001b[0m\u001b[0;34m\u001b[0m\u001b[0;34m\u001b[0m\u001b[0m\n\u001b[0m\u001b[1;32m   1105\u001b[0m \u001b[0;34m\u001b[0m\u001b[0m\n\u001b[1;32m   1106\u001b[0m         \u001b[0;31m# Run validation.\u001b[0m\u001b[0;34m\u001b[0m\u001b[0;34m\u001b[0m\u001b[0;34m\u001b[0m\u001b[0m\n",
            "\u001b[0;31mUnboundLocalError\u001b[0m: local variable 'logs' referenced before assignment"
          ]
        }
      ]
    },
    {
      "cell_type": "code",
      "metadata": {
        "id": "l5YaJO5hzIg-"
      },
      "source": [
        ""
      ],
      "execution_count": null,
      "outputs": []
    }
  ]
}